{
 "cells": [
  {
   "cell_type": "code",
   "execution_count": null,
   "metadata": {},
   "outputs": [],
   "source": [
    "%load_ext autoreload\n",
    "%autoreload 2"
   ]
  },
  {
   "cell_type": "code",
   "execution_count": 1,
   "metadata": {},
   "outputs": [
    {
     "name": "stderr",
     "output_type": "stream",
     "text": [
      "/Users/clementneo/projects/Neuron_groups/neuron_groups/venv/lib/python3.11/site-packages/tqdm/auto.py:21: TqdmWarning: IProgress not found. Please update jupyter and ipywidgets. See https://ipywidgets.readthedocs.io/en/stable/user_install.html\n",
      "  from .autonotebook import tqdm as notebook_tqdm\n"
     ]
    }
   ],
   "source": [
    "import json\n",
    "import time\n",
    "import os\n",
    "\n",
    "from src.neuron_heads import head_attribution_over_all_data\n",
    "from src.datahandlers import ActivatingDataset\n",
    "from src.utils import tuple_str_to_tuple\n",
    "from src.neuron_explain import generate_classify_prompt_dict"
   ]
  },
  {
   "cell_type": "code",
   "execution_count": 161,
   "metadata": {},
   "outputs": [
    {
     "name": "stdout",
     "output_type": "stream",
     "text": [
      "15640\n",
      "15640\n"
     ]
    }
   ],
   "source": [
    "# filename, prompts_filename = \"2023-10-14_18-26-03_gpt2-small_test_20\", \"2023-10-14_16-16-07_gpt2-small_prompts\"\n",
    "# filename, prompts_filename = \"2023-10-14_18-25-30_gpt2-medium_test_20\", \"2023-10-14_16-15-00_gpt2-medium_prompts\"\n",
    "# filename, prompts_filename = \"2023-10-14_18-23-28_gpt2-large_test_20\", \"2023-10-14_16-13-57_gpt2-large_prompts\"\n",
    "# filename, prompts_filename = \"2023-10-15_02-54-36_gpt2-large_mid_test_20\", \"2023-10-15_00-05-35_gpt2-large_prompts_mid\"\n",
    "# filename, prompts_filename = \"2024-02-15_15-54-27_pythia-1.4b_test_20\", \"2024-02-15_15-04-06_pythia-1.4b_train\"\n",
    "\n",
    "# filename, prompts_filename = \"2024-02-16_04-28-46_gpt2-large_test_10p\", \"2024-02-16_02-52-45_gpt2-large_exp_prompts_10\"\n",
    "# filename, prompts_filename = \"2024-02-16_04-28-46_gpt2-large_test_10p\", \"2024-02-16_02-52-45_gpt2-large_exp_prompts_10\"\n",
    "# filename, prompts_filename = \"2024-02-16_07-44-22_gpt2-large_test_20p\", \"2024-02-16_02-53-52_gpt2-large_exp_prompts_20\" ### GPT-2 Large\n",
    "# filename, prompts_filename = \"2024-02-16_10-48-45_gpt2-large_test_30p\", \"2024-02-16_02-55-00_gpt2-large_exp_prompts_30\"\n",
    "\n",
    "# first one is \n",
    "filename, prompts_filename = \"2024-02-16_14-11-10_gpt2-large_test_random\", \"2024-02-16_13-51-07_gpt2-large_random\"\n",
    "\n",
    "# filename, prompts_filename = \"2024-02-16_14-51-46_pythia-1.4b_test_acl\", \"2024-02-15_15-04-06_pythia-1.4b_train\" ### Pythia 1.4b\n",
    "# filename, prompts_filename = \"2024-02-16_15-44-26_pythia-160m_test_acl\", \"2024-02-16_15-38-55_pythia-160m_acl\" ### Pythia 160b\n",
    "    \n",
    "# filename, prompts_filename = \"2024-02-16_16-48-48_gpt2-small_test_aclcn\", \"2024-02-16_16-22-40_gpt2-small_aclacl\"\n",
    "# filename, prompts_filename = \"2024-02-16_16-47-54_gpt2-medium_test_aclcn\", \"2024-02-16_16-23-04_gpt2-medium_aclacl\"\n",
    "    \n",
    "# filename, prompts_filename = \"2024-02-16_17-43-14_gpt2-large_test_mid_aclcn\", \"2024-02-16_17-11-42_gpt2-large_mid_aclacl\"\n",
    "\n",
    "# Load all the files\n",
    "with open(f'../experiment_data/6_explanation_eval/{filename}.json') as f:\n",
    "    prompt_classifications = json.load(f)\n",
    "\n",
    "# with open(f'../experiment_data/6_explanation_eval/{filename_plus}.json') as f:\n",
    "#     prompt_classifications_plus = json.load(f)\n",
    "\n",
    "\n",
    "head_attributions_filename = prompt_classifications['prior_filename']\n",
    "with open(f'../experiment_data/4_head_attributions/{head_attributions_filename}.json') as f:\n",
    "    head_attributions = json.load(f)\n",
    "\n",
    "with open(f'../experiment_data/4_head_attributions/{prompts_filename}.json') as f:\n",
    "    nh_to_pos_neg_prompts = json.load(f)['nh_to_pos_neg_prompts']\n",
    "\n",
    "# with open(f'../experiment_data/4_head_attributions/{prompts_filename_plus}.json') as f:\n",
    "    # nh_to_pos_neg_prompts_plus = json.load(f)['nh_to_pos_neg_prompts']\n",
    "\n",
    "trimmed_texts_filename = head_attributions['prior_filename']\n",
    "with open(f'../experiment_data/3_trimmed_texts/{trimmed_texts_filename}.json') as f:\n",
    "    trimmed_texts = json.load(f)\n",
    "\n",
    "max_activating_filename = trimmed_texts['prior_filename']\n",
    "with open(f'../experiment_data/2_max_activating_texts/{max_activating_filename}.json') as f:\n",
    "    max_activating = json.load(f)\n",
    "\n",
    "neuron_filename = max_activating['prior_filename']\n",
    "with open(f'../experiment_data/1_next_token_neurons/{neuron_filename}.json') as f:\n",
    "    neurons_data = json.load(f)\n",
    "\n",
    "neurons = [tuple_str_to_tuple(neuron_str) for neuron_str in head_attributions['head_attributions'].keys()]\n",
    "neuron_to_token = {tuple_str_to_tuple(neuron_str): token_data['token'] for neuron_str, token_data in neurons_data['neurons'].items()}\n",
    "\n",
    "# Load the classifications\n",
    "classify_filepath = prompt_classifications['classify_filepath'][:-6] + '_results.jsonl'\n",
    "with open(classify_filepath, 'r') as f:\n",
    "    lines = f.readlines()\n",
    "    lines = [json.loads(line) for line in lines]\n",
    "\n",
    "class_prompt_to_class = {x[0]['messages'][0]['content']: x[1]['choices'][0]['message']['content'] for x in lines}\n",
    "\n",
    "# classify_filepath_plus = classify_filepath[:-len(\"_results.jsonl\")] + \"_10_results.jsonl\"\n",
    "# with open(classify_filepath_plus, 'r') as f:\n",
    "#     lines = f.readlines()\n",
    "#     lines = [json.loads(line) for line in lines]\n",
    "\n",
    "# class_prompt_to_class_plus = {x[0]['messages'][0]['content']: x[1]['choices'][0]['message']['content'] for x in lines}\n",
    "\n",
    "\n",
    "\n",
    "# # Combine the dictionaries\n",
    "# print(len(class_prompt_to_class))\n",
    "# print(len(class_prompt_to_class_plus))\n",
    "# class_prompt_to_class.update(class_prompt_to_class_plus)\n",
    "# print(len(class_prompt_to_class))\n",
    "\n",
    "# FOR THE MID TEST\n",
    "# Load the classifications\n",
    "# classify_filepath = prompt_classifications['classify_filepath'][:-9] + '_20_results.jsonl'\n",
    "# with open(classify_filepath, 'r') as f:\n",
    "#     lines = f.readlines()\n",
    "#     lines = [json.loads(line) for line in lines]\n",
    "\n",
    "# class_prompt_to_class = {x[0]['messages'][0]['content']: x[1]['choices'][0]['message']['content'] for x in lines}\n",
    "\n",
    "# classify_filepath_plus = classify_filepath[:-len(\"_results.jsonl\")] + \"_10_results.jsonl\"\n",
    "# with open(classify_filepath_plus, 'r') as f:\n",
    "#     lines = f.readlines()\n",
    "#     lines = [json.loads(line) for line in lines]\n",
    "\n",
    "# class_prompt_to_class_plus = {x[0]['messages'][0]['content']: x[1]['choices'][0]['message']['content'] for x in lines}\n",
    "\n",
    "\n",
    "\n",
    "# Combine the dictionaries\n",
    "print(len(class_prompt_to_class))\n",
    "# print(len(class_prompt_to_class_plus))\n",
    "# class_prompt_to_class.update(class_prompt_to_class_plus)\n",
    "print(len(class_prompt_to_class))"
   ]
  },
  {
   "cell_type": "code",
   "execution_count": 162,
   "metadata": {},
   "outputs": [],
   "source": [
    "nh_to_pos_count = {}\n",
    "for nh, (pos, neg) in nh_to_pos_neg_prompts.items():\n",
    "    nh_to_pos_count[nh] = len(pos)"
   ]
  },
  {
   "cell_type": "code",
   "execution_count": 163,
   "metadata": {},
   "outputs": [],
   "source": [
    "# We have class_prompt_to_class, and nh to {class_prompt: trunc prompt}\n",
    "nh_to_data = prompt_classifications['classify_prompts']\n",
    "# nh_to_data_plus = prompt_classifications_plus['classify_prompts']\n",
    "# for nh, class_prompt_to_trunc_dict in nh_to_data_plus.items():\n",
    "#     if nh not in nh_to_data:\n",
    "#         nh_to_data[nh] = {}\n",
    "#     nh_to_data[nh].update(class_prompt_to_trunc_dict)\n",
    "\n",
    "head_attributions_dict = {tuple_str_to_tuple(k): v for k, v in head_attributions['head_attributions'].items()}\n",
    "\n",
    "nh_to_results = {}\n",
    "nh_to_egs = {}\n",
    "\n",
    "total = 0\n",
    "bad = 0\n",
    "for nh, class_prompt_to_trunc_dict in nh_to_data.items():\n",
    "    nh_tuple = tuple_str_to_tuple(nh)\n",
    "    neuron, head = (nh_tuple[0], nh_tuple[1]), nh_tuple[2]\n",
    "    tp, fp, tn, fn = 0, 0, 0, 0\n",
    "    tp_list, fp_list, tn_list, fn_list = [], [], [], []\n",
    "\n",
    "    for class_prompt, trunc_prompt in class_prompt_to_trunc_dict.items():\n",
    "        total += 1\n",
    "        try:\n",
    "            answer = class_prompt_to_class[class_prompt] # \"Yes\" or \"No\"\n",
    "            # answer = class_prompt_stripped_to_class[class_prompt.strip()] # \"Yes\" or \"No\"\n",
    "        except:\n",
    "        # print(class_prompt)\n",
    "            bad += 1\n",
    "            continue\n",
    "        trunc_prompt_without_token = trunc_prompt[:-len(neuron_to_token[neuron])]\n",
    "        head_is_active = head in head_attributions_dict[neuron][trunc_prompt_without_token]\n",
    "        if head_is_active:\n",
    "            if answer == \"Yes\":\n",
    "                tp += 1\n",
    "                tp_list.append(trunc_prompt)\n",
    "            elif answer == \"No\":\n",
    "                fn += 1\n",
    "                fn_list.append(trunc_prompt)\n",
    "        else:\n",
    "            if answer == \"Yes\":\n",
    "                fp += 1\n",
    "                fp_list.append(trunc_prompt)\n",
    "            elif answer == \"No\":\n",
    "                tn += 1\n",
    "                tn_list.append(trunc_prompt)\n",
    "\n",
    "    nh_to_egs[nh] = {'tp': tp_list, 'fp': fp_list, 'tn': tn_list, 'fn': fn_list}\n",
    "    nh_to_results[nh] = {'tp': tp, 'fp': fp, 'tn': tn, 'fn': fn}\n"
   ]
  },
  {
   "cell_type": "code",
   "execution_count": 164,
   "metadata": {},
   "outputs": [
    {
     "data": {
      "text/plain": [
       "0.0"
      ]
     },
     "execution_count": 164,
     "metadata": {},
     "output_type": "execute_result"
    }
   ],
   "source": [
    "bad/total"
   ]
  },
  {
   "cell_type": "code",
   "execution_count": 165,
   "metadata": {},
   "outputs": [
    {
     "name": "stdout",
     "output_type": "stream",
     "text": [
      "Mean: 0.5887581621277274, Std: 0.2091330760131158\n",
      "-0.22952532083153745\n"
     ]
    }
   ],
   "source": [
    "# Calculate average precision, accuracy and recall\n",
    "precisions = []\n",
    "recalls = []\n",
    "accuracies = []\n",
    "for nh, result in nh_to_results.items():\n",
    "    tp, fp, tn, fn = result['tp'], result['fp'], result['tn'], result['fn']\n",
    "    if nh_to_results[nh][\"tp\"] + nh_to_results[nh][\"fn\"] == 0 or nh_to_results[nh][\"tn\"] + nh_to_results[nh][\"fp\"] == 0:\n",
    "        continue\n",
    "    accuracy = (tp + tn) / (tp + tn + fp + fn)\n",
    "    accuracies.append(accuracy)\n",
    "\n",
    "mean = sum(accuracies) / len(accuracies)\n",
    "var = sum((x - mean) ** 2 for x in accuracies) / len(accuracies)\n",
    "std = var ** 0.5\n",
    "\n",
    "print(f\"Mean: {mean}, Std: {std}\")\n",
    "\n",
    "# Calculate skew of accuracy\n",
    "# Calculate the skew \n",
    "from scipy.stats import skew, skewtest\n",
    "print(skew(accuracies))"
   ]
  },
  {
   "cell_type": "code",
   "execution_count": 166,
   "metadata": {},
   "outputs": [
    {
     "data": {
      "text/plain": [
       "Text(0, 0.5, 'Number of Heads')"
      ]
     },
     "execution_count": 166,
     "metadata": {},
     "output_type": "execute_result"
    },
    {
     "data": {
      "image/png": "[encoded data removed]",
      "text/plain": [
       "<Figure size 640x480 with 1 Axes>"
      ]
     },
     "metadata": {},
     "output_type": "display_data"
    }
   ],
   "source": [
    "from matplotlib import pyplot as plt\n",
    "import numpy as np\n",
    "\n",
    "bins = np.linspace(0, 1.0, 10)\n",
    "plt.hist(accuracies, bins, label='Overall Accuracy', linewidth=0.5, edgecolor=\"black\")\n",
    "plt.title(\"Distribution of accuracies\")\n",
    "plt.xlabel(\"Accuracy\")\n",
    "plt.ylabel(\"Number of Heads\")"
   ]
  },
  {
   "cell_type": "code",
   "execution_count": 167,
   "metadata": {},
   "outputs": [],
   "source": [
    "# Sort nh_to_results by by accuracy\n",
    "nh_to_tpr = {nh: nh_to_results[nh][\"tp\"] / (nh_to_results[nh][\"tp\"] + nh_to_results[nh][\"fn\"])  if nh_to_results[nh][\"tp\"] + nh_to_results[nh][\"fn\"] != 0 else None for nh in nh_to_results}\n",
    "nh_to_tnr = {nh: nh_to_results[nh][\"tn\"] / (nh_to_results[nh][\"tn\"] + nh_to_results[nh][\"fp\"]) if nh_to_results[nh][\"tn\"] + nh_to_results[nh][\"fp\"] != 0 else None for nh in nh_to_results}\n",
    "\n",
    "nh_to_tpr_tnr_avg = {}\n",
    "for nh in nh_to_results:\n",
    "    # if all active or inactive examples, skip\n",
    "    if nh_to_results[nh][\"tp\"] + nh_to_results[nh][\"fn\"] == 0 or nh_to_results[nh][\"tn\"] + nh_to_results[nh][\"fp\"] == 0:\n",
    "        continue\n",
    "    tpr = nh_to_tpr[nh]\n",
    "    tnr = nh_to_tnr[nh]\n",
    "    # If one is none, then the average is the other\n",
    "    if tpr is None:\n",
    "        nh_to_tpr_tnr_avg[nh] = tnr\n",
    "    elif tnr is None:\n",
    "        nh_to_tpr_tnr_avg[nh] = tpr\n",
    "    else:\n",
    "        nh_to_tpr_tnr_avg[nh] = (tpr + tnr) / 2\n",
    "\n",
    "# nh_to_tpr_tnr_avg_no_None = {k: v for k, v in nh_to_tpr_tnr_avg.items() if v is not None}\n",
    "# nh_to_accuracy = {nh: (nh_to_results[nh][\"tp\"] + nh_to_results[nh][\"tn\"]) / (nh_to_results[nh][\"tp\"] + nh_to_results[nh][\"tn\"] + nh_to_results[nh][\"fp\"] + nh_to_results[nh][\"fn\"]) for nh in nh_list}\n",
    "# nh_to_accuracy = {k: v for k, v in sorted(nh_to_accuracy.items(), key=lambda item: item[1], reverse=True)}\n",
    "# nh_list_sorted_by_accuracy = list(nh_to_accuracy.keys())\n",
    "nh_to_tpr_tnr_avg = {k: v for k, v in sorted(nh_to_tpr_tnr_avg.items(), key=lambda item: item[1], reverse=True)}\n",
    "nh_list_sorted_by_head_eval_score = list(nh_to_tpr_tnr_avg.keys())"
   ]
  },
  {
   "cell_type": "code",
   "execution_count": 168,
   "metadata": {},
   "outputs": [
    {
     "name": "stdout",
     "output_type": "stream",
     "text": [
      "0.23001743370579764\n",
      "SkewtestResult(statistic=3.943423855127628, pvalue=4.016325179021836e-05)\n"
     ]
    }
   ],
   "source": [
    "eval_scores = list(nh_to_tpr_tnr_avg.values())\n",
    "# Calculate the skew \n",
    "from scipy.stats import skew, skewtest\n",
    "print(skew(eval_scores))\n",
    "print(skewtest(eval_scores, alternative='greater'))"
   ]
  },
  {
   "cell_type": "code",
   "execution_count": 169,
   "metadata": {},
   "outputs": [
    {
     "name": "stdout",
     "output_type": "stream",
     "text": [
      "0.5580559537081276\n",
      "0.19111006180989148\n"
     ]
    }
   ],
   "source": [
    "import numpy as np\n",
    "print(np.mean(list(nh_to_tpr_tnr_avg.values())))\n",
    "print(np.std(list(nh_to_tpr_tnr_avg.values())))\n",
    "\n",
    "\n",
    "# GPT-2 Small: 0.639 mean, 0.178 std\n",
    "# GPT-2 Medium: 0.616 mean, 0.159 std\n",
    "# GPT-2 Large: 0.602 mean, 0.171 std\n",
    "# GPT-2 Large Mid: 0.560 mean, 0.158 std\n",
    "\n",
    "# 10 prompts: 0.571, 0.227\n",
    "\n",
    "# GPT2 small: 0.650 mean, 0.194 std, -0.122 skew, p-value 0.789\n",
    "# GPT2 med: 0.610 mean, 0.201 std, +0.113 skew, p-value 0.097\n",
    "# GPT2 Large: 0.575 mean, 0.227 std, -0.132 skew, p-value 0.960\n",
    "# Pythia 1.4b: 0.574 mean, 0.176 std, -0.098 skew, p-value 0.832\n",
    "# Pythia 160m: 0.621 mean, 0.206 std, -0.038 skew, p-value 0.602\n",
    "# GPT2 Large Random: 0.558 mean, 0.191 std, +0.230 skew, p-value 4.016325179021836e-05"
   ]
  },
  {
   "cell_type": "markdown",
   "metadata": {},
   "source": []
  },
  {
   "cell_type": "code",
   "execution_count": 170,
   "metadata": {},
   "outputs": [
    {
     "data": {
      "image/png": "[encoded data removed]",
      "text/plain": [
       "<Figure size 640x480 with 1 Axes>"
      ]
     },
     "metadata": {},
     "output_type": "display_data"
    }
   ],
   "source": [
    "import numpy as np\n",
    "bins = np.linspace(0, 1, 10)\n",
    "import matplotlib.pyplot as plt\n",
    "hist = plt.hist(nh_to_tpr_tnr_avg.values(), bins, label='Overall Accuracy', linewidth=0.5, edgecolor=\"black\")\n",
    "plt.title(\"Distribution of Head Explanation Scores\")\n",
    "plt.xlabel(\"Head Explanation Score\")\n",
    "plt.ylabel(\"Number of Heads\")\n",
    "# Make the title two times bigger\n",
    "plt.title(\"Distribution of Head Explanation Scores\", fontsize=16)\n",
    "# Make the labels two times bigger\n",
    "plt.xlabel(\"Head Explanation Score\", fontsize=14)\n",
    "plt.ylabel(\"Number of Heads\", fontsize=14)\n",
    "# Make the ticks font size smaller\n",
    "plt.xticks(fontsize=12)\n",
    "plt.yticks(fontsize=12)\n",
    "\n",
    "bars = hist[2]\n",
    "# Color the right three bars red\n",
    "for i in range(-3, 0):\n",
    "    bars[i].set_fc((1.0, 0.5, 0.5))\n",
    "# plt.ylim(0,60)\n",
    "\n",
    "# Save as pdf\n",
    "plt.savefig(f\"../figures_acl/gpt2_large_rand_exp.pdf\", bbox_inches='tight')"
   ]
  },
  {
   "cell_type": "code",
   "execution_count": 94,
   "metadata": {},
   "outputs": [],
   "source": [
    "def get_printout():\n",
    "    return_str = \"\"\n",
    "\n",
    "    for nh in nh_list_sorted_by_head_eval_score:\n",
    "        nh_tuple = tuple_str_to_tuple(nh)\n",
    "        token = neuron_to_token[(nh_tuple[0], nh_tuple[1])]\n",
    "        return_str += f\"{nh}, '{token}', {nh_to_tpr_tnr_avg[nh]}\\n\"\n",
    "\n",
    "        # Hacky way to get explanation\n",
    "        explanation = list(nh_to_data[nh].keys())[0].split(\"\\nIs the given example\")[0]\n",
    "\n",
    "        return_str += f\"This head is active when {explanation}.\\n\"\n",
    "        results = nh_to_egs[nh]\n",
    "        # tp, tn, fp, fn = results['tp'], results['tn'], results['fp'], results['fn']\n",
    "        return_str += \"Examples where the head is active:\\n\"\n",
    "        for eg in results['tp']:\n",
    "            return_str += f\"✅ {eg}\\n\"\n",
    "        for eg in results['fn']:\n",
    "            return_str += f\"❌ {eg}\\n\"\n",
    "\n",
    "        return_str += \"Examples where the head is inactive:\\n\"\n",
    "        for eg in results['tn']:\n",
    "            return_str += f\"✅ {eg}\\n\"\n",
    "        for eg in results['fp']:\n",
    "            return_str += f\"❌ {eg}\\n\"\n",
    "        return_str += \"\\n\"\n",
    "\n",
    "    return return_str\n",
    "\n",
    "with open(\"eval_results_full_gpt2-large_mid.txt\", \"w\") as f:\n",
    "    f.write(get_printout())\n"
   ]
  },
  {
   "cell_type": "code",
   "execution_count": null,
   "metadata": {},
   "outputs": [],
   "source": []
  }
 ],
 "metadata": {
  "kernelspec": {
   "display_name": "Python 3 (ipykernel)",
   "language": "python",
   "name": "python3"
  },
  "language_info": {
   "codemirror_mode": {
    "name": "ipython",
    "version": 3
   },
   "file_extension": ".py",
   "mimetype": "text/x-python",
   "name": "python",
   "nbconvert_exporter": "python",
   "pygments_lexer": "ipython3",
   "version": "3.11.5"
  }
 },
 "nbformat": 4,
 "nbformat_minor": 2
}
