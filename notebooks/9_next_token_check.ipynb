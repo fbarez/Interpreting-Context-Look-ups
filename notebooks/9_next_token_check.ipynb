{
 "cells": [
  {
   "cell_type": "code",
   "execution_count": 3,
   "metadata": {},
   "outputs": [],
   "source": [
    "from src import *\n",
    "import json\n",
    "def tuple_str_to_tuple(s):\n",
    "    return tuple(map(int, s[1:-1].split(', ')))\n",
    "\n",
    "# Load jsons from ../experiment_data/1_next_token_neurons\n",
    "filename = \"2023-10-12_10-51-10_gpt2-large\"\n",
    "# filename = \"2023-10-12_07-15-42_gpt2-medium\"\n",
    "# filename = \"2023-10-12_06-52-17_gpt2-small\"\n",
    "# filename = \"2023-10-13_07-03-35_gpt2-small_test\"\n",
    "# filename = \"2023-10-13_07-54-07_gpt2-medium_test\"\n",
    "# filename = \"2023-10-13_12-36-52_gpt2-large_test\"\n",
    "# filename = \"2023-10-14_08-18-02_gpt2-large_mid\"\n",
    "# filename = \"2023-10-14_18-20-09_gpt2-large_mid_test\"\n",
    "\n",
    "# filename = \"2024-02-14_01-59-03_pythia-1.4b_train\"\n",
    "# filename = \"2024-02-13_17-22-42_pythia-410m_train\"\n",
    "# filename = \"2024-02-13_15-37-06_pythia-160m_train\"\n",
    "\n",
    "# filename = \"2024-02-15_14-52-20_pythia-1.4b_test_fr\"\n",
    "# filename = \"2024-02-15_15-29-26_pythia-410m_test_fr\"\n",
    "# filename = \"2024-02-15_15-49-23_pythia-160m_test_fr\"\n",
    "\n",
    "train = True\n",
    "\n",
    "with open(f'../experiment_data/3_trimmed_texts/{filename}.json') as f:\n",
    "    text_metadata = json.load(f)\n",
    "\n",
    "neurons = [tuple_str_to_tuple(x) for x in text_metadata['neuron_to_trunc_data'].keys()]"
   ]
  },
  {
   "cell_type": "code",
   "execution_count": 5,
   "metadata": {},
   "outputs": [
    {
     "name": "stderr",
     "output_type": "stream",
     "text": [
      "/Users/clementneo/projects/Neuron_groups/neuron_groups/venv/lib/python3.11/site-packages/tqdm/auto.py:21: TqdmWarning: IProgress not found. Please update jupyter and ipywidgets. See https://ipywidgets.readthedocs.io/en/stable/user_install.html\n",
      "  from .autonotebook import tqdm as notebook_tqdm\n"
     ]
    },
    {
     "name": "stdout",
     "output_type": "stream",
     "text": [
      "Train Loaded!\n"
     ]
    }
   ],
   "source": [
    "from datasets import load_dataset\n",
    "dataset = load_dataset(\"NeelNanda/pile-10k\", split=\"train\")\n",
    "dataset_text_list = [x['text'] for x in dataset]\n",
    "print(\"Train Loaded!\")"
   ]
  },
  {
   "cell_type": "code",
   "execution_count": 20,
   "metadata": {},
   "outputs": [
    {
     "name": "stdout",
     "output_type": "stream",
     "text": [
      "dict_keys(['(31, 3621)', '(31, 364)', '(31, 2918)', '(31, 4378)', '(31, 988)', '(31, 2658)', '(31, 2692)', '(31, 4941)', '(31, 2415)', '(31, 1407)', '(31, 3530)', '(31, 4239)', '(31, 3163)', '(31, 4724)', '(31, 1796)', '(31, 4957)', '(31, 892)', '(31, 3670)', '(31, 3796)', '(31, 1040)', '(31, 826)', '(31, 4255)', '(31, 3575)', '(31, 2424)', '(31, 2325)', '(31, 2691)', '(31, 2822)', '(31, 4795)', '(31, 2323)', '(31, 767)', '(31, 3451)', '(31, 5069)', '(31, 1382)', '(31, 910)', '(31, 2437)', '(31, 668)', '(31, 4266)', '(31, 1369)', '(31, 2235)', '(31, 4109)', '(32, 4964)', '(32, 2412)', '(32, 4282)', '(32, 3151)', '(32, 1155)', '(32, 1386)', '(32, 3582)', '(32, 4882)', '(32, 3477)', '(32, 406)', '(32, 114)', '(32, 2229)', '(32, 3800)', '(32, 1380)', '(32, 3390)', '(32, 1724)', '(32, 3743)', '(32, 3613)', '(32, 3089)', '(32, 2241)', '(32, 960)', '(32, 1067)', '(32, 3393)', '(32, 1975)', '(32, 2488)', '(32, 3211)', '(32, 3205)', '(32, 445)', '(32, 183)', '(32, 1848)', '(32, 656)', '(32, 3553)', '(32, 1541)', '(32, 1388)', '(32, 142)', '(32, 2579)', '(32, 4418)', '(32, 3848)', '(32, 1556)', '(32, 3394)', '(33, 1202)', '(33, 524)', '(33, 4446)', '(33, 204)', '(33, 4900)', '(33, 2322)', '(33, 3278)', '(33, 1299)', '(33, 52)', '(33, 3312)', '(33, 1019)', '(33, 1336)', '(33, 2697)', '(33, 4056)', '(33, 501)', '(33, 4211)', '(33, 4294)', '(33, 5073)', '(33, 3801)', '(33, 2337)', '(33, 3202)', '(33, 2628)', '(33, 2742)', '(33, 2929)', '(33, 3183)', '(33, 488)', '(33, 2947)', '(33, 2206)', '(33, 35)', '(33, 769)', '(33, 4426)', '(33, 5041)', '(33, 2876)', '(33, 3701)', '(33, 2684)', '(33, 2942)', '(33, 4164)', '(33, 4579)', '(33, 4487)', '(33, 2132)', '(34, 4012)', '(34, 4262)', '(34, 320)', '(34, 5095)', '(34, 2599)', '(34, 2442)', '(34, 4494)', '(34, 4199)', '(34, 727)', '(34, 4410)', '(34, 1822)', '(34, 2067)', '(34, 2322)', '(34, 3476)', '(34, 8)', '(34, 379)', '(34, 1707)', '(34, 3046)', '(34, 1322)', '(34, 1578)', '(34, 3118)', '(34, 54)', '(34, 5027)', '(34, 699)', '(34, 1972)', '(34, 45)', '(34, 4043)', '(34, 1290)', '(34, 2244)', '(34, 2202)', '(34, 3674)', '(34, 3098)', '(34, 5090)', '(34, 5015)', '(34, 1257)', '(34, 1306)', '(34, 3031)', '(34, 1816)', '(34, 4891)', '(34, 2363)', '(35, 4518)', '(35, 48)', '(35, 5014)', '(35, 3724)', '(35, 3360)', '(35, 885)', '(35, 4924)', '(35, 2369)', '(35, 4638)', '(35, 5095)', '(35, 91)', '(35, 3454)', '(35, 679)', '(35, 4129)', '(35, 2850)', '(35, 77)', '(35, 1601)', '(35, 515)', '(35, 4200)', '(35, 2367)', '(35, 1296)', '(35, 3736)', '(35, 1360)', '(35, 775)', '(35, 4833)', '(35, 2823)', '(35, 3476)', '(35, 3179)', '(35, 3649)', '(35, 5027)', '(35, 4781)', '(35, 4439)', '(35, 452)', '(35, 4546)', '(35, 1032)', '(35, 1384)', '(35, 2596)', '(35, 47)', '(35, 2379)', '(35, 4540)'])\n"
     ]
    }
   ],
   "source": [
    "print(text_metadata['neuron_to_trunc_data'].keys())\n"
   ]
  },
  {
   "cell_type": "code",
   "execution_count": 12,
   "metadata": {},
   "outputs": [
    {
     "name": "stderr",
     "output_type": "stream",
     "text": [
      "Using pad_token, but it is not set yet.\n"
     ]
    },
    {
     "name": "stdout",
     "output_type": "stream",
     "text": [
      "Loaded pretrained model gpt2 into HookedTransformer\n"
     ]
    }
   ],
   "source": [
    "from transformer_lens import HookedTransformer\n",
    "model_name = \"gpt2\"\n",
    "device = \"cpu\"\n",
    "\n",
    "model = HookedTransformer.from_pretrained(\n",
    "    model_name,\n",
    "    center_unembed=True,\n",
    "    center_writing_weights=True,\n",
    "    fold_ln=True,\n",
    "    # refactor_factored_attn_matrices=True,\n",
    "    device=device,\n",
    ")"
   ]
  },
  {
   "cell_type": "code",
   "execution_count": 36,
   "metadata": {},
   "outputs": [
    {
     "name": "stdout",
     "output_type": "stream",
     "text": [
      "['\\nopenssl', 'This application is related to U.S. application', \"'?>\\n<xsl:stylesheet\", ' asserted\")\\nprintln(\"made it here...\")\\n$ swiftc -Onone assert.swift;./assert\\nassertion failed: assertion asserted: file assert.swift,', '// General Public License as published by the Free Software Foundation,\\n// either', '@Override\\npublic boolean onOptionsItemSelected(MenuItem item) {\\n    // Handle action bar item clicks here. The action bar will\\n    // automatically handle clicks on the Home/Up button, so long\\n    // as you specify a parent activity in AndroidManifest.xml.\\n    int', ' molded article is not suitable for use as an industrial product.\\nFurthermore, translation of PCT application', '// Licensed under GPL', '/DTDs/PropertyList-1.0.dtd\">\\n<plist', '/DTDs/PropertyList-1.0.dtd\">\\n<plist', ' Version Block version number You upgrade the software and it specifies a new version 4 0 4 HashChildHeader 256-bit double hash of the child header A new block comes in 32 0 36 ZeroPad left for future use Never 28 1 0 PrefixOfHashOfHeader0 4 byte prefix of hash of the first 64 bytes (including ZeroPad).\\n\\nCorresponds to the last 4 bytes of the old Merkleroot A new block comes in 4 1 4 Nonce2 Corresponds to the least significant bytes of the old time field (it’s stored in little-endian)\\n\\nA hash is tried 2 1 6 PrefixOfHashOfHeader1.the following 4 bytes of the prefix of the hash of the first 64 bytes.\\n\\n(totaling 10 bytes) Corresponds to the 2 most significant bytes of the old time field and the old difficulty field. A new block comes in 6 1 12 Nonce 32-bit number A hash is tried (increments) 4\\n\\nThe child header is as follows:\\n\\n64-Bytesub-block Offset in sub-block Field Purpose Updated when… Size (Bytes) 0 0 Version Child Block', 'ributed under the Boost Software License, Version', ' at android.app', ' application claims priority to Patent Application', '//\\n//  Licensed under the Apache License,', '<!DOCTYPE hibernate-mapping PUBLIC \"-//Hibernate/Hibernate Mapping DTD//EN\" \"http://hibernate.sourceforge.net/hibernate-mapping-3.0.dtd\">\\n<hibernate-mapping', ' GC_CONCURRENT freed 251K,', '. Patent Application', 'This application claims the benefit of Korean Application', 'This application claims the benefit of Korean Application', 'ributed under the Boost Software License, Version', ' and co-assigned U.S. patent application', 'data/www;\\n\\n    ssl on;\\n    ssl', ');\\n        out.setVersion(QDataStream', 'ributed under the Boost Software License, Version', 'ributed under the Boost Software License, Version', '): VFY: replacing opcode 0x6e at', ' US Patent Application', ' sockaddr_in d;\\n    bzero(&d,sizeof(d));\\n    d.sin_family=AF_INET;\\n    d.sin_', ' License as published by the Free\\n# Software Foundation, either']\n"
     ]
    }
   ],
   "source": [
    "egs = list(text_metadata['neuron_to_trunc_data'].values())[150]\n",
    "tokens = [model.tokenizer.decode(model.tokenizer.encode(dataset['text'][eg['dataset_index']])[eg['start_pos']:eg['token_pos']]) for eg in egs]\n",
    "print(tokens)"
   ]
  },
  {
   "cell_type": "code",
   "execution_count": 11,
   "metadata": {},
   "outputs": [
    {
     "data": {
      "text/plain": [
       "\"Forgotten password\\n\\nNiche Jobs Ltd Privacy Policy\\n\\nNurses.co.uk is a job advertising website run by Niche Jobs Ltd. Niche Jobs Ltd is not an employment agency and does not undertake such activities as would be consistent with acting as an agency.\\n\\nThis privacy policy applies only to this website. If you do not accept this privacy policy, you must not use the website. A user will have been deemed to have accepted our Privacy Policy when they register their details on the site, or set up a job alert emails.\\n\\nWe are committed to ensuring our user's privacy in accordance with the 1998 Data Protection Act, as well as ensuring a safe and secure user experience.\\n\\nPersonal (identifiable) information\\n\\nWhen users submit identifiable* information to the website they are given the choice as to whether they wish their details to be visible to companies advertising on the website.\\n\\nBy selecting 'Allow companies to contact me about jobs', this means that a user's information, as it is entered on the website, may be viewed by companies who use our CV Search tool or watchdog function. At no point does Niche Jobs Ltd distribute a user's information to third parties beyond what we may be legally obligated to do.\\n\\nBy selecting 'I don't wish to be contacted about jobs by companies looking to hire', this means that a user's information will only be visible to a company advertising on the site if a user applies to a job being advertised by that company.\\n\\nWhilst Niche Jobs Ltd makes every effort to restrict CV access to legitimate companies only, it cannot be held responsible for how CVs are used by third parties once they have been downloaded from our database.\\n\\nIdentifiable information is anything that is unique to a user (i.e. email addresses, telephone numbers and CV files).\\n\\nNiche Jobs Ltd may from time to time send email-shots on behalf of third parties to users. Users can unsubscribe from mailshots using the unsubscribe link in the email or by contacting Niche Jobs Ltd via the Contact Us page on the website.\\n\\nNon-identifiable information\\n\\nNiche Jobs Ltd may also collect information (via cookies) about users and how they interact with the site, for purposes of performance measuring and statistics. This information is aggregated, so is not identifiable on an individual user basis.\\n\\nUsers may choose to accept or deny cookies from Niche Jobs Ltd, but users should be aware that if cookies are not permitted it may adversely affect a user’s experience of the site.\\n\\nRemoval of stored information\\n\\nNiche Jobs Ltd reserves the right to remove user information from the database if that information is deemed obsolete or used in a way that is detrimental to the performance of the website or the reputation of the business as a whole.\\n\\nA user may remove their details by selecting the 'Remove my account' option from their account menu, or by requesting the removal of their details via the 'Contact Us' link on the website. A confirmation of this removal will be sent to the user by Niche Jobs Ltd.\\n\\nIf you have any questions regarding this privacy policy, you may contact us at:\\n\\nChoose a CV\\n\\nNow add this CV\\n\\nNiche Jobs Ltd Privacy Policy\\n\\nis a job advertising website run by Niche Jobs Ltd. Niche Jobs Ltd is not an employment agency and does not undertake such activities as would be consistent with acting as an agency.\\n\\nThis privacy policy applies only to this website. If you do not accept this privacy policy, you must not use the website. A user will have been deemed to have accepted our Privacy Policy when they register their details on the site, or set up a job alert emails.\\n\\nWe are committed to ensuring our user's privacy in accordance with the 1998 Data Protection Act, as well as ensuring a safe and secure user experience.\\n\\nPersonal (identifiable) information\\n\\nWhen users submit identifiable* information to the website they are given the choice as to whether they wish their details to be visible to companies advertising on the website.\\n\\nBy selecting 'Allow companies to contact me about jobs', this means that a user's information, as it is entered on the website, may be viewed by companies who use our CV Search tool or watchdog function. At no point does Niche Jobs Ltd distribute a user's information to third parties beyond what we may be legally obligated to do.\\n\\nBy selecting 'I don't wish to be contacted about jobs by companies looking to hire', this means that a user's information will only be visible to a company advertising on the site if a user applies to a job being advertised by that company.\\n\\nWhilst Niche Jobs Ltd makes every effort to restrict CV access to legitimate companies only, it cannot be held responsible for how CVs are used by third parties once they have been downloaded from our database.\\n\\nIdentifiable information is anything that is unique to a user (i.e. email addresses, telephone numbers and CV files).\\n\\nNiche Jobs Ltd may from time to time send email-shots on behalf of third parties to users. Users can unsubscribe from mailshots using the unsubscribe link in the email or by contacting Niche Jobs Ltd via the Contact Us page on the website.\\n\\nNon-identifiable information\\n\\nNiche Jobs Ltd may also collect information (via cookies) about users and how they interact with the site, for purposes of performance measuring and statistics. This information is aggregated, so is not identifiable on an individual user basis.\\n\\nUsers may choose to accept or deny cookies from Niche Jobs Ltd, but users should be aware that if cookies are not permitted it may adversely affect a user’s experience of the site.\\n\\nRemoval of stored information\\n\\nNiche Jobs Ltd reserves the right to remove user information from the database if that information is deemed obsolete or used in a way that is detrimental to the performance of the website or the reputation of the business as a whole.\\n\\nA user may remove their details by selecting the 'Remove my account' option from their account menu, or by requesting the removal of their details via the 'Contact Us' link on the website. A confirmation of this removal will be sent to the user by Niche Jobs Ltd.\\n\\nIf you have any questions regarding this privacy policy, you may contact us at:\\n\\nPulse are looking for a Qualified ITU Nurse for ad hoc duties at an NHS Hospital in Chelmsford. This Client provides local elective and emergency services to [... Click Apply...] people living in and around the districts of Chelmsford, Maldon and Braintree. The Centre provides excellent state of the art facilities, designed to ensure patients suffering from burns injuries, receive the very best tr ...\\n\\nPulse are looking for a Qualified ITU / HDU Nurse to work at one of our esteemed NHS clients in Canterbury, on an ad hoc basis. This NHS client is part of one of largest Teaching Foundation Trusts in England, providing services to a local client population of over [... Click Apply...]. We require enthusiastic and dedicated ITU / HDU Nurses, to work flexibly with this and other NHS and Private clien ...\\n\\nRegular Long-Day and Night Shifts Available. Pulse are looking for a Qualified ITU / HDU Nurse to work at one of our esteemed NHS clients in Ashford, on an ad hoc basis. This NHS client is part of one of largest Teaching Foundation Trusts in England, providing services to a local client population of over [... Click Apply...]. We require enthusiastic and dedicated ITU / HDU Nurses, to work flexibly ...\\n\\nPulse are looking for a Qualified ITU / HDU Nurse to work at one of our esteemed NHS clients in Margate, on an ad hoc basis. This NHS client is part of one of largest Teaching Foundation Trusts in England, providing services to a local client population of over [... Click Apply...]. We require enthusiastic and dedicated ITU / HDU Nurses, to work flexibly with this and other NHS and Private clients ...\\n\\nPulse are recruiting for an ITU nurse to work ad hoc duties, within a specialist NHS Hospital in West Sussex. The Hospital is rated the highest for inpatient satisfaction in the region and offers a range of services, including life-changing reconstructive surgery, burns care and rehabilitation. It’s expert and pioneering clinicians also provide treatments for more common skin, teet ...\\n\\nBMI Priory Hospital in Birmingham is part of BMI Healthcare, Britain's leading provider of independent healthcare with a nationwide network of hospitals & clinics performing more complex surgery than any other private healthcare provider in the country. We have an opportunity for a Registered Nurse to join their team of staff in the ITU departm ...\\n\\nAbout The FacilityThe Harley Street Clinic is one of the most prestigious and respected private hospitals in London, specialising in complex, cancer, cardiac and neuroscience, care for both adults and children.The 9 bed general ICU is split over two floors and was refurbished in 2012. The department deals with general surgery, cardiac surgery, neurology surgery, oncology patients and other emergency patients that require critical care. As part of the ICU team the s ...\\n\\nOur client is one of the UK's most prestigious private hospital groups. Due to the outstanding reputation this group has obtained, it now attracts a large patient population from all over the world. The hospitals we represent pride themselves on providing the highest standard of care to all patients. This position will offer the candidate the opportunity to work within a supportive environment that ...\\n\\nThis facility is one of the UK's largest acute private hospitals. Due to the outstanding reputation this facility has obtained, it now attracts a large patient population from all over the world. The hospital prides itself on providing the highest standard of care to all patients. This facility covers a broad range of specialities including: neurosurgery, cardiac care, orthopaedics ...\\n\\nAre you a senior ITU Nurse interested in developing your career in a brand new facility in one London's top teaching hospitals?Are you experienced in Scrub?Would you like the opportunity to work in the Shard??Our Client:My client is a campus hospital with sites in some of London's top NHS Hospitals, a successful diagnostic centre in the Shard plus outpatient units across Canary Wharf.They are undergoing a multi-million pound expansion in 2017 and t ...\\n\\nClinical Lead - ITU London Permanent/Full Time Salary up to £50,541 per annum plus enhancements and Benefits Our busy 24-hour Critical Care Unit is equipped with the latest technology and provides the highest level of dedicated, continuous and specialised care to Critical Care Level 2 and 3 patients with a variety of medical or surgical conditions who require compl ...\\n\\nWe are seeking a dedicated and enthusiastic Band 5 Staff Nurse to join our client's busy Cardiac Intensive Treatment Unit based at their NHS Trust site in Harefield, Greater London , a small, attractive exurban community on the green belt fringe of the city. This is a full-time permanent post, but this unit is open to hearing from applicants seeking to negotiate a ...\\n\\nJob Description The successful post holder will assess, plan, deliver and evaluate high standards of critical care nursing. They will be responsible for working within a team, supervising and directing junior staff and deputising for Senior Staff Nurses in their absence. Duties & Responsibilities Demonstrating an ability to record, monitor and interpret a patie ...\\n\\nLooking for regular, consistent work that specifically suits your needs? At Allied Nursing Services, we offer more to nurses than just a job. We are not just an agency, we offer a fully a managed service to include; * Your own dedicated consultant, that will work FOR YOU to find the best position FOR YOU * One of the only providers to give you high quality free man ...\\n\\nAbout The FacilityThe Wellington is a leading private hospital in London with an international reputation for excellence in complex healthcare. The hospital has gained four decades of expertise in treating patients from the UK and overseas and offers a premium service in key areas of healthcare, including: neurosurgery, spinal surgery, cardiac care, orthopaedics, acute neurological rehabilitation and gynaecology.Our ICU comprises of a total of 35 b ...\\n\\nOur client is located in the popular Central London area. Their facilities are prestigious London private hospitals, with a very unique and outstanding reputation. They have multiple facilities covering a broad range of acute specialties, including: surgical, medical, oncology, & critical care units to name a few. This position will offer the successful applicant the opportunity to work within ...\\n\\nWe are seeking a committed and experienced Band 6 Senior Staff Nurse to join our client's busy Cardiac Intensive Treatment Unit based at their NHS Trust site in Harefield, Greater London , a small, attractive exurban community on the green belt fringe of the city. This is a full-time permanent post, but this unit is open to hearing from applicants seeking to negotiate a part-time o ...\\n\\nTFS have launched a Surrey team and would like you to be part of it..! We offer market leading pay rates despite monitor caps on pay and are actively searching for passionate ITU nurses to join our team.Duties:Being an agency nurse you will have full flexibility over the wards and shift patterns you decide to work.Working on ITU wards to support critically ill patients.About the Individual:NMC Regi ...\""
      ]
     },
     "execution_count": 11,
     "metadata": {},
     "output_type": "execute_result"
    }
   ],
   "source": [
    "dataset['text'][eg['dataset_index']]"
   ]
  },
  {
   "cell_type": "code",
   "execution_count": null,
   "metadata": {},
   "outputs": [],
   "source": []
  }
 ],
 "metadata": {
  "kernelspec": {
   "display_name": "venv",
   "language": "python",
   "name": "python3"
  },
  "language_info": {
   "codemirror_mode": {
    "name": "ipython",
    "version": 3
   },
   "file_extension": ".py",
   "mimetype": "text/x-python",
   "name": "python",
   "nbconvert_exporter": "python",
   "pygments_lexer": "ipython3",
   "version": "3.11.5"
  }
 },
 "nbformat": 4,
 "nbformat_minor": 2
}
