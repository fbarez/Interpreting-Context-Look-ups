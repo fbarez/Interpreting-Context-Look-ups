{
 "cells": [
  {
   "cell_type": "code",
   "execution_count": 16,
   "metadata": {},
   "outputs": [
    {
     "name": "stdout",
     "output_type": "stream",
     "text": [
      "The autoreload extension is already loaded. To reload it, use:\n",
      "  %reload_ext autoreload\n"
     ]
    }
   ],
   "source": [
    "%load_ext autoreload\n",
    "%autoreload 2"
   ]
  },
  {
   "cell_type": "code",
   "execution_count": 1,
   "metadata": {},
   "outputs": [
    {
     "name": "stderr",
     "output_type": "stream",
     "text": [
      "/Users/clementneo/projects/Neuron_groups/neuron_groups/venv/lib/python3.11/site-packages/tqdm/auto.py:21: TqdmWarning: IProgress not found. Please update jupyter and ipywidgets. See https://ipywidgets.readthedocs.io/en/stable/user_install.html\n",
      "  from .autonotebook import tqdm as notebook_tqdm\n"
     ]
    }
   ],
   "source": [
    "from transformer_lens import HookedTransformer\n",
    "\n",
    "import json\n",
    "import time\n",
    "\n",
    "from src.neuron_texts import find_neurons"
   ]
  },
  {
   "cell_type": "code",
   "execution_count": 2,
   "metadata": {},
   "outputs": [],
   "source": [
    "# Parameters\n",
    "model_name = \"gpt2-large\"\n",
    "device = \"cpu\"\n",
    "layers = [16, 17, 18, 19, 20]\n",
    "num_neurons_per_layer = 20\n",
    "rejected_neurons = [()]"
   ]
  },
  {
   "cell_type": "code",
   "execution_count": 3,
   "metadata": {},
   "outputs": [
    {
     "name": "stderr",
     "output_type": "stream",
     "text": [
      "Using pad_token, but it is not set yet.\n"
     ]
    },
    {
     "name": "stdout",
     "output_type": "stream",
     "text": [
      "Loaded pretrained model gpt2-large into HookedTransformer\n"
     ]
    }
   ],
   "source": [
    "model = HookedTransformer.from_pretrained(\n",
    "    model_name,\n",
    "    center_unembed=True,\n",
    "    center_writing_weights=True,\n",
    "    fold_ln=True,\n",
    "    refactor_factored_attn_matrices=True,\n",
    "    device=device,\n",
    ")"
   ]
  },
  {
   "cell_type": "code",
   "execution_count": 6,
   "metadata": {},
   "outputs": [
    {
     "name": "stdout",
     "output_type": "stream",
     "text": [
      "(16, 494) ' votes'\n",
      "(16, 2385) ' anymore'\n",
      "(16, 2338) ' Award'\n",
      "(16, 1315) ' freeway'\n",
      "(16, 2972) ' Worse'\n",
      "(16, 4382) ' Magazine'\n",
      "(16, 1814) ' playoffs'\n",
      "(16, 4468) ' own'\n",
      "(16, 4594) ' behalf'\n",
      "(16, 2620) ' teleportation'\n",
      "(16, 3830) ' renovated'\n",
      "(16, 3450) ' Stranger'\n",
      "(16, 4012) ' anymore'\n",
      "(16, 3144) ' shoes'\n",
      "(16, 5103) ' albums'\n",
      "(16, 3127) ' Scripture'\n",
      "(16, 3610) ' others'\n",
      "(16, 2982) ' desktop'\n",
      "(16, 307) ' clouds'\n",
      "(16, 2470) ' goddamn'\n",
      "(17, 146) ' sake'\n",
      "(17, 3643) ' similarly'\n",
      "(17, 3954) ' Borough'\n",
      "(17, 4120) ' whatsoever'\n",
      "(17, 2421) ' sunglasses'\n",
      "(17, 2781) ' song'\n",
      "(17, 1939) ' payments'\n",
      "(17, 714) ' regimen'\n",
      "(17, 3286) ' minorities'\n",
      "(17, 2860) ' negotiation'\n",
      "(17, 3743) ' myself'\n",
      "(17, 1343) ' fabric'\n",
      "(17, 579) ' adjective'\n",
      "(17, 297) ' course'\n",
      "(17, 3784) ' falsely'\n",
      "(17, 4587) ' include'\n",
      "(17, 1460) ' ago'\n",
      "(17, 4825) ' than'\n",
      "(17, 4600) ' Company'\n",
      "(17, 4317) ' slightest'\n",
      "(18, 226) ' latter'\n",
      "(18, 3105) ' appellate'\n",
      "(18, 670) ' anniversary'\n",
      "(18, 3621) ' backdrop'\n",
      "(18, 3484) ' commands'\n",
      "(18, 1529) ' yourselves'\n",
      "(18, 1592) ' syndrome'\n",
      "(18, 1325) ' such'\n",
      "(18, 4294) ' chassis'\n",
      "(18, 3408) ' anymore'\n",
      "(18, 1569) ' collectively'\n",
      "(18, 3317) ' basis'\n",
      "(18, 1586) ' scanner'\n",
      "(18, 4532) ' promises'\n",
      "(18, 4008) ' blink'\n",
      "(18, 2327) ' imaginable'\n",
      "(18, 1375) ' untrue'\n",
      "(18, 2139) ' doctors'\n",
      "(18, 515) ' myself'\n",
      "(18, 3908) ' farmland'\n",
      "(19, 3415) ' respectively'\n",
      "(19, 4772) ' similarly'\n",
      "(19, 3361) ' common'\n",
      "(19, 2226) ' songs'\n",
      "(19, 1067) ' Apostles'\n",
      "(19, 4946) ' Hollande'\n",
      "(19, 2827) ' websites'\n",
      "(19, 584) ' respectively'\n",
      "(19, 341) ' nor'\n",
      "(19, 3484) ' test'\n",
      "(19, 4228) ' standpoint'\n",
      "(19, 2709) ' threshold'\n",
      "(19, 1236) ' mountain'\n",
      "(19, 1310) ' Turns'\n",
      "(19, 1129) ' themselves'\n",
      "(19, 3564) ' regularly'\n",
      "(19, 1895) ' murdered'\n",
      "(19, 5065) ' possible'\n",
      "(19, 589) ' bids'\n",
      "(19, 1483) ' supermarket'\n",
      "(20, 1119) ' themselves'\n",
      "(20, 3135) ' fundraiser'\n",
      "(20, 3768) ' particular'\n",
      "(20, 109) ' mutually'\n",
      "(20, 4943) ' lately'\n",
      "(20, 845) ' pseudonym'\n",
      "(20, 1601) ' depends'\n",
      "(20, 3754) ' languages'\n",
      "(20, 1060) ' County'\n",
      "(20, 604) ' instead'\n",
      "(20, 872) ' confidentiality'\n",
      "(20, 2123) ' death'\n",
      "(20, 4441) ' anymore'\n",
      "(20, 4368) ' together'\n",
      "(20, 1674) ' Reuters'\n",
      "(20, 338) ' actual'\n",
      "(20, 3119) ' namely'\n",
      "(20, 1605) ' quicker'\n",
      "(20, 4487) ' usually'\n",
      "(20, 2506) ' 2015'\n"
     ]
    }
   ],
   "source": [
    "# rejected_neurons = [(9, 2322), (9, 2894), (11, 3033)] # GPT-2 Small, 20 neurons per layer\n",
    "# rejected_neurons = [(23, 3671), (23, 3177)] # GPT-2 Medium, 20 neurons per layer\n",
    "# rejected_neurons = [(31, 4172), (31, 4899), (32, 4361), (33, 1582), (33, 122), (33, 2587), \n",
    "#                     (34, 2978), (34, 805), (35, 274), (35, 920), (35, 4849), (35, 684), \n",
    "#                     (35, 4396), (35, 295), (35, 3065), (35, 989)]  # GPT-2 Large, 40 neurons per layer\n",
    "# rejected_neurons = [(44, 1657), (45, 284),(45, 4415) ,(46, 1785),(46, 1795),(47, 2065),\n",
    "                    # (47, 1147),(47, 3489), (47, 4845),(47, 5429),(47, 4019),\n",
    "                    # (43, 403),(47, 6356),(47, 3775),(47, 3635),] # GPT-2 XL, 20 neurons per layer\n",
    "\n",
    "rejected_neurons = [(16, 2727), (16, 523), (17, 4787),(18, 2078),(18, 123),(18, 4681),(19, 5095),(19, 4034),(20, 2259),(16, 4244),(20,795)]\n",
    "# Update this until you are satisfied with the results\n",
    "\n",
    "neuron_results, rejected_neurons_with_token = find_neurons(\n",
    "    model=model,\n",
    "    layers=layers,\n",
    "    num_neurons_per_layer=num_neurons_per_layer,\n",
    "    rejected_neurons=rejected_neurons,\n",
    ")\n",
    "\n",
    "for k, v in neuron_results.items():\n",
    "    print(k, f\"'{v['token']}'\")"
   ]
  },
  {
   "cell_type": "code",
   "execution_count": 7,
   "metadata": {},
   "outputs": [],
   "source": [
    "## Output of this notebook\n",
    "output = {\n",
    "    'parameters': {\n",
    "        'model_name': model_name,\n",
    "        'layers': layers,\n",
    "        'num_neurons_per_layer': num_neurons_per_layer,\n",
    "        'rejected_neurons': rejected_neurons_with_token,\n",
    "    },\n",
    "    'neurons': {str(k): v for k,v in neuron_results.items()},\n",
    "}\n",
    "\n",
    "# Save the output to a in ../data/neurons/\n",
    "timestamp = time.strftime(\"%Y-%m-%d_%H-%M-%S\", time.localtime(int(time.time())))\n",
    "filename = f\"{timestamp}_{model_name}.json\"\n",
    "\n",
    "with open(f\"../experiment_data/1_next_token_neurons/{filename}\", 'w') as f:\n",
    "    json.dump(output, f, indent=4)"
   ]
  },
  {
   "cell_type": "code",
   "execution_count": null,
   "metadata": {},
   "outputs": [],
   "source": []
  }
 ],
 "metadata": {
  "kernelspec": {
   "display_name": "venv",
   "language": "python",
   "name": "python3"
  },
  "language_info": {
   "codemirror_mode": {
    "name": "ipython",
    "version": 3
   },
   "file_extension": ".py",
   "mimetype": "text/x-python",
   "name": "python",
   "nbconvert_exporter": "python",
   "pygments_lexer": "ipython3",
   "version": "3.11.5"
  }
 },
 "nbformat": 4,
 "nbformat_minor": 2
}
