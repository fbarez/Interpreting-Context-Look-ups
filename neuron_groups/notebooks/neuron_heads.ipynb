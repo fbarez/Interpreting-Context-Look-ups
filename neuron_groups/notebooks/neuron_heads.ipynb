{
 "cells": [
  {
   "attachments": {},
   "cell_type": "markdown",
   "metadata": {},
   "source": [
    "# Setup"
   ]
  },
  {
   "cell_type": "code",
   "execution_count": 1,
   "metadata": {},
   "outputs": [
    {
     "name": "stdout",
     "output_type": "stream",
     "text": [
      "Running as a Jupyter notebook\n"
     ]
    }
   ],
   "source": [
    "import plotly.io as pio\n",
    "try:\n",
    "    import google.colab\n",
    "    print(\"Running as a Colab notebook\")\n",
    "    pio.renderers.default = \"colab\"\n",
    "    %pip install transformer-lens fancy-einsum\n",
    "    %pip install -U kaleido # kaleido only works if you restart the runtime. Required to write figures to disk (final cell)\n",
    "except:\n",
    "    print(\"Running as a Jupyter notebook\")\n",
    "    pio.renderers.default = \"vscode\"\n",
    "    from IPython import get_ipython\n",
    "    ipython = get_ipython()"
   ]
  },
  {
   "cell_type": "code",
   "execution_count": 2,
   "metadata": {},
   "outputs": [
    {
     "data": {
      "text/plain": [
       "device(type='cpu')"
      ]
     },
     "execution_count": 2,
     "metadata": {},
     "output_type": "execute_result"
    }
   ],
   "source": [
    "import torch\n",
    "from fancy_einsum import einsum\n",
    "from transformer_lens import HookedTransformer, HookedTransformerConfig, utils, ActivationCache\n",
    "from torchtyping import TensorType as TT\n",
    "import plotly.express as px\n",
    "import plotly.graph_objects as go\n",
    "import numpy as np\n",
    "import einops\n",
    "from typing import List, Union, Optional\n",
    "from functools import partial\n",
    "import pandas as pd\n",
    "from pathlib import Path\n",
    "import urllib.request\n",
    "from bs4 import BeautifulSoup\n",
    "from tqdm import tqdm\n",
    "from datasets import load_dataset\n",
    "import os\n",
    "\n",
    "os.environ[\"TOKENIZERS_PARALLELISM\"] = \"false\" # https://stackoverflow.com/q/62691279\n",
    "torch.set_grad_enabled(False)\n",
    "device = torch.device(\"cuda\" if torch.cuda.is_available() else \"cpu\")\n",
    "device"
   ]
  },
  {
   "cell_type": "code",
   "execution_count": 3,
   "metadata": {},
   "outputs": [
    {
     "name": "stdout",
     "output_type": "stream",
     "text": [
      "Requirement already satisfied: circuitsvis in /Users/clementneo/projects/aan/aan/lib/python3.10/site-packages (1.39.1)\n",
      "Requirement already satisfied: torch<2.0,>=1.10 in /Users/clementneo/projects/aan/aan/lib/python3.10/site-packages (from circuitsvis) (1.13.1)\n",
      "Requirement already satisfied: numpy<2.0,>=1.23 in /Users/clementneo/projects/aan/aan/lib/python3.10/site-packages (from circuitsvis) (1.24.1)\n",
      "Requirement already satisfied: importlib-metadata<6.0.0,>=5.1.0 in /Users/clementneo/projects/aan/aan/lib/python3.10/site-packages (from circuitsvis) (5.2.0)\n",
      "Requirement already satisfied: zipp>=0.5 in /Users/clementneo/projects/aan/aan/lib/python3.10/site-packages (from importlib-metadata<6.0.0,>=5.1.0->circuitsvis) (3.14.0)\n",
      "Requirement already satisfied: typing-extensions in /Users/clementneo/projects/aan/aan/lib/python3.10/site-packages (from torch<2.0,>=1.10->circuitsvis) (4.4.0)\n",
      "\n",
      "\u001b[1m[\u001b[0m\u001b[34;49mnotice\u001b[0m\u001b[1;39;49m]\u001b[0m\u001b[39;49m A new release of pip is available: \u001b[0m\u001b[31;49m23.0.1\u001b[0m\u001b[39;49m -> \u001b[0m\u001b[32;49m23.1.2\u001b[0m\n",
      "\u001b[1m[\u001b[0m\u001b[34;49mnotice\u001b[0m\u001b[1;39;49m]\u001b[0m\u001b[39;49m To update, run: \u001b[0m\u001b[32;49mpip install --upgrade pip\u001b[0m\n"
     ]
    }
   ],
   "source": [
    "!pip install circuitsvis\n",
    "import circuitsvis as cv"
   ]
  },
  {
   "cell_type": "code",
   "execution_count": 4,
   "metadata": {},
   "outputs": [],
   "source": [
    "pio.renderers.default='vscode'\n",
    "\n",
    "def imshow(tensor, renderer=None, **kwargs):\n",
    "    px.imshow(utils.to_numpy(tensor), color_continuous_midpoint=0.0, color_continuous_scale=\"RdBu\", **kwargs).show(renderer)\n",
    "\n",
    "def line(tensor, renderer=None, **kwargs):\n",
    "    px.line(y=utils.to_numpy(tensor), **kwargs).show(renderer)\n",
    "\n",
    "def scatter(x, y, xaxis=\"\", yaxis=\"\", caxis=\"\", renderer=None, **kwargs):\n",
    "    x = utils.to_numpy(x)\n",
    "    y = utils.to_numpy(y)\n",
    "    px.scatter(y=y, x=x, labels={\"x\":xaxis, \"y\":yaxis, \"color\":caxis}, **kwargs).show(renderer)"
   ]
  },
  {
   "cell_type": "code",
   "execution_count": 5,
   "metadata": {},
   "outputs": [
    {
     "name": "stderr",
     "output_type": "stream",
     "text": [
      "Using pad_token, but it is not set yet.\n"
     ]
    },
    {
     "name": "stdout",
     "output_type": "stream",
     "text": [
      "Loaded pretrained model gpt2-large into HookedTransformer\n"
     ]
    }
   ],
   "source": [
    "model = HookedTransformer.from_pretrained(\n",
    "    \"gpt2-large\",\n",
    "    center_unembed=True,\n",
    "    center_writing_weights=True,\n",
    "    fold_ln=True,\n",
    "    refactor_factored_attn_matrices=True,\n",
    "    device=device,\n",
    ")"
   ]
  },
  {
   "attachments": {},
   "cell_type": "markdown",
   "metadata": {},
   "source": [
    "# Neuron Exploration"
   ]
  },
  {
   "cell_type": "code",
   "execution_count": 148,
   "metadata": {},
   "outputs": [],
   "source": [
    "# neuron = (34, 4954) # number neuron\n",
    "# prompts = [\n",
    "#     \"When I was writing my first book, I was going from eleven at night till\",\n",
    "#     \"The most merciful thing that the large family does to one of its infant members is to kill it. The same factors which create the terrible infant mortality rate, and which swell the death rate of children between the ages of one and\",\n",
    "#     \"The federal government and plaintiffs including the North Carolina NAACP and the League of Women Voters argued during a hearing last month that three important parts of the law—a reduction in early voting from seventeen to\",\n",
    "#     \"Serial killers, they concluded, fall into one of\",\n",
    "#     \"If no candidate had an outright majority—and the framers assumed that this would be normal once George Washington had passed from the scene—the House would choose among the top five, later reduced to the top\",\n",
    "#     \"If you listen to most so-called survival experts, they often suggest that your BOB should contain enough supplies to last for at least seventy-\",\n",
    "#     \"The notion that our outlook on life is connected to our well-being is not a new one. In the nineteen-sixties, the University of Connecticut psychologist Julian Rotter proposed that we could view external events in one of\",\n",
    "# ]\n",
    "\n",
    "\n",
    "# neuron = (31, 894) # an-neuron\n",
    "# # These prompts don't actually give \"an\" as a top prediction, probably because of the shorter context windows\n",
    "# prompts = [\n",
    "#     \"The pet peeve of Steresoscopic 3D film-making, unless done correctly. (Bokeh) This technique is worth exploring in\",\n",
    "#     \"Parents often disagree about homework, chores, and technology usage, and that's okay. However, each parent should have\",\n",
    "#     \"But I think a lot of teams haven't realized when to pick him and how to play him just yet, so maybe we will have\",\n",
    "#     \"The first part of the talk revisited some of the things Jon talked about on Friday night, with\",\n",
    "#     \"However, as far local LAN tournaments, there was the first ChiCraft this past winter, and we'll certainly be doing another one over the summer (June/July-ish?). There isn't\"\n",
    "# ]\n",
    "\n",
    "# issue neuron\n",
    "neuron = (35, 4518)\n",
    "prompts = [\n",
    "    \"You can also invest in bonds from foreign governments. Many governments\",\n",
    "    \"Squanchy, Birdperson, and Rick were once freedom fighters against the Galactic Federation's oppression; their \\\"crimes\\\" led the Galactic Federation to\",\n",
    "    \"The disadvantage is that the one holding the reserves would be paying a high opportunity cost. Why would you put so much money aside? There needs to be some gain opportunity for private individuals to voluntary\",\n",
    "    \"As of March 2008, this had declined by 24%, to 53 months. 71% of this debt is due in less than 5 years; 39% is due in less than a year.In the Clinton/Rubin era, the Treasury stopped\",\n",
    "]\n",
    "\n",
    "\n",
    "tokens = model.to_tokens(prompts, prepend_bos=True).to(device=device)\n",
    "original_logits, cache = model.run_with_cache(tokens)"
   ]
  },
  {
   "cell_type": "code",
   "execution_count": 169,
   "metadata": {},
   "outputs": [
    {
     "name": "stdout",
     "output_type": "stream",
     "text": [
      "torch.Size([4, 3])\n",
      "tensor([[626, 671, 682],\n",
      "        [671, 682, 325],\n",
      "        [671, 682, 688],\n",
      "        [605, 671, 682]])\n"
     ]
    }
   ],
   "source": [
    "def get_head_attribution(cache, tokens, neuron):\n",
    "    # Get prompt lengths\n",
    "    pad_token = bos_token = 50256 # This is true for GPT-2\n",
    "    prompt_lengths = (torch.logical_and(tokens != pad_token, tokens != bos_token)).sum(dim=-1)\n",
    "\n",
    "    # Get the correct last-seq for each prompt (since they are padded, the last seq position differs for each prompt)\n",
    "    head_output = cache.stack_head_results()\n",
    "    expanded_index_tensor = prompt_lengths.unsqueeze(0).unsqueeze(-1).unsqueeze(-1).expand(head_output.shape[0], head_output.shape[1], 1, head_output.shape[-1])\n",
    "    head_output_last_seq = torch.gather(head_output, 2, expanded_index_tensor).squeeze(2)\n",
    "\n",
    "    # Get dot product of neuron with each head's output\n",
    "\n",
    "    layer, no = neuron\n",
    "    neuron_w_in = model.W_in[layer, :, no]\n",
    "    head_attribution = einsum(\"head batch weight, weight->batch head\", head_output_last_seq, neuron_w_in)\n",
    "    head_attribution = head_attribution[:, :layer*model.cfg.n_heads] # Filter for only heads before the neuron\n",
    "    return head_attribution # Shape [batch, head]\n",
    "\n",
    "head_attribution = get_head_attribution(cache, tokens, neuron)\n",
    "_, top_heads = torch.topk(head_attribution, k=3, dim=-1)\n",
    "print(top_heads)"
   ]
  },
  {
   "cell_type": "code",
   "execution_count": 168,
   "metadata": {},
   "outputs": [
    {
     "name": "stdout",
     "output_type": "stream",
     "text": [
      "4\n"
     ]
    },
    {
     "data": {
      "application/vnd.plotly.v1+json": {
       "config": {
        "plotlyServerURL": "https://plot.ly"
       },
       "data": [
        {
         "coloraxis": "coloraxis",
         "hovertemplate": "x: %{x}<br>y: %{y}<br>color: %{z}<extra></extra>",
         "name": "0",
         "type": "heatmap",
         "xaxis": "x",
         "yaxis": "y",
         "z": [
          [
           -0.10503823,
           -0.03246281,
           0.13115802,
           -0.10109185,
           0.08244729,
           -0.008318319,
           0.025248045,
           0.022840515,
           0.06223037,
           0.07981693,
           0.1391196,
           0.051924814,
           0.04131116,
           0.029054556,
           -0.045017026,
           -0.00087312236,
           -0.0365465,
           -0.040781565,
           -0.017069353,
           0.06962788
          ],
          [
           -0.026049305,
           0.07330568,
           0.010133423,
           0.033222966,
           -0.005437672,
           -0.04052541,
           0.0473802,
           -0.0702605,
           0.07878908,
           -0.033331394,
           0.0068006096,
           -0.07380575,
           0.14428487,
           0.15787244,
           0.02467819,
           -0.028696718,
           -0.024452277,
           0.0136036575,
           -0.05441095,
           -0.02769117
          ],
          [
           0.15164381,
           -0.0027136505,
           -0.029893,
           -0.016771398,
           -0.18381393,
           -0.008063223,
           0.12237556,
           0.05831806,
           0.0601667,
           0.15309915,
           -0.2127035,
           -0.13075319,
           -0.15120888,
           0.29805315,
           0.008759565,
           0.12563819,
           0.15401062,
           -0.06470738,
           0.011851067,
           0.16039664
          ],
          [
           0.73533183,
           -0.030840814,
           0.0045473278,
           0.2116327,
           -0.03242628,
           -0.026042357,
           0.08752185,
           0.0016874773,
           0.110645056,
           0.020319894,
           0.01209059,
           0.15288578,
           0.040352598,
           -0.0038430989,
           -0.073901944,
           0.10976597,
           0.070318334,
           -0.11831331,
           -0.02300683,
           -0.009355413
          ],
          [
           0.087775365,
           -0.1989386,
           0.055019125,
           0.11355808,
           0.30682927,
           0.4185369,
           -0.02530858,
           -0.2010884,
           0.5986508,
           0.027762346,
           -0.056496978,
           -0.03839329,
           0.23592415,
           -0.091824055,
           -0.017041458,
           0.022921126,
           0.12490332,
           0.00088917837,
           0.14769168,
           0.20752522
          ],
          [
           0.0932056,
           0.12973487,
           0.022940787,
           0.08294271,
           -0.037478656,
           0.1268528,
           0.17257535,
           -0.23030986,
           0.030125141,
           0.0506951,
           -0.119666524,
           0.07078392,
           -0.013350651,
           0.049211796,
           -0.37728304,
           -0.10865178,
           0.08331474,
           0.26160806,
           0.06365858,
           0.25681454
          ],
          [
           0.14640978,
           -0.0064251255,
           0.07249822,
           0.14663437,
           -0.02954046,
           -0.4700142,
           -0.009558219,
           0.024733491,
           -0.076545075,
           0.17840809,
           0.016688913,
           0.094169274,
           0.044853702,
           -0.17415757,
           -0.13547394,
           0.14073175,
           0.043061145,
           0.13472177,
           -0.022561792,
           0.010902621
          ],
          [
           0.02333831,
           0.13368438,
           0.12498608,
           -0.06778091,
           -0.0331902,
           -0.046299115,
           -0.003104329,
           0.1759797,
           -0.064726904,
           0.041090593,
           0.049351845,
           -0.13861325,
           0.102093294,
           -0.0036083162,
           -0.040347856,
           0.014864542,
           -0.019871823,
           0.08441301,
           0.08278879,
           0.041635454
          ],
          [
           -0.020067383,
           -0.062410504,
           -0.07738669,
           0.12119875,
           -0.015496692,
           0.047990657,
           0.0035708826,
           -0.044495948,
           -0.13360576,
           -0.068501934,
           -0.058386963,
           -0.007860443,
           0.04770302,
           0.046332825,
           0.10059777,
           0.03342633,
           0.067439094,
           0.091122076,
           0.013603672,
           0.10632825
          ],
          [
           0.027626436,
           0.09981429,
           0.026033254,
           0.13448331,
           0.093612894,
           0.007579878,
           0.37257105,
           -0.034914672,
           -0.037683018,
           -0.031219851,
           0.0109514855,
           -0.12329837,
           -0.04445409,
           -0.03268683,
           0.07801873,
           0.009931531,
           0.019419838,
           -0.02101497,
           0.024591688,
           0.08703812
          ],
          [
           0.06553371,
           0.08566881,
           -0.056799453,
           -0.012163792,
           -0.021892672,
           -0.14475237,
           0.037687294,
           0.030929714,
           -0.111910254,
           0.017263811,
           -0.018422883,
           0.07677628,
           0.006699696,
           0.09402974,
           -0.07476744,
           0.0018022247,
           0.23463237,
           0.0015820861,
           0.08323034,
           -0.06069499
          ],
          [
           -0.016710516,
           -0.08786175,
           0.13028473,
           0.18958253,
           -0.075384855,
           0.0042698756,
           0.011634424,
           0.14906433,
           0.058643103,
           0.10301784,
           0.038874097,
           0.030508485,
           -0.116479374,
           0.022328887,
           0.01033628,
           0.037390366,
           0.051916707,
           0.0019312203,
           0.23655477,
           -0.024697214
          ],
          [
           0.1419738,
           0.020135378,
           -0.043025322,
           0.012276376,
           0.013103627,
           -0.07916765,
           0.014077524,
           0.13003416,
           0.06965944,
           0.073152736,
           -0.10583164,
           0.0372716,
           0.03469867,
           0.36252004,
           0.15220942,
           -0.0148040755,
           0.21489888,
           -0.00624846,
           -0.06137829,
           0.022806838
          ],
          [
           0.051561248,
           0.01858735,
           -0.17023721,
           -0.03181876,
           -0.0017892104,
           0.045580596,
           -0.11422546,
           -0.018307963,
           0.0036462042,
           0.085098185,
           -0.06347531,
           -0.162594,
           0.06152032,
           0.01205783,
           0.06702828,
           -0.0037983973,
           0.17229247,
           0.13779284,
           0.03627979,
           0.045021094
          ],
          [
           0.07692555,
           0.1564888,
           0.034966182,
           0.030714095,
           -0.008243385,
           0.0085112825,
           0.05635447,
           -0.0998995,
           0.021467872,
           0.026965389,
           0.029314362,
           0.007930279,
           -0.14299452,
           0.06570506,
           0.16907719,
           0.3111943,
           -0.05559924,
           -0.047041602,
           -0.0023957277,
           -0.112893045
          ],
          [
           0.027533298,
           -0.1932609,
           0.0493623,
           0.038103655,
           0.47381702,
           -0.21375574,
           0.078531966,
           0.038766347,
           -0.05921931,
           -0.09802203,
           0.008624233,
           0.11061342,
           -0.16486254,
           0.08320191,
           0.34025508,
           -0.09303753,
           0.16786215,
           -0.04526999,
           -0.09343725,
           0.12217067
          ],
          [
           0.022935756,
           0.0029512867,
           -0.20164275,
           0.050592586,
           -0.031788126,
           -0.08856601,
           0.01934822,
           -0.07230578,
           0.2465531,
           -0.027665883,
           0.30698022,
           -0.07831286,
           -0.12673897,
           0.3442998,
           -0.036044825,
           -0.16741395,
           0.09730033,
           0.061866745,
           0.08371909,
           0.044697307
          ],
          [
           -0.27524224,
           0.10920548,
           -0.020428613,
           0.20883289,
           0.034994952,
           0.33057436,
           -0.030645464,
           -0.038440254,
           0.09209488,
           -0.071852915,
           0.08639045,
           -0.080886796,
           -0.021956177,
           -0.093707465,
           0.048130378,
           0.08212327,
           0.45211375,
           0.003131032,
           0.03910277,
           0.12777829
          ],
          [
           0.030695554,
           0.18026516,
           -0.015191145,
           -0.16920197,
           0.15783714,
           -0.562239,
           0.18542086,
           -0.05697853,
           -0.1985264,
           -0.04527892,
           0.046035495,
           0.036719672,
           -0.19508138,
           0.2925598,
           0.23869583,
           0.19149211,
           -0.011429275,
           -0.052644648,
           0.037980318,
           -0.31642514
          ],
          [
           0.15582237,
           0.13628,
           0.10153038,
           0.06298948,
           -0.03121387,
           -0.035057776,
           -0.08581492,
           0.00305295,
           -0.12409611,
           0.0070676245,
           0.115539335,
           -0.018573657,
           0.08952901,
           0.0021329448,
           -0.27554572,
           -0.13640341,
           0.23150349,
           0.86601746,
           -0.013823196,
           0.046102934
          ],
          [
           0.025600068,
           -0.050417684,
           -0.44702956,
           0.069933176,
           0.07308551,
           0.106936604,
           0.06567883,
           -0.012357876,
           -0.060791746,
           0.34598786,
           -0.05359281,
           -0.0040753633,
           0.10895723,
           -0.14888713,
           -0.081747636,
           0.26761764,
           0.1802084,
           -0.11702827,
           -0.009358791,
           0.008410566
          ],
          [
           -0.041036308,
           -0.14372587,
           0.1370334,
           0.28914034,
           -0.049263287,
           0.009554282,
           -0.034304447,
           0.09837155,
           0.013848815,
           0.038976252,
           0.2349478,
           0.010471119,
           0.015915424,
           -0.16707756,
           0.06343217,
           -0.038959302,
           0.009281835,
           -0.013591301,
           -0.019020744,
           0.05216543
          ],
          [
           -0.03584951,
           0.17441583,
           -0.06989296,
           0.08955368,
           -0.08679059,
           -0.0994146,
           0.12948216,
           -0.045897543,
           1.2901639,
           0.013847623,
           0.29341918,
           -0.08494666,
           -0.16380195,
           -0.042542156,
           -0.32534447,
           -0.0006546518,
           0.1508854,
           -0.0022785887,
           0.0047643185,
           0.10572549
          ],
          [
           0.064779624,
           0.0390774,
           -0.043745138,
           0.024894826,
           0.30433598,
           -0.052236155,
           0.047231853,
           0.05701324,
           -0.010834077,
           1.0951383,
           0.37409204,
           -0.43230018,
           0.04793115,
           0.012110134,
           -0.11816272,
           -0.021324944,
           -0.0014037862,
           -0.24324235,
           -0.15450437,
           0.024641363
          ],
          [
           0.016840994,
           -0.090115234,
           0.9347559,
           0.3533137,
           0.018161014,
           0.040105246,
           -0.13696124,
           0.21577476,
           0.055534445,
           -0.11626729,
           0.13986282,
           -0.008413505,
           0.24051237,
           0.0067594238,
           -0.054309048,
           0.0101203285,
           -0.026746808,
           0.3263799,
           0.03989537,
           -0.11052841
          ],
          [
           -0.08878993,
           0.059386097,
           0.040718578,
           0.03964209,
           0.3628479,
           0.039426368,
           -0.17060241,
           -0.02122913,
           0.015700348,
           0.18464288,
           0.007367952,
           -0.038215756,
           -0.06714344,
           0.001044671,
           0.18028057,
           -0.11881223,
           0.26819527,
           0.15931694,
           -0.03704139,
           1.5934794
          ],
          [
           -0.10930489,
           0.027219325,
           -0.03645441,
           -0.051892824,
           -0.14953035,
           0.23697624,
           0.06649761,
           0.033328652,
           -0.0048941597,
           -0.015834082,
           0.07542878,
           -0.009529123,
           0.01939637,
           0.027057268,
           0.089447066,
           0.008649102,
           -0.022908816,
           -0.16268831,
           0.011233716,
           -0.14843428
          ],
          [
           0.016658291,
           -0.025973905,
           0.094838336,
           -0.014887426,
           -0.18151157,
           -0.68912446,
           0.012967585,
           0.037155453,
           0.03473524,
           -0.023710955,
           -0.059832256,
           -0.095840365,
           0.016369939,
           -0.029859576,
           0.07934383,
           0.4651745,
           0.042770125,
           0.073206,
           0.5039469,
           0.16147171
          ],
          [
           0.028232675,
           -0.06702128,
           0.068926536,
           -0.068313584,
           0.02162924,
           0.012276657,
           0.10599933,
           0.037994105,
           0.4353161,
           -0.09291755,
           0.006723089,
           -0.07519032,
           -0.039402496,
           -0.020069014,
           -0.1508189,
           0.15863806,
           0.48826033,
           -0.014346285,
           0.034167256,
           -0.053723693
          ],
          [
           -0.074615166,
           0.0018496728,
           0.029266173,
           0.09334526,
           -0.24778453,
           -0.009697348,
           -0.21373294,
           -0.010291886,
           -0.31263936,
           0.11236125,
           0.017562756,
           -0.029742943,
           0.09578869,
           0.033810735,
           -0.05889237,
           1.6393031,
           -0.089073345,
           0.06272803,
           -0.06105906,
           0.064317815
          ],
          [
           0.13800281,
           -0.06828911,
           0.09348005,
           0.030165233,
           0.038056783,
           0.8314842,
           -0.040440604,
           0.011239633,
           0.15458307,
           0.011730365,
           0.037049852,
           0.039158925,
           -0.036591016,
           -0.0038329512,
           0.076467775,
           -0.064500935,
           -0.10277356,
           -0.08191338,
           -0.116555534,
           0.063160524
          ],
          [
           0.18632364,
           0.028890047,
           0.0032711946,
           0.35199,
           0.053925466,
           -0.082413346,
           2.7789934,
           0.03329736,
           0.07295076,
           0.09144442,
           -0.078688204,
           -0.025242925,
           0.13920847,
           -0.02295446,
           -0.15696576,
           0.008463283,
           0.09500024,
           -0.0068102777,
           -0.087903745,
           -0.056280985
          ],
          [
           0.0082574,
           1.3869826,
           0.30570042,
           0.274491,
           0.11609681,
           0.28174305,
           -0.016680803,
           -0.046997007,
           0.030391179,
           0.19027127,
           -0.21761766,
           -0.08091671,
           -0.07552772,
           0.0161033,
           -0.029410305,
           0.09395633,
           0.07513391,
           -0.028162375,
           0.7802349,
           -0.12792182
          ],
          [
           -0.017485484,
           0.07998536,
           -0.010212038,
           -0.011187003,
           1.0512629,
           -0.057582352,
           0.0132192485,
           -0.045508668,
           0.20382017,
           -0.02784698,
           -0.026466832,
           1.9296155,
           -0.08222517,
           0.010725182,
           0.0502481,
           0.064137936,
           0.1319758,
           0.045199245,
           0.02123092,
           0.23750845
          ],
          [
           0.039588373,
           0.20030776,
           1.6707484,
           0.26159164,
           0.29663953,
           0.18572463,
           0.03000737,
           -0.15355939,
           1.1938877,
           0.21173537,
           -0.23127574,
           1.6505605,
           -0.042879112,
           -0.01876913,
           0.19611812,
           -0.09161805,
           0.12445238,
           -0.03521001,
           -0.24962698,
           -0.1611729
          ]
         ]
        }
       ],
       "layout": {
        "coloraxis": {
         "cmid": 0,
         "colorscale": [
          [
           0,
           "rgb(103,0,31)"
          ],
          [
           0.1,
           "rgb(178,24,43)"
          ],
          [
           0.2,
           "rgb(214,96,77)"
          ],
          [
           0.3,
           "rgb(244,165,130)"
          ],
          [
           0.4,
           "rgb(253,219,199)"
          ],
          [
           0.5,
           "rgb(247,247,247)"
          ],
          [
           0.6,
           "rgb(209,229,240)"
          ],
          [
           0.7,
           "rgb(146,197,222)"
          ],
          [
           0.8,
           "rgb(67,147,195)"
          ],
          [
           0.9,
           "rgb(33,102,172)"
          ],
          [
           1,
           "rgb(5,48,97)"
          ]
         ]
        },
        "template": {
         "data": {
          "bar": [
           {
            "error_x": {
             "color": "#2a3f5f"
            },
            "error_y": {
             "color": "#2a3f5f"
            },
            "marker": {
             "line": {
              "color": "#E5ECF6",
              "width": 0.5
             },
             "pattern": {
              "fillmode": "overlay",
              "size": 10,
              "solidity": 0.2
             }
            },
            "type": "bar"
           }
          ],
          "barpolar": [
           {
            "marker": {
             "line": {
              "color": "#E5ECF6",
              "width": 0.5
             },
             "pattern": {
              "fillmode": "overlay",
              "size": 10,
              "solidity": 0.2
             }
            },
            "type": "barpolar"
           }
          ],
          "carpet": [
           {
            "aaxis": {
             "endlinecolor": "#2a3f5f",
             "gridcolor": "white",
             "linecolor": "white",
             "minorgridcolor": "white",
             "startlinecolor": "#2a3f5f"
            },
            "baxis": {
             "endlinecolor": "#2a3f5f",
             "gridcolor": "white",
             "linecolor": "white",
             "minorgridcolor": "white",
             "startlinecolor": "#2a3f5f"
            },
            "type": "carpet"
           }
          ],
          "choropleth": [
           {
            "colorbar": {
             "outlinewidth": 0,
             "ticks": ""
            },
            "type": "choropleth"
           }
          ],
          "contour": [
           {
            "colorbar": {
             "outlinewidth": 0,
             "ticks": ""
            },
            "colorscale": [
             [
              0,
              "#0d0887"
             ],
             [
              0.1111111111111111,
              "#46039f"
             ],
             [
              0.2222222222222222,
              "#7201a8"
             ],
             [
              0.3333333333333333,
              "#9c179e"
             ],
             [
              0.4444444444444444,
              "#bd3786"
             ],
             [
              0.5555555555555556,
              "#d8576b"
             ],
             [
              0.6666666666666666,
              "#ed7953"
             ],
             [
              0.7777777777777778,
              "#fb9f3a"
             ],
             [
              0.8888888888888888,
              "#fdca26"
             ],
             [
              1,
              "#f0f921"
             ]
            ],
            "type": "contour"
           }
          ],
          "contourcarpet": [
           {
            "colorbar": {
             "outlinewidth": 0,
             "ticks": ""
            },
            "type": "contourcarpet"
           }
          ],
          "heatmap": [
           {
            "colorbar": {
             "outlinewidth": 0,
             "ticks": ""
            },
            "colorscale": [
             [
              0,
              "#0d0887"
             ],
             [
              0.1111111111111111,
              "#46039f"
             ],
             [
              0.2222222222222222,
              "#7201a8"
             ],
             [
              0.3333333333333333,
              "#9c179e"
             ],
             [
              0.4444444444444444,
              "#bd3786"
             ],
             [
              0.5555555555555556,
              "#d8576b"
             ],
             [
              0.6666666666666666,
              "#ed7953"
             ],
             [
              0.7777777777777778,
              "#fb9f3a"
             ],
             [
              0.8888888888888888,
              "#fdca26"
             ],
             [
              1,
              "#f0f921"
             ]
            ],
            "type": "heatmap"
           }
          ],
          "heatmapgl": [
           {
            "colorbar": {
             "outlinewidth": 0,
             "ticks": ""
            },
            "colorscale": [
             [
              0,
              "#0d0887"
             ],
             [
              0.1111111111111111,
              "#46039f"
             ],
             [
              0.2222222222222222,
              "#7201a8"
             ],
             [
              0.3333333333333333,
              "#9c179e"
             ],
             [
              0.4444444444444444,
              "#bd3786"
             ],
             [
              0.5555555555555556,
              "#d8576b"
             ],
             [
              0.6666666666666666,
              "#ed7953"
             ],
             [
              0.7777777777777778,
              "#fb9f3a"
             ],
             [
              0.8888888888888888,
              "#fdca26"
             ],
             [
              1,
              "#f0f921"
             ]
            ],
            "type": "heatmapgl"
           }
          ],
          "histogram": [
           {
            "marker": {
             "pattern": {
              "fillmode": "overlay",
              "size": 10,
              "solidity": 0.2
             }
            },
            "type": "histogram"
           }
          ],
          "histogram2d": [
           {
            "colorbar": {
             "outlinewidth": 0,
             "ticks": ""
            },
            "colorscale": [
             [
              0,
              "#0d0887"
             ],
             [
              0.1111111111111111,
              "#46039f"
             ],
             [
              0.2222222222222222,
              "#7201a8"
             ],
             [
              0.3333333333333333,
              "#9c179e"
             ],
             [
              0.4444444444444444,
              "#bd3786"
             ],
             [
              0.5555555555555556,
              "#d8576b"
             ],
             [
              0.6666666666666666,
              "#ed7953"
             ],
             [
              0.7777777777777778,
              "#fb9f3a"
             ],
             [
              0.8888888888888888,
              "#fdca26"
             ],
             [
              1,
              "#f0f921"
             ]
            ],
            "type": "histogram2d"
           }
          ],
          "histogram2dcontour": [
           {
            "colorbar": {
             "outlinewidth": 0,
             "ticks": ""
            },
            "colorscale": [
             [
              0,
              "#0d0887"
             ],
             [
              0.1111111111111111,
              "#46039f"
             ],
             [
              0.2222222222222222,
              "#7201a8"
             ],
             [
              0.3333333333333333,
              "#9c179e"
             ],
             [
              0.4444444444444444,
              "#bd3786"
             ],
             [
              0.5555555555555556,
              "#d8576b"
             ],
             [
              0.6666666666666666,
              "#ed7953"
             ],
             [
              0.7777777777777778,
              "#fb9f3a"
             ],
             [
              0.8888888888888888,
              "#fdca26"
             ],
             [
              1,
              "#f0f921"
             ]
            ],
            "type": "histogram2dcontour"
           }
          ],
          "mesh3d": [
           {
            "colorbar": {
             "outlinewidth": 0,
             "ticks": ""
            },
            "type": "mesh3d"
           }
          ],
          "parcoords": [
           {
            "line": {
             "colorbar": {
              "outlinewidth": 0,
              "ticks": ""
             }
            },
            "type": "parcoords"
           }
          ],
          "pie": [
           {
            "automargin": true,
            "type": "pie"
           }
          ],
          "scatter": [
           {
            "fillpattern": {
             "fillmode": "overlay",
             "size": 10,
             "solidity": 0.2
            },
            "type": "scatter"
           }
          ],
          "scatter3d": [
           {
            "line": {
             "colorbar": {
              "outlinewidth": 0,
              "ticks": ""
             }
            },
            "marker": {
             "colorbar": {
              "outlinewidth": 0,
              "ticks": ""
             }
            },
            "type": "scatter3d"
           }
          ],
          "scattercarpet": [
           {
            "marker": {
             "colorbar": {
              "outlinewidth": 0,
              "ticks": ""
             }
            },
            "type": "scattercarpet"
           }
          ],
          "scattergeo": [
           {
            "marker": {
             "colorbar": {
              "outlinewidth": 0,
              "ticks": ""
             }
            },
            "type": "scattergeo"
           }
          ],
          "scattergl": [
           {
            "marker": {
             "colorbar": {
              "outlinewidth": 0,
              "ticks": ""
             }
            },
            "type": "scattergl"
           }
          ],
          "scattermapbox": [
           {
            "marker": {
             "colorbar": {
              "outlinewidth": 0,
              "ticks": ""
             }
            },
            "type": "scattermapbox"
           }
          ],
          "scatterpolar": [
           {
            "marker": {
             "colorbar": {
              "outlinewidth": 0,
              "ticks": ""
             }
            },
            "type": "scatterpolar"
           }
          ],
          "scatterpolargl": [
           {
            "marker": {
             "colorbar": {
              "outlinewidth": 0,
              "ticks": ""
             }
            },
            "type": "scatterpolargl"
           }
          ],
          "scatterternary": [
           {
            "marker": {
             "colorbar": {
              "outlinewidth": 0,
              "ticks": ""
             }
            },
            "type": "scatterternary"
           }
          ],
          "surface": [
           {
            "colorbar": {
             "outlinewidth": 0,
             "ticks": ""
            },
            "colorscale": [
             [
              0,
              "#0d0887"
             ],
             [
              0.1111111111111111,
              "#46039f"
             ],
             [
              0.2222222222222222,
              "#7201a8"
             ],
             [
              0.3333333333333333,
              "#9c179e"
             ],
             [
              0.4444444444444444,
              "#bd3786"
             ],
             [
              0.5555555555555556,
              "#d8576b"
             ],
             [
              0.6666666666666666,
              "#ed7953"
             ],
             [
              0.7777777777777778,
              "#fb9f3a"
             ],
             [
              0.8888888888888888,
              "#fdca26"
             ],
             [
              1,
              "#f0f921"
             ]
            ],
            "type": "surface"
           }
          ],
          "table": [
           {
            "cells": {
             "fill": {
              "color": "#EBF0F8"
             },
             "line": {
              "color": "white"
             }
            },
            "header": {
             "fill": {
              "color": "#C8D4E3"
             },
             "line": {
              "color": "white"
             }
            },
            "type": "table"
           }
          ]
         },
         "layout": {
          "annotationdefaults": {
           "arrowcolor": "#2a3f5f",
           "arrowhead": 0,
           "arrowwidth": 1
          },
          "autotypenumbers": "strict",
          "coloraxis": {
           "colorbar": {
            "outlinewidth": 0,
            "ticks": ""
           }
          },
          "colorscale": {
           "diverging": [
            [
             0,
             "#8e0152"
            ],
            [
             0.1,
             "#c51b7d"
            ],
            [
             0.2,
             "#de77ae"
            ],
            [
             0.3,
             "#f1b6da"
            ],
            [
             0.4,
             "#fde0ef"
            ],
            [
             0.5,
             "#f7f7f7"
            ],
            [
             0.6,
             "#e6f5d0"
            ],
            [
             0.7,
             "#b8e186"
            ],
            [
             0.8,
             "#7fbc41"
            ],
            [
             0.9,
             "#4d9221"
            ],
            [
             1,
             "#276419"
            ]
           ],
           "sequential": [
            [
             0,
             "#0d0887"
            ],
            [
             0.1111111111111111,
             "#46039f"
            ],
            [
             0.2222222222222222,
             "#7201a8"
            ],
            [
             0.3333333333333333,
             "#9c179e"
            ],
            [
             0.4444444444444444,
             "#bd3786"
            ],
            [
             0.5555555555555556,
             "#d8576b"
            ],
            [
             0.6666666666666666,
             "#ed7953"
            ],
            [
             0.7777777777777778,
             "#fb9f3a"
            ],
            [
             0.8888888888888888,
             "#fdca26"
            ],
            [
             1,
             "#f0f921"
            ]
           ],
           "sequentialminus": [
            [
             0,
             "#0d0887"
            ],
            [
             0.1111111111111111,
             "#46039f"
            ],
            [
             0.2222222222222222,
             "#7201a8"
            ],
            [
             0.3333333333333333,
             "#9c179e"
            ],
            [
             0.4444444444444444,
             "#bd3786"
            ],
            [
             0.5555555555555556,
             "#d8576b"
            ],
            [
             0.6666666666666666,
             "#ed7953"
            ],
            [
             0.7777777777777778,
             "#fb9f3a"
            ],
            [
             0.8888888888888888,
             "#fdca26"
            ],
            [
             1,
             "#f0f921"
            ]
           ]
          },
          "colorway": [
           "#636efa",
           "#EF553B",
           "#00cc96",
           "#ab63fa",
           "#FFA15A",
           "#19d3f3",
           "#FF6692",
           "#B6E880",
           "#FF97FF",
           "#FECB52"
          ],
          "font": {
           "color": "#2a3f5f"
          },
          "geo": {
           "bgcolor": "white",
           "lakecolor": "white",
           "landcolor": "#E5ECF6",
           "showlakes": true,
           "showland": true,
           "subunitcolor": "white"
          },
          "hoverlabel": {
           "align": "left"
          },
          "hovermode": "closest",
          "mapbox": {
           "style": "light"
          },
          "paper_bgcolor": "white",
          "plot_bgcolor": "#E5ECF6",
          "polar": {
           "angularaxis": {
            "gridcolor": "white",
            "linecolor": "white",
            "ticks": ""
           },
           "bgcolor": "#E5ECF6",
           "radialaxis": {
            "gridcolor": "white",
            "linecolor": "white",
            "ticks": ""
           }
          },
          "scene": {
           "xaxis": {
            "backgroundcolor": "#E5ECF6",
            "gridcolor": "white",
            "gridwidth": 2,
            "linecolor": "white",
            "showbackground": true,
            "ticks": "",
            "zerolinecolor": "white"
           },
           "yaxis": {
            "backgroundcolor": "#E5ECF6",
            "gridcolor": "white",
            "gridwidth": 2,
            "linecolor": "white",
            "showbackground": true,
            "ticks": "",
            "zerolinecolor": "white"
           },
           "zaxis": {
            "backgroundcolor": "#E5ECF6",
            "gridcolor": "white",
            "gridwidth": 2,
            "linecolor": "white",
            "showbackground": true,
            "ticks": "",
            "zerolinecolor": "white"
           }
          },
          "shapedefaults": {
           "line": {
            "color": "#2a3f5f"
           }
          },
          "ternary": {
           "aaxis": {
            "gridcolor": "white",
            "linecolor": "white",
            "ticks": ""
           },
           "baxis": {
            "gridcolor": "white",
            "linecolor": "white",
            "ticks": ""
           },
           "bgcolor": "#E5ECF6",
           "caxis": {
            "gridcolor": "white",
            "linecolor": "white",
            "ticks": ""
           }
          },
          "title": {
           "x": 0.05
          },
          "xaxis": {
           "automargin": true,
           "gridcolor": "white",
           "linecolor": "white",
           "ticks": "",
           "title": {
            "standoff": 15
           },
           "zerolinecolor": "white",
           "zerolinewidth": 2
          },
          "yaxis": {
           "automargin": true,
           "gridcolor": "white",
           "linecolor": "white",
           "ticks": "",
           "title": {
            "standoff": 15
           },
           "zerolinecolor": "white",
           "zerolinewidth": 2
          }
         }
        },
        "title": {
         "text": "n bonds from foreign governments. Many governments"
        },
        "xaxis": {
         "anchor": "y",
         "constrain": "domain",
         "domain": [
          0,
          1
         ],
         "scaleanchor": "y"
        },
        "yaxis": {
         "anchor": "x",
         "autorange": "reversed",
         "constrain": "domain",
         "domain": [
          0,
          1
         ]
        }
       }
      }
     },
     "metadata": {},
     "output_type": "display_data"
    },
    {
     "data": {
      "application/vnd.plotly.v1+json": {
       "config": {
        "plotlyServerURL": "https://plot.ly"
       },
       "data": [
        {
         "coloraxis": "coloraxis",
         "hovertemplate": "x: %{x}<br>y: %{y}<br>color: %{z}<extra></extra>",
         "name": "0",
         "type": "heatmap",
         "xaxis": "x",
         "yaxis": "y",
         "z": [
          [
           -0.0075761923,
           0.04038988,
           -0.06264521,
           0.014154559,
           -0.030967329,
           -0.004317927,
           0.031948738,
           0.035766818,
           0.012018118,
           0.03943362,
           -0.0032170722,
           0.015529236,
           0.006418353,
           0.023863565,
           0.0039632693,
           -0.06676598,
           -0.047590166,
           0.09247313,
           0.020507973,
           0.07677019
          ],
          [
           -0.10147992,
           0.09962984,
           -0.010583486,
           0.05061363,
           0.008104883,
           -0.035077002,
           0.018363662,
           -0.07220592,
           -0.009586618,
           -0.11111493,
           -0.018763743,
           -0.0497689,
           0.1874007,
           -0.06631001,
           0.058435563,
           -0.09749513,
           0.122361556,
           0.043679226,
           0.009585597,
           0.029043369
          ],
          [
           0.059512436,
           -0.014440188,
           0.02119401,
           -0.020370297,
           -0.05063402,
           -0.07493188,
           0.096116334,
           -0.02622044,
           0.19595978,
           0.12208457,
           -0.07014404,
           0.06727859,
           -0.1520871,
           0.22851169,
           0.066507354,
           0.09718338,
           0.04775544,
           -0.08684874,
           0.011761308,
           0.10577826
          ],
          [
           0.8351141,
           0.11351694,
           -0.09905937,
           -0.08119674,
           -0.08438614,
           0.064627305,
           -0.033063885,
           0.07171545,
           -0.014965847,
           0.076830685,
           -0.00016961992,
           0.15233207,
           -0.024672613,
           0.02762537,
           0.012248911,
           0.047083355,
           0.057496034,
           0.09715779,
           0.031008948,
           0.006055787
          ],
          [
           0.055635173,
           -0.17919637,
           0.35236675,
           0.048012294,
           0.1329167,
           0.27101555,
           0.027148297,
           -0.13663495,
           0.6279402,
           0.070272416,
           0.11672305,
           0.10745112,
           0.12461619,
           -0.13821638,
           0.038623575,
           0.09897142,
           -0.16831641,
           0.042344965,
           0.06696868,
           0.016455822
          ],
          [
           0.075668946,
           -0.04435184,
           -0.03411691,
           0.15759239,
           -0.054348767,
           0.090031475,
           0.19751215,
           -0.18973538,
           0.07038905,
           -0.030400025,
           -0.21939059,
           -0.062196642,
           -0.010400109,
           0.4465198,
           -0.22434682,
           -0.098814905,
           0.14014965,
           0.4062717,
           -0.030026672,
           0.3277954
          ],
          [
           0.14750251,
           0.25402626,
           0.1735284,
           0.31096613,
           -0.037047606,
           -0.22334248,
           -0.073418766,
           0.046476632,
           0.0062459055,
           0.046388425,
           -0.07083378,
           0.096300244,
           0.06594235,
           -0.29183677,
           -0.15147054,
           0.15382643,
           -0.07476695,
           0.11578669,
           -0.0048393756,
           0.006206043
          ],
          [
           -0.051155172,
           0.12659961,
           0.1904853,
           0.058886398,
           0.034281574,
           0.08778468,
           0.13032296,
           0.10366467,
           -0.024394296,
           0.13055766,
           0.0152785145,
           -0.1649031,
           -0.014867049,
           -0.081027016,
           0.016507711,
           0.03497289,
           -0.06183115,
           0.03589019,
           0.0689612,
           0.081341535
          ],
          [
           0.016991692,
           -0.15231669,
           0.051399704,
           0.023952838,
           -0.050534938,
           0.07497547,
           -0.00041084737,
           -0.14314798,
           0.05487853,
           -0.06009984,
           0.115832984,
           0.050128017,
           0.1213043,
           0.08449083,
           0.041487914,
           -0.12981138,
           -0.23703729,
           0.31679603,
           0.10009226,
           -0.016099378
          ],
          [
           0.08113776,
           0.08271095,
           -0.0245609,
           0.08198575,
           0.14589831,
           0.06389678,
           -0.15551715,
           0.023794241,
           0.102294095,
           -0.05740239,
           0.13708404,
           0.1060196,
           0.03139166,
           -0.064398326,
           0.14872105,
           -0.07616931,
           -0.06775183,
           0.16766071,
           0.029555684,
           0.039607383
          ],
          [
           -0.045484502,
           0.02390881,
           -0.06970974,
           0.047242478,
           0.06529632,
           -0.015510436,
           0.12042579,
           0.1860244,
           0.08700888,
           -0.03743771,
           -0.09226906,
           0.022616465,
           0.06118722,
           -0.034057405,
           0.04008331,
           0.035090383,
           0.08936312,
           0.018103475,
           0.049267836,
           0.055469066
          ],
          [
           -0.0035592467,
           -0.108844295,
           0.02448351,
           0.09475178,
           0.18167862,
           0.10372433,
           0.029329956,
           0.15648076,
           0.039820492,
           -0.015286147,
           -0.006449893,
           -0.021245904,
           -0.025186094,
           0.027117576,
           -0.053936377,
           0.052383177,
           0.14344688,
           0.09335445,
           0.2349682,
           -0.01721299
          ],
          [
           0.3233604,
           -0.0062076785,
           -0.032819718,
           0.040248,
           -0.02253272,
           0.065104656,
           -0.11478256,
           -0.025713438,
           0.2599134,
           0.014642952,
           -0.025503222,
           -0.0028465204,
           -0.31308538,
           0.0340012,
           -0.036282625,
           0.012892149,
           -0.09224761,
           0.026179863,
           0.027077213,
           -0.05184835
          ],
          [
           0.02825144,
           -0.008219743,
           -0.020315597,
           -0.087661095,
           0.0111172125,
           0.050226204,
           -0.06433173,
           0.04986701,
           0.028125942,
           -0.055478968,
           -0.29746026,
           -0.02731463,
           0.058620412,
           0.24555145,
           0.042467758,
           -0.026695173,
           -0.00062684715,
           -0.012724962,
           -0.23291932,
           -0.11934672
          ],
          [
           0.44426224,
           -0.17822382,
           -0.11675802,
           -0.10321036,
           -0.06527502,
           -0.036418274,
           0.034896515,
           0.040139154,
           -0.18874884,
           0.095607236,
           -0.06069645,
           0.21742712,
           -0.1211531,
           0.12171739,
           -0.12729833,
           -0.022949029,
           -0.07275258,
           0.841628,
           -0.26918763,
           0.011207413
          ],
          [
           -0.07255224,
           0.102834165,
           -0.10097999,
           0.068162486,
           0.074510075,
           -0.1531202,
           0.59967786,
           0.030158719,
           -0.04666481,
           -0.1590742,
           -0.09098716,
           0.35569298,
           -0.19013485,
           0.02906165,
           0.051226117,
           0.0007248726,
           -0.17317845,
           -0.09192241,
           -0.0282049,
           -0.26424938
          ],
          [
           0.052053455,
           0.06299882,
           -0.9623499,
           -0.26911908,
           -0.059553068,
           1.2144527,
           -0.160247,
           -0.116903245,
           0.4072962,
           -0.043333866,
           0.32516557,
           -0.003940657,
           0.004248712,
           0.03857089,
           -0.07358884,
           -0.19247037,
           0.090554684,
           0.1712387,
           0.06558551,
           -0.29609883
          ],
          [
           -0.61849135,
           0.19573733,
           0.23209529,
           0.13593669,
           0.029550454,
           -0.21224089,
           -0.019793496,
           0.14959472,
           -0.015995111,
           0.13215849,
           0.08354138,
           -0.053763054,
           -0.1264269,
           -0.16358975,
           0.024211708,
           -0.030836232,
           0.2297513,
           -0.09087934,
           0.18237028,
           0.121635236
          ],
          [
           0.021745712,
           0.28698564,
           0.51634574,
           -0.13623545,
           -0.078013934,
           0.34095982,
           0.14018402,
           -0.06709474,
           -0.10224057,
           -0.026137033,
           -0.00047700107,
           -0.074302614,
           -0.07871688,
           0.13212599,
           -0.0852118,
           0.4034336,
           -0.077870116,
           0.18426338,
           0.07842255,
           -0.24296932
          ],
          [
           0.15142702,
           -0.04399195,
           -0.09670086,
           -0.051625356,
           -0.028735487,
           0.1115147,
           -0.028550494,
           0.0016931333,
           0.020873148,
           -0.13582098,
           -0.01441187,
           -0.009415213,
           0.699552,
           -0.0032860246,
           0.050986186,
           -0.13930486,
           -0.093601026,
           0.0007718224,
           -0.064566515,
           0.005415164
          ],
          [
           0.021327013,
           -0.046432536,
           -0.12689798,
           -0.2440431,
           0.028080361,
           -0.103090584,
           0.014216773,
           -0.007222194,
           0.18161054,
           0.16803977,
           -0.045381755,
           -0.017431356,
           0.15778133,
           0.15262973,
           -0.041472346,
           -0.262895,
           0.3115097,
           -0.4090835,
           0.0243738,
           -0.063891746
          ],
          [
           -0.17857632,
           -0.034153365,
           0.008914443,
           0.738765,
           -0.059003722,
           0.05928104,
           -0.0010535717,
           0.007184392,
           0.008438935,
           0.37539983,
           0.0812963,
           0.024558395,
           0.006709706,
           -0.46081454,
           0.042531557,
           -0.057890914,
           0.039992984,
           -0.04467461,
           0.0358391,
           0.52503574
          ],
          [
           -0.038098633,
           0.10831666,
           -0.087293416,
           -0.8890698,
           -0.047892224,
           0.0012603551,
           0.058430254,
           0.15972145,
           0.20024486,
           -0.11295985,
           0.015690804,
           0.1417473,
           -0.044273272,
           -0.033042125,
           0.12443505,
           0.012369577,
           0.1996803,
           0.021948842,
           0.026438948,
           -0.07740982
          ],
          [
           0.015568111,
           0.026221901,
           -0.13973868,
           -0.009579483,
           0.02530542,
           0.034018397,
           -0.07658351,
           0.062119193,
           -0.07191069,
           0.7893393,
           0.20856173,
           -0.029085305,
           -0.030830689,
           0.109025456,
           0.05108692,
           -0.01294299,
           -0.16581239,
           -0.07960582,
           0.2721534,
           -0.13187386
          ],
          [
           0.34531203,
           -0.16728236,
           0.123803146,
           0.027634798,
           -0.28485137,
           0.04344391,
           -0.009304367,
           0.18436448,
           0.006536441,
           0.055109948,
           0.2304884,
           0.010058783,
           -0.025564931,
           0.0051339865,
           0.025812913,
           0.0023963992,
           -0.0088040065,
           0.084796995,
           -0.038776528,
           -0.047282323
          ],
          [
           -0.07516857,
           -0.0360295,
           0.24296045,
           -0.024557253,
           -0.069531895,
           0.073271416,
           -0.02975992,
           -0.19443256,
           0.027819023,
           0.28930026,
           0.035360504,
           -0.005840875,
           0.21116932,
           0.012123188,
           0.13749635,
           0.014561735,
           -0.0030755997,
           0.117139444,
           -0.029956128,
           -0.065926746
          ],
          [
           -0.0315999,
           -0.037372574,
           -0.011438038,
           0.059717722,
           -0.13956612,
           0.095943384,
           0.026710652,
           0.26371863,
           0.0021949206,
           0.03317518,
           0.042682473,
           0.058264516,
           0.043987732,
           0.10496956,
           0.003554088,
           -0.06405169,
           -0.104952425,
           -0.016172366,
           -0.028595366,
           -0.10724669
          ],
          [
           0.048659563,
           -0.014463995,
           0.020178474,
           -0.0074389,
           -0.12916881,
           -0.0038271993,
           0.010780364,
           0.12575948,
           0.059829667,
           0.01225318,
           -0.0502484,
           0.13917935,
           0.016843095,
           -0.052410193,
           0.0053446945,
           0.23156023,
           0.0036345143,
           0.089232296,
           0.058672972,
           -0.11277537
          ],
          [
           0.16219157,
           -0.03366377,
           0.22787867,
           -0.04614714,
           0.022708647,
           0.47704414,
           0.086395085,
           -0.07318496,
           -0.38128808,
           -0.06417678,
           0.016857121,
           -0.13290086,
           -0.024466526,
           0.10629056,
           -0.12370462,
           -0.03408245,
           -0.0075037256,
           -0.004442051,
           0.0767516,
           -0.006959699
          ],
          [
           -0.060054015,
           -0.007469248,
           0.12577285,
           0.12361505,
           -0.3640015,
           0.03883315,
           -0.3461053,
           0.018509794,
           -0.08436036,
           0.09502071,
           0.006704488,
           -0.019811794,
           -0.037336394,
           0.10056705,
           -0.019037023,
           0.13054037,
           -0.16300361,
           0.06831587,
           -0.05729477,
           -0.023982666
          ],
          [
           0.07449218,
           -0.13896422,
           -0.05899055,
           0.10801165,
           -0.0037154164,
           0.48032418,
           -0.01446292,
           0.011199543,
           0.15776935,
           0.021156715,
           0.049512282,
           0.006645862,
           -0.08947598,
           0.10421614,
           -0.0063044447,
           0.4171728,
           -0.019260304,
           0.008819744,
           0.12384334,
           0.0762721
          ],
          [
           0.14652884,
           0.37913734,
           0.017110847,
           0.20279491,
           0.0072455406,
           -0.034238126,
           -0.05259338,
           0.08883873,
           0.07446279,
           -0.030522874,
           -0.14167652,
           -0.024790097,
           0.06583305,
           0.004820913,
           -0.15861334,
           0.0074891057,
           -0.11825164,
           0.01906237,
           -0.026512373,
           0.0032879151
          ],
          [
           0.016005015,
           -0.25578707,
           0.44011346,
           0.7884088,
           0.03759174,
           -0.03309568,
           0.034715172,
           -0.022001155,
           0.014832526,
           0.19762789,
           -0.02180076,
           -0.11364314,
           -0.05027178,
           0.005335829,
           -0.040423505,
           0.058624428,
           0.021698177,
           -0.091238216,
           -0.13475624,
           -0.37321097
          ],
          [
           -0.018794872,
           0.024517152,
           0.1130109,
           -0.17330442,
           0.1253021,
           0.028243726,
           0.009290338,
           -0.030075092,
           0.5749926,
           -0.00090390816,
           -0.039338835,
           2.1823401,
           -0.016128182,
           0.018113729,
           0.075849175,
           0.027368689,
           0.036912564,
           0.02406995,
           -0.00560382,
           -0.17905502
          ],
          [
           -0.036910478,
           0.31116146,
           1.9433038,
           0.050005548,
           0.46150538,
           -0.10297274,
           -0.11347997,
           -0.14291689,
           1.088908,
           -0.029520214,
           0.046093374,
           1.0139502,
           -0.1122224,
           -0.87447405,
           0.20590706,
           0.1303879,
           0.19724184,
           -0.093086034,
           -0.012092069,
           0.009564698
          ]
         ]
        }
       ],
       "layout": {
        "coloraxis": {
         "cmid": 0,
         "colorscale": [
          [
           0,
           "rgb(103,0,31)"
          ],
          [
           0.1,
           "rgb(178,24,43)"
          ],
          [
           0.2,
           "rgb(214,96,77)"
          ],
          [
           0.3,
           "rgb(244,165,130)"
          ],
          [
           0.4,
           "rgb(253,219,199)"
          ],
          [
           0.5,
           "rgb(247,247,247)"
          ],
          [
           0.6,
           "rgb(209,229,240)"
          ],
          [
           0.7,
           "rgb(146,197,222)"
          ],
          [
           0.8,
           "rgb(67,147,195)"
          ],
          [
           0.9,
           "rgb(33,102,172)"
          ],
          [
           1,
           "rgb(5,48,97)"
          ]
         ]
        },
        "template": {
         "data": {
          "bar": [
           {
            "error_x": {
             "color": "#2a3f5f"
            },
            "error_y": {
             "color": "#2a3f5f"
            },
            "marker": {
             "line": {
              "color": "#E5ECF6",
              "width": 0.5
             },
             "pattern": {
              "fillmode": "overlay",
              "size": 10,
              "solidity": 0.2
             }
            },
            "type": "bar"
           }
          ],
          "barpolar": [
           {
            "marker": {
             "line": {
              "color": "#E5ECF6",
              "width": 0.5
             },
             "pattern": {
              "fillmode": "overlay",
              "size": 10,
              "solidity": 0.2
             }
            },
            "type": "barpolar"
           }
          ],
          "carpet": [
           {
            "aaxis": {
             "endlinecolor": "#2a3f5f",
             "gridcolor": "white",
             "linecolor": "white",
             "minorgridcolor": "white",
             "startlinecolor": "#2a3f5f"
            },
            "baxis": {
             "endlinecolor": "#2a3f5f",
             "gridcolor": "white",
             "linecolor": "white",
             "minorgridcolor": "white",
             "startlinecolor": "#2a3f5f"
            },
            "type": "carpet"
           }
          ],
          "choropleth": [
           {
            "colorbar": {
             "outlinewidth": 0,
             "ticks": ""
            },
            "type": "choropleth"
           }
          ],
          "contour": [
           {
            "colorbar": {
             "outlinewidth": 0,
             "ticks": ""
            },
            "colorscale": [
             [
              0,
              "#0d0887"
             ],
             [
              0.1111111111111111,
              "#46039f"
             ],
             [
              0.2222222222222222,
              "#7201a8"
             ],
             [
              0.3333333333333333,
              "#9c179e"
             ],
             [
              0.4444444444444444,
              "#bd3786"
             ],
             [
              0.5555555555555556,
              "#d8576b"
             ],
             [
              0.6666666666666666,
              "#ed7953"
             ],
             [
              0.7777777777777778,
              "#fb9f3a"
             ],
             [
              0.8888888888888888,
              "#fdca26"
             ],
             [
              1,
              "#f0f921"
             ]
            ],
            "type": "contour"
           }
          ],
          "contourcarpet": [
           {
            "colorbar": {
             "outlinewidth": 0,
             "ticks": ""
            },
            "type": "contourcarpet"
           }
          ],
          "heatmap": [
           {
            "colorbar": {
             "outlinewidth": 0,
             "ticks": ""
            },
            "colorscale": [
             [
              0,
              "#0d0887"
             ],
             [
              0.1111111111111111,
              "#46039f"
             ],
             [
              0.2222222222222222,
              "#7201a8"
             ],
             [
              0.3333333333333333,
              "#9c179e"
             ],
             [
              0.4444444444444444,
              "#bd3786"
             ],
             [
              0.5555555555555556,
              "#d8576b"
             ],
             [
              0.6666666666666666,
              "#ed7953"
             ],
             [
              0.7777777777777778,
              "#fb9f3a"
             ],
             [
              0.8888888888888888,
              "#fdca26"
             ],
             [
              1,
              "#f0f921"
             ]
            ],
            "type": "heatmap"
           }
          ],
          "heatmapgl": [
           {
            "colorbar": {
             "outlinewidth": 0,
             "ticks": ""
            },
            "colorscale": [
             [
              0,
              "#0d0887"
             ],
             [
              0.1111111111111111,
              "#46039f"
             ],
             [
              0.2222222222222222,
              "#7201a8"
             ],
             [
              0.3333333333333333,
              "#9c179e"
             ],
             [
              0.4444444444444444,
              "#bd3786"
             ],
             [
              0.5555555555555556,
              "#d8576b"
             ],
             [
              0.6666666666666666,
              "#ed7953"
             ],
             [
              0.7777777777777778,
              "#fb9f3a"
             ],
             [
              0.8888888888888888,
              "#fdca26"
             ],
             [
              1,
              "#f0f921"
             ]
            ],
            "type": "heatmapgl"
           }
          ],
          "histogram": [
           {
            "marker": {
             "pattern": {
              "fillmode": "overlay",
              "size": 10,
              "solidity": 0.2
             }
            },
            "type": "histogram"
           }
          ],
          "histogram2d": [
           {
            "colorbar": {
             "outlinewidth": 0,
             "ticks": ""
            },
            "colorscale": [
             [
              0,
              "#0d0887"
             ],
             [
              0.1111111111111111,
              "#46039f"
             ],
             [
              0.2222222222222222,
              "#7201a8"
             ],
             [
              0.3333333333333333,
              "#9c179e"
             ],
             [
              0.4444444444444444,
              "#bd3786"
             ],
             [
              0.5555555555555556,
              "#d8576b"
             ],
             [
              0.6666666666666666,
              "#ed7953"
             ],
             [
              0.7777777777777778,
              "#fb9f3a"
             ],
             [
              0.8888888888888888,
              "#fdca26"
             ],
             [
              1,
              "#f0f921"
             ]
            ],
            "type": "histogram2d"
           }
          ],
          "histogram2dcontour": [
           {
            "colorbar": {
             "outlinewidth": 0,
             "ticks": ""
            },
            "colorscale": [
             [
              0,
              "#0d0887"
             ],
             [
              0.1111111111111111,
              "#46039f"
             ],
             [
              0.2222222222222222,
              "#7201a8"
             ],
             [
              0.3333333333333333,
              "#9c179e"
             ],
             [
              0.4444444444444444,
              "#bd3786"
             ],
             [
              0.5555555555555556,
              "#d8576b"
             ],
             [
              0.6666666666666666,
              "#ed7953"
             ],
             [
              0.7777777777777778,
              "#fb9f3a"
             ],
             [
              0.8888888888888888,
              "#fdca26"
             ],
             [
              1,
              "#f0f921"
             ]
            ],
            "type": "histogram2dcontour"
           }
          ],
          "mesh3d": [
           {
            "colorbar": {
             "outlinewidth": 0,
             "ticks": ""
            },
            "type": "mesh3d"
           }
          ],
          "parcoords": [
           {
            "line": {
             "colorbar": {
              "outlinewidth": 0,
              "ticks": ""
             }
            },
            "type": "parcoords"
           }
          ],
          "pie": [
           {
            "automargin": true,
            "type": "pie"
           }
          ],
          "scatter": [
           {
            "fillpattern": {
             "fillmode": "overlay",
             "size": 10,
             "solidity": 0.2
            },
            "type": "scatter"
           }
          ],
          "scatter3d": [
           {
            "line": {
             "colorbar": {
              "outlinewidth": 0,
              "ticks": ""
             }
            },
            "marker": {
             "colorbar": {
              "outlinewidth": 0,
              "ticks": ""
             }
            },
            "type": "scatter3d"
           }
          ],
          "scattercarpet": [
           {
            "marker": {
             "colorbar": {
              "outlinewidth": 0,
              "ticks": ""
             }
            },
            "type": "scattercarpet"
           }
          ],
          "scattergeo": [
           {
            "marker": {
             "colorbar": {
              "outlinewidth": 0,
              "ticks": ""
             }
            },
            "type": "scattergeo"
           }
          ],
          "scattergl": [
           {
            "marker": {
             "colorbar": {
              "outlinewidth": 0,
              "ticks": ""
             }
            },
            "type": "scattergl"
           }
          ],
          "scattermapbox": [
           {
            "marker": {
             "colorbar": {
              "outlinewidth": 0,
              "ticks": ""
             }
            },
            "type": "scattermapbox"
           }
          ],
          "scatterpolar": [
           {
            "marker": {
             "colorbar": {
              "outlinewidth": 0,
              "ticks": ""
             }
            },
            "type": "scatterpolar"
           }
          ],
          "scatterpolargl": [
           {
            "marker": {
             "colorbar": {
              "outlinewidth": 0,
              "ticks": ""
             }
            },
            "type": "scatterpolargl"
           }
          ],
          "scatterternary": [
           {
            "marker": {
             "colorbar": {
              "outlinewidth": 0,
              "ticks": ""
             }
            },
            "type": "scatterternary"
           }
          ],
          "surface": [
           {
            "colorbar": {
             "outlinewidth": 0,
             "ticks": ""
            },
            "colorscale": [
             [
              0,
              "#0d0887"
             ],
             [
              0.1111111111111111,
              "#46039f"
             ],
             [
              0.2222222222222222,
              "#7201a8"
             ],
             [
              0.3333333333333333,
              "#9c179e"
             ],
             [
              0.4444444444444444,
              "#bd3786"
             ],
             [
              0.5555555555555556,
              "#d8576b"
             ],
             [
              0.6666666666666666,
              "#ed7953"
             ],
             [
              0.7777777777777778,
              "#fb9f3a"
             ],
             [
              0.8888888888888888,
              "#fdca26"
             ],
             [
              1,
              "#f0f921"
             ]
            ],
            "type": "surface"
           }
          ],
          "table": [
           {
            "cells": {
             "fill": {
              "color": "#EBF0F8"
             },
             "line": {
              "color": "white"
             }
            },
            "header": {
             "fill": {
              "color": "#C8D4E3"
             },
             "line": {
              "color": "white"
             }
            },
            "type": "table"
           }
          ]
         },
         "layout": {
          "annotationdefaults": {
           "arrowcolor": "#2a3f5f",
           "arrowhead": 0,
           "arrowwidth": 1
          },
          "autotypenumbers": "strict",
          "coloraxis": {
           "colorbar": {
            "outlinewidth": 0,
            "ticks": ""
           }
          },
          "colorscale": {
           "diverging": [
            [
             0,
             "#8e0152"
            ],
            [
             0.1,
             "#c51b7d"
            ],
            [
             0.2,
             "#de77ae"
            ],
            [
             0.3,
             "#f1b6da"
            ],
            [
             0.4,
             "#fde0ef"
            ],
            [
             0.5,
             "#f7f7f7"
            ],
            [
             0.6,
             "#e6f5d0"
            ],
            [
             0.7,
             "#b8e186"
            ],
            [
             0.8,
             "#7fbc41"
            ],
            [
             0.9,
             "#4d9221"
            ],
            [
             1,
             "#276419"
            ]
           ],
           "sequential": [
            [
             0,
             "#0d0887"
            ],
            [
             0.1111111111111111,
             "#46039f"
            ],
            [
             0.2222222222222222,
             "#7201a8"
            ],
            [
             0.3333333333333333,
             "#9c179e"
            ],
            [
             0.4444444444444444,
             "#bd3786"
            ],
            [
             0.5555555555555556,
             "#d8576b"
            ],
            [
             0.6666666666666666,
             "#ed7953"
            ],
            [
             0.7777777777777778,
             "#fb9f3a"
            ],
            [
             0.8888888888888888,
             "#fdca26"
            ],
            [
             1,
             "#f0f921"
            ]
           ],
           "sequentialminus": [
            [
             0,
             "#0d0887"
            ],
            [
             0.1111111111111111,
             "#46039f"
            ],
            [
             0.2222222222222222,
             "#7201a8"
            ],
            [
             0.3333333333333333,
             "#9c179e"
            ],
            [
             0.4444444444444444,
             "#bd3786"
            ],
            [
             0.5555555555555556,
             "#d8576b"
            ],
            [
             0.6666666666666666,
             "#ed7953"
            ],
            [
             0.7777777777777778,
             "#fb9f3a"
            ],
            [
             0.8888888888888888,
             "#fdca26"
            ],
            [
             1,
             "#f0f921"
            ]
           ]
          },
          "colorway": [
           "#636efa",
           "#EF553B",
           "#00cc96",
           "#ab63fa",
           "#FFA15A",
           "#19d3f3",
           "#FF6692",
           "#B6E880",
           "#FF97FF",
           "#FECB52"
          ],
          "font": {
           "color": "#2a3f5f"
          },
          "geo": {
           "bgcolor": "white",
           "lakecolor": "white",
           "landcolor": "#E5ECF6",
           "showlakes": true,
           "showland": true,
           "subunitcolor": "white"
          },
          "hoverlabel": {
           "align": "left"
          },
          "hovermode": "closest",
          "mapbox": {
           "style": "light"
          },
          "paper_bgcolor": "white",
          "plot_bgcolor": "#E5ECF6",
          "polar": {
           "angularaxis": {
            "gridcolor": "white",
            "linecolor": "white",
            "ticks": ""
           },
           "bgcolor": "#E5ECF6",
           "radialaxis": {
            "gridcolor": "white",
            "linecolor": "white",
            "ticks": ""
           }
          },
          "scene": {
           "xaxis": {
            "backgroundcolor": "#E5ECF6",
            "gridcolor": "white",
            "gridwidth": 2,
            "linecolor": "white",
            "showbackground": true,
            "ticks": "",
            "zerolinecolor": "white"
           },
           "yaxis": {
            "backgroundcolor": "#E5ECF6",
            "gridcolor": "white",
            "gridwidth": 2,
            "linecolor": "white",
            "showbackground": true,
            "ticks": "",
            "zerolinecolor": "white"
           },
           "zaxis": {
            "backgroundcolor": "#E5ECF6",
            "gridcolor": "white",
            "gridwidth": 2,
            "linecolor": "white",
            "showbackground": true,
            "ticks": "",
            "zerolinecolor": "white"
           }
          },
          "shapedefaults": {
           "line": {
            "color": "#2a3f5f"
           }
          },
          "ternary": {
           "aaxis": {
            "gridcolor": "white",
            "linecolor": "white",
            "ticks": ""
           },
           "baxis": {
            "gridcolor": "white",
            "linecolor": "white",
            "ticks": ""
           },
           "bgcolor": "#E5ECF6",
           "caxis": {
            "gridcolor": "white",
            "linecolor": "white",
            "ticks": ""
           }
          },
          "title": {
           "x": 0.05
          },
          "xaxis": {
           "automargin": true,
           "gridcolor": "white",
           "linecolor": "white",
           "ticks": "",
           "title": {
            "standoff": 15
           },
           "zerolinecolor": "white",
           "zerolinewidth": 2
          },
          "yaxis": {
           "automargin": true,
           "gridcolor": "white",
           "linecolor": "white",
           "ticks": "",
           "title": {
            "standoff": 15
           },
           "zerolinecolor": "white",
           "zerolinewidth": 2
          }
         }
        },
        "title": {
         "text": "ion; their \"crimes\" led the Galactic Federation to"
        },
        "xaxis": {
         "anchor": "y",
         "constrain": "domain",
         "domain": [
          0,
          1
         ],
         "scaleanchor": "y"
        },
        "yaxis": {
         "anchor": "x",
         "autorange": "reversed",
         "constrain": "domain",
         "domain": [
          0,
          1
         ]
        }
       }
      }
     },
     "metadata": {},
     "output_type": "display_data"
    },
    {
     "data": {
      "application/vnd.plotly.v1+json": {
       "config": {
        "plotlyServerURL": "https://plot.ly"
       },
       "data": [
        {
         "coloraxis": "coloraxis",
         "hovertemplate": "x: %{x}<br>y: %{y}<br>color: %{z}<extra></extra>",
         "name": "0",
         "type": "heatmap",
         "xaxis": "x",
         "yaxis": "y",
         "z": [
          [
           0.42379633,
           0.008110687,
           -0.023598455,
           0.20566647,
           0.047982246,
           -0.021773357,
           0.006162078,
           -0.072218664,
           -0.01909563,
           0.041801494,
           0.20436099,
           -0.03319616,
           0.07081312,
           0.06545154,
           -0.074590035,
           0.02952243,
           0.0011875946,
           -0.04057291,
           0.04217314,
           0.09660115
          ],
          [
           -0.03818066,
           0.17938837,
           0.032487795,
           -0.0028992146,
           -0.051831447,
           -0.0353658,
           -0.02590852,
           -0.047801618,
           0.023392089,
           0.07533348,
           -0.037646845,
           -0.056306247,
           0.08632408,
           0.13748267,
           0.064067885,
           -0.020235056,
           0.014507096,
           0.028900094,
           -0.06875178,
           0.09584445
          ],
          [
           0.041687153,
           0.08013924,
           0.011313275,
           0.16911775,
           -0.16500624,
           -0.021387396,
           0.0690678,
           0.038675778,
           0.045535594,
           0.037214827,
           -0.08773485,
           -0.010510821,
           0.07761198,
           0.27424905,
           0.08083932,
           0.05960505,
           0.12019276,
           0.0097466335,
           -0.0025603478,
           0.15733084
          ],
          [
           0.69896203,
           -0.046280168,
           0.023561686,
           -0.09449216,
           0.22251447,
           0.054407686,
           -0.00190828,
           0.060322423,
           0.026877016,
           0.024604563,
           -0.011395518,
           0.14584547,
           -0.05199136,
           0.039964616,
           0.01283969,
           0.030071512,
           0.087440304,
           -0.03179705,
           0.04298624,
           0.040082972
          ],
          [
           0.021339037,
           -0.24208283,
           0.0773378,
           0.04061545,
           0.015733942,
           0.3722856,
           -0.040723242,
           -0.12750043,
           0.51341367,
           -0.059095785,
           0.07887128,
           -0.0019308962,
           0.3129137,
           -0.15521738,
           0.037359145,
           0.12368342,
           -0.050732404,
           0.0891516,
           0.051838227,
           0.20431331
          ],
          [
           -0.01088411,
           -0.030414628,
           0.03695865,
           0.15356368,
           0.010902017,
           -0.058177926,
           0.2069472,
           -0.0802367,
           0.09170714,
           -0.09536191,
           -0.17156997,
           0.003740102,
           -0.015127659,
           0.12209034,
           -0.5248189,
           -0.17229795,
           0.10711522,
           0.29514396,
           -0.026094854,
           0.33467492
          ],
          [
           0.13781399,
           -0.11376138,
           0.061269626,
           0.33584148,
           -0.004813794,
           -0.19747332,
           -0.038808275,
           0.020507341,
           0.08384973,
           0.12603784,
           -0.07756064,
           0.13891797,
           0.21330526,
           -0.09922053,
           -0.18120056,
           0.20058265,
           0.13048536,
           0.11102641,
           0.012463186,
           0.025713697
          ],
          [
           -0.039922,
           0.06251242,
           0.26062256,
           -0.028490804,
           0.01339408,
           -0.06942356,
           0.00007312,
           0.07045151,
           -0.052290045,
           0.12734948,
           -0.1326622,
           -0.1502608,
           0.07422119,
           0.033743702,
           0.06601496,
           0.02446691,
           0.016755808,
           0.049898203,
           0.07906096,
           0.033364538
          ],
          [
           0.037528355,
           -0.048076276,
           -0.010404339,
           0.035246834,
           -0.08450642,
           -0.018050458,
           -0.056659173,
           -0.0039610863,
           0.094239414,
           -0.057011932,
           0.06776666,
           0.040945772,
           0.05757317,
           0.17251962,
           -0.08023596,
           -0.004403446,
           0.038488135,
           0.14774838,
           0.12446183,
           0.043364644
          ],
          [
           -0.004499535,
           0.081431,
           0.0055828355,
           -0.02723414,
           0.1602019,
           0.122956164,
           -0.111188516,
           0.006000433,
           0.0024295896,
           -0.086921275,
           0.08661049,
           0.12408919,
           0.05494464,
           -0.0037705153,
           -0.027501903,
           0.0023912732,
           -0.08866946,
           -0.048097257,
           -0.00093177706,
           0.036299877
          ],
          [
           0.068063155,
           0.056192756,
           -0.0335477,
           -0.0033695865,
           0.03217095,
           -0.06446667,
           -0.0036427435,
           -0.21425244,
           -0.032552302,
           -0.1580737,
           0.043005962,
           -0.06475973,
           0.0071663,
           -0.07259188,
           0.089096054,
           0.06599149,
           0.11665636,
           0.038890008,
           -0.010740401,
           -0.006846236
          ],
          [
           0.040281292,
           -0.1443608,
           -0.061016686,
           0.008274533,
           -0.08032726,
           0.20030057,
           0.014409624,
           0.18869829,
           0.2681159,
           0.109907776,
           -0.10738453,
           -0.051996775,
           0.09389542,
           0.02563145,
           -0.07635765,
           -0.034744613,
           0.018192522,
           -0.08474669,
           0.09093876,
           -0.08057344
          ],
          [
           0.15184885,
           -0.045898207,
           -0.011217203,
           0.008422572,
           -0.023108277,
           0.06436237,
           -0.08683963,
           -0.04493714,
           0.064082675,
           0.033071164,
           -0.09273205,
           -0.020141486,
           -0.061981373,
           -0.0027401457,
           -0.029207394,
           0.08841246,
           -0.15862176,
           0.05103472,
           0.08385706,
           0.11829537
          ],
          [
           0.10182485,
           0.0390451,
           -0.16193281,
           -0.17441839,
           0.006067302,
           0.005463876,
           0.025485996,
           0.050092526,
           0.042544663,
           0.091631755,
           -0.070911735,
           -0.15390337,
           0.13512781,
           0.0835427,
           -0.048436113,
           -0.019499054,
           0.0026381277,
           -0.021522276,
           0.031315766,
           -0.01631084
          ],
          [
           0.17609796,
           -0.18590939,
           0.43880713,
           -0.07840353,
           0.019189008,
           0.21916309,
           0.08183634,
           0.078716815,
           0.03131134,
           0.23658797,
           -0.0043208897,
           0.21636683,
           0.059960872,
           -0.06003262,
           -0.111474745,
           0.17063111,
           -0.090005636,
           -0.029939596,
           -0.2516244,
           -0.22094896
          ],
          [
           -0.053232796,
           0.02907728,
           0.007882126,
           0.14332125,
           -0.012168366,
           0.015839767,
           -0.19917244,
           -0.23361248,
           -0.017365266,
           -0.037383012,
           -0.000755094,
           0.23713277,
           -0.3308971,
           -0.029912218,
           -0.018903093,
           -0.006412398,
           0.025320098,
           0.00094498135,
           0.07772435,
           -0.1740295
          ],
          [
           0.015835635,
           0.0091910735,
           -0.10770279,
           -0.015683744,
           0.15979286,
           -0.06290429,
           0.018245373,
           -0.07287352,
           0.009278469,
           -0.05256664,
           0.13436262,
           0.01936159,
           0.025650885,
           0.03482507,
           0.00027102977,
           -0.15446141,
           -0.015695574,
           -0.11520093,
           0.07573495,
           -0.012532236
          ],
          [
           0.014282261,
           0.054456398,
           0.020773299,
           -0.021009779,
           0.032970235,
           -0.061526097,
           -0.028023725,
           -0.023899784,
           0.17029499,
           0.11076501,
           0.21711984,
           -0.009527024,
           -0.11792767,
           0.07564788,
           0.017837819,
           0.06042044,
           -0.014675666,
           0.00010133535,
           0.03113548,
           0.020253703
          ],
          [
           -0.041099727,
           -0.050674655,
           -0.018308558,
           -0.0827561,
           0.023837537,
           -0.2062349,
           0.089288205,
           -0.07295298,
           0.12198936,
           -0.033770658,
           -0.18007338,
           -0.044651687,
           -0.17397073,
           0.07243791,
           0.19672547,
           0.39663425,
           0.0129560055,
           0.010712247,
           -0.18039632,
           0.004352607
          ],
          [
           0.087445706,
           0.033429995,
           -0.113881156,
           0.058209695,
           -0.03333164,
           0.3304181,
           -0.08313456,
           0.049966745,
           -0.14270553,
           0.025055652,
           -0.031378612,
           -0.013165973,
           0.43930337,
           -0.037524693,
           0.05049803,
           -0.074161336,
           -0.1851108,
           -0.05292858,
           -0.08806793,
           -0.01028236
          ],
          [
           0.05684041,
           -0.04639576,
           -0.2293903,
           -0.008746773,
           0.044155277,
           -0.28938884,
           -0.07690655,
           -0.06823032,
           0.05051876,
           0.14305246,
           -0.055368893,
           -0.0037222262,
           0.13693944,
           0.18975209,
           -0.09101933,
           -0.09503524,
           0.07841871,
           -0.050765827,
           -0.04813593,
           -0.07627483
          ],
          [
           -0.31403333,
           -0.11557227,
           0.012387918,
           -0.30070126,
           -0.0703635,
           0.09585406,
           0.046171978,
           -0.17735267,
           0.0055486253,
           0.19411033,
           -0.035348848,
           0.04561403,
           0.056087323,
           -0.23576891,
           0.04330266,
           -0.06842468,
           0.018622853,
           -0.046738245,
           0.03491102,
           0.05024902
          ],
          [
           -0.017460935,
           0.22686343,
           0.025708776,
           0.09753783,
           -0.12973799,
           -0.051524833,
           -0.08172707,
           0.030036166,
           0.5941323,
           0.032292333,
           0.018583544,
           0.10527405,
           -0.14691918,
           -0.025824768,
           0.059485797,
           -0.02009045,
           0.084511206,
           0.037826534,
           0.021909114,
           -0.019867338
          ],
          [
           -0.081772454,
           -0.034002423,
           -0.062304422,
           -0.052185923,
           0.13091928,
           0.010775574,
           -0.022817245,
           0.064739,
           -0.0010206983,
           -0.039963525,
           0.0030605607,
           -0.026937112,
           0.04024627,
           0.06558361,
           0.14286943,
           -0.038840953,
           -0.06442427,
           -0.11956682,
           0.006642498,
           0.04820424
          ],
          [
           0.07405357,
           -0.12975147,
           0.41580045,
           0.20044191,
           -0.009531621,
           0.039570786,
           0.04910452,
           0.2599824,
           0.018646715,
           0.12614685,
           0.13219088,
           0.007085059,
           -0.030519867,
           -0.013142236,
           -0.02131285,
           -0.0935733,
           -0.05805483,
           -0.0041985773,
           -0.048997253,
           -0.095890135
          ],
          [
           -0.11552297,
           0.22969706,
           0.12409961,
           0.054817412,
           -0.05338488,
           -0.011073904,
           -0.27102894,
           0.025926052,
           0.023886215,
           -0.34007385,
           0.014920283,
           0.029571805,
           -0.05349689,
           0.025222234,
           0.08210129,
           0.0036978424,
           0.5031697,
           0.0775523,
           -0.05316253,
           0.106205426
          ],
          [
           -0.054495536,
           -0.029712915,
           -0.025359694,
           0.08063013,
           -0.22792858,
           0.44760725,
           0.1718104,
           0.1846618,
           -0.046558958,
           0.0003476031,
           0.06062094,
           0.04200779,
           0.017819881,
           -0.05959463,
           0.05401646,
           0.0077800937,
           0.013778111,
           -0.052444242,
           -0.019944023,
           -0.05811674
          ],
          [
           0.03727393,
           -0.022483826,
           0.21965383,
           -0.012477243,
           -0.16399832,
           -0.17537092,
           0.0009236112,
           0.092904575,
           -0.23111004,
           0.0007132441,
           -0.13629852,
           -0.31648794,
           -0.06187485,
           -0.038880587,
           0.00421218,
           0.18814346,
           0.034388997,
           0.045690905,
           0.015690543,
           -0.06344324
          ],
          [
           0.10060633,
           -0.04239075,
           0.08955026,
           -0.06224575,
           0.024650194,
           0.08502961,
           0.0704927,
           0.01711645,
           0.30013466,
           -0.11269791,
           0.0012807362,
           -0.12117137,
           -0.030376326,
           -0.13822621,
           -0.066319026,
           0.13091113,
           0.096690126,
           -0.005301118,
           0.13128704,
           0.0019193739
          ],
          [
           -0.06131285,
           0.0015079966,
           0.02660016,
           0.065093726,
           -0.2615507,
           -0.009326424,
           -0.11530168,
           -0.03786849,
           -0.48497435,
           0.05182983,
           0.0021302253,
           0.015977772,
           0.11293772,
           -0.0032978505,
           -0.05601656,
           0.17375188,
           -0.09773274,
           0.05892878,
           -0.08698051,
           0.035669312
          ],
          [
           0.069709316,
           -0.17027423,
           0.07061391,
           0.0502787,
           -0.12517865,
           0.2007842,
           -0.032963537,
           -0.091887236,
           0.130324,
           0.0064456593,
           0.05532065,
           0.060358226,
           -0.13404028,
           -0.119187474,
           -0.082020864,
           -0.05754193,
           0.13406686,
           0.03254473,
           -0.13754341,
           0.07101161
          ],
          [
           0.14644277,
           0.053809043,
           0.0058234446,
           1.2633711,
           0.02261807,
           -0.030762158,
           1.0353343,
           0.13819058,
           0.06207732,
           -0.012515318,
           -0.04643374,
           0.18376936,
           0.22110604,
           -0.14821069,
           -0.046534806,
           0.05073882,
           -0.040245596,
           -0.0014150888,
           -0.09009486,
           -0.020254286
          ],
          [
           0.11510073,
           -0.22261488,
           0.45465398,
           0.22993559,
           -0.054475345,
           0.058439158,
           0.040190443,
           -0.027770644,
           0.050552413,
           0.17287861,
           -0.0101842955,
           -0.10943024,
           -0.008820437,
           -0.03293948,
           -0.008937178,
           0.1197099,
           -0.007695172,
           -0.06230692,
           0.103183,
           -0.34726793
          ],
          [
           -0.013936166,
           0.04926527,
           -0.0065675527,
           -0.21084127,
           0.12039241,
           0.09353693,
           -0.024839582,
           -0.004776599,
           0.25752985,
           0.06409334,
           -0.027687483,
           1.9436241,
           -0.103197,
           0.050795265,
           0.06433192,
           0.06935321,
           -0.04022614,
           -0.21898404,
           0.040929236,
           0.005856531
          ],
          [
           0.11062455,
           -0.060706183,
           1.8735728,
           -0.054644633,
           0.36809638,
           0.07190797,
           0.04933387,
           -0.09920937,
           1.6023188,
           0.13762146,
           -0.26962528,
           1.3701006,
           0.09387868,
           -0.08908917,
           -0.008020967,
           -0.10183061,
           0.041042697,
           -0.00052456185,
           -0.12962237,
           -0.07488283
          ]
         ]
        }
       ],
       "layout": {
        "coloraxis": {
         "cmid": 0,
         "colorscale": [
          [
           0,
           "rgb(103,0,31)"
          ],
          [
           0.1,
           "rgb(178,24,43)"
          ],
          [
           0.2,
           "rgb(214,96,77)"
          ],
          [
           0.3,
           "rgb(244,165,130)"
          ],
          [
           0.4,
           "rgb(253,219,199)"
          ],
          [
           0.5,
           "rgb(247,247,247)"
          ],
          [
           0.6,
           "rgb(209,229,240)"
          ],
          [
           0.7,
           "rgb(146,197,222)"
          ],
          [
           0.8,
           "rgb(67,147,195)"
          ],
          [
           0.9,
           "rgb(33,102,172)"
          ],
          [
           1,
           "rgb(5,48,97)"
          ]
         ]
        },
        "template": {
         "data": {
          "bar": [
           {
            "error_x": {
             "color": "#2a3f5f"
            },
            "error_y": {
             "color": "#2a3f5f"
            },
            "marker": {
             "line": {
              "color": "#E5ECF6",
              "width": 0.5
             },
             "pattern": {
              "fillmode": "overlay",
              "size": 10,
              "solidity": 0.2
             }
            },
            "type": "bar"
           }
          ],
          "barpolar": [
           {
            "marker": {
             "line": {
              "color": "#E5ECF6",
              "width": 0.5
             },
             "pattern": {
              "fillmode": "overlay",
              "size": 10,
              "solidity": 0.2
             }
            },
            "type": "barpolar"
           }
          ],
          "carpet": [
           {
            "aaxis": {
             "endlinecolor": "#2a3f5f",
             "gridcolor": "white",
             "linecolor": "white",
             "minorgridcolor": "white",
             "startlinecolor": "#2a3f5f"
            },
            "baxis": {
             "endlinecolor": "#2a3f5f",
             "gridcolor": "white",
             "linecolor": "white",
             "minorgridcolor": "white",
             "startlinecolor": "#2a3f5f"
            },
            "type": "carpet"
           }
          ],
          "choropleth": [
           {
            "colorbar": {
             "outlinewidth": 0,
             "ticks": ""
            },
            "type": "choropleth"
           }
          ],
          "contour": [
           {
            "colorbar": {
             "outlinewidth": 0,
             "ticks": ""
            },
            "colorscale": [
             [
              0,
              "#0d0887"
             ],
             [
              0.1111111111111111,
              "#46039f"
             ],
             [
              0.2222222222222222,
              "#7201a8"
             ],
             [
              0.3333333333333333,
              "#9c179e"
             ],
             [
              0.4444444444444444,
              "#bd3786"
             ],
             [
              0.5555555555555556,
              "#d8576b"
             ],
             [
              0.6666666666666666,
              "#ed7953"
             ],
             [
              0.7777777777777778,
              "#fb9f3a"
             ],
             [
              0.8888888888888888,
              "#fdca26"
             ],
             [
              1,
              "#f0f921"
             ]
            ],
            "type": "contour"
           }
          ],
          "contourcarpet": [
           {
            "colorbar": {
             "outlinewidth": 0,
             "ticks": ""
            },
            "type": "contourcarpet"
           }
          ],
          "heatmap": [
           {
            "colorbar": {
             "outlinewidth": 0,
             "ticks": ""
            },
            "colorscale": [
             [
              0,
              "#0d0887"
             ],
             [
              0.1111111111111111,
              "#46039f"
             ],
             [
              0.2222222222222222,
              "#7201a8"
             ],
             [
              0.3333333333333333,
              "#9c179e"
             ],
             [
              0.4444444444444444,
              "#bd3786"
             ],
             [
              0.5555555555555556,
              "#d8576b"
             ],
             [
              0.6666666666666666,
              "#ed7953"
             ],
             [
              0.7777777777777778,
              "#fb9f3a"
             ],
             [
              0.8888888888888888,
              "#fdca26"
             ],
             [
              1,
              "#f0f921"
             ]
            ],
            "type": "heatmap"
           }
          ],
          "heatmapgl": [
           {
            "colorbar": {
             "outlinewidth": 0,
             "ticks": ""
            },
            "colorscale": [
             [
              0,
              "#0d0887"
             ],
             [
              0.1111111111111111,
              "#46039f"
             ],
             [
              0.2222222222222222,
              "#7201a8"
             ],
             [
              0.3333333333333333,
              "#9c179e"
             ],
             [
              0.4444444444444444,
              "#bd3786"
             ],
             [
              0.5555555555555556,
              "#d8576b"
             ],
             [
              0.6666666666666666,
              "#ed7953"
             ],
             [
              0.7777777777777778,
              "#fb9f3a"
             ],
             [
              0.8888888888888888,
              "#fdca26"
             ],
             [
              1,
              "#f0f921"
             ]
            ],
            "type": "heatmapgl"
           }
          ],
          "histogram": [
           {
            "marker": {
             "pattern": {
              "fillmode": "overlay",
              "size": 10,
              "solidity": 0.2
             }
            },
            "type": "histogram"
           }
          ],
          "histogram2d": [
           {
            "colorbar": {
             "outlinewidth": 0,
             "ticks": ""
            },
            "colorscale": [
             [
              0,
              "#0d0887"
             ],
             [
              0.1111111111111111,
              "#46039f"
             ],
             [
              0.2222222222222222,
              "#7201a8"
             ],
             [
              0.3333333333333333,
              "#9c179e"
             ],
             [
              0.4444444444444444,
              "#bd3786"
             ],
             [
              0.5555555555555556,
              "#d8576b"
             ],
             [
              0.6666666666666666,
              "#ed7953"
             ],
             [
              0.7777777777777778,
              "#fb9f3a"
             ],
             [
              0.8888888888888888,
              "#fdca26"
             ],
             [
              1,
              "#f0f921"
             ]
            ],
            "type": "histogram2d"
           }
          ],
          "histogram2dcontour": [
           {
            "colorbar": {
             "outlinewidth": 0,
             "ticks": ""
            },
            "colorscale": [
             [
              0,
              "#0d0887"
             ],
             [
              0.1111111111111111,
              "#46039f"
             ],
             [
              0.2222222222222222,
              "#7201a8"
             ],
             [
              0.3333333333333333,
              "#9c179e"
             ],
             [
              0.4444444444444444,
              "#bd3786"
             ],
             [
              0.5555555555555556,
              "#d8576b"
             ],
             [
              0.6666666666666666,
              "#ed7953"
             ],
             [
              0.7777777777777778,
              "#fb9f3a"
             ],
             [
              0.8888888888888888,
              "#fdca26"
             ],
             [
              1,
              "#f0f921"
             ]
            ],
            "type": "histogram2dcontour"
           }
          ],
          "mesh3d": [
           {
            "colorbar": {
             "outlinewidth": 0,
             "ticks": ""
            },
            "type": "mesh3d"
           }
          ],
          "parcoords": [
           {
            "line": {
             "colorbar": {
              "outlinewidth": 0,
              "ticks": ""
             }
            },
            "type": "parcoords"
           }
          ],
          "pie": [
           {
            "automargin": true,
            "type": "pie"
           }
          ],
          "scatter": [
           {
            "fillpattern": {
             "fillmode": "overlay",
             "size": 10,
             "solidity": 0.2
            },
            "type": "scatter"
           }
          ],
          "scatter3d": [
           {
            "line": {
             "colorbar": {
              "outlinewidth": 0,
              "ticks": ""
             }
            },
            "marker": {
             "colorbar": {
              "outlinewidth": 0,
              "ticks": ""
             }
            },
            "type": "scatter3d"
           }
          ],
          "scattercarpet": [
           {
            "marker": {
             "colorbar": {
              "outlinewidth": 0,
              "ticks": ""
             }
            },
            "type": "scattercarpet"
           }
          ],
          "scattergeo": [
           {
            "marker": {
             "colorbar": {
              "outlinewidth": 0,
              "ticks": ""
             }
            },
            "type": "scattergeo"
           }
          ],
          "scattergl": [
           {
            "marker": {
             "colorbar": {
              "outlinewidth": 0,
              "ticks": ""
             }
            },
            "type": "scattergl"
           }
          ],
          "scattermapbox": [
           {
            "marker": {
             "colorbar": {
              "outlinewidth": 0,
              "ticks": ""
             }
            },
            "type": "scattermapbox"
           }
          ],
          "scatterpolar": [
           {
            "marker": {
             "colorbar": {
              "outlinewidth": 0,
              "ticks": ""
             }
            },
            "type": "scatterpolar"
           }
          ],
          "scatterpolargl": [
           {
            "marker": {
             "colorbar": {
              "outlinewidth": 0,
              "ticks": ""
             }
            },
            "type": "scatterpolargl"
           }
          ],
          "scatterternary": [
           {
            "marker": {
             "colorbar": {
              "outlinewidth": 0,
              "ticks": ""
             }
            },
            "type": "scatterternary"
           }
          ],
          "surface": [
           {
            "colorbar": {
             "outlinewidth": 0,
             "ticks": ""
            },
            "colorscale": [
             [
              0,
              "#0d0887"
             ],
             [
              0.1111111111111111,
              "#46039f"
             ],
             [
              0.2222222222222222,
              "#7201a8"
             ],
             [
              0.3333333333333333,
              "#9c179e"
             ],
             [
              0.4444444444444444,
              "#bd3786"
             ],
             [
              0.5555555555555556,
              "#d8576b"
             ],
             [
              0.6666666666666666,
              "#ed7953"
             ],
             [
              0.7777777777777778,
              "#fb9f3a"
             ],
             [
              0.8888888888888888,
              "#fdca26"
             ],
             [
              1,
              "#f0f921"
             ]
            ],
            "type": "surface"
           }
          ],
          "table": [
           {
            "cells": {
             "fill": {
              "color": "#EBF0F8"
             },
             "line": {
              "color": "white"
             }
            },
            "header": {
             "fill": {
              "color": "#C8D4E3"
             },
             "line": {
              "color": "white"
             }
            },
            "type": "table"
           }
          ]
         },
         "layout": {
          "annotationdefaults": {
           "arrowcolor": "#2a3f5f",
           "arrowhead": 0,
           "arrowwidth": 1
          },
          "autotypenumbers": "strict",
          "coloraxis": {
           "colorbar": {
            "outlinewidth": 0,
            "ticks": ""
           }
          },
          "colorscale": {
           "diverging": [
            [
             0,
             "#8e0152"
            ],
            [
             0.1,
             "#c51b7d"
            ],
            [
             0.2,
             "#de77ae"
            ],
            [
             0.3,
             "#f1b6da"
            ],
            [
             0.4,
             "#fde0ef"
            ],
            [
             0.5,
             "#f7f7f7"
            ],
            [
             0.6,
             "#e6f5d0"
            ],
            [
             0.7,
             "#b8e186"
            ],
            [
             0.8,
             "#7fbc41"
            ],
            [
             0.9,
             "#4d9221"
            ],
            [
             1,
             "#276419"
            ]
           ],
           "sequential": [
            [
             0,
             "#0d0887"
            ],
            [
             0.1111111111111111,
             "#46039f"
            ],
            [
             0.2222222222222222,
             "#7201a8"
            ],
            [
             0.3333333333333333,
             "#9c179e"
            ],
            [
             0.4444444444444444,
             "#bd3786"
            ],
            [
             0.5555555555555556,
             "#d8576b"
            ],
            [
             0.6666666666666666,
             "#ed7953"
            ],
            [
             0.7777777777777778,
             "#fb9f3a"
            ],
            [
             0.8888888888888888,
             "#fdca26"
            ],
            [
             1,
             "#f0f921"
            ]
           ],
           "sequentialminus": [
            [
             0,
             "#0d0887"
            ],
            [
             0.1111111111111111,
             "#46039f"
            ],
            [
             0.2222222222222222,
             "#7201a8"
            ],
            [
             0.3333333333333333,
             "#9c179e"
            ],
            [
             0.4444444444444444,
             "#bd3786"
            ],
            [
             0.5555555555555556,
             "#d8576b"
            ],
            [
             0.6666666666666666,
             "#ed7953"
            ],
            [
             0.7777777777777778,
             "#fb9f3a"
            ],
            [
             0.8888888888888888,
             "#fdca26"
            ],
            [
             1,
             "#f0f921"
            ]
           ]
          },
          "colorway": [
           "#636efa",
           "#EF553B",
           "#00cc96",
           "#ab63fa",
           "#FFA15A",
           "#19d3f3",
           "#FF6692",
           "#B6E880",
           "#FF97FF",
           "#FECB52"
          ],
          "font": {
           "color": "#2a3f5f"
          },
          "geo": {
           "bgcolor": "white",
           "lakecolor": "white",
           "landcolor": "#E5ECF6",
           "showlakes": true,
           "showland": true,
           "subunitcolor": "white"
          },
          "hoverlabel": {
           "align": "left"
          },
          "hovermode": "closest",
          "mapbox": {
           "style": "light"
          },
          "paper_bgcolor": "white",
          "plot_bgcolor": "#E5ECF6",
          "polar": {
           "angularaxis": {
            "gridcolor": "white",
            "linecolor": "white",
            "ticks": ""
           },
           "bgcolor": "#E5ECF6",
           "radialaxis": {
            "gridcolor": "white",
            "linecolor": "white",
            "ticks": ""
           }
          },
          "scene": {
           "xaxis": {
            "backgroundcolor": "#E5ECF6",
            "gridcolor": "white",
            "gridwidth": 2,
            "linecolor": "white",
            "showbackground": true,
            "ticks": "",
            "zerolinecolor": "white"
           },
           "yaxis": {
            "backgroundcolor": "#E5ECF6",
            "gridcolor": "white",
            "gridwidth": 2,
            "linecolor": "white",
            "showbackground": true,
            "ticks": "",
            "zerolinecolor": "white"
           },
           "zaxis": {
            "backgroundcolor": "#E5ECF6",
            "gridcolor": "white",
            "gridwidth": 2,
            "linecolor": "white",
            "showbackground": true,
            "ticks": "",
            "zerolinecolor": "white"
           }
          },
          "shapedefaults": {
           "line": {
            "color": "#2a3f5f"
           }
          },
          "ternary": {
           "aaxis": {
            "gridcolor": "white",
            "linecolor": "white",
            "ticks": ""
           },
           "baxis": {
            "gridcolor": "white",
            "linecolor": "white",
            "ticks": ""
           },
           "bgcolor": "#E5ECF6",
           "caxis": {
            "gridcolor": "white",
            "linecolor": "white",
            "ticks": ""
           }
          },
          "title": {
           "x": 0.05
          },
          "xaxis": {
           "automargin": true,
           "gridcolor": "white",
           "linecolor": "white",
           "ticks": "",
           "title": {
            "standoff": 15
           },
           "zerolinecolor": "white",
           "zerolinewidth": 2
          },
          "yaxis": {
           "automargin": true,
           "gridcolor": "white",
           "linecolor": "white",
           "ticks": "",
           "title": {
            "standoff": 15
           },
           "zerolinecolor": "white",
           "zerolinewidth": 2
          }
         }
        },
        "title": {
         "text": "n opportunity for private individuals to voluntary"
        },
        "xaxis": {
         "anchor": "y",
         "constrain": "domain",
         "domain": [
          0,
          1
         ],
         "scaleanchor": "y"
        },
        "yaxis": {
         "anchor": "x",
         "autorange": "reversed",
         "constrain": "domain",
         "domain": [
          0,
          1
         ]
        }
       }
      }
     },
     "metadata": {},
     "output_type": "display_data"
    },
    {
     "data": {
      "application/vnd.plotly.v1+json": {
       "config": {
        "plotlyServerURL": "https://plot.ly"
       },
       "data": [
        {
         "coloraxis": "coloraxis",
         "hovertemplate": "x: %{x}<br>y: %{y}<br>color: %{z}<extra></extra>",
         "name": "0",
         "type": "heatmap",
         "xaxis": "x",
         "yaxis": "y",
         "z": [
          [
           -0.19767743,
           0.020814575,
           0.024897043,
           -0.039630778,
           -0.0058941543,
           -0.03632684,
           -0.01028393,
           -0.027123036,
           -0.00032791588,
           0.0066178693,
           -0.014057501,
           0.005323472,
           0.053319193,
           0.08225887,
           0.010163162,
           0.029130828,
           -0.048615377,
           -0.0004992066,
           -0.0005294173,
           0.05276327
          ],
          [
           -0.07505465,
           0.11927836,
           0.122547224,
           -0.085313655,
           0.022869667,
           -0.0621376,
           0.025328726,
           -0.07953966,
           0.11829775,
           -0.10360408,
           -0.015919557,
           -0.023444127,
           0.18246004,
           0.11198309,
           0.073990375,
           -0.01474602,
           0.012765124,
           -0.01890138,
           0.046415158,
           -0.0003945902
          ],
          [
           0.035714068,
           -0.11257177,
           0.022742191,
           -0.04374117,
           -0.027780334,
           0.026129829,
           0.09694864,
           0.05694392,
           0.18430337,
           0.04195162,
           -0.050936516,
           0.05003848,
           -0.049468275,
           0.20969506,
           0.017341968,
           0.06981765,
           0.11454226,
           -0.060228236,
           -0.059703223,
           0.136724
          ],
          [
           0.60812175,
           0.030548833,
           -0.015685268,
           -0.1184286,
           0.08944899,
           0.097979024,
           0.12135498,
           0.024744943,
           0.0043667927,
           0.08705728,
           -0.016863119,
           0.26101357,
           -0.045217253,
           0.047043633,
           -0.06762721,
           -0.027531877,
           0.03697961,
           0.024596922,
           0.072801225,
           -0.12741694
          ],
          [
           0.13163352,
           -0.043479055,
           0.095528156,
           0.24008977,
           0.030153088,
           0.17076087,
           -0.04034633,
           -0.19092593,
           0.5518849,
           0.008544296,
           0.11638543,
           -0.014517186,
           0.17606686,
           -0.098830655,
           -0.035519026,
           0.13810697,
           -0.15941967,
           0.18306234,
           -0.010571455,
           0.1605493
          ],
          [
           0.009701859,
           0.18144244,
           0.04243002,
           0.10392748,
           -0.0034420788,
           0.051737536,
           0.1774889,
           -0.2504408,
           0.009946957,
           -0.08343676,
           -0.18278612,
           0.0050974004,
           0.055763952,
           0.047653764,
           -0.06749143,
           -0.13965614,
           0.12467958,
           0.39941213,
           0.013493789,
           0.32951784
          ],
          [
           0.11730241,
           0.2583302,
           0.102624804,
           0.22514609,
           -0.0338453,
           -0.24975103,
           -0.05051849,
           0.0019405223,
           0.067687914,
           0.27137867,
           -0.13832232,
           0.0785787,
           0.18436064,
           -0.16732515,
           -0.15266268,
           0.13049543,
           0.015400739,
           0.108273886,
           0.008255668,
           -0.03716268
          ],
          [
           -0.04158307,
           0.1912547,
           0.15013373,
           0.0109285265,
           0.010971904,
           -0.010368884,
           -0.08632819,
           0.023920767,
           -0.016846776,
           0.052234724,
           0.3773745,
           -0.14467327,
           0.018813511,
           0.09373638,
           -0.018453475,
           0.3684967,
           -0.012426278,
           0.095534414,
           0.068449676,
           0.0464529
          ],
          [
           0.058275476,
           -0.09089403,
           0.008631284,
           0.10011393,
           -0.09886372,
           0.21561766,
           0.0028375946,
           -0.031967014,
           0.12255116,
           -0.04461555,
           0.12868606,
           -0.051471375,
           0.06006199,
           0.056317464,
           0.006089993,
           -0.085414425,
           -0.015647478,
           0.2029737,
           0.07744928,
           0.06092658
          ],
          [
           0.06978866,
           -0.024614364,
           -0.09498249,
           -0.011727706,
           0.04385282,
           0.05863982,
           0.07171288,
           -0.04033646,
           -0.06598082,
           -0.016444862,
           0.026471034,
           0.08333966,
           0.006314611,
           -0.15777968,
           0.014285117,
           -0.08568175,
           0.0221169,
           0.13075541,
           0.03890489,
           -0.079871945
          ],
          [
           0.11401071,
           0.043074645,
           -0.06198986,
           0.004236133,
           0.03345924,
           -0.1103806,
           0.07565161,
           0.34482574,
           -0.035779532,
           0.022300929,
           -0.07259473,
           -0.013227329,
           0.004853744,
           -0.058803655,
           0.014619926,
           -0.05697135,
           0.07909267,
           0.04603146,
           0.03680954,
           -0.050571084
          ],
          [
           -0.000015094876,
           -0.19001953,
           0.029802615,
           0.18369909,
           0.14566833,
           0.014659781,
           -0.0075257123,
           0.17344654,
           -0.018029958,
           0.027578408,
           -0.055765294,
           -0.016639484,
           0.0047516534,
           0.027499981,
           -0.057631794,
           0.038332388,
           0.040770672,
           0.028091947,
           0.087310016,
           -0.039485134
          ],
          [
           0.26762885,
           -0.13982867,
           0.014488712,
           -0.011138771,
           0.050461598,
           0.07971655,
           -0.039386973,
           -0.06527156,
           -0.033871263,
           0.03766495,
           -0.02212444,
           0.02632916,
           -0.011887297,
           0.07328247,
           0.04442849,
           -0.04195708,
           0.044948414,
           0.008768559,
           0.046692356,
           0.039991394
          ],
          [
           0.020915113,
           0.031373702,
           -0.03661756,
           0.10224497,
           0.031954933,
           -0.0012593381,
           -0.07963386,
           -0.0065444857,
           0.035539657,
           0.056843236,
           0.0075806975,
           -0.01974259,
           0.14177774,
           0.08519456,
           -0.022628203,
           -0.00093345717,
           -0.0022215545,
           -0.021824554,
           -0.054196097,
           -0.12055713
          ],
          [
           0.44509012,
           0.037881978,
           -0.04778953,
           0.12796822,
           -0.08392139,
           -0.045678083,
           0.0953217,
           0.0021159723,
           0.08429147,
           0.012016064,
           -0.025643399,
           -0.02730117,
           -0.0057275835,
           -0.08058936,
           0.10596225,
           0.20333815,
           -0.119803496,
           0.07069155,
           -0.08987701,
           -0.096459545
          ],
          [
           -0.20688644,
           -0.06075685,
           0.14169244,
           0.092585936,
           0.080108,
           -0.07986599,
           0.626342,
           0.10412243,
           0.04350424,
           -0.032092053,
           -0.05790075,
           0.13250794,
           -0.31583145,
           -0.2352966,
           0.18681297,
           -0.010662518,
           0.23968187,
           0.0027451497,
           -0.14568704,
           0.040641434
          ],
          [
           0.022020316,
           0.0045582294,
           -0.24272034,
           0.14111802,
           -0.15161479,
           0.44165882,
           0.003241159,
           -0.011637423,
           -0.06504351,
           -0.03920275,
           0.20824121,
           -0.06480913,
           -0.18690494,
           -0.2207044,
           -0.06722002,
           -0.18469009,
           0.05526489,
           0.13723338,
           0.061601155,
           -0.009547178
          ],
          [
           -0.19935754,
           -0.1111714,
           -0.061893746,
           0.19638667,
           0.035516635,
           -0.03802652,
           -0.011423064,
           -0.047437772,
           -0.009827407,
           0.0071308464,
           -0.10033391,
           -0.032316174,
           -0.09878984,
           -0.09147002,
           0.7864175,
           0.033004224,
           0.14709824,
           -0.089878365,
           0.10171977,
           0.04673843
          ],
          [
           -0.049714476,
           0.24398568,
           -0.046821542,
           -0.051367313,
           0.0007489212,
           0.24870275,
           -0.036501337,
           -0.05954461,
           -0.21880683,
           -0.03805203,
           0.017931916,
           -0.12066893,
           0.20827882,
           -0.03700976,
           0.4545765,
           0.19516182,
           -0.03499914,
           -0.0077493116,
           0.31928056,
           -0.27248544
          ],
          [
           0.076075435,
           0.051816743,
           -0.013340771,
           0.29500207,
           -0.032863494,
           0.96551317,
           0.035858236,
           -0.2567831,
           -0.15358472,
           -0.06332731,
           0.29913378,
           -0.01584242,
           -0.0756244,
           0.0058642123,
           -0.2161639,
           -0.109725535,
           0.114556216,
           0.073945045,
           0.11354992,
           0.01625661
          ],
          [
           0.02916223,
           -0.029722508,
           -0.15416217,
           -0.10925827,
           0.14537592,
           0.21178927,
           0.0038352832,
           0.011296779,
           0.036062293,
           0.5963087,
           -0.018802129,
           0.0052971803,
           -0.04466922,
           0.42269456,
           0.014504068,
           0.2161285,
           -0.12886387,
           -0.1217809,
           -0.048002515,
           -0.019935288
          ],
          [
           -0.011283614,
           0.024941541,
           -0.021324206,
           0.8930472,
           -0.06903689,
           0.080267064,
           -0.061334223,
           0.03427341,
           0.0043666055,
           0.022169985,
           0.2541106,
           0.020273747,
           0.024474595,
           -0.20623207,
           0.06601763,
           -0.029364925,
           0.033724215,
           -0.005380515,
           -0.056581426,
           0.057854973
          ],
          [
           0.014874823,
           0.5609595,
           -0.0011315793,
           0.20445752,
           -0.13360481,
           -0.17895894,
           -0.057184033,
           -0.031636365,
           0.553469,
           0.016829774,
           -0.081706375,
           -0.11894852,
           -0.32340705,
           -0.043393116,
           -0.20236072,
           0.02463432,
           0.010288775,
           0.061192103,
           0.047074437,
           0.026221082
          ],
          [
           0.28327638,
           0.11553301,
           0.027452618,
           -0.07621353,
           0.04414113,
           0.060611766,
           -0.27670413,
           0.010831362,
           -0.0081802085,
           0.28820884,
           0.51893014,
           -0.031698212,
           -0.008396275,
           0.2393011,
           -0.047448598,
           -0.025572905,
           -0.0149602,
           -0.13460246,
           0.13171834,
           -0.11077766
          ],
          [
           -0.008630902,
           -0.30302683,
           0.98361534,
           -0.033519387,
           -0.06021634,
           0.008637123,
           -0.45593777,
           0.24578938,
           0.045960814,
           0.5103857,
           0.10834356,
           0.028873786,
           0.14659503,
           -0.009831201,
           -0.04293657,
           -0.06711504,
           -0.025368745,
           -0.036032066,
           -0.14773548,
           -0.2237515
          ],
          [
           -0.12257257,
           0.026549324,
           0.1430442,
           0.013627432,
           -0.027870938,
           0.014415835,
           -0.08093433,
           -0.04568017,
           0.0049518617,
           0.6193892,
           0.06148176,
           -0.075458124,
           -0.37475777,
           -0.24860522,
           0.061321553,
           -0.03688611,
           0.5033932,
           0.354426,
           -0.09696289,
           0.9929929
          ],
          [
           -0.030922122,
           0.00008899346,
           -0.0033989921,
           0.013646225,
           -0.053453937,
           0.80697626,
           -0.06448132,
           -0.32508996,
           -0.0677221,
           -0.024046034,
           0.08188231,
           0.16299847,
           0.036775935,
           -0.029935427,
           0.0085725095,
           0.024937179,
           -0.1179929,
           -0.23374443,
           -0.014153874,
           -0.11167921
          ],
          [
           0.033083566,
           -0.018341564,
           0.3149328,
           0.017922059,
           -0.18355241,
           -0.10905205,
           -0.00008328259,
           0.07046067,
           0.119850904,
           0.015651677,
           -0.066142656,
           -0.38007957,
           0.03082781,
           -0.08934525,
           -0.06445685,
           -0.2354145,
           0.10689243,
           -0.021499712,
           0.21965063,
           -0.08430372
          ],
          [
           0.061316445,
           -0.055669434,
           -0.049939685,
           -0.06738763,
           0.008936005,
           0.006937824,
           0.058421135,
           -0.024749827,
           0.0025869682,
           -0.11371602,
           0.010964812,
           -0.06888695,
           -0.017449927,
           -0.14245586,
           -0.07654907,
           0.4008372,
           0.03852998,
           0.0054291356,
           0.39266366,
           -0.27392069
          ],
          [
           -0.097782195,
           0.026204022,
           -0.0122701395,
           0.067358084,
           -0.29844856,
           0.024303768,
           -0.07679919,
           0.020880394,
           -0.007326998,
           0.07970165,
           0.10313991,
           -0.032148656,
           0.69738466,
           0.020652104,
           0.10614523,
           1.6322527,
           -0.06032602,
           0.04905816,
           -0.13056129,
           0.11989941
          ],
          [
           -0.010352783,
           -0.19961764,
           0.0097626895,
           0.0021825228,
           0.031297185,
           2.1775556,
           -0.2221027,
           0.13110605,
           0.13425694,
           -0.020808525,
           0.0898871,
           0.16977662,
           -0.072032206,
           -0.3072551,
           -0.02198924,
           -0.06448746,
           0.03587804,
           0.011136111,
           -0.082907856,
           -0.009558015
          ],
          [
           0.06787342,
           0.03532421,
           0.024529204,
           0.56772554,
           -0.030970056,
           -0.046606768,
           1.5369592,
           0.03787815,
           0.077548936,
           -0.0342462,
           -0.12782437,
           -0.0077585876,
           0.026127256,
           -0.15196982,
           -0.010363352,
           0.08247949,
           0.51555467,
           0.23257244,
           -0.015078869,
           -0.018709512
          ],
          [
           0.031672355,
           0.98177725,
           0.34828666,
           0.25935185,
           -0.17411678,
           -0.035770517,
           0.064482175,
           -0.00045639277,
           -0.041227907,
           0.0938734,
           0.007126063,
           -0.11586311,
           -0.14104718,
           -0.09326893,
           -0.020510092,
           0.08078508,
           -0.008690063,
           0.002944205,
           0.6900802,
           -0.60927093
          ],
          [
           0.06797739,
           0.1681132,
           0.06723184,
           -0.081771925,
           0.64099085,
           0.1369691,
           -0.21428876,
           -0.09028222,
           0.26479542,
           0.019892523,
           -0.03007771,
           2.1219256,
           -0.29113454,
           0.0078853555,
           0.178602,
           0.101625234,
           0.35749668,
           -0.2568443,
           -0.019519627,
           0.16334753
          ],
          [
           -0.097464465,
           -0.22051895,
           1.7336597,
           0.044053596,
           0.18500246,
           -0.009151205,
           -0.02024065,
           -0.15577616,
           1.2639195,
           0.2874025,
           -0.05275908,
           1.2982154,
           -0.022438943,
           -0.17487487,
           0.10727541,
           0.07542579,
           0.0067811273,
           -0.10368379,
           -0.0018119365,
           -0.105349176
          ]
         ]
        }
       ],
       "layout": {
        "coloraxis": {
         "cmid": 0,
         "colorscale": [
          [
           0,
           "rgb(103,0,31)"
          ],
          [
           0.1,
           "rgb(178,24,43)"
          ],
          [
           0.2,
           "rgb(214,96,77)"
          ],
          [
           0.3,
           "rgb(244,165,130)"
          ],
          [
           0.4,
           "rgb(253,219,199)"
          ],
          [
           0.5,
           "rgb(247,247,247)"
          ],
          [
           0.6,
           "rgb(209,229,240)"
          ],
          [
           0.7,
           "rgb(146,197,222)"
          ],
          [
           0.8,
           "rgb(67,147,195)"
          ],
          [
           0.9,
           "rgb(33,102,172)"
          ],
          [
           1,
           "rgb(5,48,97)"
          ]
         ]
        },
        "template": {
         "data": {
          "bar": [
           {
            "error_x": {
             "color": "#2a3f5f"
            },
            "error_y": {
             "color": "#2a3f5f"
            },
            "marker": {
             "line": {
              "color": "#E5ECF6",
              "width": 0.5
             },
             "pattern": {
              "fillmode": "overlay",
              "size": 10,
              "solidity": 0.2
             }
            },
            "type": "bar"
           }
          ],
          "barpolar": [
           {
            "marker": {
             "line": {
              "color": "#E5ECF6",
              "width": 0.5
             },
             "pattern": {
              "fillmode": "overlay",
              "size": 10,
              "solidity": 0.2
             }
            },
            "type": "barpolar"
           }
          ],
          "carpet": [
           {
            "aaxis": {
             "endlinecolor": "#2a3f5f",
             "gridcolor": "white",
             "linecolor": "white",
             "minorgridcolor": "white",
             "startlinecolor": "#2a3f5f"
            },
            "baxis": {
             "endlinecolor": "#2a3f5f",
             "gridcolor": "white",
             "linecolor": "white",
             "minorgridcolor": "white",
             "startlinecolor": "#2a3f5f"
            },
            "type": "carpet"
           }
          ],
          "choropleth": [
           {
            "colorbar": {
             "outlinewidth": 0,
             "ticks": ""
            },
            "type": "choropleth"
           }
          ],
          "contour": [
           {
            "colorbar": {
             "outlinewidth": 0,
             "ticks": ""
            },
            "colorscale": [
             [
              0,
              "#0d0887"
             ],
             [
              0.1111111111111111,
              "#46039f"
             ],
             [
              0.2222222222222222,
              "#7201a8"
             ],
             [
              0.3333333333333333,
              "#9c179e"
             ],
             [
              0.4444444444444444,
              "#bd3786"
             ],
             [
              0.5555555555555556,
              "#d8576b"
             ],
             [
              0.6666666666666666,
              "#ed7953"
             ],
             [
              0.7777777777777778,
              "#fb9f3a"
             ],
             [
              0.8888888888888888,
              "#fdca26"
             ],
             [
              1,
              "#f0f921"
             ]
            ],
            "type": "contour"
           }
          ],
          "contourcarpet": [
           {
            "colorbar": {
             "outlinewidth": 0,
             "ticks": ""
            },
            "type": "contourcarpet"
           }
          ],
          "heatmap": [
           {
            "colorbar": {
             "outlinewidth": 0,
             "ticks": ""
            },
            "colorscale": [
             [
              0,
              "#0d0887"
             ],
             [
              0.1111111111111111,
              "#46039f"
             ],
             [
              0.2222222222222222,
              "#7201a8"
             ],
             [
              0.3333333333333333,
              "#9c179e"
             ],
             [
              0.4444444444444444,
              "#bd3786"
             ],
             [
              0.5555555555555556,
              "#d8576b"
             ],
             [
              0.6666666666666666,
              "#ed7953"
             ],
             [
              0.7777777777777778,
              "#fb9f3a"
             ],
             [
              0.8888888888888888,
              "#fdca26"
             ],
             [
              1,
              "#f0f921"
             ]
            ],
            "type": "heatmap"
           }
          ],
          "heatmapgl": [
           {
            "colorbar": {
             "outlinewidth": 0,
             "ticks": ""
            },
            "colorscale": [
             [
              0,
              "#0d0887"
             ],
             [
              0.1111111111111111,
              "#46039f"
             ],
             [
              0.2222222222222222,
              "#7201a8"
             ],
             [
              0.3333333333333333,
              "#9c179e"
             ],
             [
              0.4444444444444444,
              "#bd3786"
             ],
             [
              0.5555555555555556,
              "#d8576b"
             ],
             [
              0.6666666666666666,
              "#ed7953"
             ],
             [
              0.7777777777777778,
              "#fb9f3a"
             ],
             [
              0.8888888888888888,
              "#fdca26"
             ],
             [
              1,
              "#f0f921"
             ]
            ],
            "type": "heatmapgl"
           }
          ],
          "histogram": [
           {
            "marker": {
             "pattern": {
              "fillmode": "overlay",
              "size": 10,
              "solidity": 0.2
             }
            },
            "type": "histogram"
           }
          ],
          "histogram2d": [
           {
            "colorbar": {
             "outlinewidth": 0,
             "ticks": ""
            },
            "colorscale": [
             [
              0,
              "#0d0887"
             ],
             [
              0.1111111111111111,
              "#46039f"
             ],
             [
              0.2222222222222222,
              "#7201a8"
             ],
             [
              0.3333333333333333,
              "#9c179e"
             ],
             [
              0.4444444444444444,
              "#bd3786"
             ],
             [
              0.5555555555555556,
              "#d8576b"
             ],
             [
              0.6666666666666666,
              "#ed7953"
             ],
             [
              0.7777777777777778,
              "#fb9f3a"
             ],
             [
              0.8888888888888888,
              "#fdca26"
             ],
             [
              1,
              "#f0f921"
             ]
            ],
            "type": "histogram2d"
           }
          ],
          "histogram2dcontour": [
           {
            "colorbar": {
             "outlinewidth": 0,
             "ticks": ""
            },
            "colorscale": [
             [
              0,
              "#0d0887"
             ],
             [
              0.1111111111111111,
              "#46039f"
             ],
             [
              0.2222222222222222,
              "#7201a8"
             ],
             [
              0.3333333333333333,
              "#9c179e"
             ],
             [
              0.4444444444444444,
              "#bd3786"
             ],
             [
              0.5555555555555556,
              "#d8576b"
             ],
             [
              0.6666666666666666,
              "#ed7953"
             ],
             [
              0.7777777777777778,
              "#fb9f3a"
             ],
             [
              0.8888888888888888,
              "#fdca26"
             ],
             [
              1,
              "#f0f921"
             ]
            ],
            "type": "histogram2dcontour"
           }
          ],
          "mesh3d": [
           {
            "colorbar": {
             "outlinewidth": 0,
             "ticks": ""
            },
            "type": "mesh3d"
           }
          ],
          "parcoords": [
           {
            "line": {
             "colorbar": {
              "outlinewidth": 0,
              "ticks": ""
             }
            },
            "type": "parcoords"
           }
          ],
          "pie": [
           {
            "automargin": true,
            "type": "pie"
           }
          ],
          "scatter": [
           {
            "fillpattern": {
             "fillmode": "overlay",
             "size": 10,
             "solidity": 0.2
            },
            "type": "scatter"
           }
          ],
          "scatter3d": [
           {
            "line": {
             "colorbar": {
              "outlinewidth": 0,
              "ticks": ""
             }
            },
            "marker": {
             "colorbar": {
              "outlinewidth": 0,
              "ticks": ""
             }
            },
            "type": "scatter3d"
           }
          ],
          "scattercarpet": [
           {
            "marker": {
             "colorbar": {
              "outlinewidth": 0,
              "ticks": ""
             }
            },
            "type": "scattercarpet"
           }
          ],
          "scattergeo": [
           {
            "marker": {
             "colorbar": {
              "outlinewidth": 0,
              "ticks": ""
             }
            },
            "type": "scattergeo"
           }
          ],
          "scattergl": [
           {
            "marker": {
             "colorbar": {
              "outlinewidth": 0,
              "ticks": ""
             }
            },
            "type": "scattergl"
           }
          ],
          "scattermapbox": [
           {
            "marker": {
             "colorbar": {
              "outlinewidth": 0,
              "ticks": ""
             }
            },
            "type": "scattermapbox"
           }
          ],
          "scatterpolar": [
           {
            "marker": {
             "colorbar": {
              "outlinewidth": 0,
              "ticks": ""
             }
            },
            "type": "scatterpolar"
           }
          ],
          "scatterpolargl": [
           {
            "marker": {
             "colorbar": {
              "outlinewidth": 0,
              "ticks": ""
             }
            },
            "type": "scatterpolargl"
           }
          ],
          "scatterternary": [
           {
            "marker": {
             "colorbar": {
              "outlinewidth": 0,
              "ticks": ""
             }
            },
            "type": "scatterternary"
           }
          ],
          "surface": [
           {
            "colorbar": {
             "outlinewidth": 0,
             "ticks": ""
            },
            "colorscale": [
             [
              0,
              "#0d0887"
             ],
             [
              0.1111111111111111,
              "#46039f"
             ],
             [
              0.2222222222222222,
              "#7201a8"
             ],
             [
              0.3333333333333333,
              "#9c179e"
             ],
             [
              0.4444444444444444,
              "#bd3786"
             ],
             [
              0.5555555555555556,
              "#d8576b"
             ],
             [
              0.6666666666666666,
              "#ed7953"
             ],
             [
              0.7777777777777778,
              "#fb9f3a"
             ],
             [
              0.8888888888888888,
              "#fdca26"
             ],
             [
              1,
              "#f0f921"
             ]
            ],
            "type": "surface"
           }
          ],
          "table": [
           {
            "cells": {
             "fill": {
              "color": "#EBF0F8"
             },
             "line": {
              "color": "white"
             }
            },
            "header": {
             "fill": {
              "color": "#C8D4E3"
             },
             "line": {
              "color": "white"
             }
            },
            "type": "table"
           }
          ]
         },
         "layout": {
          "annotationdefaults": {
           "arrowcolor": "#2a3f5f",
           "arrowhead": 0,
           "arrowwidth": 1
          },
          "autotypenumbers": "strict",
          "coloraxis": {
           "colorbar": {
            "outlinewidth": 0,
            "ticks": ""
           }
          },
          "colorscale": {
           "diverging": [
            [
             0,
             "#8e0152"
            ],
            [
             0.1,
             "#c51b7d"
            ],
            [
             0.2,
             "#de77ae"
            ],
            [
             0.3,
             "#f1b6da"
            ],
            [
             0.4,
             "#fde0ef"
            ],
            [
             0.5,
             "#f7f7f7"
            ],
            [
             0.6,
             "#e6f5d0"
            ],
            [
             0.7,
             "#b8e186"
            ],
            [
             0.8,
             "#7fbc41"
            ],
            [
             0.9,
             "#4d9221"
            ],
            [
             1,
             "#276419"
            ]
           ],
           "sequential": [
            [
             0,
             "#0d0887"
            ],
            [
             0.1111111111111111,
             "#46039f"
            ],
            [
             0.2222222222222222,
             "#7201a8"
            ],
            [
             0.3333333333333333,
             "#9c179e"
            ],
            [
             0.4444444444444444,
             "#bd3786"
            ],
            [
             0.5555555555555556,
             "#d8576b"
            ],
            [
             0.6666666666666666,
             "#ed7953"
            ],
            [
             0.7777777777777778,
             "#fb9f3a"
            ],
            [
             0.8888888888888888,
             "#fdca26"
            ],
            [
             1,
             "#f0f921"
            ]
           ],
           "sequentialminus": [
            [
             0,
             "#0d0887"
            ],
            [
             0.1111111111111111,
             "#46039f"
            ],
            [
             0.2222222222222222,
             "#7201a8"
            ],
            [
             0.3333333333333333,
             "#9c179e"
            ],
            [
             0.4444444444444444,
             "#bd3786"
            ],
            [
             0.5555555555555556,
             "#d8576b"
            ],
            [
             0.6666666666666666,
             "#ed7953"
            ],
            [
             0.7777777777777778,
             "#fb9f3a"
            ],
            [
             0.8888888888888888,
             "#fdca26"
            ],
            [
             1,
             "#f0f921"
            ]
           ]
          },
          "colorway": [
           "#636efa",
           "#EF553B",
           "#00cc96",
           "#ab63fa",
           "#FFA15A",
           "#19d3f3",
           "#FF6692",
           "#B6E880",
           "#FF97FF",
           "#FECB52"
          ],
          "font": {
           "color": "#2a3f5f"
          },
          "geo": {
           "bgcolor": "white",
           "lakecolor": "white",
           "landcolor": "#E5ECF6",
           "showlakes": true,
           "showland": true,
           "subunitcolor": "white"
          },
          "hoverlabel": {
           "align": "left"
          },
          "hovermode": "closest",
          "mapbox": {
           "style": "light"
          },
          "paper_bgcolor": "white",
          "plot_bgcolor": "#E5ECF6",
          "polar": {
           "angularaxis": {
            "gridcolor": "white",
            "linecolor": "white",
            "ticks": ""
           },
           "bgcolor": "#E5ECF6",
           "radialaxis": {
            "gridcolor": "white",
            "linecolor": "white",
            "ticks": ""
           }
          },
          "scene": {
           "xaxis": {
            "backgroundcolor": "#E5ECF6",
            "gridcolor": "white",
            "gridwidth": 2,
            "linecolor": "white",
            "showbackground": true,
            "ticks": "",
            "zerolinecolor": "white"
           },
           "yaxis": {
            "backgroundcolor": "#E5ECF6",
            "gridcolor": "white",
            "gridwidth": 2,
            "linecolor": "white",
            "showbackground": true,
            "ticks": "",
            "zerolinecolor": "white"
           },
           "zaxis": {
            "backgroundcolor": "#E5ECF6",
            "gridcolor": "white",
            "gridwidth": 2,
            "linecolor": "white",
            "showbackground": true,
            "ticks": "",
            "zerolinecolor": "white"
           }
          },
          "shapedefaults": {
           "line": {
            "color": "#2a3f5f"
           }
          },
          "ternary": {
           "aaxis": {
            "gridcolor": "white",
            "linecolor": "white",
            "ticks": ""
           },
           "baxis": {
            "gridcolor": "white",
            "linecolor": "white",
            "ticks": ""
           },
           "bgcolor": "#E5ECF6",
           "caxis": {
            "gridcolor": "white",
            "linecolor": "white",
            "ticks": ""
           }
          },
          "title": {
           "x": 0.05
          },
          "xaxis": {
           "automargin": true,
           "gridcolor": "white",
           "linecolor": "white",
           "ticks": "",
           "title": {
            "standoff": 15
           },
           "zerolinecolor": "white",
           "zerolinewidth": 2
          },
          "yaxis": {
           "automargin": true,
           "gridcolor": "white",
           "linecolor": "white",
           "ticks": "",
           "title": {
            "standoff": 15
           },
           "zerolinecolor": "white",
           "zerolinewidth": 2
          }
         }
        },
        "title": {
         "text": "ear.In the Clinton/Rubin era, the Treasury stopped"
        },
        "xaxis": {
         "anchor": "y",
         "constrain": "domain",
         "domain": [
          0,
          1
         ],
         "scaleanchor": "y"
        },
        "yaxis": {
         "anchor": "x",
         "autorange": "reversed",
         "constrain": "domain",
         "domain": [
          0,
          1
         ]
        }
       }
      }
     },
     "metadata": {},
     "output_type": "display_data"
    }
   ],
   "source": [
    "print(len(prompts))\n",
    "head_attribution_lh = einops.rearrange(head_attribution, \"batch (layer head) -> batch layer head\", head=model.cfg.n_heads)\n",
    "for prompt_index in range(len(prompts)):\n",
    "    imshow(head_attribution_lh[prompt_index, :, :], title=f\"{prompts[prompt_index][-50:]}\")"
   ]
  },
  {
   "cell_type": "code",
   "execution_count": null,
   "metadata": {},
   "outputs": [],
   "source": []
  },
  {
   "cell_type": "code",
   "execution_count": 131,
   "metadata": {},
   "outputs": [
    {
     "name": "stderr",
     "output_type": "stream",
     "text": [
      "Using custom data configuration NeelNanda--pile-10k-72f566e9f7c464ab\n",
      "Found cached dataset parquet (/Users/clementneo/.cache/huggingface/datasets/NeelNanda___parquet/NeelNanda--pile-10k-72f566e9f7c464ab/0.0.0/2a3b91fbd88a2c90d1dbbb32b460cf621d31bd5b05b934492fdef7d8d6f236ec)\n"
     ]
    }
   ],
   "source": [
    "from datasets import load_dataset\n",
    "dataset = load_dataset(\"NeelNanda/pile-10k\", split=\"train\")"
   ]
  },
  {
   "cell_type": "code",
   "execution_count": 175,
   "metadata": {},
   "outputs": [
    {
     "name": "stdout",
     "output_type": "stream",
     "text": [
      "torch.Size([1, 959])\n",
      "At our best, we motivate ourselves every day to get dressed and go to work or school. Although there are larger incentives at work, it's our own volition that powers us through our innumerable daily tasks.\n",
      "\n",
      "If we could learn to control the motivational centers of our brains that drive volition, would it lead us toward healthier, more productive lives? Using a new brain imaging strategy, Duke University scientists have now taken a first step in understanding how to manipulate specific neural circuits using thoughts and imagery.\n",
      "\n",
      "The technique, which is described in the March 16 issue of the journal Neuron, is part of a larger approach called 'neurofeedback,' which gives participants a dynamic readout of brain activity, in this case from a brain area critical for motivation.\n",
      "\n",
      "\"These methods show a direct route for manipulating brain networks centrally involved in healthy brain function and daily behavior,\" said the study's senior investigator R. Alison Adcock, an assistant professor of psychiatry and behavioral sciences and associate director of the Center for Cognitive Neuroscience in the Duke University Institute for Brain Sciences.\n",
      "\n",
      "Neurofeedback is a specialized form of biofeedback, a technique that allows people to monitor aspects of their own physiology, such as heart rate and skin temperature. It can help generate strategies to overcome anxiety and stress or to cope with other medical conditions.\n",
      "\n",
      "Neurofeedback has historically relied on electroencephalography or EEG, in which patterns of electrical activity are monitored noninvasively by electrodes attached to the scalp. But these measures provide only rough estimates of where activity occurs in the brain.\n",
      "\n",
      "advertisement\n",
      "\n",
      "In contrast, the new study employed functional magnetic resonance imaging (fMRI), which measures changes in blood oxygen levels, allowing more precisely localized measurements of brain activity.\n",
      "\n",
      "Adcock's team has been working on ways to use thoughts and behavior to tune brain function for the past eight years. In this time, they've developed tools allowing them to analyze complex brain imaging data in real time and to display it to participants as neurofeedback while they are in the fMRI scanner.\n",
      "\n",
      "This study focused on the ventral tegmental area (VTA), a small area deep within the brain that is a major source of dopamine, a neurochemical well known for its role in motivation, experiencing rewards, learning, and memory.\n",
      "\n",
      "According to Adcock's previous research, when people are given incentives to remember specific images, an increase in VTA activation before the image appears predicts whether the participants are going to successfully remember the image.\n",
      "\n",
      "External incentives like money work well to stimulate the VTA, but it was unclear whether people could exercise this area on their own, said co-author Jeff MacInnes, a postdoctoral researcher in Adcock's lab.\n",
      "\n",
      "advertisement\n",
      "\n",
      "In the new study, the team encouraged participants in the scanner to generate feelings of motivation -- using their own personal strategies -- during 20-second intervals. They weren't able to raise their VTA activity consistently on their own.\n",
      "\n",
      "But when the scientists provided participants with neurofeedback from the VTA, presented in the form of a fluctuating thermometer, participants were able to learn which strategies worked, and ultimately adopt more effective strategies. Compared to control groups, the neurofeedback-trained participants successfully elevated their VTA activity.\n",
      "\n",
      "Participants reported using a variety of different motivational strategies, from imagining parents or coaches encouraging them, to playing out hypothetical scenarios in which their efforts were rewarded, said co-author Kathryn Dickerson, a postdoctoral researcher in Adcock's group.\n",
      "\n",
      "The self-generated boost in VTA activation worked even after the thermometer display was removed. Only the participants who had received accurate neurofeedback were able to consistently raise their VTA levels.\n",
      "\n",
      "\"Because this is the first demonstration of its kind, there is much still to be understood,\" Adcock added. \"But these tools could offer benefits for everyone, particularly those with depression or attention problems.\"\n",
      "\n",
      "The neurofeedback training also activated other regions involved in learning and experiencing rewards, confirming that, at least in the short term, the brain changes its activity more broadly as a result of neurofeedback, Dickerson said.\n",
      "\n",
      "Adcock said one caveat of the study is that the team has not tested whether the neurofeedback drove changes in behavior. The group is working on those studies now and also plans to conduct the same study in participants with depression and attention deficit hyperactivity disorder (ADHD).\n",
      "\n",
      "This research was supported by the National Institute of Mental Health (MH9743, MH100764), the Alfred P. Sloan Foundation, the Esther A. & Joseph Klingenstein Fund, and the Dana Foundation.\n"
     ]
    }
   ],
   "source": [
    "text = dataset[50]['text']\n",
    "tokens = model.to_tokens(text, prepend_bos=True,).to(device=device)\n",
    "print(tokens.shape)\n",
    "print(text)"
   ]
  },
  {
   "cell_type": "code",
   "execution_count": 170,
   "metadata": {},
   "outputs": [
    {
     "ename": "KeyboardInterrupt",
     "evalue": "",
     "output_type": "error",
     "traceback": [
      "\u001b[0;31m---------------------------------------------------------------------------\u001b[0m",
      "\u001b[0;31mKeyboardInterrupt\u001b[0m                         Traceback (most recent call last)",
      "Cell \u001b[0;32mIn[170], line 3\u001b[0m\n\u001b[1;32m      1\u001b[0m text \u001b[39m=\u001b[39m dataset[\u001b[39m10\u001b[39m][\u001b[39m'\u001b[39m\u001b[39mtext\u001b[39m\u001b[39m'\u001b[39m]\n\u001b[1;32m      2\u001b[0m tokens \u001b[39m=\u001b[39m tokens \u001b[39m=\u001b[39m model\u001b[39m.\u001b[39mto_tokens(prompt, prepend_bos\u001b[39m=\u001b[39m\u001b[39mTrue\u001b[39;00m,)\u001b[39m.\u001b[39mto(device\u001b[39m=\u001b[39mdevice)\n\u001b[0;32m----> 3\u001b[0m original_logits, cache \u001b[39m=\u001b[39m model\u001b[39m.\u001b[39;49mrun_with_cache(tokens)\n",
      "File \u001b[0;32m~/projects/aan/aan/lib/python3.10/site-packages/transformer_lens/HookedTransformer.py:369\u001b[0m, in \u001b[0;36mHookedTransformer.run_with_cache\u001b[0;34m(self, return_cache_object, remove_batch_dim, *model_args, **kwargs)\u001b[0m\n\u001b[1;32m    355\u001b[0m \u001b[39mdef\u001b[39;00m \u001b[39mrun_with_cache\u001b[39m(\n\u001b[1;32m    356\u001b[0m     \u001b[39mself\u001b[39m, \u001b[39m*\u001b[39mmodel_args, return_cache_object\u001b[39m=\u001b[39m\u001b[39mTrue\u001b[39;00m, remove_batch_dim\u001b[39m=\u001b[39m\u001b[39mFalse\u001b[39;00m, \u001b[39m*\u001b[39m\u001b[39m*\u001b[39mkwargs\n\u001b[1;32m    357\u001b[0m ) \u001b[39m-\u001b[39m\u001b[39m>\u001b[39m Tuple[\n\u001b[0;32m   (...)\u001b[0m\n\u001b[1;32m    364\u001b[0m     Union[ActivationCache, Dict[\u001b[39mstr\u001b[39m, torch\u001b[39m.\u001b[39mTensor]],\n\u001b[1;32m    365\u001b[0m ]:\n\u001b[1;32m    366\u001b[0m \u001b[39m    \u001b[39m\u001b[39m\"\"\"\u001b[39;00m\n\u001b[1;32m    367\u001b[0m \u001b[39m    Wrapper around run_with_cache in HookedRootModule. If return_cache_object is True, this will return an ActivationCache object, with a bunch of useful HookedTransformer specific methods, otherwise it will return a dictionary of activations as in HookedRootModule.\u001b[39;00m\n\u001b[1;32m    368\u001b[0m \u001b[39m    \"\"\"\u001b[39;00m\n\u001b[0;32m--> 369\u001b[0m     out, cache_dict \u001b[39m=\u001b[39m \u001b[39msuper\u001b[39;49m()\u001b[39m.\u001b[39;49mrun_with_cache(\n\u001b[1;32m    370\u001b[0m         \u001b[39m*\u001b[39;49mmodel_args, remove_batch_dim\u001b[39m=\u001b[39;49mremove_batch_dim, \u001b[39m*\u001b[39;49m\u001b[39m*\u001b[39;49mkwargs\n\u001b[1;32m    371\u001b[0m     )\n\u001b[1;32m    372\u001b[0m     \u001b[39mif\u001b[39;00m return_cache_object:\n\u001b[1;32m    373\u001b[0m         cache \u001b[39m=\u001b[39m ActivationCache(\n\u001b[1;32m    374\u001b[0m             cache_dict, \u001b[39mself\u001b[39m, has_batch_dim\u001b[39m=\u001b[39m\u001b[39mnot\u001b[39;00m remove_batch_dim\n\u001b[1;32m    375\u001b[0m         )\n",
      "File \u001b[0;32m~/projects/aan/aan/lib/python3.10/site-packages/transformer_lens/hook_points.py:281\u001b[0m, in \u001b[0;36mHookedRootModule.run_with_cache\u001b[0;34m(self, names_filter, device, remove_batch_dim, incl_bwd, reset_hooks_end, clear_contexts, *model_args, **model_kwargs)\u001b[0m\n\u001b[1;32m    267\u001b[0m \u001b[39m\u001b[39m\u001b[39m\"\"\"\u001b[39;00m\n\u001b[1;32m    268\u001b[0m \u001b[39mRuns the model and returns model output and a Cache object\u001b[39;00m\n\u001b[1;32m    269\u001b[0m \n\u001b[0;32m   (...)\u001b[0m\n\u001b[1;32m    276\u001b[0m \u001b[39mclear_contexts (bool): If True, clears hook contexts whenever hooks are reset\u001b[39;00m\n\u001b[1;32m    277\u001b[0m \u001b[39m\"\"\"\u001b[39;00m\n\u001b[1;32m    278\u001b[0m cache_dict \u001b[39m=\u001b[39m \u001b[39mself\u001b[39m\u001b[39m.\u001b[39madd_caching_hooks(\n\u001b[1;32m    279\u001b[0m     names_filter, incl_bwd, device, remove_batch_dim\u001b[39m=\u001b[39mremove_batch_dim\n\u001b[1;32m    280\u001b[0m )\n\u001b[0;32m--> 281\u001b[0m model_out \u001b[39m=\u001b[39m \u001b[39mself\u001b[39;49m(\u001b[39m*\u001b[39;49mmodel_args, \u001b[39m*\u001b[39;49m\u001b[39m*\u001b[39;49mmodel_kwargs)\n\u001b[1;32m    283\u001b[0m \u001b[39mif\u001b[39;00m incl_bwd:\n\u001b[1;32m    284\u001b[0m     model_out\u001b[39m.\u001b[39mbackward()\n",
      "File \u001b[0;32m~/projects/aan/aan/lib/python3.10/site-packages/torch/nn/modules/module.py:1194\u001b[0m, in \u001b[0;36mModule._call_impl\u001b[0;34m(self, *input, **kwargs)\u001b[0m\n\u001b[1;32m   1190\u001b[0m \u001b[39m# If we don't have any hooks, we want to skip the rest of the logic in\u001b[39;00m\n\u001b[1;32m   1191\u001b[0m \u001b[39m# this function, and just call forward.\u001b[39;00m\n\u001b[1;32m   1192\u001b[0m \u001b[39mif\u001b[39;00m \u001b[39mnot\u001b[39;00m (\u001b[39mself\u001b[39m\u001b[39m.\u001b[39m_backward_hooks \u001b[39mor\u001b[39;00m \u001b[39mself\u001b[39m\u001b[39m.\u001b[39m_forward_hooks \u001b[39mor\u001b[39;00m \u001b[39mself\u001b[39m\u001b[39m.\u001b[39m_forward_pre_hooks \u001b[39mor\u001b[39;00m _global_backward_hooks\n\u001b[1;32m   1193\u001b[0m         \u001b[39mor\u001b[39;00m _global_forward_hooks \u001b[39mor\u001b[39;00m _global_forward_pre_hooks):\n\u001b[0;32m-> 1194\u001b[0m     \u001b[39mreturn\u001b[39;00m forward_call(\u001b[39m*\u001b[39;49m\u001b[39minput\u001b[39;49m, \u001b[39m*\u001b[39;49m\u001b[39m*\u001b[39;49mkwargs)\n\u001b[1;32m   1195\u001b[0m \u001b[39m# Do not call functions when jit is used\u001b[39;00m\n\u001b[1;32m   1196\u001b[0m full_backward_hooks, non_full_backward_hooks \u001b[39m=\u001b[39m [], []\n",
      "File \u001b[0;32m~/projects/aan/aan/lib/python3.10/site-packages/transformer_lens/HookedTransformer.py:302\u001b[0m, in \u001b[0;36mHookedTransformer.forward\u001b[0;34m(self, input, return_type, loss_per_token, prepend_bos, stop_at_layer, past_kv_cache)\u001b[0m\n\u001b[1;32m    297\u001b[0m     transformer_block_list \u001b[39m=\u001b[39m \u001b[39mself\u001b[39m\u001b[39m.\u001b[39mblocks[:stop_at_layer] \u001b[39m# type: ignore\u001b[39;00m\n\u001b[1;32m    299\u001b[0m \u001b[39mfor\u001b[39;00m i, block \u001b[39min\u001b[39;00m \u001b[39menumerate\u001b[39m(transformer_block_list): \u001b[39m# type: ignore\u001b[39;00m\n\u001b[1;32m    300\u001b[0m     \u001b[39m# Note that each block includes skip connections, so we don't need\u001b[39;00m\n\u001b[1;32m    301\u001b[0m     \u001b[39m# residual + block(residual)\u001b[39;00m\n\u001b[0;32m--> 302\u001b[0m     residual \u001b[39m=\u001b[39m block(\n\u001b[1;32m    303\u001b[0m         residual,\n\u001b[1;32m    304\u001b[0m         past_kv_cache_entry\u001b[39m=\u001b[39;49mpast_kv_cache[i]\n\u001b[1;32m    305\u001b[0m         \u001b[39mif\u001b[39;49;00m past_kv_cache \u001b[39mis\u001b[39;49;00m \u001b[39mnot\u001b[39;49;00m \u001b[39mNone\u001b[39;49;00m\n\u001b[1;32m    306\u001b[0m         \u001b[39melse\u001b[39;49;00m \u001b[39mNone\u001b[39;49;00m,  \u001b[39m# Cache is contains a list of HookedTransformerKeyValueCache objects, one for each block\u001b[39;49;00m\n\u001b[1;32m    307\u001b[0m         shortformer_pos_embed\u001b[39m=\u001b[39;49mshortformer_pos_embed,\n\u001b[1;32m    308\u001b[0m     )  \u001b[39m# [batch, pos, d_model]\u001b[39;00m\n\u001b[1;32m    310\u001b[0m \u001b[39mif\u001b[39;00m stop_at_layer \u001b[39mis\u001b[39;00m \u001b[39mnot\u001b[39;00m \u001b[39mNone\u001b[39;00m:\n\u001b[1;32m    311\u001b[0m     \u001b[39m# When we stop at an early layer, we end here rather than doing further computation\u001b[39;00m\n\u001b[1;32m    312\u001b[0m     \u001b[39mreturn\u001b[39;00m \u001b[39mNone\u001b[39;00m\n",
      "File \u001b[0;32m~/projects/aan/aan/lib/python3.10/site-packages/torch/nn/modules/module.py:1194\u001b[0m, in \u001b[0;36mModule._call_impl\u001b[0;34m(self, *input, **kwargs)\u001b[0m\n\u001b[1;32m   1190\u001b[0m \u001b[39m# If we don't have any hooks, we want to skip the rest of the logic in\u001b[39;00m\n\u001b[1;32m   1191\u001b[0m \u001b[39m# this function, and just call forward.\u001b[39;00m\n\u001b[1;32m   1192\u001b[0m \u001b[39mif\u001b[39;00m \u001b[39mnot\u001b[39;00m (\u001b[39mself\u001b[39m\u001b[39m.\u001b[39m_backward_hooks \u001b[39mor\u001b[39;00m \u001b[39mself\u001b[39m\u001b[39m.\u001b[39m_forward_hooks \u001b[39mor\u001b[39;00m \u001b[39mself\u001b[39m\u001b[39m.\u001b[39m_forward_pre_hooks \u001b[39mor\u001b[39;00m _global_backward_hooks\n\u001b[1;32m   1193\u001b[0m         \u001b[39mor\u001b[39;00m _global_forward_hooks \u001b[39mor\u001b[39;00m _global_forward_pre_hooks):\n\u001b[0;32m-> 1194\u001b[0m     \u001b[39mreturn\u001b[39;00m forward_call(\u001b[39m*\u001b[39;49m\u001b[39minput\u001b[39;49m, \u001b[39m*\u001b[39;49m\u001b[39m*\u001b[39;49mkwargs)\n\u001b[1;32m   1195\u001b[0m \u001b[39m# Do not call functions when jit is used\u001b[39;00m\n\u001b[1;32m   1196\u001b[0m full_backward_hooks, non_full_backward_hooks \u001b[39m=\u001b[39m [], []\n",
      "File \u001b[0;32m~/projects/aan/aan/lib/python3.10/site-packages/transformer_lens/components.py:706\u001b[0m, in \u001b[0;36mTransformerBlock.forward\u001b[0;34m(self, resid_pre, shortformer_pos_embed, past_kv_cache_entry)\u001b[0m\n\u001b[1;32m    701\u001b[0m     resid_mid \u001b[39m=\u001b[39m \u001b[39mself\u001b[39m\u001b[39m.\u001b[39mhook_resid_mid(\n\u001b[1;32m    702\u001b[0m         resid_pre \u001b[39m+\u001b[39m attn_out\n\u001b[1;32m    703\u001b[0m     )  \u001b[39m# [batch, pos, d_model]\u001b[39;00m\n\u001b[1;32m    704\u001b[0m     normalized_resid_mid \u001b[39m=\u001b[39m \u001b[39mself\u001b[39m\u001b[39m.\u001b[39mln2(resid_mid)\n\u001b[1;32m    705\u001b[0m     mlp_out \u001b[39m=\u001b[39m \u001b[39mself\u001b[39m\u001b[39m.\u001b[39mhook_mlp_out(\n\u001b[0;32m--> 706\u001b[0m         \u001b[39mself\u001b[39;49m\u001b[39m.\u001b[39;49mmlp(normalized_resid_mid)\n\u001b[1;32m    707\u001b[0m     )  \u001b[39m# [batch, pos, d_model]\u001b[39;00m\n\u001b[1;32m    708\u001b[0m     resid_post \u001b[39m=\u001b[39m \u001b[39mself\u001b[39m\u001b[39m.\u001b[39mhook_resid_post(\n\u001b[1;32m    709\u001b[0m         resid_mid \u001b[39m+\u001b[39m mlp_out\n\u001b[1;32m    710\u001b[0m     )  \u001b[39m# [batch, pos, d_model]\u001b[39;00m\n\u001b[1;32m    711\u001b[0m \u001b[39melif\u001b[39;00m \u001b[39mself\u001b[39m\u001b[39m.\u001b[39mcfg\u001b[39m.\u001b[39mparallel_attn_mlp:\n\u001b[1;32m    712\u001b[0m     \u001b[39m# Dumb thing done by GPT-J, both MLP and Attn read from resid_pre and write to resid_post, no resid_mid used.\u001b[39;00m\n\u001b[1;32m    713\u001b[0m     \u001b[39m# In GPT-J, LN1 and LN2 are tied, in GPT-NeoX they aren't.\u001b[39;00m\n",
      "File \u001b[0;32m~/projects/aan/aan/lib/python3.10/site-packages/torch/nn/modules/module.py:1194\u001b[0m, in \u001b[0;36mModule._call_impl\u001b[0;34m(self, *input, **kwargs)\u001b[0m\n\u001b[1;32m   1190\u001b[0m \u001b[39m# If we don't have any hooks, we want to skip the rest of the logic in\u001b[39;00m\n\u001b[1;32m   1191\u001b[0m \u001b[39m# this function, and just call forward.\u001b[39;00m\n\u001b[1;32m   1192\u001b[0m \u001b[39mif\u001b[39;00m \u001b[39mnot\u001b[39;00m (\u001b[39mself\u001b[39m\u001b[39m.\u001b[39m_backward_hooks \u001b[39mor\u001b[39;00m \u001b[39mself\u001b[39m\u001b[39m.\u001b[39m_forward_hooks \u001b[39mor\u001b[39;00m \u001b[39mself\u001b[39m\u001b[39m.\u001b[39m_forward_pre_hooks \u001b[39mor\u001b[39;00m _global_backward_hooks\n\u001b[1;32m   1193\u001b[0m         \u001b[39mor\u001b[39;00m _global_forward_hooks \u001b[39mor\u001b[39;00m _global_forward_pre_hooks):\n\u001b[0;32m-> 1194\u001b[0m     \u001b[39mreturn\u001b[39;00m forward_call(\u001b[39m*\u001b[39;49m\u001b[39minput\u001b[39;49m, \u001b[39m*\u001b[39;49m\u001b[39m*\u001b[39;49mkwargs)\n\u001b[1;32m   1195\u001b[0m \u001b[39m# Do not call functions when jit is used\u001b[39;00m\n\u001b[1;32m   1196\u001b[0m full_backward_hooks, non_full_backward_hooks \u001b[39m=\u001b[39m [], []\n",
      "File \u001b[0;32m~/projects/aan/aan/lib/python3.10/site-packages/transformer_lens/components.py:602\u001b[0m, in \u001b[0;36mMLP.forward\u001b[0;34m(self, x)\u001b[0m\n\u001b[1;32m    599\u001b[0m     mid_act \u001b[39m=\u001b[39m \u001b[39mself\u001b[39m\u001b[39m.\u001b[39mhook_mid(\u001b[39mself\u001b[39m\u001b[39m.\u001b[39mact_fn(pre_act))  \u001b[39m# [batch, pos, d_mlp]\u001b[39;00m\n\u001b[1;32m    600\u001b[0m     post_act \u001b[39m=\u001b[39m \u001b[39mself\u001b[39m\u001b[39m.\u001b[39mhook_post(\u001b[39mself\u001b[39m\u001b[39m.\u001b[39mln(mid_act))\n\u001b[1;32m    601\u001b[0m \u001b[39mreturn\u001b[39;00m (\n\u001b[0;32m--> 602\u001b[0m     einsum(\n\u001b[1;32m    603\u001b[0m         \u001b[39m\"\u001b[39;49m\u001b[39mbatch pos d_mlp, d_mlp d_model -> batch pos d_model\u001b[39;49m\u001b[39m\"\u001b[39;49m,\n\u001b[1;32m    604\u001b[0m         post_act,\n\u001b[1;32m    605\u001b[0m         \u001b[39mself\u001b[39;49m\u001b[39m.\u001b[39;49mW_out,\n\u001b[1;32m    606\u001b[0m     )\n\u001b[1;32m    607\u001b[0m     \u001b[39m+\u001b[39m \u001b[39mself\u001b[39m\u001b[39m.\u001b[39mb_out\n\u001b[1;32m    608\u001b[0m )\n",
      "File \u001b[0;32m~/projects/aan/aan/lib/python3.10/site-packages/fancy_einsum/__init__.py:136\u001b[0m, in \u001b[0;36meinsum\u001b[0;34m(equation, *operands)\u001b[0m\n\u001b[1;32m    134\u001b[0m backend \u001b[39m=\u001b[39m get_backend(operands[\u001b[39m0\u001b[39m])\n\u001b[1;32m    135\u001b[0m new_equation \u001b[39m=\u001b[39m convert_equation(equation)\n\u001b[0;32m--> 136\u001b[0m \u001b[39mreturn\u001b[39;00m backend\u001b[39m.\u001b[39;49meinsum(new_equation, \u001b[39m*\u001b[39;49moperands)\n",
      "File \u001b[0;32m~/projects/aan/aan/lib/python3.10/site-packages/fancy_einsum/__init__.py:54\u001b[0m, in \u001b[0;36mTorchBackend.einsum\u001b[0;34m(self, equation, *operands)\u001b[0m\n\u001b[1;32m     53\u001b[0m \u001b[39mdef\u001b[39;00m \u001b[39meinsum\u001b[39m(\u001b[39mself\u001b[39m, equation, \u001b[39m*\u001b[39moperands):\n\u001b[0;32m---> 54\u001b[0m     \u001b[39mreturn\u001b[39;00m \u001b[39mself\u001b[39;49m\u001b[39m.\u001b[39;49mtorch\u001b[39m.\u001b[39;49meinsum(equation, \u001b[39m*\u001b[39;49moperands)\n",
      "File \u001b[0;32m~/projects/aan/aan/lib/python3.10/site-packages/torch/functional.py:378\u001b[0m, in \u001b[0;36meinsum\u001b[0;34m(*args)\u001b[0m\n\u001b[1;32m    373\u001b[0m     \u001b[39mreturn\u001b[39;00m einsum(equation, \u001b[39m*\u001b[39m_operands)\n\u001b[1;32m    375\u001b[0m \u001b[39mif\u001b[39;00m \u001b[39mlen\u001b[39m(operands) \u001b[39m<\u001b[39m\u001b[39m=\u001b[39m \u001b[39m2\u001b[39m \u001b[39mor\u001b[39;00m \u001b[39mnot\u001b[39;00m opt_einsum\u001b[39m.\u001b[39menabled:\n\u001b[1;32m    376\u001b[0m     \u001b[39m# the path for contracting 0 or 1 time(s) is already optimized\u001b[39;00m\n\u001b[1;32m    377\u001b[0m     \u001b[39m# or the user has disabled using opt_einsum\u001b[39;00m\n\u001b[0;32m--> 378\u001b[0m     \u001b[39mreturn\u001b[39;00m _VF\u001b[39m.\u001b[39;49meinsum(equation, operands)  \u001b[39m# type: ignore[attr-defined]\u001b[39;00m\n\u001b[1;32m    380\u001b[0m path \u001b[39m=\u001b[39m \u001b[39mNone\u001b[39;00m\n\u001b[1;32m    381\u001b[0m \u001b[39mif\u001b[39;00m opt_einsum\u001b[39m.\u001b[39mis_available():\n",
      "\u001b[0;31mKeyboardInterrupt\u001b[0m: "
     ]
    }
   ],
   "source": [
    "text = dataset[10]['text']\n",
    "tokens = model.to_tokens(prompt, prepend_bos=True,).to(device=device)\n",
    "original_logits, cache = model.run_with_cache(tokens)"
   ]
  },
  {
   "cell_type": "code",
   "execution_count": 146,
   "metadata": {},
   "outputs": [
    {
     "name": "stdout",
     "output_type": "stream",
     "text": [
      "['embed', 'pos_embed', '0_attn_out', '0_mlp_out', '1_attn_out', '1_mlp_out', '2_attn_out', '2_mlp_out', '3_attn_out', '3_mlp_out', '4_attn_out', '4_mlp_out', '5_attn_out', '5_mlp_out', '6_attn_out', '6_mlp_out', '7_attn_out', '7_mlp_out', '8_attn_out', '8_mlp_out', '9_attn_out', '9_mlp_out', '10_attn_out', '10_mlp_out', '11_attn_out', '11_mlp_out', '12_attn_out', '12_mlp_out', '13_attn_out', '13_mlp_out', '14_attn_out', '14_mlp_out', '15_attn_out', '15_mlp_out', '16_attn_out', '16_mlp_out', '17_attn_out', '17_mlp_out', '18_attn_out', '18_mlp_out', '19_attn_out', '19_mlp_out', '20_attn_out', '20_mlp_out', '21_attn_out', '21_mlp_out', '22_attn_out', '22_mlp_out', '23_attn_out', '23_mlp_out', '24_attn_out', '24_mlp_out', '25_attn_out', '25_mlp_out', '26_attn_out', '26_mlp_out', '27_attn_out', '27_mlp_out', '28_attn_out', '28_mlp_out', '29_attn_out', '29_mlp_out', '30_attn_out', '30_mlp_out', '31_attn_out', '31_mlp_out', '32_attn_out', '32_mlp_out', '33_attn_out', '33_mlp_out', '34_attn_out', '34_mlp_out', '35_attn_out', '35_mlp_out']\n"
     ]
    }
   ],
   "source": [
    "x = cache.decompose_resid(return_labels=True)\n",
    "print(x[1])"
   ]
  }
 ],
 "metadata": {
  "kernelspec": {
   "display_name": "aan",
   "language": "python",
   "name": "python3"
  },
  "language_info": {
   "codemirror_mode": {
    "name": "ipython",
    "version": 3
   },
   "file_extension": ".py",
   "mimetype": "text/x-python",
   "name": "python",
   "nbconvert_exporter": "python",
   "pygments_lexer": "ipython3",
   "version": "3.10.9"
  },
  "orig_nbformat": 4
 },
 "nbformat": 4,
 "nbformat_minor": 2
}
