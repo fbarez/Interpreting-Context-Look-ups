{
 "cells": [
  {
   "attachments": {},
   "cell_type": "markdown",
   "metadata": {},
   "source": [
    "# Setup"
   ]
  },
  {
   "cell_type": "code",
   "execution_count": 1,
   "metadata": {},
   "outputs": [
    {
     "name": "stdout",
     "output_type": "stream",
     "text": [
      "Running as a Jupyter notebook\n"
     ]
    }
   ],
   "source": [
    "import plotly.io as pio\n",
    "try:\n",
    "    import google.colab\n",
    "    print(\"Running as a Colab notebook\")\n",
    "    pio.renderers.default = \"colab\"\n",
    "    %pip install transformer-lens fancy-einsum\n",
    "    %pip install -U kaleido # kaleido only works if you restart the runtime. Required to write figures to disk (final cell)\n",
    "except:\n",
    "    print(\"Running as a Jupyter notebook\")\n",
    "    pio.renderers.default = \"vscode\"\n",
    "    from IPython import get_ipython\n",
    "    ipython = get_ipython()"
   ]
  },
  {
   "cell_type": "code",
   "execution_count": 2,
   "metadata": {},
   "outputs": [
    {
     "data": {
      "text/plain": [
       "device(type='cpu')"
      ]
     },
     "execution_count": 2,
     "metadata": {},
     "output_type": "execute_result"
    }
   ],
   "source": [
    "import torch\n",
    "from fancy_einsum import einsum\n",
    "from transformer_lens import HookedTransformer, HookedTransformerConfig, utils, ActivationCache\n",
    "from torchtyping import TensorType as TT\n",
    "import plotly.express as px\n",
    "import plotly.graph_objects as go\n",
    "import numpy as np\n",
    "import einops\n",
    "from typing import List, Union, Optional\n",
    "from functools import partial\n",
    "import pandas as pd\n",
    "from pathlib import Path\n",
    "import urllib.request\n",
    "from bs4 import BeautifulSoup\n",
    "from tqdm import tqdm\n",
    "from datasets import load_dataset\n",
    "import os\n",
    "import json\n",
    "\n",
    "os.environ[\"TOKENIZERS_PARALLELISM\"] = \"false\" # https://stackoverflow.com/q/62691279\n",
    "torch.set_grad_enabled(False)\n",
    "device = torch.device(\"cuda\" if torch.cuda.is_available() else \"cpu\")\n",
    "device"
   ]
  },
  {
   "cell_type": "code",
   "execution_count": 3,
   "metadata": {},
   "outputs": [
    {
     "name": "stdout",
     "output_type": "stream",
     "text": [
      "Requirement already satisfied: circuitsvis in /Users/clementneo/projects/aan/aan/lib/python3.10/site-packages (1.39.1)\n",
      "Requirement already satisfied: numpy<2.0,>=1.23 in /Users/clementneo/projects/aan/aan/lib/python3.10/site-packages (from circuitsvis) (1.24.1)\n",
      "Requirement already satisfied: torch<2.0,>=1.10 in /Users/clementneo/projects/aan/aan/lib/python3.10/site-packages (from circuitsvis) (1.13.1)\n",
      "Requirement already satisfied: importlib-metadata<6.0.0,>=5.1.0 in /Users/clementneo/projects/aan/aan/lib/python3.10/site-packages (from circuitsvis) (5.2.0)\n",
      "Requirement already satisfied: zipp>=0.5 in /Users/clementneo/projects/aan/aan/lib/python3.10/site-packages (from importlib-metadata<6.0.0,>=5.1.0->circuitsvis) (3.14.0)\n",
      "Requirement already satisfied: typing-extensions in /Users/clementneo/projects/aan/aan/lib/python3.10/site-packages (from torch<2.0,>=1.10->circuitsvis) (4.4.0)\n",
      "\n",
      "\u001b[1m[\u001b[0m\u001b[34;49mnotice\u001b[0m\u001b[1;39;49m]\u001b[0m\u001b[39;49m A new release of pip is available: \u001b[0m\u001b[31;49m23.0.1\u001b[0m\u001b[39;49m -> \u001b[0m\u001b[32;49m23.1.2\u001b[0m\n",
      "\u001b[1m[\u001b[0m\u001b[34;49mnotice\u001b[0m\u001b[1;39;49m]\u001b[0m\u001b[39;49m To update, run: \u001b[0m\u001b[32;49mpip install --upgrade pip\u001b[0m\n"
     ]
    }
   ],
   "source": [
    "!pip install circuitsvis\n",
    "import circuitsvis as cv"
   ]
  },
  {
   "cell_type": "code",
   "execution_count": 4,
   "metadata": {},
   "outputs": [],
   "source": [
    "pio.renderers.default='vscode'\n",
    "\n",
    "def imshow(tensor, renderer=None, **kwargs):\n",
    "    px.imshow(utils.to_numpy(tensor), color_continuous_midpoint=0.0, color_continuous_scale=\"RdBu\", **kwargs).show(renderer)\n",
    "\n",
    "def line(tensor, renderer=None, **kwargs):\n",
    "    px.line(y=utils.to_numpy(tensor), **kwargs).show(renderer)\n",
    "\n",
    "def scatter(x, y, xaxis=\"\", yaxis=\"\", caxis=\"\", renderer=None, **kwargs):\n",
    "    x = utils.to_numpy(x)\n",
    "    y = utils.to_numpy(y)\n",
    "    px.scatter(y=y, x=x, labels={\"x\":xaxis, \"y\":yaxis, \"color\":caxis}, **kwargs).show(renderer)"
   ]
  },
  {
   "cell_type": "code",
   "execution_count": 5,
   "metadata": {},
   "outputs": [
    {
     "name": "stderr",
     "output_type": "stream",
     "text": [
      "Using pad_token, but it is not set yet.\n"
     ]
    },
    {
     "name": "stdout",
     "output_type": "stream",
     "text": [
      "Loaded pretrained model gpt2-large into HookedTransformer\n"
     ]
    }
   ],
   "source": [
    "model = HookedTransformer.from_pretrained(\n",
    "    \"gpt2-large\",\n",
    "    center_unembed=True,\n",
    "    center_writing_weights=True,\n",
    "    fold_ln=True,\n",
    "    refactor_factored_attn_matrices=True,\n",
    "    device=device,\n",
    ")"
   ]
  },
  {
   "attachments": {},
   "cell_type": "markdown",
   "metadata": {},
   "source": [
    "# Neuron Exploration"
   ]
  },
  {
   "cell_type": "code",
   "execution_count": 6,
   "metadata": {},
   "outputs": [],
   "source": [
    "def get_head_attribution(cache, tokens, neuron):\n",
    "    # Get prompt lengths\n",
    "    pad_token = bos_token = 50256 # This is true for GPT-2\n",
    "    prompt_lengths = (torch.logical_and(tokens != pad_token, tokens != bos_token)).sum(dim=-1)\n",
    "\n",
    "    # Get the correct last-seq for each prompt (since they are padded, the last seq position differs for each prompt)\n",
    "    head_output = cache.stack_head_results()\n",
    "    expanded_index_tensor = prompt_lengths.unsqueeze(0).unsqueeze(-1).unsqueeze(-1).expand(head_output.shape[0], head_output.shape[1], 1, head_output.shape[-1])\n",
    "    head_output_last_seq = torch.gather(head_output, 2, expanded_index_tensor).squeeze(2)\n",
    "\n",
    "    # Get dot product of neuron with each head's output\n",
    "\n",
    "    layer, no = neuron\n",
    "    neuron_w_in = model.W_in[layer, :, no]\n",
    "    head_attribution = einsum(\"head batch weight, weight->batch head\", head_output_last_seq, neuron_w_in)\n",
    "    head_attribution = head_attribution[:, :layer*model.cfg.n_heads] # Filter for only heads before the neuron\n",
    "    return head_attribution # Shape [batch, head]"
   ]
  },
  {
   "cell_type": "code",
   "execution_count": 7,
   "metadata": {},
   "outputs": [
    {
     "name": "stderr",
     "output_type": "stream",
     "text": [
      "Using custom data configuration NeelNanda--pile-10k-72f566e9f7c464ab\n",
      "Found cached dataset parquet (/Users/clementneo/.cache/huggingface/datasets/NeelNanda___parquet/NeelNanda--pile-10k-72f566e9f7c464ab/0.0.0/2a3b91fbd88a2c90d1dbbb32b460cf621d31bd5b05b934492fdef7d8d6f236ec)\n"
     ]
    }
   ],
   "source": [
    "# Load Dataset\n",
    "from neuron_utils import ActivatingDataset\n",
    "\n",
    "# Load Neuron\n",
    "try:\n",
    "    dataset = load_dataset(\"NeelNanda/pile-10k\", split=\"train\")\n",
    "except: # this is a hack to let me work offline\n",
    "    import pickle\n",
    "    with open(\"dataset.pkl\", \"rb\") as f:\n",
    "        dataset = pickle.load(f)\n",
    "\n",
    "data = ActivatingDataset('neuron_20_examples_2.json', dataset)\n",
    "data.remove_prompts_longer_than(100)\n",
    "neurons = list(data.markers.keys())"
   ]
  },
  {
   "cell_type": "code",
   "execution_count": 11,
   "metadata": {},
   "outputs": [
    {
     "name": "stderr",
     "output_type": "stream",
     "text": [
      "  0%|          | 0/50 [00:00<?, ?it/s]"
     ]
    },
    {
     "name": "stdout",
     "output_type": "stream",
     "text": [
      "Tried to stack head results when they weren't cached. Computing head results now\n"
     ]
    },
    {
     "name": "stderr",
     "output_type": "stream",
     "text": [
      "  2%|▏         | 1/50 [00:24<19:40, 24.09s/it]"
     ]
    },
    {
     "name": "stdout",
     "output_type": "stream",
     "text": [
      "Tried to stack head results when they weren't cached. Computing head results now\n"
     ]
    },
    {
     "name": "stderr",
     "output_type": "stream",
     "text": [
      "  4%|▍         | 2/50 [00:58<23:59, 29.99s/it]"
     ]
    },
    {
     "name": "stdout",
     "output_type": "stream",
     "text": [
      "Tried to stack head results when they weren't cached. Computing head results now\n"
     ]
    },
    {
     "name": "stderr",
     "output_type": "stream",
     "text": [
      "  6%|▌         | 3/50 [01:27<23:21, 29.82s/it]"
     ]
    },
    {
     "name": "stdout",
     "output_type": "stream",
     "text": [
      "Tried to stack head results when they weren't cached. Computing head results now\n"
     ]
    },
    {
     "name": "stderr",
     "output_type": "stream",
     "text": [
      "  8%|▊         | 4/50 [01:58<23:11, 30.25s/it]"
     ]
    },
    {
     "name": "stdout",
     "output_type": "stream",
     "text": [
      "Tried to stack head results when they weren't cached. Computing head results now\n"
     ]
    },
    {
     "name": "stderr",
     "output_type": "stream",
     "text": [
      " 10%|█         | 5/50 [02:08<17:14, 22.98s/it]"
     ]
    },
    {
     "name": "stdout",
     "output_type": "stream",
     "text": [
      "Tried to stack head results when they weren't cached. Computing head results now\n"
     ]
    },
    {
     "name": "stderr",
     "output_type": "stream",
     "text": [
      " 12%|█▏        | 6/50 [02:21<14:17, 19.48s/it]"
     ]
    },
    {
     "name": "stdout",
     "output_type": "stream",
     "text": [
      "Tried to stack head results when they weren't cached. Computing head results now\n"
     ]
    },
    {
     "name": "stderr",
     "output_type": "stream",
     "text": [
      " 14%|█▍        | 7/50 [02:54<17:12, 24.02s/it]"
     ]
    },
    {
     "name": "stdout",
     "output_type": "stream",
     "text": [
      "Tried to stack head results when they weren't cached. Computing head results now\n"
     ]
    },
    {
     "name": "stderr",
     "output_type": "stream",
     "text": [
      " 16%|█▌        | 8/50 [03:23<17:51, 25.52s/it]"
     ]
    },
    {
     "name": "stdout",
     "output_type": "stream",
     "text": [
      "Tried to stack head results when they weren't cached. Computing head results now\n"
     ]
    },
    {
     "name": "stderr",
     "output_type": "stream",
     "text": [
      " 18%|█▊        | 9/50 [04:08<21:38, 31.66s/it]"
     ]
    },
    {
     "name": "stdout",
     "output_type": "stream",
     "text": [
      "Tried to stack head results when they weren't cached. Computing head results now\n"
     ]
    },
    {
     "name": "stderr",
     "output_type": "stream",
     "text": [
      " 20%|██        | 10/50 [04:47<22:32, 33.82s/it]"
     ]
    },
    {
     "name": "stdout",
     "output_type": "stream",
     "text": [
      "Tried to stack head results when they weren't cached. Computing head results now\n"
     ]
    },
    {
     "name": "stderr",
     "output_type": "stream",
     "text": [
      " 22%|██▏       | 11/50 [05:17<21:09, 32.56s/it]"
     ]
    },
    {
     "name": "stdout",
     "output_type": "stream",
     "text": [
      "Tried to stack head results when they weren't cached. Computing head results now\n"
     ]
    },
    {
     "name": "stderr",
     "output_type": "stream",
     "text": [
      " 24%|██▍       | 12/50 [05:32<17:17, 27.29s/it]"
     ]
    },
    {
     "name": "stdout",
     "output_type": "stream",
     "text": [
      "Tried to stack head results when they weren't cached. Computing head results now\n"
     ]
    },
    {
     "name": "stderr",
     "output_type": "stream",
     "text": [
      " 26%|██▌       | 13/50 [05:51<15:21, 24.89s/it]"
     ]
    },
    {
     "name": "stdout",
     "output_type": "stream",
     "text": [
      "Tried to stack head results when they weren't cached. Computing head results now\n"
     ]
    },
    {
     "name": "stderr",
     "output_type": "stream",
     "text": [
      " 28%|██▊       | 14/50 [06:14<14:30, 24.17s/it]"
     ]
    },
    {
     "name": "stdout",
     "output_type": "stream",
     "text": [
      "Tried to stack head results when they weren't cached. Computing head results now\n"
     ]
    },
    {
     "name": "stderr",
     "output_type": "stream",
     "text": [
      " 30%|███       | 15/50 [06:31<12:48, 21.96s/it]"
     ]
    },
    {
     "name": "stdout",
     "output_type": "stream",
     "text": [
      "Tried to stack head results when they weren't cached. Computing head results now\n"
     ]
    },
    {
     "name": "stderr",
     "output_type": "stream",
     "text": [
      " 32%|███▏      | 16/50 [06:51<12:07, 21.40s/it]"
     ]
    },
    {
     "name": "stdout",
     "output_type": "stream",
     "text": [
      "Tried to stack head results when they weren't cached. Computing head results now\n"
     ]
    },
    {
     "name": "stderr",
     "output_type": "stream",
     "text": [
      " 34%|███▍      | 17/50 [07:19<12:58, 23.58s/it]"
     ]
    },
    {
     "name": "stdout",
     "output_type": "stream",
     "text": [
      "Tried to stack head results when they weren't cached. Computing head results now\n"
     ]
    },
    {
     "name": "stderr",
     "output_type": "stream",
     "text": [
      " 36%|███▌      | 18/50 [07:41<12:13, 22.92s/it]"
     ]
    },
    {
     "name": "stdout",
     "output_type": "stream",
     "text": [
      "Tried to stack head results when they weren't cached. Computing head results now\n"
     ]
    },
    {
     "name": "stderr",
     "output_type": "stream",
     "text": [
      " 38%|███▊      | 19/50 [08:08<12:31, 24.25s/it]"
     ]
    },
    {
     "name": "stdout",
     "output_type": "stream",
     "text": [
      "Tried to stack head results when they weren't cached. Computing head results now\n"
     ]
    },
    {
     "name": "stderr",
     "output_type": "stream",
     "text": [
      " 40%|████      | 20/50 [08:39<13:04, 26.15s/it]"
     ]
    },
    {
     "name": "stdout",
     "output_type": "stream",
     "text": [
      "Tried to stack head results when they weren't cached. Computing head results now\n"
     ]
    },
    {
     "name": "stderr",
     "output_type": "stream",
     "text": [
      " 42%|████▏     | 21/50 [09:15<14:04, 29.12s/it]"
     ]
    },
    {
     "name": "stdout",
     "output_type": "stream",
     "text": [
      "Tried to stack head results when they weren't cached. Computing head results now\n"
     ]
    },
    {
     "name": "stderr",
     "output_type": "stream",
     "text": [
      " 44%|████▍     | 22/50 [09:27<11:17, 24.20s/it]"
     ]
    },
    {
     "name": "stdout",
     "output_type": "stream",
     "text": [
      "Tried to stack head results when they weren't cached. Computing head results now\n"
     ]
    },
    {
     "name": "stderr",
     "output_type": "stream",
     "text": [
      " 46%|████▌     | 23/50 [09:41<09:26, 20.98s/it]"
     ]
    },
    {
     "name": "stdout",
     "output_type": "stream",
     "text": [
      "Tried to stack head results when they weren't cached. Computing head results now\n"
     ]
    },
    {
     "name": "stderr",
     "output_type": "stream",
     "text": [
      " 48%|████▊     | 24/50 [10:15<10:44, 24.79s/it]"
     ]
    },
    {
     "name": "stdout",
     "output_type": "stream",
     "text": [
      "Tried to stack head results when they weren't cached. Computing head results now\n"
     ]
    },
    {
     "name": "stderr",
     "output_type": "stream",
     "text": [
      " 50%|█████     | 25/50 [10:32<09:28, 22.73s/it]"
     ]
    },
    {
     "name": "stdout",
     "output_type": "stream",
     "text": [
      "Tried to stack head results when they weren't cached. Computing head results now\n"
     ]
    },
    {
     "name": "stderr",
     "output_type": "stream",
     "text": [
      " 52%|█████▏    | 26/50 [10:45<07:53, 19.72s/it]"
     ]
    },
    {
     "name": "stdout",
     "output_type": "stream",
     "text": [
      "Tried to stack head results when they weren't cached. Computing head results now\n"
     ]
    },
    {
     "name": "stderr",
     "output_type": "stream",
     "text": [
      " 54%|█████▍    | 27/50 [11:09<08:04, 21.08s/it]"
     ]
    },
    {
     "name": "stdout",
     "output_type": "stream",
     "text": [
      "Tried to stack head results when they weren't cached. Computing head results now\n"
     ]
    },
    {
     "name": "stderr",
     "output_type": "stream",
     "text": [
      " 56%|█████▌    | 28/50 [11:25<07:09, 19.53s/it]"
     ]
    },
    {
     "name": "stdout",
     "output_type": "stream",
     "text": [
      "Tried to stack head results when they weren't cached. Computing head results now\n"
     ]
    },
    {
     "name": "stderr",
     "output_type": "stream",
     "text": [
      " 58%|█████▊    | 29/50 [11:40<06:18, 18.03s/it]"
     ]
    },
    {
     "name": "stdout",
     "output_type": "stream",
     "text": [
      "Tried to stack head results when they weren't cached. Computing head results now\n"
     ]
    },
    {
     "name": "stderr",
     "output_type": "stream",
     "text": [
      " 60%|██████    | 30/50 [12:02<06:27, 19.35s/it]"
     ]
    },
    {
     "name": "stdout",
     "output_type": "stream",
     "text": [
      "Tried to stack head results when they weren't cached. Computing head results now\n"
     ]
    },
    {
     "name": "stderr",
     "output_type": "stream",
     "text": [
      " 62%|██████▏   | 31/50 [12:30<06:52, 21.73s/it]"
     ]
    },
    {
     "name": "stdout",
     "output_type": "stream",
     "text": [
      "Tried to stack head results when they weren't cached. Computing head results now\n"
     ]
    },
    {
     "name": "stderr",
     "output_type": "stream",
     "text": [
      " 64%|██████▍   | 32/50 [13:16<08:45, 29.19s/it]"
     ]
    },
    {
     "name": "stdout",
     "output_type": "stream",
     "text": [
      "Tried to stack head results when they weren't cached. Computing head results now\n"
     ]
    },
    {
     "name": "stderr",
     "output_type": "stream",
     "text": [
      " 66%|██████▌   | 33/50 [13:58<09:19, 32.93s/it]"
     ]
    },
    {
     "name": "stdout",
     "output_type": "stream",
     "text": [
      "Tried to stack head results when they weren't cached. Computing head results now\n"
     ]
    },
    {
     "name": "stderr",
     "output_type": "stream",
     "text": [
      " 68%|██████▊   | 34/50 [14:46<09:58, 37.42s/it]"
     ]
    },
    {
     "name": "stdout",
     "output_type": "stream",
     "text": [
      "Tried to stack head results when they weren't cached. Computing head results now\n"
     ]
    },
    {
     "name": "stderr",
     "output_type": "stream",
     "text": [
      " 70%|███████   | 35/50 [15:15<08:44, 34.98s/it]"
     ]
    },
    {
     "name": "stdout",
     "output_type": "stream",
     "text": [
      "Tried to stack head results when they weren't cached. Computing head results now\n"
     ]
    },
    {
     "name": "stderr",
     "output_type": "stream",
     "text": [
      " 72%|███████▏  | 36/50 [15:38<07:18, 31.32s/it]"
     ]
    },
    {
     "name": "stdout",
     "output_type": "stream",
     "text": [
      "Tried to stack head results when they weren't cached. Computing head results now\n"
     ]
    },
    {
     "name": "stderr",
     "output_type": "stream",
     "text": [
      " 74%|███████▍  | 37/50 [15:58<06:05, 28.08s/it]"
     ]
    },
    {
     "name": "stdout",
     "output_type": "stream",
     "text": [
      "Tried to stack head results when they weren't cached. Computing head results now\n"
     ]
    },
    {
     "name": "stderr",
     "output_type": "stream",
     "text": [
      " 76%|███████▌  | 38/50 [16:16<05:00, 25.01s/it]"
     ]
    },
    {
     "name": "stdout",
     "output_type": "stream",
     "text": [
      "Tried to stack head results when they weren't cached. Computing head results now\n"
     ]
    },
    {
     "name": "stderr",
     "output_type": "stream",
     "text": [
      " 78%|███████▊  | 39/50 [16:30<03:57, 21.63s/it]"
     ]
    },
    {
     "name": "stdout",
     "output_type": "stream",
     "text": [
      "Tried to stack head results when they weren't cached. Computing head results now\n"
     ]
    },
    {
     "name": "stderr",
     "output_type": "stream",
     "text": [
      " 80%|████████  | 40/50 [17:01<04:03, 24.34s/it]"
     ]
    },
    {
     "name": "stdout",
     "output_type": "stream",
     "text": [
      "Tried to stack head results when they weren't cached. Computing head results now\n"
     ]
    },
    {
     "name": "stderr",
     "output_type": "stream",
     "text": [
      " 82%|████████▏ | 41/50 [17:25<03:40, 24.48s/it]"
     ]
    },
    {
     "name": "stdout",
     "output_type": "stream",
     "text": [
      "Tried to stack head results when they weren't cached. Computing head results now\n"
     ]
    },
    {
     "name": "stderr",
     "output_type": "stream",
     "text": [
      " 84%|████████▍ | 42/50 [17:40<02:51, 21.50s/it]"
     ]
    },
    {
     "name": "stdout",
     "output_type": "stream",
     "text": [
      "Tried to stack head results when they weren't cached. Computing head results now\n"
     ]
    },
    {
     "name": "stderr",
     "output_type": "stream",
     "text": [
      " 86%|████████▌ | 43/50 [18:03<02:34, 22.03s/it]"
     ]
    },
    {
     "name": "stdout",
     "output_type": "stream",
     "text": [
      "Tried to stack head results when they weren't cached. Computing head results now\n"
     ]
    },
    {
     "name": "stderr",
     "output_type": "stream",
     "text": [
      " 88%|████████▊ | 44/50 [18:19<02:01, 20.26s/it]"
     ]
    },
    {
     "name": "stdout",
     "output_type": "stream",
     "text": [
      "Tried to stack head results when they weren't cached. Computing head results now\n"
     ]
    },
    {
     "name": "stderr",
     "output_type": "stream",
     "text": [
      " 90%|█████████ | 45/50 [18:31<01:29, 17.82s/it]"
     ]
    },
    {
     "name": "stdout",
     "output_type": "stream",
     "text": [
      "Tried to stack head results when they weren't cached. Computing head results now\n"
     ]
    },
    {
     "name": "stderr",
     "output_type": "stream",
     "text": [
      " 92%|█████████▏| 46/50 [18:59<01:22, 20.66s/it]"
     ]
    },
    {
     "name": "stdout",
     "output_type": "stream",
     "text": [
      "Tried to stack head results when they weren't cached. Computing head results now\n"
     ]
    },
    {
     "name": "stderr",
     "output_type": "stream",
     "text": [
      " 94%|█████████▍| 47/50 [19:14<00:56, 18.90s/it]"
     ]
    },
    {
     "name": "stdout",
     "output_type": "stream",
     "text": [
      "Tried to stack head results when they weren't cached. Computing head results now\n"
     ]
    },
    {
     "name": "stderr",
     "output_type": "stream",
     "text": [
      " 96%|█████████▌| 48/50 [19:17<00:28, 14.40s/it]"
     ]
    },
    {
     "name": "stdout",
     "output_type": "stream",
     "text": [
      "Tried to stack head results when they weren't cached. Computing head results now\n"
     ]
    },
    {
     "name": "stderr",
     "output_type": "stream",
     "text": [
      " 98%|█████████▊| 49/50 [19:33<00:14, 14.83s/it]"
     ]
    },
    {
     "name": "stdout",
     "output_type": "stream",
     "text": [
      "Tried to stack head results when they weren't cached. Computing head results now\n"
     ]
    },
    {
     "name": "stderr",
     "output_type": "stream",
     "text": [
      "100%|██████████| 50/50 [19:58<00:00, 23.98s/it]\n"
     ]
    },
    {
     "ename": "TypeError",
     "evalue": "keys must be str, int, float, bool or None, not tuple",
     "output_type": "error",
     "traceback": [
      "\u001b[0;31m---------------------------------------------------------------------------\u001b[0m",
      "\u001b[0;31mTypeError\u001b[0m                                 Traceback (most recent call last)",
      "Cell \u001b[0;32mIn[11], line 24\u001b[0m\n\u001b[1;32m     22\u001b[0m \u001b[39m# Save results\u001b[39;00m\n\u001b[1;32m     23\u001b[0m \u001b[39mwith\u001b[39;00m \u001b[39mopen\u001b[39m(\u001b[39m\"\u001b[39m\u001b[39mhead_attribution_dict.json\u001b[39m\u001b[39m\"\u001b[39m, \u001b[39m\"\u001b[39m\u001b[39mw\u001b[39m\u001b[39m\"\u001b[39m) \u001b[39mas\u001b[39;00m f:\n\u001b[0;32m---> 24\u001b[0m     json\u001b[39m.\u001b[39;49mdump(head_attribution_dict, f)\n",
      "File \u001b[0;32m/opt/homebrew/anaconda3/envs/tomato/lib/python3.10/json/__init__.py:179\u001b[0m, in \u001b[0;36mdump\u001b[0;34m(obj, fp, skipkeys, ensure_ascii, check_circular, allow_nan, cls, indent, separators, default, sort_keys, **kw)\u001b[0m\n\u001b[1;32m    173\u001b[0m     iterable \u001b[39m=\u001b[39m \u001b[39mcls\u001b[39m(skipkeys\u001b[39m=\u001b[39mskipkeys, ensure_ascii\u001b[39m=\u001b[39mensure_ascii,\n\u001b[1;32m    174\u001b[0m         check_circular\u001b[39m=\u001b[39mcheck_circular, allow_nan\u001b[39m=\u001b[39mallow_nan, indent\u001b[39m=\u001b[39mindent,\n\u001b[1;32m    175\u001b[0m         separators\u001b[39m=\u001b[39mseparators,\n\u001b[1;32m    176\u001b[0m         default\u001b[39m=\u001b[39mdefault, sort_keys\u001b[39m=\u001b[39msort_keys, \u001b[39m*\u001b[39m\u001b[39m*\u001b[39mkw)\u001b[39m.\u001b[39miterencode(obj)\n\u001b[1;32m    177\u001b[0m \u001b[39m# could accelerate with writelines in some versions of Python, at\u001b[39;00m\n\u001b[1;32m    178\u001b[0m \u001b[39m# a debuggability cost\u001b[39;00m\n\u001b[0;32m--> 179\u001b[0m \u001b[39mfor\u001b[39;00m chunk \u001b[39min\u001b[39;00m iterable:\n\u001b[1;32m    180\u001b[0m     fp\u001b[39m.\u001b[39mwrite(chunk)\n",
      "File \u001b[0;32m/opt/homebrew/anaconda3/envs/tomato/lib/python3.10/json/encoder.py:431\u001b[0m, in \u001b[0;36m_make_iterencode.<locals>._iterencode\u001b[0;34m(o, _current_indent_level)\u001b[0m\n\u001b[1;32m    429\u001b[0m     \u001b[39myield from\u001b[39;00m _iterencode_list(o, _current_indent_level)\n\u001b[1;32m    430\u001b[0m \u001b[39melif\u001b[39;00m \u001b[39misinstance\u001b[39m(o, \u001b[39mdict\u001b[39m):\n\u001b[0;32m--> 431\u001b[0m     \u001b[39myield from\u001b[39;00m _iterencode_dict(o, _current_indent_level)\n\u001b[1;32m    432\u001b[0m \u001b[39melse\u001b[39;00m:\n\u001b[1;32m    433\u001b[0m     \u001b[39mif\u001b[39;00m markers \u001b[39mis\u001b[39;00m \u001b[39mnot\u001b[39;00m \u001b[39mNone\u001b[39;00m:\n",
      "File \u001b[0;32m/opt/homebrew/anaconda3/envs/tomato/lib/python3.10/json/encoder.py:376\u001b[0m, in \u001b[0;36m_make_iterencode.<locals>._iterencode_dict\u001b[0;34m(dct, _current_indent_level)\u001b[0m\n\u001b[1;32m    374\u001b[0m     \u001b[39mcontinue\u001b[39;00m\n\u001b[1;32m    375\u001b[0m \u001b[39melse\u001b[39;00m:\n\u001b[0;32m--> 376\u001b[0m     \u001b[39mraise\u001b[39;00m \u001b[39mTypeError\u001b[39;00m(\u001b[39mf\u001b[39m\u001b[39m'\u001b[39m\u001b[39mkeys must be str, int, float, bool or None, \u001b[39m\u001b[39m'\u001b[39m\n\u001b[1;32m    377\u001b[0m                     \u001b[39mf\u001b[39m\u001b[39m'\u001b[39m\u001b[39mnot \u001b[39m\u001b[39m{\u001b[39;00mkey\u001b[39m.\u001b[39m\u001b[39m__class__\u001b[39m\u001b[39m.\u001b[39m\u001b[39m__name__\u001b[39m\u001b[39m}\u001b[39;00m\u001b[39m'\u001b[39m)\n\u001b[1;32m    378\u001b[0m \u001b[39mif\u001b[39;00m first:\n\u001b[1;32m    379\u001b[0m     first \u001b[39m=\u001b[39m \u001b[39mFalse\u001b[39;00m\n",
      "\u001b[0;31mTypeError\u001b[0m: keys must be str, int, float, bool or None, not tuple"
     ]
    }
   ],
   "source": [
    "head_attribution_dict = {}\n",
    "\n",
    "for neuron in tqdm(neurons):\n",
    "    # Load and Truncate Prompts (slightly cursed way of string -> token -> truncated tokens -> string)\n",
    "    trunc_prompts = data.load_truncated_prompts(model, neuron)\n",
    "\n",
    "    # Run head attribution\n",
    "    tokens = model.to_tokens(trunc_prompts, prepend_bos=True).to(device=device)\n",
    "    original_logits, cache = model.run_with_cache(tokens, )\n",
    "\n",
    "    # # Prepare prompts by heads\n",
    "    head_attribution = get_head_attribution(cache, tokens, neuron)\n",
    "    _, top_heads = torch.topk(head_attribution, k=3, dim=-1)\n",
    "    top_heads_list = top_heads.tolist()\n",
    "\n",
    "    head_results = {}\n",
    "    for i, prompt in enumerate(trunc_prompts):\n",
    "        head_results[prompt] = top_heads_list[i]\n",
    "\n",
    "    head_attribution_dict[str(neuron)] = head_results\n",
    "\n",
    "# Save results\n",
    "with open(\"head_attribution_dict.json\", \"w\") as f:\n",
    "    json.dump(head_attribution_dict, f)"
   ]
  },
  {
   "cell_type": "code",
   "execution_count": null,
   "metadata": {},
   "outputs": [],
   "source": []
  },
  {
   "cell_type": "code",
   "execution_count": 9,
   "metadata": {},
   "outputs": [
    {
     "name": "stdout",
     "output_type": "stream",
     "text": [
      "[[468, 410, 496], [538, 492, 517], [538, 360, 88], [538, 88, 123], [538, 504, 360], [468, 410, 496], [538, 517, 88], [538, 517, 88], [538, 517, 88], [538, 88, 517], [410, 468, 496], [538, 559, 88], [468, 496, 619], [517, 333, 476]]\n"
     ]
    }
   ],
   "source": [
    "# Convert top_heads into a list of lists\n",
    "top_heads = top_heads.tolist()\n",
    "print(top_heads)"
   ]
  },
  {
   "cell_type": "code",
   "execution_count": null,
   "metadata": {},
   "outputs": [],
   "source": []
  },
  {
   "cell_type": "code",
   "execution_count": 13,
   "metadata": {},
   "outputs": [
    {
     "name": "stdout",
     "output_type": "stream",
     "text": [
      "Counter({106: 6, 88: 6, 623: 3, 668: 2, 658: 2, 575: 2, 548: 2, 325: 2, 409: 1, 259: 1, 661: 1, 695: 1, 639: 1, 676: 1, 568: 1, 393: 1, 357: 1, 113: 1, 532: 1, 457: 1, 645: 1, 538: 1, 492: 1, 454: 1, 364: 1, 304: 1, 14: 1, 423: 1, 98: 1, 123: 1, 666: 1, 361: 1, 655: 1, 535: 1, 455: 1, 85: 1, 606: 1, 469: 1, 605: 1, 644: 1})\n",
      "torch.Size([19, 3])\n"
     ]
    }
   ],
   "source": [
    "from collections import Counter\n",
    "head_counts = Counter(top_heads.flatten().tolist())\n",
    "print(head_counts)\n",
    "print(top_heads.shape)\n",
    "\n",
    "# tensor([[468, 410, 496],\n",
    "        # [538, 492, 517],\n",
    "        # [538, 360,  88],\n",
    "        # [538,  88, 123],\n",
    "        # [538, 504, 360],\n",
    "        # [468, 410, 496],\n",
    "        # [538, 517,  88],\n",
    "        # [538, 517,  88],\n",
    "        # [538, 517,  88],\n",
    "        # [538,  88, 517],\n",
    "        # [468, 410, 496],\n",
    "        # [538, 559,  88],\n",
    "        # [468, 496, 619],\n",
    "        # [517, 333, 492]])\n",
    "\n",
    "# Counter({538: 9, 88: 7, 517: 6, 468: 4, 496: 4, 410: 3, 492: 2, 360: 2, 123: 1, 504: 1, 559: 1, 619: 1, 333: 1})\n",
    "# Counter({538: 9, 88: 7, 517: 6, 468: 4, 496: 4, 410: 3, 492: 2, 360: 2, 123: 1, 504: 1, 559: 1, 619: 1, 333: 1})\n",
    "# Counter({538: 9, 88: 7, 517: 6, 468: 4, 496: 4, 410: 3, 360: 2, 492: 1, 123: 1, 504: 1, 559: 1, 619: 1, 333: 1, 476: 1})\n",
    "# Counter({88: 11, 123: 10, 106: 4, 538: 3, 468: 2, 517: 2, 619: 1, 410: 1, 453: 1, 422: 1, 466: 1, 504: 1, 360: 1, 401: 1, 400: 1, 361: 1})"
   ]
  },
  {
   "cell_type": "code",
   "execution_count": 26,
   "metadata": {},
   "outputs": [],
   "source": [
    "head_number = 106\n",
    "\n",
    "positive_examples = []\n",
    "negative_examples = []\n",
    "for i, example in enumerate(trunc_prompts):\n",
    "    if head_number in top_heads[i]:\n",
    "        positive_examples.append(trunc_prompts[i])\n",
    "    else:\n",
    "        negative_examples.append(trunc_prompts[i])\n"
   ]
  },
  {
   "cell_type": "code",
   "execution_count": 17,
   "metadata": {},
   "outputs": [
    {
     "name": "stdout",
     "output_type": "stream",
     "text": [
      "(35, 4638)\n"
     ]
    }
   ],
   "source": [
    "# Get last key\n",
    "last_key = list(head_attribution_dict.keys())[-1]\n",
    "print(last_key)"
   ]
  },
  {
   "cell_type": "code",
   "execution_count": 30,
   "metadata": {},
   "outputs": [
    {
     "name": "stdout",
     "output_type": "stream",
     "text": [
      "We are studying attention heads in a transformer architecture neural network. Each attention head looks for some particular thing in a short document.\n",
      "This attention head in particular helps to predict that the next word is \"power\", but it is only active in some documents and not others. Look at the documents and explain when the attention head is active.\n",
      "Examples where the attention head is active: \"\"\"\n",
      "* President Trump Donald John TrumpBiden on Trump's refusal to commit to peaceful transfer of\n",
      "*About ARM ARM designs the technology that\n",
      "*ohydrates have become the ‘culp\n",
      "* Donald John TrumpBiden on Trump's refusal to commit to peaceful transfer of power: 'What country are we in?' Romney: 'Unthinkable and unacceptable' to not commit to peaceful transition of\n",
      "* their staying\n",
      "* Conference with 5,500 attendees, 600 technical sessions and 200 exhibitors, focused on artificial intelligence, VR and self-driving cars.  Unveiled the NVIDIA Tesla P100 GPU, the most\n",
      "\"\"\"\n",
      "Examples where the attention head is inactive: \"\"\"\n",
      "* a presidential campaign in a close race welcoming help from a hostile foreign\n",
      "* information listed below. Questions or concerns relating to the accessibility of the FCC's online public file system should be directed to the FCC at 888-225-5322, 888-835-5322 (T\n",
      "* collusion with a hostile foreign\n",
      "* in response to the President's very real threat, saying he'd rain 'fire, fury, and quite frankly\n",
      "* of RAM. That should be enough processing\n",
      "* XCode  2.  Plug in your phone  3.  Select your phone from the device menu (next to the \"Play\" and \"Stop\"     buttons)  4.  Click \"Play\"  How does it work? -----------------  There is an opaque, non-open-source app called `iflux` in this project. We trick X\n",
      "* Nearly three decades after the discovery of the T-virus, an outbreak reveals the Umbrella Corporation's dark secrets. Based on the horror franchise.  Tribhanga - Tedhi Medhi Crazy  A Suitable Boy  Song Exploder  Get inspired as musicians dig deep into the creative\n",
      "* millipede eyes, their spatial resolving\n",
      "* was proper for Trump to pressure a foreign\n",
      "* was illegal. Now he’s saying that it’s normal—and sending a signal to Russia, China, or any other foreign\n",
      "* grip and of course enough stopping\n",
      "* today than when Labor left\n",
      "* this Government came to\n",
      "\"\"\"\n",
      "Explanation: This attention head is active when the document\n"
     ]
    }
   ],
   "source": [
    "# TODO: Replace actual word\n",
    "\n",
    "newline = \"\\n\"\n",
    "gpt_4_prompt = \\\n",
    "f'We are studying attention heads in a transformer architecture neural network. Each attention head looks for some particular thing in a short document.\\n\\\n",
    "This attention head in particular helps to predict that the next word is \"power\", but it is only active in some documents and not others. Look at the documents and explain when the attention head is active.\\n\\\n",
    "Examples where the attention head is active: \"\"\"\\n\\\n",
    "*{f\"{newline}*\".join(positive_examples)}\\n\\\n",
    "\"\"\"\\n\\\n",
    "Examples where the attention head is inactive: \"\"\"\\n\\\n",
    "*{f\"{newline}*\".join(negative_examples)}\\n\\\n",
    "\"\"\"\\n\\\n",
    "Explanation: This attention head is active when the document\\\n",
    "'\n",
    "\n",
    "# gpt_4_prompt = \\\n",
    "# f'We are studying attention heads in a transformer architecture neural network. Each attention head looks for some particular thing in a short document.\\n\\\n",
    "# This attention head in particular helps to predict that the next word is \"only\", but it is only active in some documents and not others.\\n\\\n",
    "# Explanation: This attention head is active when the document contains a context where the word \"only\" is used to emphasize the exclusivity or limitation of a particular aspect or condition. In the active examples, \"only\" highlights a unique attribute, such as being the only species that kills for revenge, or a service being only available in specific countries. In the inactive examples, the word \"only\" is not present, and the context does not emphasize any exclusiveness or limitation that would activate this attention head.\\n\\\n",
    "# Using the explanation, generate three documents where this attention head is active, and three documents where it is inactive. Make sure that each of the documents would still make sense if you added the word \"only\" immediately after.\\n\\\n",
    "# '\n",
    "\n",
    "print(gpt_4_prompt)"
   ]
  },
  {
   "cell_type": "code",
   "execution_count": 20,
   "metadata": {},
   "outputs": [],
   "source": [
    "import openai\n",
    "import os\n",
    "openai.api_key = os.getenv(\"OPENAI_API_KEY\")"
   ]
  },
  {
   "cell_type": "code",
   "execution_count": 21,
   "metadata": {},
   "outputs": [
    {
     "name": "stdout",
     "output_type": "stream",
     "text": [
      "Total cost: 0.16271999999999998\n"
     ]
    }
   ],
   "source": [
    "class GPT4UsageTracker:\n",
    "    def __init__(self):\n",
    "        self.PROMPT_COST = 0.03/1000\n",
    "        self.RESPONSE_COST = 0.06/1000\n",
    "        # Check if gpt4_usage.json exists\n",
    "        if os.path.exists(\"gpt4_usage.json\"):\n",
    "            self.data = json.load(open(\"gpt4_usage.json\"))\n",
    "        else:\n",
    "            self.data = []\n",
    "        self.prompt_tokens_total = sum([data[\"response\"][\"usage\"][\"prompt_tokens\"] for data in self.data])\n",
    "        self.response_tokens_total = sum([data[\"response\"][\"usage\"][\"completion_tokens\"] for data in self.data])\n",
    "        print(f\"Total cost: {self.prompt_tokens_total*self.PROMPT_COST + self.response_tokens_total*self.RESPONSE_COST}\")\n",
    "\n",
    "    def add_usage(self, response, prompt):\n",
    "        self.data.append({\"response\": response, \"prompt\": prompt})\n",
    "        self.prompt_tokens_total += response[\"usage\"][\"prompt_tokens\"]\n",
    "        self.response_tokens_total += response[\"usage\"][\"completion_tokens\"]\n",
    "        print(f\"Cost of this call: {response['usage']['prompt_tokens']*self.PROMPT_COST + response['usage']['completion_tokens']*self.RESPONSE_COST}\")\n",
    "        print(f\"Total cost: {self.prompt_tokens_total*self.PROMPT_COST + self.response_tokens_total*self.RESPONSE_COST}\")\n",
    "        self._save()\n",
    "\n",
    "    def _save(self):\n",
    "        json.dump(self.data, open(\"gpt4_usage.json\", \"w\"))\n",
    "\n",
    "tracker = GPT4UsageTracker()"
   ]
  },
  {
   "cell_type": "code",
   "execution_count": 31,
   "metadata": {},
   "outputs": [
    {
     "name": "stdout",
     "output_type": "stream",
     "text": [
      "Cost of this call: 0.01839\n",
      "Total cost: 0.24372\n",
      "----------PROMPT----------\n",
      "We are studying attention heads in a transformer architecture neural network. Each attention head looks for some particular thing in a short document.\n",
      "This attention head in particular helps to predict that the next word is \"power\", but it is only active in some documents and not others. Look at the documents and explain when the attention head is active.\n",
      "Examples where the attention head is active: \"\"\"\n",
      "* President Trump Donald John TrumpBiden on Trump's refusal to commit to peaceful transfer of\n",
      "*About ARM ARM designs the technology that\n",
      "*ohydrates have become the ‘culp\n",
      "* Donald John TrumpBiden on Trump's refusal to commit to peaceful transfer of power: 'What country are we in?' Romney: 'Unthinkable and unacceptable' to not commit to peaceful transition of\n",
      "* their staying\n",
      "* Conference with 5,500 attendees, 600 technical sessions and 200 exhibitors, focused on artificial intelligence, VR and self-driving cars.  Unveiled the NVIDIA Tesla P100 GPU, the most\n",
      "\"\"\"\n",
      "Examples where the attention head is inactive: \"\"\"\n",
      "* a presidential campaign in a close race welcoming help from a hostile foreign\n",
      "* information listed below. Questions or concerns relating to the accessibility of the FCC's online public file system should be directed to the FCC at 888-225-5322, 888-835-5322 (T\n",
      "* collusion with a hostile foreign\n",
      "* in response to the President's very real threat, saying he'd rain 'fire, fury, and quite frankly\n",
      "* of RAM. That should be enough processing\n",
      "* XCode  2.  Plug in your phone  3.  Select your phone from the device menu (next to the \"Play\" and \"Stop\"     buttons)  4.  Click \"Play\"  How does it work? -----------------  There is an opaque, non-open-source app called `iflux` in this project. We trick X\n",
      "* Nearly three decades after the discovery of the T-virus, an outbreak reveals the Umbrella Corporation's dark secrets. Based on the horror franchise.  Tribhanga - Tedhi Medhi Crazy  A Suitable Boy  Song Exploder  Get inspired as musicians dig deep into the creative\n",
      "* millipede eyes, their spatial resolving\n",
      "* was proper for Trump to pressure a foreign\n",
      "* was illegal. Now he’s saying that it’s normal—and sending a signal to Russia, China, or any other foreign\n",
      "* grip and of course enough stopping\n",
      "* today than when Labor left\n",
      "* this Government came to\n",
      "\"\"\"\n",
      "Explanation: This attention head is active when the document\n",
      "----------RESPONSE----------\n",
      "contains themes or contexts related to power, authority, or significant technological capabilities. It is typically activated when the topic involves influential people or organizations, such as politics, presidents, or advanced technologies.\n"
     ]
    }
   ],
   "source": [
    "actually_run = True\n",
    "print_prompt = True\n",
    "print_response = True\n",
    "\n",
    "if actually_run:\n",
    "    response = openai.ChatCompletion.create(\n",
    "        model=\"gpt-4\",\n",
    "        messages=[{\"role\": \"user\", \"content\": gpt_4_prompt}],\n",
    "        max_tokens=200,\n",
    "    )\n",
    "    response_dict = response.to_dict_recursive()\n",
    "\n",
    "    tracker.add_usage(response_dict, gpt_4_prompt)\n",
    "\n",
    "    if print_prompt:\n",
    "        print(\"----------PROMPT----------\")\n",
    "        print(gpt_4_prompt)\n",
    "    if print_response:\n",
    "        print(\"----------RESPONSE----------\")\n",
    "        print(response_dict[\"choices\"][0][\"message\"][\"content\"])\n"
   ]
  },
  {
   "cell_type": "code",
   "execution_count": 148,
   "metadata": {},
   "outputs": [],
   "source": [
    "# neuron = (34, 4954) # number neuron\n",
    "# prompts = [\n",
    "#     \"When I was writing my first book, I was going from eleven at night till\",\n",
    "#     \"The most merciful thing that the large family does to one of its infant members is to kill it. The same factors which create the terrible infant mortality rate, and which swell the death rate of children between the ages of one and\",\n",
    "#     \"The federal government and plaintiffs including the North Carolina NAACP and the League of Women Voters argued during a hearing last month that three important parts of the law—a reduction in early voting from seventeen to\",\n",
    "#     \"Serial killers, they concluded, fall into one of\",\n",
    "#     \"If no candidate had an outright majority—and the framers assumed that this would be normal once George Washington had passed from the scene—the House would choose among the top five, later reduced to the top\",\n",
    "#     \"If you listen to most so-called survival experts, they often suggest that your BOB should contain enough supplies to last for at least seventy-\",\n",
    "#     \"The notion that our outlook on life is connected to our well-being is not a new one. In the nineteen-sixties, the University of Connecticut psychologist Julian Rotter proposed that we could view external events in one of\",\n",
    "# ]\n",
    "\n",
    "\n",
    "# neuron = (31, 894) # an-neuron\n",
    "# # These prompts don't actually give \"an\" as a top prediction, probably because of the shorter context windows\n",
    "# prompts = [\n",
    "#     \"The pet peeve of Steresoscopic 3D film-making, unless done correctly. (Bokeh) This technique is worth exploring in\",\n",
    "#     \"Parents often disagree about homework, chores, and technology usage, and that's okay. However, each parent should have\",\n",
    "#     \"But I think a lot of teams haven't realized when to pick him and how to play him just yet, so maybe we will have\",\n",
    "#     \"The first part of the talk revisited some of the things Jon talked about on Friday night, with\",\n",
    "#     \"However, as far local LAN tournaments, there was the first ChiCraft this past winter, and we'll certainly be doing another one over the summer (June/July-ish?). There isn't\"\n",
    "# ]\n",
    "\n",
    "# issue neuron\n",
    "neuron = (35, 4518)\n",
    "prompts = [\n",
    "    \"You can also invest in bonds from foreign governments. Many governments\",\n",
    "    \"Squanchy, Birdperson, and Rick were once freedom fighters against the Galactic Federation's oppression; their \\\"crimes\\\" led the Galactic Federation to\",\n",
    "    \"The disadvantage is that the one holding the reserves would be paying a high opportunity cost. Why would you put so much money aside? There needs to be some gain opportunity for private individuals to voluntary\",\n",
    "    \"As of March 2008, this had declined by 24%, to 53 months. 71% of this debt is due in less than 5 years; 39% is due in less than a year.In the Clinton/Rubin era, the Treasury stopped\",\n",
    "]\n",
    "\n",
    "\n",
    "tokens = model.to_tokens(prompts, prepend_bos=True).to(device=device)\n",
    "original_logits, cache = model.run_with_cache(tokens)"
   ]
  },
  {
   "cell_type": "code",
   "execution_count": 16,
   "metadata": {},
   "outputs": [],
   "source": [
    "def get_head_attribution(cache, tokens, neuron):\n",
    "    # Get prompt lengths\n",
    "    pad_token = bos_token = 50256 # This is true for GPT-2\n",
    "    prompt_lengths = (torch.logical_and(tokens != pad_token, tokens != bos_token)).sum(dim=-1)\n",
    "\n",
    "    # Get the correct last-seq for each prompt (since they are padded, the last seq position differs for each prompt)\n",
    "    head_output = cache.stack_head_results()\n",
    "    expanded_index_tensor = prompt_lengths.unsqueeze(0).unsqueeze(-1).unsqueeze(-1).expand(head_output.shape[0], head_output.shape[1], 1, head_output.shape[-1])\n",
    "    head_output_last_seq = torch.gather(head_output, 2, expanded_index_tensor).squeeze(2)\n",
    "\n",
    "    # Get dot product of neuron with each head's output\n",
    "\n",
    "    layer, no = neuron\n",
    "    neuron_w_in = model.W_in[layer, :, no]\n",
    "    head_attribution = einsum(\"head batch weight, weight->batch head\", head_output_last_seq, neuron_w_in)\n",
    "    head_attribution = head_attribution[:, :layer*model.cfg.n_heads] # Filter for only heads before the neuron\n",
    "    return head_attribution # Shape [batch, head]\n",
    "\n",
    "# head_attribution = get_head_attribution(cache, tokens, neuron)\n",
    "# _, top_heads = torch.topk(head_attribution, k=3, dim=-1)\n",
    "# print(top_heads)"
   ]
  },
  {
   "cell_type": "code",
   "execution_count": 168,
   "metadata": {},
   "outputs": [
    {
     "name": "stdout",
     "output_type": "stream",
     "text": [
      "4\n"
     ]
    },
    {
     "data": {
      "application/vnd.plotly.v1+json": {
       "config": {
        "plotlyServerURL": "https://plot.ly"
       },
       "data": [
        {
         "coloraxis": "coloraxis",
         "hovertemplate": "x: %{x}<br>y: %{y}<br>color: %{z}<extra></extra>",
         "name": "0",
         "type": "heatmap",
         "xaxis": "x",
         "yaxis": "y",
         "z": [
          [
           -0.10503823,
           -0.03246281,
           0.13115802,
           -0.10109185,
           0.08244729,
           -0.008318319,
           0.025248045,
           0.022840515,
           0.06223037,
           0.07981693,
           0.1391196,
           0.051924814,
           0.04131116,
           0.029054556,
           -0.045017026,
           -0.00087312236,
           -0.0365465,
           -0.040781565,
           -0.017069353,
           0.06962788
          ],
          [
           -0.026049305,
           0.07330568,
           0.010133423,
           0.033222966,
           -0.005437672,
           -0.04052541,
           0.0473802,
           -0.0702605,
           0.07878908,
           -0.033331394,
           0.0068006096,
           -0.07380575,
           0.14428487,
           0.15787244,
           0.02467819,
           -0.028696718,
           -0.024452277,
           0.0136036575,
           -0.05441095,
           -0.02769117
          ],
          [
           0.15164381,
           -0.0027136505,
           -0.029893,
           -0.016771398,
           -0.18381393,
           -0.008063223,
           0.12237556,
           0.05831806,
           0.0601667,
           0.15309915,
           -0.2127035,
           -0.13075319,
           -0.15120888,
           0.29805315,
           0.008759565,
           0.12563819,
           0.15401062,
           -0.06470738,
           0.011851067,
           0.16039664
          ],
          [
           0.73533183,
           -0.030840814,
           0.0045473278,
           0.2116327,
           -0.03242628,
           -0.026042357,
           0.08752185,
           0.0016874773,
           0.110645056,
           0.020319894,
           0.01209059,
           0.15288578,
           0.040352598,
           -0.0038430989,
           -0.073901944,
           0.10976597,
           0.070318334,
           -0.11831331,
           -0.02300683,
           -0.009355413
          ],
          [
           0.087775365,
           -0.1989386,
           0.055019125,
           0.11355808,
           0.30682927,
           0.4185369,
           -0.02530858,
           -0.2010884,
           0.5986508,
           0.027762346,
           -0.056496978,
           -0.03839329,
           0.23592415,
           -0.091824055,
           -0.017041458,
           0.022921126,
           0.12490332,
           0.00088917837,
           0.14769168,
           0.20752522
          ],
          [
           0.0932056,
           0.12973487,
           0.022940787,
           0.08294271,
           -0.037478656,
           0.1268528,
           0.17257535,
           -0.23030986,
           0.030125141,
           0.0506951,
           -0.119666524,
           0.07078392,
           -0.013350651,
           0.049211796,
           -0.37728304,
           -0.10865178,
           0.08331474,
           0.26160806,
           0.06365858,
           0.25681454
          ],
          [
           0.14640978,
           -0.0064251255,
           0.07249822,
           0.14663437,
           -0.02954046,
           -0.4700142,
           -0.009558219,
           0.024733491,
           -0.076545075,
           0.17840809,
           0.016688913,
           0.094169274,
           0.044853702,
           -0.17415757,
           -0.13547394,
           0.14073175,
           0.043061145,
           0.13472177,
           -0.022561792,
           0.010902621
          ],
          [
           0.02333831,
           0.13368438,
           0.12498608,
           -0.06778091,
           -0.0331902,
           -0.046299115,
           -0.003104329,
           0.1759797,
           -0.064726904,
           0.041090593,
           0.049351845,
           -0.13861325,
           0.102093294,
           -0.0036083162,
           -0.040347856,
           0.014864542,
           -0.019871823,
           0.08441301,
           0.08278879,
           0.041635454
          ],
          [
           -0.020067383,
           -0.062410504,
           -0.07738669,
           0.12119875,
           -0.015496692,
           0.047990657,
           0.0035708826,
           -0.044495948,
           -0.13360576,
           -0.068501934,
           -0.058386963,
           -0.007860443,
           0.04770302,
           0.046332825,
           0.10059777,
           0.03342633,
           0.067439094,
           0.091122076,
           0.013603672,
           0.10632825
          ],
          [
           0.027626436,
           0.09981429,
           0.026033254,
           0.13448331,
           0.093612894,
           0.007579878,
           0.37257105,
           -0.034914672,
           -0.037683018,
           -0.031219851,
           0.0109514855,
           -0.12329837,
           -0.04445409,
           -0.03268683,
           0.07801873,
           0.009931531,
           0.019419838,
           -0.02101497,
           0.024591688,
           0.08703812
          ],
          [
           0.06553371,
           0.08566881,
           -0.056799453,
           -0.012163792,
           -0.021892672,
           -0.14475237,
           0.037687294,
           0.030929714,
           -0.111910254,
           0.017263811,
           -0.018422883,
           0.07677628,
           0.006699696,
           0.09402974,
           -0.07476744,
           0.0018022247,
           0.23463237,
           0.0015820861,
           0.08323034,
           -0.06069499
          ],
          [
           -0.016710516,
           -0.08786175,
           0.13028473,
           0.18958253,
           -0.075384855,
           0.0042698756,
           0.011634424,
           0.14906433,
           0.058643103,
           0.10301784,
           0.038874097,
           0.030508485,
           -0.116479374,
           0.022328887,
           0.01033628,
           0.037390366,
           0.051916707,
           0.0019312203,
           0.23655477,
           -0.024697214
          ],
          [
           0.1419738,
           0.020135378,
           -0.043025322,
           0.012276376,
           0.013103627,
           -0.07916765,
           0.014077524,
           0.13003416,
           0.06965944,
           0.073152736,
           -0.10583164,
           0.0372716,
           0.03469867,
           0.36252004,
           0.15220942,
           -0.0148040755,
           0.21489888,
           -0.00624846,
           -0.06137829,
           0.022806838
          ],
          [
           0.051561248,
           0.01858735,
           -0.17023721,
           -0.03181876,
           -0.0017892104,
           0.045580596,
           -0.11422546,
           -0.018307963,
           0.0036462042,
           0.085098185,
           -0.06347531,
           -0.162594,
           0.06152032,
           0.01205783,
           0.06702828,
           -0.0037983973,
           0.17229247,
           0.13779284,
           0.03627979,
           0.045021094
          ],
          [
           0.07692555,
           0.1564888,
           0.034966182,
           0.030714095,
           -0.008243385,
           0.0085112825,
           0.05635447,
           -0.0998995,
           0.021467872,
           0.026965389,
           0.029314362,
           0.007930279,
           -0.14299452,
           0.06570506,
           0.16907719,
           0.3111943,
           -0.05559924,
           -0.047041602,
           -0.0023957277,
           -0.112893045
          ],
          [
           0.027533298,
           -0.1932609,
           0.0493623,
           0.038103655,
           0.47381702,
           -0.21375574,
           0.078531966,
           0.038766347,
           -0.05921931,
           -0.09802203,
           0.008624233,
           0.11061342,
           -0.16486254,
           0.08320191,
           0.34025508,
           -0.09303753,
           0.16786215,
           -0.04526999,
           -0.09343725,
           0.12217067
          ],
          [
           0.022935756,
           0.0029512867,
           -0.20164275,
           0.050592586,
           -0.031788126,
           -0.08856601,
           0.01934822,
           -0.07230578,
           0.2465531,
           -0.027665883,
           0.30698022,
           -0.07831286,
           -0.12673897,
           0.3442998,
           -0.036044825,
           -0.16741395,
           0.09730033,
           0.061866745,
           0.08371909,
           0.044697307
          ],
          [
           -0.27524224,
           0.10920548,
           -0.020428613,
           0.20883289,
           0.034994952,
           0.33057436,
           -0.030645464,
           -0.038440254,
           0.09209488,
           -0.071852915,
           0.08639045,
           -0.080886796,
           -0.021956177,
           -0.093707465,
           0.048130378,
           0.08212327,
           0.45211375,
           0.003131032,
           0.03910277,
           0.12777829
          ],
          [
           0.030695554,
           0.18026516,
           -0.015191145,
           -0.16920197,
           0.15783714,
           -0.562239,
           0.18542086,
           -0.05697853,
           -0.1985264,
           -0.04527892,
           0.046035495,
           0.036719672,
           -0.19508138,
           0.2925598,
           0.23869583,
           0.19149211,
           -0.011429275,
           -0.052644648,
           0.037980318,
           -0.31642514
          ],
          [
           0.15582237,
           0.13628,
           0.10153038,
           0.06298948,
           -0.03121387,
           -0.035057776,
           -0.08581492,
           0.00305295,
           -0.12409611,
           0.0070676245,
           0.115539335,
           -0.018573657,
           0.08952901,
           0.0021329448,
           -0.27554572,
           -0.13640341,
           0.23150349,
           0.86601746,
           -0.013823196,
           0.046102934
          ],
          [
           0.025600068,
           -0.050417684,
           -0.44702956,
           0.069933176,
           0.07308551,
           0.106936604,
           0.06567883,
           -0.012357876,
           -0.060791746,
           0.34598786,
           -0.05359281,
           -0.0040753633,
           0.10895723,
           -0.14888713,
           -0.081747636,
           0.26761764,
           0.1802084,
           -0.11702827,
           -0.009358791,
           0.008410566
          ],
          [
           -0.041036308,
           -0.14372587,
           0.1370334,
           0.28914034,
           -0.049263287,
           0.009554282,
           -0.034304447,
           0.09837155,
           0.013848815,
           0.038976252,
           0.2349478,
           0.010471119,
           0.015915424,
           -0.16707756,
           0.06343217,
           -0.038959302,
           0.009281835,
           -0.013591301,
           -0.019020744,
           0.05216543
          ],
          [
           -0.03584951,
           0.17441583,
           -0.06989296,
           0.08955368,
           -0.08679059,
           -0.0994146,
           0.12948216,
           -0.045897543,
           1.2901639,
           0.013847623,
           0.29341918,
           -0.08494666,
           -0.16380195,
           -0.042542156,
           -0.32534447,
           -0.0006546518,
           0.1508854,
           -0.0022785887,
           0.0047643185,
           0.10572549
          ],
          [
           0.064779624,
           0.0390774,
           -0.043745138,
           0.024894826,
           0.30433598,
           -0.052236155,
           0.047231853,
           0.05701324,
           -0.010834077,
           1.0951383,
           0.37409204,
           -0.43230018,
           0.04793115,
           0.012110134,
           -0.11816272,
           -0.021324944,
           -0.0014037862,
           -0.24324235,
           -0.15450437,
           0.024641363
          ],
          [
           0.016840994,
           -0.090115234,
           0.9347559,
           0.3533137,
           0.018161014,
           0.040105246,
           -0.13696124,
           0.21577476,
           0.055534445,
           -0.11626729,
           0.13986282,
           -0.008413505,
           0.24051237,
           0.0067594238,
           -0.054309048,
           0.0101203285,
           -0.026746808,
           0.3263799,
           0.03989537,
           -0.11052841
          ],
          [
           -0.08878993,
           0.059386097,
           0.040718578,
           0.03964209,
           0.3628479,
           0.039426368,
           -0.17060241,
           -0.02122913,
           0.015700348,
           0.18464288,
           0.007367952,
           -0.038215756,
           -0.06714344,
           0.001044671,
           0.18028057,
           -0.11881223,
           0.26819527,
           0.15931694,
           -0.03704139,
           1.5934794
          ],
          [
           -0.10930489,
           0.027219325,
           -0.03645441,
           -0.051892824,
           -0.14953035,
           0.23697624,
           0.06649761,
           0.033328652,
           -0.0048941597,
           -0.015834082,
           0.07542878,
           -0.009529123,
           0.01939637,
           0.027057268,
           0.089447066,
           0.008649102,
           -0.022908816,
           -0.16268831,
           0.011233716,
           -0.14843428
          ],
          [
           0.016658291,
           -0.025973905,
           0.094838336,
           -0.014887426,
           -0.18151157,
           -0.68912446,
           0.012967585,
           0.037155453,
           0.03473524,
           -0.023710955,
           -0.059832256,
           -0.095840365,
           0.016369939,
           -0.029859576,
           0.07934383,
           0.4651745,
           0.042770125,
           0.073206,
           0.5039469,
           0.16147171
          ],
          [
           0.028232675,
           -0.06702128,
           0.068926536,
           -0.068313584,
           0.02162924,
           0.012276657,
           0.10599933,
           0.037994105,
           0.4353161,
           -0.09291755,
           0.006723089,
           -0.07519032,
           -0.039402496,
           -0.020069014,
           -0.1508189,
           0.15863806,
           0.48826033,
           -0.014346285,
           0.034167256,
           -0.053723693
          ],
          [
           -0.074615166,
           0.0018496728,
           0.029266173,
           0.09334526,
           -0.24778453,
           -0.009697348,
           -0.21373294,
           -0.010291886,
           -0.31263936,
           0.11236125,
           0.017562756,
           -0.029742943,
           0.09578869,
           0.033810735,
           -0.05889237,
           1.6393031,
           -0.089073345,
           0.06272803,
           -0.06105906,
           0.064317815
          ],
          [
           0.13800281,
           -0.06828911,
           0.09348005,
           0.030165233,
           0.038056783,
           0.8314842,
           -0.040440604,
           0.011239633,
           0.15458307,
           0.011730365,
           0.037049852,
           0.039158925,
           -0.036591016,
           -0.0038329512,
           0.076467775,
           -0.064500935,
           -0.10277356,
           -0.08191338,
           -0.116555534,
           0.063160524
          ],
          [
           0.18632364,
           0.028890047,
           0.0032711946,
           0.35199,
           0.053925466,
           -0.082413346,
           2.7789934,
           0.03329736,
           0.07295076,
           0.09144442,
           -0.078688204,
           -0.025242925,
           0.13920847,
           -0.02295446,
           -0.15696576,
           0.008463283,
           0.09500024,
           -0.0068102777,
           -0.087903745,
           -0.056280985
          ],
          [
           0.0082574,
           1.3869826,
           0.30570042,
           0.274491,
           0.11609681,
           0.28174305,
           -0.016680803,
           -0.046997007,
           0.030391179,
           0.19027127,
           -0.21761766,
           -0.08091671,
           -0.07552772,
           0.0161033,
           -0.029410305,
           0.09395633,
           0.07513391,
           -0.028162375,
           0.7802349,
           -0.12792182
          ],
          [
           -0.017485484,
           0.07998536,
           -0.010212038,
           -0.011187003,
           1.0512629,
           -0.057582352,
           0.0132192485,
           -0.045508668,
           0.20382017,
           -0.02784698,
           -0.026466832,
           1.9296155,
           -0.08222517,
           0.010725182,
           0.0502481,
           0.064137936,
           0.1319758,
           0.045199245,
           0.02123092,
           0.23750845
          ],
          [
           0.039588373,
           0.20030776,
           1.6707484,
           0.26159164,
           0.29663953,
           0.18572463,
           0.03000737,
           -0.15355939,
           1.1938877,
           0.21173537,
           -0.23127574,
           1.6505605,
           -0.042879112,
           -0.01876913,
           0.19611812,
           -0.09161805,
           0.12445238,
           -0.03521001,
           -0.24962698,
           -0.1611729
          ]
         ]
        }
       ],
       "layout": {
        "coloraxis": {
         "cmid": 0,
         "colorscale": [
          [
           0,
           "rgb(103,0,31)"
          ],
          [
           0.1,
           "rgb(178,24,43)"
          ],
          [
           0.2,
           "rgb(214,96,77)"
          ],
          [
           0.3,
           "rgb(244,165,130)"
          ],
          [
           0.4,
           "rgb(253,219,199)"
          ],
          [
           0.5,
           "rgb(247,247,247)"
          ],
          [
           0.6,
           "rgb(209,229,240)"
          ],
          [
           0.7,
           "rgb(146,197,222)"
          ],
          [
           0.8,
           "rgb(67,147,195)"
          ],
          [
           0.9,
           "rgb(33,102,172)"
          ],
          [
           1,
           "rgb(5,48,97)"
          ]
         ]
        },
        "template": {
         "data": {
          "bar": [
           {
            "error_x": {
             "color": "#2a3f5f"
            },
            "error_y": {
             "color": "#2a3f5f"
            },
            "marker": {
             "line": {
              "color": "#E5ECF6",
              "width": 0.5
             },
             "pattern": {
              "fillmode": "overlay",
              "size": 10,
              "solidity": 0.2
             }
            },
            "type": "bar"
           }
          ],
          "barpolar": [
           {
            "marker": {
             "line": {
              "color": "#E5ECF6",
              "width": 0.5
             },
             "pattern": {
              "fillmode": "overlay",
              "size": 10,
              "solidity": 0.2
             }
            },
            "type": "barpolar"
           }
          ],
          "carpet": [
           {
            "aaxis": {
             "endlinecolor": "#2a3f5f",
             "gridcolor": "white",
             "linecolor": "white",
             "minorgridcolor": "white",
             "startlinecolor": "#2a3f5f"
            },
            "baxis": {
             "endlinecolor": "#2a3f5f",
             "gridcolor": "white",
             "linecolor": "white",
             "minorgridcolor": "white",
             "startlinecolor": "#2a3f5f"
            },
            "type": "carpet"
           }
          ],
          "choropleth": [
           {
            "colorbar": {
             "outlinewidth": 0,
             "ticks": ""
            },
            "type": "choropleth"
           }
          ],
          "contour": [
           {
            "colorbar": {
             "outlinewidth": 0,
             "ticks": ""
            },
            "colorscale": [
             [
              0,
              "#0d0887"
             ],
             [
              0.1111111111111111,
              "#46039f"
             ],
             [
              0.2222222222222222,
              "#7201a8"
             ],
             [
              0.3333333333333333,
              "#9c179e"
             ],
             [
              0.4444444444444444,
              "#bd3786"
             ],
             [
              0.5555555555555556,
              "#d8576b"
             ],
             [
              0.6666666666666666,
              "#ed7953"
             ],
             [
              0.7777777777777778,
              "#fb9f3a"
             ],
             [
              0.8888888888888888,
              "#fdca26"
             ],
             [
              1,
              "#f0f921"
             ]
            ],
            "type": "contour"
           }
          ],
          "contourcarpet": [
           {
            "colorbar": {
             "outlinewidth": 0,
             "ticks": ""
            },
            "type": "contourcarpet"
           }
          ],
          "heatmap": [
           {
            "colorbar": {
             "outlinewidth": 0,
             "ticks": ""
            },
            "colorscale": [
             [
              0,
              "#0d0887"
             ],
             [
              0.1111111111111111,
              "#46039f"
             ],
             [
              0.2222222222222222,
              "#7201a8"
             ],
             [
              0.3333333333333333,
              "#9c179e"
             ],
             [
              0.4444444444444444,
              "#bd3786"
             ],
             [
              0.5555555555555556,
              "#d8576b"
             ],
             [
              0.6666666666666666,
              "#ed7953"
             ],
             [
              0.7777777777777778,
              "#fb9f3a"
             ],
             [
              0.8888888888888888,
              "#fdca26"
             ],
             [
              1,
              "#f0f921"
             ]
            ],
            "type": "heatmap"
           }
          ],
          "heatmapgl": [
           {
            "colorbar": {
             "outlinewidth": 0,
             "ticks": ""
            },
            "colorscale": [
             [
              0,
              "#0d0887"
             ],
             [
              0.1111111111111111,
              "#46039f"
             ],
             [
              0.2222222222222222,
              "#7201a8"
             ],
             [
              0.3333333333333333,
              "#9c179e"
             ],
             [
              0.4444444444444444,
              "#bd3786"
             ],
             [
              0.5555555555555556,
              "#d8576b"
             ],
             [
              0.6666666666666666,
              "#ed7953"
             ],
             [
              0.7777777777777778,
              "#fb9f3a"
             ],
             [
              0.8888888888888888,
              "#fdca26"
             ],
             [
              1,
              "#f0f921"
             ]
            ],
            "type": "heatmapgl"
           }
          ],
          "histogram": [
           {
            "marker": {
             "pattern": {
              "fillmode": "overlay",
              "size": 10,
              "solidity": 0.2
             }
            },
            "type": "histogram"
           }
          ],
          "histogram2d": [
           {
            "colorbar": {
             "outlinewidth": 0,
             "ticks": ""
            },
            "colorscale": [
             [
              0,
              "#0d0887"
             ],
             [
              0.1111111111111111,
              "#46039f"
             ],
             [
              0.2222222222222222,
              "#7201a8"
             ],
             [
              0.3333333333333333,
              "#9c179e"
             ],
             [
              0.4444444444444444,
              "#bd3786"
             ],
             [
              0.5555555555555556,
              "#d8576b"
             ],
             [
              0.6666666666666666,
              "#ed7953"
             ],
             [
              0.7777777777777778,
              "#fb9f3a"
             ],
             [
              0.8888888888888888,
              "#fdca26"
             ],
             [
              1,
              "#f0f921"
             ]
            ],
            "type": "histogram2d"
           }
          ],
          "histogram2dcontour": [
           {
            "colorbar": {
             "outlinewidth": 0,
             "ticks": ""
            },
            "colorscale": [
             [
              0,
              "#0d0887"
             ],
             [
              0.1111111111111111,
              "#46039f"
             ],
             [
              0.2222222222222222,
              "#7201a8"
             ],
             [
              0.3333333333333333,
              "#9c179e"
             ],
             [
              0.4444444444444444,
              "#bd3786"
             ],
             [
              0.5555555555555556,
              "#d8576b"
             ],
             [
              0.6666666666666666,
              "#ed7953"
             ],
             [
              0.7777777777777778,
              "#fb9f3a"
             ],
             [
              0.8888888888888888,
              "#fdca26"
             ],
             [
              1,
              "#f0f921"
             ]
            ],
            "type": "histogram2dcontour"
           }
          ],
          "mesh3d": [
           {
            "colorbar": {
             "outlinewidth": 0,
             "ticks": ""
            },
            "type": "mesh3d"
           }
          ],
          "parcoords": [
           {
            "line": {
             "colorbar": {
              "outlinewidth": 0,
              "ticks": ""
             }
            },
            "type": "parcoords"
           }
          ],
          "pie": [
           {
            "automargin": true,
            "type": "pie"
           }
          ],
          "scatter": [
           {
            "fillpattern": {
             "fillmode": "overlay",
             "size": 10,
             "solidity": 0.2
            },
            "type": "scatter"
           }
          ],
          "scatter3d": [
           {
            "line": {
             "colorbar": {
              "outlinewidth": 0,
              "ticks": ""
             }
            },
            "marker": {
             "colorbar": {
              "outlinewidth": 0,
              "ticks": ""
             }
            },
            "type": "scatter3d"
           }
          ],
          "scattercarpet": [
           {
            "marker": {
             "colorbar": {
              "outlinewidth": 0,
              "ticks": ""
             }
            },
            "type": "scattercarpet"
           }
          ],
          "scattergeo": [
           {
            "marker": {
             "colorbar": {
              "outlinewidth": 0,
              "ticks": ""
             }
            },
            "type": "scattergeo"
           }
          ],
          "scattergl": [
           {
            "marker": {
             "colorbar": {
              "outlinewidth": 0,
              "ticks": ""
             }
            },
            "type": "scattergl"
           }
          ],
          "scattermapbox": [
           {
            "marker": {
             "colorbar": {
              "outlinewidth": 0,
              "ticks": ""
             }
            },
            "type": "scattermapbox"
           }
          ],
          "scatterpolar": [
           {
            "marker": {
             "colorbar": {
              "outlinewidth": 0,
              "ticks": ""
             }
            },
            "type": "scatterpolar"
           }
          ],
          "scatterpolargl": [
           {
            "marker": {
             "colorbar": {
              "outlinewidth": 0,
              "ticks": ""
             }
            },
            "type": "scatterpolargl"
           }
          ],
          "scatterternary": [
           {
            "marker": {
             "colorbar": {
              "outlinewidth": 0,
              "ticks": ""
             }
            },
            "type": "scatterternary"
           }
          ],
          "surface": [
           {
            "colorbar": {
             "outlinewidth": 0,
             "ticks": ""
            },
            "colorscale": [
             [
              0,
              "#0d0887"
             ],
             [
              0.1111111111111111,
              "#46039f"
             ],
             [
              0.2222222222222222,
              "#7201a8"
             ],
             [
              0.3333333333333333,
              "#9c179e"
             ],
             [
              0.4444444444444444,
              "#bd3786"
             ],
             [
              0.5555555555555556,
              "#d8576b"
             ],
             [
              0.6666666666666666,
              "#ed7953"
             ],
             [
              0.7777777777777778,
              "#fb9f3a"
             ],
             [
              0.8888888888888888,
              "#fdca26"
             ],
             [
              1,
              "#f0f921"
             ]
            ],
            "type": "surface"
           }
          ],
          "table": [
           {
            "cells": {
             "fill": {
              "color": "#EBF0F8"
             },
             "line": {
              "color": "white"
             }
            },
            "header": {
             "fill": {
              "color": "#C8D4E3"
             },
             "line": {
              "color": "white"
             }
            },
            "type": "table"
           }
          ]
         },
         "layout": {
          "annotationdefaults": {
           "arrowcolor": "#2a3f5f",
           "arrowhead": 0,
           "arrowwidth": 1
          },
          "autotypenumbers": "strict",
          "coloraxis": {
           "colorbar": {
            "outlinewidth": 0,
            "ticks": ""
           }
          },
          "colorscale": {
           "diverging": [
            [
             0,
             "#8e0152"
            ],
            [
             0.1,
             "#c51b7d"
            ],
            [
             0.2,
             "#de77ae"
            ],
            [
             0.3,
             "#f1b6da"
            ],
            [
             0.4,
             "#fde0ef"
            ],
            [
             0.5,
             "#f7f7f7"
            ],
            [
             0.6,
             "#e6f5d0"
            ],
            [
             0.7,
             "#b8e186"
            ],
            [
             0.8,
             "#7fbc41"
            ],
            [
             0.9,
             "#4d9221"
            ],
            [
             1,
             "#276419"
            ]
           ],
           "sequential": [
            [
             0,
             "#0d0887"
            ],
            [
             0.1111111111111111,
             "#46039f"
            ],
            [
             0.2222222222222222,
             "#7201a8"
            ],
            [
             0.3333333333333333,
             "#9c179e"
            ],
            [
             0.4444444444444444,
             "#bd3786"
            ],
            [
             0.5555555555555556,
             "#d8576b"
            ],
            [
             0.6666666666666666,
             "#ed7953"
            ],
            [
             0.7777777777777778,
             "#fb9f3a"
            ],
            [
             0.8888888888888888,
             "#fdca26"
            ],
            [
             1,
             "#f0f921"
            ]
           ],
           "sequentialminus": [
            [
             0,
             "#0d0887"
            ],
            [
             0.1111111111111111,
             "#46039f"
            ],
            [
             0.2222222222222222,
             "#7201a8"
            ],
            [
             0.3333333333333333,
             "#9c179e"
            ],
            [
             0.4444444444444444,
             "#bd3786"
            ],
            [
             0.5555555555555556,
             "#d8576b"
            ],
            [
             0.6666666666666666,
             "#ed7953"
            ],
            [
             0.7777777777777778,
             "#fb9f3a"
            ],
            [
             0.8888888888888888,
             "#fdca26"
            ],
            [
             1,
             "#f0f921"
            ]
           ]
          },
          "colorway": [
           "#636efa",
           "#EF553B",
           "#00cc96",
           "#ab63fa",
           "#FFA15A",
           "#19d3f3",
           "#FF6692",
           "#B6E880",
           "#FF97FF",
           "#FECB52"
          ],
          "font": {
           "color": "#2a3f5f"
          },
          "geo": {
           "bgcolor": "white",
           "lakecolor": "white",
           "landcolor": "#E5ECF6",
           "showlakes": true,
           "showland": true,
           "subunitcolor": "white"
          },
          "hoverlabel": {
           "align": "left"
          },
          "hovermode": "closest",
          "mapbox": {
           "style": "light"
          },
          "paper_bgcolor": "white",
          "plot_bgcolor": "#E5ECF6",
          "polar": {
           "angularaxis": {
            "gridcolor": "white",
            "linecolor": "white",
            "ticks": ""
           },
           "bgcolor": "#E5ECF6",
           "radialaxis": {
            "gridcolor": "white",
            "linecolor": "white",
            "ticks": ""
           }
          },
          "scene": {
           "xaxis": {
            "backgroundcolor": "#E5ECF6",
            "gridcolor": "white",
            "gridwidth": 2,
            "linecolor": "white",
            "showbackground": true,
            "ticks": "",
            "zerolinecolor": "white"
           },
           "yaxis": {
            "backgroundcolor": "#E5ECF6",
            "gridcolor": "white",
            "gridwidth": 2,
            "linecolor": "white",
            "showbackground": true,
            "ticks": "",
            "zerolinecolor": "white"
           },
           "zaxis": {
            "backgroundcolor": "#E5ECF6",
            "gridcolor": "white",
            "gridwidth": 2,
            "linecolor": "white",
            "showbackground": true,
            "ticks": "",
            "zerolinecolor": "white"
           }
          },
          "shapedefaults": {
           "line": {
            "color": "#2a3f5f"
           }
          },
          "ternary": {
           "aaxis": {
            "gridcolor": "white",
            "linecolor": "white",
            "ticks": ""
           },
           "baxis": {
            "gridcolor": "white",
            "linecolor": "white",
            "ticks": ""
           },
           "bgcolor": "#E5ECF6",
           "caxis": {
            "gridcolor": "white",
            "linecolor": "white",
            "ticks": ""
           }
          },
          "title": {
           "x": 0.05
          },
          "xaxis": {
           "automargin": true,
           "gridcolor": "white",
           "linecolor": "white",
           "ticks": "",
           "title": {
            "standoff": 15
           },
           "zerolinecolor": "white",
           "zerolinewidth": 2
          },
          "yaxis": {
           "automargin": true,
           "gridcolor": "white",
           "linecolor": "white",
           "ticks": "",
           "title": {
            "standoff": 15
           },
           "zerolinecolor": "white",
           "zerolinewidth": 2
          }
         }
        },
        "title": {
         "text": "n bonds from foreign governments. Many governments"
        },
        "xaxis": {
         "anchor": "y",
         "constrain": "domain",
         "domain": [
          0,
          1
         ],
         "scaleanchor": "y"
        },
        "yaxis": {
         "anchor": "x",
         "autorange": "reversed",
         "constrain": "domain",
         "domain": [
          0,
          1
         ]
        }
       }
      }
     },
     "metadata": {},
     "output_type": "display_data"
    },
    {
     "data": {
      "application/vnd.plotly.v1+json": {
       "config": {
        "plotlyServerURL": "https://plot.ly"
       },
       "data": [
        {
         "coloraxis": "coloraxis",
         "hovertemplate": "x: %{x}<br>y: %{y}<br>color: %{z}<extra></extra>",
         "name": "0",
         "type": "heatmap",
         "xaxis": "x",
         "yaxis": "y",
         "z": [
          [
           -0.0075761923,
           0.04038988,
           -0.06264521,
           0.014154559,
           -0.030967329,
           -0.004317927,
           0.031948738,
           0.035766818,
           0.012018118,
           0.03943362,
           -0.0032170722,
           0.015529236,
           0.006418353,
           0.023863565,
           0.0039632693,
           -0.06676598,
           -0.047590166,
           0.09247313,
           0.020507973,
           0.07677019
          ],
          [
           -0.10147992,
           0.09962984,
           -0.010583486,
           0.05061363,
           0.008104883,
           -0.035077002,
           0.018363662,
           -0.07220592,
           -0.009586618,
           -0.11111493,
           -0.018763743,
           -0.0497689,
           0.1874007,
           -0.06631001,
           0.058435563,
           -0.09749513,
           0.122361556,
           0.043679226,
           0.009585597,
           0.029043369
          ],
          [
           0.059512436,
           -0.014440188,
           0.02119401,
           -0.020370297,
           -0.05063402,
           -0.07493188,
           0.096116334,
           -0.02622044,
           0.19595978,
           0.12208457,
           -0.07014404,
           0.06727859,
           -0.1520871,
           0.22851169,
           0.066507354,
           0.09718338,
           0.04775544,
           -0.08684874,
           0.011761308,
           0.10577826
          ],
          [
           0.8351141,
           0.11351694,
           -0.09905937,
           -0.08119674,
           -0.08438614,
           0.064627305,
           -0.033063885,
           0.07171545,
           -0.014965847,
           0.076830685,
           -0.00016961992,
           0.15233207,
           -0.024672613,
           0.02762537,
           0.012248911,
           0.047083355,
           0.057496034,
           0.09715779,
           0.031008948,
           0.006055787
          ],
          [
           0.055635173,
           -0.17919637,
           0.35236675,
           0.048012294,
           0.1329167,
           0.27101555,
           0.027148297,
           -0.13663495,
           0.6279402,
           0.070272416,
           0.11672305,
           0.10745112,
           0.12461619,
           -0.13821638,
           0.038623575,
           0.09897142,
           -0.16831641,
           0.042344965,
           0.06696868,
           0.016455822
          ],
          [
           0.075668946,
           -0.04435184,
           -0.03411691,
           0.15759239,
           -0.054348767,
           0.090031475,
           0.19751215,
           -0.18973538,
           0.07038905,
           -0.030400025,
           -0.21939059,
           -0.062196642,
           -0.010400109,
           0.4465198,
           -0.22434682,
           -0.098814905,
           0.14014965,
           0.4062717,
           -0.030026672,
           0.3277954
          ],
          [
           0.14750251,
           0.25402626,
           0.1735284,
           0.31096613,
           -0.037047606,
           -0.22334248,
           -0.073418766,
           0.046476632,
           0.0062459055,
           0.046388425,
           -0.07083378,
           0.096300244,
           0.06594235,
           -0.29183677,
           -0.15147054,
           0.15382643,
           -0.07476695,
           0.11578669,
           -0.0048393756,
           0.006206043
          ],
          [
           -0.051155172,
           0.12659961,
           0.1904853,
           0.058886398,
           0.034281574,
           0.08778468,
           0.13032296,
           0.10366467,
           -0.024394296,
           0.13055766,
           0.0152785145,
           -0.1649031,
           -0.014867049,
           -0.081027016,
           0.016507711,
           0.03497289,
           -0.06183115,
           0.03589019,
           0.0689612,
           0.081341535
          ],
          [
           0.016991692,
           -0.15231669,
           0.051399704,
           0.023952838,
           -0.050534938,
           0.07497547,
           -0.00041084737,
           -0.14314798,
           0.05487853,
           -0.06009984,
           0.115832984,
           0.050128017,
           0.1213043,
           0.08449083,
           0.041487914,
           -0.12981138,
           -0.23703729,
           0.31679603,
           0.10009226,
           -0.016099378
          ],
          [
           0.08113776,
           0.08271095,
           -0.0245609,
           0.08198575,
           0.14589831,
           0.06389678,
           -0.15551715,
           0.023794241,
           0.102294095,
           -0.05740239,
           0.13708404,
           0.1060196,
           0.03139166,
           -0.064398326,
           0.14872105,
           -0.07616931,
           -0.06775183,
           0.16766071,
           0.029555684,
           0.039607383
          ],
          [
           -0.045484502,
           0.02390881,
           -0.06970974,
           0.047242478,
           0.06529632,
           -0.015510436,
           0.12042579,
           0.1860244,
           0.08700888,
           -0.03743771,
           -0.09226906,
           0.022616465,
           0.06118722,
           -0.034057405,
           0.04008331,
           0.035090383,
           0.08936312,
           0.018103475,
           0.049267836,
           0.055469066
          ],
          [
           -0.0035592467,
           -0.108844295,
           0.02448351,
           0.09475178,
           0.18167862,
           0.10372433,
           0.029329956,
           0.15648076,
           0.039820492,
           -0.015286147,
           -0.006449893,
           -0.021245904,
           -0.025186094,
           0.027117576,
           -0.053936377,
           0.052383177,
           0.14344688,
           0.09335445,
           0.2349682,
           -0.01721299
          ],
          [
           0.3233604,
           -0.0062076785,
           -0.032819718,
           0.040248,
           -0.02253272,
           0.065104656,
           -0.11478256,
           -0.025713438,
           0.2599134,
           0.014642952,
           -0.025503222,
           -0.0028465204,
           -0.31308538,
           0.0340012,
           -0.036282625,
           0.012892149,
           -0.09224761,
           0.026179863,
           0.027077213,
           -0.05184835
          ],
          [
           0.02825144,
           -0.008219743,
           -0.020315597,
           -0.087661095,
           0.0111172125,
           0.050226204,
           -0.06433173,
           0.04986701,
           0.028125942,
           -0.055478968,
           -0.29746026,
           -0.02731463,
           0.058620412,
           0.24555145,
           0.042467758,
           -0.026695173,
           -0.00062684715,
           -0.012724962,
           -0.23291932,
           -0.11934672
          ],
          [
           0.44426224,
           -0.17822382,
           -0.11675802,
           -0.10321036,
           -0.06527502,
           -0.036418274,
           0.034896515,
           0.040139154,
           -0.18874884,
           0.095607236,
           -0.06069645,
           0.21742712,
           -0.1211531,
           0.12171739,
           -0.12729833,
           -0.022949029,
           -0.07275258,
           0.841628,
           -0.26918763,
           0.011207413
          ],
          [
           -0.07255224,
           0.102834165,
           -0.10097999,
           0.068162486,
           0.074510075,
           -0.1531202,
           0.59967786,
           0.030158719,
           -0.04666481,
           -0.1590742,
           -0.09098716,
           0.35569298,
           -0.19013485,
           0.02906165,
           0.051226117,
           0.0007248726,
           -0.17317845,
           -0.09192241,
           -0.0282049,
           -0.26424938
          ],
          [
           0.052053455,
           0.06299882,
           -0.9623499,
           -0.26911908,
           -0.059553068,
           1.2144527,
           -0.160247,
           -0.116903245,
           0.4072962,
           -0.043333866,
           0.32516557,
           -0.003940657,
           0.004248712,
           0.03857089,
           -0.07358884,
           -0.19247037,
           0.090554684,
           0.1712387,
           0.06558551,
           -0.29609883
          ],
          [
           -0.61849135,
           0.19573733,
           0.23209529,
           0.13593669,
           0.029550454,
           -0.21224089,
           -0.019793496,
           0.14959472,
           -0.015995111,
           0.13215849,
           0.08354138,
           -0.053763054,
           -0.1264269,
           -0.16358975,
           0.024211708,
           -0.030836232,
           0.2297513,
           -0.09087934,
           0.18237028,
           0.121635236
          ],
          [
           0.021745712,
           0.28698564,
           0.51634574,
           -0.13623545,
           -0.078013934,
           0.34095982,
           0.14018402,
           -0.06709474,
           -0.10224057,
           -0.026137033,
           -0.00047700107,
           -0.074302614,
           -0.07871688,
           0.13212599,
           -0.0852118,
           0.4034336,
           -0.077870116,
           0.18426338,
           0.07842255,
           -0.24296932
          ],
          [
           0.15142702,
           -0.04399195,
           -0.09670086,
           -0.051625356,
           -0.028735487,
           0.1115147,
           -0.028550494,
           0.0016931333,
           0.020873148,
           -0.13582098,
           -0.01441187,
           -0.009415213,
           0.699552,
           -0.0032860246,
           0.050986186,
           -0.13930486,
           -0.093601026,
           0.0007718224,
           -0.064566515,
           0.005415164
          ],
          [
           0.021327013,
           -0.046432536,
           -0.12689798,
           -0.2440431,
           0.028080361,
           -0.103090584,
           0.014216773,
           -0.007222194,
           0.18161054,
           0.16803977,
           -0.045381755,
           -0.017431356,
           0.15778133,
           0.15262973,
           -0.041472346,
           -0.262895,
           0.3115097,
           -0.4090835,
           0.0243738,
           -0.063891746
          ],
          [
           -0.17857632,
           -0.034153365,
           0.008914443,
           0.738765,
           -0.059003722,
           0.05928104,
           -0.0010535717,
           0.007184392,
           0.008438935,
           0.37539983,
           0.0812963,
           0.024558395,
           0.006709706,
           -0.46081454,
           0.042531557,
           -0.057890914,
           0.039992984,
           -0.04467461,
           0.0358391,
           0.52503574
          ],
          [
           -0.038098633,
           0.10831666,
           -0.087293416,
           -0.8890698,
           -0.047892224,
           0.0012603551,
           0.058430254,
           0.15972145,
           0.20024486,
           -0.11295985,
           0.015690804,
           0.1417473,
           -0.044273272,
           -0.033042125,
           0.12443505,
           0.012369577,
           0.1996803,
           0.021948842,
           0.026438948,
           -0.07740982
          ],
          [
           0.015568111,
           0.026221901,
           -0.13973868,
           -0.009579483,
           0.02530542,
           0.034018397,
           -0.07658351,
           0.062119193,
           -0.07191069,
           0.7893393,
           0.20856173,
           -0.029085305,
           -0.030830689,
           0.109025456,
           0.05108692,
           -0.01294299,
           -0.16581239,
           -0.07960582,
           0.2721534,
           -0.13187386
          ],
          [
           0.34531203,
           -0.16728236,
           0.123803146,
           0.027634798,
           -0.28485137,
           0.04344391,
           -0.009304367,
           0.18436448,
           0.006536441,
           0.055109948,
           0.2304884,
           0.010058783,
           -0.025564931,
           0.0051339865,
           0.025812913,
           0.0023963992,
           -0.0088040065,
           0.084796995,
           -0.038776528,
           -0.047282323
          ],
          [
           -0.07516857,
           -0.0360295,
           0.24296045,
           -0.024557253,
           -0.069531895,
           0.073271416,
           -0.02975992,
           -0.19443256,
           0.027819023,
           0.28930026,
           0.035360504,
           -0.005840875,
           0.21116932,
           0.012123188,
           0.13749635,
           0.014561735,
           -0.0030755997,
           0.117139444,
           -0.029956128,
           -0.065926746
          ],
          [
           -0.0315999,
           -0.037372574,
           -0.011438038,
           0.059717722,
           -0.13956612,
           0.095943384,
           0.026710652,
           0.26371863,
           0.0021949206,
           0.03317518,
           0.042682473,
           0.058264516,
           0.043987732,
           0.10496956,
           0.003554088,
           -0.06405169,
           -0.104952425,
           -0.016172366,
           -0.028595366,
           -0.10724669
          ],
          [
           0.048659563,
           -0.014463995,
           0.020178474,
           -0.0074389,
           -0.12916881,
           -0.0038271993,
           0.010780364,
           0.12575948,
           0.059829667,
           0.01225318,
           -0.0502484,
           0.13917935,
           0.016843095,
           -0.052410193,
           0.0053446945,
           0.23156023,
           0.0036345143,
           0.089232296,
           0.058672972,
           -0.11277537
          ],
          [
           0.16219157,
           -0.03366377,
           0.22787867,
           -0.04614714,
           0.022708647,
           0.47704414,
           0.086395085,
           -0.07318496,
           -0.38128808,
           -0.06417678,
           0.016857121,
           -0.13290086,
           -0.024466526,
           0.10629056,
           -0.12370462,
           -0.03408245,
           -0.0075037256,
           -0.004442051,
           0.0767516,
           -0.006959699
          ],
          [
           -0.060054015,
           -0.007469248,
           0.12577285,
           0.12361505,
           -0.3640015,
           0.03883315,
           -0.3461053,
           0.018509794,
           -0.08436036,
           0.09502071,
           0.006704488,
           -0.019811794,
           -0.037336394,
           0.10056705,
           -0.019037023,
           0.13054037,
           -0.16300361,
           0.06831587,
           -0.05729477,
           -0.023982666
          ],
          [
           0.07449218,
           -0.13896422,
           -0.05899055,
           0.10801165,
           -0.0037154164,
           0.48032418,
           -0.01446292,
           0.011199543,
           0.15776935,
           0.021156715,
           0.049512282,
           0.006645862,
           -0.08947598,
           0.10421614,
           -0.0063044447,
           0.4171728,
           -0.019260304,
           0.008819744,
           0.12384334,
           0.0762721
          ],
          [
           0.14652884,
           0.37913734,
           0.017110847,
           0.20279491,
           0.0072455406,
           -0.034238126,
           -0.05259338,
           0.08883873,
           0.07446279,
           -0.030522874,
           -0.14167652,
           -0.024790097,
           0.06583305,
           0.004820913,
           -0.15861334,
           0.0074891057,
           -0.11825164,
           0.01906237,
           -0.026512373,
           0.0032879151
          ],
          [
           0.016005015,
           -0.25578707,
           0.44011346,
           0.7884088,
           0.03759174,
           -0.03309568,
           0.034715172,
           -0.022001155,
           0.014832526,
           0.19762789,
           -0.02180076,
           -0.11364314,
           -0.05027178,
           0.005335829,
           -0.040423505,
           0.058624428,
           0.021698177,
           -0.091238216,
           -0.13475624,
           -0.37321097
          ],
          [
           -0.018794872,
           0.024517152,
           0.1130109,
           -0.17330442,
           0.1253021,
           0.028243726,
           0.009290338,
           -0.030075092,
           0.5749926,
           -0.00090390816,
           -0.039338835,
           2.1823401,
           -0.016128182,
           0.018113729,
           0.075849175,
           0.027368689,
           0.036912564,
           0.02406995,
           -0.00560382,
           -0.17905502
          ],
          [
           -0.036910478,
           0.31116146,
           1.9433038,
           0.050005548,
           0.46150538,
           -0.10297274,
           -0.11347997,
           -0.14291689,
           1.088908,
           -0.029520214,
           0.046093374,
           1.0139502,
           -0.1122224,
           -0.87447405,
           0.20590706,
           0.1303879,
           0.19724184,
           -0.093086034,
           -0.012092069,
           0.009564698
          ]
         ]
        }
       ],
       "layout": {
        "coloraxis": {
         "cmid": 0,
         "colorscale": [
          [
           0,
           "rgb(103,0,31)"
          ],
          [
           0.1,
           "rgb(178,24,43)"
          ],
          [
           0.2,
           "rgb(214,96,77)"
          ],
          [
           0.3,
           "rgb(244,165,130)"
          ],
          [
           0.4,
           "rgb(253,219,199)"
          ],
          [
           0.5,
           "rgb(247,247,247)"
          ],
          [
           0.6,
           "rgb(209,229,240)"
          ],
          [
           0.7,
           "rgb(146,197,222)"
          ],
          [
           0.8,
           "rgb(67,147,195)"
          ],
          [
           0.9,
           "rgb(33,102,172)"
          ],
          [
           1,
           "rgb(5,48,97)"
          ]
         ]
        },
        "template": {
         "data": {
          "bar": [
           {
            "error_x": {
             "color": "#2a3f5f"
            },
            "error_y": {
             "color": "#2a3f5f"
            },
            "marker": {
             "line": {
              "color": "#E5ECF6",
              "width": 0.5
             },
             "pattern": {
              "fillmode": "overlay",
              "size": 10,
              "solidity": 0.2
             }
            },
            "type": "bar"
           }
          ],
          "barpolar": [
           {
            "marker": {
             "line": {
              "color": "#E5ECF6",
              "width": 0.5
             },
             "pattern": {
              "fillmode": "overlay",
              "size": 10,
              "solidity": 0.2
             }
            },
            "type": "barpolar"
           }
          ],
          "carpet": [
           {
            "aaxis": {
             "endlinecolor": "#2a3f5f",
             "gridcolor": "white",
             "linecolor": "white",
             "minorgridcolor": "white",
             "startlinecolor": "#2a3f5f"
            },
            "baxis": {
             "endlinecolor": "#2a3f5f",
             "gridcolor": "white",
             "linecolor": "white",
             "minorgridcolor": "white",
             "startlinecolor": "#2a3f5f"
            },
            "type": "carpet"
           }
          ],
          "choropleth": [
           {
            "colorbar": {
             "outlinewidth": 0,
             "ticks": ""
            },
            "type": "choropleth"
           }
          ],
          "contour": [
           {
            "colorbar": {
             "outlinewidth": 0,
             "ticks": ""
            },
            "colorscale": [
             [
              0,
              "#0d0887"
             ],
             [
              0.1111111111111111,
              "#46039f"
             ],
             [
              0.2222222222222222,
              "#7201a8"
             ],
             [
              0.3333333333333333,
              "#9c179e"
             ],
             [
              0.4444444444444444,
              "#bd3786"
             ],
             [
              0.5555555555555556,
              "#d8576b"
             ],
             [
              0.6666666666666666,
              "#ed7953"
             ],
             [
              0.7777777777777778,
              "#fb9f3a"
             ],
             [
              0.8888888888888888,
              "#fdca26"
             ],
             [
              1,
              "#f0f921"
             ]
            ],
            "type": "contour"
           }
          ],
          "contourcarpet": [
           {
            "colorbar": {
             "outlinewidth": 0,
             "ticks": ""
            },
            "type": "contourcarpet"
           }
          ],
          "heatmap": [
           {
            "colorbar": {
             "outlinewidth": 0,
             "ticks": ""
            },
            "colorscale": [
             [
              0,
              "#0d0887"
             ],
             [
              0.1111111111111111,
              "#46039f"
             ],
             [
              0.2222222222222222,
              "#7201a8"
             ],
             [
              0.3333333333333333,
              "#9c179e"
             ],
             [
              0.4444444444444444,
              "#bd3786"
             ],
             [
              0.5555555555555556,
              "#d8576b"
             ],
             [
              0.6666666666666666,
              "#ed7953"
             ],
             [
              0.7777777777777778,
              "#fb9f3a"
             ],
             [
              0.8888888888888888,
              "#fdca26"
             ],
             [
              1,
              "#f0f921"
             ]
            ],
            "type": "heatmap"
           }
          ],
          "heatmapgl": [
           {
            "colorbar": {
             "outlinewidth": 0,
             "ticks": ""
            },
            "colorscale": [
             [
              0,
              "#0d0887"
             ],
             [
              0.1111111111111111,
              "#46039f"
             ],
             [
              0.2222222222222222,
              "#7201a8"
             ],
             [
              0.3333333333333333,
              "#9c179e"
             ],
             [
              0.4444444444444444,
              "#bd3786"
             ],
             [
              0.5555555555555556,
              "#d8576b"
             ],
             [
              0.6666666666666666,
              "#ed7953"
             ],
             [
              0.7777777777777778,
              "#fb9f3a"
             ],
             [
              0.8888888888888888,
              "#fdca26"
             ],
             [
              1,
              "#f0f921"
             ]
            ],
            "type": "heatmapgl"
           }
          ],
          "histogram": [
           {
            "marker": {
             "pattern": {
              "fillmode": "overlay",
              "size": 10,
              "solidity": 0.2
             }
            },
            "type": "histogram"
           }
          ],
          "histogram2d": [
           {
            "colorbar": {
             "outlinewidth": 0,
             "ticks": ""
            },
            "colorscale": [
             [
              0,
              "#0d0887"
             ],
             [
              0.1111111111111111,
              "#46039f"
             ],
             [
              0.2222222222222222,
              "#7201a8"
             ],
             [
              0.3333333333333333,
              "#9c179e"
             ],
             [
              0.4444444444444444,
              "#bd3786"
             ],
             [
              0.5555555555555556,
              "#d8576b"
             ],
             [
              0.6666666666666666,
              "#ed7953"
             ],
             [
              0.7777777777777778,
              "#fb9f3a"
             ],
             [
              0.8888888888888888,
              "#fdca26"
             ],
             [
              1,
              "#f0f921"
             ]
            ],
            "type": "histogram2d"
           }
          ],
          "histogram2dcontour": [
           {
            "colorbar": {
             "outlinewidth": 0,
             "ticks": ""
            },
            "colorscale": [
             [
              0,
              "#0d0887"
             ],
             [
              0.1111111111111111,
              "#46039f"
             ],
             [
              0.2222222222222222,
              "#7201a8"
             ],
             [
              0.3333333333333333,
              "#9c179e"
             ],
             [
              0.4444444444444444,
              "#bd3786"
             ],
             [
              0.5555555555555556,
              "#d8576b"
             ],
             [
              0.6666666666666666,
              "#ed7953"
             ],
             [
              0.7777777777777778,
              "#fb9f3a"
             ],
             [
              0.8888888888888888,
              "#fdca26"
             ],
             [
              1,
              "#f0f921"
             ]
            ],
            "type": "histogram2dcontour"
           }
          ],
          "mesh3d": [
           {
            "colorbar": {
             "outlinewidth": 0,
             "ticks": ""
            },
            "type": "mesh3d"
           }
          ],
          "parcoords": [
           {
            "line": {
             "colorbar": {
              "outlinewidth": 0,
              "ticks": ""
             }
            },
            "type": "parcoords"
           }
          ],
          "pie": [
           {
            "automargin": true,
            "type": "pie"
           }
          ],
          "scatter": [
           {
            "fillpattern": {
             "fillmode": "overlay",
             "size": 10,
             "solidity": 0.2
            },
            "type": "scatter"
           }
          ],
          "scatter3d": [
           {
            "line": {
             "colorbar": {
              "outlinewidth": 0,
              "ticks": ""
             }
            },
            "marker": {
             "colorbar": {
              "outlinewidth": 0,
              "ticks": ""
             }
            },
            "type": "scatter3d"
           }
          ],
          "scattercarpet": [
           {
            "marker": {
             "colorbar": {
              "outlinewidth": 0,
              "ticks": ""
             }
            },
            "type": "scattercarpet"
           }
          ],
          "scattergeo": [
           {
            "marker": {
             "colorbar": {
              "outlinewidth": 0,
              "ticks": ""
             }
            },
            "type": "scattergeo"
           }
          ],
          "scattergl": [
           {
            "marker": {
             "colorbar": {
              "outlinewidth": 0,
              "ticks": ""
             }
            },
            "type": "scattergl"
           }
          ],
          "scattermapbox": [
           {
            "marker": {
             "colorbar": {
              "outlinewidth": 0,
              "ticks": ""
             }
            },
            "type": "scattermapbox"
           }
          ],
          "scatterpolar": [
           {
            "marker": {
             "colorbar": {
              "outlinewidth": 0,
              "ticks": ""
             }
            },
            "type": "scatterpolar"
           }
          ],
          "scatterpolargl": [
           {
            "marker": {
             "colorbar": {
              "outlinewidth": 0,
              "ticks": ""
             }
            },
            "type": "scatterpolargl"
           }
          ],
          "scatterternary": [
           {
            "marker": {
             "colorbar": {
              "outlinewidth": 0,
              "ticks": ""
             }
            },
            "type": "scatterternary"
           }
          ],
          "surface": [
           {
            "colorbar": {
             "outlinewidth": 0,
             "ticks": ""
            },
            "colorscale": [
             [
              0,
              "#0d0887"
             ],
             [
              0.1111111111111111,
              "#46039f"
             ],
             [
              0.2222222222222222,
              "#7201a8"
             ],
             [
              0.3333333333333333,
              "#9c179e"
             ],
             [
              0.4444444444444444,
              "#bd3786"
             ],
             [
              0.5555555555555556,
              "#d8576b"
             ],
             [
              0.6666666666666666,
              "#ed7953"
             ],
             [
              0.7777777777777778,
              "#fb9f3a"
             ],
             [
              0.8888888888888888,
              "#fdca26"
             ],
             [
              1,
              "#f0f921"
             ]
            ],
            "type": "surface"
           }
          ],
          "table": [
           {
            "cells": {
             "fill": {
              "color": "#EBF0F8"
             },
             "line": {
              "color": "white"
             }
            },
            "header": {
             "fill": {
              "color": "#C8D4E3"
             },
             "line": {
              "color": "white"
             }
            },
            "type": "table"
           }
          ]
         },
         "layout": {
          "annotationdefaults": {
           "arrowcolor": "#2a3f5f",
           "arrowhead": 0,
           "arrowwidth": 1
          },
          "autotypenumbers": "strict",
          "coloraxis": {
           "colorbar": {
            "outlinewidth": 0,
            "ticks": ""
           }
          },
          "colorscale": {
           "diverging": [
            [
             0,
             "#8e0152"
            ],
            [
             0.1,
             "#c51b7d"
            ],
            [
             0.2,
             "#de77ae"
            ],
            [
             0.3,
             "#f1b6da"
            ],
            [
             0.4,
             "#fde0ef"
            ],
            [
             0.5,
             "#f7f7f7"
            ],
            [
             0.6,
             "#e6f5d0"
            ],
            [
             0.7,
             "#b8e186"
            ],
            [
             0.8,
             "#7fbc41"
            ],
            [
             0.9,
             "#4d9221"
            ],
            [
             1,
             "#276419"
            ]
           ],
           "sequential": [
            [
             0,
             "#0d0887"
            ],
            [
             0.1111111111111111,
             "#46039f"
            ],
            [
             0.2222222222222222,
             "#7201a8"
            ],
            [
             0.3333333333333333,
             "#9c179e"
            ],
            [
             0.4444444444444444,
             "#bd3786"
            ],
            [
             0.5555555555555556,
             "#d8576b"
            ],
            [
             0.6666666666666666,
             "#ed7953"
            ],
            [
             0.7777777777777778,
             "#fb9f3a"
            ],
            [
             0.8888888888888888,
             "#fdca26"
            ],
            [
             1,
             "#f0f921"
            ]
           ],
           "sequentialminus": [
            [
             0,
             "#0d0887"
            ],
            [
             0.1111111111111111,
             "#46039f"
            ],
            [
             0.2222222222222222,
             "#7201a8"
            ],
            [
             0.3333333333333333,
             "#9c179e"
            ],
            [
             0.4444444444444444,
             "#bd3786"
            ],
            [
             0.5555555555555556,
             "#d8576b"
            ],
            [
             0.6666666666666666,
             "#ed7953"
            ],
            [
             0.7777777777777778,
             "#fb9f3a"
            ],
            [
             0.8888888888888888,
             "#fdca26"
            ],
            [
             1,
             "#f0f921"
            ]
           ]
          },
          "colorway": [
           "#636efa",
           "#EF553B",
           "#00cc96",
           "#ab63fa",
           "#FFA15A",
           "#19d3f3",
           "#FF6692",
           "#B6E880",
           "#FF97FF",
           "#FECB52"
          ],
          "font": {
           "color": "#2a3f5f"
          },
          "geo": {
           "bgcolor": "white",
           "lakecolor": "white",
           "landcolor": "#E5ECF6",
           "showlakes": true,
           "showland": true,
           "subunitcolor": "white"
          },
          "hoverlabel": {
           "align": "left"
          },
          "hovermode": "closest",
          "mapbox": {
           "style": "light"
          },
          "paper_bgcolor": "white",
          "plot_bgcolor": "#E5ECF6",
          "polar": {
           "angularaxis": {
            "gridcolor": "white",
            "linecolor": "white",
            "ticks": ""
           },
           "bgcolor": "#E5ECF6",
           "radialaxis": {
            "gridcolor": "white",
            "linecolor": "white",
            "ticks": ""
           }
          },
          "scene": {
           "xaxis": {
            "backgroundcolor": "#E5ECF6",
            "gridcolor": "white",
            "gridwidth": 2,
            "linecolor": "white",
            "showbackground": true,
            "ticks": "",
            "zerolinecolor": "white"
           },
           "yaxis": {
            "backgroundcolor": "#E5ECF6",
            "gridcolor": "white",
            "gridwidth": 2,
            "linecolor": "white",
            "showbackground": true,
            "ticks": "",
            "zerolinecolor": "white"
           },
           "zaxis": {
            "backgroundcolor": "#E5ECF6",
            "gridcolor": "white",
            "gridwidth": 2,
            "linecolor": "white",
            "showbackground": true,
            "ticks": "",
            "zerolinecolor": "white"
           }
          },
          "shapedefaults": {
           "line": {
            "color": "#2a3f5f"
           }
          },
          "ternary": {
           "aaxis": {
            "gridcolor": "white",
            "linecolor": "white",
            "ticks": ""
           },
           "baxis": {
            "gridcolor": "white",
            "linecolor": "white",
            "ticks": ""
           },
           "bgcolor": "#E5ECF6",
           "caxis": {
            "gridcolor": "white",
            "linecolor": "white",
            "ticks": ""
           }
          },
          "title": {
           "x": 0.05
          },
          "xaxis": {
           "automargin": true,
           "gridcolor": "white",
           "linecolor": "white",
           "ticks": "",
           "title": {
            "standoff": 15
           },
           "zerolinecolor": "white",
           "zerolinewidth": 2
          },
          "yaxis": {
           "automargin": true,
           "gridcolor": "white",
           "linecolor": "white",
           "ticks": "",
           "title": {
            "standoff": 15
           },
           "zerolinecolor": "white",
           "zerolinewidth": 2
          }
         }
        },
        "title": {
         "text": "ion; their \"crimes\" led the Galactic Federation to"
        },
        "xaxis": {
         "anchor": "y",
         "constrain": "domain",
         "domain": [
          0,
          1
         ],
         "scaleanchor": "y"
        },
        "yaxis": {
         "anchor": "x",
         "autorange": "reversed",
         "constrain": "domain",
         "domain": [
          0,
          1
         ]
        }
       }
      }
     },
     "metadata": {},
     "output_type": "display_data"
    },
    {
     "data": {
      "application/vnd.plotly.v1+json": {
       "config": {
        "plotlyServerURL": "https://plot.ly"
       },
       "data": [
        {
         "coloraxis": "coloraxis",
         "hovertemplate": "x: %{x}<br>y: %{y}<br>color: %{z}<extra></extra>",
         "name": "0",
         "type": "heatmap",
         "xaxis": "x",
         "yaxis": "y",
         "z": [
          [
           0.42379633,
           0.008110687,
           -0.023598455,
           0.20566647,
           0.047982246,
           -0.021773357,
           0.006162078,
           -0.072218664,
           -0.01909563,
           0.041801494,
           0.20436099,
           -0.03319616,
           0.07081312,
           0.06545154,
           -0.074590035,
           0.02952243,
           0.0011875946,
           -0.04057291,
           0.04217314,
           0.09660115
          ],
          [
           -0.03818066,
           0.17938837,
           0.032487795,
           -0.0028992146,
           -0.051831447,
           -0.0353658,
           -0.02590852,
           -0.047801618,
           0.023392089,
           0.07533348,
           -0.037646845,
           -0.056306247,
           0.08632408,
           0.13748267,
           0.064067885,
           -0.020235056,
           0.014507096,
           0.028900094,
           -0.06875178,
           0.09584445
          ],
          [
           0.041687153,
           0.08013924,
           0.011313275,
           0.16911775,
           -0.16500624,
           -0.021387396,
           0.0690678,
           0.038675778,
           0.045535594,
           0.037214827,
           -0.08773485,
           -0.010510821,
           0.07761198,
           0.27424905,
           0.08083932,
           0.05960505,
           0.12019276,
           0.0097466335,
           -0.0025603478,
           0.15733084
          ],
          [
           0.69896203,
           -0.046280168,
           0.023561686,
           -0.09449216,
           0.22251447,
           0.054407686,
           -0.00190828,
           0.060322423,
           0.026877016,
           0.024604563,
           -0.011395518,
           0.14584547,
           -0.05199136,
           0.039964616,
           0.01283969,
           0.030071512,
           0.087440304,
           -0.03179705,
           0.04298624,
           0.040082972
          ],
          [
           0.021339037,
           -0.24208283,
           0.0773378,
           0.04061545,
           0.015733942,
           0.3722856,
           -0.040723242,
           -0.12750043,
           0.51341367,
           -0.059095785,
           0.07887128,
           -0.0019308962,
           0.3129137,
           -0.15521738,
           0.037359145,
           0.12368342,
           -0.050732404,
           0.0891516,
           0.051838227,
           0.20431331
          ],
          [
           -0.01088411,
           -0.030414628,
           0.03695865,
           0.15356368,
           0.010902017,
           -0.058177926,
           0.2069472,
           -0.0802367,
           0.09170714,
           -0.09536191,
           -0.17156997,
           0.003740102,
           -0.015127659,
           0.12209034,
           -0.5248189,
           -0.17229795,
           0.10711522,
           0.29514396,
           -0.026094854,
           0.33467492
          ],
          [
           0.13781399,
           -0.11376138,
           0.061269626,
           0.33584148,
           -0.004813794,
           -0.19747332,
           -0.038808275,
           0.020507341,
           0.08384973,
           0.12603784,
           -0.07756064,
           0.13891797,
           0.21330526,
           -0.09922053,
           -0.18120056,
           0.20058265,
           0.13048536,
           0.11102641,
           0.012463186,
           0.025713697
          ],
          [
           -0.039922,
           0.06251242,
           0.26062256,
           -0.028490804,
           0.01339408,
           -0.06942356,
           0.00007312,
           0.07045151,
           -0.052290045,
           0.12734948,
           -0.1326622,
           -0.1502608,
           0.07422119,
           0.033743702,
           0.06601496,
           0.02446691,
           0.016755808,
           0.049898203,
           0.07906096,
           0.033364538
          ],
          [
           0.037528355,
           -0.048076276,
           -0.010404339,
           0.035246834,
           -0.08450642,
           -0.018050458,
           -0.056659173,
           -0.0039610863,
           0.094239414,
           -0.057011932,
           0.06776666,
           0.040945772,
           0.05757317,
           0.17251962,
           -0.08023596,
           -0.004403446,
           0.038488135,
           0.14774838,
           0.12446183,
           0.043364644
          ],
          [
           -0.004499535,
           0.081431,
           0.0055828355,
           -0.02723414,
           0.1602019,
           0.122956164,
           -0.111188516,
           0.006000433,
           0.0024295896,
           -0.086921275,
           0.08661049,
           0.12408919,
           0.05494464,
           -0.0037705153,
           -0.027501903,
           0.0023912732,
           -0.08866946,
           -0.048097257,
           -0.00093177706,
           0.036299877
          ],
          [
           0.068063155,
           0.056192756,
           -0.0335477,
           -0.0033695865,
           0.03217095,
           -0.06446667,
           -0.0036427435,
           -0.21425244,
           -0.032552302,
           -0.1580737,
           0.043005962,
           -0.06475973,
           0.0071663,
           -0.07259188,
           0.089096054,
           0.06599149,
           0.11665636,
           0.038890008,
           -0.010740401,
           -0.006846236
          ],
          [
           0.040281292,
           -0.1443608,
           -0.061016686,
           0.008274533,
           -0.08032726,
           0.20030057,
           0.014409624,
           0.18869829,
           0.2681159,
           0.109907776,
           -0.10738453,
           -0.051996775,
           0.09389542,
           0.02563145,
           -0.07635765,
           -0.034744613,
           0.018192522,
           -0.08474669,
           0.09093876,
           -0.08057344
          ],
          [
           0.15184885,
           -0.045898207,
           -0.011217203,
           0.008422572,
           -0.023108277,
           0.06436237,
           -0.08683963,
           -0.04493714,
           0.064082675,
           0.033071164,
           -0.09273205,
           -0.020141486,
           -0.061981373,
           -0.0027401457,
           -0.029207394,
           0.08841246,
           -0.15862176,
           0.05103472,
           0.08385706,
           0.11829537
          ],
          [
           0.10182485,
           0.0390451,
           -0.16193281,
           -0.17441839,
           0.006067302,
           0.005463876,
           0.025485996,
           0.050092526,
           0.042544663,
           0.091631755,
           -0.070911735,
           -0.15390337,
           0.13512781,
           0.0835427,
           -0.048436113,
           -0.019499054,
           0.0026381277,
           -0.021522276,
           0.031315766,
           -0.01631084
          ],
          [
           0.17609796,
           -0.18590939,
           0.43880713,
           -0.07840353,
           0.019189008,
           0.21916309,
           0.08183634,
           0.078716815,
           0.03131134,
           0.23658797,
           -0.0043208897,
           0.21636683,
           0.059960872,
           -0.06003262,
           -0.111474745,
           0.17063111,
           -0.090005636,
           -0.029939596,
           -0.2516244,
           -0.22094896
          ],
          [
           -0.053232796,
           0.02907728,
           0.007882126,
           0.14332125,
           -0.012168366,
           0.015839767,
           -0.19917244,
           -0.23361248,
           -0.017365266,
           -0.037383012,
           -0.000755094,
           0.23713277,
           -0.3308971,
           -0.029912218,
           -0.018903093,
           -0.006412398,
           0.025320098,
           0.00094498135,
           0.07772435,
           -0.1740295
          ],
          [
           0.015835635,
           0.0091910735,
           -0.10770279,
           -0.015683744,
           0.15979286,
           -0.06290429,
           0.018245373,
           -0.07287352,
           0.009278469,
           -0.05256664,
           0.13436262,
           0.01936159,
           0.025650885,
           0.03482507,
           0.00027102977,
           -0.15446141,
           -0.015695574,
           -0.11520093,
           0.07573495,
           -0.012532236
          ],
          [
           0.014282261,
           0.054456398,
           0.020773299,
           -0.021009779,
           0.032970235,
           -0.061526097,
           -0.028023725,
           -0.023899784,
           0.17029499,
           0.11076501,
           0.21711984,
           -0.009527024,
           -0.11792767,
           0.07564788,
           0.017837819,
           0.06042044,
           -0.014675666,
           0.00010133535,
           0.03113548,
           0.020253703
          ],
          [
           -0.041099727,
           -0.050674655,
           -0.018308558,
           -0.0827561,
           0.023837537,
           -0.2062349,
           0.089288205,
           -0.07295298,
           0.12198936,
           -0.033770658,
           -0.18007338,
           -0.044651687,
           -0.17397073,
           0.07243791,
           0.19672547,
           0.39663425,
           0.0129560055,
           0.010712247,
           -0.18039632,
           0.004352607
          ],
          [
           0.087445706,
           0.033429995,
           -0.113881156,
           0.058209695,
           -0.03333164,
           0.3304181,
           -0.08313456,
           0.049966745,
           -0.14270553,
           0.025055652,
           -0.031378612,
           -0.013165973,
           0.43930337,
           -0.037524693,
           0.05049803,
           -0.074161336,
           -0.1851108,
           -0.05292858,
           -0.08806793,
           -0.01028236
          ],
          [
           0.05684041,
           -0.04639576,
           -0.2293903,
           -0.008746773,
           0.044155277,
           -0.28938884,
           -0.07690655,
           -0.06823032,
           0.05051876,
           0.14305246,
           -0.055368893,
           -0.0037222262,
           0.13693944,
           0.18975209,
           -0.09101933,
           -0.09503524,
           0.07841871,
           -0.050765827,
           -0.04813593,
           -0.07627483
          ],
          [
           -0.31403333,
           -0.11557227,
           0.012387918,
           -0.30070126,
           -0.0703635,
           0.09585406,
           0.046171978,
           -0.17735267,
           0.0055486253,
           0.19411033,
           -0.035348848,
           0.04561403,
           0.056087323,
           -0.23576891,
           0.04330266,
           -0.06842468,
           0.018622853,
           -0.046738245,
           0.03491102,
           0.05024902
          ],
          [
           -0.017460935,
           0.22686343,
           0.025708776,
           0.09753783,
           -0.12973799,
           -0.051524833,
           -0.08172707,
           0.030036166,
           0.5941323,
           0.032292333,
           0.018583544,
           0.10527405,
           -0.14691918,
           -0.025824768,
           0.059485797,
           -0.02009045,
           0.084511206,
           0.037826534,
           0.021909114,
           -0.019867338
          ],
          [
           -0.081772454,
           -0.034002423,
           -0.062304422,
           -0.052185923,
           0.13091928,
           0.010775574,
           -0.022817245,
           0.064739,
           -0.0010206983,
           -0.039963525,
           0.0030605607,
           -0.026937112,
           0.04024627,
           0.06558361,
           0.14286943,
           -0.038840953,
           -0.06442427,
           -0.11956682,
           0.006642498,
           0.04820424
          ],
          [
           0.07405357,
           -0.12975147,
           0.41580045,
           0.20044191,
           -0.009531621,
           0.039570786,
           0.04910452,
           0.2599824,
           0.018646715,
           0.12614685,
           0.13219088,
           0.007085059,
           -0.030519867,
           -0.013142236,
           -0.02131285,
           -0.0935733,
           -0.05805483,
           -0.0041985773,
           -0.048997253,
           -0.095890135
          ],
          [
           -0.11552297,
           0.22969706,
           0.12409961,
           0.054817412,
           -0.05338488,
           -0.011073904,
           -0.27102894,
           0.025926052,
           0.023886215,
           -0.34007385,
           0.014920283,
           0.029571805,
           -0.05349689,
           0.025222234,
           0.08210129,
           0.0036978424,
           0.5031697,
           0.0775523,
           -0.05316253,
           0.106205426
          ],
          [
           -0.054495536,
           -0.029712915,
           -0.025359694,
           0.08063013,
           -0.22792858,
           0.44760725,
           0.1718104,
           0.1846618,
           -0.046558958,
           0.0003476031,
           0.06062094,
           0.04200779,
           0.017819881,
           -0.05959463,
           0.05401646,
           0.0077800937,
           0.013778111,
           -0.052444242,
           -0.019944023,
           -0.05811674
          ],
          [
           0.03727393,
           -0.022483826,
           0.21965383,
           -0.012477243,
           -0.16399832,
           -0.17537092,
           0.0009236112,
           0.092904575,
           -0.23111004,
           0.0007132441,
           -0.13629852,
           -0.31648794,
           -0.06187485,
           -0.038880587,
           0.00421218,
           0.18814346,
           0.034388997,
           0.045690905,
           0.015690543,
           -0.06344324
          ],
          [
           0.10060633,
           -0.04239075,
           0.08955026,
           -0.06224575,
           0.024650194,
           0.08502961,
           0.0704927,
           0.01711645,
           0.30013466,
           -0.11269791,
           0.0012807362,
           -0.12117137,
           -0.030376326,
           -0.13822621,
           -0.066319026,
           0.13091113,
           0.096690126,
           -0.005301118,
           0.13128704,
           0.0019193739
          ],
          [
           -0.06131285,
           0.0015079966,
           0.02660016,
           0.065093726,
           -0.2615507,
           -0.009326424,
           -0.11530168,
           -0.03786849,
           -0.48497435,
           0.05182983,
           0.0021302253,
           0.015977772,
           0.11293772,
           -0.0032978505,
           -0.05601656,
           0.17375188,
           -0.09773274,
           0.05892878,
           -0.08698051,
           0.035669312
          ],
          [
           0.069709316,
           -0.17027423,
           0.07061391,
           0.0502787,
           -0.12517865,
           0.2007842,
           -0.032963537,
           -0.091887236,
           0.130324,
           0.0064456593,
           0.05532065,
           0.060358226,
           -0.13404028,
           -0.119187474,
           -0.082020864,
           -0.05754193,
           0.13406686,
           0.03254473,
           -0.13754341,
           0.07101161
          ],
          [
           0.14644277,
           0.053809043,
           0.0058234446,
           1.2633711,
           0.02261807,
           -0.030762158,
           1.0353343,
           0.13819058,
           0.06207732,
           -0.012515318,
           -0.04643374,
           0.18376936,
           0.22110604,
           -0.14821069,
           -0.046534806,
           0.05073882,
           -0.040245596,
           -0.0014150888,
           -0.09009486,
           -0.020254286
          ],
          [
           0.11510073,
           -0.22261488,
           0.45465398,
           0.22993559,
           -0.054475345,
           0.058439158,
           0.040190443,
           -0.027770644,
           0.050552413,
           0.17287861,
           -0.0101842955,
           -0.10943024,
           -0.008820437,
           -0.03293948,
           -0.008937178,
           0.1197099,
           -0.007695172,
           -0.06230692,
           0.103183,
           -0.34726793
          ],
          [
           -0.013936166,
           0.04926527,
           -0.0065675527,
           -0.21084127,
           0.12039241,
           0.09353693,
           -0.024839582,
           -0.004776599,
           0.25752985,
           0.06409334,
           -0.027687483,
           1.9436241,
           -0.103197,
           0.050795265,
           0.06433192,
           0.06935321,
           -0.04022614,
           -0.21898404,
           0.040929236,
           0.005856531
          ],
          [
           0.11062455,
           -0.060706183,
           1.8735728,
           -0.054644633,
           0.36809638,
           0.07190797,
           0.04933387,
           -0.09920937,
           1.6023188,
           0.13762146,
           -0.26962528,
           1.3701006,
           0.09387868,
           -0.08908917,
           -0.008020967,
           -0.10183061,
           0.041042697,
           -0.00052456185,
           -0.12962237,
           -0.07488283
          ]
         ]
        }
       ],
       "layout": {
        "coloraxis": {
         "cmid": 0,
         "colorscale": [
          [
           0,
           "rgb(103,0,31)"
          ],
          [
           0.1,
           "rgb(178,24,43)"
          ],
          [
           0.2,
           "rgb(214,96,77)"
          ],
          [
           0.3,
           "rgb(244,165,130)"
          ],
          [
           0.4,
           "rgb(253,219,199)"
          ],
          [
           0.5,
           "rgb(247,247,247)"
          ],
          [
           0.6,
           "rgb(209,229,240)"
          ],
          [
           0.7,
           "rgb(146,197,222)"
          ],
          [
           0.8,
           "rgb(67,147,195)"
          ],
          [
           0.9,
           "rgb(33,102,172)"
          ],
          [
           1,
           "rgb(5,48,97)"
          ]
         ]
        },
        "template": {
         "data": {
          "bar": [
           {
            "error_x": {
             "color": "#2a3f5f"
            },
            "error_y": {
             "color": "#2a3f5f"
            },
            "marker": {
             "line": {
              "color": "#E5ECF6",
              "width": 0.5
             },
             "pattern": {
              "fillmode": "overlay",
              "size": 10,
              "solidity": 0.2
             }
            },
            "type": "bar"
           }
          ],
          "barpolar": [
           {
            "marker": {
             "line": {
              "color": "#E5ECF6",
              "width": 0.5
             },
             "pattern": {
              "fillmode": "overlay",
              "size": 10,
              "solidity": 0.2
             }
            },
            "type": "barpolar"
           }
          ],
          "carpet": [
           {
            "aaxis": {
             "endlinecolor": "#2a3f5f",
             "gridcolor": "white",
             "linecolor": "white",
             "minorgridcolor": "white",
             "startlinecolor": "#2a3f5f"
            },
            "baxis": {
             "endlinecolor": "#2a3f5f",
             "gridcolor": "white",
             "linecolor": "white",
             "minorgridcolor": "white",
             "startlinecolor": "#2a3f5f"
            },
            "type": "carpet"
           }
          ],
          "choropleth": [
           {
            "colorbar": {
             "outlinewidth": 0,
             "ticks": ""
            },
            "type": "choropleth"
           }
          ],
          "contour": [
           {
            "colorbar": {
             "outlinewidth": 0,
             "ticks": ""
            },
            "colorscale": [
             [
              0,
              "#0d0887"
             ],
             [
              0.1111111111111111,
              "#46039f"
             ],
             [
              0.2222222222222222,
              "#7201a8"
             ],
             [
              0.3333333333333333,
              "#9c179e"
             ],
             [
              0.4444444444444444,
              "#bd3786"
             ],
             [
              0.5555555555555556,
              "#d8576b"
             ],
             [
              0.6666666666666666,
              "#ed7953"
             ],
             [
              0.7777777777777778,
              "#fb9f3a"
             ],
             [
              0.8888888888888888,
              "#fdca26"
             ],
             [
              1,
              "#f0f921"
             ]
            ],
            "type": "contour"
           }
          ],
          "contourcarpet": [
           {
            "colorbar": {
             "outlinewidth": 0,
             "ticks": ""
            },
            "type": "contourcarpet"
           }
          ],
          "heatmap": [
           {
            "colorbar": {
             "outlinewidth": 0,
             "ticks": ""
            },
            "colorscale": [
             [
              0,
              "#0d0887"
             ],
             [
              0.1111111111111111,
              "#46039f"
             ],
             [
              0.2222222222222222,
              "#7201a8"
             ],
             [
              0.3333333333333333,
              "#9c179e"
             ],
             [
              0.4444444444444444,
              "#bd3786"
             ],
             [
              0.5555555555555556,
              "#d8576b"
             ],
             [
              0.6666666666666666,
              "#ed7953"
             ],
             [
              0.7777777777777778,
              "#fb9f3a"
             ],
             [
              0.8888888888888888,
              "#fdca26"
             ],
             [
              1,
              "#f0f921"
             ]
            ],
            "type": "heatmap"
           }
          ],
          "heatmapgl": [
           {
            "colorbar": {
             "outlinewidth": 0,
             "ticks": ""
            },
            "colorscale": [
             [
              0,
              "#0d0887"
             ],
             [
              0.1111111111111111,
              "#46039f"
             ],
             [
              0.2222222222222222,
              "#7201a8"
             ],
             [
              0.3333333333333333,
              "#9c179e"
             ],
             [
              0.4444444444444444,
              "#bd3786"
             ],
             [
              0.5555555555555556,
              "#d8576b"
             ],
             [
              0.6666666666666666,
              "#ed7953"
             ],
             [
              0.7777777777777778,
              "#fb9f3a"
             ],
             [
              0.8888888888888888,
              "#fdca26"
             ],
             [
              1,
              "#f0f921"
             ]
            ],
            "type": "heatmapgl"
           }
          ],
          "histogram": [
           {
            "marker": {
             "pattern": {
              "fillmode": "overlay",
              "size": 10,
              "solidity": 0.2
             }
            },
            "type": "histogram"
           }
          ],
          "histogram2d": [
           {
            "colorbar": {
             "outlinewidth": 0,
             "ticks": ""
            },
            "colorscale": [
             [
              0,
              "#0d0887"
             ],
             [
              0.1111111111111111,
              "#46039f"
             ],
             [
              0.2222222222222222,
              "#7201a8"
             ],
             [
              0.3333333333333333,
              "#9c179e"
             ],
             [
              0.4444444444444444,
              "#bd3786"
             ],
             [
              0.5555555555555556,
              "#d8576b"
             ],
             [
              0.6666666666666666,
              "#ed7953"
             ],
             [
              0.7777777777777778,
              "#fb9f3a"
             ],
             [
              0.8888888888888888,
              "#fdca26"
             ],
             [
              1,
              "#f0f921"
             ]
            ],
            "type": "histogram2d"
           }
          ],
          "histogram2dcontour": [
           {
            "colorbar": {
             "outlinewidth": 0,
             "ticks": ""
            },
            "colorscale": [
             [
              0,
              "#0d0887"
             ],
             [
              0.1111111111111111,
              "#46039f"
             ],
             [
              0.2222222222222222,
              "#7201a8"
             ],
             [
              0.3333333333333333,
              "#9c179e"
             ],
             [
              0.4444444444444444,
              "#bd3786"
             ],
             [
              0.5555555555555556,
              "#d8576b"
             ],
             [
              0.6666666666666666,
              "#ed7953"
             ],
             [
              0.7777777777777778,
              "#fb9f3a"
             ],
             [
              0.8888888888888888,
              "#fdca26"
             ],
             [
              1,
              "#f0f921"
             ]
            ],
            "type": "histogram2dcontour"
           }
          ],
          "mesh3d": [
           {
            "colorbar": {
             "outlinewidth": 0,
             "ticks": ""
            },
            "type": "mesh3d"
           }
          ],
          "parcoords": [
           {
            "line": {
             "colorbar": {
              "outlinewidth": 0,
              "ticks": ""
             }
            },
            "type": "parcoords"
           }
          ],
          "pie": [
           {
            "automargin": true,
            "type": "pie"
           }
          ],
          "scatter": [
           {
            "fillpattern": {
             "fillmode": "overlay",
             "size": 10,
             "solidity": 0.2
            },
            "type": "scatter"
           }
          ],
          "scatter3d": [
           {
            "line": {
             "colorbar": {
              "outlinewidth": 0,
              "ticks": ""
             }
            },
            "marker": {
             "colorbar": {
              "outlinewidth": 0,
              "ticks": ""
             }
            },
            "type": "scatter3d"
           }
          ],
          "scattercarpet": [
           {
            "marker": {
             "colorbar": {
              "outlinewidth": 0,
              "ticks": ""
             }
            },
            "type": "scattercarpet"
           }
          ],
          "scattergeo": [
           {
            "marker": {
             "colorbar": {
              "outlinewidth": 0,
              "ticks": ""
             }
            },
            "type": "scattergeo"
           }
          ],
          "scattergl": [
           {
            "marker": {
             "colorbar": {
              "outlinewidth": 0,
              "ticks": ""
             }
            },
            "type": "scattergl"
           }
          ],
          "scattermapbox": [
           {
            "marker": {
             "colorbar": {
              "outlinewidth": 0,
              "ticks": ""
             }
            },
            "type": "scattermapbox"
           }
          ],
          "scatterpolar": [
           {
            "marker": {
             "colorbar": {
              "outlinewidth": 0,
              "ticks": ""
             }
            },
            "type": "scatterpolar"
           }
          ],
          "scatterpolargl": [
           {
            "marker": {
             "colorbar": {
              "outlinewidth": 0,
              "ticks": ""
             }
            },
            "type": "scatterpolargl"
           }
          ],
          "scatterternary": [
           {
            "marker": {
             "colorbar": {
              "outlinewidth": 0,
              "ticks": ""
             }
            },
            "type": "scatterternary"
           }
          ],
          "surface": [
           {
            "colorbar": {
             "outlinewidth": 0,
             "ticks": ""
            },
            "colorscale": [
             [
              0,
              "#0d0887"
             ],
             [
              0.1111111111111111,
              "#46039f"
             ],
             [
              0.2222222222222222,
              "#7201a8"
             ],
             [
              0.3333333333333333,
              "#9c179e"
             ],
             [
              0.4444444444444444,
              "#bd3786"
             ],
             [
              0.5555555555555556,
              "#d8576b"
             ],
             [
              0.6666666666666666,
              "#ed7953"
             ],
             [
              0.7777777777777778,
              "#fb9f3a"
             ],
             [
              0.8888888888888888,
              "#fdca26"
             ],
             [
              1,
              "#f0f921"
             ]
            ],
            "type": "surface"
           }
          ],
          "table": [
           {
            "cells": {
             "fill": {
              "color": "#EBF0F8"
             },
             "line": {
              "color": "white"
             }
            },
            "header": {
             "fill": {
              "color": "#C8D4E3"
             },
             "line": {
              "color": "white"
             }
            },
            "type": "table"
           }
          ]
         },
         "layout": {
          "annotationdefaults": {
           "arrowcolor": "#2a3f5f",
           "arrowhead": 0,
           "arrowwidth": 1
          },
          "autotypenumbers": "strict",
          "coloraxis": {
           "colorbar": {
            "outlinewidth": 0,
            "ticks": ""
           }
          },
          "colorscale": {
           "diverging": [
            [
             0,
             "#8e0152"
            ],
            [
             0.1,
             "#c51b7d"
            ],
            [
             0.2,
             "#de77ae"
            ],
            [
             0.3,
             "#f1b6da"
            ],
            [
             0.4,
             "#fde0ef"
            ],
            [
             0.5,
             "#f7f7f7"
            ],
            [
             0.6,
             "#e6f5d0"
            ],
            [
             0.7,
             "#b8e186"
            ],
            [
             0.8,
             "#7fbc41"
            ],
            [
             0.9,
             "#4d9221"
            ],
            [
             1,
             "#276419"
            ]
           ],
           "sequential": [
            [
             0,
             "#0d0887"
            ],
            [
             0.1111111111111111,
             "#46039f"
            ],
            [
             0.2222222222222222,
             "#7201a8"
            ],
            [
             0.3333333333333333,
             "#9c179e"
            ],
            [
             0.4444444444444444,
             "#bd3786"
            ],
            [
             0.5555555555555556,
             "#d8576b"
            ],
            [
             0.6666666666666666,
             "#ed7953"
            ],
            [
             0.7777777777777778,
             "#fb9f3a"
            ],
            [
             0.8888888888888888,
             "#fdca26"
            ],
            [
             1,
             "#f0f921"
            ]
           ],
           "sequentialminus": [
            [
             0,
             "#0d0887"
            ],
            [
             0.1111111111111111,
             "#46039f"
            ],
            [
             0.2222222222222222,
             "#7201a8"
            ],
            [
             0.3333333333333333,
             "#9c179e"
            ],
            [
             0.4444444444444444,
             "#bd3786"
            ],
            [
             0.5555555555555556,
             "#d8576b"
            ],
            [
             0.6666666666666666,
             "#ed7953"
            ],
            [
             0.7777777777777778,
             "#fb9f3a"
            ],
            [
             0.8888888888888888,
             "#fdca26"
            ],
            [
             1,
             "#f0f921"
            ]
           ]
          },
          "colorway": [
           "#636efa",
           "#EF553B",
           "#00cc96",
           "#ab63fa",
           "#FFA15A",
           "#19d3f3",
           "#FF6692",
           "#B6E880",
           "#FF97FF",
           "#FECB52"
          ],
          "font": {
           "color": "#2a3f5f"
          },
          "geo": {
           "bgcolor": "white",
           "lakecolor": "white",
           "landcolor": "#E5ECF6",
           "showlakes": true,
           "showland": true,
           "subunitcolor": "white"
          },
          "hoverlabel": {
           "align": "left"
          },
          "hovermode": "closest",
          "mapbox": {
           "style": "light"
          },
          "paper_bgcolor": "white",
          "plot_bgcolor": "#E5ECF6",
          "polar": {
           "angularaxis": {
            "gridcolor": "white",
            "linecolor": "white",
            "ticks": ""
           },
           "bgcolor": "#E5ECF6",
           "radialaxis": {
            "gridcolor": "white",
            "linecolor": "white",
            "ticks": ""
           }
          },
          "scene": {
           "xaxis": {
            "backgroundcolor": "#E5ECF6",
            "gridcolor": "white",
            "gridwidth": 2,
            "linecolor": "white",
            "showbackground": true,
            "ticks": "",
            "zerolinecolor": "white"
           },
           "yaxis": {
            "backgroundcolor": "#E5ECF6",
            "gridcolor": "white",
            "gridwidth": 2,
            "linecolor": "white",
            "showbackground": true,
            "ticks": "",
            "zerolinecolor": "white"
           },
           "zaxis": {
            "backgroundcolor": "#E5ECF6",
            "gridcolor": "white",
            "gridwidth": 2,
            "linecolor": "white",
            "showbackground": true,
            "ticks": "",
            "zerolinecolor": "white"
           }
          },
          "shapedefaults": {
           "line": {
            "color": "#2a3f5f"
           }
          },
          "ternary": {
           "aaxis": {
            "gridcolor": "white",
            "linecolor": "white",
            "ticks": ""
           },
           "baxis": {
            "gridcolor": "white",
            "linecolor": "white",
            "ticks": ""
           },
           "bgcolor": "#E5ECF6",
           "caxis": {
            "gridcolor": "white",
            "linecolor": "white",
            "ticks": ""
           }
          },
          "title": {
           "x": 0.05
          },
          "xaxis": {
           "automargin": true,
           "gridcolor": "white",
           "linecolor": "white",
           "ticks": "",
           "title": {
            "standoff": 15
           },
           "zerolinecolor": "white",
           "zerolinewidth": 2
          },
          "yaxis": {
           "automargin": true,
           "gridcolor": "white",
           "linecolor": "white",
           "ticks": "",
           "title": {
            "standoff": 15
           },
           "zerolinecolor": "white",
           "zerolinewidth": 2
          }
         }
        },
        "title": {
         "text": "n opportunity for private individuals to voluntary"
        },
        "xaxis": {
         "anchor": "y",
         "constrain": "domain",
         "domain": [
          0,
          1
         ],
         "scaleanchor": "y"
        },
        "yaxis": {
         "anchor": "x",
         "autorange": "reversed",
         "constrain": "domain",
         "domain": [
          0,
          1
         ]
        }
       }
      }
     },
     "metadata": {},
     "output_type": "display_data"
    },
    {
     "data": {
      "application/vnd.plotly.v1+json": {
       "config": {
        "plotlyServerURL": "https://plot.ly"
       },
       "data": [
        {
         "coloraxis": "coloraxis",
         "hovertemplate": "x: %{x}<br>y: %{y}<br>color: %{z}<extra></extra>",
         "name": "0",
         "type": "heatmap",
         "xaxis": "x",
         "yaxis": "y",
         "z": [
          [
           -0.19767743,
           0.020814575,
           0.024897043,
           -0.039630778,
           -0.0058941543,
           -0.03632684,
           -0.01028393,
           -0.027123036,
           -0.00032791588,
           0.0066178693,
           -0.014057501,
           0.005323472,
           0.053319193,
           0.08225887,
           0.010163162,
           0.029130828,
           -0.048615377,
           -0.0004992066,
           -0.0005294173,
           0.05276327
          ],
          [
           -0.07505465,
           0.11927836,
           0.122547224,
           -0.085313655,
           0.022869667,
           -0.0621376,
           0.025328726,
           -0.07953966,
           0.11829775,
           -0.10360408,
           -0.015919557,
           -0.023444127,
           0.18246004,
           0.11198309,
           0.073990375,
           -0.01474602,
           0.012765124,
           -0.01890138,
           0.046415158,
           -0.0003945902
          ],
          [
           0.035714068,
           -0.11257177,
           0.022742191,
           -0.04374117,
           -0.027780334,
           0.026129829,
           0.09694864,
           0.05694392,
           0.18430337,
           0.04195162,
           -0.050936516,
           0.05003848,
           -0.049468275,
           0.20969506,
           0.017341968,
           0.06981765,
           0.11454226,
           -0.060228236,
           -0.059703223,
           0.136724
          ],
          [
           0.60812175,
           0.030548833,
           -0.015685268,
           -0.1184286,
           0.08944899,
           0.097979024,
           0.12135498,
           0.024744943,
           0.0043667927,
           0.08705728,
           -0.016863119,
           0.26101357,
           -0.045217253,
           0.047043633,
           -0.06762721,
           -0.027531877,
           0.03697961,
           0.024596922,
           0.072801225,
           -0.12741694
          ],
          [
           0.13163352,
           -0.043479055,
           0.095528156,
           0.24008977,
           0.030153088,
           0.17076087,
           -0.04034633,
           -0.19092593,
           0.5518849,
           0.008544296,
           0.11638543,
           -0.014517186,
           0.17606686,
           -0.098830655,
           -0.035519026,
           0.13810697,
           -0.15941967,
           0.18306234,
           -0.010571455,
           0.1605493
          ],
          [
           0.009701859,
           0.18144244,
           0.04243002,
           0.10392748,
           -0.0034420788,
           0.051737536,
           0.1774889,
           -0.2504408,
           0.009946957,
           -0.08343676,
           -0.18278612,
           0.0050974004,
           0.055763952,
           0.047653764,
           -0.06749143,
           -0.13965614,
           0.12467958,
           0.39941213,
           0.013493789,
           0.32951784
          ],
          [
           0.11730241,
           0.2583302,
           0.102624804,
           0.22514609,
           -0.0338453,
           -0.24975103,
           -0.05051849,
           0.0019405223,
           0.067687914,
           0.27137867,
           -0.13832232,
           0.0785787,
           0.18436064,
           -0.16732515,
           -0.15266268,
           0.13049543,
           0.015400739,
           0.108273886,
           0.008255668,
           -0.03716268
          ],
          [
           -0.04158307,
           0.1912547,
           0.15013373,
           0.0109285265,
           0.010971904,
           -0.010368884,
           -0.08632819,
           0.023920767,
           -0.016846776,
           0.052234724,
           0.3773745,
           -0.14467327,
           0.018813511,
           0.09373638,
           -0.018453475,
           0.3684967,
           -0.012426278,
           0.095534414,
           0.068449676,
           0.0464529
          ],
          [
           0.058275476,
           -0.09089403,
           0.008631284,
           0.10011393,
           -0.09886372,
           0.21561766,
           0.0028375946,
           -0.031967014,
           0.12255116,
           -0.04461555,
           0.12868606,
           -0.051471375,
           0.06006199,
           0.056317464,
           0.006089993,
           -0.085414425,
           -0.015647478,
           0.2029737,
           0.07744928,
           0.06092658
          ],
          [
           0.06978866,
           -0.024614364,
           -0.09498249,
           -0.011727706,
           0.04385282,
           0.05863982,
           0.07171288,
           -0.04033646,
           -0.06598082,
           -0.016444862,
           0.026471034,
           0.08333966,
           0.006314611,
           -0.15777968,
           0.014285117,
           -0.08568175,
           0.0221169,
           0.13075541,
           0.03890489,
           -0.079871945
          ],
          [
           0.11401071,
           0.043074645,
           -0.06198986,
           0.004236133,
           0.03345924,
           -0.1103806,
           0.07565161,
           0.34482574,
           -0.035779532,
           0.022300929,
           -0.07259473,
           -0.013227329,
           0.004853744,
           -0.058803655,
           0.014619926,
           -0.05697135,
           0.07909267,
           0.04603146,
           0.03680954,
           -0.050571084
          ],
          [
           -0.000015094876,
           -0.19001953,
           0.029802615,
           0.18369909,
           0.14566833,
           0.014659781,
           -0.0075257123,
           0.17344654,
           -0.018029958,
           0.027578408,
           -0.055765294,
           -0.016639484,
           0.0047516534,
           0.027499981,
           -0.057631794,
           0.038332388,
           0.040770672,
           0.028091947,
           0.087310016,
           -0.039485134
          ],
          [
           0.26762885,
           -0.13982867,
           0.014488712,
           -0.011138771,
           0.050461598,
           0.07971655,
           -0.039386973,
           -0.06527156,
           -0.033871263,
           0.03766495,
           -0.02212444,
           0.02632916,
           -0.011887297,
           0.07328247,
           0.04442849,
           -0.04195708,
           0.044948414,
           0.008768559,
           0.046692356,
           0.039991394
          ],
          [
           0.020915113,
           0.031373702,
           -0.03661756,
           0.10224497,
           0.031954933,
           -0.0012593381,
           -0.07963386,
           -0.0065444857,
           0.035539657,
           0.056843236,
           0.0075806975,
           -0.01974259,
           0.14177774,
           0.08519456,
           -0.022628203,
           -0.00093345717,
           -0.0022215545,
           -0.021824554,
           -0.054196097,
           -0.12055713
          ],
          [
           0.44509012,
           0.037881978,
           -0.04778953,
           0.12796822,
           -0.08392139,
           -0.045678083,
           0.0953217,
           0.0021159723,
           0.08429147,
           0.012016064,
           -0.025643399,
           -0.02730117,
           -0.0057275835,
           -0.08058936,
           0.10596225,
           0.20333815,
           -0.119803496,
           0.07069155,
           -0.08987701,
           -0.096459545
          ],
          [
           -0.20688644,
           -0.06075685,
           0.14169244,
           0.092585936,
           0.080108,
           -0.07986599,
           0.626342,
           0.10412243,
           0.04350424,
           -0.032092053,
           -0.05790075,
           0.13250794,
           -0.31583145,
           -0.2352966,
           0.18681297,
           -0.010662518,
           0.23968187,
           0.0027451497,
           -0.14568704,
           0.040641434
          ],
          [
           0.022020316,
           0.0045582294,
           -0.24272034,
           0.14111802,
           -0.15161479,
           0.44165882,
           0.003241159,
           -0.011637423,
           -0.06504351,
           -0.03920275,
           0.20824121,
           -0.06480913,
           -0.18690494,
           -0.2207044,
           -0.06722002,
           -0.18469009,
           0.05526489,
           0.13723338,
           0.061601155,
           -0.009547178
          ],
          [
           -0.19935754,
           -0.1111714,
           -0.061893746,
           0.19638667,
           0.035516635,
           -0.03802652,
           -0.011423064,
           -0.047437772,
           -0.009827407,
           0.0071308464,
           -0.10033391,
           -0.032316174,
           -0.09878984,
           -0.09147002,
           0.7864175,
           0.033004224,
           0.14709824,
           -0.089878365,
           0.10171977,
           0.04673843
          ],
          [
           -0.049714476,
           0.24398568,
           -0.046821542,
           -0.051367313,
           0.0007489212,
           0.24870275,
           -0.036501337,
           -0.05954461,
           -0.21880683,
           -0.03805203,
           0.017931916,
           -0.12066893,
           0.20827882,
           -0.03700976,
           0.4545765,
           0.19516182,
           -0.03499914,
           -0.0077493116,
           0.31928056,
           -0.27248544
          ],
          [
           0.076075435,
           0.051816743,
           -0.013340771,
           0.29500207,
           -0.032863494,
           0.96551317,
           0.035858236,
           -0.2567831,
           -0.15358472,
           -0.06332731,
           0.29913378,
           -0.01584242,
           -0.0756244,
           0.0058642123,
           -0.2161639,
           -0.109725535,
           0.114556216,
           0.073945045,
           0.11354992,
           0.01625661
          ],
          [
           0.02916223,
           -0.029722508,
           -0.15416217,
           -0.10925827,
           0.14537592,
           0.21178927,
           0.0038352832,
           0.011296779,
           0.036062293,
           0.5963087,
           -0.018802129,
           0.0052971803,
           -0.04466922,
           0.42269456,
           0.014504068,
           0.2161285,
           -0.12886387,
           -0.1217809,
           -0.048002515,
           -0.019935288
          ],
          [
           -0.011283614,
           0.024941541,
           -0.021324206,
           0.8930472,
           -0.06903689,
           0.080267064,
           -0.061334223,
           0.03427341,
           0.0043666055,
           0.022169985,
           0.2541106,
           0.020273747,
           0.024474595,
           -0.20623207,
           0.06601763,
           -0.029364925,
           0.033724215,
           -0.005380515,
           -0.056581426,
           0.057854973
          ],
          [
           0.014874823,
           0.5609595,
           -0.0011315793,
           0.20445752,
           -0.13360481,
           -0.17895894,
           -0.057184033,
           -0.031636365,
           0.553469,
           0.016829774,
           -0.081706375,
           -0.11894852,
           -0.32340705,
           -0.043393116,
           -0.20236072,
           0.02463432,
           0.010288775,
           0.061192103,
           0.047074437,
           0.026221082
          ],
          [
           0.28327638,
           0.11553301,
           0.027452618,
           -0.07621353,
           0.04414113,
           0.060611766,
           -0.27670413,
           0.010831362,
           -0.0081802085,
           0.28820884,
           0.51893014,
           -0.031698212,
           -0.008396275,
           0.2393011,
           -0.047448598,
           -0.025572905,
           -0.0149602,
           -0.13460246,
           0.13171834,
           -0.11077766
          ],
          [
           -0.008630902,
           -0.30302683,
           0.98361534,
           -0.033519387,
           -0.06021634,
           0.008637123,
           -0.45593777,
           0.24578938,
           0.045960814,
           0.5103857,
           0.10834356,
           0.028873786,
           0.14659503,
           -0.009831201,
           -0.04293657,
           -0.06711504,
           -0.025368745,
           -0.036032066,
           -0.14773548,
           -0.2237515
          ],
          [
           -0.12257257,
           0.026549324,
           0.1430442,
           0.013627432,
           -0.027870938,
           0.014415835,
           -0.08093433,
           -0.04568017,
           0.0049518617,
           0.6193892,
           0.06148176,
           -0.075458124,
           -0.37475777,
           -0.24860522,
           0.061321553,
           -0.03688611,
           0.5033932,
           0.354426,
           -0.09696289,
           0.9929929
          ],
          [
           -0.030922122,
           0.00008899346,
           -0.0033989921,
           0.013646225,
           -0.053453937,
           0.80697626,
           -0.06448132,
           -0.32508996,
           -0.0677221,
           -0.024046034,
           0.08188231,
           0.16299847,
           0.036775935,
           -0.029935427,
           0.0085725095,
           0.024937179,
           -0.1179929,
           -0.23374443,
           -0.014153874,
           -0.11167921
          ],
          [
           0.033083566,
           -0.018341564,
           0.3149328,
           0.017922059,
           -0.18355241,
           -0.10905205,
           -0.00008328259,
           0.07046067,
           0.119850904,
           0.015651677,
           -0.066142656,
           -0.38007957,
           0.03082781,
           -0.08934525,
           -0.06445685,
           -0.2354145,
           0.10689243,
           -0.021499712,
           0.21965063,
           -0.08430372
          ],
          [
           0.061316445,
           -0.055669434,
           -0.049939685,
           -0.06738763,
           0.008936005,
           0.006937824,
           0.058421135,
           -0.024749827,
           0.0025869682,
           -0.11371602,
           0.010964812,
           -0.06888695,
           -0.017449927,
           -0.14245586,
           -0.07654907,
           0.4008372,
           0.03852998,
           0.0054291356,
           0.39266366,
           -0.27392069
          ],
          [
           -0.097782195,
           0.026204022,
           -0.0122701395,
           0.067358084,
           -0.29844856,
           0.024303768,
           -0.07679919,
           0.020880394,
           -0.007326998,
           0.07970165,
           0.10313991,
           -0.032148656,
           0.69738466,
           0.020652104,
           0.10614523,
           1.6322527,
           -0.06032602,
           0.04905816,
           -0.13056129,
           0.11989941
          ],
          [
           -0.010352783,
           -0.19961764,
           0.0097626895,
           0.0021825228,
           0.031297185,
           2.1775556,
           -0.2221027,
           0.13110605,
           0.13425694,
           -0.020808525,
           0.0898871,
           0.16977662,
           -0.072032206,
           -0.3072551,
           -0.02198924,
           -0.06448746,
           0.03587804,
           0.011136111,
           -0.082907856,
           -0.009558015
          ],
          [
           0.06787342,
           0.03532421,
           0.024529204,
           0.56772554,
           -0.030970056,
           -0.046606768,
           1.5369592,
           0.03787815,
           0.077548936,
           -0.0342462,
           -0.12782437,
           -0.0077585876,
           0.026127256,
           -0.15196982,
           -0.010363352,
           0.08247949,
           0.51555467,
           0.23257244,
           -0.015078869,
           -0.018709512
          ],
          [
           0.031672355,
           0.98177725,
           0.34828666,
           0.25935185,
           -0.17411678,
           -0.035770517,
           0.064482175,
           -0.00045639277,
           -0.041227907,
           0.0938734,
           0.007126063,
           -0.11586311,
           -0.14104718,
           -0.09326893,
           -0.020510092,
           0.08078508,
           -0.008690063,
           0.002944205,
           0.6900802,
           -0.60927093
          ],
          [
           0.06797739,
           0.1681132,
           0.06723184,
           -0.081771925,
           0.64099085,
           0.1369691,
           -0.21428876,
           -0.09028222,
           0.26479542,
           0.019892523,
           -0.03007771,
           2.1219256,
           -0.29113454,
           0.0078853555,
           0.178602,
           0.101625234,
           0.35749668,
           -0.2568443,
           -0.019519627,
           0.16334753
          ],
          [
           -0.097464465,
           -0.22051895,
           1.7336597,
           0.044053596,
           0.18500246,
           -0.009151205,
           -0.02024065,
           -0.15577616,
           1.2639195,
           0.2874025,
           -0.05275908,
           1.2982154,
           -0.022438943,
           -0.17487487,
           0.10727541,
           0.07542579,
           0.0067811273,
           -0.10368379,
           -0.0018119365,
           -0.105349176
          ]
         ]
        }
       ],
       "layout": {
        "coloraxis": {
         "cmid": 0,
         "colorscale": [
          [
           0,
           "rgb(103,0,31)"
          ],
          [
           0.1,
           "rgb(178,24,43)"
          ],
          [
           0.2,
           "rgb(214,96,77)"
          ],
          [
           0.3,
           "rgb(244,165,130)"
          ],
          [
           0.4,
           "rgb(253,219,199)"
          ],
          [
           0.5,
           "rgb(247,247,247)"
          ],
          [
           0.6,
           "rgb(209,229,240)"
          ],
          [
           0.7,
           "rgb(146,197,222)"
          ],
          [
           0.8,
           "rgb(67,147,195)"
          ],
          [
           0.9,
           "rgb(33,102,172)"
          ],
          [
           1,
           "rgb(5,48,97)"
          ]
         ]
        },
        "template": {
         "data": {
          "bar": [
           {
            "error_x": {
             "color": "#2a3f5f"
            },
            "error_y": {
             "color": "#2a3f5f"
            },
            "marker": {
             "line": {
              "color": "#E5ECF6",
              "width": 0.5
             },
             "pattern": {
              "fillmode": "overlay",
              "size": 10,
              "solidity": 0.2
             }
            },
            "type": "bar"
           }
          ],
          "barpolar": [
           {
            "marker": {
             "line": {
              "color": "#E5ECF6",
              "width": 0.5
             },
             "pattern": {
              "fillmode": "overlay",
              "size": 10,
              "solidity": 0.2
             }
            },
            "type": "barpolar"
           }
          ],
          "carpet": [
           {
            "aaxis": {
             "endlinecolor": "#2a3f5f",
             "gridcolor": "white",
             "linecolor": "white",
             "minorgridcolor": "white",
             "startlinecolor": "#2a3f5f"
            },
            "baxis": {
             "endlinecolor": "#2a3f5f",
             "gridcolor": "white",
             "linecolor": "white",
             "minorgridcolor": "white",
             "startlinecolor": "#2a3f5f"
            },
            "type": "carpet"
           }
          ],
          "choropleth": [
           {
            "colorbar": {
             "outlinewidth": 0,
             "ticks": ""
            },
            "type": "choropleth"
           }
          ],
          "contour": [
           {
            "colorbar": {
             "outlinewidth": 0,
             "ticks": ""
            },
            "colorscale": [
             [
              0,
              "#0d0887"
             ],
             [
              0.1111111111111111,
              "#46039f"
             ],
             [
              0.2222222222222222,
              "#7201a8"
             ],
             [
              0.3333333333333333,
              "#9c179e"
             ],
             [
              0.4444444444444444,
              "#bd3786"
             ],
             [
              0.5555555555555556,
              "#d8576b"
             ],
             [
              0.6666666666666666,
              "#ed7953"
             ],
             [
              0.7777777777777778,
              "#fb9f3a"
             ],
             [
              0.8888888888888888,
              "#fdca26"
             ],
             [
              1,
              "#f0f921"
             ]
            ],
            "type": "contour"
           }
          ],
          "contourcarpet": [
           {
            "colorbar": {
             "outlinewidth": 0,
             "ticks": ""
            },
            "type": "contourcarpet"
           }
          ],
          "heatmap": [
           {
            "colorbar": {
             "outlinewidth": 0,
             "ticks": ""
            },
            "colorscale": [
             [
              0,
              "#0d0887"
             ],
             [
              0.1111111111111111,
              "#46039f"
             ],
             [
              0.2222222222222222,
              "#7201a8"
             ],
             [
              0.3333333333333333,
              "#9c179e"
             ],
             [
              0.4444444444444444,
              "#bd3786"
             ],
             [
              0.5555555555555556,
              "#d8576b"
             ],
             [
              0.6666666666666666,
              "#ed7953"
             ],
             [
              0.7777777777777778,
              "#fb9f3a"
             ],
             [
              0.8888888888888888,
              "#fdca26"
             ],
             [
              1,
              "#f0f921"
             ]
            ],
            "type": "heatmap"
           }
          ],
          "heatmapgl": [
           {
            "colorbar": {
             "outlinewidth": 0,
             "ticks": ""
            },
            "colorscale": [
             [
              0,
              "#0d0887"
             ],
             [
              0.1111111111111111,
              "#46039f"
             ],
             [
              0.2222222222222222,
              "#7201a8"
             ],
             [
              0.3333333333333333,
              "#9c179e"
             ],
             [
              0.4444444444444444,
              "#bd3786"
             ],
             [
              0.5555555555555556,
              "#d8576b"
             ],
             [
              0.6666666666666666,
              "#ed7953"
             ],
             [
              0.7777777777777778,
              "#fb9f3a"
             ],
             [
              0.8888888888888888,
              "#fdca26"
             ],
             [
              1,
              "#f0f921"
             ]
            ],
            "type": "heatmapgl"
           }
          ],
          "histogram": [
           {
            "marker": {
             "pattern": {
              "fillmode": "overlay",
              "size": 10,
              "solidity": 0.2
             }
            },
            "type": "histogram"
           }
          ],
          "histogram2d": [
           {
            "colorbar": {
             "outlinewidth": 0,
             "ticks": ""
            },
            "colorscale": [
             [
              0,
              "#0d0887"
             ],
             [
              0.1111111111111111,
              "#46039f"
             ],
             [
              0.2222222222222222,
              "#7201a8"
             ],
             [
              0.3333333333333333,
              "#9c179e"
             ],
             [
              0.4444444444444444,
              "#bd3786"
             ],
             [
              0.5555555555555556,
              "#d8576b"
             ],
             [
              0.6666666666666666,
              "#ed7953"
             ],
             [
              0.7777777777777778,
              "#fb9f3a"
             ],
             [
              0.8888888888888888,
              "#fdca26"
             ],
             [
              1,
              "#f0f921"
             ]
            ],
            "type": "histogram2d"
           }
          ],
          "histogram2dcontour": [
           {
            "colorbar": {
             "outlinewidth": 0,
             "ticks": ""
            },
            "colorscale": [
             [
              0,
              "#0d0887"
             ],
             [
              0.1111111111111111,
              "#46039f"
             ],
             [
              0.2222222222222222,
              "#7201a8"
             ],
             [
              0.3333333333333333,
              "#9c179e"
             ],
             [
              0.4444444444444444,
              "#bd3786"
             ],
             [
              0.5555555555555556,
              "#d8576b"
             ],
             [
              0.6666666666666666,
              "#ed7953"
             ],
             [
              0.7777777777777778,
              "#fb9f3a"
             ],
             [
              0.8888888888888888,
              "#fdca26"
             ],
             [
              1,
              "#f0f921"
             ]
            ],
            "type": "histogram2dcontour"
           }
          ],
          "mesh3d": [
           {
            "colorbar": {
             "outlinewidth": 0,
             "ticks": ""
            },
            "type": "mesh3d"
           }
          ],
          "parcoords": [
           {
            "line": {
             "colorbar": {
              "outlinewidth": 0,
              "ticks": ""
             }
            },
            "type": "parcoords"
           }
          ],
          "pie": [
           {
            "automargin": true,
            "type": "pie"
           }
          ],
          "scatter": [
           {
            "fillpattern": {
             "fillmode": "overlay",
             "size": 10,
             "solidity": 0.2
            },
            "type": "scatter"
           }
          ],
          "scatter3d": [
           {
            "line": {
             "colorbar": {
              "outlinewidth": 0,
              "ticks": ""
             }
            },
            "marker": {
             "colorbar": {
              "outlinewidth": 0,
              "ticks": ""
             }
            },
            "type": "scatter3d"
           }
          ],
          "scattercarpet": [
           {
            "marker": {
             "colorbar": {
              "outlinewidth": 0,
              "ticks": ""
             }
            },
            "type": "scattercarpet"
           }
          ],
          "scattergeo": [
           {
            "marker": {
             "colorbar": {
              "outlinewidth": 0,
              "ticks": ""
             }
            },
            "type": "scattergeo"
           }
          ],
          "scattergl": [
           {
            "marker": {
             "colorbar": {
              "outlinewidth": 0,
              "ticks": ""
             }
            },
            "type": "scattergl"
           }
          ],
          "scattermapbox": [
           {
            "marker": {
             "colorbar": {
              "outlinewidth": 0,
              "ticks": ""
             }
            },
            "type": "scattermapbox"
           }
          ],
          "scatterpolar": [
           {
            "marker": {
             "colorbar": {
              "outlinewidth": 0,
              "ticks": ""
             }
            },
            "type": "scatterpolar"
           }
          ],
          "scatterpolargl": [
           {
            "marker": {
             "colorbar": {
              "outlinewidth": 0,
              "ticks": ""
             }
            },
            "type": "scatterpolargl"
           }
          ],
          "scatterternary": [
           {
            "marker": {
             "colorbar": {
              "outlinewidth": 0,
              "ticks": ""
             }
            },
            "type": "scatterternary"
           }
          ],
          "surface": [
           {
            "colorbar": {
             "outlinewidth": 0,
             "ticks": ""
            },
            "colorscale": [
             [
              0,
              "#0d0887"
             ],
             [
              0.1111111111111111,
              "#46039f"
             ],
             [
              0.2222222222222222,
              "#7201a8"
             ],
             [
              0.3333333333333333,
              "#9c179e"
             ],
             [
              0.4444444444444444,
              "#bd3786"
             ],
             [
              0.5555555555555556,
              "#d8576b"
             ],
             [
              0.6666666666666666,
              "#ed7953"
             ],
             [
              0.7777777777777778,
              "#fb9f3a"
             ],
             [
              0.8888888888888888,
              "#fdca26"
             ],
             [
              1,
              "#f0f921"
             ]
            ],
            "type": "surface"
           }
          ],
          "table": [
           {
            "cells": {
             "fill": {
              "color": "#EBF0F8"
             },
             "line": {
              "color": "white"
             }
            },
            "header": {
             "fill": {
              "color": "#C8D4E3"
             },
             "line": {
              "color": "white"
             }
            },
            "type": "table"
           }
          ]
         },
         "layout": {
          "annotationdefaults": {
           "arrowcolor": "#2a3f5f",
           "arrowhead": 0,
           "arrowwidth": 1
          },
          "autotypenumbers": "strict",
          "coloraxis": {
           "colorbar": {
            "outlinewidth": 0,
            "ticks": ""
           }
          },
          "colorscale": {
           "diverging": [
            [
             0,
             "#8e0152"
            ],
            [
             0.1,
             "#c51b7d"
            ],
            [
             0.2,
             "#de77ae"
            ],
            [
             0.3,
             "#f1b6da"
            ],
            [
             0.4,
             "#fde0ef"
            ],
            [
             0.5,
             "#f7f7f7"
            ],
            [
             0.6,
             "#e6f5d0"
            ],
            [
             0.7,
             "#b8e186"
            ],
            [
             0.8,
             "#7fbc41"
            ],
            [
             0.9,
             "#4d9221"
            ],
            [
             1,
             "#276419"
            ]
           ],
           "sequential": [
            [
             0,
             "#0d0887"
            ],
            [
             0.1111111111111111,
             "#46039f"
            ],
            [
             0.2222222222222222,
             "#7201a8"
            ],
            [
             0.3333333333333333,
             "#9c179e"
            ],
            [
             0.4444444444444444,
             "#bd3786"
            ],
            [
             0.5555555555555556,
             "#d8576b"
            ],
            [
             0.6666666666666666,
             "#ed7953"
            ],
            [
             0.7777777777777778,
             "#fb9f3a"
            ],
            [
             0.8888888888888888,
             "#fdca26"
            ],
            [
             1,
             "#f0f921"
            ]
           ],
           "sequentialminus": [
            [
             0,
             "#0d0887"
            ],
            [
             0.1111111111111111,
             "#46039f"
            ],
            [
             0.2222222222222222,
             "#7201a8"
            ],
            [
             0.3333333333333333,
             "#9c179e"
            ],
            [
             0.4444444444444444,
             "#bd3786"
            ],
            [
             0.5555555555555556,
             "#d8576b"
            ],
            [
             0.6666666666666666,
             "#ed7953"
            ],
            [
             0.7777777777777778,
             "#fb9f3a"
            ],
            [
             0.8888888888888888,
             "#fdca26"
            ],
            [
             1,
             "#f0f921"
            ]
           ]
          },
          "colorway": [
           "#636efa",
           "#EF553B",
           "#00cc96",
           "#ab63fa",
           "#FFA15A",
           "#19d3f3",
           "#FF6692",
           "#B6E880",
           "#FF97FF",
           "#FECB52"
          ],
          "font": {
           "color": "#2a3f5f"
          },
          "geo": {
           "bgcolor": "white",
           "lakecolor": "white",
           "landcolor": "#E5ECF6",
           "showlakes": true,
           "showland": true,
           "subunitcolor": "white"
          },
          "hoverlabel": {
           "align": "left"
          },
          "hovermode": "closest",
          "mapbox": {
           "style": "light"
          },
          "paper_bgcolor": "white",
          "plot_bgcolor": "#E5ECF6",
          "polar": {
           "angularaxis": {
            "gridcolor": "white",
            "linecolor": "white",
            "ticks": ""
           },
           "bgcolor": "#E5ECF6",
           "radialaxis": {
            "gridcolor": "white",
            "linecolor": "white",
            "ticks": ""
           }
          },
          "scene": {
           "xaxis": {
            "backgroundcolor": "#E5ECF6",
            "gridcolor": "white",
            "gridwidth": 2,
            "linecolor": "white",
            "showbackground": true,
            "ticks": "",
            "zerolinecolor": "white"
           },
           "yaxis": {
            "backgroundcolor": "#E5ECF6",
            "gridcolor": "white",
            "gridwidth": 2,
            "linecolor": "white",
            "showbackground": true,
            "ticks": "",
            "zerolinecolor": "white"
           },
           "zaxis": {
            "backgroundcolor": "#E5ECF6",
            "gridcolor": "white",
            "gridwidth": 2,
            "linecolor": "white",
            "showbackground": true,
            "ticks": "",
            "zerolinecolor": "white"
           }
          },
          "shapedefaults": {
           "line": {
            "color": "#2a3f5f"
           }
          },
          "ternary": {
           "aaxis": {
            "gridcolor": "white",
            "linecolor": "white",
            "ticks": ""
           },
           "baxis": {
            "gridcolor": "white",
            "linecolor": "white",
            "ticks": ""
           },
           "bgcolor": "#E5ECF6",
           "caxis": {
            "gridcolor": "white",
            "linecolor": "white",
            "ticks": ""
           }
          },
          "title": {
           "x": 0.05
          },
          "xaxis": {
           "automargin": true,
           "gridcolor": "white",
           "linecolor": "white",
           "ticks": "",
           "title": {
            "standoff": 15
           },
           "zerolinecolor": "white",
           "zerolinewidth": 2
          },
          "yaxis": {
           "automargin": true,
           "gridcolor": "white",
           "linecolor": "white",
           "ticks": "",
           "title": {
            "standoff": 15
           },
           "zerolinecolor": "white",
           "zerolinewidth": 2
          }
         }
        },
        "title": {
         "text": "ear.In the Clinton/Rubin era, the Treasury stopped"
        },
        "xaxis": {
         "anchor": "y",
         "constrain": "domain",
         "domain": [
          0,
          1
         ],
         "scaleanchor": "y"
        },
        "yaxis": {
         "anchor": "x",
         "autorange": "reversed",
         "constrain": "domain",
         "domain": [
          0,
          1
         ]
        }
       }
      }
     },
     "metadata": {},
     "output_type": "display_data"
    }
   ],
   "source": [
    "print(len(prompts))\n",
    "head_attribution_lh = einops.rearrange(head_attribution, \"batch (layer head) -> batch layer head\", head=model.cfg.n_heads)\n",
    "for prompt_index in range(len(prompts)):\n",
    "    imshow(head_attribution_lh[prompt_index, :, :], title=f\"{prompts[prompt_index][-50:]}\")"
   ]
  },
  {
   "cell_type": "code",
   "execution_count": 7,
   "metadata": {},
   "outputs": [
    {
     "name": "stderr",
     "output_type": "stream",
     "text": [
      "Using custom data configuration NeelNanda--pile-10k-72f566e9f7c464ab\n",
      "Found cached dataset parquet (/Users/clementneo/.cache/huggingface/datasets/NeelNanda___parquet/NeelNanda--pile-10k-72f566e9f7c464ab/0.0.0/2a3b91fbd88a2c90d1dbbb32b460cf621d31bd5b05b934492fdef7d8d6f236ec)\n"
     ]
    }
   ],
   "source": [
    "from datasets import load_dataset\n",
    "dataset = load_dataset(\"NeelNanda/pile-10k\", split=\"train\")"
   ]
  },
  {
   "cell_type": "code",
   "execution_count": 8,
   "metadata": {},
   "outputs": [],
   "source": [
    "with open(\"neuron_max_acts.json\", \"r\") as f:\n",
    "    neuron_max_acts_load = json.load(f)"
   ]
  },
  {
   "cell_type": "code",
   "execution_count": 57,
   "metadata": {},
   "outputs": [
    {
     "name": "stdout",
     "output_type": "stream",
     "text": [
      "[[11.053892135620117, 99, 2659], [10.527321815490723, 757, 5653], [10.241874694824219, 451, 1342], [9.469478607177734, 84, 2715], [8.823227882385254, 176, 5500], [8.733474731445312, 341, 7286], [8.57863998413086, 158, 1037], [8.51498794555664, 32, 6527], [8.206207275390625, 748, 1969], [8.162208557128906, 186, 6202], [8.10352611541748, 1018, 3811], [8.00257682800293, 665, 9757], [7.9617600440979, 284, 8387], [7.916937828063965, 996, 7516], [7.8989362716674805, 34, 4679], [7.798364639282227, 76, 8403], [7.797216892242432, 214, 9910], [7.782955646514893, 523, 8259], [7.721066474914551, 119, 1328], [7.719846725463867, 461, 4224], [7.645995140075684, 208, 3216], [7.5494208335876465, 369, 7414], [7.444610595703125, 800, 6907], [7.428597450256348, 65, 3606], [7.390169143676758, 698, 4952], [7.371682167053223, 411, 8686], [7.347747802734375, 656, 9169], [7.282724857330322, 103, 6739], [7.26452112197876, 292, 5437], [7.196075916290283, 47, 7589], [7.170181751251221, 126, 2810], [7.157305717468262, 135, 4078], [7.148250102996826, 987, 4524], [7.040379524230957, 908, 5763], [6.982043266296387, 627, 749], [6.959199905395508, 19, 3004], [6.956986427307129, 469, 6706], [6.939085960388184, 360, 1255], [6.923099517822266, 236, 5412], [6.857895374298096, 681, 2495], [6.842201232910156, 93, 6966], [6.829400062561035, 162, 6592], [6.773593902587891, 428, 8412], [6.7731146812438965, 1014, 5735], [6.754363536834717, 361, 7827], [6.744342803955078, 175, 6169], [6.729672431945801, 15, 5076], [6.688533306121826, 59, 9048], [6.6684651374816895, 931, 2524], [6.645679473876953, 866, 6560], [6.633279323577881, 979, 533], [6.604374408721924, 104, 372], [6.543172359466553, 540, 4911], [6.540768623352051, 840, 4563], [6.533259868621826, 118, 4497], [6.522303581237793, 115, 8810], [6.493594169616699, 24, 2802], [6.466117858886719, 823, 4598], [6.461311340332031, 610, 820], [6.454843997955322, 644, 5259], [6.417292594909668, 888, 9801], [6.413388252258301, 202, 5479], [6.411942005157471, 34, 4154], [6.396368503570557, 20, 7784], [6.372917175292969, 254, 7189], [6.35770845413208, 640, 723], [6.3469977378845215, 96, 7991], [6.301223278045654, 473, 8326], [6.269468307495117, 815, 7051], [6.257252216339111, 475, 2198], [6.2558794021606445, 154, 7553], [6.251298904418945, 248, 2894], [6.251131534576416, 666, 6760], [6.248491287231445, 79, 6398], [6.240449905395508, 194, 1863], [6.239720344543457, 461, 6471], [6.227003574371338, 60, 637], [6.195049285888672, 282, 3886], [6.188844203948975, 200, 7253], [6.148193359375, 164, 7801], [6.1349616050720215, 659, 656], [6.128974437713623, 283, 7150], [6.1241559982299805, 304, 9140], [6.121279239654541, 640, 1033], [6.108973979949951, 147, 6593], [6.0947771072387695, 824, 1696], [6.053042411804199, 357, 8414], [6.0416178703308105, 162, 3730], [6.013930797576904, 240, 5894], [6.0117340087890625, 274, 9808], [5.987792015075684, 586, 9854], [5.97944974899292, 546, 9592], [5.9631524085998535, 345, 8584], [5.9613356590271, 940, 1003], [5.940428256988525, 295, 414], [5.905869960784912, 514, 2487], [5.905086040496826, 985, 7680], [5.904540538787842, 33, 2631], [5.900889873504639, 808, 8126], [5.900062084197998, 44, 7865], [5.89799165725708, 155, 8038], [5.888514041900635, 806, 3354], [5.887809753417969, 798, 6097], [5.867732524871826, 21, 2129], [5.83202600479126, 367, 827], [5.831812858581543, 341, 9019], [5.825995922088623, 560, 6387], [5.825355052947998, 163, 752], [5.804953098297119, 179, 6791], [5.793211460113525, 213, 6139], [5.761301517486572, 290, 1458], [5.755267143249512, 360, 343], [5.745852470397949, 244, 9398], [5.742434024810791, 310, 5669], [5.739582538604736, 907, 4758], [5.731751918792725, 714, 4551], [5.726334095001221, 249, 5583], [5.725038528442383, 81, 3703], [5.720890998840332, 458, 7054], [5.7134881019592285, 13, 5193], [5.704163551330566, 462, 3526], [5.7014617919921875, 890, 6334], [5.694581508636475, 258, 8478], [5.680689334869385, 431, 6567], [5.668667793273926, 93, 4038], [5.647299766540527, 355, 6370], [5.644648551940918, 710, 8323], [5.639767646789551, 698, 1001], [5.628779411315918, 288, 2888], [5.62711238861084, 353, 9153], [5.623798370361328, 87, 2691], [5.616805553436279, 877, 153], [5.611002445220947, 534, 9409], [5.606578826904297, 164, 7391], [5.600869178771973, 370, 6512], [5.592531681060791, 350, 3982], [5.589596271514893, 140, 9386], [5.579902172088623, 663, 9472], [5.568816184997559, 135, 176], [5.566980361938477, 140, 8872], [5.565237045288086, 177, 9438], [5.531680583953857, 170, 6001], [5.527735233306885, 714, 3013], [5.518867492675781, 20, 951], [5.518307685852051, 667, 8617], [5.512229919433594, 453, 8244], [5.485520839691162, 668, 348], [5.483692646026611, 231, 2118], [5.478670120239258, 322, 9371], [5.4637041091918945, 178, 8081], [5.457767009735107, 180, 949], [5.444726943969727, 588, 9005], [5.444030284881592, 75, 6683], [5.433056831359863, 96, 534], [5.430716514587402, 423, 8822], [5.421952724456787, 215, 5957], [5.409554481506348, 223, 94], [5.379818916320801, 449, 8114], [5.350811004638672, 567, 7573], [5.34375, 737, 1285], [5.330845832824707, 619, 7454], [5.320809841156006, 193, 5011], [5.314854145050049, 219, 1127], [5.313377857208252, 228, 6105], [5.309444904327393, 704, 4049], [5.3075642585754395, 94, 9977], [5.302892684936523, 932, 9621], [5.296969890594482, 864, 3419], [5.293581008911133, 222, 1207], [5.286139488220215, 963, 3558], [5.277279376983643, 395, 5598], [5.255096435546875, 972, 3425], [5.23502779006958, 672, 1693], [5.234506607055664, 274, 4012], [5.229216575622559, 705, 2829], [5.226058006286621, 644, 5718], [5.22550106048584, 225, 9034], [5.2214202880859375, 242, 7666], [5.218343734741211, 189, 4980], [5.200035572052002, 657, 4079], [5.196435928344727, 255, 3962], [5.186856746673584, 236, 6868], [5.1842732429504395, 885, 9282], [5.184238433837891, 266, 6313], [5.181636333465576, 514, 1197], [5.178943634033203, 219, 103], [5.17618465423584, 377, 3530], [5.170797348022461, 1006, 1366], [5.168826580047607, 677, 1842], [5.165073394775391, 827, 1462], [5.161615371704102, 687, 6061], [5.156337738037109, 305, 5313], [5.151325702667236, 264, 2797], [5.131946563720703, 291, 6041], [5.116699695587158, 363, 5828], [5.116444110870361, 157, 2650], [5.104064464569092, 265, 59], [5.091799736022949, 206, 2135], [5.0718560218811035, 699, 367], [5.0717387199401855, 409, 1361], [5.067678451538086, 353, 5973], [5.062145709991455, 529, 1511], [5.061753273010254, 631, 4288], [5.051823139190674, 127, 7653], [5.038038730621338, 822, 8389], [5.033286094665527, 28, 1065], [5.031116008758545, 949, 8967], [5.027071952819824, 339, 2854], [5.022729396820068, 787, 3845], [5.013607501983643, 167, 2247], [5.004126071929932, 514, 9875], [4.99918794631958, 386, 991], [4.997509002685547, 15, 5764], [4.9953837394714355, 266, 4776], [4.995287895202637, 397, 2417], [4.993373870849609, 381, 1735], [4.992611885070801, 323, 2535], [4.9831929206848145, 942, 3146], [4.981504917144775, 353, 2209], [4.973992347717285, 888, 2374], [4.968463897705078, 629, 9907], [4.968303203582764, 538, 6500], [4.960391521453857, 991, 5164], [4.952639102935791, 348, 9123], [4.952111721038818, 157, 2359], [4.943303108215332, 54, 7475], [4.9346442222595215, 989, 7690], [4.932308673858643, 369, 5993], [4.922228813171387, 249, 6674], [4.922176361083984, 217, 6040], [4.910106182098389, 116, 271], [4.903041839599609, 347, 9749], [4.897244930267334, 285, 1712], [4.890085220336914, 636, 2804], [4.889800548553467, 448, 191], [4.889395713806152, 126, 5810], [4.885671615600586, 534, 1655], [4.882722854614258, 123, 132], [4.869270324707031, 59, 3163], [4.866545677185059, 442, 2183], [4.864217758178711, 208, 8707], [4.846827983856201, 159, 60], [4.839070796966553, 313, 7399], [4.835836410522461, 658, 8440], [4.830069541931152, 345, 805], [4.825404167175293, 360, 6945], [4.821063041687012, 921, 9689], [4.820189476013184, 492, 5722], [4.8156256675720215, 732, 5368], [4.811168670654297, 132, 2426], [4.808453559875488, 377, 3442], [4.807218074798584, 327, 4929], [4.797425746917725, 642, 8033], [4.7907490730285645, 183, 3100], [4.783486843109131, 853, 5624], [4.773721218109131, 315, 7034], [4.772265434265137, 95, 3858], [4.7644476890563965, 63, 1664], [4.760170936584473, 276, 3095], [4.7565178871154785, 517, 1546], [4.752553462982178, 171, 4411], [4.743748188018799, 11, 7263], [4.742325782775879, 662, 662], [4.737941265106201, 482, 4958], [4.723636150360107, 330, 6911], [4.720705986022949, 111, 7456], [4.717986106872559, 278, 8929], [4.715394973754883, 215, 3147], [4.714809894561768, 173, 9464], [4.713467597961426, 159, 2962], [4.708935737609863, 188, 6427], [4.705609321594238, 447, 5272], [4.705198287963867, 157, 9161], [4.703723907470703, 140, 6521], [4.700899124145508, 677, 3685], [4.6953444480896, 257, 5529], [4.695322513580322, 77, 6580], [4.69169282913208, 73, 4191], [4.680685520172119, 733, 7955], [4.674905300140381, 828, 7092], [4.669450283050537, 386, 2996], [4.666913986206055, 21, 7687], [4.663882732391357, 292, 8495], [4.655231475830078, 193, 2285], [4.654412746429443, 751, 8898], [4.650029182434082, 158, 737], [4.645224571228027, 145, 4820], [4.642930030822754, 601, 2960], [4.642719268798828, 796, 5714], [4.642488479614258, 413, 4966], [4.641366004943848, 12, 1491], [4.636046409606934, 135, 5929], [4.632355690002441, 218, 204], [4.631269931793213, 340, 7505], [4.63100004196167, 129, 8117], [4.627493381500244, 93, 9416], [4.625129699707031, 932, 1336], [4.616514205932617, 197, 4629], [4.615903854370117, 64, 3713], [4.60956335067749, 275, 9546], [4.60222864151001, 426, 7674], [4.600885391235352, 231, 5142], [4.598268985748291, 30, 2942], [4.597799301147461, 142, 2985], [4.5944037437438965, 655, 7115], [4.5847578048706055, 308, 1601], [4.5829691886901855, 80, 7519], [4.578510284423828, 410, 9589], [4.5751237869262695, 574, 8197], [4.572061538696289, 349, 2320], [4.570387840270996, 520, 5492], [4.561270713806152, 693, 3736], [4.55950927734375, 319, 7096], [4.559457302093506, 876, 3343], [4.557093143463135, 182, 1923], [4.555691242218018, 133, 1054], [4.554642677307129, 221, 7463], [4.5543599128723145, 75, 2333], [4.549876689910889, 720, 9264], [4.548943996429443, 618, 6344], [4.5488715171813965, 157, 2140], [4.5481157302856445, 526, 9174], [4.537834167480469, 153, 4135], [4.533711910247803, 332, 7799], [4.530550956726074, 45, 4475], [4.524028778076172, 279, 7624], [4.520781993865967, 908, 9676], [4.519705295562744, 238, 9743], [4.517879009246826, 74, 2485], [4.51528263092041, 618, 1966], [4.504703521728516, 312, 6194], [4.504280090332031, 961, 2667], [4.502350807189941, 86, 6093], [4.4929680824279785, 30, 8742], [4.492288589477539, 259, 3837], [4.49061918258667, 136, 9147], [4.481284141540527, 287, 7385], [4.471900939941406, 129, 8581], [4.470557689666748, 102, 8646], [4.4692182540893555, 114, 7074], [4.467780113220215, 207, 8405], [4.460379123687744, 862, 9187], [4.459448337554932, 197, 185], [4.4593892097473145, 379, 7415], [4.4535064697265625, 724, 8023], [4.452281475067139, 527, 6780], [4.444832801818848, 420, 5883], [4.442005634307861, 84, 2614], [4.436457633972168, 130, 1551], [4.432929039001465, 182, 3390], [4.432121276855469, 104, 6405], [4.431286334991455, 145, 1880], [4.428576469421387, 418, 996], [4.428045272827148, 722, 3402], [4.425540447235107, 238, 7960], [4.422062873840332, 154, 8685], [4.407647609710693, 288, 6209], [4.403923988342285, 459, 424], [4.401983261108398, 399, 9885], [4.401704788208008, 50, 4448], [4.400592803955078, 127, 1592], [4.399951934814453, 175, 1958], [4.397764682769775, 383, 1000], [4.394692420959473, 71, 4348], [4.393279552459717, 778, 85], [4.3842453956604, 954, 842], [4.379730701446533, 33, 4566], [4.374663352966309, 346, 1257], [4.374133110046387, 65, 8800], [4.371946334838867, 49, 9646], [4.369609355926514, 115, 2687], [4.365167140960693, 864, 4145], [4.364871025085449, 255, 2031], [4.361771583557129, 279, 9240], [4.355433940887451, 93, 3887], [4.3541975021362305, 524, 8605], [4.3525495529174805, 361, 6927], [4.347062587738037, 127, 3552], [4.3438544273376465, 347, 8175], [4.3438215255737305, 458, 878], [4.343193531036377, 174, 7047], [4.335934638977051, 54, 7629], [4.334352016448975, 234, 6920], [4.334316730499268, 111, 2542], [4.333729267120361, 360, 1570], [4.330092906951904, 639, 9056], [4.329587459564209, 713, 84], [4.327593803405762, 128, 8776], [4.326653957366943, 618, 7088], [4.322314262390137, 315, 7602], [4.320954322814941, 362, 9097], [4.31889533996582, 306, 2941], [4.316623210906982, 257, 2982], [4.314631462097168, 389, 3871], [4.313599586486816, 729, 9322], [4.313335418701172, 742, 7425], [4.310698986053467, 531, 3261], [4.310601234436035, 246, 3361], [4.3097920417785645, 173, 7238], [4.308914661407471, 942, 5474], [4.303499221801758, 136, 4628], [4.300175666809082, 420, 2361], [4.297363758087158, 541, 8767], [4.297199249267578, 319, 1209], [4.296043395996094, 208, 3341], [4.295657157897949, 158, 5611], [4.290549278259277, 257, 6457], [4.289642810821533, 76, 6855], [4.289051532745361, 757, 8476], [4.283705711364746, 80, 3332], [4.281400680541992, 79, 7193], [4.277534484863281, 394, 1125], [4.275721549987793, 33, 3642], [4.272822856903076, 95, 2380], [4.269267559051514, 238, 8482], [4.26263952255249, 987, 8370], [4.260504722595215, 913, 2641], [4.251955986022949, 433, 857], [4.250028610229492, 320, 8945], [4.2490315437316895, 810, 7312], [4.24752950668335, 320, 2414], [4.246297836303711, 355, 4552], [4.244387149810791, 822, 6075], [4.244049549102783, 255, 5727], [4.241352558135986, 333, 8903], [4.237928867340088, 601, 6768], [4.237913608551025, 660, 3946], [4.234684944152832, 342, 1629], [4.233432769775391, 361, 7972], [4.230891704559326, 276, 6300], [4.230611801147461, 23, 1202], [4.229575157165527, 123, 4495], [4.228332996368408, 149, 7907], [4.227059841156006, 496, 1092], [4.226917743682861, 591, 7610], [4.2250213623046875, 550, 4665], [4.224360466003418, 76, 5804], [4.22229528427124, 861, 999], [4.219623565673828, 99, 4508], [4.218451976776123, 53, 2852], [4.21711540222168, 213, 1573], [4.21553373336792, 127, 2640], [4.215224742889404, 155, 31], [4.2146992683410645, 387, 6164], [4.214334487915039, 111, 9665], [4.210700511932373, 591, 4622], [4.210203647613525, 253, 3604], [4.200810432434082, 100, 6793], [4.197477340698242, 320, 2783], [4.196411609649658, 35, 3661], [4.195086479187012, 177, 2846], [4.194904804229736, 37, 1389], [4.192591190338135, 218, 2861], [4.1893205642700195, 538, 3915], [4.187405586242676, 408, 8320], [4.185829162597656, 691, 5945], [4.185373306274414, 227, 6940], [4.183485984802246, 748, 6073], [4.180200576782227, 754, 3017], [4.180006504058838, 157, 2869], [4.1695098876953125, 279, 9291], [4.1693243980407715, 47, 7886], [4.168898105621338, 20, 5775], [4.168729782104492, 783, 6305], [4.16595458984375, 148, 7043], [4.16285514831543, 172, 3304], [4.16116189956665, 577, 5934], [4.160451889038086, 276, 1886], [4.155126571655273, 184, 4726], [4.154083251953125, 303, 3907], [4.1536455154418945, 391, 268], [4.152725696563721, 98, 9138], [4.148998260498047, 327, 2408], [4.1489691734313965, 259, 5989], [4.146284103393555, 490, 5582], [4.145961761474609, 274, 2409], [4.138585567474365, 46, 2188], [4.13798713684082, 125, 3031], [4.13738489151001, 823, 1023], [4.133939743041992, 534, 1097], [4.132852077484131, 723, 6437], [4.132844924926758, 188, 9463], [4.129950046539307, 217, 3565], [4.128994941711426, 852, 9585], [4.126469135284424, 10, 1787], [4.124759197235107, 364, 2637], [4.12261438369751, 272, 732], [4.119668006896973, 34, 5913], [4.112453937530518, 266, 4928], [4.1121625900268555, 226, 6914], [4.108212947845459, 545, 5424], [4.104945659637451, 159, 4748], [4.104429244995117, 759, 8287], [4.099979877471924, 166, 2692], [4.098957538604736, 130, 2843], [4.095256328582764, 1003, 719], [4.095031261444092, 199, 425], [4.092965602874756, 809, 2832], [4.083931922912598, 429, 748], [4.08355188369751, 158, 4773], [4.080114841461182, 927, 1265], [4.074445724487305, 822, 3065], [4.074417591094971, 807, 9105], [4.067251682281494, 802, 6077], [4.0671844482421875, 204, 7283], [4.064497947692871, 928, 3793], [4.062241554260254, 106, 4212], [4.061923980712891, 943, 9239], [4.055331230163574, 50, 5921], [4.0552825927734375, 182, 2830], [4.052920818328857, 41, 4147], [4.052506923675537, 985, 6443], [4.044959545135498, 229, 292], [4.043606281280518, 612, 724], [4.042497158050537, 438, 4577], [4.041497230529785, 700, 7303], [4.039626121520996, 1009, 9529], [4.032231330871582, 288, 9405], [4.031999111175537, 839, 4110], [4.025585651397705, 701, 4612], [4.024453163146973, 367, 396], [4.022557735443115, 82, 7998], [4.020661354064941, 158, 6524], [4.020215034484863, 341, 8558], [4.018921375274658, 109, 5587], [4.012810230255127, 110, 235], [4.008565902709961, 901, 7231], [4.008336544036865, 94, 2527], [4.003525733947754, 907, 5229], [4.003377914428711, 341, 6845], [4.00089693069458, 165, 1912], [3.9963104724884033, 172, 6167], [3.995882511138916, 292, 8778], [3.9935224056243896, 352, 8324], [3.987266778945923, 256, 1895], [3.986525535583496, 17, 3103], [3.9862992763519287, 490, 6520], [3.984853982925415, 97, 870], [3.9838080406188965, 559, 8656], [3.983717679977417, 27, 6331], [3.983654499053955, 24, 8160], [3.9802169799804688, 669, 5604], [3.979351758956909, 763, 2917], [3.9763453006744385, 990, 3787], [3.976271152496338, 8, 9011], [3.9754798412323, 270, 4668], [3.969435214996338, 195, 6324], [3.969280958175659, 594, 7993], [3.9684135913848877, 337, 2026], [3.961088180541992, 702, 3045], [3.9610064029693604, 250, 657], [3.959132671356201, 510, 7569], [3.9578492641448975, 450, 1517], [3.9547488689422607, 495, 8897], [3.9512414932250977, 239, 8964], [3.950334310531616, 266, 9614], [3.949686050415039, 78, 2690], [3.9427382946014404, 28, 8487], [3.9422788619995117, 19, 1189], [3.9384453296661377, 106, 6779], [3.938042163848877, 509, 2816], [3.937354326248169, 973, 7952], [3.932704210281372, 151, 6951], [3.9317855834960938, 389, 4156], [3.925597906112671, 187, 7121], [3.9227311611175537, 460, 2685], [3.9220073223114014, 104, 2858], [3.919435739517212, 7, 9058], [3.9157400131225586, 38, 9018], [3.91418194770813, 405, 9813], [3.907710313796997, 207, 9714], [3.9023661613464355, 183, 6730], [3.8973708152770996, 287, 5625], [3.8969244956970215, 288, 5353], [3.8968610763549805, 258, 8413], [3.896777629852295, 450, 6229], [3.8964755535125732, 175, 7810], [3.8961102962493896, 164, 9506], [3.8914918899536133, 208, 5476], [3.8900997638702393, 26, 4589], [3.8893816471099854, 380, 7048], [3.8888936042785645, 51, 2607], [3.888758659362793, 595, 6154], [3.888751268386841, 477, 9962], [3.886012554168701, 644, 3802], [3.8733887672424316, 40, 2301], [3.871980905532837, 58, 7079], [3.8684499263763428, 277, 4621], [3.8678977489471436, 424, 7458], [3.8655123710632324, 290, 453], [3.863938331604004, 138, 8999], [3.8620846271514893, 256, 4532], [3.856722116470337, 139, 6831], [3.85526442527771, 161, 7608], [3.8541345596313477, 43, 8496], [3.853814125061035, 403, 8730], [3.849226951599121, 934, 901], [3.848923921585083, 845, 1477], [3.8479950428009033, 132, 1844], [3.8477871417999268, 478, 2922], [3.8373794555664062, 992, 2842], [3.836939573287964, 166, 1322], [3.8315629959106445, 463, 6711], [3.8306593894958496, 265, 7293], [3.829557418823242, 52, 3678], [3.8274247646331787, 432, 9148], [3.8273370265960693, 575, 6420], [3.826305866241455, 116, 6797], [3.8245410919189453, 563, 7082], [3.8239283561706543, 257, 7500], [3.8222827911376953, 718, 3334], [3.821047782897949, 262, 7656], [3.8173320293426514, 568, 2478], [3.814504861831665, 355, 1698], [3.813279151916504, 293, 9834], [3.813013792037964, 46, 9543], [3.812197685241699, 508, 5425], [3.812023162841797, 241, 8348], [3.810420274734497, 168, 4971], [3.806979179382324, 853, 9560], [3.8038740158081055, 299, 9480], [3.802609443664551, 285, 4005], [3.8005895614624023, 411, 7287], [3.796161651611328, 638, 8088], [3.7948124408721924, 43, 7317], [3.7927417755126953, 206, 9567], [3.7910077571868896, 727, 8286], [3.789271593093872, 39, 9259], [3.7870359420776367, 104, 5246], [3.786541700363159, 214, 8616], [3.785813331604004, 252, 7089], [3.7849369049072266, 950, 3881], [3.7845919132232666, 226, 5518], [3.7807366847991943, 121, 8843], [3.7791779041290283, 269, 7942], [3.7790544033050537, 444, 1603], [3.7780637741088867, 526, 7574], [3.7780494689941406, 33, 2398], [3.7780442237854004, 169, 6296], [3.777477979660034, 489, 7448], [3.77327561378479, 42, 9498], [3.771209955215454, 458, 9471], [3.766913414001465, 833, 7212], [3.7663183212280273, 241, 8135], [3.7657580375671387, 881, 3076], [3.7655553817749023, 277, 6755], [3.7647135257720947, 154, 3481], [3.763043165206909, 430, 4345], [3.760633945465088, 75, 9129], [3.758906841278076, 223, 3006], [3.7574801445007324, 255, 4741], [3.7553536891937256, 345, 4627], [3.7503721714019775, 545, 6905], [3.7488856315612793, 635, 962], [3.747856616973877, 375, 385], [3.746636390686035, 483, 2790], [3.7455246448516846, 212, 7065], [3.744420289993286, 989, 1930], [3.744351863861084, 159, 7138], [3.743403911590576, 247, 5150], [3.7391645908355713, 880, 9852], [3.7373037338256836, 671, 8110], [3.7371652126312256, 185, 2308], [3.7369890213012695, 617, 8561], [3.7361462116241455, 70, 1132], [3.7311060428619385, 794, 726], [3.730647563934326, 957, 3571], [3.729940176010132, 186, 4597], [3.7292730808258057, 290, 358], [3.7282485961914062, 242, 3268], [3.727722644805908, 251, 750], [3.7274293899536133, 486, 862], [3.727099657058716, 157, 7512], [3.7254955768585205, 367, 5893], [3.724957227706909, 1004, 2344], [3.724362850189209, 365, 7806], [3.7225377559661865, 111, 4711], [3.721407890319824, 57, 1820], [3.720050811767578, 510, 710], [3.7192816734313965, 144, 4965], [3.7188172340393066, 68, 4680], [3.7166647911071777, 309, 1661], [3.7151715755462646, 243, 8296], [3.713202714920044, 78, 5998], [3.712331771850586, 824, 104], [3.711941957473755, 288, 3888], [3.711730480194092, 24, 8204], [3.705456495285034, 384, 2626], [3.704289197921753, 223, 6619], [3.702815294265747, 68, 777], [3.7027010917663574, 178, 7204], [3.702563762664795, 105, 2223], [3.6997413635253906, 343, 8420], [3.696425199508667, 70, 8502], [3.6964166164398193, 165, 1031], [3.6933627128601074, 346, 8498], [3.692058801651001, 191, 4127], [3.689502000808716, 285, 9389], [3.6894655227661133, 458, 7461], [3.688062906265259, 116, 940], [3.6856350898742676, 116, 4491], [3.684633493423462, 12, 4850], [3.683077335357666, 382, 2226], [3.6826236248016357, 554, 106], [3.6814677715301514, 517, 8242], [3.678293228149414, 64, 7370], [3.6774275302886963, 242, 5264], [3.675109386444092, 148, 6803], [3.673311233520508, 101, 8576], [3.6731271743774414, 913, 4150], [3.672602653503418, 166, 1796], [3.6721463203430176, 37, 7944], [3.6693711280822754, 352, 3698], [3.6687164306640625, 333, 9781], [3.664841890335083, 366, 9119], [3.663801670074463, 232, 8570], [3.6617045402526855, 434, 3943], [3.661022186279297, 883, 3782], [3.6607606410980225, 248, 2759], [3.654001235961914, 752, 4350], [3.6515533924102783, 455, 232], [3.6472949981689453, 443, 9631], [3.6463475227355957, 644, 3436], [3.6459901332855225, 78, 5245], [3.645876407623291, 427, 7853], [3.645460367202759, 736, 2955], [3.6422085762023926, 424, 6771], [3.641231060028076, 858, 1293], [3.6396048069000244, 259, 4765], [3.6393487453460693, 615, 5103], [3.635960578918457, 198, 6043], [3.6359403133392334, 550, 1178], [3.6356635093688965, 231, 5485], [3.6352460384368896, 939, 2801], [3.635223865509033, 72, 3385], [3.634004592895508, 562, 9789], [3.633024215698242, 204, 568], [3.6323628425598145, 397, 9183], [3.627110242843628, 153, 2009], [3.6255810260772705, 929, 6191], [3.6250064373016357, 588, 8670], [3.6228466033935547, 361, 3784], [3.6227221488952637, 531, 8203], [3.622446298599243, 593, 5092], [3.6223831176757812, 523, 6785], [3.6197450160980225, 103, 490], [3.619708776473999, 189, 8969], [3.619685173034668, 311, 2358], [3.618687152862549, 281, 1282], [3.6177334785461426, 154, 6599], [3.6159348487854004, 17, 4584], [3.61494779586792, 252, 7186], [3.614902973175049, 49, 8289], [3.6141812801361084, 500, 190], [3.612292766571045, 314, 8206], [3.611612558364868, 217, 8507], [3.6106488704681396, 996, 9450], [3.6066653728485107, 118, 774], [3.6052746772766113, 116, 2076], [3.6032068729400635, 221, 7272], [3.6027121543884277, 55, 9316], [3.6015241146087646, 16, 264], [3.6015241146087646, 16, 1129], [3.6015241146087646, 16, 1434], [3.6002767086029053, 26, 2181], [3.5974581241607666, 784, 4802], [3.596712589263916, 983, 7342], [3.5946152210235596, 264, 9110], [3.5945379734039307, 112, 7072], [3.593224048614502, 608, 3015], [3.5920512676239014, 23, 5690], [3.5909252166748047, 479, 3617], [3.5894815921783447, 202, 9739], [3.588657855987549, 288, 5578], [3.587944269180298, 203, 5605], [3.5856094360351562, 423, 8354], [3.584557056427002, 126, 1163], [3.584301710128784, 452, 1513], [3.581536293029785, 330, 9990], [3.5797348022460938, 650, 4722], [3.579361915588379, 248, 8890], [3.5792863368988037, 986, 8733], [3.5780909061431885, 334, 7422], [3.5777928829193115, 222, 2937], [3.575812816619873, 731, 447], [3.5712461471557617, 1009, 9257], [3.5701608657836914, 358, 318], [3.568821668624878, 121, 7326], [3.5687808990478516, 456, 3832], [3.5672757625579834, 290, 9443], [3.56699800491333, 137, 1234], [3.5667412281036377, 304, 3005], [3.566532850265503, 520, 6327], [3.566368341445923, 148, 5109], [3.5662527084350586, 374, 702], [3.5655124187469482, 229, 484], [3.565309524536133, 102, 6342], [3.5633373260498047, 180, 8689], [3.5627779960632324, 577, 4721], [3.562685489654541, 116, 2510], [3.56257700920105, 110, 2904], [3.561798572540283, 719, 6172], [3.5567634105682373, 651, 7578], [3.5565617084503174, 63, 8846], [3.5554306507110596, 32, 3035], [3.553576946258545, 161, 1606], [3.552154779434204, 35, 6906], [3.550845146179199, 162, 8788], [3.5485405921936035, 472, 6772], [3.547720432281494, 164, 3445], [3.547041416168213, 134, 1849], [3.5469822883605957, 700, 4254], [3.546872615814209, 82, 8848], [3.5452706813812256, 119, 4433], [3.544321298599243, 199, 2016], [3.5441274642944336, 684, 4999], [3.542442560195923, 603, 6197], [3.540510416030884, 957, 6072], [3.5390565395355225, 47, 6089], [3.538700580596924, 473, 1558], [3.537381410598755, 173, 6442], [3.5366740226745605, 819, 729], [3.5364675521850586, 359, 6083], [3.535849094390869, 354, 7577], [3.534787893295288, 68, 8431], [3.5340735912323, 91, 5397], [3.533522605895996, 464, 7815], [3.5302398204803467, 359, 7704], [3.529533863067627, 278, 1520], [3.5290002822875977, 294, 4762], [3.528975248336792, 483, 7410], [3.526376962661743, 118, 6102], [3.5250909328460693, 852, 6594], [3.5245304107666016, 212, 4478], [3.523784637451172, 148, 8437], [3.52317214012146, 696, 2073], [3.52246356010437, 336, 5940], [3.5222718715667725, 465, 3524], [3.5222415924072266, 417, 8161], [3.517667293548584, 400, 9185], [3.517280101776123, 194, 8359], [3.5164225101470947, 508, 4336], [3.5139522552490234, 6, 5404], [3.512554168701172, 729, 8614], [3.5116801261901855, 42, 4893], [3.509260654449463, 351, 41], [3.509040355682373, 320, 6007], [3.508702516555786, 724, 7091], [3.5084481239318848, 80, 4505], [3.507331371307373, 98, 3778], [3.506552219390869, 151, 4034], [3.503777265548706, 118, 4181], [3.503631591796875, 775, 989], [3.5022010803222656, 48, 6715], [3.4997501373291016, 264, 7398], [3.4953410625457764, 553, 1914], [3.494410753250122, 161, 2540], [3.4904515743255615, 179, 5951], [3.489102363586426, 773, 6482], [3.4853456020355225, 35, 1971], [3.4824843406677246, 548, 9266], [3.482247829437256, 457, 9837], [3.4813554286956787, 445, 5572], [3.481041193008423, 328, 4512], [3.4781405925750732, 361, 7564], [3.478106737136841, 809, 4767], [3.4768595695495605, 185, 3774], [3.474566698074341, 220, 9092], [3.474456310272217, 73, 2193], [3.472557306289673, 791, 4189], [3.470924139022827, 732, 3184], [3.4699342250823975, 44, 2164], [3.4681925773620605, 154, 3120], [3.467644453048706, 80, 1045], [3.464773654937744, 614, 2142], [3.4618515968322754, 153, 3574], [3.4609718322753906, 966, 7581], [3.4600181579589844, 1012, 4134], [3.458822011947632, 518, 4895], [3.4573614597320557, 123, 8179], [3.4561965465545654, 964, 7733], [3.455641746520996, 953, 6504], [3.4554014205932617, 5, 5600], [3.454258680343628, 835, 497], [3.4532952308654785, 260, 3716], [3.452529191970825, 170, 9145], [3.451465606689453, 928, 7118], [3.446094512939453, 297, 7583], [3.4460673332214355, 131, 1566], [3.445180892944336, 995, 1866], [3.444929838180542, 919, 9867], [3.444697618484497, 172, 3089], [3.4419384002685547, 323, 2901], [3.441351890563965, 139, 526], [3.439357042312622, 51, 6012], [3.439344644546509, 384, 8337], [3.4391682147979736, 110, 8553], [3.438208818435669, 187, 7352], [3.4363279342651367, 34, 770], [3.43054461479187, 322, 6944], [3.4295449256896973, 150, 7176], [3.426903247833252, 569, 202], [3.4237630367279053, 282, 1960], [3.4234390258789062, 40, 5155], [3.4228174686431885, 250, 8090], [3.421013593673706, 444, 9920], [3.4201269149780273, 634, 5317], [3.419038772583008, 643, 4168], [3.4150705337524414, 295, 9989], [3.413759231567383, 230, 3657], [3.412597417831421, 239, 4283], [3.410480260848999, 309, 5692], [3.410189390182495, 164, 6679], [3.409647226333618, 492, 3339], [3.4088504314422607, 262, 9706], [3.40669584274292, 792, 8388], [3.406477212905884, 829, 2992], [3.4020135402679443, 958, 8857], [3.4000072479248047, 634, 8751], [3.3977184295654297, 262, 5117], [3.3947830200195312, 525, 9358], [3.3944222927093506, 461, 2591], [3.39382004737854, 267, 6289], [3.393507242202759, 192, 6564], [3.392085075378418, 553, 1722], [3.3896913528442383, 171, 8404], [3.3884167671203613, 101, 907], [3.3874642848968506, 626, 9348], [3.3863227367401123, 182, 4752], [3.3862929344177246, 576, 1602], [3.386164426803589, 530, 3859], [3.3855628967285156, 824, 4148], [3.3850021362304688, 343, 7445], [3.3839757442474365, 920, 9073], [3.3839616775512695, 42, 3370], [3.383575916290283, 198, 4661], [3.3833701610565186, 826, 8156], [3.381211042404175, 383, 9716], [3.380704402923584, 129, 7011], [3.3775365352630615, 420, 161], [3.3774771690368652, 555, 7914], [3.376697540283203, 704, 7954], [3.375049591064453, 492, 2964], [3.3744864463806152, 811, 8734], [3.374113082885742, 74, 4366], [3.373659372329712, 24, 3757], [3.370795726776123, 419, 5021], [3.3705782890319824, 125, 6159], [3.3693275451660156, 461, 8506], [3.369230031967163, 127, 2628], [3.368765115737915, 104, 2431], [3.368662118911743, 115, 2519], [3.3644888401031494, 643, 3294], [3.3642845153808594, 253, 2296], [3.363755464553833, 543, 6721], [3.3622641563415527, 540, 9280], [3.36077880859375, 671, 338], [3.36010479927063, 252, 4070], [3.358516216278076, 475, 3175], [3.3582637310028076, 902, 3710], [3.358212471008301, 190, 5443], [3.353736639022827, 1010, 2491], [3.3534302711486816, 29, 6185], [3.3513591289520264, 123, 5822], [3.35028076171875, 319, 8424], [3.3492655754089355, 234, 6261], [3.3489763736724854, 107, 8151], [3.348339796066284, 176, 2891], [3.347665309906006, 186, 5438], [3.3466200828552246, 900, 4390], [3.342341184616089, 228, 2038], [3.3417699337005615, 51, 6833], [3.3412961959838867, 638, 130], [3.341219902038574, 104, 4632], [3.338113784790039, 551, 2862], [3.3351452350616455, 332, 4610], [3.3332653045654297, 963, 1565], [3.333207607269287, 152, 5488], [3.3324849605560303, 64, 2885], [3.3278584480285645, 189, 4539], [3.326512575149536, 384, 8588], [3.326141834259033, 21, 9253], [3.3258819580078125, 95, 5869], [3.3233988285064697, 408, 9375], [3.3231430053710938, 340, 8719], [3.322948932647705, 41, 9908], [3.3208389282226562, 570, 1335], [3.3192732334136963, 724, 6698], [3.3187637329101562, 276, 2300], [3.318720817565918, 508, 7882], [3.3183302879333496, 633, 1279], [3.317462682723999, 374, 7174], [3.312563180923462, 754, 3480], [3.3125240802764893, 380, 2645], [3.3123114109039307, 67, 5470], [3.3115394115448, 28, 5172], [3.311382532119751, 865, 9629], [3.310532331466675, 237, 4682], [3.30893611907959, 572, 6897], [3.308881998062134, 136, 6877], [3.308823585510254, 555, 371], [3.308742046356201, 114, 1253], [3.308471918106079, 820, 4340], [3.30800199508667, 545, 7590], [3.306123971939087, 146, 2342], [3.3058841228485107, 106, 8680], [3.302905321121216, 295, 7855], [3.301805257797241, 890, 3847], [3.2970900535583496, 37, 8782], [3.2964255809783936, 175, 2049], [3.296180009841919, 536, 9857], [3.2955996990203857, 977, 3441], [3.2954812049865723, 964, 6502], [3.2938613891601562, 179, 8855], [3.2924818992614746, 624, 8784], [3.291919708251953, 71, 8262], [3.2917356491088867, 685, 8177], [3.29101300239563, 399, 1423], [3.289649248123169, 596, 9712], [3.2878918647766113, 150, 7169], [3.2874200344085693, 137, 5047], [3.2873713970184326, 168, 5036], [3.286553382873535, 111, 1549], [3.2836828231811523, 8, 4897], [3.2836196422576904, 71, 1561], [3.282144784927368, 526, 2720], [3.280430316925049, 239, 2337], [3.2791144847869873, 80, 1290], [3.2787654399871826, 363, 4019], [3.2785251140594482, 68, 1058], [3.276878833770752, 474, 2469], [3.2762484550476074, 279, 2411], [3.2759804725646973, 210, 270], [3.2747323513031006, 217, 3566], [3.2745041847229004, 177, 3874], [3.272960901260376, 168, 9574], [3.2710046768188477, 80, 4082], [3.2706758975982666, 241, 4089], [3.270465850830078, 36, 3331], [3.269260883331299, 88, 4892], [3.2683167457580566, 282, 7630], [3.267421245574951, 178, 6696], [3.266813039779663, 898, 3890], [3.264976978302002, 762, 6950], [3.2647042274475098, 203, 8347], [3.2642314434051514, 38, 9021], [3.26387882232666, 521, 6565], [3.263542890548706, 261, 3731], [3.260138511657715, 291, 478], [3.258716344833374, 128, 9428], [3.257295608520508, 513, 4677], [3.255915403366089, 495, 6734], [3.2557566165924072, 931, 1299], [3.255603551864624, 606, 3032], [3.2542636394500732, 218, 5376], [3.2533833980560303, 365, 8997], [3.253142833709717, 23, 1448], [3.250535726547241, 723, 3469], [3.2504944801330566, 892, 6180], [3.248528003692627, 58, 8190], [3.2484347820281982, 199, 4518], [3.2483327388763428, 188, 8095], [3.248014450073242, 107, 6884], [3.2473304271698, 847, 8874], [3.245943069458008, 80, 4035], [3.245297431945801, 39, 3514], [3.2452969551086426, 768, 4073], [3.2452805042266846, 32, 1188], [3.2444427013397217, 428, 4688], [3.243807554244995, 897, 8679], [3.2419607639312744, 71, 6025], [3.240150213241577, 448, 5933], [3.238684892654419, 315, 4076], [3.2382822036743164, 792, 529], [3.2355782985687256, 129, 734], [3.2331323623657227, 491, 9799], [3.233065366744995, 130, 3650], [3.2319514751434326, 147, 7179], [3.2314453125, 172, 6297], [3.2291579246520996, 51, 8200], [3.2288966178894043, 501, 291], [3.2288029193878174, 849, 1830], [3.2274343967437744, 155, 6866], [3.227429151535034, 88, 4738], [3.226060390472412, 697, 9487], [3.2236030101776123, 218, 6939], [3.223085403442383, 540, 2499], [3.2225451469421387, 572, 5972], [3.2223291397094727, 340, 5118], [3.221292018890381, 364, 7300], [3.220696449279785, 38, 5923], [3.2195725440979004, 960, 6540], [3.219148874282837, 816, 7225], [3.2172913551330566, 78, 144], [3.2169294357299805, 222, 8230], [3.21535062789917, 554, 6477], [3.210629463195801, 826, 868], [3.2091948986053467, 434, 4723], [3.2088072299957275, 363, 2932], [3.208631992340088, 168, 3584], [3.2076640129089355, 55, 6116], [3.2073261737823486, 1017, 7917], [3.205360174179077, 55, 377], [3.2045114040374756, 258, 4246], [3.2013285160064697, 186, 8032], [3.2000467777252197, 529, 8362], [3.198580265045166, 345, 7202], [3.1985509395599365, 363, 8905], [3.1971311569213867, 30, 589], [3.1959750652313232, 454, 197], [3.195396661758423, 57, 4176], [3.1951050758361816, 117, 6282], [3.1948721408843994, 478, 1280], [3.1933398246765137, 266, 3505], [3.1932876110076904, 164, 3938], [3.1921164989471436, 204, 954], [3.1907527446746826, 92, 1707], [3.189116954803467, 286, 6515], [3.1877315044403076, 258, 4100], [3.1874241828918457, 345, 2792], [3.1871628761291504, 76, 6983], [3.1870779991149902, 115, 5628], [3.184941291809082, 183, 7885], [3.183590888977051, 351, 473], [3.183366060256958, 1000, 8513], [3.182828426361084, 556, 304], [3.1824162006378174, 110, 2248], [3.1817736625671387, 42, 8700], [3.180691957473755, 119, 524], [3.177624225616455, 124, 4547], [3.1769137382507324, 186, 2397], [3.176868438720703, 810, 3150], [3.1768312454223633, 184, 4797], [3.1764726638793945, 371, 2173], [3.1757946014404297, 850, 4136], [3.1747701168060303, 240, 6352], [3.174259901046753, 276, 8168], [3.172661781311035, 199, 485], [3.170356273651123, 358, 8647], [3.170130729675293, 235, 7004], [3.169813632965088, 65, 2713], [3.169631242752075, 288, 5618], [3.1687862873077393, 109, 4944], [3.167734146118164, 689, 4451], [3.166877031326294, 21, 3868], [3.166292667388916, 186, 5325], [3.1661489009857178, 81, 1745], [3.166053533554077, 181, 1452], [3.164503574371338, 93, 4592], [3.1642634868621826, 757, 8314], [3.1634714603424072, 218, 6161], [3.1633617877960205, 156, 5841], [3.162567377090454, 507, 2264], [3.1615447998046875, 328, 329], [3.161048650741577, 228, 6989], [3.1598923206329346, 242, 3682], [3.1579461097717285, 636, 5416], [3.1572248935699463, 1007, 6240], [3.1566176414489746, 204, 391], [3.1542091369628906, 358, 1850], [3.1539719104766846, 133, 9667], [3.152998447418213, 51, 5305], [3.1526989936828613, 217, 5798], [3.1511523723602295, 656, 4981], [3.150797128677368, 976, 5210], [3.1497724056243896, 486, 2680], [3.1465351581573486, 230, 4171], [3.143183708190918, 239, 6287], [3.142321825027466, 808, 1782], [3.141671895980835, 191, 4023], [3.1403496265411377, 464, 6922], [3.1395821571350098, 206, 4763], [3.137925863265991, 896, 7774], [3.137732744216919, 74, 4710], [3.1366167068481445, 76, 1099], [3.136362314224243, 209, 9235], [3.135554552078247, 258, 2787], [3.1355419158935547, 88, 5314], [3.1344926357269287, 616, 2565], [3.133244514465332, 182, 323], [3.132676124572754, 698, 9276], [3.1323933601379395, 403, 6250], [3.1320385932922363, 650, 2061], [3.1309428215026855, 317, 1356], [3.1273000240325928, 256, 2274], [3.1256489753723145, 225, 2210], [3.1256418228149414, 191, 3123], [3.1255786418914795, 73, 3629], [3.1242544651031494, 35, 3235], [3.123929977416992, 537, 29], [3.1234350204467773, 132, 8659], [3.1212143898010254, 236, 7770], [3.1198413372039795, 154, 6912], [3.1187593936920166, 703, 493], [3.117215394973755, 888, 7898], [3.1167044639587402, 452, 5988], [3.1164283752441406, 19, 3228], [3.115687847137451, 783, 3911], [3.1153736114501953, 270, 8632], [3.113524913787842, 246, 5106], [3.113191604614258, 86, 7732], [3.1106414794921875, 230, 7208], [3.108578681945801, 346, 4099], [3.108290195465088, 14, 6373], [3.1068363189697266, 237, 1112], [3.1062092781066895, 312, 3010], [3.105813503265381, 67, 7981], [3.105297565460205, 348, 9151], [3.1049065589904785, 453, 2825], [3.1030235290527344, 332, 6302], [3.102130174636841, 245, 5931], [3.100452184677124, 231, 6345], [3.099928855895996, 333, 7346], [3.0962512493133545, 200, 5558], [3.0961883068084717, 514, 275], [3.0955023765563965, 59, 4107], [3.0951240062713623, 348, 2511], [3.09503436088562, 261, 7203], [3.0930228233337402, 125, 1611], [3.0908517837524414, 517, 5845], [3.0898830890655518, 811, 3641], [3.089569568634033, 281, 6942], [3.0887365341186523, 646, 7095], [3.0873515605926514, 753, 2856], [3.0870161056518555, 414, 5339], [3.0862343311309814, 69, 503], [3.081051826477051, 83, 9571], [3.080918788909912, 116, 289], [3.080855369567871, 79, 8550], [3.080554246902466, 440, 5237], [3.0800914764404297, 165, 1987], [3.0789685249328613, 137, 7284], [3.07893967628479, 188, 3357], [3.0786187648773193, 772, 7341], [3.078350305557251, 152, 6671], [3.0760765075683594, 653, 403], [3.0731441974639893, 182, 3521], [3.073026657104492, 206, 6900], [3.07248592376709, 586, 8937], [3.071930170059204, 962, 4144], [3.071316719055176, 256, 441], [3.0699217319488525, 916, 4835], [3.0687665939331055, 121, 1557], [3.068566083908081, 571, 5968], [3.0668585300445557, 306, 9756], [3.0650177001953125, 218, 451], [3.0623772144317627, 281, 4904], [3.0617144107818604, 178, 655], [3.0611331462860107, 678, 5115], [3.0606424808502197, 17, 1367], [3.0605850219726562, 813, 5700], [3.0601489543914795, 790, 8433], [3.059251308441162, 341, 3567], [3.0572266578674316, 858, 9054], [3.0564823150634766, 842, 218], [3.0559284687042236, 282, 9542], [3.0555684566497803, 375, 1283], [3.055311918258667, 786, 5521], [3.0521342754364014, 232, 7329], [3.0520918369293213, 382, 9414], [3.052077054977417, 970, 7556], [3.051163673400879, 667, 2660], [3.0497753620147705, 414, 1382], [3.0493102073669434, 297, 1532], [3.0483574867248535, 188, 5027], [3.0472633838653564, 459, 2763], [3.0472559928894043, 83, 456], [3.0469915866851807, 114, 6341], [3.0469555854797363, 48, 1474], [3.043154001235962, 250, 5318], [3.0425753593444824, 427, 3773], [3.0425596237182617, 143, 1414], [3.0406112670898438, 523, 8501], [3.0398402214050293, 234, 6100], [3.0396358966827393, 444, 2197], [3.0384180545806885, 201, 649], [3.037381649017334, 326, 2152], [3.03713059425354, 150, 4373], [3.0362436771392822, 281, 3613], [3.0339407920837402, 562, 1198], [3.033252716064453, 69, 8813], [3.0330464839935303, 610, 4440], [3.032421112060547, 555, 9439], [3.032374143600464, 41, 3828], [3.029709815979004, 183, 8392], [3.0279107093811035, 341, 1225], [3.0271172523498535, 319, 4883], [3.0257275104522705, 291, 6238], [3.0248899459838867, 378, 3522], [3.023792266845703, 471, 4471], [3.02010440826416, 356, 5716], [3.0173280239105225, 463, 5638], [3.017063617706299, 217, 6634], [3.016510486602783, 225, 7452], [3.0162599086761475, 388, 6350], [3.0161149501800537, 726, 3376], [3.016113519668579, 406, 8580], [3.012507438659668, 299, 1737], [3.0118181705474854, 121, 1113], [3.0114402770996094, 426, 5231], [3.011394739151001, 41, 2092], [3.011173963546753, 411, 2592], [3.0100901126861572, 107, 6921], [3.008079767227173, 415, 8469], [3.0078113079071045, 530, 8061], [3.0068345069885254, 83, 8859], [3.006679058074951, 137, 3929], [3.006401300430298, 41, 4113], [3.0053658485412598, 327, 412], [3.0047268867492676, 256, 8234], [3.0044291019439697, 53, 2505], [3.0038719177246094, 607, 3388], [3.0032265186309814, 892, 706], [3.003023862838745, 102, 4392], [3.0013771057128906, 113, 1970], [3.0009758472442627, 696, 1877], [3.000225782394409, 274, 2976], [2.999680280685425, 296, 8590], [2.998906373977661, 407, 3061], [2.9963719844818115, 1019, 9933], [2.995654344558716, 174, 9838], [2.9945695400238037, 96, 4602], [2.9940576553344727, 34, 8705], [2.993666648864746, 264, 5319], [2.993546485900879, 190, 9465], [2.9934184551239014, 336, 3344], [2.9924259185791016, 290, 2137], [2.9922268390655518, 162, 2366], [2.992051124572754, 116, 3956], [2.990614414215088, 256, 1921], [2.9905214309692383, 906, 1997], [2.989903211593628, 137, 1215], [2.9887943267822266, 158, 1901], [2.9874236583709717, 7, 7073], [2.9863362312316895, 238, 4214], [2.9854750633239746, 202, 7838], [2.9841248989105225, 834, 4126], [2.981898546218872, 267, 7106], [2.98187255859375, 176, 3394], [2.979757308959961, 936, 7841], [2.9780521392822266, 775, 6074], [2.977592945098877, 229, 294], [2.9759061336517334, 165, 8512], [2.9743871688842773, 664, 4922], [2.9736745357513428, 189, 4989], [2.9734067916870117, 802, 8297], [2.9732468128204346, 61, 3644], [2.972525119781494, 802, 1607], [2.9719159603118896, 410, 9165], [2.970959424972534, 379, 8466], [2.9708518981933594, 233, 7421], [2.9706430435180664, 43, 3934], [2.970582962036133, 405, 1467], [2.96852445602417, 189, 3266], [2.9682669639587402, 100, 1469], [2.9680771827697754, 486, 2259], [2.967087984085083, 37, 8896], [2.966574192047119, 484, 3515], [2.965916872024536, 53, 3468], [2.965420722961426, 105, 9413], [2.9644718170166016, 157, 5537], [2.9640274047851562, 415, 9565], [2.963733434677124, 368, 4192], [2.9632651805877686, 423, 4540], [2.9627652168273926, 631, 3148], [2.9626543521881104, 487, 6648], [2.9618563652038574, 633, 4574], [2.961104393005371, 243, 7757], [2.9607412815093994, 102, 2116], [2.960355520248413, 118, 955], [2.9602653980255127, 171, 7381], [2.9596168994903564, 107, 9121], [2.9590749740600586, 350, 9328], [2.959064483642578, 75, 3739], [2.9585750102996826, 216, 9618], [2.958165407180786, 192, 7246], [2.9571831226348877, 45, 4699], [2.9553892612457275, 328, 8926], [2.953124761581421, 91, 7785], [2.9527907371520996, 240, 3600], [2.952744245529175, 197, 5771], [2.9518604278564453, 96, 5916], [2.951758861541748, 243, 3460], [2.9516868591308594, 51, 7647], [2.95078182220459, 274, 4272], [2.9499969482421875, 135, 6559], [2.9481217861175537, 653, 8490], [2.9471499919891357, 586, 8007], [2.9468367099761963, 225, 6493], [2.9466826915740967, 26, 4650], [2.9463090896606445, 708, 6781], [2.9463086128234863, 140, 1216], [2.946098566055298, 117, 1810], [2.94561767578125, 428, 6643], [2.9453213214874268, 280, 5872], [2.945155143737793, 603, 941], [2.944136619567871, 363, 8217], [2.9427857398986816, 184, 5203], [2.9404118061065674, 30, 2897], [2.934741973876953, 156, 4470], [2.934584140777588, 110, 8093], [2.934297561645508, 72, 768], [2.934196949005127, 492, 2526], [2.9327924251556396, 442, 8852], [2.9320242404937744, 515, 200], [2.93117094039917, 460, 2710], [2.931058406829834, 47, 7649], [2.929344654083252, 753, 2450], [2.928964614868164, 71, 164], [2.928934097290039, 1000, 5769], [2.927703857421875, 35, 899], [2.9272069931030273, 42, 588], [2.9269378185272217, 905, 5186], [2.9260244369506836, 536, 745], [2.9242866039276123, 453, 9606], [2.923069477081299, 381, 7068], [2.921323776245117, 199, 2987], [2.9194517135620117, 223, 8335], [2.9189088344573975, 647, 5824], [2.9180924892425537, 404, 9182], [2.916858434677124, 154, 6259], [2.916666269302368, 384, 2639], [2.9151430130004883, 84, 8477], [2.9149229526519775, 363, 6836], [2.9141526222229004, 100, 4603], [2.9139885902404785, 170, 7867], [2.91387677192688, 848, 256], [2.913612127304077, 230, 7432], [2.9124562740325928, 243, 1703], [2.90909481048584, 298, 5390], [2.9088332653045654, 178, 7143], [2.9084744453430176, 536, 8144], [2.9077675342559814, 71, 4201], [2.9064619541168213, 55, 4309], [2.9062273502349854, 860, 6376], [2.905886173248291, 570, 6243], [2.905766725540161, 644, 5740], [2.90513277053833, 727, 7695], [2.904754877090454, 205, 6700], [2.904737710952759, 198, 4219], [2.9047040939331055, 267, 3479], [2.9040980339050293, 37, 8321], [2.902750015258789, 64, 9306], [2.899554491043091, 494, 8480], [2.899411201477051, 81, 8299], [2.898077964782715, 28, 2989], [2.895975351333618, 281, 77], [2.895575523376465, 292, 5498], [2.89517879486084, 688, 5874], [2.894632339477539, 530, 2454], [2.8924474716186523, 397, 7789], [2.8898885250091553, 65, 5680], [2.889592409133911, 189, 4479], [2.889486074447632, 99, 6667], [2.8883566856384277, 43, 2420], [2.8866045475006104, 279, 8933], [2.886310338973999, 123, 5187], [2.885294198989868, 234, 5644], [2.884323835372925, 319, 2954], [2.8836617469787598, 203, 3643], [2.8828022480010986, 88, 6659], [2.882307291030884, 187, 376], [2.8810579776763916, 650, 9956], [2.8810267448425293, 770, 4098], [2.8794028759002686, 89, 2338], [2.87927508354187, 721, 1039], [2.8777477741241455, 131, 3083], [2.877067804336548, 811, 7438], [2.8768608570098877, 449, 7450], [2.8763010501861572, 207, 5066], [2.876197338104248, 97, 4858], [2.8754165172576904, 303, 4782], [2.8750696182250977, 313, 7295], [2.8738596439361572, 466, 2179], [2.873612403869629, 210, 2178], [2.8725240230560303, 417, 8569], [2.8720345497131348, 171, 2896], [2.8717257976531982, 316, 9411], [2.87064266204834, 66, 1007], [2.8685450553894043, 303, 897], [2.868119955062866, 592, 5202], [2.8679869174957275, 907, 5610], [2.867933511734009, 579, 2809], [2.8679137229919434, 443, 4418], [2.8679027557373047, 948, 871], [2.8676719665527344, 569, 9051], [2.8673479557037354, 407, 3780], [2.865341901779175, 101, 9539], [2.8639252185821533, 683, 2686], [2.8638248443603516, 537, 8360], [2.8634274005889893, 253, 3875], [2.8628907203674316, 301, 8193], [2.8627078533172607, 368, 7606], [2.8625383377075195, 399, 3465], [2.8613831996917725, 67, 6187], [2.8606793880462646, 419, 1192], [2.859450340270996, 810, 7108], [2.85907244682312, 788, 7187], [2.858450412750244, 641, 5085], [2.857992172241211, 166, 229], [2.8575525283813477, 134, 5191], [2.857349395751953, 1002, 6979], [2.8560616970062256, 307, 7025], [2.8544797897338867, 119, 2584], [2.8517839908599854, 186, 9785], [2.850031852722168, 32, 9315], [2.8500113487243652, 508, 3302], [2.849679470062256, 324, 6656], [2.847893476486206, 710, 2971], [2.8474740982055664, 433, 880], [2.8463876247406006, 579, 9116], [2.8463547229766846, 113, 3771], [2.845111131668091, 661, 1483], [2.844952344894409, 54, 4182], [2.8446388244628906, 100, 1094], [2.843306064605713, 157, 518], [2.8418753147125244, 582, 4656], [2.841639518737793, 179, 7970], [2.8414292335510254, 226, 867], [2.8410468101501465, 472, 1729], [2.840881109237671, 958, 517], [2.8402700424194336, 833, 9098], [2.840264081954956, 105, 5247], [2.8390443325042725, 43, 3255], [2.839040756225586, 986, 5970], [2.8389956951141357, 11, 6629], [2.838644504547119, 522, 0], [2.8379828929901123, 179, 5493], [2.8376896381378174, 297, 5865], [2.837160348892212, 189, 1206], [2.8362009525299072, 28, 2384], [2.835568904876709, 211, 6811], [2.8353400230407715, 117, 4021], [2.8349173069000244, 230, 4949], [2.832690477371216, 547, 2947], [2.8313682079315186, 160, 5579], [2.831181287765503, 449, 2139], [2.831098794937134, 245, 3533], [2.830887794494629, 122, 6257], [2.8307695388793945, 172, 4132], [2.8302454948425293, 166, 5435], [2.8294928073883057, 189, 4948], [2.82948899269104, 260, 7621], [2.828550338745117, 39, 7377], [2.828183889389038, 223, 762], [2.8281071186065674, 740, 4719], [2.826683759689331, 628, 6873], [2.8259925842285156, 204, 1111], [2.8258378505706787, 371, 1420], [2.8257362842559814, 275, 8024], [2.8250601291656494, 121, 6386], [2.8248603343963623, 220, 7753], [2.8247625827789307, 52, 3063], [2.8245794773101807, 213, 3259], [2.8243541717529297, 175, 2379], [2.8242299556732178, 107, 8121], [2.82289719581604, 22, 6015], [2.8222970962524414, 718, 5053], [2.821141481399536, 403, 6148], [2.8211357593536377, 148, 4032], [2.820392370223999, 175, 1943], [2.819685697555542, 821, 3279], [2.8185532093048096, 158, 725], [2.815948247909546, 195, 1954], [2.814765453338623, 635, 9690], [2.8139877319335938, 284, 9440], [2.8139169216156006, 48, 4625], [2.813735008239746, 253, 6470], [2.8134984970092773, 205, 7083], [2.8107683658599854, 262, 5252], [2.8085899353027344, 133, 5369], [2.8080124855041504, 802, 5868], [2.807469606399536, 182, 3801], [2.8067634105682373, 289, 1673], [2.806351661682129, 69, 7097], [2.806230306625366, 225, 5333], [2.8061108589172363, 134, 5723], [2.806034564971924, 997, 7693], [2.806016445159912, 8, 9390], [2.8046274185180664, 240, 2182], [2.8039939403533936, 723, 236], [2.803529977798462, 166, 7517], [2.8026561737060547, 985, 9102], [2.8006205558776855, 229, 3957], [2.7992749214172363, 24, 9211], [2.798931837081909, 599, 6063], [2.7987592220306396, 375, 7743], [2.797755479812622, 50, 4743], [2.797607421875, 126, 4494], [2.796776056289673, 161, 1833], [2.7967336177825928, 348, 6935], [2.7960867881774902, 86, 4878], [2.7945287227630615, 657, 6924], [2.792552947998047, 484, 8425], [2.789825677871704, 464, 5823], [2.7884554862976074, 268, 6236], [2.7878849506378174, 605, 1106], [2.787795305252075, 1010, 6636], [2.7875101566314697, 411, 3289], [2.7870843410491943, 864, 1794], [2.787022590637207, 220, 5393], [2.7847752571105957, 609, 7058], [2.7841646671295166, 65, 1623], [2.7828876972198486, 615, 606], [2.781318187713623, 49, 5875], [2.7808218002319336, 44, 5120], [2.780630111694336, 237, 9244], [2.7804818153381348, 818, 8040], [2.780308485031128, 182, 6104], [2.779817581176758, 1012, 7506], [2.7792317867279053, 262, 718], [2.778956174850464, 25, 480], [2.7785274982452393, 210, 639], [2.777949810028076, 132, 2671], [2.7772037982940674, 242, 6762], [2.776853561401367, 67, 6216], [2.776726245880127, 916, 8305], [2.7766642570495605, 558, 8125], [2.776637554168701, 740, 585], [2.7765119075775146, 275, 9850], [2.7764499187469482, 698, 4690], [2.7724404335021973, 379, 6919], [2.772123098373413, 132, 6519], [2.769324779510498, 480, 1976], [2.768418073654175, 134, 5065], [2.768263578414917, 209, 5826], [2.768190383911133, 789, 618], [2.7681820392608643, 181, 8247], [2.766505479812622, 555, 351], [2.7650177478790283, 355, 5037], [2.7646255493164062, 411, 4169], [2.764397621154785, 906, 6936], [2.7643232345581055, 374, 2006], [2.763993263244629, 261, 8634], [2.763885498046875, 852, 1180], [2.7635064125061035, 512, 1645], [2.763357162475586, 898, 5177], [2.7616546154022217, 277, 895], [2.7609078884124756, 143, 8851], [2.7595198154449463, 236, 2872], [2.7582590579986572, 566, 2303], [2.7579498291015625, 448, 8566], [2.7573583126068115, 97, 9979], [2.757234811782837, 103, 1147], [2.7548797130584717, 195, 9367], [2.7525086402893066, 103, 1527], [2.7521162033081055, 152, 9617], [2.7513439655303955, 100, 9583], [2.7513267993927, 957, 1999], [2.750185489654541, 306, 536], [2.7498538494110107, 559, 5501], [2.7494592666625977, 15, 6637], [2.7493085861206055, 225, 9601], [2.7490487098693848, 79, 4056], [2.74814510345459, 70, 2676], [2.747441291809082, 43, 1130], [2.7468795776367188, 246, 4662], [2.745466947555542, 486, 6372], [2.74534273147583, 25, 9507], [2.745237350463867, 196, 9651], [2.744891405105591, 152, 9089], [2.744337320327759, 550, 7044], [2.7438697814941406, 725, 4027], [2.743617296218872, 78, 6433], [2.7428574562072754, 731, 1201], [2.7422895431518555, 13, 6383], [2.7422051429748535, 32, 1289], [2.7415685653686523, 389, 7846], [2.739363193511963, 74, 3831], [2.73844575881958, 68, 1681], [2.738163948059082, 173, 7269], [2.7376818656921387, 25, 1801], [2.7375144958496094, 89, 9622], [2.737222671508789, 442, 5649], [2.736158609390259, 340, 5406], [2.7349154949188232, 60, 233], [2.7347652912139893, 190, 302], [2.7346138954162598, 564, 9179], [2.7341506481170654, 572, 2056], [2.73411226272583, 295, 1121], [2.733969211578369, 130, 4607], [2.731889486312866, 155, 648], [2.731125831604004, 660, 1991], [2.73099684715271, 142, 8638], [2.7309913635253906, 29, 9554], [2.7292320728302, 123, 9634], [2.7291171550750732, 417, 8435], [2.728959798812866, 280, 5450], [2.7289247512817383, 627, 9940], [2.728522300720215, 206, 2559], [2.7282862663269043, 206, 2113], [2.7281932830810547, 724, 3142], [2.727735996246338, 131, 4059], [2.727398633956909, 672, 716], [2.7263832092285156, 31, 7739], [2.7258615493774414, 72, 561], [2.7258381843566895, 295, 4503], [2.7253870964050293, 28, 4493], [2.7247471809387207, 464, 829], [2.724670648574829, 69, 4964], [2.724429130554199, 87, 4961], [2.7235283851623535, 439, 4167], [2.7233006954193115, 136, 8981], [2.722517490386963, 70, 7713], [2.7224907875061035, 77, 5087], [2.7223613262176514, 66, 9485], [2.722234010696411, 105, 3264], [2.721104860305786, 299, 2528], [2.7203774452209473, 747, 6886], [2.7190768718719482, 236, 6792], [2.7187089920043945, 115, 1998], [2.718364953994751, 534, 4092], [2.7181150913238525, 316, 2875], [2.7180216312408447, 696, 5677], [2.717935085296631, 512, 8972], [2.717808723449707, 337, 8592], [2.7175073623657227, 205, 1813], [2.7169933319091797, 205, 4163], [2.7164151668548584, 278, 5681], [2.716024160385132, 53, 9981], [2.7152292728424072, 96, 4842], [2.7151339054107666, 194, 242], [2.7150819301605225, 332, 3387], [2.712494134902954, 426, 2404], [2.7121474742889404, 168, 9943], [2.7108774185180664, 1002, 6578], [2.7107431888580322, 192, 4927], [2.709526300430298, 538, 9435], [2.7092888355255127, 144, 2444], [2.7077901363372803, 402, 1251], [2.7037649154663086, 260, 8805], [2.702817916870117, 597, 6274], [2.702800989151001, 316, 6351], [2.702448844909668, 492, 315], [2.701936721801758, 59, 1925], [2.700868606567383, 71, 9321], [2.699260711669922, 72, 3033], [2.698517322540283, 771, 9410], [2.697443723678589, 553, 2194], [2.697373390197754, 765, 7539], [2.6972148418426514, 609, 3612], [2.696246385574341, 161, 5590], [2.69622540473938, 804, 2326], [2.6960949897766113, 231, 115], [2.6952877044677734, 763, 8034], [2.695150136947632, 449, 1454], [2.6951394081115723, 45, 400], [2.6949925422668457, 47, 5504], [2.694606304168701, 36, 5403], [2.694460153579712, 181, 6290], [2.694378614425659, 233, 5462], [2.694195032119751, 351, 789], [2.6930508613586426, 40, 9931], [2.692455291748047, 100, 9953], [2.6923274993896484, 335, 1457], [2.6920058727264404, 323, 3328], [2.691514015197754, 235, 9824], [2.691054105758667, 379, 8317], [2.689852714538574, 833, 3538], [2.68961763381958, 345, 1736], [2.689460039138794, 310, 8602], [2.6894257068634033, 201, 5811], [2.6891915798187256, 497, 563], [2.6889052391052246, 130, 7297], [2.6887240409851074, 78, 1909], [2.6870627403259277, 246, 8300], [2.685957670211792, 132, 5384], [2.685811996459961, 131, 7604], [2.685760736465454, 148, 1259], [2.6843032836914062, 402, 7754], [2.6843008995056152, 65, 554], [2.6839523315429688, 373, 3495], [2.683662176132202, 911, 4798], [2.6834681034088135, 382, 5235], [2.6824405193328857, 612, 5944], [2.6820731163024902, 143, 6883], [2.6819677352905273, 336, 6415], [2.6816678047180176, 62, 1415], [2.6812660694122314, 240, 9853], [2.6806082725524902, 306, 7218], [2.680305242538452, 44, 2449], [2.68007493019104, 49, 963], [2.6798837184906006, 340, 4044], [2.6795568466186523, 244, 9238], [2.6791388988494873, 113, 6233], [2.6786088943481445, 545, 7811], [2.67714786529541, 323, 9016], [2.676966667175293, 692, 6150], [2.6765565872192383, 158, 803], [2.6763811111450195, 250, 6974], [2.676121234893799, 218, 6710], [2.6749229431152344, 197, 2516], [2.6747238636016846, 71, 2427], [2.6743621826171875, 18, 7504], [2.6741225719451904, 231, 5127], [2.673820734024048, 786, 3151], [2.67250919342041, 347, 2131], [2.6716504096984863, 329, 2718], [2.6715288162231445, 68, 1659], [2.671325206756592, 539, 4968], [2.6710660457611084, 31, 7050], [2.671053409576416, 574, 3336], [2.6710145473480225, 673, 2451], [2.6699745655059814, 409, 7798], [2.6670117378234863, 26, 6600], [2.6667842864990234, 248, 1768], [2.66671085357666, 755, 9093], [2.6663973331451416, 819, 695], [2.6663308143615723, 190, 8211], [2.666043996810913, 248, 6962], [2.6658685207366943, 570, 9705], [2.664909839630127, 581, 6995], [2.663705587387085, 425, 4811], [2.663628578186035, 258, 3275], [2.6625616550445557, 318, 6389], [2.661386013031006, 325, 4369], [2.660867929458618, 270, 3440], [2.6604387760162354, 511, 5105], [2.6603610515594482, 300, 2258], [2.6601572036743164, 118, 5757], [2.6601290702819824, 7, 1668], [2.6600470542907715, 446, 9164], [2.6590187549591064, 198, 7985], [2.657809257507324, 486, 1151], [2.6567394733428955, 241, 2661], [2.6564295291900635, 245, 9125], [2.656362533569336, 651, 172], [2.655730724334717, 261, 5742], [2.654001474380493, 142, 5978], [2.653836965560913, 97, 5584], [2.652782917022705, 382, 7465], [2.6516497135162354, 795, 6543], [2.6513302326202393, 342, 2778], [2.650731325149536, 179, 399], [2.6498804092407227, 235, 6430], [2.6495485305786133, 216, 2098], [2.6492207050323486, 127, 3790], [2.648193359375, 425, 1878], [2.6468780040740967, 325, 3420], [2.646620273590088, 126, 3560], [2.6458373069763184, 881, 2335], [2.6456453800201416, 295, 9532], [2.645613670349121, 118, 3322], [2.645324230194092, 361, 8313], [2.6446008682250977, 483, 7900], [2.6416919231414795, 951, 5523], [2.6414780616760254, 49, 1825], [2.641303539276123, 330, 3300], [2.6411733627319336, 315, 1370], [2.6406216621398926, 157, 3997], [2.6386635303497314, 144, 6226], [2.637835741043091, 447, 673], [2.6348140239715576, 386, 5996], [2.6344857215881348, 152, 455], [2.6341748237609863, 548, 3869], [2.632702112197876, 73, 3963], [2.630615711212158, 856, 3109], [2.6298792362213135, 647, 4663], [2.6294057369232178, 396, 7213], [2.628925323486328, 840, 6301], [2.628232479095459, 255, 1705], [2.627748966217041, 66, 2991], [2.627513885498047, 457, 851], [2.62738037109375, 36, 5223], [2.6267213821411133, 756, 2141], [2.625952959060669, 120, 523], [2.6255111694335938, 160, 6635], [2.6251416206359863, 663, 9830], [2.625065803527832, 7, 5402], [2.6234726905822754, 138, 3528], [2.622885227203369, 42, 9082], [2.6221702098846436, 222, 8594], [2.6214165687561035, 342, 7241], [2.6210238933563232, 193, 2934], [2.619541883468628, 183, 6746], [2.6193792819976807, 94, 2581], [2.61930513381958, 237, 551], [2.617142677307129, 708, 2403], [2.6166486740112305, 829, 4428], [2.61628794670105, 55, 4714], [2.6160876750946045, 220, 7237], [2.615786552429199, 180, 4937], [2.615649700164795, 847, 7558], [2.6146206855773926, 270, 5373], [2.6134843826293945, 356, 9107], [2.6126017570495605, 763, 2918], [2.6106255054473877, 130, 7035], [2.61055064201355, 222, 3293], [2.6102919578552246, 162, 2956], [2.610220193862915, 4, 5551], [2.6094517707824707, 901, 8221], [2.6088595390319824, 771, 6702], [2.608376979827881, 222, 9652], [2.6082847118377686, 56, 4832], [2.6073429584503174, 450, 4371], [2.6060938835144043, 261, 4445], [2.605278491973877, 17, 5323], [2.604355812072754, 518, 3166], [2.6035542488098145, 374, 621], [2.603032350540161, 31, 5651], [2.6029019355773926, 29, 5083], [2.602531909942627, 199, 7129], [2.602332353591919, 620, 9341], [2.601957321166992, 212, 6981], [2.6013245582580566, 410, 2063], [2.600844144821167, 34, 7309], [2.600101947784424, 162, 6107], [2.5987436771392822, 15, 7227], [2.5982511043548584, 245, 1269], [2.5980215072631836, 208, 1961], [2.598012924194336, 8, 2822], [2.5974738597869873, 67, 1133], [2.5973730087280273, 125, 4509], [2.5967514514923096, 414, 504], [2.596198081970215, 7, 5285], [2.5956788063049316, 350, 6103], [2.5956034660339355, 343, 1564], [2.594172954559326, 257, 4796], [2.5936946868896484, 24, 2468], [2.593541145324707, 57, 7766], [2.592625617980957, 28, 3030], [2.5923099517822266, 787, 8331], [2.592165470123291, 767, 1867], [2.5918726921081543, 351, 9828], [2.591639280319214, 46, 4779], [2.591350793838501, 225, 8428], [2.590749740600586, 664, 8076], [2.589087724685669, 312, 5095], [2.5888736248016357, 188, 8697], [2.5888259410858154, 10, 2551], [2.5873260498046875, 143, 4231], [2.5873165130615234, 12, 7814], [2.5859806537628174, 220, 508], [2.584911584854126, 307, 7657], [2.5848028659820557, 295, 8503], [2.5847394466400146, 404, 1500], [2.5827560424804688, 355, 95], [2.58203125, 499, 397], [2.581855535507202, 261, 3068], [2.58101487159729, 71, 1089], [2.580447196960449, 220, 1217], [2.579840898513794, 38, 9314], [2.579348087310791, 39, 614], [2.5791869163513184, 197, 9573], [2.5787158012390137, 93, 2121], [2.5779852867126465, 111, 573], [2.5762312412261963, 83, 9050], [2.575350761413574, 126, 1586], [2.5749824047088623, 128, 2281], [2.5746331214904785, 644, 2010], [2.5740768909454346, 88, 9284], [2.5735511779785156, 505, 1644], [2.5711843967437744, 688, 4437], [2.570019245147705, 969, 8994], [2.5699150562286377, 204, 2313], [2.5694339275360107, 210, 3935], [2.569136619567871, 97, 9761], [2.568606376647949, 251, 6581], [2.568063259124756, 81, 5497], [2.5673677921295166, 959, 8640], [2.566441059112549, 22, 428], [2.5662310123443604, 23, 1721], [2.5658583641052246, 834, 7306], [2.5656015872955322, 50, 3026], [2.5647270679473877, 184, 1435], [2.5644426345825195, 158, 865], [2.5640220642089844, 62, 4555], [2.5636255741119385, 47, 3517], [2.5632290840148926, 542, 2531], [2.5624849796295166, 442, 8025], [2.561901569366455, 322, 6993], [2.561537981033325, 237, 5125], [2.5610287189483643, 151, 9456], [2.560983180999756, 29, 2391], [2.56080961227417, 904, 2166], [2.5590457916259766, 21, 4890], [2.5588738918304443, 245, 5736], [2.5581116676330566, 105, 1254], [2.558016538619995, 369, 6051], [2.5578079223632812, 356, 7447], [2.556816577911377, 318, 1505], [2.556109666824341, 444, 3709], [2.5559041500091553, 225, 240], [2.555119037628174, 356, 4611], [2.5550520420074463, 256, 2870], [2.55489444732666, 970, 8001], [2.554413318634033, 599, 2428], [2.5532009601593018, 991, 3396], [2.5530593395233154, 347, 9695], [2.5528481006622314, 338, 5559], [2.552475690841675, 67, 873], [2.5517489910125732, 724, 6112], [2.551565170288086, 32, 8134], [2.5504419803619385, 916, 2122], [2.5492019653320312, 971, 5613], [2.547700881958008, 130, 4425], [2.5474953651428223, 187, 8796], [2.5474584102630615, 981, 3492], [2.547299385070801, 669, 3397], [2.5463128089904785, 869, 2023], [2.546278715133667, 354, 120], [2.5458900928497314, 470, 5467], [2.5449650287628174, 373, 3047], [2.5443503856658936, 660, 4898], [2.544098377227783, 484, 3135], [2.543036937713623, 21, 7734], [2.541146755218506, 474, 9946], [2.540447235107422, 14, 9079], [2.5401551723480225, 34, 1509], [2.5399956703186035, 608, 1816], [2.5393526554107666, 731, 3104], [2.538691997528076, 101, 2174], [2.5382962226867676, 525, 5581], [2.5377936363220215, 80, 1040], [2.537722110748291, 844, 5026], [2.536949872970581, 314, 7280], [2.536940813064575, 23, 6680], [2.536924362182617, 900, 4108], [2.5369129180908203, 442, 4488], [2.535823345184326, 623, 7572], [2.5354199409484863, 258, 9832], [2.5350217819213867, 107, 565], [2.534949541091919, 225, 5950], [2.5331082344055176, 239, 5619], [2.532287359237671, 199, 8603], [2.5322670936584473, 88, 5016], [2.532193660736084, 383, 7483], [2.531719923019409, 284, 5965], [2.530506134033203, 385, 2059], [2.530238628387451, 661, 1643], [2.529165744781494, 111, 9707], [2.527589797973633, 704, 3498], [2.527452230453491, 961, 4216], [2.527280330657959, 443, 2602], [2.5266218185424805, 921, 1276], [2.525921583175659, 1011, 6938], [2.5258231163024902, 180, 134], [2.5253865718841553, 800, 7822], [2.5233402252197266, 659, 9426], [2.523280143737793, 949, 3714], [2.522783041000366, 512, 5449], [2.522080898284912, 195, 8660], [2.521796941757202, 29, 9429], [2.5214247703552246, 260, 2948], [2.520799398422241, 153, 8798], [2.519988775253296, 111, 8565], [2.5197880268096924, 348, 9258], [2.51971435546875, 37, 1928], [2.5191025733947754, 964, 8830], [2.5188684463500977, 444, 998], [2.5188069343566895, 349, 7363], [2.518779754638672, 433, 6999], [2.518653154373169, 291, 2500], [2.5185728073120117, 15, 5907], [2.518465280532837, 31, 6522], [2.5184335708618164, 600, 4694], [2.516651153564453, 53, 6997], [2.51481032371521, 90, 7622], [2.514416456222534, 311, 3704], [2.5141713619232178, 811, 8894], [2.5134949684143066, 727, 3476], [2.5129213333129883, 513, 6448], [2.511983871459961, 104, 3919], [2.510317802429199, 124, 9817], [2.5101630687713623, 13, 1538], [2.5083932876586914, 86, 7800], [2.50801157951355, 131, 8274], [2.507016181945801, 374, 3392], [2.5061147212982178, 145, 985], [2.5060765743255615, 604, 6120], [2.5023605823516846, 914, 2655], [2.502039909362793, 204, 8458], [2.500974655151367, 1020, 6959], [2.5005457401275635, 39, 2768], [2.500401020050049, 100, 1996], [2.4986250400543213, 83, 5119], [2.4981253147125244, 163, 1687], [2.497936725616455, 145, 5014], [2.497119665145874, 779, 9703], [2.4964160919189453, 647, 9978], [2.4963877201080322, 558, 1864], [2.4960713386535645, 67, 3143], [2.494149684906006, 82, 3637], [2.493614912033081, 146, 3253], [2.493492364883423, 41, 5091], [2.493338108062744, 109, 9836], [2.492561101913452, 248, 4641], [2.4919824600219727, 326, 612], [2.491029739379883, 60, 4382], [2.489894151687622, 584, 4861], [2.4896302223205566, 189, 8914], [2.489316463470459, 539, 2818], [2.4885404109954834, 213, 297], [2.488525390625, 126, 5088], [2.488281488418579, 566, 2314], [2.488223075866699, 546, 8777], [2.485797643661499, 177, 5724], [2.4856112003326416, 85, 8665], [2.4836232662200928, 14, 4442], [2.4833874702453613, 858, 6982], [2.4814348220825195, 349, 4676], [2.481067657470703, 796, 8557], [2.480356216430664, 135, 3534], [2.480349063873291, 193, 3667], [2.4797840118408203, 999, 4432], [2.4795339107513428, 101, 4708], [2.4788482189178467, 259, 2254], [2.4787700176239014, 215, 2736], [2.4784929752349854, 221, 4174], [2.478334665298462, 89, 1309], [2.47796630859375, 774, 5136], [2.477861166000366, 969, 1615], [2.4777050018310547, 196, 4900], [2.4775092601776123, 94, 6045], [2.4768574237823486, 413, 8382], [2.4764935970306396, 207, 2434], [2.476335048675537, 239, 7750], [2.4762792587280273, 129, 4554], [2.475318431854248, 502, 7087], [2.474731206893921, 7, 6859], [2.4736852645874023, 118, 339], [2.4731404781341553, 59, 5140], [2.471156597137451, 227, 6622], [2.4698383808135986, 298, 4868], [2.468510389328003, 258, 9570], [2.4682886600494385, 97, 4452], [2.4678759574890137, 559, 1428], [2.4671008586883545, 288, 6641], [2.467050552368164, 98, 9189], [2.4669082164764404, 602, 1313], [2.4656765460968018, 170, 2863], [2.465219736099243, 397, 4962], [2.4650425910949707, 306, 4751], [2.4640471935272217, 608, 2204], [2.4638924598693848, 206, 9856], [2.463783025741577, 929, 7132], [2.463771343231201, 944, 920], [2.462742805480957, 78, 9481], [2.4620561599731445, 405, 8318], [2.4620556831359863, 89, 3536], [2.4619526863098145, 39, 4907], [2.458383798599243, 578, 8368], [2.458364725112915, 219, 4363], [2.4559285640716553, 961, 4990], [2.454922914505005, 323, 3368], [2.4544601440429688, 251, 2518], [2.4538910388946533, 774, 2509], [2.4534177780151367, 574, 5668], [2.453157663345337, 8, 2159], [2.4522247314453125, 77, 4853], [2.451582431793213, 179, 9843], [2.4510068893432617, 61, 596], [2.4501900672912598, 412, 6610], [2.450007915496826, 818, 5452], [2.4496445655822754, 128, 1391], [2.448970079421997, 53, 5594], [2.4487757682800293, 22, 7022], [2.447918176651001, 664, 7731], [2.4478721618652344, 6, 4812], [2.447845220565796, 112, 3824], [2.445547103881836, 207, 6318], [2.445542335510254, 551, 7245], [2.4440810680389404, 753, 3258], [2.443880558013916, 230, 7331], [2.4436123371124268, 732, 6707], [2.443209409713745, 110, 3457], [2.4429519176483154, 497, 7408], [2.442824602127075, 60, 8355], [2.4421823024749756, 367, 667], [2.4416606426239014, 196, 9009], [2.4414007663726807, 41, 600], [2.4408555030822754, 115, 5570], [2.4407460689544678, 188, 1374], [2.4406230449676514, 108, 4630], [2.440509796142578, 233, 5439], [2.440322160720825, 118, 7796], [2.440291404724121, 108, 7178], [2.440164089202881, 241, 3783], [2.4397032260894775, 37, 3592], [2.439423084259033, 209, 9122], [2.439328193664551, 224, 8083], [2.43873929977417, 608, 50], [2.4381465911865234, 847, 4978], [2.4376864433288574, 71, 9096], [2.437303066253662, 785, 9377], [2.436405897140503, 93, 837], [2.4357738494873047, 96, 1726], [2.43440318107605, 886, 1797], [2.4342658519744873, 357, 8205], [2.4342122077941895, 467, 4809], [2.4339263439178467, 25, 189], [2.433337450027466, 137, 8288], [2.4314417839050293, 445, 7338], [2.43019700050354, 182, 9345], [2.4300973415374756, 732, 165], [2.429091453552246, 193, 8059], [2.428945779800415, 164, 8500], [2.427534818649292, 255, 5033], [2.427522897720337, 82, 3252], [2.4273321628570557, 413, 6695], [2.42726469039917, 313, 9829], [2.427229642868042, 287, 9130], [2.4270153045654297, 585, 3954], [2.426365613937378, 105, 1589], [2.4257211685180664, 152, 3173], [2.4254839420318604, 99, 1648], [2.425323247909546, 99, 5911], [2.4245402812957764, 71, 4667], [2.424219846725464, 116, 8011], [2.4232327938079834, 407, 8806], [2.423161506652832, 78, 8793], [2.42236328125, 515, 4461], [2.422346591949463, 850, 4548], [2.42168927192688, 67, 1109], [2.4214184284210205, 412, 9704], [2.421340227127075, 94, 690], [2.4211394786834717, 349, 3139], [2.419290542602539, 180, 7722], [2.4190196990966797, 670, 9620], [2.418419122695923, 804, 7154], [2.418144702911377, 306, 4819], [2.418137788772583, 391, 8453], [2.417489528656006, 167, 5273], [2.4172797203063965, 400, 3382], [2.4170432090759277, 300, 6247], [2.4169516563415527, 759, 9120], [2.416163444519043, 377, 5194], [2.4161462783813477, 805, 468], [2.4156057834625244, 785, 6311], [2.4154701232910156, 35, 355], [2.4151294231414795, 268, 1355], [2.4149584770202637, 134, 3627], [2.414829730987549, 191, 6253], [2.4147849082946777, 343, 5068], [2.4146101474761963, 77, 4278], [2.413769483566284, 304, 7790], [2.4137184619903564, 35, 27], [2.4136464595794678, 170, 4218], [2.4109866619110107, 231, 5533], [2.410538911819458, 32, 2257], [2.410478115081787, 75, 4276], [2.4103260040283203, 207, 9711], [2.409862995147705, 540, 3523], [2.409651041030884, 173, 1489], [2.4092307090759277, 253, 2364], [2.4089455604553223, 865, 4814], [2.40891695022583, 289, 3621], [2.4087955951690674, 68, 9250], [2.4086215496063232, 25, 4615], [2.4078915119171143, 452, 8963], [2.4077484607696533, 217, 81], [2.407654285430908, 204, 8635], [2.4060940742492676, 199, 2590], [2.4055557250976562, 193, 3564], [2.405409097671509, 127, 8366], [2.4034786224365234, 806, 2360], [2.4031476974487305, 234, 5959], [2.402970790863037, 487, 3112], [2.402331829071045, 207, 2815], [2.4017388820648193, 601, 1713], [2.40138578414917, 135, 8137], [2.4012510776519775, 214, 2], [2.4011342525482178, 229, 2024], [2.4002811908721924, 144, 100], [2.400029182434082, 132, 1973], [2.3998701572418213, 560, 4331], [2.3991055488586426, 108, 9137], [2.3983285427093506, 315, 409], [2.3978633880615234, 677, 6184], [2.3977975845336914, 152, 8795], [2.397681951522827, 357, 492], [2.397308588027954, 179, 6701], [2.396416187286377, 400, 2373], [2.3960070610046387, 45, 5886], [2.3949968814849854, 248, 4757], [2.394547939300537, 695, 2114], [2.3938658237457275, 16, 1247], [2.3938379287719727, 52, 788], [2.393676280975342, 299, 9296], [2.39212965965271, 282, 3471], [2.3914847373962402, 199, 7340], [2.3912644386291504, 373, 8132], [2.3911542892456055, 153, 5833], [2.3908307552337646, 151, 9501], [2.390467882156372, 117, 7817], [2.390381336212158, 534, 2242], [2.3903632164001465, 635, 5617], [2.3895585536956787, 239, 3899], [2.3891239166259766, 497, 2959], [2.388669490814209, 243, 1243], [2.3882195949554443, 66, 7648], [2.3875210285186768, 487, 1727], [2.3874659538269043, 261, 790], [2.3867781162261963, 13, 344], [2.3861324787139893, 643, 2290], [2.3856725692749023, 172, 8256], [2.385561466217041, 26, 3347], [2.385542154312134, 449, 7769], [2.3853790760040283, 76, 3544], [2.3852832317352295, 399, 8470], [2.3849897384643555, 131, 8849], [2.3849732875823975, 187, 1646], [2.3833963871002197, 475, 9484], [2.3828771114349365, 170, 7850], [2.382596492767334, 274, 1270], [2.3821256160736084, 657, 8491], [2.3819971084594727, 625, 4856], [2.381312608718872, 434, 9109], [2.3809266090393066, 343, 6374], [2.380502700805664, 49, 1224], [2.3797693252563477, 14, 2765], [2.3795344829559326, 334, 841], [2.379404306411743, 250, 3346], [2.3786003589630127, 998, 6173], [2.378570556640625, 31, 7546], [2.377971649169922, 676, 9449], [2.377591609954834, 706, 6596], [2.3765158653259277, 89, 1400], [2.37646484375, 147, 1306], [2.375800609588623, 644, 7912], [2.375467538833618, 50, 1497], [2.375230073928833, 303, 2112], [2.374741554260254, 137, 2027], [2.374476194381714, 82, 1656], [2.3742709159851074, 913, 3225], [2.3723669052124023, 636, 7055], [2.3722386360168457, 152, 9126], [2.3716790676116943, 199, 8497], [2.3715577125549316, 71, 5322], [2.3715336322784424, 711, 7159], [2.3705825805664062, 274, 9602], [2.37056040763855, 158, 1786], [2.37005877494812, 135, 4730], [2.3697633743286133, 820, 4687], [2.369025707244873, 158, 3795], [2.368907928466797, 245, 1568], [2.3681609630584717, 143, 6826], [2.36745285987854, 259, 4320], [2.367154121398926, 715, 8975], [2.3671176433563232, 81, 6646], [2.3669323921203613, 594, 9557], [2.3659467697143555, 141, 3301], [2.3654444217681885, 29, 8797], [2.365076780319214, 562, 1626], [2.3634235858917236, 41, 8901], [2.3627769947052, 286, 6016], [2.3622117042541504, 125, 9633], [2.3619143962860107, 511, 7676], [2.361149311065674, 48, 5511], [2.360116481781006, 156, 1964], [2.359585762023926, 199, 248], [2.3583500385284424, 347, 5519], [2.3579647541046143, 483, 9150], [2.3573269844055176, 48, 3902], [2.35666823387146, 402, 5015], [2.3561062812805176, 77, 8265], [2.355783224105835, 1019, 9310], [2.355665683746338, 345, 5908], [2.355412721633911, 478, 9523], [2.3547165393829346, 549, 7913], [2.3539700508117676, 310, 279], [2.353660821914673, 1004, 88], [2.3534350395202637, 137, 6224], [2.3529865741729736, 27, 1507], [2.352961778640747, 128, 7931], [2.3518002033233643, 188, 3788], [2.3516595363616943, 572, 5502], [2.3515000343322754, 260, 8143], [2.350836753845215, 80, 9641], [2.34987211227417, 149, 3880], [2.349811553955078, 342, 5891], [2.3494856357574463, 642, 3535], [2.349271059036255, 51, 2793], [2.3491415977478027, 64, 2277], [2.3480045795440674, 99, 5732], [2.3477683067321777, 174, 4924], [2.3476133346557617, 45, 4223], [2.3474786281585693, 57, 3027], [2.347282886505127, 377, 8398], [2.347221612930298, 269, 9840], [2.3464601039886475, 317, 2054], [2.3463385105133057, 608, 933], [2.3460865020751953, 27, 4945], [2.3458943367004395, 130, 5548], [2.345249891281128, 119, 4266], [2.3443517684936523, 787, 8546], [2.3443329334259033, 107, 8118], [2.342914581298828, 701, 8684], [2.342540979385376, 188, 1919], [2.3425168991088867, 606, 956], [2.341613531112671, 440, 2766], [2.341592788696289, 641, 5912], [2.341275453567505, 254, 627], [2.3408727645874023, 266, 1315], [2.340806722640991, 53, 3767], [2.3401989936828613, 94, 6497], [2.339839458465576, 159, 8816], [2.3397152423858643, 716, 5219], [2.3396003246307373, 239, 7258], [2.339071273803711, 856, 9175], [2.3390583992004395, 65, 4247], [2.338850975036621, 772, 5071], [2.3387107849121094, 101, 2028], [2.338489294052124, 528, 2579], [2.3382668495178223, 155, 4801], [2.338071346282959, 282, 6292], [2.337961435317993, 34, 5754], [2.3369524478912354, 113, 7959], [2.336402654647827, 933, 1218], [2.336393117904663, 52, 8770], [2.336245536804199, 372, 3705], [2.3360838890075684, 334, 4724], [2.335378885269165, 527, 6744], [2.3349316120147705, 428, 9715], [2.334383487701416, 548, 7540], [2.3339385986328125, 480, 3654], [2.3323726654052734, 70, 2595], [2.3316638469696045, 446, 1778], [2.3316283226013184, 989, 2536], [2.3312716484069824, 288, 6574], [2.3311266899108887, 162, 1438], [2.330395221710205, 64, 7747], [2.330092191696167, 588, 2748], [2.330012083053589, 652, 3056], [2.329965829849243, 57, 2952], [2.3298587799072266, 135, 9452], [2.328054904937744, 167, 1076], [2.3272690773010254, 196, 7372], [2.3272504806518555, 35, 5806], [2.3272061347961426, 512, 7320], [2.3271164894104004, 345, 794], [2.3262298107147217, 372, 8596], [2.3260340690612793, 71, 1044], [2.325620174407959, 13, 780], [2.325576066970825, 271, 5749], [2.325404644012451, 311, 1633], [2.324984312057495, 53, 7019], [2.3249425888061523, 306, 6029], [2.32428240776062, 98, 731], [2.3238821029663086, 577, 3345], [2.3235981464385986, 3, 2965], [2.323559284210205, 736, 2066], [2.3235387802124023, 94, 8531], [2.322876453399658, 149, 6013], [2.3228347301483154, 835, 4619], [2.3227789402008057, 208, 7771], [2.3227174282073975, 301, 7494], [2.321446657180786, 273, 3262], [2.320979118347168, 814, 1747], [2.320446491241455, 205, 5395], [2.320208787918091, 414, 4256], [2.3193368911743164, 94, 6144], [2.3173747062683105, 536, 3461], [2.3164875507354736, 388, 8150], [2.3147497177124023, 395, 1205], [2.31467604637146, 283, 5408], [2.3137080669403076, 400, 3699], [2.312744140625, 202, 4988], [2.3124618530273438, 283, 7542], [2.3123719692230225, 214, 3338], [2.3114664554595947, 725, 6018], [2.3111910820007324, 220, 1300], [2.311018705368042, 241, 8887], [2.31061053276062, 131, 1764], [2.310068130493164, 162, 8762], [2.3091018199920654, 483, 8868], [2.3083784580230713, 528, 2705], [2.30827260017395, 732, 4061], [2.3081042766571045, 269, 2564], [2.308084487915039, 593, 4749], [2.3080668449401855, 1018, 738], [2.308037519454956, 38, 3995], [2.3079030513763428, 218, 7533], [2.307518482208252, 224, 9626], [2.307006359100342, 904, 5005], [2.3065366744995117, 54, 6323], [2.3058645725250244, 110, 9205], [2.305598020553589, 127, 8847], [2.305262804031372, 873, 8745], [2.3048596382141113, 2, 9323], [2.3047537803649902, 197, 3712], [2.3043439388275146, 21, 3250], [2.3040361404418945, 778, 5490], [2.303828716278076, 85, 3016], [2.3027002811431885, 177, 4123], [2.3017003536224365, 44, 9545], [2.301503896713257, 747, 2986], [2.3004860877990723, 791, 1430], [2.299896001815796, 127, 5760], [2.298924207687378, 73, 6943], [2.2987477779388428, 934, 1320], [2.298600196838379, 272, 5064], [2.298541784286499, 10, 9206], [2.297536611557007, 345, 5028], [2.297022581100464, 278, 4476], [2.2966296672821045, 842, 7289], [2.29595947265625, 284, 5588], [2.2959251403808594, 813, 8209], [2.295722007751465, 174, 7919], [2.29502272605896, 931, 8130], [2.294639825820923, 82, 3573], [2.2941808700561523, 278, 9882], [2.2934134006500244, 636, 5415], [2.29337739944458, 287, 3633], [2.293036699295044, 34, 4020], [2.2930283546447754, 72, 126], [2.293024778366089, 69, 6786], [2.292686700820923, 568, 7459], [2.292661666870117, 327, 7839], [2.292166233062744, 10, 72], [2.2916040420532227, 634, 9195], [2.2915098667144775, 770, 9983], [2.2914130687713623, 290, 6265], [2.2901461124420166, 14, 4334], [2.2899246215820312, 230, 6712], [2.28932785987854, 922, 1229], [2.2884323596954346, 216, 5061], [2.2881033420562744, 206, 1263], [2.2879092693328857, 182, 6591], [2.2877278327941895, 571, 817], [2.287539482116699, 217, 442], [2.2859010696411133, 331, 988], [2.2853283882141113, 540, 4506], [2.2852911949157715, 37, 9302], [2.2848305702209473, 127, 2630], [2.2844958305358887, 370, 9275], [2.2840235233306885, 77, 3936], [2.282895088195801, 130, 9127], [2.282639741897583, 32, 2774], [2.282586097717285, 192, 3474], [2.2819437980651855, 269, 8390], [2.2818679809570312, 529, 5414], [2.281521797180176, 748, 7130], [2.2809762954711914, 568, 9926], [2.2805445194244385, 22, 1105], [2.280263900756836, 346, 8563], [2.2799346446990967, 421, 9388], [2.279658079147339, 65, 3563], [2.279515027999878, 356, 6915], [2.277186870574951, 213, 9014], [2.2768640518188477, 148, 4543], [2.2759532928466797, 26, 570], [2.274991750717163, 258, 7199], [2.2743947505950928, 783, 7056], [2.27372407913208, 284, 8273], [2.273561716079712, 259, 2228], [2.273239850997925, 481, 6133], [2.2722225189208984, 210, 978], [2.271951198577881, 20, 9286], [2.271702527999878, 598, 1394], [2.2716453075408936, 169, 7248], [2.271587371826172, 167, 54], [2.271413803100586, 258, 4633], [2.270526647567749, 41, 5956], [2.270153522491455, 305, 5698], [2.2698254585266113, 70, 1186], [2.2693376541137695, 137, 5767], [2.268765926361084, 637, 3290], [2.268564224243164, 115, 2504], [2.267320394515991, 206, 5685], [2.2668838500976562, 613, 5389], [2.2665467262268066, 49, 686], [2.2665443420410156, 14, 4041], [2.2662107944488525, 798, 7768], [2.2659342288970947, 374, 4717], [2.2659220695495605, 321, 6038], [2.265765905380249, 267, 9170], [2.265568256378174, 164, 4525], [2.265350818634033, 546, 9909], [2.2648699283599854, 168, 5084], [2.264488935470581, 914, 4772], [2.264456033706665, 458, 2119], [2.2643814086914062, 167, 52], [2.2642760276794434, 78, 5557], [2.264259099960327, 219, 3608], [2.2633724212646484, 110, 8678], [2.2628977298736572, 855, 986], [2.2623608112335205, 358, 1141], [2.2616870403289795, 36, 3413], [2.2609055042266846, 81, 293], [2.2606759071350098, 190, 3308], [2.2584383487701416, 228, 486], [2.2583444118499756, 390, 7395], [2.258317232131958, 247, 5211], [2.2575981616973877, 119, 2576], [2.2567131519317627, 565, 8364], [2.2566680908203125, 354, 8922], [2.2552037239074707, 564, 320], [2.253575563430786, 133, 4825], [2.2529046535491943, 788, 3418], [2.2528369426727295, 230, 6111], [2.252065658569336, 261, 520], [2.2520620822906494, 67, 6419], [2.251699924468994, 293, 5018], [2.251312732696533, 412, 6848], [2.249688148498535, 128, 346], [2.249330997467041, 905, 4808], [2.249174118041992, 168, 5257], [2.2491085529327393, 652, 6473], [2.2489030361175537, 156, 5682], [2.2485008239746094, 321, 7948], [2.2480294704437256, 265, 669], [2.2465837001800537, 486, 7833], [2.246378183364868, 324, 502], [2.245124340057373, 456, 1412], [2.2445125579833984, 416, 500], [2.244154453277588, 106, 7017], [2.244121789932251, 39, 5334], [2.244013786315918, 90, 9738], [2.242687463760376, 94, 4605], [2.2424159049987793, 923, 5955], [2.242236375808716, 751, 28], [2.2418107986450195, 120, 5419], [2.241323471069336, 118, 1521], [2.2413132190704346, 124, 7969], [2.241227149963379, 1018, 743], [2.241173267364502, 20, 3960], [2.2410285472869873, 242, 5082], [2.240462064743042, 493, 1669], [2.239997386932373, 194, 7016], [2.239964485168457, 203, 8622], [2.2398295402526855, 171, 6541], [2.2397408485412598, 299, 8649], [2.2388744354248047, 247, 3240], [2.2365288734436035, 1015, 4522], [2.2355568408966064, 221, 2123], [2.2354981899261475, 259, 1445], [2.234954833984375, 862, 936], [2.2341256141662598, 224, 1530], [2.233971357345581, 327, 6503], [2.2336318492889404, 689, 9461], [2.2334141731262207, 468, 7195], [2.233144998550415, 571, 2601], [2.2328367233276367, 351, 9519], [2.2320127487182617, 129, 3132], [2.2314376831054688, 343, 997], [2.2305355072021484, 197, 7625], [2.2296302318573, 219, 801], [2.2290055751800537, 555, 5253], [2.2288503646850586, 284, 6614], [2.2280688285827637, 111, 3611], [2.2276668548583984, 170, 8460], [2.2267885208129883, 41, 5676], [2.2266645431518555, 888, 8485], [2.225780487060547, 259, 4594], [2.2256526947021484, 272, 5892], [2.225146532058716, 192, 9998], [2.224963426589966, 150, 4557], [2.2247235774993896, 534, 7834], [2.223820209503174, 494, 1421], [2.2236640453338623, 328, 7172], [2.222900390625, 715, 3870], [2.2207367420196533, 85, 2331], [2.2205073833465576, 374, 786], [2.220452308654785, 78, 2900], [2.2198376655578613, 275, 8907], [2.2195119857788086, 37, 3702], [2.2192013263702393, 194, 1174], [2.2190961837768555, 155, 2969], [2.2190215587615967, 233, 8943], [2.2182276248931885, 103, 3090], [2.217454195022583, 29, 4102], [2.2167582511901855, 82, 8394], [2.216583490371704, 601, 2726], [2.21647310256958, 235, 2742], [2.216154098510742, 442, 7836], [2.215820789337158, 224, 6022], [2.215284824371338, 407, 6511], [2.2134225368499756, 240, 6798], [2.2132112979888916, 49, 4292], [2.213090181350708, 8, 1398], [2.212235927581787, 266, 3879], [2.211784839630127, 156, 6067], [2.211759328842163, 256, 1946], [2.2113115787506104, 300, 861], [2.2113089561462402, 458, 6382], [2.210961103439331, 155, 5563], [2.210530996322632, 200, 7741], [2.2104461193084717, 810, 9887], [2.210314989089966, 63, 4356], [2.210181713104248, 156, 9912], [2.20945405960083, 217, 9988], [2.209312677383423, 988, 7820], [2.207690477371216, 851, 7783], [2.2075564861297607, 58, 8924], [2.2074477672576904, 891, 7135], [2.2071735858917236, 429, 8514], [2.20605206489563, 708, 9425], [2.2060186862945557, 496, 7271], [2.205859422683716, 814, 6678], [2.2048425674438477, 24, 337], [2.2039175033569336, 283, 7045], [2.203077554702759, 68, 9668], [2.2027974128723145, 203, 1992], [2.2026240825653076, 670, 4775], [2.2026069164276123, 196, 7894], [2.2023303508758545, 406, 6854], [2.2020928859710693, 181, 1488], [2.202057361602783, 534, 1684], [2.2020087242126465, 282, 6623], [2.201589345932007, 243, 8786], [2.201493501663208, 210, 6569], [2.2011847496032715, 1008, 587], [2.2007992267608643, 29, 1609], [2.2000784873962402, 190, 7105], [2.199735164642334, 102, 1274], [2.1991615295410156, 255, 4601], [2.1989336013793945, 656, 4119], [2.1981022357940674, 28, 464], [2.1979546546936035, 118, 814], [2.1978273391723633, 892, 9006], [2.1975295543670654, 409, 326], [2.197132110595703, 202, 3181], [2.1970887184143066, 150, 4131], [2.1960465908050537, 711, 5081], [2.1952898502349854, 132, 3251], [2.1951940059661865, 79, 8951], [2.1950860023498535, 56, 3101], [2.1950020790100098, 211, 2340], [2.194981098175049, 1000, 1408], [2.1948089599609375, 139, 8906], [2.1947181224823, 119, 364], [2.1937363147735596, 724, 7983], [2.193129777908325, 125, 8473], [2.1929023265838623, 81, 4571], [2.192815065383911, 26, 6200], [2.1926653385162354, 647, 9796], [2.192185640335083, 52, 6867], [2.192063808441162, 140, 9892], [2.1910650730133057, 74, 7830], [2.190739870071411, 961, 5044], [2.190692186355591, 293, 7470], [2.190641403198242, 244, 8817], [2.1885671615600586, 72, 1542], [2.188312530517578, 137, 1233], [2.1868133544921875, 181, 7584], [2.1866891384124756, 878, 3176], [2.1858015060424805, 117, 5315], [2.1852519512176514, 38, 3272], [2.184479236602783, 97, 1556], [2.184321880340576, 273, 1690], [2.184083938598633, 882, 2475], [2.183600902557373, 130, 8159], [2.1832683086395264, 207, 832], [2.182466506958008, 120, 6598], [2.1824276447296143, 26, 8986], [2.1820192337036133, 232, 8729], [2.181424140930176, 314, 9925], [2.181398630142212, 988, 6308], [2.1812140941619873, 162, 3593], [2.178978204727173, 136, 2094], [2.178877830505371, 462, 8562], [2.1787872314453125, 174, 9260], [2.1777544021606445, 127, 3849], [2.1776540279388428, 311, 5023], [2.177652597427368, 1009, 162], [2.1775052547454834, 236, 8539], [2.177267074584961, 326, 2241], [2.1768176555633545, 299, 2497], [2.1765711307525635, 181, 2432], [2.1763551235198975, 789, 7541], [2.175682544708252, 226, 4430], [2.1751208305358887, 640, 6131], [2.1747028827667236, 174, 9444], [2.1746788024902344, 198, 2219], [2.174398422241211, 96, 7716], [2.1740217208862305, 411, 6237], [2.173488140106201, 386, 101], [2.172811269760132, 69, 5216], [2.172492265701294, 39, 7924], [2.1721701622009277, 204, 6539], [2.171687126159668, 65, 1952], [2.171360969543457, 1000, 6283], [2.1712541580200195, 33, 9624], [2.1711466312408447, 897, 8087], [2.1704978942871094, 78, 5788], [2.1694376468658447, 131, 661], [2.16880464553833, 267, 80], [2.168440103530884, 509, 6160], [2.1680190563201904, 517, 1486], [2.1673941612243652, 198, 3723], [2.1667520999908447, 116, 5984], [2.166217803955078, 322, 7756], [2.1657371520996094, 35, 9104], [2.165485382080078, 28, 4839], [2.164997100830078, 381, 2532], [2.164956569671631, 118, 7701], [2.1641299724578857, 18, 9207], [2.1638097763061523, 401, 6761], [2.1637678146362305, 36, 9095], [2.1636416912078857, 214, 7350], [2.16332745552063, 135, 5545], [2.162667989730835, 259, 6136], [2.1614062786102295, 39, 5295], [2.161128044128418, 83, 603], [2.160811185836792, 272, 3144], [2.160125494003296, 44, 63], [2.159801959991455, 145, 3786], [2.15893816947937, 643, 6953], [2.1582295894622803, 793, 6595], [2.157528877258301, 28, 2770], [2.157370090484619, 70, 3395], [2.1562745571136475, 69, 4550], [2.1560006141662598, 75, 6203], [2.1551907062530518, 543, 4043], [2.1547882556915283, 70, 8946], [2.1546499729156494, 979, 2865], [2.153913974761963, 654, 9659], [2.1532132625579834, 11, 7910], [2.1524765491485596, 280, 5591], [2.1523561477661133, 93, 5801], [2.1520965099334717, 131, 3596], [2.1516408920288086, 1008, 4358], [2.1511425971984863, 882, 5463], [2.1504757404327393, 48, 8155], [2.1504085063934326, 198, 8441], [2.1503725051879883, 469, 4142], [2.1503453254699707, 542, 5043], [2.1500818729400635, 56, 2238], [2.1492295265197754, 156, 4599], [2.1479315757751465, 175, 9717], [2.1476316452026367, 91, 9231], [2.1469027996063232, 186, 3559], [2.146031379699707, 879, 5784], [2.1456713676452637, 411, 7147], [2.1443471908569336, 760, 6611], [2.1440181732177734, 532, 7021], [2.1430599689483643, 264, 8835], [2.143047332763672, 225, 4821], [2.1428608894348145, 310, 4036], [2.1416549682617188, 665, 7411], [2.1416029930114746, 106, 6465], [2.1415345668792725, 330, 2895], [2.1401171684265137, 299, 7897], [2.1400375366210938, 206, 3920], [2.1396677494049072, 109, 3223], [2.1392416954040527, 166, 4486], [2.1392345428466797, 557, 9533], [2.1391494274139404, 93, 8823], [2.1389949321746826, 647, 8290], [2.138468027114868, 55, 7396], [2.1379027366638184, 398, 4074], [2.137479782104492, 125, 7010], [2.137261390686035, 712, 3583], [2.1372103691101074, 626, 4993], [2.1361818313598633, 96, 1388], [2.135707139968872, 18, 6765], [2.135648727416992, 1009, 9305], [2.135406970977783, 628, 9115], [2.1344432830810547, 241, 4891], [2.1342523097991943, 86, 9805], [2.1332130432128906, 106, 3697], [2.1331589221954346, 494, 5626], [2.132988214492798, 640, 6693], [2.1329052448272705, 918, 9209], [2.132664442062378, 393, 7434], [2.1325807571411133, 198, 1157], [2.132478713989258, 1017, 2343], [2.1324658393859863, 872, 5147], [2.1316025257110596, 320, 8949], [2.1314337253570557, 634, 9866], [2.1308205127716064, 145, 2150], [2.1307754516601562, 191, 6212], [2.130497932434082, 156, 4889], [2.130394697189331, 27, 5328], [2.1299121379852295, 33, 3591], [2.1298675537109375, 47, 6269], [2.1273281574249268, 265, 6402], [2.1257917881011963, 894, 3113], [2.1257193088531494, 985, 5852], [2.1255595684051514, 393, 224], [2.1251907348632812, 70, 2355], [2.1251907348632812, 70, 8724], [2.124652624130249, 534, 2512], [2.1244864463806152, 923, 4233], [2.1241610050201416, 364, 3647], [2.123901605606079, 121, 7040], [2.123870372772217, 481, 4583], [2.1238389015197754, 126, 1494], [2.1237850189208984, 43, 9726], [2.1230993270874023, 221, 222], [2.1227457523345947, 13, 959], [2.1226627826690674, 28, 2550], [2.122454881668091, 825, 8804], [2.1223981380462646, 62, 7060], [2.1219799518585205, 534, 3750], [2.1218864917755127, 32, 5895], [2.121567964553833, 609, 7046], [2.121082067489624, 99, 3607], [2.120828866958618, 48, 2410], [2.1205406188964844, 159, 3472], [2.1204428672790527, 651, 8693], [2.1200673580169678, 284, 1955], [2.119793176651001, 841, 7737], [2.1191744804382324, 50, 767], [2.119166612625122, 381, 8104], [2.11889910697937, 335, 4580], [2.118345260620117, 114, 22], [2.1181867122650146, 163, 7200], [2.1173136234283447, 299, 9603], [2.116211175918579, 478, 6192], [2.116163730621338, 71, 9612], [2.1160709857940674, 101, 6834], [2.1158127784729004, 669, 8170], [2.115222454071045, 391, 7424], [2.1149380207061768, 255, 8710], [2.1142823696136475, 14, 8662], [2.1142261028289795, 335, 8196], [2.1133546829223633, 959, 9503], [2.113074779510498, 202, 4065], [2.112039089202881, 17, 2346], [2.1116580963134766, 112, 9408], [2.1115174293518066, 245, 5340], [2.110592842102051, 97, 2749], [2.1092119216918945, 251, 25], [2.109175205230713, 357, 6969], [2.1089394092559814, 328, 3764], [2.1089062690734863, 99, 7210], [2.1088950634002686, 972, 4370], [2.108274221420288, 117, 2653], [2.1081485748291016, 131, 151], [2.1080753803253174, 765, 4915], [2.1074466705322266, 55, 221], [2.107041597366333, 572, 6849], [2.106651782989502, 739, 1499], [2.1053929328918457, 836, 6523], [2.1052064895629883, 968, 3453], [2.104950189590454, 108, 6065], [2.104691982269287, 162, 5200], [2.1045732498168945, 377, 9684], [2.1038269996643066, 94, 92], [2.1035091876983643, 456, 1702], [2.103151798248291, 671, 8308], [2.1018996238708496, 388, 1988], [2.101766347885132, 160, 6558], [2.1013095378875732, 729, 9810], [2.100093364715576, 62, 9996], [2.099949836730957, 131, 220], [2.0993363857269287, 737, 5128], [2.0988106727600098, 140, 1761], [2.098402738571167, 61, 1591], [2.0982468128204346, 327, 3896], [2.0975148677825928, 210, 3477], [2.0973777770996094, 268, 5171], [2.0966880321502686, 526, 7232], [2.0956387519836426, 67, 6479], [2.094550132751465, 491, 3984], [2.0941123962402344, 518, 539], [2.0930118560791016, 362, 8618], [2.092939615249634, 887, 3821], [2.0928573608398438, 61, 9022], [2.0918047428131104, 77, 5312], [2.0913562774658203, 192, 7188], [2.0910239219665527, 316, 2047], [2.0903255939483643, 660, 5567], [2.089639902114868, 148, 4671], [2.089167594909668, 426, 7316], [2.0890750885009766, 30, 1993], [2.089054822921753, 215, 407], [2.0880019664764404, 430, 7354], [2.0867364406585693, 411, 2803], [2.0858242511749268, 747, 3130], [2.0853567123413086, 186, 5441], [2.085038900375366, 565, 9350], [2.0849156379699707, 690, 2229], [2.084728956222534, 289, 4582], [2.0846872329711914, 725, 813], [2.084547281265259, 828, 2494], [2.0838260650634766, 832, 4940], [2.082909345626831, 106, 4593], [2.082897663116455, 228, 3430], [2.0822274684906006, 174, 1046], [2.082148790359497, 89, 9955], [2.082076072692871, 580, 5539], [2.081899881362915, 81, 4791], [2.079956531524658, 617, 9991], [2.0794014930725098, 138, 5354], [2.079099178314209, 238, 7650], [2.0782086849212646, 587, 9778], [2.077951669692993, 741, 925], [2.0774924755096436, 83, 219], [2.0771751403808594, 56, 5196], [2.076986789703369, 178, 8426], [2.0769453048706055, 128, 2003], [2.0767388343811035, 715, 5348], [2.076622486114502, 720, 4125], [2.0764670372009277, 40, 6108], [2.0760059356689453, 77, 1239], [2.075226068496704, 304, 9936], [2.074739933013916, 706, 1468], [2.074608564376831, 40, 785], [2.0745155811309814, 246, 5871], [2.0744705200195312, 1017, 3726], [2.0743327140808105, 905, 6893], [2.0739550590515137, 195, 1436], [2.0734798908233643, 709, 4702], [2.0729098320007324, 13, 3164], [2.072899341583252, 37, 5214], [2.0728137493133545, 375, 8831], [2.0725173950195312, 204, 3426], [2.0722222328186035, 10, 3540], [2.0721142292022705, 171, 3444], [2.0719056129455566, 156, 3111], [2.0712759494781494, 606, 815], [2.0711705684661865, 102, 1495], [2.071110486984253, 48, 7978], [2.0709073543548584, 554, 9941], [2.0707011222839355, 861, 1689], [2.0703494548797607, 110, 1931], [2.069615364074707, 457, 4698], [2.069129228591919, 196, 3490], [2.0690150260925293, 269, 1651], [2.0689516067504883, 616, 282], [2.0673255920410156, 662, 4265], [2.0662477016448975, 281, 7775], [2.0658657550811768, 970, 295], [2.065702438354492, 12, 6201], [2.0654215812683105, 111, 3025], [2.0650954246520996, 257, 4648], [2.065067768096924, 977, 5743], [2.064241409301758, 30, 3069], [2.063933849334717, 91, 8086], [2.0635695457458496, 101, 5035], [2.0633115768432617, 526, 9083], [2.062835931777954, 456, 9057], [2.062342405319214, 114, 6235], [2.062112331390381, 879, 7677], [2.061161518096924, 201, 6320], [2.060675859451294, 28, 3270], [2.0605030059814453, 236, 4115], [2.0599377155303955, 237, 4128], [2.0599098205566406, 157, 8167], [2.0598440170288086, 86, 1295], [2.0597758293151855, 251, 3356], [2.059687852859497, 49, 9642], [2.059417486190796, 205, 8417], [2.0592262744903564, 396, 8255], [2.0585761070251465, 203, 8655], [2.0584232807159424, 33, 8735], [2.058377504348755, 240, 426], [2.0583600997924805, 119, 75], [2.0582587718963623, 213, 1547], [2.058131456375122, 732, 8171], [2.057440757751465, 10, 3753], [2.0570790767669678, 815, 505], [2.0568885803222656, 1009, 1380], [2.0566539764404297, 157, 3873], [2.0566444396972656, 429, 2260], [2.056368112564087, 198, 5417], [2.0553770065307617, 173, 8585], [2.0552735328674316, 376, 6409], [2.0552098751068115, 103, 831], [2.0550167560577393, 88, 2286], [2.0546414852142334, 35, 3805], [2.054431200027466, 183, 283], [2.054064989089966, 329, 4380], [2.05354642868042, 726, 9437], [2.0533573627471924, 189, 1482], [2.053205728530884, 222, 8327], [2.052994966506958, 41, 7498], [2.052225351333618, 181, 3074], [2.051988124847412, 77, 9029], [2.0517466068267822, 100, 8091], [2.05134916305542, 249, 882], [2.051149368286133, 231, 7234], [2.050471544265747, 145, 2743], [2.0499067306518555, 75, 8759], [2.0496232509613037, 247, 5555], [2.0491867065429688, 732, 1292], [2.0489397048950195, 720, 8950], [2.048450231552124, 423, 9035], [2.0468828678131104, 179, 5300], [2.0468757152557373, 14, 7446], [2.046755313873291, 108, 7877], [2.0452287197113037, 38, 9702], [2.0451853275299072, 53, 1196], [2.04499888420105, 30, 7694], [2.0443856716156006, 619, 7562], [2.0440943241119385, 999, 6055], [2.04404878616333, 788, 8607], [2.0438551902770996, 412, 567], [2.0437209606170654, 17, 8877], [2.0433290004730225, 49, 5683], [2.0433151721954346, 66, 4984], [2.043121814727783, 113, 3624], [2.0428435802459717, 442, 8475], [2.0427403450012207, 477, 9374], [2.042224884033203, 32, 4302], [2.0421671867370605, 93, 5863], [2.0418171882629395, 323, 4855], [2.041749954223633, 234, 2502], [2.041168451309204, 215, 6042], [2.0408315658569336, 305, 1927], [2.0400874614715576, 229, 3378], [2.0392963886260986, 440, 9233], [2.0392355918884277, 997, 1803], [2.038571834564209, 15, 6049], [2.038440704345703, 918, 2920], [2.037937879562378, 597, 6285], [2.0376996994018555, 828, 9663], [2.0374507904052734, 183, 9403], [2.03741455078125, 162, 7537], [2.037071943283081, 346, 7030], [2.036783218383789, 717, 7038], [2.036536931991577, 499, 1793], [2.0359487533569336, 840, 6495], [2.035619020462036, 184, 2393], [2.03550124168396, 145, 844], [2.0343024730682373, 386, 449], [2.0329809188842773, 508, 3405], [2.032494306564331, 152, 5432], [2.0315632820129395, 184, 5928], [2.031405448913574, 17, 3861], [2.031278610229492, 547, 6447], [2.0309152603149414, 215, 4009], [2.0307693481445312, 165, 4111], [2.0306570529937744, 95, 4631], [2.0305306911468506, 951, 2995], [2.030437469482422, 284, 4259], [2.0300991535186768, 62, 7511], [2.029911994934082, 591, 2972], [2.029646873474121, 267, 3852], [2.0296318531036377, 439, 3949], [2.0281918048858643, 238, 3371], [2.0281527042388916, 528, 2669], [2.027996063232422, 107, 6121], [2.027651786804199, 281, 3636], [2.027263641357422, 60, 3711], [2.0272295475006104, 213, 118], [2.02675199508667, 30, 5568], [2.0257039070129395, 269, 7712], [2.0245065689086914, 609, 5453], [2.0238959789276123, 208, 4778], [2.0235562324523926, 184, 7364], [2.023145914077759, 88, 1872], [2.022510528564453, 329, 5547], [2.0220513343811035, 518, 6445], [2.021996021270752, 86, 1085], [2.0219154357910156, 26, 3243], [2.021913766860962, 112, 7930], [2.0209908485412598, 219, 4528], [2.0203373432159424, 239, 2729], [2.020303964614868, 39, 5306], [2.0202348232269287, 303, 1939], [2.020172119140625, 244, 7117], [2.0200157165527344, 245, 771], [2.019681453704834, 111, 8888], [2.019447088241577, 133, 6552], [2.0189294815063477, 155, 4502], [2.018437385559082, 147, 8904], [2.0183870792388916, 907, 8944], [2.0178020000457764, 288, 6725], [2.017650604248047, 462, 7265], [2.017430305480957, 287, 8915], [2.017141103744507, 263, 2315], [2.01662278175354, 782, 4970], [2.016566753387451, 559, 285], [2.0165436267852783, 88, 3080], [2.0164215564727783, 143, 8675], [2.0160036087036133, 92, 5375], [2.0159502029418945, 157, 418], [2.0156311988830566, 238, 7879], [2.015120267868042, 796, 1119], [2.0150551795959473, 775, 8074], [2.013355016708374, 232, 139], [2.013270139694214, 273, 2860], [2.0129287242889404, 198, 6122], [2.012272834777832, 26, 5020], [2.0115225315093994, 869, 7781], [2.011359453201294, 139, 5593], [2.0108561515808105, 62, 3989], [2.0108156204223633, 161, 5335], [2.01077938079834, 79, 2647], [2.010009765625, 942, 9332], [2.009427785873413, 200, 3245], [2.0089714527130127, 766, 3316], [2.0087192058563232, 95, 2899], [2.00866961479187, 498, 866], [2.0080528259277344, 172, 6426], [2.0077269077301025, 729, 5226], [2.0076394081115723, 126, 515], [2.0066275596618652, 106, 259], [2.0065934658050537, 120, 6141], [2.005826711654663, 118, 3209], [2.0056729316711426, 158, 8574], [2.0052950382232666, 189, 4071], [2.005159854888916, 160, 5486], [2.0051441192626953, 478, 7175], [2.004995107650757, 240, 546], [2.004918098449707, 618, 2711], [2.0047147274017334, 290, 263], [2.0046021938323975, 57, 4161], [2.004481077194214, 26, 4569], [2.0042622089385986, 53, 1544], [2.0039048194885254, 220, 9088], [2.0026049613952637, 81, 7899], [2.0025453567504883, 273, 2079], [2.001889228820801, 255, 8353], [2.0012805461883545, 468, 5859], [2.001067638397217, 356, 1373], [2.000737190246582, 1001, 7190], [1.9996981620788574, 1017, 5966], [1.9988462924957275, 232, 9469], [1.9984734058380127, 194, 1974], [1.9981979131698608, 25, 51], [1.9979000091552734, 22, 7911], [1.9975329637527466, 227, 3532], [1.9975084066390991, 578, 8651], [1.997402548789978, 877, 4351], [1.9967799186706543, 366, 9611], [1.99626624584198, 253, 5513], [1.9960695505142212, 619, 7239], [1.995900273323059, 78, 3454], [1.9949429035186768, 112, 1896], [1.9948067665100098, 407, 838], [1.9946434497833252, 215, 2388], [1.9944589138031006, 504, 5135], [1.9944560527801514, 14, 2596], [1.994286298751831, 82, 9193], [1.9941493272781372, 523, 3639], [1.9936742782592773, 176, 1199], [1.9936549663543701, 130, 5045], [1.993347406387329, 276, 7755], [1.9933161735534668, 44, 7670], [1.993278980255127, 301, 7371], [1.9929972887039185, 482, 4660], [1.9923255443572998, 85, 9201], [1.9918292760849, 1019, 560], [1.9916632175445557, 35, 8515], [1.9912627935409546, 186, 114], [1.9909734725952148, 178, 421], [1.9906492233276367, 334, 6314], [1.9902751445770264, 28, 4296], [1.989564299583435, 136, 1321], [1.9891972541809082, 81, 5728], [1.9888639450073242, 45, 2013], [1.9874824285507202, 347, 9269], [1.9870961904525757, 965, 7568], [1.9860161542892456, 740, 6658], [1.9859720468521118, 370, 3991], [1.985559105873108, 71, 9815], [1.9851800203323364, 744, 5297], [1.9850629568099976, 43, 6738], [1.9846936464309692, 48, 8728], [1.9843841791152954, 18, 3904], [1.983383059501648, 122, 3804], [1.9831955432891846, 246, 5338], [1.9831668138504028, 86, 1081], [1.9823498725891113, 68, 4840], [1.982007622718811, 816, 4620], [1.9819591045379639, 209, 1883], [1.9817718267440796, 350, 8673], [1.9817135334014893, 905, 252], [1.9815922975540161, 38, 7490], [1.981417179107666, 581, 3918], [1.9813919067382812, 527, 8674], [1.9810878038406372, 122, 8272], [1.9805749654769897, 166, 7185], [1.980122447013855, 138, 8589], [1.9797508716583252, 237, 6631], [1.9793453216552734, 207, 7982], [1.979120135307312, 991, 2588], [1.9784132242202759, 221, 416], [1.9776413440704346, 855, 8991], [1.9774543046951294, 220, 7518], [1.9756011962890625, 878, 3360], [1.9752188920974731, 70, 5759], [1.9749128818511963, 762, 3260], [1.9740381240844727, 53, 5059], [1.973888635635376, 37, 6804], [1.9731563329696655, 380, 6572], [1.9727065563201904, 237, 5444], [1.9726358652114868, 57, 5765], [1.972172498703003, 161, 2649], [1.971219778060913, 657, 4957], [1.9712127447128296, 121, 2336], [1.971187710762024, 613, 156], [1.9702047109603882, 732, 7222], [1.9701393842697144, 300, 2902], [1.9694743156433105, 920, 470], [1.9691777229309082, 47, 7243], [1.9688315391540527, 37, 3672], [1.9687104225158691, 501, 5302], [1.9686877727508545, 194, 6403], [1.9682822227478027, 339, 5840], [1.9678213596343994, 60, 5475], [1.9669543504714966, 50, 6588], [1.9667305946350098, 83, 1814], [1.966465950012207, 576, 8381], [1.966179370880127, 210, 1404], [1.9660769701004028, 285, 1718], [1.965598225593567, 599, 6726], [1.965466856956482, 26, 184], [1.9654150009155273, 21, 2624], [1.9650479555130005, 206, 1316], [1.963965654373169, 951, 3640], [1.9636071920394897, 324, 8395], [1.9632741212844849, 168, 610], [1.962952971458435, 63, 4250], [1.962759017944336, 81, 7671], [1.9626655578613281, 270, 1744], [1.961499571800232, 385, 7273], [1.9601783752441406, 612, 2227], [1.9596822261810303, 36, 9041], [1.9596625566482544, 223, 4637], [1.9595527648925781, 964, 3910], [1.9587774276733398, 25, 9947], [1.958287239074707, 251, 4245], [1.9580515623092651, 215, 1752], [1.9577765464782715, 28, 5243], [1.9570950269699097, 139, 7761], [1.9565308094024658, 53, 3314], [1.9564908742904663, 146, 277], [1.9559698104858398, 97, 6689], [1.955180287361145, 201, 3652], [1.9549695253372192, 534, 9791], [1.954764485359192, 553, 8918], [1.9536052942276, 539, 6777], [1.952939748764038, 25, 5270], [1.952919602394104, 310, 8754], [1.9525940418243408, 208, 969], [1.9523591995239258, 99, 5461], [1.952116847038269, 52, 1962], [1.9520996809005737, 68, 9861], [1.9518276453018188, 201, 8019], [1.9514083862304688, 84, 3475], [1.9501831531524658, 23, 4205], [1.950107216835022, 1009, 6778], [1.950087070465088, 696, 7184], [1.9500095844268799, 583, 8181], [1.9496744871139526, 192, 7977], [1.949254035949707, 417, 7122], [1.9491158723831177, 242, 5709], [1.948518991470337, 184, 5531], [1.9482477903366089, 111, 7532], [1.9475369453430176, 433, 6899], [1.9466466903686523, 829, 3189], [1.9464125633239746, 264, 4241], [1.946022391319275, 206, 5056], [1.9456934928894043, 158, 9045], [1.9454184770584106, 242, 6218], [1.9451897144317627, 80, 6079], [1.9446676969528198, 537, 4200], [1.9446407556533813, 128, 5725], [1.9444953203201294, 52, 4912], [1.9442380666732788, 585, 5522], [1.9440699815750122, 602, 3541], [1.9436073303222656, 458, 9846], [1.9420890808105469, 185, 6084], [1.9419095516204834, 466, 652], [1.9414206743240356, 437, 1598], [1.941051721572876, 319, 8254], [1.940388798713684, 711, 7471], [1.9402718544006348, 465, 3043], [1.9402434825897217, 567, 562], [1.9401315450668335, 145, 8863], [1.9385522603988647, 13, 2381], [1.9383063316345215, 220, 9841], [1.9382151365280151, 49, 808], [1.938111662864685, 356, 1580], [1.9375488758087158, 227, 8785], [1.9374878406524658, 114, 7137], [1.9373804330825806, 280, 9053], [1.937206745147705, 101, 2682], [1.936898112297058, 46, 9289], [1.936536431312561, 78, 5293], [1.9364440441131592, 816, 1047], [1.9356529712677002, 266, 4823], [1.935646653175354, 359, 6082], [1.9349067211151123, 145, 674], [1.9344825744628906, 45, 8699], [1.9341654777526855, 488, 4203], [1.9341087341308594, 288, 6865], [1.934034824371338, 133, 1519], [1.9331109523773193, 407, 4030], [1.932478427886963, 380, 8815], [1.9321784973144531, 116, 635], [1.9320982694625854, 151, 7554], [1.9316236972808838, 838, 9740], [1.9311027526855469, 198, 2566], [1.9310957193374634, 703, 1652], [1.9304558038711548, 495, 2805], [1.9296331405639648, 154, 6170], [1.929511547088623, 632, 8276], [1.928792119026184, 186, 1827], [1.9282890558242798, 66, 7561], [1.9281128644943237, 62, 2761], [1.9280349016189575, 85, 2233], [1.9278844594955444, 279, 3622], [1.9277411699295044, 78, 6215], [1.9275939464569092, 770, 9959], [1.9271388053894043, 68, 7084], [1.9266657829284668, 176, 5012], [1.9265697002410889, 289, 168], [1.926450252532959, 275, 9766], [1.926396131515503, 113, 4225], [1.9263801574707031, 73, 199], [1.9263107776641846, 67, 1780], [1.9260432720184326, 737, 7205], [1.9254369735717773, 153, 386], [1.9251710176467896, 330, 2145], [1.924957513809204, 929, 2394], [1.92424476146698, 204, 180], [1.9240003824234009, 131, 1839], [1.9238371849060059, 323, 4297], [1.9238215684890747, 266, 2316], [1.9234901666641235, 289, 296], [1.9223252534866333, 650, 9934], [1.9218757152557373, 334, 1851], [1.921708106994629, 51, 9605], [1.920827031135559, 293, 1472], [1.9206738471984863, 380, 365], [1.9197964668273926, 293, 3518], [1.9194711446762085, 974, 9191], [1.9188978672027588, 476, 1911], [1.9183151721954346, 877, 8864], [1.9180718660354614, 363, 1447], [1.9179819822311401, 839, 712], [1.9178223609924316, 619, 1948], [1.9177546501159668, 232, 6254], [1.917617678642273, 237, 8068], [1.9175833463668823, 156, 3040], [1.9169739484786987, 128, 4482], [1.916865348815918, 321, 3185], [1.9166277647018433, 67, 150], [1.916552186012268, 81, 6365], [1.9162732362747192, 216, 9042], [1.9161732196807861, 196, 331], [1.9161336421966553, 597, 688], [1.9154608249664307, 96, 9252], [1.9154385328292847, 956, 760], [1.915242314338684, 184, 8351], [1.9147545099258423, 39, 7420], [1.914165735244751, 73, 9065], [1.9141099452972412, 439, 4638], [1.9132567644119263, 17, 8892], [1.9128748178482056, 487, 960], [1.912201166152954, 45, 4008], [1.9120042324066162, 212, 4464], [1.9111627340316772, 845, 7668], [1.9110547304153442, 122, 3401], [1.9107513427734375, 673, 5288], [1.9105982780456543, 985, 9293], [1.9099003076553345, 296, 8524], [1.9097317457199097, 50, 1995], [1.9096386432647705, 104, 6644], [1.9087227582931519, 267, 7527], [1.9086393117904663, 274, 1679], [1.9082940816879272, 24, 2307], [1.9081426858901978, 11, 4252], [1.90768563747406, 268, 2883], [1.9070460796356201, 283, 9556], [1.906926155090332, 15, 1195], [1.9068413972854614, 548, 7162], [1.906726598739624, 275, 645], [1.9064273834228516, 267, 7323], [1.9059383869171143, 288, 9285], [1.9052470922470093, 189, 6902], [1.904600977897644, 160, 2407], [1.9043645858764648, 392, 9062], [1.9040318727493286, 537, 3516], [1.9038982391357422, 74, 7254], [1.9037554264068604, 26, 3412], [1.903281807899475, 40, 8982], [1.9031476974487305, 114, 7003], [1.903075098991394, 28, 4388], [1.9023677110671997, 42, 2240], [1.9004687070846558, 960, 2160], [1.8992774486541748, 446, 3848], [1.8977755308151245, 852, 3908], [1.897149682044983, 588, 4399], [1.8970746994018555, 503, 6299], [1.89638352394104, 235, 763], [1.8958107233047485, 241, 4324], [1.8954722881317139, 188, 3383], [1.8953101634979248, 578, 6957], [1.894171118736267, 112, 2541], [1.8940598964691162, 25, 3196], [1.893678903579712, 737, 7916], [1.8936784267425537, 159, 5007], [1.8933438062667847, 135, 4979], [1.8929688930511475, 84, 1238], [1.8928921222686768, 535, 4774], [1.8926844596862793, 218, 3941], [1.892682671546936, 36, 4831], [1.8925843238830566, 65, 4793], [1.8920730352401733, 212, 8015], [1.8920637369155884, 324, 7435], [1.891453504562378, 402, 8577], [1.891413688659668, 247, 6807], [1.8907537460327148, 987, 1731], [1.890662431716919, 95, 3403], [1.8905502557754517, 208, 5255], [1.890290379524231, 26, 2970], [1.8898900747299194, 45, 845], [1.8898844718933105, 41, 4996], [1.8888931274414062, 432, 3815], [1.8888555765151978, 84, 7973], [1.8888109922409058, 99, 6021], [1.888548493385315, 97, 3696], [1.8885411024093628, 362, 9786], [1.8883655071258545, 48, 5684], [1.888132929801941, 157, 5612], [1.8873703479766846, 350, 8824], [1.8872299194335938, 23, 9271], [1.8872109651565552, 310, 3129], [1.886338472366333, 168, 6255], [1.886244773864746, 722, 2201], [1.8861346244812012, 40, 6727], [1.886132836341858, 176, 9422], [1.8849858045578003, 50, 42], [1.8848209381103516, 349, 2618], [1.884756088256836, 152, 8153], [1.8846560716629028, 379, 136], [1.8845252990722656, 33, 1677], [1.8844835758209229, 55, 1449], [1.8842610120773315, 259, 3353], [1.8838497400283813, 799, 7945], [1.8833036422729492, 242, 1704], [1.8822288513183594, 342, 8077], [1.8821686506271362, 38, 7681], [1.8807122707366943, 82, 1461], [1.8805745840072632, 132, 439], [1.8804432153701782, 7, 5098], [1.8804267644882202, 557, 8174], [1.8801300525665283, 479, 6469], [1.8798391819000244, 514, 2072], [1.878948450088501, 518, 4942], [1.878718376159668, 285, 2423], [1.8784894943237305, 120, 9568], [1.878442645072937, 703, 7863], [1.8780888319015503, 327, 9421], [1.8780696392059326, 537, 3407], [1.8774164915084839, 13, 6748], [1.877219557762146, 287, 5041], [1.876923680305481, 618, 7109], [1.8760758638381958, 124, 793], [1.8755300045013428, 13, 7875], [1.875404953956604, 125, 2998], [1.8746317625045776, 592, 4673], [1.8744434118270874, 135, 8895], [1.8741936683654785, 302, 2844], [1.8741919994354248, 94, 384], [1.8741329908370972, 344, 5979], [1.87361478805542, 957, 213], [1.8731651306152344, 35, 2507], [1.8725993633270264, 74, 231], [1.8724027872085571, 865, 8628], [1.8719006776809692, 23, 5953], [1.871323585510254, 50, 4576], [1.8712555170059204, 447, 6026], [1.8711074590682983, 54, 5542], [1.8705214262008667, 139, 8992], [1.8700658082962036, 935, 3580], [1.869950532913208, 34, 477], [1.869774580001831, 58, 3470], [1.8696918487548828, 242, 2977], [1.8696694374084473, 91, 7700], [1.869407296180725, 52, 9482], [1.8691297769546509, 318, 3763], [1.8689498901367188, 80, 2884], [1.868726372718811, 133, 1884], [1.868645429611206, 183, 9677], [1.8683700561523438, 455, 5544], [1.8680468797683716, 683, 1860], [1.8679090738296509, 968, 1145], [1.8678804636001587, 53, 9647], [1.8676438331604004, 10, 3248], [1.8673783540725708, 51, 9489], [1.8668265342712402, 105, 1244], [1.8667306900024414, 82, 2839], [1.8667298555374146, 325, 9141], [1.8663491010665894, 288, 7563], [1.866211175918579, 629, 8630], [1.865816593170166, 59, 4474], [1.8650096654891968, 679, 8295], [1.8647924661636353, 275, 2578], [1.8647764921188354, 342, 2741], [1.8647236824035645, 475, 1865], [1.8637707233428955, 289, 4251], [1.8635090589523315, 18, 3079], [1.8633290529251099, 212, 3588], [1.8631027936935425, 159, 1756], [1.8623013496398926, 953, 8712], [1.8621641397476196, 837, 6929], [1.8621004819869995, 171, 3041], [1.8620202541351318, 191, 8486], [1.8617860078811646, 92, 3502], [1.8617497682571411, 103, 2913], [1.8612548112869263, 591, 6143], [1.8611516952514648, 173, 2646], [1.8610930442810059, 70, 1518], [1.8596540689468384, 859, 1683], [1.8594932556152344, 34, 9708], [1.8594411611557007, 889, 4531], [1.8592917919158936, 65, 8790], [1.8592674732208252, 769, 1941], [1.859182596206665, 77, 5889], [1.8588536977767944, 151, 1069], [1.858773946762085, 6, 2459], [1.8586822748184204, 821, 6650], [1.857475996017456, 375, 3554], [1.8571096658706665, 707, 3695], [1.8570237159729004, 68, 2425], [1.856688380241394, 48, 5779], [1.8566279411315918, 619, 8400], [1.856131672859192, 270, 8342], [1.8557378053665161, 306, 5472], [1.855505347251892, 70, 9340], [1.854392647743225, 33, 4485], [1.8540507555007935, 328, 317], [1.8538100719451904, 328, 5420], [1.8533011674880981, 86, 3028], [1.853152871131897, 5, 9645], [1.8526945114135742, 294, 1653], [1.8522076606750488, 37, 7015], [1.8520987033843994, 83, 7335], [1.8513277769088745, 450, 4675], [1.8512983322143555, 408, 8579], [1.851025104522705, 516, 6277], [1.8508005142211914, 266, 9159], [1.8507435321807861, 179, 1337], [1.8501009941101074, 91, 4335], [1.849923014640808, 854, 4800], [1.8490793704986572, 178, 7818], [1.849021553993225, 156, 3914], [1.8486772775650024, 283, 2616], [1.848369836807251, 245, 1183], [1.848294734954834, 81, 8439], [1.847891926765442, 391, 5195], [1.847765326499939, 297, 953], [1.8476890325546265, 482, 1479], [1.8472310304641724, 85, 4007], [1.8469147682189941, 367, 2357], [1.8463029861450195, 272, 4264], [1.845811367034912, 577, 6135], [1.8438071012496948, 51, 6491], [1.8436172008514404, 122, 4417], [1.8433860540390015, 235, 5556], [1.8427904844284058, 182, 6941], [1.842322587966919, 854, 993], [1.8415191173553467, 21, 6195], [1.841076374053955, 13, 4332], [1.8404847383499146, 304, 987], [1.840442180633545, 866, 5108], [1.8394665718078613, 809, 2305], [1.839416265487671, 460, 3489], [1.8387486934661865, 103, 1716], [1.8384042978286743, 362, 2440], [1.8378101587295532, 340, 9522], [1.837567687034607, 277, 1354], [1.837475061416626, 107, 2707], [1.837406039237976, 232, 9171], [1.837266445159912, 95, 2919], [1.8370784521102905, 726, 7014], [1.836674690246582, 278, 5814], [1.8363227844238281, 189, 5455], [1.8358675241470337, 270, 3372], [1.8358466625213623, 576, 5575], [1.8358181715011597, 58, 4626], [1.8356623649597168, 368, 5079], [1.8349581956863403, 180, 5299], [1.834547758102417, 82, 2087], [1.834242582321167, 802, 4026], [1.8337987661361694, 22, 8148], [1.833712100982666, 875, 7244], [1.8336999416351318, 754, 7522], [1.8335552215576172, 184, 9246], [1.8332561254501343, 392, 9488], [1.833147406578064, 358, 8384], [1.833014965057373, 356, 6050], [1.8322683572769165, 128, 9782], [1.8321545124053955, 100, 5111], [1.8321495056152344, 199, 6977], [1.8316489458084106, 53, 1227], [1.8315566778182983, 600, 532], [1.8314576148986816, 288, 3810], [1.8310178518295288, 43, 3648], [1.8300604820251465, 256, 274], [1.8297884464263916, 768, 5199], [1.8296314477920532, 223, 298], [1.8291629552841187, 345, 5621], [1.8291057348251343, 340, 8691], [1.8287938833236694, 81, 1868], [1.828357458114624, 77, 2958], [1.8280858993530273, 330, 6617], [1.8275048732757568, 222, 3170], [1.827492356300354, 220, 5418], [1.8268674612045288, 684, 6753], [1.826589584350586, 237, 8919], [1.826324224472046, 388, 246], [1.8262919187545776, 371, 9691], [1.8262450695037842, 245, 4024], [1.8259336948394775, 152, 1148], [1.8257790803909302, 121, 6808], [1.8255194425582886, 452, 223], [1.8250041007995605, 1002, 9420], [1.8248142004013062, 933, 6208], [1.824806571006775, 41, 5974], [1.8246142864227295, 196, 3660], [1.8241777420043945, 247, 1663], [1.8241485357284546, 167, 6244], [1.8233091831207275, 560, 6258], [1.8232566118240356, 461, 1200], [1.82302987575531, 997, 9136], [1.821729302406311, 4, 8350], [1.8214317560195923, 137, 9985], [1.8205400705337524, 245, 188], [1.820444941520691, 243, 2138], [1.8203239440917969, 158, 1029], [1.820287823677063, 176, 5144], [1.8202753067016602, 93, 5900], [1.8189151287078857, 14, 3618], [1.8188741207122803, 117, 6852], [1.818706750869751, 310, 4409], [1.8186935186386108, 528, 1221], [1.8186113834381104, 416, 9924], [1.8179912567138672, 809, 4844], [1.8177026510238647, 190, 6597], [1.8168693780899048, 243, 1524], [1.8162462711334229, 242, 8612], [1.8161853551864624, 17, 3917], [1.8161650896072388, 276, 7523], [1.8157963752746582, 98, 5363], [1.815780758857727, 414, 3493], [1.8153976202011108, 36, 1533], [1.8153667449951172, 449, 8078], [1.8152633905410767, 670, 7858], [1.8143315315246582, 786, 8316], [1.813692331314087, 88, 982], [1.8132027387619019, 422, 2289], [1.8130476474761963, 31, 6513], [1.812993049621582, 900, 5139], [1.8121846914291382, 598, 2039], [1.812099814414978, 929, 4609], [1.8116018772125244, 261, 9381], [1.8115102052688599, 583, 2144], [1.8111599683761597, 221, 7170], [1.8105676174163818, 84, 4277], [1.8099430799484253, 472, 1087], [1.8097904920578003, 59, 3321], [1.8096064329147339, 161, 7645], [1.8079642057418823, 307, 9013], [1.8078539371490479, 449, 1103], [1.8074885606765747, 158, 3506], [1.8073527812957764, 511, 3282], [1.8072978258132935, 141, 5909], [1.806832194328308, 70, 325], [1.806075096130371, 93, 2218], [1.80599045753479, 474, 7986], [1.8057334423065186, 461, 6652], [1.8054076433181763, 92, 3115], [1.8051936626434326, 730, 2232], [1.8043878078460693, 69, 4514], [1.8041929006576538, 292, 4435], [1.8037307262420654, 343, 6889], [1.803591251373291, 545, 4260], [1.8033638000488281, 241, 8725], [1.8031556606292725, 51, 9728], [1.8030054569244385, 264, 691], [1.8028690814971924, 649, 1525], [1.8026623725891113, 272, 5025], [1.8025236129760742, 126, 2975], [1.802377700805664, 127, 9600], [1.8023020029067993, 112, 1275], [1.8022089004516602, 209, 605], [1.8016293048858643, 248, 6794], [1.801579236984253, 140, 6054], [1.8013113737106323, 52, 12], [1.8002878427505493, 535, 2980], [1.8002854585647583, 144, 1172], [1.8000985383987427, 39, 5394], [1.7993412017822266, 90, 8667], [1.7990518808364868, 134, 9733], [1.7986760139465332, 181, 1017], [1.7983530759811401, 773, 9839], [1.7966214418411255, 42, 4299], [1.7964063882827759, 794, 6231], [1.7946943044662476, 136, 1331], [1.7942696809768677, 157, 892], [1.7940949201583862, 460, 6421], [1.7940409183502197, 151, 4170], [1.7938604354858398, 62, 4718], [1.7934043407440186, 256, 7302], [1.7932138442993164, 430, 6095], [1.792889952659607, 265, 4060], [1.7918106317520142, 705, 5489], [1.7913819551467896, 181, 9392], [1.7911893129348755, 705, 2755], [1.7908934354782104, 107, 4538], [1.7904999256134033, 277, 519], [1.789846658706665, 210, 7067], [1.7894635200500488, 224, 4544], [1.7889769077301025, 75, 1789], [1.7879176139831543, 86, 67], [1.787705898284912, 95, 2416], [1.7871249914169312, 340, 5991], [1.7870004177093506, 38, 6359], [1.7865885496139526, 118, 8525], [1.7863610982894897, 75, 7488], [1.7860393524169922, 360, 4310], [1.785636305809021, 68, 1012], [1.7850595712661743, 162, 1834], [1.7849946022033691, 56, 8989], [1.784533977508545, 128, 5994], [1.7840558290481567, 122, 3105], [1.782958745956421, 22, 8442], [1.7826621532440186, 168, 1034], [1.7824286222457886, 222, 1781], [1.7818574905395508, 65, 7526], [1.7812966108322144, 58, 2927], [1.7809433937072754, 292, 1512], [1.7808442115783691, 261, 7173], [1.780428409576416, 191, 4162], [1.7802097797393799, 148, 1057], [1.7798413038253784, 68, 2293], [1.779268503189087, 813, 1464], [1.779261827468872, 55, 1022], [1.7791225910186768, 788, 6245], [1.7783271074295044, 25, 9063], [1.7782132625579834, 733, 4175], [1.7777316570281982, 161, 6196], [1.7769160270690918, 206, 3916], [1.7765706777572632, 398, 7950], [1.7764861583709717, 18, 1350], [1.774817943572998, 438, 5885], [1.7746906280517578, 232, 5063], [1.7746391296386719, 416, 4546], [1.7745550870895386, 892, 1231], [1.7731235027313232, 160, 4841], [1.7730183601379395, 53, 6607], [1.7724529504776, 109, 7689], [1.7718416452407837, 551, 3579], [1.7716460227966309, 129, 9144], [1.7714190483093262, 110, 3459], [1.771199107170105, 944, 2699], [1.771198034286499, 71, 3352], [1.770895004272461, 326, 8253], [1.7705847024917603, 174, 889], [1.7701947689056396, 648, 850], [1.770090937614441, 197, 980], [1.7698794603347778, 244, 5003], [1.7697937488555908, 73, 7436], [1.7696815729141235, 245, 6903], [1.7693058252334595, 564, 7967], [1.7688589096069336, 65, 1142], [1.7687263488769531, 52, 4807], [1.7684152126312256, 402, 7873], [1.7678301334381104, 44, 611], [1.7677345275878906, 173, 8016], [1.767374873161316, 324, 6354], [1.76736581325531, 160, 6472], [1.7669909000396729, 355, 6400], [1.7663260698318481, 12, 2568], [1.7662739753723145, 200, 9586], [1.7655704021453857, 161, 4666], [1.7647238969802856, 358, 9304], [1.7644840478897095, 300, 38], [1.763858675956726, 179, 9581], [1.7636382579803467, 131, 791], [1.7632468938827515, 400, 9960], [1.762948751449585, 462, 2615], [1.7628823518753052, 322, 6788], [1.7625917196273804, 132, 5238], [1.76239812374115, 498, 2523], [1.7623013257980347, 417, 804], [1.761630654335022, 882, 3766], [1.7616063356399536, 18, 3174], [1.760858416557312, 50, 96], [1.7601569890975952, 118, 9338], [1.759883999824524, 191, 6579], [1.7598687410354614, 48, 3000], [1.7592898607254028, 510, 923], [1.7588839530944824, 443, 7883], [1.7581796646118164, 45, 9809], [1.7577476501464844, 287, 5054], [1.757646083831787, 555, 7976], [1.7571226358413696, 51, 278], [1.757018804550171, 808, 3211], [1.756925106048584, 640, 7161], [1.7568457126617432, 222, 9196], [1.7562761306762695, 184, 876], [1.7556564807891846, 230, 3094], [1.755549430847168, 201, 2389], [1.7555232048034668, 23, 6561], [1.755170464515686, 323, 7611], [1.7544975280761719, 771, 2015], [1.7544889450073242, 41, 8980], [1.7534579038619995, 179, 6608], [1.7533212900161743, 204, 7226], [1.7532581090927124, 259, 7598], [1.7528128623962402, 356, 8328], [1.7526135444641113, 118, 4496], [1.752091407775879, 333, 7125], [1.751535177230835, 31, 170], [1.751415729522705, 100, 5969], [1.7505247592926025, 314, 3738], [1.7503700256347656, 4, 9139], [1.7500196695327759, 33, 9596], [1.7497386932373047, 220, 7893], [1.7495146989822388, 497, 6662], [1.7494680881500244, 58, 5505], [1.7493672370910645, 639, 1318], [1.748513102531433, 213, 6425], [1.7484544515609741, 596, 174], [1.7477102279663086, 227, 4322], [1.7473207712173462, 107, 5550], [1.7469427585601807, 290, 5250], [1.7464368343353271, 59, 6455], [1.7462396621704102, 33, 7453], [1.7451218366622925, 209, 2048], [1.7450577020645142, 257, 280], [1.7450199127197266, 358, 6460], [1.7432429790496826, 169, 6815], [1.742989420890808, 319, 9399], [1.7429393529891968, 160, 7070], [1.7426209449768066, 103, 4770], [1.742063045501709, 440, 1024], [1.7417998313903809, 387, 2893], [1.7416882514953613, 161, 5201], [1.7416421175003052, 34, 6357], [1.74148428440094, 109, 8374], [1.7411324977874756, 293, 2319], [1.7410987615585327, 3, 6838], [1.74068021774292, 900, 2103], [1.7402358055114746, 63, 2225], [1.7402325868606567, 640, 5347], [1.7401986122131348, 7, 9307], [1.7400634288787842, 155, 3391], [1.7397990226745605, 61, 5310], [1.7397822141647339, 66, 9919], [1.7397140264511108, 991, 5190], [1.7395843267440796, 38, 8371], [1.73933744430542, 171, 775], [1.7375602722167969, 538, 4129], [1.7372816801071167, 643, 9046], [1.7368264198303223, 82, 6737], [1.7361363172531128, 27, 4439], [1.7354131937026978, 38, 1926], [1.7352755069732666, 893, 6501], [1.7347848415374756, 357, 1798], [1.7344844341278076, 43, 6813], [1.7343441247940063, 497, 6156], [1.732516884803772, 194, 2067], [1.7323261499404907, 283, 5524], [1.7320481538772583, 410, 1326], [1.7317520380020142, 17, 7876], [1.7310863733291626, 28, 3386], [1.7299226522445679, 143, 3051], [1.7298024892807007, 79, 2890], [1.7292853593826294, 306, 7394], [1.7289841175079346, 326, 8147], [1.728957176208496, 22, 1353], [1.7288457155227661, 138, 1032], [1.728598952293396, 585, 2107], [1.7284266948699951, 150, 402], [1.7280982732772827, 144, 6463], [1.728074073791504, 995, 4766], [1.7279928922653198, 43, 5428], [1.7278084754943848, 438, 9564], [1.7271876335144043, 125, 8], [1.7269093990325928, 45, 3945], [1.7264431715011597, 742, 6377], [1.7262451648712158, 284, 3610], [1.7262309789657593, 309, 5971], [1.7258224487304688, 127, 8461], [1.725643515586853, 150, 6774], [1.7253201007843018, 83, 7807], [1.7251219749450684, 141, 2412], [1.7242926359176636, 446, 9812], [1.7225382328033447, 95, 1264], [1.7219804525375366, 404, 5608], [1.7219173908233643, 44, 7249], [1.7207950353622437, 59, 8932], [1.7206344604492188, 371, 3931], [1.7202740907669067, 174, 7887], [1.7196334600448608, 247, 2177], [1.7193193435668945, 864, 6709], [1.7188878059387207, 313, 2714], [1.7185205221176147, 639, 9319], [1.7183706760406494, 38, 4229], [1.7181988954544067, 422, 3626], [1.7180352210998535, 137, 9248], [1.7173104286193848, 496, 5075], [1.7169369459152222, 790, 547], [1.7164438962936401, 887, 9417], [1.7162995338439941, 598, 3222], [1.7160741090774536, 132, 6128], [1.716012716293335, 21, 5228], [1.7158578634262085, 246, 2529], [1.7157833576202393, 48, 6435], [1.7157716751098633, 213, 420], [1.715314269065857, 178, 7880], [1.7151062488555908, 1018, 7997], [1.7150155305862427, 18, 1903], [1.7150061130523682, 665, 6312], [1.7143702507019043, 201, 6332], [1.7142622470855713, 163, 5372], [1.7132481336593628, 444, 7418], [1.713213562965393, 157, 1905], [1.7132093906402588, 529, 1095], [1.7131582498550415, 147, 1841], [1.7115603685379028, 294, 2909], [1.7113138437271118, 143, 4533], [1.7112789154052734, 365, 5145], [1.7112029790878296, 1007, 45], [1.7111234664916992, 118, 7375], [1.7105913162231445, 110, 4327], [1.710217833518982, 131, 2498], [1.7101210355758667, 45, 7641], [1.7101120948791504, 391, 3230], [1.7096519470214844, 193, 9242], [1.7094707489013672, 178, 7661], [1.7091487646102905, 144, 1128], [1.7091283798217773, 231, 2946], [1.708411455154419, 102, 1862], [1.7082730531692505, 69, 1944], [1.708044171333313, 199, 6759], [1.7078819274902344, 169, 2405], [1.7076882123947144, 334, 2679], [1.7076367139816284, 60, 2170], [1.7065680027008057, 43, 8021], [1.7055097818374634, 33, 8301], [1.7054176330566406, 82, 6452], [1.703542709350586, 595, 4122], [1.702770709991455, 228, 7638], [1.702684760093689, 258, 8446], [1.7021738290786743, 904, 3280], [1.7021455764770508, 364, 3171], [1.7017329931259155, 50, 4921], [1.700972080230713, 32, 5024], [1.7009669542312622, 528, 5663], [1.7007757425308228, 725, 2553], [1.7007405757904053, 161, 8071], [1.700169324874878, 690, 9181], [1.699775218963623, 202, 8921], [1.6994308233261108, 443, 877], [1.6989949941635132, 60, 481], [1.6982651948928833, 49, 5726], [1.6980575323104858, 122, 6395], [1.6978199481964111, 185, 5346], [1.6970547437667847, 734, 1213], [1.6969552040100098, 160, 6525], [1.6967570781707764, 52, 8048], [1.6963995695114136, 693, 9474], [1.695580005645752, 270, 979], [1.6954081058502197, 10, 7345], [1.695321798324585, 21, 2800], [1.695321798324585, 21, 9441], [1.6952240467071533, 87, 6262], [1.6948552131652832, 39, 6806], [1.6938575506210327, 104, 2658], [1.6938377618789673, 740, 1627], [1.6938279867172241, 99, 3594], [1.6936546564102173, 113, 9335], [1.6936017274856567, 197, 7571], [1.6935659646987915, 105, 9221], [1.6930500268936157, 4, 3537], [1.692847490310669, 162, 5686], [1.692814588546753, 83, 450], [1.6916823387145996, 146, 4248], [1.6912837028503418, 183, 2723], [1.6909003257751465, 238, 5910], [1.6907135248184204, 22, 9336], [1.690554141998291, 50, 9247], [1.689386248588562, 103, 2898], [1.6887047290802002, 939, 1876], [1.688558578491211, 257, 7348], [1.6882500648498535, 245, 3188], [1.6881482601165771, 37, 1066], [1.6878262758255005, 150, 913], [1.687347650527954, 292, 9243], [1.6873430013656616, 122, 2052], [1.6867518424987793, 394, 6119], [1.6865007877349854, 24, 6740], [1.6864025592803955, 45, 909], [1.6862002611160278, 73, 9547], [1.685684084892273, 117, 3355], [1.685643196105957, 285, 3772], [1.685309886932373, 68, 1288], [1.6852456331253052, 636, 7992], [1.6850793361663818, 267, 8555], [1.6845431327819824, 626, 2821], [1.683253526687622, 391, 2084], [1.6830517053604126, 693, 8116], [1.682697057723999, 10, 7928], [1.6822011470794678, 948, 6627], [1.6821421384811401, 566, 3205], [1.6820425987243652, 6, 8833], [1.6818935871124268, 917, 1582], [1.6807291507720947, 675, 1795], [1.68051278591156, 295, 5134], [1.6802889108657837, 101, 2351], [1.6801646947860718, 206, 6681], [1.6801496744155884, 152, 6887], [1.6800156831741333, 361, 5958], [1.6798855066299438, 119, 6462], [1.6798853874206543, 442, 5342], [1.679763674736023, 409, 5843], [1.6789491176605225, 114, 7779], [1.6786350011825562, 20, 4860], [1.6782371997833252, 433, 8085], [1.6781781911849976, 103, 211], [1.6780219078063965, 146, 5074], [1.6771646738052368, 245, 405], [1.676892876625061, 199, 6747], [1.6759321689605713, 627, 1409], [1.6757720708847046, 278, 9497], [1.6755332946777344, 138, 1700], [1.675459861755371, 2, 3446], [1.6752897500991821, 51, 5699], [1.6750338077545166, 281, 9744], [1.6748629808425903, 441, 5491], [1.6748284101486206, 269, 8723], [1.6745612621307373, 419, 1516], [1.6743905544281006, 80, 8310], [1.6740220785140991, 231, 1107], [1.6735010147094727, 399, 6303], [1.673241376876831, 132, 624], [1.6731104850769043, 38, 3998], [1.672887921333313, 45, 107], [1.6725369691848755, 293, 2002], [1.6722960472106934, 123, 5903], [1.6721432209014893, 537, 1369], [1.6718571186065674, 41, 7974], [1.6718214750289917, 573, 313], [1.6714465618133545, 27, 2806], [1.671425223350525, 824, 8369], [1.671384334564209, 173, 2362], [1.6710684299468994, 478, 8224], [1.6710575819015503, 24, 9787], [1.6706990003585815, 130, 679], [1.6702412366867065, 25, 6490], [1.669374942779541, 114, 7292], [1.669064998626709, 73, 390], [1.6688309907913208, 423, 3311], [1.6688036918640137, 851, 7145], [1.6682977676391602, 73, 6306], [1.6681867837905884, 382, 2700], [1.667980670928955, 376, 6110], [1.6666041612625122, 312, 5451], [1.6663926839828491, 193, 8706], [1.666337490081787, 564, 4467], [1.665938377380371, 159, 3138], [1.6656213998794556, 113, 9114], [1.6655359268188477, 343, 2604], [1.6649792194366455, 124, 5783], [1.6648563146591187, 257, 6630], [1.6646150350570679, 394, 6566], [1.6644294261932373, 66, 7721], [1.663427472114563, 111, 261], [1.662986397743225, 150, 9753], [1.6620551347732544, 265, 472], [1.661970615386963, 24, 7100], [1.6617530584335327, 298, 7702], [1.6612519025802612, 926, 3007], [1.6610323190689087, 595, 249], [1.6610223054885864, 339, 728], [1.6608790159225464, 97, 10], [1.6603150367736816, 167, 410], [1.6599756479263306, 185, 97], [1.6599531173706055, 137, 1041], [1.6593326330184937, 261, 3818], [1.6591365337371826, 98, 3826], [1.6591359376907349, 463, 1392], [1.6581896543502808, 922, 5834], [1.657150387763977, 315, 552], [1.6568727493286133, 257, 1710], [1.6566017866134644, 185, 1083], [1.656348466873169, 129, 9036], [1.6549749374389648, 312, 7717], [1.65475332736969, 175, 3901], [1.6538081169128418, 59, 4901], [1.6537017822265625, 291, 5058], [1.6535547971725464, 83, 9610], [1.6535314321517944, 331, 8825], [1.652920126914978, 187, 8604], [1.6521632671356201, 871, 6677], [1.65205979347229, 203, 8878], [1.6518480777740479, 278, 3838], [1.651584506034851, 9, 3789], [1.65000581741333, 263, 5388], [1.6497715711593628, 760, 3404], [1.6486016511917114, 61, 665], [1.6482131481170654, 390, 8564], [1.6481183767318726, 270, 1578], [1.6480213403701782, 140, 8841], [1.6476496458053589, 67, 7262], [1.6474262475967407, 10, 128], [1.6473777294158936, 12, 1783], [1.6470445394515991, 369, 7279], [1.6466847658157349, 70, 2735], [1.6465181112289429, 716, 8956], [1.6463360786437988, 523, 830], [1.6447519063949585, 88, 6587], [1.6447235345840454, 21, 4213], [1.644613265991211, 10, 9718], [1.644603967666626, 619, 6129], [1.644273042678833, 90, 8056], [1.6439272165298462, 127, 2779], [1.6435353755950928, 366, 8365], [1.6431173086166382, 43, 142], [1.643032193183899, 418, 6348], [1.6430202722549438, 70, 1720], [1.642835021018982, 368, 6690], [1.6428258419036865, 542, 6273], [1.6427890062332153, 650, 1403], [1.6427098512649536, 210, 756], [1.6415464878082275, 229, 8309], [1.6407747268676758, 63, 433], [1.640307903289795, 259, 2974], [1.6401721239089966, 187, 7495], [1.6401543617248535, 177, 809], [1.6400624513626099, 29, 709], [1.6398288011550903, 758, 7158], [1.639469861984253, 282, 7407], [1.6392830610275269, 345, 4934], [1.639257788658142, 31, 4651], [1.6383923292160034, 132, 7290], [1.638139009475708, 131, 6756], [1.637613296508789, 1006, 4268], [1.6376038789749146, 429, 3236], [1.6375383138656616, 535, 9309], [1.6368330717086792, 611, 6751], [1.636688470840454, 10, 9020], [1.63594388961792, 134, 8652], [1.63589346408844, 632, 4866], [1.63572096824646, 28, 1594], [1.6355317831039429, 420, 5050], [1.6354352235794067, 35, 8152], [1.6352568864822388, 766, 6388], [1.6348165273666382, 136, 1312], [1.634010672569275, 69, 288], [1.6337121725082397, 139, 1857], [1.6331799030303955, 224, 9003], [1.633087158203125, 101, 5738], [1.6328223943710327, 68, 8954], [1.6324632167816162, 401, 3761], [1.632434368133545, 1007, 9467], [1.631989598274231, 21, 1837], [1.631657600402832, 617, 4042], [1.6310670375823975, 138, 3191], [1.6307497024536133, 102, 6875], [1.6302908658981323, 168, 4705], [1.629392147064209, 117, 8311], [1.6289910078048706, 1020, 1425], [1.6287691593170166, 77, 1577], [1.6286261081695557, 23, 2760], [1.6283303499221802, 994, 9353], [1.6281591653823853, 269, 102], [1.6280890703201294, 186, 1036], [1.6277531385421753, 41, 7691], [1.6276551485061646, 711, 6955], [1.6274950504302979, 500, 1596], [1.627418875694275, 214, 6099], [1.6271555423736572, 352, 1384], [1.6269762516021729, 33, 3719], [1.626531958580017, 19, 3769], [1.6255689859390259, 87, 2106], [1.6255121231079102, 76, 2563], [1.6252321004867554, 162, 9826], [1.6240557432174683, 32, 8444], [1.6236335039138794, 10, 1305], [1.6234081983566284, 2, 4387], [1.623343586921692, 172, 328], [1.6232720613479614, 37, 4781], [1.6231440305709839, 58, 5411], [1.6220043897628784, 452, 7379], [1.6218959093093872, 87, 3620], [1.621366262435913, 130, 5520], [1.6209017038345337, 39, 5131], [1.6205410957336426, 75, 5048], [1.6201159954071045, 248, 6602], [1.6198837757110596, 133, 2306], [1.6195234060287476, 38, 7592], [1.6191526651382446, 385, 1303], [1.6190943717956543, 114, 2295], [1.6179522275924683, 17, 992], [1.6179074048995972, 656, 6894], [1.6178992986679077, 89, 5233], [1.617017149925232, 111, 2840], [1.616698145866394, 369, 3803], [1.6163444519042969, 169, 9224], [1.616270899772644, 134, 3307], [1.6162127256393433, 115, 8427], [1.6161983013153076, 52, 7324], [1.6158643960952759, 61, 3463], [1.615813136100769, 121, 8966], [1.61573326587677, 63, 1146], [1.6156189441680908, 267, 6096], [1.61504065990448, 133, 1777], [1.6149859428405762, 291, 4887], [1.6149213314056396, 6, 3953], [1.6140542030334473, 968, 5456], [1.613208293914795, 155, 2443], [1.6129570007324219, 224, 8472], [1.6127007007598877, 210, 6468], [1.6119558811187744, 90, 1748], [1.610935091972351, 372, 194], [1.61056387424469, 443, 4402], [1.6100993156433105, 61, 9462], [1.6100789308547974, 21, 9369], [1.6099247932434082, 844, 4822], [1.609681487083435, 35, 3748], [1.6096217632293701, 344, 1531], [1.6096135377883911, 99, 2912], [1.6095267534255981, 497, 9030], [1.6095212697982788, 836, 19], [1.6093974113464355, 363, 849], [1.608905553817749, 91, 8650], [1.6086792945861816, 209, 3635], [1.608329176902771, 714, 6800], [1.6074105501174927, 139, 6717], [1.6065783500671387, 111, 9914], [1.6063640117645264, 505, 9588], [1.6063634157180786, 370, 5689], [1.6059287786483765, 291, 4178], [1.6054383516311646, 49, 9527], [1.6041370630264282, 28, 1916], [1.604103446006775, 76, 8462], [1.6035194396972656, 95, 7686], [1.6026843786239624, 100, 9976], [1.6025851964950562, 385, 9101], [1.602429747581482, 112, 432], [1.6013745069503784, 576, 4316], [1.6009145975112915, 447, 6222], [1.6008639335632324, 850, 3060], [1.6002370119094849, 33, 398], [1.5999269485473633, 1010, 9031], [1.5996395349502563, 125, 7921], [1.5993965864181519, 240, 4501], [1.5992255210876465, 319, 6590], [1.5989395380020142, 255, 3488], [1.5986182689666748, 48, 6506], [1.5985068082809448, 250, 7171], [1.5984009504318237, 324, 3364], [1.5982121229171753, 788, 1062], [1.597969889640808, 114, 2236], [1.5973485708236694, 57, 5750], [1.5969823598861694, 89, 5093], [1.5959346294403076, 300, 6298], [1.5955628156661987, 134, 8990], [1.5953179597854614, 63, 227], [1.5942604541778564, 205, 1694], [1.5939486026763916, 74, 3835], [1.593320369720459, 241, 5232], [1.593210220336914, 125, 6069], [1.592795968055725, 52, 1618], [1.5918523073196411, 724, 4754], [1.5915110111236572, 206, 4341], [1.591457724571228, 135, 9212], [1.5913946628570557, 50, 7196], [1.5911129713058472, 71, 8840], [1.5908162593841553, 27, 8294], [1.5901066064834595, 5, 4559], [1.5899711847305298, 266, 411], [1.589036464691162, 203, 9184], [1.588892936706543, 187, 99], [1.5885847806930542, 297, 1981], [1.5865191221237183, 209, 3940], [1.586516261100769, 287, 8094], [1.5865073204040527, 68, 8870], [1.5864900350570679, 22, 3059], [1.5864900350570679, 22, 8280], [1.5864900350570679, 22, 8521], [1.585992455482483, 68, 5367], [1.585972547531128, 451, 2926], [1.5858336687088013, 74, 6242], [1.585730791091919, 86, 559], [1.585626244544983, 276, 8748], [1.585531234741211, 137, 7725], [1.585384488105774, 797, 8533], [1.5853748321533203, 829, 3952], [1.5852526426315308, 26, 8772], [1.5850794315338135, 303, 2730], [1.5849765539169312, 543, 6837], [1.584629774093628, 66, 5616], [1.5843898057937622, 946, 8764], [1.5843321084976196, 458, 2935], [1.584315299987793, 129, 840], [1.5841909646987915, 422, 1805], [1.5838998556137085, 70, 467], [1.58380925655365, 280, 4595], [1.5837680101394653, 546, 4523], [1.5836085081100464, 272, 5627], [1.5833290815353394, 343, 8432], [1.5825849771499634, 214, 7740], [1.5821207761764526, 97, 4215], [1.5817322731018066, 859, 7066], [1.5800199508666992, 413, 4281], [1.5800126791000366, 153, 2973], [1.5798852443695068, 419, 9237], [1.5794167518615723, 333, 4618], [1.5792285203933716, 201, 5258], [1.5789387226104736, 17, 5899], [1.5788395404815674, 219, 7013], [1.578773856163025, 434, 7854], [1.578567624092102, 569, 5130], [1.5784339904785156, 85, 4153], [1.5782294273376465, 27, 1859], [1.577701449394226, 129, 1922], [1.5773907899856567, 706, 5791], [1.5773676633834839, 737, 9686], [1.5767797231674194, 90, 6694], [1.5767043828964233, 181, 1375], [1.5766128301620483, 329, 373], [1.575252652168274, 172, 9566], [1.5749552249908447, 21, 961], [1.5745432376861572, 507, 4196], [1.5744457244873047, 646, 9064], [1.5744011402130127, 7, 4081], [1.5742063522338867, 340, 2556], [1.573404312133789, 109, 1588], [1.5731334686279297, 20, 6964], [1.573086142539978, 484, 2621], [1.57304048538208, 201, 5866], [1.5729385614395142, 55, 8709], [1.5726580619812012, 292, 9180], [1.5716304779052734, 179, 1554], [1.571266531944275, 421, 5850], [1.5709444284439087, 477, 1913], [1.570143222808838, 107, 3299], [1.570143222808838, 107, 3326], [1.569906234741211, 1003, 61], [1.5698715448379517, 114, 3996], [1.5693280696868896, 338, 8936], [1.5692498683929443, 572, 5977], [1.5688644647598267, 198, 2673], [1.5686975717544556, 793, 5607], [1.5685756206512451, 255, 1432], [1.568532943725586, 45, 5351], [1.5684394836425781, 96, 7412], [1.5679306983947754, 393, 4097], [1.5675829648971558, 131, 8252], [1.5675090551376343, 131, 3860], [1.5661158561706543, 83, 7557], [1.5660862922668457, 127, 1171], [1.565925121307373, 18, 2847], [1.5648186206817627, 434, 7895], [1.5647728443145752, 13, 6335], [1.5645924806594849, 556, 5656], [1.5643452405929565, 103, 1910], [1.5638011693954468, 216, 3107], [1.5636450052261353, 167, 1541], [1.5634362697601318, 10, 9713], [1.5630667209625244, 375, 7090], [1.5627095699310303, 120, 8198], [1.562570571899414, 9, 6549], [1.5618723630905151, 145, 1351], [1.5612709522247314, 609, 8820], [1.5612424612045288, 207, 671], [1.5604304075241089, 46, 499], [1.5603660345077515, 24, 9434], [1.5603309869766235, 860, 9273], [1.5600403547286987, 141, 8100], [1.5599209070205688, 42, 5321], [1.5592118501663208, 160, 8005], [1.5592056512832642, 443, 3760], [1.559199333190918, 60, 4834], [1.5585640668869019, 1009, 5848], [1.5582274198532104, 222, 1006], [1.5581153631210327, 175, 159], [1.5577534437179565, 404, 1599], [1.5567578077316284, 131, 8703], [1.5566602945327759, 39, 1272], [1.5564824342727661, 706, 5385], [1.5563851594924927, 326, 6571], [1.5561578273773193, 102, 2270], [1.556081771850586, 558, 5664], [1.5559260845184326, 108, 2088], [1.555558443069458, 56, 4784], [1.555213451385498, 450, 9913], [1.5551948547363281, 581, 664], [1.5551563501358032, 44, 6368], [1.5546247959136963, 155, 5512], [1.5544661283493042, 130, 5341], [1.5543972253799438, 140, 487], [1.5529524087905884, 147, 905], [1.5527715682983398, 22, 2728], [1.552681565284729, 71, 8349], [1.5523829460144043, 310, 8141], [1.5520927906036377, 672, 6179], [1.5511682033538818, 285, 7831], [1.5511105060577393, 112, 8445], [1.5508627891540527, 221, 9395], [1.5506200790405273, 191, 6028], [1.550436019897461, 38, 2651], [1.550419807434082, 124, 1585], [1.5502290725708008, 283, 5413], [1.550144910812378, 928, 4261], [1.5499919652938843, 407, 5040], [1.5498943328857422, 409, 3638], [1.5495116710662842, 326, 8687], [1.5493192672729492, 82, 1091], [1.5489588975906372, 150, 5917], [1.5481510162353516, 529, 3792], [1.548123836517334, 447, 7442], [1.547893762588501, 42, 7958], [1.547595739364624, 205, 445], [1.547521948814392, 180, 7626], [1.5471166372299194, 97, 3747], [1.5470447540283203, 151, 2302], [1.5468556880950928, 383, 8214], [1.546841025352478, 34, 3655], [1.5467424392700195, 56, 1323], [1.546621322631836, 436, 1304], [1.5465997457504272, 73, 5787], [1.5465004444122314, 24, 4672], [1.546499490737915, 46, 8752], [1.5458072423934937, 29, 1413], [1.5451284646987915, 341, 683], [1.5449059009552002, 589, 9172], [1.5440300703048706, 802, 1772], [1.5438605546951294, 45, 2095], [1.5433933734893799, 55, 4280], [1.5432583093643188, 712, 9346], [1.5427074432373047, 15, 3923], [1.5425103902816772, 376, 4262], [1.5421744585037231, 810, 1975], [1.5421737432479858, 384, 9608], [1.5418933629989624, 151, 9814], [1.5417312383651733, 91, 2456], [1.5416215658187866, 361, 2466], [1.5410666465759277, 342, 9385], [1.5410149097442627, 152, 2304], [1.5406391620635986, 254, 4872], [1.5402733087539673, 426, 9820], [1.5402568578720093, 382, 5262], [1.5396517515182495, 191, 5858], [1.5394166707992554, 107, 2879], [1.5386403799057007, 131, 7857], [1.5381771326065063, 332, 5080], [1.538175106048584, 186, 3149], [1.5380334854125977, 157, 8380], [1.537933588027954, 214, 5642], [1.5377197265625, 192, 4193], [1.537622094154358, 42, 4851], [1.5375661849975586, 353, 8107], [1.537185549736023, 548, 5687], [1.5371648073196411, 129, 5566], [1.536729097366333, 77, 1889], [1.5360970497131348, 476, 7347], [1.5359008312225342, 117, 8983], [1.5354455709457397, 161, 62], [1.535081148147583, 193, 436], [1.535048484802246, 139, 8853], [1.5350319147109985, 84, 2187], [1.5343074798583984, 197, 8909], [1.5341291427612305, 342, 2828], [1.5341088771820068, 250, 9376], [1.5341061353683472, 99, 9609], [1.53336763381958, 544, 1812], [1.5331939458847046, 583, 859], [1.5330212116241455, 78, 9431], [1.5328809022903442, 31, 8182], [1.5327098369598389, 128, 9024], [1.5326460599899292, 53, 4670], [1.531577706336975, 64, 4998], [1.5312457084655762, 109, 3022], [1.531226634979248, 275, 8226], [1.5299586057662964, 47, 5706], [1.5297043323516846, 39, 4938], [1.52970290184021, 88, 4244], [1.5295965671539307, 222, 3133], [1.5292243957519531, 121, 1584], [1.5290049314498901, 298, 6484], [1.5285700559616089, 61, 2794], [1.528092384338379, 151, 7266], [1.5280061960220337, 243, 1053], [1.527605652809143, 459, 8941], [1.527576208114624, 20, 5586], [1.526835560798645, 204, 5499], [1.5263397693634033, 634, 6754], [1.5261871814727783, 22, 482], [1.5251033306121826, 8, 6986], [1.5249723196029663, 275, 5189], [1.5248702764511108, 970, 2683], [1.524681806564331, 79, 8430], [1.5244255065917969, 18, 7760], [1.5242135524749756, 74, 2000], [1.5240837335586548, 67, 1583], [1.5237622261047363, 332, 9521], [1.5235739946365356, 118, 717], [1.5230389833450317, 65, 1061], [1.522962212562561, 76, 2546], [1.5227413177490234, 4, 945], [1.5224411487579346, 379, 1478], [1.5223264694213867, 73, 6538], [1.5218324661254883, 83, 1691], [1.5213814973831177, 60, 1852], [1.5213446617126465, 338, 5876], [1.520987868309021, 142, 3623], [1.5209420919418335, 247, 6937], [1.5201430320739746, 13, 663], [1.519559383392334, 53, 3097], [1.519097924232483, 587, 1169], [1.5190553665161133, 144, 3325], [1.5185610055923462, 44, 5552], [1.5185229778289795, 851, 1749], [1.518402099609375, 285, 5292], [1.5182968378067017, 84, 3853], [1.5182455778121948, 21, 4849], [1.5180044174194336, 572, 1728], [1.5176314115524292, 207, 2126], [1.51639986038208, 461, 705], [1.5162549018859863, 423, 2480], [1.5161958932876587, 66, 7609], [1.5157755613327026, 335, 2376], [1.5152395963668823, 268, 7062], [1.5151633024215698, 69, 4591], [1.5150047540664673, 430, 4234], [1.5143612623214722, 170, 6545], [1.5143015384674072, 30, 9670], [1.5142509937286377, 90, 4880], [1.514129638671875, 466, 6483], [1.5136289596557617, 282, 7852], [1.5134737491607666, 964, 9163], [1.513012170791626, 177, 7951], [1.5128285884857178, 214, 2299], [1.5119562149047852, 465, 513], [1.5119459629058838, 7, 8410], [1.5114907026290894, 154, 9202], [1.5109246969223022, 568, 4745], [1.5108243227005005, 191, 476], [1.510727047920227, 52, 6431], [1.5107190608978271, 421, 2199], [1.5101521015167236, 28, 9270], [1.50994873046875, 445, 3615], [1.5098727941513062, 194, 7069], [1.5092602968215942, 23, 4771], [1.5085902214050293, 70, 3409], [1.5085492134094238, 326, 4422], [1.508469581604004, 18, 2753], [1.5081453323364258, 376, 5565], [1.5079982280731201, 60, 8112], [1.5079922676086426, 33, 8376], [1.5073275566101074, 51, 2850], [1.5072420835494995, 830, 2923], [1.5063480138778687, 61, 6752], [1.5063141584396362, 67, 4863], [1.5062729120254517, 145, 4753], [1.5055116415023804, 173, 7643], [1.5046091079711914, 336, 711], [1.5044665336608887, 632, 4691], [1.5041275024414062, 314, 4242], [1.5040701627731323, 193, 1138], [1.5035403966903687, 142, 1972], [1.5034726858139038, 212, 9339], [1.5032916069030762, 275, 8902], [1.5030004978179932, 16, 460], [1.5027903318405151, 66, 1014], [1.5027170181274414, 137, 2387], [1.502548336982727, 175, 3274], [1.502274990081787, 113, 6651], [1.5015177726745605, 1000, 2007], [1.5011624097824097, 553, 6404], [1.501086711883545, 836, 9952], [1.5008223056793213, 223, 2867], [1.500656247138977, 51, 8552], [1.5005900859832764, 136, 676], [1.500457525253296, 354, 5819], [1.5001494884490967, 104, 2148], [1.5000847578048706, 247, 2341], [1.4999597072601318, 423, 1096], [1.4991141557693481, 815, 5670], [1.4986133575439453, 362, 3078], [1.498041033744812, 599, 9135], [1.497452735900879, 27, 4733], [1.497255563735962, 667, 7191], [1.496029019355774, 330, 3525], [1.4959886074066162, 30, 360], [1.4957046508789062, 791, 7508], [1.4955840110778809, 785, 8000], [1.4954042434692383, 718, 1013], [1.495361089706421, 115, 2075], [1.49452805519104, 43, 1982], [1.4939557313919067, 290, 9862], [1.4939333200454712, 167, 6090], [1.4938337802886963, 282, 641], [1.4936457872390747, 322, 7355], [1.4934219121932983, 267, 2841], [1.493402361869812, 144, 6663], [1.4927713871002197, 301, 9251], [1.4925447702407837, 864, 2205], [1.4916424751281738, 118, 3229], [1.4914814233779907, 77, 9166], [1.4913047552108765, 138, 7], [1.4912182092666626, 317, 7711], [1.491046667098999, 52, 5034], [1.4909013509750366, 445, 6458], [1.4908710718154907, 199, 9773], [1.4906086921691895, 33, 9071], [1.4905859231948853, 65, 598], [1.4902411699295044, 219, 7005], [1.4900786876678467, 877, 9587], [1.4895762205123901, 227, 5], [1.489558458328247, 364, 5527], [1.489525556564331, 399, 3684], [1.4889748096466064, 91, 543], [1.4877561330795288, 143, 9929], [1.4876340627670288, 177, 8962], [1.4874882698059082, 859, 4080], [1.4866585731506348, 174, 1252], [1.485892653465271, 523, 9803], [1.4852323532104492, 464, 2929], [1.4842777252197266, 572, 6439], [1.4838883876800537, 227, 8545], [1.4834210872650146, 43, 1078], [1.482558012008667, 102, 3898], [1.4823774099349976, 197, 1060], [1.4814519882202148, 355, 9397], [1.480475664138794, 815, 6499], [1.4801204204559326, 116, 7431], [1.4797536134719849, 24, 6183], [1.479478359222412, 74, 6657], [1.4793181419372559, 266, 5004], [1.4789365530014038, 464, 4047], [1.4779937267303467, 182, 7892], [1.4772047996520996, 139, 3366], [1.4771167039871216, 606, 8373], [1.4769943952560425, 100, 8233], [1.476723074913025, 191, 4490], [1.4765634536743164, 130, 2496], [1.476398229598999, 186, 9015], [1.4763909578323364, 107, 9993], [1.4754540920257568, 55, 2764], [1.4754525423049927, 324, 1701], [1.475210189819336, 220, 582], [1.4749901294708252, 185, 6153], [1.4748166799545288, 811, 9724], [1.474012851715088, 375, 6825], [1.4739398956298828, 157, 3085], [1.4736131429672241, 238, 9970], [1.4726650714874268, 394, 3232], [1.4724199771881104, 148, 9117], [1.4719725847244263, 137, 1773], [1.471608281135559, 9, 3665], [1.47146737575531, 201, 3335], [1.4713574647903442, 279, 4976], [1.471200704574585, 124, 2467], [1.4710438251495361, 96, 2664], [1.4708577394485474, 685, 836], [1.4708324670791626, 39, 754], [1.4704104661941528, 671, 1098], [1.4699163436889648, 843, 5820], [1.4697537422180176, 166, 2231], [1.4695324897766113, 703, 8957], [1.4691429138183594, 237, 9764], [1.4690858125686646, 37, 4046], [1.4690405130386353, 217, 4787], [1.4686535596847534, 269, 5636], [1.4676024913787842, 324, 9111], [1.4675438404083252, 274, 1077], [1.4670082330703735, 106, 9552], [1.4668281078338623, 148, 2593], [1.4662868976593018, 561, 1446], [1.4661167860031128, 250, 1682], [1.4658055305480957, 227, 7468], [1.4655722379684448, 209, 1986], [1.4651819467544556, 276, 8836], [1.4643352031707764, 139, 9457], [1.463910460472107, 311, 3478], [1.4635992050170898, 214, 7268], [1.4632346630096436, 446, 68], [1.4628809690475464, 1021, 1277], [1.4619388580322266, 106, 1823], [1.4618076086044312, 65, 9655], [1.4617890119552612, 193, 5580], [1.4615368843078613, 63, 4095], [1.4614393711090088, 421, 6931], [1.4609092473983765, 477, 7856], [1.4602657556533813, 32, 3951], [1.4602371454238892, 920, 8583], [1.4597636461257935, 35, 6220], [1.459749698638916, 18, 8172], [1.4596412181854248, 55, 6509], [1.4586355686187744, 1019, 9197], [1.4585210084915161, 153, 226], [1.4584115743637085, 27, 5283], [1.4582582712173462, 82, 1692], [1.457930564880371, 18, 917], [1.4578742980957031, 514, 6494], [1.4576224088668823, 109, 6805], [1.456652045249939, 123, 9536], [1.4557877779006958, 637, 4953], [1.4553804397583008, 486, 4010], [1.455125093460083, 117, 2515], [1.4550892114639282, 472, 3023], [1.4546862840652466, 213, 3160], [1.454007625579834, 88, 5473], [1.4534951448440552, 164, 8575], [1.4533782005310059, 98, 9865], [1.4531351327896118, 22, 8511], [1.4531351327896118, 22, 9688], [1.452731966972351, 255, 1625], [1.451904296875, 332, 5308], [1.4518321752548218, 132, 9483], [1.4510785341262817, 231, 4087], [1.4504592418670654, 27, 2040], [1.450045108795166, 733, 3145], [1.4497917890548706, 384, 9055], [1.4496941566467285, 102, 2180], [1.4494900703430176, 489, 2249], [1.4492822885513306, 205, 3050], [1.4492089748382568, 173, 3715], [1.4486302137374878, 813, 4015], [1.4476836919784546, 102, 9896], [1.4475518465042114, 196, 7786], [1.447223424911499, 373, 2460], [1.4470971822738647, 702, 5174], [1.4470787048339844, 74, 4624], [1.4469654560089111, 400, 3765], [1.4469050168991089, 128, 4109], [1.4466135501861572, 777, 5391], [1.4460687637329102, 391, 2093], [1.4460161924362183, 116, 3136], [1.4456332921981812, 855, 311], [1.4455721378326416, 178, 6310], [1.4454346895217896, 162, 9737], [1.44503915309906, 99, 1680], [1.4449127912521362, 10, 3389], [1.4442994594573975, 638, 319], [1.444222331047058, 656, 8547], [1.443947672843933, 61, 2727], [1.4434373378753662, 144, 8629], [1.442137360572815, 84, 9085], [1.4420491456985474, 190, 3513], [1.4416624307632446, 190, 1411], [1.4413267374038696, 305, 7197], [1.4410655498504639, 599, 2332], [1.440804123878479, 448, 1779], [1.4403270483016968, 432, 2772], [1.4399219751358032, 208, 2157], [1.4392614364624023, 336, 8893], [1.4383386373519897, 67, 1357], [1.4380013942718506, 189, 1386], [1.4375925064086914, 125, 461], [1.4374608993530273, 291, 1261], [1.437458872795105, 33, 5901], [1.437059998512268, 313, 5371], [1.4369454383850098, 161, 7367], [1.436827301979065, 33, 7075], [1.4358537197113037, 615, 2215], [1.4358413219451904, 172, 5221], [1.4357322454452515, 208, 3614], [1.4354294538497925, 139, 1191], [1.434858798980713, 235, 3724], [1.4348034858703613, 208, 2775], [1.4346548318862915, 79, 4415], [1.434614658355713, 190, 7482], [1.4340941905975342, 94, 2701], [1.4340758323669434, 191, 4575], [1.4333761930465698, 22, 2230], [1.4331445693969727, 19, 3937], [1.43190598487854, 262, 9855], [1.431288480758667, 717, 4777], [1.4310401678085327, 366, 1273], [1.431006669998169, 80, 9442], [1.4309087991714478, 194, 2171], [1.43076491355896, 64, 8935], [1.4307557344436646, 529, 6070], [1.43003511428833, 322, 4381], [1.4297446012496948, 311, 5234], [1.4295488595962524, 156, 2814], [1.4282548427581787, 205, 883], [1.4282450675964355, 30, 7824], [1.4280773401260376, 101, 5421], [1.427877426147461, 409, 5350], [1.4278377294540405, 312, 3271], [1.4276338815689087, 57, 4959], [1.4275546073913574, 11, 8698], [1.4274805784225464, 136, 7639], [1.4272346496582031, 897, 4339], [1.426578164100647, 198, 1185], [1.4263668060302734, 917, 1908], [1.4261480569839478, 728, 1376], [1.4261289834976196, 28, 354], [1.4260920286178589, 1015, 3218], [1.425363302230835, 32, 5046], [1.4252839088439941, 236, 1372], [1.4247896671295166, 556, 2322], [1.4246419668197632, 99, 3840], [1.4244858026504517, 136, 179], [1.4233531951904297, 121, 3806], [1.4232921600341797, 152, 9324], [1.422617793083191, 717, 8624], [1.42243230342865, 685, 6570], [1.4218653440475464, 218, 5673], [1.421823263168335, 41, 7007], [1.4217036962509155, 394, 7915], [1.4214160442352295, 98, 6177], [1.4212909936904907, 208, 4412], [1.4209275245666504, 94, 869], [1.4208420515060425, 646, 3677], [1.4207724332809448, 727, 3688], [1.4204779863357544, 660, 135], [1.4202229976654053, 146, 21], [1.419886827468872, 254, 893], [1.4197862148284912, 12, 782], [1.4189386367797852, 446, 6714], [1.418365240097046, 133, 2282], [1.4182968139648438, 232, 9531], [1.4177197217941284, 937, 7652], [1.4174857139587402, 304, 7493], [1.4173939228057861, 596, 1344], [1.4169577360153198, 193, 9957], [1.4165112972259521, 361, 9372], [1.4164106845855713, 11, 1559], [1.4159624576568604, 11, 5009], [1.4156907796859741, 35, 1038], [1.4156428575515747, 86, 7937], [1.4152915477752686, 587, 269], [1.4149909019470215, 221, 4326], [1.4147242307662964, 3, 9520], [1.4146784543991089, 497, 322], [1.4146515130996704, 853, 835], [1.4145883321762085, 19, 8582], [1.414313793182373, 343, 9445], [1.4141390323638916, 405, 4025], [1.414038896560669, 107, 1002], [1.4140230417251587, 94, 5078], [1.413378119468689, 83, 6178], [1.4133381843566895, 167, 5882], [1.4132323265075684, 191, 727], [1.413090467453003, 170, 2151], [1.4128412008285522, 206, 3195], [1.4126341342926025, 59, 3073], [1.4121931791305542, 66, 7962], [1.4121696949005127, 40, 1717], [1.4116895198822021, 218, 8062], [1.4116395711898804, 206, 9511], [1.4113149642944336, 23, 5126], [1.4107166528701782, 445, 1788], [1.410507082939148, 774, 7314], [1.4103968143463135, 800, 1502], [1.4092267751693726, 28, 1951], [1.4088655710220337, 26, 2349], [1.4087954759597778, 659, 1284], [1.4085659980773926, 191, 3785], [1.408416509628296, 544, 8122], [1.4075846672058105, 505, 4360], [1.4071612358093262, 616, 5260], [1.4070063829421997, 302, 9008], [1.4068348407745361, 192, 8493], [1.406629204750061, 55, 7547], [1.406385064125061, 203, 939], [1.4059813022613525, 127, 7600], [1.405419945716858, 530, 2695], [1.405156135559082, 87, 4859], [1.4046789407730103, 71, 9891], [1.4045220613479614, 504, 9226], [1.4044111967086792, 363, 7491], [1.404049038887024, 69, 6230], [1.403978705406189, 705, 7330], [1.4038523435592651, 139, 7927], [1.4021121263504028, 133, 6391], [1.4018703699111938, 707, 8018], [1.4016904830932617, 109, 345], [1.4015940427780151, 34, 5562], [1.4014338254928589, 381, 5695], [1.4006593227386475, 700, 2738], [1.4003784656524658, 123, 7165], [1.4002931118011475, 250, 6967], [1.3991390466690063, 399, 4908], [1.3989239931106567, 25, 8044], [1.3989031314849854, 715, 4143], [1.3987215757369995, 484, 9650], [1.3980382680892944, 69, 3609], [1.3973263502120972, 109, 7337], [1.3968534469604492, 74, 5173], [1.396821141242981, 320, 9517], [1.3966020345687866, 585, 2777], [1.3965152502059937, 898, 8356], [1.396294355392456, 201, 2993], [1.395704984664917, 525, 8336], [1.3944836854934692, 171, 9526], [1.3937793970108032, 87, 7860], [1.3936331272125244, 304, 779], [1.3934916257858276, 747, 6816], [1.3934752941131592, 975, 5846], [1.393319010734558, 536, 6824], [1.393160104751587, 19, 9447], [1.3928121328353882, 51, 744], [1.392478585243225, 225, 9963], [1.3919514417648315, 156, 9303], [1.3919275999069214, 9, 1508], [1.3918651342391968, 115, 1334], [1.3912619352340698, 657, 6881], [1.3909177780151367, 7, 53], [1.3892924785614014, 641, 3287], [1.388604760169983, 6, 3545], [1.3885517120361328, 296, 7632], [1.388404130935669, 67, 5853], [1.3882770538330078, 800, 2873], [1.3873887062072754, 79, 2192], [1.3871853351593018, 472, 431], [1.3871701955795288, 152, 9298], [1.387023687362671, 202, 7934], [1.3864789009094238, 376, 7298], [1.3859277963638306, 311, 769], [1.385871410369873, 277, 8644], [1.3852685689926147, 33, 8609], [1.3852577209472656, 26, 1487], [1.3852229118347168, 49, 5167], [1.384925365447998, 81, 525], [1.3846745491027832, 174, 7041], [1.384135365486145, 135, 8834], [1.3835471868515015, 182, 308], [1.3833445310592651, 17, 2318], [1.3831019401550293, 193, 4400], [1.3830896615982056, 106, 2378], [1.3827838897705078, 156, 1776], [1.3826887607574463, 59, 4558], [1.3826873302459717, 313, 4995], [1.3821582794189453, 172, 9648], [1.3819698095321655, 433, 4716], [1.3819245100021362, 29, 7616], [1.3813570737838745, 154, 6818], [1.3809455633163452, 383, 5652], [1.3808393478393555, 9, 4659], [1.3805633783340454, 33, 9827], [1.3802129030227661, 1006, 2871], [1.3798489570617676, 48, 8229], [1.3797463178634644, 100, 2597], [1.3795642852783203, 74, 1214], [1.379286289215088, 19, 1918], [1.3791558742523193, 107, 6397], [1.3783353567123413, 312, 6613], [1.378173828125, 444, 9772], [1.3780581951141357, 22, 1675], [1.3759255409240723, 109, 8873], [1.3757132291793823, 926, 8765], [1.375563621520996, 112, 5854], [1.375352382659912, 65, 3990], [1.375093936920166, 107, 1102], [1.3749151229858398, 498, 746], [1.3743253946304321, 152, 9379], [1.3741496801376343, 89, 1170], [1.3741003274917603, 295, 593], [1.3740301132202148, 278, 6670], [1.3737947940826416, 164, 3830], [1.3732376098632812, 87, 2936], [1.3732106685638428, 92, 2147], [1.3730686902999878, 75, 5464], [1.3730655908584595, 185, 1614], [1.3728307485580444, 923, 3605], [1.3726593255996704, 30, 4124], [1.3725271224975586, 2, 8643], [1.372092604637146, 610, 9969], [1.3718098402023315, 129, 250], [1.371591567993164, 10, 3315], [1.371485710144043, 225, 452], [1.3714808225631714, 97, 3616], [1.3714460134506226, 88, 5658], [1.3711649179458618, 93, 4068], [1.3711364269256592, 22, 4116], [1.3706365823745728, 475, 2365], [1.3705567121505737, 99, 9454], [1.370054006576538, 42, 4186], [1.368626356124878, 613, 5838], [1.368499517440796, 102, 9666], [1.368014931678772, 121, 8176], [1.3673326969146729, 211, 807], [1.367307186126709, 87, 2390], [1.3669592142105103, 188, 8058], [1.366569995880127, 137, 2438], [1.3663179874420166, 70, 3358], [1.3663146495819092, 100, 1348], [1.3661117553710938, 163, 6480], [1.3655699491500854, 799, 9575], [1.3653864860534668, 70, 1496], [1.3652820587158203, 182, 7597], [1.3646823167800903, 173, 8695], [1.3644698858261108, 106, 6363], [1.3636341094970703, 24, 5999], [1.363472819328308, 16, 9516], [1.3634039163589478, 302, 4695], [1.3630821704864502, 58, 755], [1.3630489110946655, 115, 1929], [1.3627809286117554, 840, 5481], [1.362222671508789, 215, 6872], [1.362221598625183, 122, 2613], [1.361244559288025, 550, 9468], [1.3609914779663086, 360, 2589], [1.36064875125885, 151, 3121], [1.3602863550186157, 227, 7235], [1.3600696325302124, 404, 8119], [1.3599443435668945, 68, 7356], [1.3597172498703003, 247, 4636], [1.3596478700637817, 182, 9337], [1.3595088720321655, 32, 7405], [1.359266757965088, 373, 9342], [1.3592227697372437, 15, 2708], [1.3590095043182373, 864, 8163], [1.3588721752166748, 222, 5212], [1.3586924076080322, 496, 5948], [1.357521653175354, 491, 6392], [1.3568142652511597, 81, 3851], [1.3568120002746582, 50, 4647], [1.3564132452011108, 343, 6256], [1.3559010028839111, 102, 7908], [1.3554320335388184, 150, 7168], [1.3546983003616333, 854, 2143], [1.3541929721832275, 54, 4300], [1.3539456129074097, 152, 9729], [1.35383939743042, 34, 3467], [1.3536452054977417, 28, 5937], [1.353493571281433, 705, 4050], [1.3534533977508545, 12, 2253], [1.352993369102478, 557, 5365], [1.3518378734588623, 40, 3746], [1.3517224788665771, 132, 1009], [1.3512754440307617, 142, 5089], [1.3512680530548096, 445, 5776], [1.3511266708374023, 761, 6424], [1.3505724668502808, 386, 2294], [1.350568175315857, 269, 8066], [1.3504836559295654, 5, 555], [1.3503609895706177, 125, 2757], [1.3495339155197144, 141, 9012], [1.349037528038025, 21, 4423], [1.3488045930862427, 956, 3969], [1.348212718963623, 81, 7259], [1.3479758501052856, 166, 766], [1.3475643396377563, 456, 5667], [1.3469351530075073, 382, 1332], [1.3465174436569214, 88, 5447], [1.346189260482788, 362, 3985], [1.3461154699325562, 44, 198], [1.3459278345108032, 595, 43], [1.3456240892410278, 35, 4905], [1.3450804948806763, 179, 8542], [1.344900369644165, 254, 6138], [1.3441771268844604, 409, 8231], [1.3440470695495605, 362, 8248], [1.3437808752059937, 69, 5648], [1.3436360359191895, 564, 5773], [1.343509316444397, 333, 9470], [1.3431648015975952, 70, 9895], [1.3430688381195068, 213, 1560], [1.3428572416305542, 66, 5949], [1.342185139656067, 217, 1210], [1.3417770862579346, 344, 4985], [1.3417174816131592, 499, 5275], [1.3414947986602783, 73, 284], [1.3414171934127808, 813, 9108], [1.3410899639129639, 131, 6158], [1.3403635025024414, 366, 8128], [1.3403037786483765, 22, 7658], [1.3402894735336304, 190, 4184], [1.3402178287506104, 563, 3912], [1.340169906616211, 25, 7746], [1.340096354484558, 272, 7845], [1.3399502038955688, 285, 9038], [1.3396857976913452, 289, 3319], [1.3396855592727661, 172, 5104], [1.339599847793579, 68, 15], [1.3392741680145264, 52, 6972], [1.338786005973816, 42, 1124], [1.3387192487716675, 103, 369], [1.3385488986968994, 63, 9842], [1.338180661201477, 26, 4707], [1.3381184339523315, 40, 931], [1.3380554914474487, 29, 8416], [1.3378275632858276, 225, 9540], [1.3374505043029785, 130, 919], [1.337349534034729, 176, 2287], [1.3369824886322021, 21, 9368], [1.3367555141448975, 235, 1071], [1.3366773128509521, 305, 3706], [1.3364542722702026, 216, 7803], [1.3362897634506226, 12, 2273], [1.3353387117385864, 211, 9807], [1.3352245092391968, 96, 5349], [1.334497094154358, 145, 91], [1.3340365886688232, 96, 6459], [1.3338634967803955, 224, 3034], [1.3336551189422607, 341, 6266], [1.3332939147949219, 13, 6047], [1.3332158327102661, 253, 65], [1.3330856561660767, 502, 1535], [1.3324666023254395, 32, 9229], [1.3323204517364502, 39, 3429], [1.3318467140197754, 611, 2573], [1.331756591796875, 182, 8504], [1.3313912153244019, 814, 1181], [1.331307053565979, 616, 5803], [1.3312714099884033, 671, 3367], [1.3312002420425415, 322, 5156], [1.3304024934768677, 165, 6328], [1.330313801765442, 213, 6901], [1.3301805257797241, 964, 5654], [1.3295241594314575, 363, 8009], [1.3289666175842285, 708, 9555], [1.3288437128067017, 675, 4789], [1.3286802768707275, 86, 8418], [1.3283284902572632, 30, 216], [1.3281793594360352, 341, 4954], [1.3280268907546997, 150, 1587], [1.327438235282898, 276, 4284], [1.327066421508789, 876, 5263], [1.3269165754318237, 30, 7281], [1.3264732360839844, 156, 4453], [1.3261452913284302, 231, 8282], [1.3259114027023315, 285, 994], [1.3249603509902954, 136, 4096], [1.3249051570892334, 32, 2642], [1.3245983123779297, 41, 696], [1.3241499662399292, 690, 7665], [1.323983907699585, 485, 3742], [1.3237048387527466, 626, 1117], [1.3236021995544434, 420, 6249], [1.3234035968780518, 58, 3011], [1.3232322931289673, 431, 5029], [1.3230993747711182, 257, 3976], [1.322884202003479, 356, 3681], [1.3228013515472412, 235, 251], [1.3216387033462524, 864, 677], [1.3216172456741333, 349, 5100], [1.3207104206085205, 251, 7397], [1.3206051588058472, 27, 8861], [1.3204307556152344, 7, 4642], [1.3193432092666626, 269, 4062], [1.3190827369689941, 182, 678], [1.3189231157302856, 92, 558], [1.318574070930481, 21, 5671], [1.3185389041900635, 957, 6379], [1.3182885646820068, 221, 659], [1.3179514408111572, 81, 7023], [1.3178694248199463, 278, 2297], [1.3169775009155273, 273, 217], [1.3168271780014038, 28, 9236], [1.3167407512664795, 12, 7543], [1.3166823387145996, 273, 2486], [1.3166728019714355, 5, 8883], [1.3157124519348145, 341, 4815], [1.3156851530075073, 112, 1785], [1.3154385089874268, 604, 9528], [1.3152878284454346, 303, 8488], [1.315234899520874, 200, 2600], [1.3147220611572266, 68, 4282], [1.314527988433838, 362, 507], [1.31406831741333, 313, 5183], [1.3139209747314453, 808, 3019], [1.3126500844955444, 474, 5818], [1.3116172552108765, 673, 4876], [1.3115103244781494, 159, 3055], [1.3114445209503174, 68, 1536], [1.311436414718628, 44, 1015], [1.3114070892333984, 78, 7909], [1.311225175857544, 346, 8802], [1.3111977577209473, 344, 3432], [1.3111644983291626, 327, 5198], [1.3106168508529663, 38, 2133], [1.3100827932357788, 165, 9797], [1.3096939325332642, 75, 9311], [1.3095835447311401, 283, 5796], [1.3095247745513916, 24, 2246], [1.3089667558670044, 504, 3379], [1.3086726665496826, 54, 1853], [1.3085952997207642, 281, 9986], [1.3074240684509277, 344, 152], [1.3073813915252686, 124, 8619], [1.3071004152297974, 305, 6526], [1.3069500923156738, 78, 430], [1.3063383102416992, 471, 4515], [1.3060438632965088, 226, 3342], [1.3058761358261108, 52, 5343], [1.3049286603927612, 21, 3947], [1.3047980070114136, 349, 6731], [1.3045207262039185, 147, 4022], [1.3030215501785278, 211, 3018], [1.3027578592300415, 30, 1407], [1.3026869297027588, 147, 7224], [1.3021929264068604, 514, 3928], [1.302087426185608, 88, 8202], [1.3014097213745117, 318, 1048], [1.3010828495025635, 140, 753], [1.30013906955719, 452, 7891], [1.3000178337097168, 160, 5031], [1.2993539571762085, 5, 8518], [1.2991037368774414, 169, 879], [1.2990466356277466, 29, 4902], [1.2988979816436768, 249, 9446], [1.2987902164459229, 374, 5459], [1.298668384552002, 303, 1902], [1.2986373901367188, 301, 1808], [1.2984323501586914, 372, 776], [1.2977869510650635, 46, 3900], [1.297760248184204, 362, 7053], [1.2977100610733032, 157, 340], [1.2976044416427612, 233, 9118], [1.2974554300308228, 169, 2045], [1.2972655296325684, 147, 6669], [1.296826958656311, 760, 7423], [1.2964472770690918, 206, 6691], [1.2960708141326904, 554, 722], [1.2960125207901, 553, 7752], [1.2959574460983276, 102, 7816], [1.2958669662475586, 66, 9579], [1.2958592176437378, 366, 2243], [1.2958247661590576, 75, 3153], [1.2953567504882812, 282, 9272], [1.295084834098816, 226, 4918], [1.2950496673583984, 252, 4909], [1.2946405410766602, 41, 7052], [1.294183611869812, 836, 7157], [1.293891191482544, 783, 193], [1.293745994567871, 108, 7469], [1.2934083938598633, 53, 2265], [1.293388843536377, 163, 7339], [1.2931841611862183, 110, 4236], [1.2922061681747437, 214, 5282], [1.2921249866485596, 23, 7655], [1.2918163537979126, 34, 974], [1.2916884422302246, 82, 7229], [1.2916254997253418, 39, 9755], [1.2912250757217407, 466, 2386], [1.290732979774475, 371, 3549], [1.2898951768875122, 170, 9759], [1.2892221212387085, 42, 8551], [1.2891865968704224, 345, 9430], [1.2883248329162598, 257, 4686], [1.2883167266845703, 18, 1640], [1.2881096601486206, 19, 1950], [1.2880219221115112, 75, 5151], [1.2879979610443115, 135, 8690], [1.2874767780303955, 412, 8779], [1.2873660326004028, 547, 7131], [1.286881923675537, 90, 5096], [1.286183476448059, 359, 4960], [1.2860389947891235, 91, 2064], [1.28516685962677, 238, 7451], [1.2851265668869019, 757, 4806], [1.2849912643432617, 631, 9228], [1.2848995923995972, 13, 3199], [1.2848466634750366, 597, 9059], [1.2848280668258667, 22, 1075], [1.2841718196868896, 7, 9992], [1.2833565473556519, 94, 2202], [1.282910943031311, 458, 4732], [1.2824548482894897, 97, 2925], [1.2822374105453491, 925, 2154], [1.2821308374404907, 522, 4372], [1.2819204330444336, 897, 5465], [1.2810604572296143, 165, 4956], [1.2809443473815918, 188, 1900], [1.280881404876709, 575, 4209], [1.2804535627365112, 8, 155], [1.2801883220672607, 3, 2127], [1.280041217803955, 765, 9412], [1.2797448635101318, 73, 6], [1.279709815979004, 399, 8423], [1.2794063091278076, 215, 8996], [1.2786884307861328, 615, 856], [1.2780684232711792, 613, 1090], [1.2770863771438599, 99, 4393], [1.277055263519287, 150, 9572], [1.276959776878357, 30, 1456], [1.2769231796264648, 22, 6048], [1.2766796350479126, 105, 7530], [1.2763630151748657, 640, 6842], [1.2762582302093506, 846, 9370], [1.275490641593933, 72, 9366], [1.2744507789611816, 27, 689], [1.274400234222412, 189, 4301], [1.2743146419525146, 136, 9847], [1.2743134498596191, 16, 47], [1.274275541305542, 577, 4585], [1.2741100788116455, 75, 2477], [1.2740280628204346, 51, 9433], [1.273591160774231, 817, 6892], [1.272901177406311, 161, 1593], [1.2727651596069336, 95, 113], [1.2715692520141602, 241, 2042], [1.2714468240737915, 217, 4992], [1.2713550329208374, 180, 8818], [1.271193027496338, 374, 9639], [1.2706000804901123, 369, 910], [1.2703686952590942, 336, 443], [1.2702854871749878, 4, 8775], [1.2700731754302979, 447, 6004], [1.2698675394058228, 131, 4347], [1.2698551416397095, 319, 4052], [1.2698049545288086, 90, 9775], [1.268614649772644, 114, 6913], [1.2681382894515991, 120, 6822], [1.2679563760757446, 677, 8261], [1.267822027206421, 308, 5249], [1.2672449350357056, 99, 2212], [1.2670297622680664, 49, 1504], [1.2660952806472778, 48, 5982], [1.2657352685928345, 215, 6450], [1.2655824422836304, 52, 1422], [1.264968752861023, 51, 8065], [1.264822244644165, 225, 434], [1.264573574066162, 536, 5862], [1.2645593881607056, 8, 1980], [1.2645363807678223, 83, 3305], [1.2638624906539917, 782, 7996], [1.2634389400482178, 131, 9550], [1.26295006275177, 88, 7617], [1.2627136707305908, 378, 7544], [1.2622029781341553, 15, 9112], [1.261826753616333, 929, 3958], [1.2617729902267456, 955, 3645], [1.2615877389907837, 183, 5405], [1.2615078687667847, 297, 3749], [1.2614613771438599, 319, 5705], [1.2610777616500854, 198, 9333], [1.2608580589294434, 186, 7018], [1.2607158422470093, 189, 4696], [1.2601834535598755, 267, 1621], [1.2598685026168823, 589, 9678], [1.259832501411438, 537, 6489], [1.2595317363739014, 133, 2791], [1.2593497037887573, 207, 7077], [1.2593324184417725, 416, 8535], [1.2592250108718872, 84, 7667], [1.2581267356872559, 44, 7631], [1.2580817937850952, 513, 3687], [1.2580604553222656, 3, 2146], [1.2579503059387207, 159, 2184], [1.2571110725402832, 209, 1429], [1.2557249069213867, 47, 3422], [1.2556216716766357, 868, 5849], [1.255465030670166, 285, 4431], [1.2551149129867554, 38, 255], [1.254961609840393, 704, 6532], [1.2548048496246338, 30, 8146], [1.2533249855041504, 57, 5362], [1.2531665563583374, 77, 1286], [1.253105878829956, 160, 7559], [1.252962350845337, 41, 7433], [1.2527157068252563, 137, 5708], [1.252600073814392, 77, 1724], [1.2525348663330078, 122, 747], [1.2509180307388306, 24, 4058], [1.2506307363510132, 163, 5615], [1.2503633499145508, 763, 5704], [1.250319004058838, 27, 7968], [1.2501955032348633, 93, 900], [1.249829888343811, 176, 8307], [1.2480453252792358, 211, 8597], [1.2479311227798462, 553, 415], [1.2475643157958984, 364, 6339], [1.2475178241729736, 141, 9594], [1.2474355697631836, 286, 1136], [1.2469357252120972, 376, 6685], [1.2468857765197754, 280, 9562], [1.2456858158111572, 126, 1072], [1.2454681396484375, 126, 8758], [1.245275855064392, 7, 4693], [1.245261549949646, 394, 56], [1.2431687116622925, 17, 3128], [1.2426785230636597, 647, 7946], [1.2426377534866333, 133, 3883], [1.242565631866455, 202, 4], [1.2424618005752563, 201, 8285], [1.2419825792312622, 256, 1957], [1.2411918640136719, 286, 6316], [1.2406898736953735, 122, 8358], [1.2404509782791138, 215, 7520], [1.2404148578643799, 259, 2747], [1.2403488159179688, 350, 7042], [1.2403299808502197, 48, 2222], [1.239558219909668, 162, 4943], [1.2395377159118652, 622, 9268], [1.2394130229949951, 298, 1433], [1.238656759262085, 558, 6410], [1.2384897470474243, 269, 5659], [1.2380136251449585, 175, 5922], [1.2375539541244507, 60, 3177], [1.23723304271698, 29, 9774], [1.2371689081192017, 15, 6817], [1.2361338138580322, 89, 9698], [1.2350350618362427, 71, 965], [1.234829306602478, 143, 9220], [1.2348235845565796, 289, 7071], [1.2344931364059448, 337, 7139], [1.2344473600387573, 379, 175], [1.234212040901184, 519, 2561], [1.2339268922805786, 114, 2422], [1.2338640689849854, 186, 4500], [1.23385488986969, 254, 2372], [1.233801007270813, 242, 7114], [1.2335541248321533, 303, 1802], [1.2332631349563599, 48, 1028], [1.2331546545028687, 121, 8075], [1.2329987287521362, 28, 8828], [1.2329078912734985, 244, 7971], [1.231421709060669, 505, 9365], [1.2312536239624023, 45, 1020], [1.2310986518859863, 638, 5975], [1.2303404808044434, 610, 8283], [1.230181097984314, 88, 7182], [1.2301509380340576, 149, 4101], [1.2295112609863281, 221, 8271], [1.229174256324768, 801, 7000], [1.2284810543060303, 70, 5446], [1.2281556129455566, 124, 6891], [1.2280195951461792, 361, 2643], [1.2278741598129272, 265, 7430], [1.2278705835342407, 251, 1450], [1.2273259162902832, 820, 6860], [1.2265671491622925, 44, 2345], [1.2264649868011475, 855, 2483], [1.2262599468231201, 314, 8763], [1.2258477210998535, 39, 2625], [1.2256540060043335, 306, 3575], [1.2255240678787231, 844, 4271], [1.225388526916504, 70, 6682], [1.2252084016799927, 419, 818], [1.2247893810272217, 122, 8998], [1.2244893312454224, 381, 9106], [1.2228353023529053, 82, 2864], [1.2222387790679932, 18, 427], [1.2222225666046143, 91, 5431], [1.2218433618545532, 90, 2037], [1.2211124897003174, 73, 9241], [1.2206957340240479, 167, 3096], [1.2206027507781982, 42, 2957], [1.220571756362915, 323, 6052], [1.22007417678833, 46, 3670], [1.219478726387024, 103, 6542], [1.2189643383026123, 561, 3922], [1.218917727470398, 69, 1537], [1.2188876867294312, 413, 6385], [1.218852162361145, 125, 1804], [1.2188220024108887, 36, 1154], [1.218732476234436, 100, 3044], [1.2182226181030273, 653, 653], [1.2179975509643555, 118, 8761], [1.2170724868774414, 340, 8201], [1.2164530754089355, 12, 6990], [1.2163777351379395, 18, 8027], [1.21623694896698, 280, 4549], [1.2162156105041504, 77, 3587], [1.2161717414855957, 52, 6304], [1.215603232383728, 119, 2949], [1.2154096364974976, 96, 6009], [1.2149018049240112, 5, 8838], [1.2145317792892456, 242, 3167], [1.2144904136657715, 573, 1855], [1.2143694162368774, 180, 7613], [1.2135080099105835, 111, 2889], [1.2132359743118286, 139, 1088], [1.212913990020752, 21, 3134], [1.2128684520721436, 242, 947], [1.2120200395584106, 318, 8188], [1.2119812965393066, 82, 3653], [1.2116823196411133, 455, 9632], [1.211428165435791, 566, 9510], [1.210930585861206, 13, 4321], [1.210848093032837, 519, 9351], [1.210300087928772, 758, 1008], [1.2101541757583618, 226, 3375], [1.2090057134628296, 344, 1917], [1.2082887887954712, 364, 6227], [1.2079027891159058, 22, 3602], [1.207760214805603, 150, 7416], [1.2073770761489868, 595, 3449], [1.20720374584198, 635, 5752], [1.2070982456207275, 197, 5821], [1.2069005966186523, 69, 1473], [1.206798791885376, 928, 1055], [1.2057491540908813, 416, 5809], [1.2055832147598267, 131, 8421], [1.2050355672836304, 50, 3561], [1.2044957876205444, 155, 2272], [1.2042014598846436, 547, 342], [1.204177737236023, 233, 7940], [1.203804850578308, 70, 7206], [1.203795313835144, 96, 537], [1.2025465965270996, 361, 1401], [1.2025400400161743, 43, 7368], [1.202457070350647, 355, 4847], [1.202398657798767, 54, 2521], [1.2022053003311157, 91, 9027], [1.2020574808120728, 127, 5514], [1.2020410299301147, 82, 6210], [1.2008346319198608, 265, 3318], [1.200649619102478, 160, 1232], [1.2006278038024902, 369, 8045], [1.1999788284301758, 720, 5837], [1.1998437643051147, 163, 846], [1.199402928352356, 433, 7428], [1.1982429027557373, 219, 2724], [1.1978737115859985, 82, 3093], [1.197542428970337, 510, 1920], [1.1975131034851074, 228, 3313], [1.19741952419281, 117, 5576], [1.197188138961792, 677, 8464], [1.1969497203826904, 154, 305], [1.196662425994873, 138, 2572], [1.1962803602218628, 103, 4579], [1.1962594985961914, 94, 1616], [1.1960117816925049, 481, 7220], [1.1953235864639282, 29, 1539], [1.1949920654296875, 27, 6724], [1.1944077014923096, 139, 5062], [1.1942291259765625, 844, 3381], [1.1942130327224731, 149, 9849], [1.1931430101394653, 945, 2548], [1.1931084394454956, 342, 2327], [1.1930752992630005, 494, 5042], [1.192825198173523, 718, 3690], [1.1920455694198608, 689, 6221], [1.1917423009872437, 133, 1660], [1.1917160749435425, 545, 8947], [1.190825343132019, 13, 1084], [1.1903512477874756, 44, 3118], [1.1902638673782349, 107, 93], [1.1900644302368164, 34, 9128], [1.1899021863937378, 171, 9762], [1.1893291473388672, 485, 4420], [1.1886601448059082, 31, 3578], [1.1886444091796875, 111, 8043], [1.1883188486099243, 246, 8035], [1.1880290508270264, 201, 5777], [1.1878623962402344, 119, 8862], [1.1876120567321777, 32, 8971], [1.1875346899032593, 119, 6665], [1.187124490737915, 358, 3014], [1.1869219541549683, 674, 370], [1.186776876449585, 21, 1968], [1.1865726709365845, 78, 133], [1.186379075050354, 546, 4810], [1.1854336261749268, 114, 672], [1.1854289770126343, 65, 9424], [1.1852165460586548, 100, 7325], [1.1848115921020508, 454, 2252], [1.18479323387146, 421, 6708], [1.1844151020050049, 292, 6507], [1.184402346611023, 369, 6413], [1.184388518333435, 548, 8220], [1.1843438148498535, 54, 3551], [1.1840910911560059, 123, 7603], [1.1840605735778809, 132, 4468], [1.1838412284851074, 332, 3669], [1.1835107803344727, 121, 58], [1.1827895641326904, 81, 214], [1.1825486421585083, 612, 929], [1.1823064088821411, 254, 8133], [1.1822905540466309, 209, 6858], [1.1817971467971802, 150, 5946], [1.181691288948059, 33, 6514], [1.1815576553344727, 86, 8615], [1.1815305948257446, 8, 2780], [1.1813440322875977, 87, 6487], [1.1810566186904907, 150, 2984], [1.1800973415374756, 53, 9798], [1.1799918413162231, 288, 9894], [1.1794672012329102, 3, 3485], [1.1781222820281982, 178, 4768], [1.1777985095977783, 220, 1945], [1.177640676498413, 105, 1774], [1.1774054765701294, 361, 7580], [1.1767122745513916, 117, 4040], [1.176293134689331, 470, 9007], [1.176194429397583, 53, 5878], [1.1759157180786133, 127, 564], [1.1754930019378662, 178, 9848], [1.1751900911331177, 39, 3775], [1.1749327182769775, 141, 9939], [1.1745628118515015, 245, 3491], [1.1742146015167236, 639, 3891], [1.173743486404419, 328, 3983], [1.1736185550689697, 36, 6946], [1.1735249757766724, 63, 78], [1.173380732536316, 227, 8067], [1.173129677772522, 391, 4865], [1.1725738048553467, 149, 9000], [1.172402262687683, 15, 4587], [1.1721616983413696, 301, 2245], [1.1719471216201782, 61, 8243], [1.1718697547912598, 551, 5157], [1.1717681884765625, 505, 5148], [1.1710350513458252, 108, 2517], [1.1702897548675537, 154, 8186], [1.1698495149612427, 74, 4529], [1.1697486639022827, 794, 8527], [1.1694731712341309, 155, 7102], [1.1692560911178589, 106, 4426], [1.1690301895141602, 849, 9777], [1.1688721179962158, 83, 9391], [1.1687381267547607, 210, 2784], [1.1685800552368164, 315, 5480], [1.1685069799423218, 294, 9734], [1.1684755086898804, 708, 3398], [1.1672171354293823, 29, 4257], [1.1671857833862305, 290, 9113], [1.1670621633529663, 79, 2008], [1.1665703058242798, 60, 5265], [1.1659818887710571, 131, 9987], [1.1658670902252197, 565, 4391], [1.1656357049942017, 444, 6530], [1.1654306650161743, 518, 3909], [1.165217399597168, 74, 6140], [1.1639171838760376, 242, 4519], [1.1633204221725464, 49, 4919], [1.1630362272262573, 21, 7402], [1.1616963148117065, 308, 9968], [1.1613173484802246, 263, 9682], [1.1611242294311523, 124, 6295], [1.1606762409210205, 613, 6965], [1.1591713428497314, 464, 9680], [1.1590051651000977, 5, 7588], [1.1589990854263306, 123, 413], [1.1588633060455322, 158, 5399], [1.1588610410690308, 114, 8865], [1.1586343050003052, 861, 2324], [1.1584711074829102, 49, 1806], [1.1580886840820312, 461, 6412], [1.1578081846237183, 20, 6322], [1.1577476263046265, 129, 3350], [1.157631754875183, 11, 4427], [1.1576217412948608, 118, 147], [1.1576073169708252, 167, 6355], [1.157599687576294, 131, 9320], [1.157518744468689, 22, 3843], [1.1570219993591309, 205, 9387], [1.156349539756775, 95, 1228], [1.1560840606689453, 185, 6186], [1.156050682067871, 176, 2826], [1.1553168296813965, 929, 5629], [1.1550363302230835, 837, 7390], [1.1548517942428589, 152, 8799], [1.1542888879776, 58, 5657], [1.1537030935287476, 56, 7988], [1.1534818410873413, 215, 6853], [1.1529297828674316, 91, 1678], [1.1526259183883667, 3, 4837], [1.1524525880813599, 68, 4634], [1.1520922183990479, 35, 5987], [1.1520837545394897, 405, 1194], [1.1519533395767212, 837, 393], [1.151147723197937, 242, 3286], [1.1506091356277466, 161, 5185], [1.1504191160202026, 255, 758], [1.1503770351409912, 445, 3961], [1.1489337682724, 299, 8571], [1.148411750793457, 103, 7619], [1.148146152496338, 426, 7773], [1.1480785608291626, 24, 6165], [1.147675633430481, 175, 5964], [1.147348165512085, 119, 5261], [1.1472830772399902, 11, 4228], [1.146744728088379, 140, 6773], [1.1465531587600708, 41, 7002], [1.1465486288070679, 188, 2882], [1.1461284160614014, 351, 4804], [1.1460394859313965, 135, 408], [1.145915150642395, 88, 4456], [1.1458643674850464, 696, 6624], [1.144951343536377, 477, 4416], [1.1442551612854004, 761, 4151], [1.1438109874725342, 58, 4165], [1.1433935165405273, 50, 2586], [1.1431045532226562, 122, 9156], [1.1429250240325928, 82, 6076], [1.1423088312149048, 93, 6975], [1.1418638229370117, 35, 7660], [1.1418424844741821, 278, 4048], [1.1418190002441406, 831, 1246], [1.1412773132324219, 276, 5712], [1.1409894227981567, 659, 3857], [1.1409484148025513, 168, 4828], [1.140821099281311, 97, 3496], [1.1401246786117554, 246, 7392], [1.139739751815796, 1015, 3586], [1.1395771503448486, 27, 6784], [1.1394625902175903, 551, 1743], [1.1394031047821045, 169, 8885], [1.1391350030899048, 124, 303], [1.138935923576355, 360, 2216], [1.138415813446045, 265, 6642], [1.1374046802520752, 832, 6325], [1.1368252038955688, 185, 6895], [1.136635422706604, 68, 8457], [1.1365418434143066, 256, 1947], [1.1356827020645142, 49, 138], [1.1356713771820068, 154, 1881], [1.1353187561035156, 71, 3799], [1.134903073310852, 245, 1137], [1.1344918012619019, 39, 8608], [1.134403944015503, 706, 8240], [1.1340229511260986, 25, 3666], [1.1338452100753784, 719, 5468], [1.132796049118042, 117, 276], [1.1325868368148804, 49, 1158], [1.1323658227920532, 343, 6347], [1.132308840751648, 11, 863], [1.1322494745254517, 116, 7027], [1.1320233345031738, 144, 35], [1.131868600845337, 125, 4975], [1.1317713260650635, 44, 2034], [1.131229043006897, 108, 3066], [1.1310688257217407, 462, 7388], [1.1309289932250977, 262, 4826], [1.13076913356781, 51, 9359], [1.130739450454712, 361, 1182], [1.130280613899231, 83, 7601], [1.1284215450286865, 39, 8522], [1.1279103755950928, 170, 2363], [1.127803087234497, 92, 6371], [1.1276620626449585, 171, 2725], [1.1275335550308228, 365, 3846], [1.1273200511932373, 37, 9039], [1.126571536064148, 177, 9635], [1.125597596168518, 574, 7250], [1.1252819299697876, 232, 4862], [1.1251306533813477, 23, 8543], [1.1251235008239746, 22, 2104], [1.1244837045669556, 375, 4227], [1.124444842338562, 10, 9654], [1.1243129968643188, 351, 8183], [1.1241086721420288, 53, 9710], [1.123096227645874, 125, 8625], [1.1230270862579346, 152, 3740], [1.1229292154312134, 67, 2644], [1.1226475238800049, 572, 5595], [1.1222902536392212, 25, 3798], [1.1217341423034668, 40, 3110], [1.121604084968567, 210, 2608], [1.1215455532073975, 176, 1167], [1.1214585304260254, 225, 6176], [1.1214011907577515, 362, 7640], [1.1213120222091675, 34, 5897], [1.1206088066101074, 329, 806], [1.1201939582824707, 112, 4925], [1.1199249029159546, 206, 7039], [1.1195354461669922, 323, 2817], [1.1194347143173218, 30, 6307], [1.1193190813064575, 626, 9879], [1.1186816692352295, 762, 3435], [1.1184115409851074, 120, 5494], [1.1183199882507324, 25, 7979], [1.117720365524292, 454, 8393], [1.1176151037216187, 141, 4833], [1.1170165538787842, 275, 8207], [1.1157643795013428, 320, 8210], [1.1156463623046875, 876, 1484], [1.1150866746902466, 46, 4457], [1.1149406433105469, 184, 7947], [1.1147301197052002, 581, 5585], [1.1146844625473022, 36, 2583], [1.1145397424697876, 2, 5756], [1.1145358085632324, 401, 896], [1.1144096851348877, 104, 4669], [1.114345908164978, 788, 971], [1.1142559051513672, 289, 3215], [1.1130435466766357, 58, 7008], [1.1127240657806396, 108, 9818], [1.1125097274780273, 635, 1741], [1.1121107339859009, 43, 5560], [1.1120846271514893, 355, 8792], [1.1114470958709717, 194, 8375], [1.111445665359497, 94, 5906], [1.1112126111984253, 299, 3327], [1.1104655265808105, 516, 4406], [1.11030113697052, 62, 7166], [1.1100318431854248, 666, 6315], [1.1097371578216553, 944, 9551], [1.1095104217529297, 86, 1155], [1.1077595949172974, 42, 2665], [1.1076518297195435, 190, 6749], [1.1075540781021118, 15, 6586], [1.1074541807174683, 739, 7086], [1.1072837114334106, 55, 703], [1.1071511507034302, 478, 9561], [1.1069124937057495, 82, 5218], [1.1068700551986694, 347, 8829], [1.1066035032272339, 795, 9025], [1.106593132019043, 3, 228], [1.1065833568572998, 37, 466], [1.1065362691879272, 192, 6850], [1.106242299079895, 313, 7311], [1.1059781312942505, 150, 3762], [1.1057733297348022, 47, 6149], [1.1052284240722656, 123, 3086], [1.1050589084625244, 45, 8239], [1.1049103736877441, 361, 1068], [1.1048105955123901, 127, 2657], [1.104623794555664, 286, 6023], [1.1043105125427246, 843, 4014], [1.104190707206726, 329, 6356], [1.104162335395813, 72, 9486], [1.104101300239563, 720, 4578], [1.1035257577896118, 685, 7085], [1.10310697555542, 306, 3752], [1.1028172969818115, 542, 8578], [1.1025742292404175, 489, 1240], [1.102449893951416, 107, 9343], [1.1022464036941528, 11, 8976], [1.1013284921646118, 109, 6378], [1.101265788078308, 87, 3119], [1.10081148147583, 13, 1064], [1.100626826286316, 575, 2091], [1.1004894971847534, 29, 1658], [1.1002144813537598, 48, 4093], [1.0996843576431274, 133, 626], [1.0988978147506714, 57, 7429], [1.098528504371643, 96, 9672], [1.0972527265548706, 138, 4487], [1.0970908403396606, 957, 773], [1.0969624519348145, 1018, 1697], [1.09695303440094, 242, 5526], [1.0963551998138428, 125, 2552], [1.095903992652893, 273, 4365], [1.0958174467086792, 45, 7902], [1.0950658321380615, 26, 1562], [1.094111680984497, 87, 3834], [1.0937381982803345, 77, 2029], [1.0933750867843628, 81, 8164], [1.093329668045044, 46, 171], [1.0929707288742065, 354, 847], [1.092962622642517, 29, 7343], [1.0928564071655273, 311, 6199], [1.092829704284668, 446, 6272], [1.0920171737670898, 117, 1989], [1.0916476249694824, 380, 2610], [1.0913774967193604, 287, 2771], [1.0910545587539673, 48, 1173], [1.0909674167633057, 165, 4055], [1.0909572839736938, 49, 5573], [1.0908763408660889, 661, 9044], [1.0906068086624146, 413, 7029], [1.0904889106750488, 102, 9671], [1.0901175737380981, 228, 129], [1.0900897979736328, 863, 183], [1.0899370908737183, 131, 4083], [1.0899157524108887, 182, 4243], [1.0892918109893799, 648, 3500], [1.0881173610687256, 143, 4521], [1.0879416465759277, 152, 4573], [1.08758544921875, 11, 8145], [1.0875440835952759, 379, 1904], [1.0871968269348145, 112, 9898], [1.0858607292175293, 1009, 3519], [1.085200548171997, 117, 1649], [1.0849822759628296, 262, 2368], [1.0849556922912598, 17, 3122], [1.0842201709747314, 120, 3273], [1.0836561918258667, 373, 6531], [1.0831291675567627, 71, 8419], [1.0825802087783813, 386, 4644], [1.0820820331573486, 168, 17], [1.0818926095962524, 50, 2375], [1.08041250705719, 24, 2562], [1.0799850225448608, 23, 8508], [1.0798890590667725, 156, 7538], [1.0798202753067017, 44, 5188], [1.0794302225112915, 161, 6684], [1.0790859460830688, 157, 4376], [1.0790293216705322, 328, 8483], [1.078843116760254, 215, 5918], [1.078831672668457, 393, 7524], [1.0780577659606934, 266, 86], [1.077455759048462, 53, 1298], [1.0772857666015625, 233, 7904], [1.0769685506820679, 22, 9124], [1.0766386985778809, 20, 3603], [1.0764964818954468, 58, 3369], [1.0761879682540894, 69, 9052], [1.0758061408996582, 466, 9965], [1.0757557153701782, 217, 44], [1.0757310390472412, 45, 2261], [1.075577735900879, 613, 7759], [1.0744109153747559, 2, 5049], [1.074316382408142, 170, 5825], [1.0735968351364136, 61, 1385], [1.0733318328857422, 746, 2717], [1.0728718042373657, 414, 3081], [1.0726253986358643, 332, 5381], [1.0723621845245361, 10, 2751], [1.0720973014831543, 192, 4352], [1.07208251953125, 422, 1739], [1.0717486143112183, 260, 2060], [1.0715429782867432, 471, 8264], [1.0714095830917358, 90, 9210], [1.0708575248718262, 253, 2136], [1.0702077150344849, 16, 7219], [1.0697766542434692, 56, 1769], [1.0688461065292358, 125, 8455], [1.0679813623428345, 239, 4792], [1.0679386854171753, 552, 8987], [1.0676690340042114, 138, 5782], [1.0673112869262695, 40, 2812], [1.067266583442688, 208, 4258], [1.0670852661132812, 390, 2866], [1.0670136213302612, 49, 4139], [1.0669667720794678, 110, 7360], [1.0669604539871216, 19, 4157], [1.0659526586532593, 64, 3964], [1.06550931930542, 402, 3456], [1.063458800315857, 401, 2611], [1.062912106513977, 160, 7943], [1.0621904134750366, 42, 4640], [1.0620911121368408, 138, 4955], [1.0616412162780762, 251, 2881], [1.0611227750778198, 15, 1715], [1.061074137687683, 133, 584], [1.0610042810440063, 279, 9944], [1.0605084896087646, 171, 1362], [1.0603238344192505, 188, 6675], [1.0600517988204956, 215, 4458], [1.059913158416748, 48, 8766], [1.059138298034668, 282, 3421], [1.0590237379074097, 32, 8047], [1.0587741136550903, 41, 5137], [1.0579684972763062, 880, 9616], [1.0579344034194946, 100, 8783], [1.0578800439834595, 45, 5997], [1.0578012466430664, 5, 3377], [1.0577576160430908, 903, 9825], [1.057396650314331, 217, 212], [1.0565965175628662, 234, 5225], [1.056480050086975, 237, 1706], [1.0563876628875732, 977, 9628], [1.0563524961471558, 19, 3408], [1.0562423467636108, 170, 4761], [1.0559409856796265, 57, 137], [1.0557318925857544, 124, 7794], [1.055492639541626, 192, 7236], [1.0554051399230957, 11, 5935], [1.0552902221679688, 297, 6211], [1.0549147129058838, 33, 7318], [1.0546817779541016, 398, 1271], [1.0542949438095093, 17, 6668], [1.0535672903060913, 549, 2732], [1.053470253944397, 179, 4697], [1.0534570217132568, 168, 5634], [1.0534343719482422, 140, 553], [1.0527092218399048, 208, 4885], [1.0524526834487915, 350, 2005], [1.0516138076782227, 203, 3214], [1.0514862537384033, 186, 721], [1.0513771772384644, 966, 6925], [1.0513345003128052, 33, 4463], [1.0511574745178223, 347, 816], [1.0509966611862183, 81, 544], [1.0508688688278198, 140, 4596], [1.050421953201294, 31, 7929], [1.0498932600021362, 277, 4700], [1.0492571592330933, 694, 5274], [1.0489232540130615, 50, 241], [1.0488024950027466, 66, 7696], [1.0484384298324585, 19, 6064], [1.0478193759918213, 497, 5592], [1.0474210977554321, 23, 8216], [1.0473968982696533, 150, 3071], [1.047062635421753, 152, 3168], [1.046882152557373, 818, 4613], [1.0467277765274048, 477, 244], [1.0464578866958618, 36, 6621], [1.0464540719985962, 36, 1249], [1.0461283922195435, 324, 7673], [1.04597008228302, 281, 7795], [1.0458561182022095, 166, 5057], [1.0457427501678467, 320, 8208], [1.0451141595840454, 73, 9904], [1.0450890064239502, 365, 462], [1.045007586479187, 251, 3099], [1.044712781906128, 346, 4084], [1.0445579290390015, 579, 3839], [1.0440213680267334, 123, 3088], [1.0435103178024292, 14, 6367], [1.043366551399231, 428, 7963], [1.042696475982666, 342, 2762], [1.042630672454834, 288, 3009], [1.04237961769104, 96, 5110], [1.0423481464385986, 16, 6971], [1.0419758558273315, 128, 3247], [1.041417121887207, 22, 215], [1.0408105850219727, 27, 9176], [1.0401532649993896, 33, 4029], [1.0399911403656006, 709, 4846], [1.0394787788391113, 2, 6115], [1.039340853691101, 233, 5170], [1.039219617843628, 584, 257], [1.0390572547912598, 279, 2162], [1.0388139486312866, 426, 4639], [1.0385390520095825, 729, 4447], [1.0382949113845825, 970, 7735], [1.03824782371521, 12, 7426], [1.0382146835327148, 708, 6863], [1.038031816482544, 400, 6162], [1.0379149913787842, 47, 5236], [1.037789225578308, 150, 713], [1.0374929904937744, 163, 8505], [1.0373926162719727, 120, 8422], [1.0370463132858276, 402, 7374], [1.0370084047317505, 331, 5116], [1.0366218090057373, 945, 6874], [1.0366101264953613, 381, 6742], [1.0362193584442139, 66, 7535], [1.0360970497131348, 458, 8807], [1.0360888242721558, 298, 9047], [1.0355795621871948, 713, 7663], [1.0352981090545654, 41, 2309], [1.03482985496521, 213, 2663], [1.0343929529190063, 108, 6672], [1.0338598489761353, 110, 9219], [1.0338530540466309, 780, 7264], [1.033751368522644, 398, 6364], [1.033596158027649, 385, 3971], [1.0333385467529297, 627, 6987], [1.032923698425293, 323, 2905], [1.0325218439102173, 37, 7028], [1.0321078300476074, 709, 8281], [1.0320370197296143, 104, 6478], [1.0320239067077637, 174, 9232], [1.0315001010894775, 703, 9010], [1.0311026573181152, 45, 5069], [1.0307289361953735, 302, 2619], [1.0303754806518555, 145, 609], [1.0300164222717285, 74, 5072], [1.029718041419983, 18, 9458], [1.0296647548675537, 968, 4053], [1.029397964477539, 174, 7560], [1.0293569564819336, 35, 7679], [1.0281637907028198, 428, 8572], [1.0281065702438354, 376, 3796], [1.0273791551589966, 397, 9479], [1.0272507667541504, 343, 6952], [1.026883602142334, 126, 5477], [1.0262179374694824, 332, 9699], [1.0260813236236572, 273, 8051], [1.0251227617263794, 228, 9720], [1.0249930620193481, 143, 1610], [1.0247976779937744, 32, 5224], [1.0235624313354492, 554, 8166], [1.0231786966323853, 589, 9204], [1.0223841667175293, 163, 3057], [1.022266149520874, 143, 4843], [1.0218544006347656, 244, 9524], [1.021661400794983, 97, 3393], [1.0212998390197754, 45, 2458], [1.0210641622543335, 6, 6843], [1.020992398262024, 143, 9499], [1.0208948850631714, 665, 5205], [1.0208585262298584, 116, 3700], [1.0208377838134766, 371, 3049], [1.020643711090088, 18, 5662], [1.020609736442566, 35, 6414], [1.019934058189392, 34, 5401], [1.019810676574707, 133, 9893], [1.018816351890564, 81, 583], [1.0187604427337646, 266, 5008], [1.0180343389511108, 152, 6557], [1.0173759460449219, 122, 7862], [1.0171295404434204, 171, 1349], [1.0170668363571167, 642, 3291], [1.0169503688812256, 39, 5691], [1.0169459581375122, 100, 1443], [1.0167382955551147, 426, 6620], [1.0165646076202393, 711, 8223], [1.0162124633789062, 512, 8237], [1.015842318534851, 79, 8681], [1.0157023668289185, 36, 9967], [1.0152024030685425, 128, 8383], [1.0146011114120483, 139, 3473], [1.014473557472229, 915, 117], [1.014312505722046, 266, 8599], [1.0139635801315308, 20, 9502], [1.0137182474136353, 218, 5666], [1.0136679410934448, 297, 887], [1.012418508529663, 585, 2662], [1.0123265981674194, 62, 7644], [1.0121686458587646, 501, 9673], [1.012143611907959, 183, 6769], [1.0120997428894043, 120, 8940], [1.0118567943572998, 90, 8332], [1.0115833282470703, 158, 1396], [1.0115042924880981, 52, 5002], [1.011317491531372, 163, 2172], [1.010755181312561, 208, 2134], [1.01025390625, 287, 5564], [1.0102185010910034, 16, 9595], [1.0098668336868286, 38, 3039], [1.0097137689590454, 10, 1811], [1.0096355676651, 260, 6291], [1.0095329284667969, 892, 4830], [1.009413242340088, 20, 8105], [1.008973479270935, 88, 4232], [1.008686900138855, 28, 4220], [1.008630633354187, 28, 2105], [1.007791519165039, 185, 4394], [1.007621169090271, 359, 1162], [1.0075771808624268, 26, 2988], [1.0069175958633423, 109, 7104], [1.006564736366272, 254, 9582], [1.0065371990203857, 13, 8408], [1.0040315389633179, 906, 5094], [1.0036749839782715, 867, 5753], [1.0036290884017944, 165, 5774], [1.0032641887664795, 22, 30], [1.0026801824569702, 122, 1465], [1.0025455951690674, 16, 8537], [1.0021671056747437, 104, 2609], [1.0021288394927979, 203, 6585], [1.0015525817871094, 348, 2476], [1.0012587308883667, 115, 1815], [1.0011348724365234, 950, 8411], [1.0010045766830444, 430, 5693], [1.0009675025939941, 68, 8812], [1.0005114078521729, 780, 6248], [1.0003141164779663, 133, 3797], [1.0002188682556152, 843, 5546], [0.9992081522941589, 1001, 2678], [0.9990687370300293, 186, 3754], [0.9988975524902344, 45, 530], [0.9988389015197754, 214, 321], [0.998066782951355, 32, 9512], [0.9978110194206238, 118, 9793], [0.9977555871009827, 369, 333], [0.9976902008056641, 205, 9656], [0.9975316524505615, 376, 9132], [0.9972828030586243, 35, 1104], [0.9970356225967407, 262, 3865], [0.9970343112945557, 181, 3679], [0.9969779253005981, 32, 7636], [0.9964039325714111, 127, 9158], [0.9959251880645752, 643, 6615], [0.9956966638565063, 296, 1352], [0.9956728219985962, 607, 687], [0.995438277721405, 77, 9597], [0.9952239394187927, 454, 4206], [0.9949483871459961, 921, 2961], [0.994223415851593, 12, 8046], [0.9937728643417358, 797, 4923], [0.9935747385025024, 16, 7378], [0.9930272698402405, 512, 9297], [0.9926624894142151, 77, 4652], [0.9918460249900818, 520, 1888], [0.9911999702453613, 167, 6060], [0.9907938241958618, 302, 4974], [0.9905769228935242, 648, 9816], [0.9905255436897278, 123, 7758], [0.9898092746734619, 176, 3182], [0.9896270632743835, 429, 9192], [0.9892303347587585, 42, 5244], [0.9883936047554016, 36, 8468], [0.9877256155014038, 145, 8677], [0.9874845743179321, 891, 6534], [0.9873937368392944, 125, 9493], [0.9865182042121887, 117, 5711], [0.9863812327384949, 382, 5268], [0.986348032951355, 8, 7780], [0.9856395721435547, 36, 531], [0.9856170415878296, 26, 970], [0.9851861000061035, 87, 8881], [0.9849916696548462, 762, 4728], [0.9846403002738953, 143, 9765], [0.9841328263282776, 18, 4977], [0.983833372592926, 6, 2165], [0.9833531379699707, 70, 5129], [0.9832435250282288, 778, 1378], [0.9831586480140686, 362, 4039], [0.9829986095428467, 92, 2706], [0.9828993082046509, 858, 8808], [0.9828539490699768, 87, 4106], [0.982329785823822, 143, 8129], [0.9823014140129089, 973, 7441], [0.9820439219474792, 46, 2279], [0.9820162653923035, 187, 7835], [0.981899619102478, 913, 7605], [0.9818735122680664, 18, 8344], [0.9816843867301941, 511, 9214], [0.9815946817398071, 158, 9513], [0.9811084270477295, 155, 7301], [0.9808515906333923, 91, 2055], [0.9805131554603577, 452, 1399], [0.980379581451416, 86, 9294], [0.9798888564109802, 223, 3601], [0.9795746803283691, 29, 4783], [0.9781650900840759, 1014, 3968], [0.9781085848808289, 233, 4444], [0.9779160618782043, 82, 1498], [0.9777653813362122, 151, 1208], [0.9776312112808228, 446, 6819], [0.9772056341171265, 131, 1528], [0.9770074486732483, 258, 2109], [0.976168155670166, 16, 440], [0.9761611223220825, 96, 1235], [0.9760949611663818, 968, 5495], [0.9757717847824097, 361, 6444], [0.9756205081939697, 319, 1074], [0.9747742414474487, 229, 6198], [0.9744676351547241, 272, 6688], [0.9744316339492798, 962, 1475], [0.9732822775840759, 5, 379], [0.9732822775840759, 5, 1364], [0.9732822775840759, 5, 5741], [0.9732822775840759, 5, 6117], [0.9732822775840759, 5, 6640], [0.9732822775840759, 5, 7980], [0.9732822775840759, 5, 8443], [0.9732692241668701, 67, 1514], [0.9729970693588257, 43, 9811], [0.9729828238487244, 18, 1086], [0.9729818105697632, 989, 704], [0.9725208282470703, 321, 8845], [0.9721665382385254, 608, 8672], [0.971899688243866, 267, 1906], [0.9718033075332642, 231, 8755], [0.9716234803199768, 71, 8378], [0.9714842438697815, 261, 1552], [0.9714463949203491, 237, 595], [0.9712874293327332, 2, 1874], [0.9712874293327332, 2, 3812], [0.9712874293327332, 2, 4238], [0.9712874293327332, 2, 8298], [0.9712874293327332, 2, 8744], [0.9712874293327332, 2, 8925], [0.9704701900482178, 89, 8098], [0.970460057258606, 38, 8246], [0.9701307415962219, 203, 1410], [0.9698590040206909, 88, 4018], [0.9698386788368225, 76, 8639], [0.9697434306144714, 45, 9804], [0.9696502089500427, 598, 8333], [0.9690019488334656, 683, 2740], [0.9687792658805847, 33, 2022], [0.9686524271965027, 184, 4333], [0.968392550945282, 64, 514], [0.9683893918991089, 84, 1734], [0.9681104421615601, 19, 6758], [0.968065083026886, 112, 8912], [0.9680491089820862, 546, 848], [0.9679695963859558, 114, 1767], [0.9677585959434509, 155, 8222], [0.967485785484314, 155, 2168], [0.9673226475715637, 132, 8606], [0.9672904014587402, 389, 495], [0.96723872423172, 24, 327], [0.9670471549034119, 90, 9198], [0.9670135378837585, 56, 5831], [0.9665260314941406, 655, 2694], [0.9665170311927795, 346, 7333], [0.9663377404212952, 618, 2206], [0.965768575668335, 103, 3585], [0.9656749367713928, 43, 6293], [0.9654869437217712, 26, 7682], [0.9654130935668945, 56, 7467], [0.9650408029556274, 66, 9576], [0.9648213386535645, 62, 8509], [0.9648098349571228, 198, 3231], [0.9645322561264038, 220, 9084], [0.9644796848297119, 60, 5729], [0.9638568162918091, 560, 3599], [0.9632361531257629, 197, 8801], [0.9628218412399292, 962, 7215], [0.9623952507972717, 122, 3237], [0.9622352719306946, 46, 6492], [0.9622035026550293, 505, 5427], [0.9619554877281189, 491, 1738], [0.9618766903877258, 4, 4616], [0.9613885879516602, 465, 3410], [0.9610379338264465, 9, 1631], [0.9609573483467102, 162, 4290], [0.9599781036376953, 46, 7427], [0.959555983543396, 188, 4188], [0.9595347046852112, 966, 6767], [0.9588248133659363, 102, 6814], [0.9586769938468933, 362, 3570], [0.9586501121520996, 279, 6390], [0.9584790468215942, 252, 9937], [0.9584360718727112, 373, 4389], [0.9580191373825073, 56, 2169], [0.9579320549964905, 89, 7485], [0.9579290151596069, 102, 9070], [0.9572950601577759, 137, 2716], [0.9571192264556885, 87, 7153], [0.9569410681724548, 139, 2781], [0.9567146301269531, 77, 9162], [0.9566805958747864, 834, 3557], [0.9566645622253418, 328, 6481], [0.9566131830215454, 142, 3965], [0.9561170339584351, 70, 7101], [0.9560641050338745, 289, 4739], [0.9560304880142212, 519, 9833], [0.9559788107872009, 25, 6182], [0.9549652934074402, 8, 1329], [0.9549152851104736, 232, 4367], [0.9547016024589539, 995, 5277], [0.9546512365341187, 557, 5366], [0.9546459913253784, 329, 8089], [0.9545792937278748, 398, 6438], [0.9543840289115906, 55, 6496], [0.9536876678466797, 147, 254], [0.9533812403678894, 143, 1571], [0.9533624053001404, 34, 2558], [0.9529497027397156, 194, 5122], [0.9529139995574951, 93, 6456], [0.9523895978927612, 111, 406], [0.9523400664329529, 24, 8534], [0.952216625213623, 64, 3758], [0.9518081545829773, 327, 4917], [0.9517271518707275, 82, 9783], [0.9514595866203308, 347, 4378], [0.9513034224510193, 340, 5746], [0.9507326483726501, 349, 796], [0.9500672221183777, 431, 6801], [0.9498900771141052, 356, 7738], [0.9493070840835571, 63, 5090], [0.9490649700164795, 157, 5599], [0.9487379789352417, 64, 7497], [0.9462304711341858, 32, 2271], [0.9462020993232727, 7, 8054], [0.946071445941925, 110, 3737], [0.9460262656211853, 381, 2406], [0.9459778666496277, 9, 2874], [0.9456754922866821, 44, 7878], [0.9451808929443359, 105, 3511], [0.9450330138206482, 219, 8869], [0.9450300931930542, 677, 9897], [0.9448662996292114, 29, 6864], [0.9444912672042847, 534, 2606], [0.9440870881080627, 346, 7923], [0.9431290626525879, 789, 5113], [0.9428799152374268, 22, 3833], [0.9426049590110779, 212, 239], [0.942566990852356, 7, 967], [0.9421114921569824, 581, 6645], [0.9417718052864075, 332, 684], [0.9416117668151855, 26, 1822], [0.9413774609565735, 682, 3190], [0.9413213729858398, 329, 2704], [0.9412989020347595, 499, 3628], [0.9412500262260437, 153, 2943], [0.9412371516227722, 115, 7615], [0.9412223100662231, 32, 7567], [0.940971851348877, 21, 8084], [0.9409584403038025, 60, 7141], [0.940724790096283, 105, 5430], [0.9406219124794006, 16, 1522], [0.9402674436569214, 23, 2612], [0.939995527267456, 17, 5540], [0.9396584630012512, 80, 8875], [0.9395352602005005, 253, 6317], [0.9393114447593689, 9, 2155], [0.939306914806366, 53, 3734], [0.9392771124839783, 275, 8819], [0.9389390349388123, 320, 7868], [0.9386842250823975, 473, 2421], [0.938219428062439, 24, 9806], [0.9377829432487488, 45, 9784], [0.9368181228637695, 77, 9400], [0.9364296793937683, 81, 1620], [0.9364255666732788, 55, 5410], [0.9363439679145813, 37, 2339], [0.9363293647766113, 724, 2585], [0.9363036155700684, 600, 3527], [0.9360527396202087, 20, 3234], [0.936034619808197, 101, 839], [0.9356964230537415, 55, 4303], [0.9356494545936584, 200, 9906], [0.9353678226470947, 153, 4357], [0.9353545904159546, 206, 1575], [0.9352940320968628, 355, 765], [0.9351918697357178, 57, 2158], [0.9345963001251221, 27, 6692], [0.9345299005508423, 529, 5010], [0.9344700574874878, 92, 5154], [0.9343440532684326, 22, 5073], [0.9343430399894714, 268, 1791], [0.9341164827346802, 403, 459], [0.9340358972549438, 254, 3520], [0.9335627555847168, 41, 8532], [0.9335105419158936, 248, 1466], [0.9331331253051758, 318, 6020], [0.9331310391426086, 108, 7782], [0.9328227639198303, 465, 9535], [0.9326633214950562, 343, 9478], [0.9322068095207214, 655, 7654], [0.931587278842926, 76, 5448], [0.9312767386436462, 12, 6163], [0.9305817484855652, 153, 4000], [0.9305250644683838, 50, 6733], [0.9304641485214233, 888, 4121], [0.9301324486732483, 52, 9858], [0.9299588799476624, 367, 885], [0.9293635487556458, 58, 8891], [0.9290086627006531, 32, 6639], [0.9287874102592468, 386, 479], [0.9286726713180542, 466, 5990], [0.9279313683509827, 153, 2808], [0.9269470572471619, 779, 40], [0.9268822073936462, 465, 8968], [0.926859974861145, 183, 7551], [0.9266844987869263, 110, 6839], [0.9265942573547363, 51, 2627], [0.9260236024856567, 27, 7627], [0.925909698009491, 52, 9188], [0.9258977770805359, 22, 9217], [0.9258386492729187, 372, 6705], [0.9254668951034546, 67, 3499], [0.9252419471740723, 26, 9448], [0.9252042770385742, 905, 8123], [0.9243815541267395, 286, 1268], [0.9243364334106445, 72, 1143], [0.9239324331283569, 265, 4852], [0.9236735105514526, 618, 2383], [0.9235424995422363, 289, 9378], [0.9235010147094727, 109, 7778], [0.9233984351158142, 71, 9877], [0.923349916934967, 21, 2807], [0.9228578209877014, 34, 8900], [0.921720027923584, 337, 828], [0.9215782880783081, 341, 9679], [0.9211748242378235, 210, 714], [0.9211247563362122, 86, 7989], [0.9209779500961304, 54, 9178], [0.9209657311439514, 440, 9131], [0.9209362864494324, 460, 6207], [0.9207978248596191, 140, 8277], [0.9205747246742249, 346, 3048], [0.9198384881019592, 24, 8642], [0.9197239279747009, 15, 9004], [0.9194974899291992, 162, 1942], [0.9192448258399963, 359, 458], [0.918814480304718, 400, 4655], [0.9184011816978455, 9, 1985], [0.9182388782501221, 263, 2413], [0.9182150959968567, 321, 1440], [0.9176462888717651, 56, 5574], [0.9171598553657532, 226, 4608], [0.9171067476272583, 266, 4731], [0.9168645143508911, 166, 4606], [0.9168068170547485, 118, 2479], [0.9165164828300476, 96, 7549], [0.9161929488182068, 705, 6840], [0.916088879108429, 11, 9889], [0.916081964969635, 153, 6835], [0.9158942103385925, 112, 2433], [0.9156383275985718, 51, 6832], [0.9153440594673157, 318, 1670], [0.9147006273269653, 24, 9874], [0.9141525030136108, 639, 7941], [0.9139294624328613, 306, 8409], [0.9136291742324829, 375, 8124], [0.9133069515228271, 7, 4492], [0.9124341607093811, 975, 823], [0.9121970534324646, 153, 3508], [0.9121448993682861, 51, 6039], [0.9119630455970764, 12, 361], [0.9117056131362915, 118, 7859], [0.9116527438163757, 48, 798], [0.9112685918807983, 56, 4871], [0.9111108779907227, 773, 3656], [0.9108924865722656, 48, 3662], [0.9107420444488525, 355, 541], [0.9107338786125183, 222, 8520], [0.910677969455719, 174, 2799], [0.9106192588806152, 402, 604], [0.9104958176612854, 8, 314], [0.9104154109954834, 58, 5661], [0.9099820852279663, 764, 8284], [0.9099065065383911, 206, 3053], [0.9097411036491394, 986, 4338], [0.9097132086753845, 222, 6827], [0.909376323223114, 123, 8910], [0.9088349342346191, 246, 9559], [0.9085175395011902, 86, 7285], [0.9084778428077698, 478, 6239], [0.9079704880714417, 552, 9623], [0.9075844287872314, 150, 2071], [0.9075087308883667, 158, 4875], [0.9073289036750793, 17, 2096], [0.9061625599861145, 75, 6998], [0.9057824611663818, 39, 2877], [0.9053204655647278, 237, 2916], [0.9051803946495056, 23, 2396], [0.9047423601150513, 110, 2097], [0.9046782851219177, 116, 7612], [0.9042385220527649, 45, 3531], [0.9039796590805054, 788, 9491], [0.9036632776260376, 180, 5307], [0.9036569595336914, 810, 3219], [0.9030789136886597, 98, 4130], [0.9028145670890808, 282, 2057], [0.9026293158531189, 71, 3438], [0.9023224711418152, 279, 1050], [0.9019725918769836, 58, 9245], [0.9019308686256409, 118, 9903], [0.9016598463058472, 1013, 4117], [0.9011572599411011, 290, 2629], [0.9009224772453308, 343, 7233], [0.9008634090423584, 623, 7260], [0.9001672863960266, 108, 9951], [0.8998963832855225, 178, 5807], [0.8993036150932312, 256, 3673], [0.8991169333457947, 56, 5879], [0.899023711681366, 118, 119], [0.8984394669532776, 920, 1553], [0.8983964323997498, 689, 4829], [0.8974128365516663, 167, 6516], [0.8973233103752136, 892, 7949], [0.8967986106872559, 867, 1765], [0.8964943885803223, 120, 1339], [0.8963280320167542, 7, 2908], [0.8962115049362183, 76, 6416], [0.895915150642395, 164, 2722], [0.8958154320716858, 52, 5739], [0.8956815600395203, 134, 7198], [0.8954862356185913, 551, 9901], [0.8954585790634155, 949, 3529], [0.8952564001083374, 137, 8345], [0.8951026797294617, 380, 8682], [0.8946568965911865, 156, 2569], [0.8946064114570618, 355, 8538], [0.8945460319519043, 104, 6812], [0.8942800164222717, 3, 7230], [0.8939910531044006, 217, 8499], [0.8938426971435547, 405, 5525], [0.8927451968193054, 36, 8844], [0.8926838040351868, 843, 8363], [0.8924835920333862, 923, 4313], [0.8917098641395569, 74, 5503], [0.8912426233291626, 150, 1856], [0.8910915851593018, 171, 3813], [0.8908432722091675, 416, 4963], [0.890835702419281, 505, 6856], [0.8907824754714966, 511, 8022], [0.8907254934310913, 788, 9261], [0.8903921246528625, 135, 1967], [0.8900991082191467, 82, 6554], [0.8899338245391846, 120, 9916], [0.8890510201454163, 262, 2914], [0.8878509402275085, 39, 5995], [0.8878408074378967, 37, 6088], [0.8875934481620789, 853, 4405], [0.8872281312942505, 154, 7026], [0.88717120885849, 132, 3722], [0.8869620561599731, 165, 5162], [0.88685542345047, 201, 3183], [0.8866771459579468, 202, 1441], [0.8865002393722534, 36, 7939], [0.8863052725791931, 107, 9143], [0.8862162828445435, 416, 7507], [0.8860934376716614, 41, 1242], [0.8849973678588867, 174, 4275], [0.8849660754203796, 478, 3310], [0.8843055367469788, 14, 9308], [0.8841696381568909, 54, 7032], [0.8839320540428162, 505, 74], [0.8838673830032349, 235, 966], [0.8836098313331604, 127, 9769], [0.8831055760383606, 94, 4987], [0.8827447295188904, 48, 2424], [0.8824618458747864, 107, 9971], [0.8823119401931763, 360, 1672], [0.8822932243347168, 90, 8540], [0.8820964097976685, 365, 8727], [0.8820608258247375, 91, 3106], [0.8818536400794983, 132, 7953], [0.8806290030479431, 929, 4295], [0.8804025650024414, 141, 538], [0.8796787858009338, 21, 5124], [0.8791722059249878, 11, 9530], [0.8791062235832214, 222, 8361], [0.878872275352478, 266, 9696], [0.8788403868675232, 54, 2557], [0.8786323666572571, 150, 5077], [0.878176212310791, 327, 3727], [0.8772415518760681, 78, 1636], [0.8771874904632568, 250, 8406], [0.8766352534294128, 193, 8436], [0.8765475153923035, 108, 375], [0.8761798739433289, 25, 3029], [0.8759046792984009, 50, 3359], [0.8738071918487549, 46, 4013], [0.8736960887908936, 109, 8319], [0.8730431199073792, 197, 7920], [0.8718271851539612, 551, 286], [0.8716171979904175, 69, 2051], [0.8715807795524597, 124, 7344], [0.8714404106140137, 201, 7366], [0.8714386224746704, 482, 9334], [0.8711774349212646, 16, 9835], [0.8703961968421936, 294, 7322], [0.8693724870681763, 118, 9373], [0.8691940903663635, 954, 6719], [0.868002712726593, 80, 3180], [0.8672886490821838, 325, 1219], [0.8672853112220764, 263, 7596], [0.8671286106109619, 756, 7513], [0.8670231103897095, 356, 8600], [0.8662692308425903, 339, 8026], [0.8659965395927429, 95, 5571], [0.8658045530319214, 52, 5815], [0.8653950095176697, 179, 1164], [0.8653329014778137, 234, 4152], [0.8650339245796204, 69, 825], [0.8639319539070129, 564, 2834], [0.8638232350349426, 73, 444], [0.8638204336166382, 40, 7167], [0.8636773824691772, 23, 3973], [0.8633289337158203, 213, 3925], [0.8632405400276184, 20, 6653], [0.8631677627563477, 23, 5926], [0.8623021841049194, 44, 6996], [0.8619601130485535, 744, 143], [0.8616260886192322, 642, 422], [0.8613260388374329, 91, 5240], [0.8612706661224365, 89, 1924], [0.8611781597137451, 144, 463], [0.8609724640846252, 82, 111], [0.860633134841919, 119, 3510], [0.8604726791381836, 662, 9066], [0.8603125810623169, 34, 6337], [0.8597427606582642, 245, 8136], [0.8596957325935364, 22, 5688], [0.8595116138458252, 368, 8688], [0.858637273311615, 341, 5001], [0.8580828309059143, 8, 5799], [0.8568866848945618, 290, 4364], [0.8567596673965454, 32, 7291], [0.856738805770874, 214, 8241], [0.8566462993621826, 341, 8494], [0.8565872311592102, 744, 1387], [0.8562328219413757, 52, 6422], [0.8560730814933777, 85, 2069], [0.8555876016616821, 161, 3694], [0.8550922274589539, 7, 9154], [0.8548698425292969, 663, 6036], [0.8545485734939575, 1013, 2994], [0.8539938926696777, 23, 262], [0.853884756565094, 299, 8636], [0.8537451028823853, 135, 7515], [0.8531115055084229, 239, 8934], [0.8526760339736938, 313, 2367], [0.8524777293205261, 3, 6776], [0.8523732423782349, 250, 2859], [0.8519573211669922, 59, 7825], [0.8519573211669922, 59, 9068], [0.8515968918800354, 43, 4075], [0.8513289093971252, 32, 4045], [0.8503228425979614, 210, 206], [0.8501340746879578, 218, 7503], [0.8495539426803589, 53, 2356], [0.8495369553565979, 388, 2239], [0.8494834899902344, 11, 5856], [0.8494824171066284, 57, 2083], [0.8494048118591309, 321, 9453], [0.8491543531417847, 12, 7221], [0.8489717245101929, 191, 5744], [0.8483087420463562, 58, 6655], [0.8475577235221863, 18, 2035], [0.8475117087364197, 78, 4090], [0.846920371055603, 250, 6601], [0.8467408418655396, 68, 6980], [0.8463112115859985, 88, 6353], [0.8462160229682922, 74, 4562], [0.846160352230072, 524, 4343], [0.8457651734352112, 215, 2756], [0.8456200361251831, 260, 5254], [0.8451120853424072, 31, 5241], [0.8448119759559631, 353, 6947], [0.8447955846786499, 31, 9133], [0.8446225523948669, 231, 5720], [0.8445825576782227, 156, 1893], [0.8443146347999573, 103, 272], [0.8442979454994202, 940, 4535], [0.8434635400772095, 158, 2796], [0.8434534668922424, 44, 1025], [0.8434260487556458, 419, 2153], [0.8431083559989929, 97, 2102], [0.8427425622940063, 196, 2537], [0.8426465392112732, 44, 2445], [0.8425325155258179, 56, 9049], [0.8423726558685303, 11, 9751], [0.8422011733055115, 23, 1766], [0.8420813083648682, 471, 9569], [0.8418955206871033, 31, 2733], [0.8411092758178711, 191, 968], [0.8405954837799072, 373, 4720], [0.8405197858810425, 1001, 4537], [0.8396965861320496, 158, 5409], [0.8393868803977966, 90, 7932], [0.838991105556488, 111, 8586], [0.838691771030426, 121, 4311], [0.8385631442070007, 61, 6330], [0.8385339975357056, 75, 7332], [0.8376026153564453, 258, 7417], [0.8375923037528992, 399, 7409], [0.8370717763900757, 117, 1799], [0.8366611003875732, 21, 4421], [0.8361943364143372, 100, 1184], [0.8355234265327454, 87, 4914], [0.8354392647743225, 97, 1278], [0.8352972865104675, 143, 7936], [0.8352439403533936, 30, 5733], [0.8348519206047058, 299, 4712], [0.8347627520561218, 270, 8826], [0.8343927264213562, 257, 1753], [0.8342286348342896, 284, 3201], [0.8339795470237732, 99, 141], [0.8339609503746033, 62, 7384], [0.8338907361030579, 429, 5873], [0.8330576419830322, 151, 4947], [0.832490086555481, 85, 9980], [0.8324877023696899, 25, 3362], [0.832464873790741, 112, 1545], [0.8316510319709778, 51, 1363], [0.8313095569610596, 151, 1990], [0.8312203288078308, 221, 7534], [0.830451488494873, 88, 1406], [0.8304346203804016, 113, 1417], [0.8302096128463745, 92, 5358], [0.8301876783370972, 435, 640], [0.8298912644386292, 116, 1569], [0.829337477684021, 805, 1052], [0.8293176889419556, 15, 70], [0.8292436003684998, 63, 7124], [0.8290319442749023, 603, 1222], [0.8290236592292786, 94, 5510], [0.8289906978607178, 33, 8519], [0.8289084434509277, 112, 2689], [0.8278825283050537, 249, 6360], [0.827873945236206, 860, 6068], [0.8274222016334534, 109, 4654], [0.8274176716804504, 112, 7599], [0.8272176384925842, 410, 2117], [0.8269608020782471, 512, 693], [0.8266233801841736, 52, 8732], [0.826095461845398, 284, 9490], [0.8260831236839294, 5, 4086], [0.8260831236839294, 5, 5553], [0.8260831236839294, 5, 7373], [0.8252312541007996, 317, 2099], [0.8245841860771179, 327, 3539], [0.8244843482971191, 82, 1073], [0.8241081237792969, 69, 9190], [0.8240453600883484, 299, 157], [0.824009120464325, 43, 3021], [0.8233599662780762, 176, 1159], [0.8227240443229675, 21, 5141], [0.8223840594291687, 887, 2746], [0.822289228439331, 16, 46], [0.8218516707420349, 137, 2017], [0.8210980296134949, 77, 5182], [0.8209906220436096, 136, 4744], [0.8209219574928284, 112, 5197], [0.8206346035003662, 923, 8811], [0.8204503059387207, 48, 9653], [0.8204426169395447, 55, 5382], [0.8203794956207275, 20, 9177], [0.8200274109840393, 699, 3263], [0.819888710975647, 63, 1324], [0.8198727369308472, 641, 395], [0.8198122978210449, 171, 7961], [0.8196920156478882, 133, 8663], [0.8196293115615845, 1009, 2350], [0.8180429339408875, 87, 3548], [0.8177632689476013, 784, 8837], [0.8174324035644531, 332, 622], [0.8170532584190369, 5, 3808], [0.8169833421707153, 464, 2065], [0.8168578743934631, 379, 1042], [0.8167878985404968, 140, 9043], [0.8161459565162659, 29, 3437], [0.8161062002182007, 250, 3822], [0.8161020874977112, 765, 5817], [0.8159307241439819, 334, 6809], [0.8155152797698975, 201, 1405], [0.8149042129516602, 770, 3497], [0.8143944144248962, 165, 6664], [0.8143706917762756, 346, 1266], [0.8141644597053528, 466, 7646], [0.8141222596168518, 749, 4033], [0.8141103982925415, 119, 6968], [0.8139966726303101, 5, 9899], [0.813848078250885, 222, 6000], [0.8137856721878052, 69, 7984], [0.8136454820632935, 297, 5812], [0.8129138350486755, 58, 1879], [0.8126267194747925, 160, 8386], [0.8121300935745239, 103, 4790], [0.8120571970939636, 378, 3842], [0.8111183047294617, 367, 7729], [0.809965968132019, 118, 5963], [0.8097905516624451, 668, 9001], [0.8097414374351501, 154, 9033], [0.8096208572387695, 359, 7745], [0.8096206188201904, 234, 148], [0.8091918230056763, 56, 7487], [0.8091413378715515, 501, 576], [0.8086450099945068, 199, 3295], [0.8083876371383667, 91, 8407], [0.8082172274589539, 663, 4091], [0.8068695664405823, 10, 7585], [0.8061311841011047, 99, 5326], [0.8059587478637695, 59, 5471], [0.8059431314468384, 17, 7455], [0.8057026863098145, 34, 4207], [0.8046435117721558, 32, 3675], [0.8045876026153564, 134, 368], [0.8041059374809265, 424, 2906], [0.8040022253990173, 87, 8988], [0.8033393025398254, 51, 3725], [0.8031938672065735, 491, 3054], [0.803155779838562, 793, 127], [0.8023514151573181, 228, 9935], [0.8017776608467102, 18, 3276], [0.8009564876556396, 7, 1600], [0.8007646203041077, 101, 9477], [0.8006266951560974, 62, 8004], [0.8003488183021545, 54, 6551], [0.8000057339668274, 173, 3986], [0.7993433475494385, 23, 6829], [0.7991848587989807, 24, 8397], [0.7991189956665039, 302, 821], [0.7991130948066711, 6, 2933], [0.7989354729652405, 8, 7727], [0.798724353313446, 113, 990], [0.7985591292381287, 3, 6193], [0.7985312938690186, 989, 2939], [0.7984036207199097, 253, 9146], [0.7975277900695801, 38, 8120], [0.7973163723945618, 112, 7594], [0.7972831726074219, 312, 8346], [0.7971287369728088, 355, 4527], [0.7970988154411316, 267, 1203], [0.7969785332679749, 196, 5466], [0.7966979742050171, 603, 4653], [0.7962924838066101, 221, 1790], [0.7962228059768677, 191, 8447], [0.7958424687385559, 24, 3206], [0.7958043217658997, 13, 5646], [0.7957194447517395, 71, 4683], [0.795562207698822, 71, 3365], [0.7954825758934021, 34, 9563], [0.795050859451294, 215, 3434], [0.7946906685829163, 181, 7688], [0.7946336269378662, 170, 5400], [0.7943781018257141, 306, 6474], [0.7938741445541382, 322, 6857], [0.7937430739402771, 97, 8169], [0.7932878136634827, 66, 8329], [0.7929291129112244, 978, 8041], [0.7925333976745605, 37, 634], [0.7924659848213196, 35, 8648], [0.7924549579620361, 23, 7662], [0.7922531962394714, 208, 5637], [0.792102038860321, 47, 4481], [0.7919697761535645, 342, 6609], [0.7918174862861633, 204, 9186], [0.7917775511741638, 171, 4586], [0.7917464971542358, 316, 2571], [0.7915815114974976, 19, 1358], [0.7911446690559387, 36, 4285], [0.7910649180412292, 64, 4692], [0.7910641431808472, 288, 3944], [0.7903099656105042, 62, 4436], [0.7896391749382019, 569, 4194], [0.789416491985321, 178, 2110], [0.7892382144927979, 228, 5942], [0.7888780832290649, 162, 5880], [0.788147509098053, 29, 3374], [0.7878420352935791, 4, 615], [0.7877559661865234, 170, 5374], [0.7867835760116577, 48, 701], [0.786720871925354, 109, 8142], [0.7866503000259399, 36, 9975], [0.7865185737609863, 712, 57], [0.7863877415657043, 128, 2688], [0.7863364815711975, 75, 9354], [0.7863068580627441, 73, 9890], [0.7861815690994263, 45, 3158], [0.7858800888061523, 2, 5851], [0.7858338356018066, 17, 9732], [0.7858309149742126, 172, 9802], [0.7851144075393677, 119, 7480], [0.7847970724105835, 9, 2522], [0.7844641208648682, 27, 6432], [0.783754825592041, 753, 8138], [0.7835797071456909, 338, 3417], [0.7832545042037964, 92, 3543], [0.7829874157905579, 41, 2176], [0.7828274965286255, 158, 4935], [0.782545268535614, 138, 3595], [0.7823548913002014, 303, 5528], [0.7819966673851013, 414, 404], [0.7816091179847717, 20, 2533], [0.7814189195632935, 362, 6280], [0.7812128067016602, 28, 742], [0.7811053991317749, 169, 2447], [0.7809966802597046, 222, 5792], [0.7809250950813293, 111, 5857], [0.7808915972709656, 31, 8185], [0.780493438243866, 204, 6349], [0.7801157236099243, 112, 3751], [0.7799275517463684, 57, 1063], [0.7798547148704529, 69, 3462], [0.7797664999961853, 258, 7651], [0.7790541648864746, 101, 36], [0.7787923812866211, 365, 2221], [0.778328537940979, 82, 964], [0.7779424786567688, 301, 6928], [0.7775800824165344, 155, 3980], [0.7772786617279053, 76, 3576], [0.7767608165740967, 102, 5179], [0.7761562466621399, 31, 9694], [0.7760679721832275, 601, 935], [0.7760489583015442, 194, 356], [0.7760105729103088, 43, 6973], [0.775950014591217, 9, 5278], [0.7756605744361877, 81, 7315], [0.7756015658378601, 9, 3855], [0.7755953073501587, 163, 7813], [0.7750903367996216, 401, 7848], [0.7749949097633362, 50, 5309], [0.7743192315101624, 157, 9072], [0.774280846118927, 235, 2570], [0.7742135524749756, 110, 8701], [0.7740151286125183, 144, 4397], [0.7736253142356873, 68, 4349], [0.7734898924827576, 92, 7724], [0.7731648683547974, 444, 7277], [0.773040771484375, 84, 9078], [0.7728256583213806, 76, 4709], [0.7715021371841431, 585, 3729], [0.771366536617279, 6, 9081], [0.771113932132721, 352, 121], [0.7688632607460022, 16, 1688], [0.7683600783348083, 693, 4725], [0.7681748867034912, 276, 9002], [0.7663376331329346, 66, 8704], [0.7662648558616638, 118, 6908], [0.7661339044570923, 462, 772], [0.7660955190658569, 694, 2043], [0.765666127204895, 194, 8611], [0.7656543850898743, 74, 3817], [0.7653882503509521, 158, 3373], [0.7651008367538452, 85, 6828], [0.7646552920341492, 365, 8741], [0.7643418908119202, 176, 9928], [0.7641801834106445, 184, 1829], [0.7640146613121033, 68, 7637], [0.7638255953788757, 53, 5398], [0.7636221051216125, 146, 1890], [0.7636129856109619, 29, 6286], [0.7629659175872803, 667, 875], [0.7628995776176453, 104, 2534], [0.7627457976341248, 297, 8882], [0.7624118328094482, 470, 5426], [0.7623396515846252, 62, 2967], [0.7619238495826721, 280, 692], [0.7618701457977295, 406, 2489], [0.7615989446640015, 500, 6741], [0.7614023685455322, 412, 1341], [0.7611425518989563, 254, 984], [0.7611381411552429, 457, 3569], [0.7606818675994873, 302, 9630], [0.7598769068717957, 371, 764], [0.759486198425293, 145, 5176], [0.7594491839408875, 755, 6918], [0.7590275406837463, 71, 7061], [0.7587815523147583, 878, 7033], [0.7587249279022217, 813, 7844], [0.7581734657287598, 68, 581], [0.757932186126709, 1011, 2675], [0.7578905820846558, 241, 3207], [0.7578414678573608, 47, 650], [0.7565361261367798, 177, 5478], [0.7561570405960083, 644, 1907], [0.7561274766921997, 399, 8666], [0.7560998797416687, 132, 1510], [0.755336582660675, 23, 2081], [0.7550070881843567, 316, 5440], [0.7547402381896973, 338, 1258], [0.7542176842689514, 348, 5482], [0.7540276050567627, 122, 7938], [0.7530748248100281, 96, 8809], [0.7526893019676208, 47, 5924], [0.7523905038833618, 740, 1567], [0.7522386312484741, 17, 8072], [0.7521503567695618, 30, 3484], [0.7521443367004395, 91, 9234], [0.7520900368690491, 92, 9735], [0.7518530488014221, 324, 928], [0.7518125176429749, 617, 7357], [0.7515605092048645, 190, 5721], [0.7514756321907043, 295, 9945], [0.7513598203659058, 41, 7565], [0.7511134147644043, 90, 7905], [0.7506173849105835, 161, 9290], [0.7504692673683167, 99, 309], [0.7500969767570496, 204, 9661], [0.7498713135719299, 288, 5641], [0.7498484253883362, 78, 7828], [0.7497681975364685, 315, 8927], [0.7496481537818909, 22, 4816], [0.7495951652526855, 2, 3210], [0.7493387460708618, 375, 8549], [0.7480487823486328, 156, 2587], [0.7475152015686035, 831, 2931], [0.7472270727157593, 42, 6234], [0.7469562888145447, 90, 9675], [0.7468132972717285, 197, 4786], [0.7466986775398254, 70, 5734], [0.7466374039649963, 217, 3950], [0.7466110587120056, 63, 1523], [0.7465119957923889, 57, 3154], [0.7462422847747803, 581, 5516], [0.7458579540252686, 458, 4565], [0.7458155751228333, 909, 4289], [0.7453465461730957, 226, 9742], [0.7451545000076294, 84, 7460], [0.7445409893989563, 1006, 2990], [0.7444949150085449, 51, 8002], [0.7439501285552979, 79, 2636], [0.7431523203849792, 161, 2120], [0.743069589138031, 49, 4879], [0.7430362105369568, 82, 8720], [0.7425139546394348, 146, 5132], [0.7423076033592224, 229, 2203], [0.7417787909507751, 359, 9364], [0.7417198419570923, 698, 1612], [0.7413586974143982, 316, 2849], [0.7411383986473083, 16, 3568], [0.7409114837646484, 358, 4967], [0.7406064867973328, 83, 3239], [0.7405267953872681, 36, 350], [0.7405023574829102, 16, 9864], [0.7404894828796387, 242, 9883], [0.7401041984558105, 618, 6735], [0.7394781708717346, 70, 8923], [0.7389099597930908, 365, 7819], [0.7388749122619629, 16, 6384], [0.7382695078849792, 173, 3169], [0.7375538349151611, 207, 6575], [0.7375488877296448, 203, 7149], [0.7370606064796448, 127, 8449], [0.7368574142456055, 115, 6205], [0.7368324995040894, 577, 2371], [0.736581563949585, 2, 8037], [0.7365296483039856, 67, 6861], [0.7354214787483215, 30, 7358], [0.7351745963096619, 89, 335], [0.7348290085792542, 745, 7440], [0.7348146438598633, 50, 4936], [0.7346616983413696, 216, 6219], [0.7345129251480103, 659, 7336], [0.7344496846199036, 429, 9884], [0.7344188690185547, 143, 253], [0.7340791821479797, 151, 6790], [0.7339188456535339, 208, 8103], [0.7338799834251404, 365, 3970], [0.73248291015625, 207, 4361], [0.7324674725532532, 428, 2453], [0.7318612337112427, 557, 2773], [0.7318383455276489, 169, 5905], [0.7316412925720215, 295, 7216], [0.7313876748085022, 106, 9591], [0.7310393452644348, 376, 7223], [0.7305090427398682, 50, 3458], [0.7302955389022827, 124, 5457], [0.7302943468093872, 19, 4939], [0.7301870584487915, 173, 5138], [0.7297649383544922, 355, 781], [0.7294784784317017, 146, 2175], [0.7290534973144531, 46, 3809], [0.7290129065513611, 79, 1056], [0.7288512587547302, 53, 7257], [0.7287739515304565, 117, 6010], [0.7284282445907593, 355, 9660], [0.7283113598823547, 312, 3349], [0.727971613407135, 542, 5458], [0.7278468012809753, 26, 4906], [0.7278222441673279, 76, 2195], [0.7276797294616699, 508, 3721], [0.72655189037323, 584, 2085], [0.7263113856315613, 76, 8212], [0.7262462973594666, 15, 4112], [0.7257887125015259, 967, 123], [0.7253856658935547, 810, 3728], [0.7249045372009277, 323, 2835], [0.7241695523262024, 32, 7884], [0.723904550075531, 307, 1935], [0.7236019968986511, 1023, 3686], [0.7233601212501526, 271, 853], [0.7232286334037781, 137, 1630], [0.7223172783851624, 43, 8683], [0.7222119569778442, 732, 6071], [0.7218878865242004, 467, 4645], [0.7217804193496704, 108, 6466], [0.7208176255226135, 75, 3058], [0.7204676270484924, 391, 6917], [0.7201979756355286, 51, 7659], [0.7198283076286316, 25, 2370], [0.7183257937431335, 130, 4617], [0.7182605266571045, 77, 7113], [0.7176547050476074, 2, 1897], [0.7176088690757751, 9, 2833], [0.7175251245498657, 71, 2050], [0.7174085974693298, 269, 1501], [0.7171805500984192, 32, 2021], [0.7171603441238403, 9, 2207], [0.716683030128479, 62, 2402], [0.7158938646316528, 67, 2217], [0.7157412171363831, 1007, 7474], [0.7153522372245789, 60, 4704], [0.7151603698730469, 34, 2399], [0.7150743007659912, 260, 2220], [0.7149461507797241, 467, 2785], [0.7149103283882141, 303, 2004], [0.7141343355178833, 8, 733], [0.7140977382659912, 160, 506], [0.7139231562614441, 175, 9349], [0.7137247323989868, 56, 7906], [0.7134426832199097, 144, 7698], [0.7132608294487, 175, 4534], [0.7130537033081055, 24, 4933], [0.7128778696060181, 83, 1732], [0.7126096487045288, 204, 5060], [0.7122559547424316, 78, 914], [0.7121278047561646, 985, 5647], [0.7121056914329529, 88, 4269], [0.7120432257652283, 82, 76], [0.7119368314743042, 59, 1899], [0.7118992209434509, 187, 8194], [0.7117571234703064, 49, 1543], [0.7113751173019409, 4, 3333], [0.7113751173019409, 4, 7327], [0.7112879157066345, 123, 9697], [0.7108444571495056, 235, 2813], [0.7103536128997803, 123, 8257], [0.7101397514343262, 119, 4788], [0.7097060084342957, 55, 2560], [0.7092300057411194, 822, 1608], [0.7091938257217407, 65, 7840], [0.7090207934379578, 27, 5755], [0.7085654139518738, 552, 594], [0.7078495025634766, 106, 7874], [0.7075720429420471, 134, 5631], [0.7074275016784668, 995, 1070], [0.7073448896408081, 230, 5561], [0.7069316506385803, 48, 281], [0.7067278027534485, 61, 9776], [0.7065412998199463, 440, 7093], [0.7053472995758057, 317, 3064], [0.7053328156471252, 172, 5941], [0.7052420973777771, 65, 4886], [0.705069363117218, 327, 1978], [0.7043645977973938, 773, 872], [0.704302966594696, 438, 3732], [0.7030059695243835, 19, 4114], [0.7028301358222961, 465, 1211], [0.7028092741966248, 20, 542], [0.7027912735939026, 6, 6346], [0.7018678784370422, 182, 7439], [0.7014005184173584, 66, 1451], [0.7010051608085632, 32, 1759], [0.70071941614151, 376, 1245], [0.7007103562355042, 66, 698], [0.700465738773346, 71, 2020], [0.7003754377365112, 102, 5483], [0.6997786164283752, 84, 1187], [0.6996518969535828, 58, 4477], [0.6996453404426575, 980, 7525], [0.6987670660018921, 31, 8938], [0.698063313961029, 312, 4896], [0.697939932346344, 5, 14], [0.697763979434967, 4, 7548], [0.6976557374000549, 82, 9149], [0.6975991129875183, 149, 9208], [0.6974995732307434, 24, 4002], [0.696755051612854, 781, 4950], [0.6967024803161621, 1010, 167], [0.6962507367134094, 231, 1840], [0.6960047483444214, 244, 4983], [0.6958428621292114, 84, 4678], [0.6951487064361572, 333, 1093], [0.6949349641799927, 184, 1016], [0.6949219107627869, 52, 7635], [0.6946512460708618, 96, 4465], [0.6942687630653381, 20, 5038], [0.693922758102417, 33, 8448], [0.6931203603744507, 58, 6820], [0.692999541759491, 135, 3203], [0.6928046941757202, 389, 4946], [0.692797064781189, 124, 8173], [0.6927731037139893, 702, 3683], [0.6927480697631836, 35, 8465], [0.6922353506088257, 39, 4434], [0.6920900940895081, 144, 9460], [0.6920662522315979, 130, 7843], [0.6919572353363037, 82, 1534], [0.691400408744812, 101, 4255], [0.6911782026290894, 573, 4867], [0.6908606290817261, 54, 8131], [0.6906495690345764, 105, 4614], [0.6896862983703613, 358, 8637], [0.6894676089286804, 44, 4398], [0.6892280578613281, 196, 265], [0.6891328692436218, 521, 1503], [0.6883132457733154, 489, 4913], [0.6882452368736267, 126, 6188], [0.6881940364837646, 11, 6869], [0.6878238320350647, 232, 6802], [0.687693178653717, 61, 8749], [0.6869375705718994, 186, 3380], [0.6869085431098938, 16, 8258], [0.6863321661949158, 331, 5800], [0.6858718991279602, 570, 5149], [0.6851732730865479, 82, 1949], [0.6850722432136536, 207, 9327], [0.6849477887153625, 194, 6217], [0.6847027540206909, 174, 8961], [0.6846835017204285, 95, 7999], [0.6844950914382935, 119, 8082], [0.6838196516036987, 278, 952], [0.6837538480758667, 7, 8017], [0.6837103366851807, 199, 2997], [0.6833466291427612, 575, 7614], [0.6833208203315735, 45, 5713], [0.6832020282745361, 89, 9844], [0.6828373074531555, 238, 7531], [0.6816024780273438, 281, 3179], [0.6815243363380432, 102, 8757], [0.6807668209075928, 37, 1368], [0.6806182861328125, 613, 4077], [0.6803894639015198, 235, 1019], [0.6802645921707153, 727, 5279], [0.679955244064331, 236, 9669], [0.6794877648353577, 483, 1984], [0.6792421340942383, 157, 474], [0.679109513759613, 765, 2696], [0.6788646578788757, 63, 5267], [0.6785818934440613, 839, 8953], [0.6781084537506104, 111, 8028], [0.6779521703720093, 37, 2878], [0.6777179837226868, 368, 9538], [0.6776262521743774, 23, 1416], [0.6776112914085388, 72, 7479], [0.6773462295532227, 2, 9509], [0.6768403053283691, 15, 3542], [0.6765350103378296, 480, 7866], [0.6759591102600098, 2, 353], [0.6759591102600098, 2, 643], [0.6759591102600098, 2, 918], [0.6759591102600098, 2, 1160], [0.6759591102600098, 2, 1848], [0.6759591102600098, 2, 1885], [0.6759591102600098, 2, 3632], [0.6759591102600098, 2, 3959], [0.6759591102600098, 2, 5022], [0.6759591102600098, 2, 5301], [0.6759591102600098, 2, 5816], [0.6759591102600098, 2, 6267], [0.6759591102600098, 2, 6573], [0.6759591102600098, 2, 6958], [0.6759591102600098, 2, 6988], [0.6759591102600098, 2, 7024], [0.6759591102600098, 2, 7642], [0.6759591102600098, 2, 7965], [0.6759591102600098, 2, 8627], [0.6759591102600098, 2, 9222], [0.6759591102600098, 2, 9227], [0.6759591102600098, 2, 9687], [0.6759591102600098, 2, 9831], [0.6759591102600098, 2, 9923], [0.6759591102600098, 2, 9958], [0.6759036183357239, 296, 3759], [0.6757552623748779, 328, 1308], [0.6754533052444458, 73, 18], [0.6753002405166626, 127, 9475], [0.6752289533615112, 222, 2255], [0.6752195954322815, 208, 7748], [0.6741077899932861, 347, 9995], [0.6739799380302429, 82, 6206], [0.6739369034767151, 120, 2930], [0.6738743185997009, 157, 2892], [0.673366129398346, 136, 230], [0.6732522249221802, 374, 1719], [0.6726661920547485, 52, 812], [0.6725237965583801, 845, 5380], [0.6717027425765991, 192, 3020], [0.6710608601570129, 361, 3288], [0.6710072159767151, 128, 6963], [0.6702467203140259, 30, 8658], [0.6695562601089478, 64, 2268], [0.6692690253257751, 217, 9099], [0.668602466583252, 610, 4489], [0.6683480143547058, 88, 1758], [0.6680260300636292, 380, 3651], [0.6679633855819702, 7, 5311], [0.6676299571990967, 25, 149], [0.667345404624939, 62, 4155], [0.6673262119293213, 201, 8692], [0.6667611002922058, 432, 2400], [0.6662785410881042, 15, 9087], [0.6660548448562622, 260, 2018], [0.6659536361694336, 125, 6003], [0.6653837561607361, 146, 7484], [0.6653584837913513, 74, 7156], [0.6653411984443665, 111, 5165], [0.6645965576171875, 131, 8199], [0.6644079685211182, 39, 3072], [0.6642082929611206, 483, 4239], [0.6641474962234497, 117, 7956], [0.6637864708900452, 461, 6271], [0.6637082099914551, 80, 1937], [0.6634505391120911, 61, 707], [0.6634472608566284, 93, 3948], [0.6630843281745911, 884, 2693], [0.6630710959434509, 143, 9500], [0.6626781821250916, 30, 2652], [0.6624622941017151, 54, 3745], [0.6621857285499573, 56, 8769], [0.6615703701972961, 240, 736], [0.6613897085189819, 80, 2481], [0.6613019108772278, 29, 9326], [0.661116361618042, 178, 4314], [0.6608990430831909, 69, 1871], [0.6607003211975098, 4, 784], [0.6604400873184204, 137, 3098], [0.6602391004562378, 18, 6132], [0.6599020957946777, 999, 976], [0.6597044467926025, 139, 4769], [0.6592836380004883, 143, 2811], [0.658534586429596, 362, 4414], [0.6578265428543091, 38, 9942], [0.6577553153038025, 411, 2938], [0.6567431688308716, 322, 2979], [0.6564527750015259, 123, 4088], [0.6564284563064575, 204, 7664], [0.6562469601631165, 752, 4567], [0.6558741927146912, 81, 3265], [0.6557672023773193, 18, 1260], [0.6550668478012085, 283, 7703], [0.6542891263961792, 59, 6821], [0.6540037393569946, 171, 2513], [0.6538068652153015, 117, 7278], [0.6535914540290833, 101, 9683], [0.6532003879547119, 658, 6775], [0.6529414057731628, 43, 3550], [0.6529344320297241, 88, 6923], [0.6528449058532715, 512, 8340], [0.6527144312858582, 132, 5805], [0.6523696780204773, 884, 4133], [0.6522595286369324, 18, 4780], [0.6519564986228943, 281, 7476], [0.6516780257225037, 105, 5013], [0.6515517830848694, 55, 2323], [0.651494562625885, 583, 7481], [0.6512845754623413, 222, 4031], [0.6509633660316467, 159, 2876], [0.6506605744361877, 21, 5614], [0.6501032710075378, 47, 8415], [0.650016188621521, 56, 1330], [0.649951159954071, 138, 380], [0.6485489010810852, 160, 510], [0.6485360860824585, 272, 9], [0.6485132575035095, 184, 8771], [0.6484788656234741, 55, 2474], [0.6482642292976379, 19, 4750], [0.6479530334472656, 5, 6166], [0.6472734808921814, 100, 8960], [0.6463230848312378, 44, 8955], [0.6463220715522766, 118, 1835], [0.6462728381156921, 208, 9763], [0.6459807753562927, 549, 8621], [0.6458984017372131, 29, 3504], [0.6458019018173218, 55, 2348], [0.6455695629119873, 674, 6879], [0.6454702615737915, 237, 884], [0.6452208161354065, 91, 5336], [0.6449974775314331, 173, 3116], [0.6447161436080933, 59, 4312], [0.6444702744483948, 204, 511], [0.6443778872489929, 37, 1291], [0.6443649530410767, 655, 1212], [0.6437926888465881, 8, 116], [0.6434110999107361, 132, 7714], [0.643386721611023, 498, 629], [0.6431705951690674, 54, 6085], [0.6431588530540466, 160, 1940], [0.6429592370986938, 109, 6213], [0.6418405771255493, 246, 1059], [0.6418336033821106, 281, 438], [0.6417296528816223, 43, 9760], [0.6416196227073669, 911, 6114], [0.6415576934814453, 27, 5327], [0.6415389180183411, 52, 6934], [0.6405090689659119, 75, 3178], [0.6400242447853088, 57, 7812], [0.6396921277046204, 111, 4346], [0.6396356821060181, 5, 2827], [0.6388548016548157, 282, 8995], [0.6388384699821472, 34, 9741], [0.6386997699737549, 4, 7804], [0.6385102868080139, 196, 7718], [0.6376447677612305, 134, 4221], [0.6372746229171753, 10, 196], [0.6370959877967834, 49, 6654], [0.6370770335197449, 237, 8523], [0.6369564533233643, 227, 644], [0.6368739008903503, 136, 1870], [0.6362707614898682, 158, 4462], [0.6360683441162109, 46, 5603], [0.6356765627861023, 26, 4795], [0.6351854205131531, 221, 6732], [0.6350796222686768, 33, 7749], [0.6350221037864685, 24, 4973], [0.634765625, 226, 6984], [0.6344315409660339, 38, 2457], [0.6344298124313354, 505, 8401], [0.6339244842529297, 27, 9203], [0.6338108777999878, 221, 5932], [0.6334273219108582, 197, 5952], [0.6333286166191101, 239, 1371], [0.6332001090049744, 196, 6795], [0.6330113410949707, 40, 4643], [0.6322458386421204, 9, 7261], [0.6318002939224243, 16, 8559], [0.6313325762748718, 99, 4899], [0.6310240626335144, 253, 6745], [0.6308492422103882, 162, 8012], [0.6306692361831665, 112, 9494], [0.6306338906288147, 15, 5751], [0.6302289962768555, 128, 2702], [0.6299020051956177, 178, 2435], [0.6298560500144958, 214, 7457], [0.6298235654830933, 58, 7555], [0.6295972466468811, 693, 2284], [0.6290956735610962, 31, 8052], [0.629047155380249, 45, 3192], [0.6285781860351562, 105, 5280], [0.6284160017967224, 247, 6547], [0.6283965706825256, 270, 3242], [0.6281656622886658, 554, 4658], [0.6280982494354248, 123, 6375], [0.6275216341018677, 46, 9954], [0.6275004148483276, 83, 7276], [0.6271698474884033, 152, 9074], [0.6271643042564392, 47, 1314], [0.6269776821136475, 193, 4472], [0.6267380118370056, 294, 6625], [0.6266664266586304, 77, 8463], [0.6266450881958008, 275, 5797], [0.626325249671936, 219, 9964], [0.6258281469345093, 20, 48], [0.6257389187812805, 114, 9394], [0.6256615519523621, 12, 6024], [0.6255503296852112, 9, 2656], [0.6253038644790649, 58, 5356], [0.6248245239257812, 4, 2298], [0.624722957611084, 76, 4185], [0.6242854595184326, 48, 394], [0.6241049766540527, 663, 1360], [0.623904824256897, 83, 8302], [0.623418390750885, 21, 1784], [0.623408854007721, 32, 6278], [0.6231635808944702, 111, 1080], [0.6229966878890991, 137, 4972], [0.6227684617042542, 148, 6078], [0.6225543022155762, 134, 4715], [0.6224656105041504, 103, 8791], [0.6222518682479858, 66, 8339], [0.6220581531524658, 125, 8529], [0.6218070983886719, 221, 4180], [0.6217706203460693, 324, 9537], [0.6215843558311462, 45, 1845], [0.6210394501686096, 58, 6189], [0.6209138631820679, 35, 4941], [0.6198663711547852, 96, 7133], [0.619484007358551, 14, 4137], [0.6190776824951172, 782, 6361], [0.6188734173774719, 248, 26], [0.6184409856796265, 77, 3384], [0.6182474493980408, 15, 7872], [0.6181103587150574, 194, 9223], [0.6179885864257812, 162, 4001], [0.6177998781204224, 46, 7140], [0.6176922917366028, 97, 751], [0.6176624894142151, 78, 5790], [0.6170521378517151, 86, 4379], [0.6166828274726868, 40, 6275], [0.6164754629135132, 19, 4429], [0.6158637404441833, 107, 9721], [0.6157048344612122, 186, 7120], [0.6151635646820068, 16, 9722], [0.6146120429039001, 548, 5112], [0.6142574548721313, 543, 6260], [0.6140864491462708, 11, 3597], [0.6138892769813538, 36, 6716], [0.6136236786842346, 7, 6505], [0.6134257316589355, 112, 5507], [0.6132534742355347, 41, 7777], [0.6132503151893616, 921, 1], [0.6123180985450745, 69, 8481], [0.612289547920227, 31, 3668], [0.6122739911079407, 506, 628], [0.6119957566261292, 415, 9598], [0.6115584969520569, 139, 4237], [0.6112518906593323, 158, 6488], [0.6110358238220215, 115, 457], [0.6110244393348694, 216, 916], [0.6106185913085938, 4, 8263], [0.6101978421211243, 217, 7383], [0.6101533770561218, 323, 2115], [0.6098784804344177, 58, 3298], [0.6098375916481018, 625, 1120], [0.6097568273544312, 237, 454], [0.6096988320350647, 98, 3067], [0.6094813942909241, 51, 6366], [0.6093516945838928, 564, 6885], [0.6090399026870728, 208, 8450], [0.6077966094017029, 5, 9604], [0.6072582006454468, 95, 163], [0.6072180271148682, 769, 6743], [0.6068922877311707, 107, 5107], [0.606835126876831, 62, 1437], [0.6065872311592102, 60, 4199], [0.6062532067298889, 45, 1639], [0.6059698462486267, 355, 9225], [0.6057945489883423, 5, 740], [0.6057945489883423, 5, 1317], [0.6057945489883423, 5, 4028], [0.6057945489883423, 5, 9300], [0.6057887673377991, 49, 4344], [0.605575442314148, 99, 9999], [0.6048222184181213, 674, 7119], [0.6047430038452148, 236, 7464], [0.6047229170799255, 373, 1220], [0.6040565371513367, 263, 1654], [0.6038740277290344, 118, 429], [0.6037477254867554, 131, 9518], [0.6027058362960815, 255, 8939], [0.6026362180709839, 193, 237], [0.6023295521736145, 362, 8856], [0.602088212966919, 12, 2698], [0.6014919877052307, 262, 7710], [0.6005092263221741, 38, 2697], [0.6004664301872253, 446, 7037], [0.6003500819206238, 7, 5606], [0.6000317931175232, 50, 1574], [0.5998974442481995, 51, 2501], [0.5997210741043091, 138, 7180], [0.5996643304824829, 41, 2598], [0.5994225144386292, 12, 124], [0.5992125272750854, 642, 1754], [0.5989857912063599, 139, 5981], [0.598838210105896, 721, 924], [0.5987936854362488, 11, 6729], [0.5985205769538879, 94, 6783], [0.5982804894447327, 785, 4359], [0.5979995131492615, 31, 1746], [0.5975959897041321, 136, 3221], [0.5968682169914246, 37, 178], [0.5968586206436157, 38, 1771], [0.5961961150169373, 21, 9534], [0.5960726737976074, 52, 1686], [0.5958170294761658, 606, 9384], [0.5956290364265442, 42, 5517], [0.5955681204795837, 269, 8560], [0.5952938795089722, 95, 3877], [0.5947526097297668, 216, 9277], [0.5944007039070129, 242, 6932], [0.5943444967269897, 89, 7127], [0.5941421985626221, 3, 9199], [0.5939110517501831, 85, 1226], [0.5936636924743652, 72, 9845], [0.5935258269309998, 156, 5387], [0.5930870175361633, 197, 7514], [0.5930538773536682, 13, 1302], [0.5928257703781128, 120, 9819], [0.5915603637695312, 22, 2269], [0.5914549827575684, 202, 2648], [0.591349184513092, 903, 64], [0.591084897518158, 841, 1730], [0.5910520553588867, 53, 6970], [0.5908925533294678, 127, 3717], [0.5908716320991516, 91, 8750], [0.5900338292121887, 30, 7792], [0.5900160074234009, 11, 9091], [0.5897037386894226, 222, 4817], [0.5893740057945251, 159, 23], [0.588861346244812, 16, 4307], [0.5886200666427612, 9, 5337], [0.5881861448287964, 146, 7935], [0.5881059169769287, 79, 1297], [0.5879391431808472, 359, 715], [0.587403416633606, 706, 4263], [0.587369978427887, 18, 7387], [0.5872392654418945, 215, 5936], [0.5864442586898804, 137, 7473], [0.586406946182251, 82, 1933], [0.5859797596931458, 384, 7709], [0.585950493812561, 75, 9792], [0.5858369469642639, 217, 1540], [0.5847247242927551, 9, 9401], [0.5838747620582581, 191, 1824], [0.5837605595588684, 95, 2328], [0.5836756229400635, 293, 4991], [0.5836713910102844, 225, 6171], [0.5835515260696411, 31, 1325], [0.5828514099121094, 36, 5730], [0.5827692747116089, 209, 7081], [0.5826393365859985, 492, 1267], [0.5823039412498474, 39, 855], [0.581787645816803, 206, 4293], [0.5816816687583923, 524, 9317], [0.5814468860626221, 268, 7787], [0.581305742263794, 519, 2382], [0.5810667872428894, 80, 8970], [0.5803937315940857, 130, 2291], [0.5799669027328491, 59, 1319], [0.5799615979194641, 86, 4064], [0.5796154737472534, 25, 6362], [0.579529345035553, 43, 1347], [0.5794578194618225, 190, 632], [0.5793271064758301, 290, 489], [0.5792785882949829, 29, 3718], [0.5787200927734375, 322, 2928], [0.5786060094833374, 408, 8109], [0.5783538222312927, 59, 7155], [0.5779369473457336, 25, 9544], [0.5776634216308594, 43, 6228], [0.5772150158882141, 110, 8213], [0.5763460993766785, 72, 8097], [0.5755214095115662, 24, 6401], [0.5749491453170776, 19, 9917], [0.5748231410980225, 274, 6576], [0.5738229751586914, 77, 5070], [0.5737975239753723, 185, 2503], [0.573783278465271, 47, 8721], [0.5734006762504578, 46, 9017], [0.5729295015335083, 558, 1383], [0.5728613138198853, 14, 6464], [0.5727472901344299, 38, 6423], [0.5725579261779785, 38, 6142], [0.5720427632331848, 22, 9069], [0.5715636014938354, 125, 685], [0.5713406205177307, 376, 5332], [0.5713309049606323, 111, 3285], [0.571029007434845, 553, 4455], [0.5709603428840637, 5, 332], [0.5708703994750977, 4, 82], [0.5707867741584778, 9, 6252], [0.5702084302902222, 646, 1657], [0.5700737833976746, 79, 7128], [0.5696399807929993, 211, 2385], [0.5688719749450684, 51, 572], [0.5686033368110657, 286, 5192], [0.5681021809577942, 243, 8738], [0.5678432583808899, 332, 7736], [0.5674751400947571, 232, 6926], [0.5674092173576355, 69, 6589], [0.567003607749939, 227, 903], [0.5666341185569763, 571, 601], [0.5666087865829468, 287, 2214], [0.5665495991706848, 190, 5538], [0.566480815410614, 346, 2549], [0.566196084022522, 245, 3503], [0.565468430519104, 169, 1005], [0.565199613571167, 6, 6562], [0.5647066235542297, 92, 1619], [0.5646999478340149, 296, 8238], [0.5645670294761658, 323, 2857], [0.5639934539794922, 38, 8008], [0.5635358691215515, 8, 9788], [0.5633878707885742, 39, 599], [0.5633073449134827, 972, 571], [0.5629730820655823, 105, 8965], [0.5629086494445801, 103, 550], [0.5628598928451538, 554, 9974], [0.5624997615814209, 116, 1762], [0.5624024868011475, 80, 5019], [0.5622863173484802, 41, 3836], [0.5611761212348938, 23, 2798], [0.5611700415611267, 157, 273], [0.5608649849891663, 268, 8717], [0.5606316924095154, 30, 5269], [0.5606211423873901, 38, 2442], [0.5601071119308472, 13, 6699], [0.5599716901779175, 54, 3415], [0.5598080158233643, 479, 6434], [0.5596258640289307, 280, 591], [0.5590916872024536, 117, 1953], [0.5590831637382507, 995, 7926], [0.5589808821678162, 173, 3102], [0.5589727163314819, 112, 2940], [0.5588018298149109, 218, 8006], [0.5582932233810425, 182, 1637], [0.5582175254821777, 129, 6687], [0.5581932067871094, 23, 3077], [0.558143138885498, 63, 5802], [0.5579864978790283, 77, 9360], [0.5578861832618713, 37, 7566], [0.5573995113372803, 456, 8399], [0.5573920011520386, 11, 2530], [0.557319164276123, 429, 1818], [0.5573167204856873, 96, 2752], [0.5572667717933655, 153, 995], [0.5571445226669312, 459, 8162], [0.5571305155754089, 248, 9396], [0.5569282174110413, 662, 8654], [0.5566672086715698, 18, 6960], [0.5565977692604065, 6, 5133], [0.5565707683563232, 422, 5793], [0.5559377670288086, 77, 1831], [0.5558842420578003, 685, 2490], [0.5554406046867371, 132, 363], [0.5550952553749084, 48, 607], [0.5543729066848755, 59, 8108], [0.5539470911026001, 391, 1110], [0.5539128184318542, 11, 619], [0.5537348985671997, 89, 3663], [0.5534571409225464, 79, 852], [0.5533005595207214, 405, 4230], [0.553271472454071, 239, 912], [0.5529590249061584, 194, 908], [0.5519267320632935, 110, 8567], [0.5519170761108398, 186, 783], [0.5510064959526062, 573, 6033], [0.5508372187614441, 110, 1236], [0.5506960153579712, 8, 4498], [0.55050128698349, 105, 9771], [0.5504441857337952, 5, 8102], [0.5499138832092285, 21, 9023], [0.5497862696647644, 1005, 6961], [0.5496910214424133, 59, 1166], [0.5486189723014832, 224, 3117], [0.548308253288269, 42, 5158], [0.5482246279716492, 14, 2191], [0.5480000972747803, 47, 2446], [0.5479373335838318, 125, 890], [0.5476492047309875, 261, 8948], [0.5473573207855225, 373, 4510], [0.547347903251648, 375, 7270], [0.5471300482749939, 45, 4317], [0.5468085408210754, 8, 8702], [0.5465432405471802, 743, 8266], [0.5462945699691772, 134, 3547], [0.5462180376052856, 415, 4017], [0.5461208820343018, 5, 1846], [0.5457737445831299, 8, 5927], [0.5454702377319336, 127, 2622], [0.5451797246932983, 94, 5251], [0.5449133515357971, 444, 6676], [0.5437268614768982, 54, 881], [0.5436980724334717, 361, 6616], [0.542402446269989, 181, 2623], [0.5412796139717102, 754, 4689], [0.541172206401825, 179, 1617], [0.5411430597305298, 393, 4459], [0.5410516262054443, 337, 1891], [0.5407600998878479, 24, 3781], [0.5400024056434631, 257, 3399], [0.5399644374847412, 330, 4684], [0.5395550727844238, 180, 8215], [0.5393266081809998, 350, 5535], [0.5391878485679626, 104, 8979], [0.5391327142715454, 8, 7994], [0.5389559864997864, 93, 759], [0.5387968420982361, 51, 4318], [0.538669228553772, 492, 6556], [0.5386685132980347, 192, 1176], [0.5385046005249023, 32, 7728], [0.5380549430847168, 105, 2555], [0.5378196239471436, 20, 3038], [0.537726879119873, 22, 6475], [0.5375692844390869, 62, 1854], [0.5371846556663513, 9, 9932], [0.5371108651161194, 117, 4306], [0.5362910032272339, 93, 1311], [0.5362122654914856, 621, 9607], [0.5359464287757874, 88, 6508], [0.535555362701416, 917, 3794], [0.5354207158088684, 4, 7144], [0.5351788401603699, 39, 616], [0.5350326299667358, 3, 651], [0.5348467230796814, 27, 3555], [0.5345588326454163, 100, 579], [0.5344654321670532, 1018, 9881], [0.533817708492279, 192, 9662], [0.5335929989814758, 245, 1426], [0.5333776473999023, 34, 4011], [0.5333704948425293, 245, 6157], [0.5328479409217834, 526, 8042], [0.5328475832939148, 841, 8920], [0.5328454375267029, 313, 2750], [0.532804012298584, 183, 225], [0.5327146053314209, 45, 4195], [0.5325095057487488, 152, 483], [0.5322072505950928, 367, 8292], [0.5321366190910339, 51, 7808], [0.5319303274154663, 32, 4737], [0.5317273736000061, 407, 3743], [0.5312458872795105, 203, 3572], [0.5303767323493958, 14, 5213], [0.5303767323493958, 14, 6529], [0.5303380489349365, 146, 1144], [0.5302724838256836, 16, 4857], [0.5297983288764954, 536, 7031], [0.5296570658683777, 35, 2788], [0.5296247601509094, 163, 3244], [0.5292763113975525, 751, 4159], [0.5286973118782043, 39, 2574], [0.5285212397575378, 32, 9727], [0.5284029841423035, 8, 5768], [0.5282009243965149, 260, 3779], [0.5280591249465942, 278, 735], [0.5279404520988464, 210, 4513], [0.5273020267486572, 69, 4385], [0.5272229909896851, 88, 509], [0.5272204279899597, 66, 7389], [0.5267081260681152, 228, 1307], [0.5267024040222168, 108, 2321], [0.5264096260070801, 268, 299], [0.5262296795845032, 116, 4054], [0.5257660746574402, 45, 8984], [0.5256475806236267, 36, 6546], [0.5255227088928223, 186, 1455], [0.525089681148529, 4, 349], [0.525030791759491, 321, 5904], [0.5248701572418213, 93, 6660], [0.5248571634292603, 19, 7586], [0.5247279405593872, 462, 5159], [0.5245394706726074, 469, 3927], [0.5243606567382812, 30, 2312], [0.5238586664199829, 29, 528], [0.5237485766410828, 6, 516], [0.5237485766410828, 6, 7587], [0.5236980319023132, 130, 8106], [0.5236930847167969, 52, 7832], [0.5230122804641724, 934, 6380], [0.52293860912323, 31, 1526], [0.5222331881523132, 42, 1122], [0.5220429301261902, 36, 9657], [0.5210654735565186, 418, 2681], [0.5209928750991821, 339, 3042], [0.5192327499389648, 5, 2672], [0.5189129114151001, 9, 2395], [0.5189129114151001, 9, 6034], [0.518504798412323, 12, 6268], [0.5181349515914917, 237, 1204], [0.5177792906761169, 137, 9790], [0.5173050761222839, 160, 6584], [0.5172009468078613, 76, 5534], [0.516762375831604, 22, 5207], [0.5166231989860535, 31, 8780], [0.5164059400558472, 14, 9681], [0.5161336660385132, 223, 5707], [0.5159644484519958, 47, 6453], [0.5158367156982422, 8, 1674], [0.5155672430992126, 92, 2101], [0.5152511596679688, 61, 5630], [0.5149251818656921, 198, 4734], [0.5149184465408325, 3, 4094], [0.5149149298667908, 94, 4279], [0.5148804187774658, 119, 3966], [0.5147141814231873, 195, 8942], [0.514549195766449, 28, 7995], [0.5144389271736145, 66, 4920], [0.5143790245056152, 213, 4848], [0.5143099427223206, 56, 4969], [0.5138981938362122, 39, 3283], [0.513771116733551, 115, 3942], [0.5135541558265686, 189, 3204], [0.5133618116378784, 245, 112], [0.5127888321876526, 3, 2617], [0.5127582550048828, 6, 556], [0.5126934051513672, 142, 1114], [0.5117589831352234, 18, 7098], [0.5117571353912354, 283, 7393], [0.5116984248161316, 204, 915], [0.5115975141525269, 966, 2436], [0.5113558173179626, 68, 8746], [0.5107021331787109, 65, 3893], [0.5104974508285522, 115, 5839], [0.5103964805603027, 36, 8249], [0.5099747776985168, 33, 1858], [0.5096647143363953, 733, 1977], [0.5094967484474182, 23, 3631], [0.5092743635177612, 32, 9859], [0.509109616279602, 213, 6329], [0.509015679359436, 5, 2880], [0.5089772343635559, 170, 2062], [0.5087845921516418, 30, 757], [0.5087583065032959, 251, 9292], [0.5087464451789856, 77, 7890], [0.5087075233459473, 54, 9476], [0.5086379051208496, 312, 6548], [0.5085324048995972, 30, 608], [0.5084637403488159, 3, 2999], [0.508297324180603, 514, 6750], [0.508172333240509, 176, 8556], [0.5081435441970825, 490, 5097], [0.5079662799835205, 27, 6411], [0.507514476776123, 36, 7582], [0.5068209767341614, 55, 5469], [0.5067954659461975, 621, 6517], [0.5067328214645386, 301, 2737], [0.5066444277763367, 207, 245], [0.5065697431564331, 337, 1699], [0.5061390995979309, 100, 5163], [0.5058631300926208, 928, 3863], [0.5055301189422607, 157, 1751], [0.5051734447479248, 264, 7720], [0.5050485730171204, 187, 7823], [0.5048232674598694, 156, 5487], [0.5044925808906555, 71, 3546], [0.5044316649436951, 5, 5855], [0.5040208697319031, 78, 6454], [0.5039911270141602, 31, 3202], [0.503624439239502, 686, 4179], [0.5031878352165222, 200, 5541], [0.5027738213539124, 33, 5256], [0.5026847124099731, 56, 2132], [0.5025002956390381, 90, 207], [0.5022458434104919, 843, 1377], [0.5016811490058899, 66, 6461], [0.5016114115715027, 17, 5861], [0.5012680888175964, 77, 87], [0.5003513693809509, 33, 501], [0.5001232028007507, 6, 310], [0.4997459948062897, 47, 9032], [0.4996883273124695, 178, 347], [0.49958541989326477, 4, 6428], [0.49920541048049927, 178, 7256], [0.49915507435798645, 132, 926], [0.4990907907485962, 893, 5601], [0.49881213903427124, 588, 654], [0.4986964762210846, 160, 9344], [0.4984954595565796, 57, 3124], [0.49830377101898193, 2, 5609], [0.49819761514663696, 339, 2471], [0.4980967938899994, 60, 6087], [0.49744755029678345, 200, 647], [0.4969121515750885, 13, 8367], [0.4966970384120941, 677, 5920], [0.49658164381980896, 355, 4408], [0.4963327646255493, 127, 1393], [0.496064692735672, 64, 5320], [0.4959776699542999, 768, 8069], [0.4955448806285858, 42, 9558], [0.49552929401397705, 290, 1709], [0.49511009454727173, 382, 6666], [0.49487563967704773, 124, 3897], [0.49465975165367126, 682, 8225], [0.4945945739746094, 497, 6890], [0.494555801153183, 251, 378], [0.4944508373737335, 140, 5484], [0.493979275226593, 182, 1115], [0.493392676115036, 130, 8434], [0.4928855299949646, 45, 8876], [0.49273499846458435, 394, 1733], [0.4927283227443695, 140, 7966], [0.4924856424331665, 149, 7744], [0.4923003017902374, 27, 465], [0.4919848144054413, 10, 9905], [0.4918178915977478, 695, 6059], [0.4916467070579529, 48, 8157], [0.4911418855190277, 189, 3281], [0.49099200963974, 52, 4328], [0.49023187160491943, 51, 9028], [0.4902281165122986, 45, 3844], [0.48976242542266846, 324, 7349], [0.4896821081638336, 33, 5827], [0.4896197021007538, 190, 8886], [0.4895293414592743, 13, 4424], [0.48882684111595154, 35, 7209], [0.488674521446228, 2, 2439], [0.488674521446228, 2, 2868], [0.488674521446228, 2, 4507], [0.488674521446228, 2, 4756], [0.488674521446228, 2, 5206], [0.488674521446228, 2, 6086], [0.4883902072906494, 124, 7870], [0.48818567395210266, 260, 800], [0.48795533180236816, 238, 9213], [0.4876502454280853, 120, 5633], [0.4874134957790375, 376, 6441], [0.48740628361701965, 21, 4072], [0.48721981048583984, 35, 4158], [0.48701390624046326, 31, 932], [0.48690006136894226, 191, 7869], [0.4866791069507599, 25, 7933], [0.48615095019340515, 48, 1149], [0.4857993423938751, 371, 9984], [0.48566848039627075, 298, 3776], [0.4856089949607849, 416, 680], [0.48526281118392944, 74, 2100], [0.4851175844669342, 450, 9040], [0.4850822687149048, 123, 7925], [0.48503223061561584, 438, 4069], [0.48461517691612244, 860, 5864], [0.48431840538978577, 28, 20], [0.4841682016849518, 289, 942], [0.48380640149116516, 2, 7242], [0.48353874683380127, 65, 3777], [0.4835066795349121, 31, 4681], [0.4833736717700958, 40, 7767], [0.4833214282989502, 32, 3348], [0.4832649528980255, 65, 9329], [0.48276838660240173, 2, 498], [0.4824839234352112, 16, 8268], [0.4823349118232727, 623, 3227], [0.4821828007698059, 286, 2186], [0.48163679242134094, 404, 8568], [0.48163434863090515, 188, 5762], [0.48096463084220886, 119, 1622], [0.4806865155696869, 149, 4818], [0.48052501678466797, 599, 8661], [0.4803597331047058, 10, 937], [0.4800105690956116, 55, 3501], [0.47985541820526123, 17, 9961], [0.4796166718006134, 105, 5324], [0.47878298163414, 305, 9541], [0.4780138432979584, 10, 8471], [0.47795170545578003, 31, 4873], [0.47777503728866577, 72, 5640], [0.4775347411632538, 542, 1419], [0.4774765968322754, 11, 1152], [0.47740089893341064, 34, 4329], [0.4772965908050537, 71, 8794], [0.47679847478866577, 56, 160], [0.4763939082622528, 139, 8753], [0.476190984249115, 875, 6118], [0.47596460580825806, 144, 6044], [0.47594472765922546, 10, 9851], [0.4755324125289917, 280, 8737], [0.4754290282726288, 105, 208], [0.4754122793674469, 595, 3507], [0.47526365518569946, 13, 874], [0.47512003779411316, 16, 4572], [0.47503402829170227, 70, 352], [0.47462478280067444, 119, 4211], [0.47374942898750305, 147, 5549], [0.4734496474266052, 197, 7288], [0.4731349050998688, 21, 4568], [0.4730766713619232, 70, 3423], [0.4729713499546051, 417, 4304], [0.47234514355659485, 546, 1638], [0.4721228778362274, 146, 2196], [0.4721120297908783, 47, 958], [0.4711996912956238, 60, 6263], [0.4703633785247803, 433, 6606], [0.4702107012271881, 146, 6789], [0.4700803756713867, 58, 9948], [0.46967601776123047, 15, 8303], [0.4692728817462921, 803, 2620], [0.4692663550376892, 34, 6898], [0.4686906039714813, 21, 7020], [0.4682445228099823, 76, 5344], [0.46756741404533386, 19, 3452], [0.4674696922302246, 47, 3598], [0.46701669692993164, 534, 3126], [0.4665747880935669, 78, 7183], [0.46650296449661255, 42, 9973], [0.4664263427257538, 74, 3967], [0.46634167432785034, 212, 911], [0.4661499857902527, 948, 1480], [0.4658035933971405, 15, 7228], [0.4657743275165558, 40, 4383], [0.46574661135673523, 49, 9886], [0.4655807912349701, 23, 521], [0.4651557505130768, 225, 7275], [0.46505147218704224, 393, 3878], [0.46503907442092896, 411, 3198], [0.4650021195411682, 510, 1807], [0.46487411856651306, 60, 3277], [0.4648554027080536, 129, 8140], [0.4646548926830292, 550, 9077], [0.4645077586174011, 59, 7849], [0.4641990661621094, 210, 7328], [0.46401259303092957, 38, 2767], [0.463790625333786, 319, 1294], [0.4631493389606476, 32, 6062], [0.4631155729293823, 126, 9254], [0.46286341547966003, 204, 625], [0.46230438351631165, 33, 3330], [0.4622318744659424, 247, 9822], [0.46212753653526306, 697, 566], [0.4620570242404938, 39, 3036], [0.4618498682975769, 73, 4799], [0.461364209651947, 679, 2311], [0.46125611662864685, 111, 4287], [0.461145281791687, 34, 2674], [0.4611195921897888, 1014, 6032], [0.46110454201698303, 12, 9876], [0.46106117963790894, 11, 700], [0.46087539196014404, 183, 6429], [0.46071332693099976, 80, 6510], [0.4605647623538971, 21, 3447], [0.4604698121547699, 112, 3999], [0.4600880742073059, 287, 2325], [0.4599705636501312, 483, 9746], [0.45987266302108765, 252, 7080], [0.4598415791988373, 105, 3155], [0.4584045708179474, 87, 792], [0.4576379954814911, 408, 5290], [0.45743539929389954, 3, 7294], [0.4574274718761444, 221, 9355], [0.4569440186023712, 45, 9363], [0.45682474970817566, 309, 7591], [0.4563104510307312, 207, 6956], [0.45574668049812317, 144, 49], [0.4550158977508545, 74, 6878], [0.4547874629497528, 112, 4164], [0.45473432540893555, 13, 7489], [0.4546768069267273, 82, 3052], [0.45467621088027954, 618, 6728], [0.45461538434028625, 220, 8716], [0.45430827140808105, 43, 7413], [0.4542129337787628, 794, 8014], [0.4540669918060303, 54, 2266], [0.453042209148407, 126, 5166], [0.4527989625930786, 14, 401], [0.4527049958705902, 47, 6533], [0.45208415389060974, 63, 3428], [0.4519187808036804, 246, 5715], [0.45187848806381226, 54, 8195], [0.4518219232559204, 94, 8781], [0.45172828435897827, 155, 9888], [0.4515610933303833, 283, 3296], [0.4513499140739441, 51, 6770], [0.45125868916511536, 155, 4542], [0.45094117522239685, 339, 4581], [0.4507465660572052, 68, 5239], [0.4504522681236267, 10, 1882], [0.4504522681236267, 10, 5881], [0.4504522681236267, 10, 7723], [0.4504522681236267, 10, 9496], [0.4504522681236267, 10, 9636], [0.45014557242393494, 25, 2111], [0.44984161853790283, 222, 9800], [0.44930481910705566, 562, 6168], [0.449188232421875, 29, 1442], [0.4491005837917328, 25, 602], [0.4487566649913788, 978, 2462], [0.44832637906074524, 2, 5678], [0.44821488857269287, 12, 6603], [0.4481333792209625, 463, 5679], [0.44809892773628235, 114, 2543], [0.44788920879364014, 295, 8322], [0.44778043031692505, 53, 8099], [0.4477420747280121, 177, 1515], [0.4473540782928467, 50, 3046], [0.44714388251304626, 43, 1177], [0.44710102677345276, 15, 811], [0.44689881801605225, 14, 9325], [0.4465423822402954, 442, 3977], [0.44618159532546997, 88, 720], [0.44616633653640747, 412, 4836], [0.4457888901233673, 49, 3466], [0.44560664892196655, 258, 3162], [0.44540876150131226, 69, 195], [0.4451286792755127, 21, 7797], [0.4449958801269531, 32, 7437], [0.4448848366737366, 38, 699], [0.444856196641922, 22, 69], [0.4447658956050873, 110, 4888], [0.44441479444503784, 399, 7788], [0.44418302178382874, 126, 6027], [0.44351881742477417, 87, 9873], [0.4435059130191803, 84, 3161], [0.44345855712890625, 11, 694], [0.4431486427783966, 7, 2310], [0.443086177110672, 181, 1613], [0.44260621070861816, 770, 9076], [0.4425661265850067, 51, 6766], [0.4425415098667145, 20, 8115], [0.4421374201774597, 85, 9972], [0.4420885741710663, 7, 4249], [0.4418821632862091, 19, 977], [0.4416063129901886, 28, 2670], [0.4415692985057831, 477, 2461], [0.4415355920791626, 73, 2032], [0.44114959239959717, 118, 2211], [0.44078493118286133, 62, 7708], [0.4406980574131012, 252, 9869], [0.44065016508102417, 58, 1471], [0.44044628739356995, 5, 83], [0.44044628739356995, 5, 300], [0.44044628739356995, 5, 316], [0.44044628739356995, 5, 366], [0.44044628739356995, 5, 448], [0.44044628739356995, 5, 475], [0.44044628739356995, 5, 590], [0.44044628739356995, 5, 617], [0.44044628739356995, 5, 620], [0.44044628739356995, 5, 666], [0.44044628739356995, 5, 778], [0.44044628739356995, 5, 824], [0.44044628739356995, 5, 1004], [0.44044628739356995, 5, 1035], [0.44044628739356995, 5, 1082], [0.44044628739356995, 5, 1131], [0.44044628739356995, 5, 1301], [0.44044628739356995, 5, 1439], [0.44044628739356995, 5, 1555], [0.44044628739356995, 5, 1563], [0.44044628739356995, 5, 1579], [0.44044628739356995, 5, 1604], [0.44044628739356995, 5, 1628], [0.44044628739356995, 5, 1938], [0.44044628739356995, 5, 2011], [0.44044628739356995, 5, 2074], [0.44044628739356995, 5, 2167], [0.44044628739356995, 5, 2189], [0.44044628739356995, 5, 2250], [0.44044628739356995, 5, 2392], [0.44044628739356995, 5, 2437], [0.44044628739356995, 5, 2470], [0.44044628739356995, 5, 2633], [0.44044628739356995, 5, 3091], [0.44044628739356995, 5, 3137], [0.44044628739356995, 5, 3193], [0.44044628739356995, 5, 3619], [0.44044628739356995, 5, 3820], [0.44044628739356995, 5, 3894], [0.44044628739356995, 5, 4051], [0.44044628739356995, 5, 4138], [0.44044628739356995, 5, 4140], [0.44044628739356995, 5, 4235], [0.44044628739356995, 5, 4253], [0.44044628739356995, 5, 4325], [0.44044628739356995, 5, 5099], [0.44044628739356995, 5, 5178], [0.44044628739356995, 5, 5298], [0.44044628739356995, 5, 5331], [0.44044628739356995, 5, 5345], [0.44044628739356995, 5, 5434], [0.44044628739356995, 5, 5696], [0.44044628739356995, 5, 5719], [0.44044628739356995, 5, 5943], [0.44044628739356995, 5, 5985], [0.44044628739356995, 5, 6130], [0.44044628739356995, 5, 6147], [0.44044628739356995, 5, 6204], [0.44044628739356995, 5, 6241], [0.44044628739356995, 5, 6369], [0.44044628739356995, 5, 6553], [0.44044628739356995, 5, 6882], [0.44044628739356995, 5, 6933], [0.44044628739356995, 5, 7078], [0.44044628739356995, 5, 7152], [0.44044628739356995, 5, 7163], [0.44044628739356995, 5, 7595], [0.44044628739356995, 5, 7633], [0.44044628739356995, 5, 7809], [0.44044628739356995, 5, 7881], [0.44044628739356995, 5, 7889], [0.44044628739356995, 5, 8092], [0.44044628739356995, 5, 8191], [0.44044628739356995, 5, 8219], [0.44044628739356995, 5, 8352], [0.44044628739356995, 5, 8379], [0.44044628739356995, 5, 8484], [0.44044628739356995, 5, 8631], [0.44044628739356995, 5, 9152], [0.44044628739356995, 5, 9230], [0.44044628739356995, 5, 9382], [0.44044628739356995, 5, 9406], [0.44044628739356995, 5, 9418], [0.44044628739356995, 5, 9508], [0.44044628739356995, 5, 9514], [0.44044628739356995, 5, 9779], [0.4401575028896332, 2, 1641], [0.4390963912010193, 115, 301], [0.4390218257904053, 150, 9949], [0.4388886094093323, 482, 6113], [0.43871188163757324, 27, 9701], [0.4387003779411316, 31, 1427], [0.43852734565734863, 237, 6612], [0.43852102756500244, 649, 2836], [0.4382258951663971, 31, 7321], [0.4380596876144409, 16, 8645], [0.43782633543014526, 41, 5702], [0.43710747361183167, 10, 6583], [0.436346173286438, 71, 1647], [0.43611326813697815, 93, 5675], [0.4360891282558441, 48, 3689], [0.4358881711959839, 42, 7313], [0.43561410903930664, 45, 3416], [0.4350524842739105, 165, 392], [0.4349942207336426, 499, 7805], [0.43482720851898193, 192, 3589], [0.434213787317276, 580, 8610], [0.43396493792533875, 43, 858], [0.4331437945365906, 105, 3309], [0.4331396222114563, 165, 2473], [0.43288400769233704, 43, 2448], [0.43239104747772217, 46, 4466], [0.4321500360965729, 40, 5589], [0.4321500062942505, 884, 3581], [0.4321388602256775, 10, 9380], [0.43191075325012207, 95, 7134], [0.43162599205970764, 91, 2855], [0.4312543272972107, 62, 9584], [0.43122097849845886, 90, 4204], [0.4311647415161133, 43, 2128], [0.43057897686958313, 228, 8467], [0.4304219186306, 92, 4006], [0.43040257692337036, 311, 6954], [0.4303343892097473, 3, 4286], [0.42989376187324524, 79, 8974], [0.42923131585121155, 77, 7990], [0.4291069209575653, 470, 6528], [0.4285527169704437, 97, 5697], [0.42811983823776245, 286, 6281], [0.4280790388584137, 420, 7107], [0.4279795289039612, 435, 1695], [0.4278753697872162, 26, 8158], [0.4277150332927704, 112, 4760], [0.42756402492523193, 654, 4294], [0.4269371032714844, 128, 8396], [0.42681360244750977, 1012, 3152], [0.4268060624599457, 27, 166], [0.4259645640850067, 49, 6151], [0.4258233904838562, 416, 4727], [0.4255736172199249, 576, 8768], [0.4255106449127197, 40, 5780], [0.425494521856308, 53, 3930], [0.42542243003845215, 192, 2244], [0.42419272661209106, 187, 6246], [0.4232650399208069, 168, 5915], [0.4230083227157593, 309, 1030], [0.4229080379009247, 107, 2978], [0.42263779044151306, 44, 8391], [0.4224701523780823, 652, 6991], [0.42241987586021423, 146, 6992], [0.42240390181541443, 905, 5660], [0.42229098081588745, 37, 4864], [0.42196086049079895, 98, 3829], [0.4218922257423401, 339, 6011], [0.4213830530643463, 181, 9580], [0.4210405945777893, 3, 1193], [0.4206794202327728, 346, 8269], [0.4202931225299835, 77, 3993], [0.42020082473754883, 849, 2819], [0.41973820328712463, 180, 4536], [0.4196968972682953, 22, 3292], [0.4193314015865326, 177, 1838], [0.4192532002925873, 31, 5509], [0.4191407561302185, 11, 6333], [0.41829273104667664, 28, 8218], [0.41719523072242737, 56, 4197], [0.4170778691768646, 6, 1836], [0.4170778691768646, 6, 4499], [0.41682523488998413, 75, 66], [0.41658902168273926, 106, 2347], [0.4163588285446167, 290, 2156], [0.4162817597389221, 405, 4210], [0.41613301634788513, 18, 6053], [0.41603967547416687, 102, 2744], [0.41594889760017395, 18, 906], [0.41512760519981384, 426, 8714], [0.4143640398979187, 371, 8860], [0.41417545080184937, 332, 8827], [0.4141482412815094, 54, 1826], [0.4134145677089691, 30, 670], [0.41295310854911804, 170, 169], [0.41278135776519775, 133, 2837], [0.4126887023448944, 224, 2848], [0.41190117597579956, 74, 7404], [0.41158291697502136, 165, 4085], [0.4113735258579254, 57, 8978], [0.4113270342350006, 266, 9407], [0.41132330894470215, 41, 7888], [0.4111427962779999, 2, 3701], [0.41108736395835876, 116, 4742], [0.41101446747779846, 50, 4330], [0.4107341170310974, 76, 125], [0.4106481075286865, 20, 4240], [0.41044893860816956, 65, 6127], [0.4100953936576843, 195, 3981], [0.40939897298812866, 176, 2033], [0.4092591404914856, 8, 8814], [0.4092584550380707, 9, 2887], [0.40883171558380127, 775, 3876], [0.4076826870441437, 26, 1395], [0.4073411226272583, 133, 921], [0.407198965549469, 49, 7177], [0.4071366786956787, 23, 2944], [0.40692761540412903, 216, 854], [0.40668246150016785, 44, 8250], [0.40619146823883057, 48, 6550], [0.40580493211746216, 16, 8304], [0.4056379497051239, 60, 8711], [0.4056013524532318, 49, 4635], [0.40557098388671875, 376, 3582], [0.4055699408054352, 23, 3864], [0.40551161766052246, 92, 8541], [0.4054553508758545, 42, 5554], [0.4047987461090088, 170, 7444], [0.4047572910785675, 145, 3002], [0.4044889807701111, 81, 8641], [0.4043895900249481, 108, 7570], [0.40435144305229187, 100, 6736], [0.4042692482471466, 9, 9750], [0.4041267931461334, 16, 1750], [0.4040813446044922, 30, 7351], [0.4033031761646271, 207, 8232], [0.4029986262321472, 71, 6638], [0.40113383531570435, 49, 9094], [0.4005090892314911, 60, 9393], [0.39968341588974, 17, 5789], [0.3993622362613678, 158, 6008], [0.3991805911064148, 14, 934], [0.399071604013443, 104, 6978], [0.39902782440185547, 67, 7675], [0.39857521653175354, 12, 3337], [0.3983195126056671, 186, 4037], [0.3983112573623657, 42, 1043], [0.39828699827194214, 44, 8530], [0.39781442284584045, 100, 613], [0.3975963294506073, 330, 9823], [0.3975503444671631, 87, 34], [0.39747855067253113, 811, 247], [0.3971620500087738, 123, 3903], [0.3964911103248596, 209, 4526], [0.3959682881832123, 43, 6232], [0.39566469192504883, 18, 9134], [0.39542633295059204, 70, 3427], [0.3950576186180115, 67, 5460], [0.39501291513442993, 10, 7764], [0.395000159740448, 548, 3988], [0.39429739117622375, 26, 1296], [0.3936784267425537, 67, 306], [0.3933529555797577, 42, 6381], [0.3932989239692688, 505, 3351], [0.3932073414325714, 67, 79], [0.393016517162323, 308, 7634], [0.3929827809333801, 34, 4410], [0.39296069741249084, 88, 4713], [0.3928467035293579, 48, 5055], [0.392759770154953, 127, 8696], [0.3927164375782013, 75, 9301], [0.39252227544784546, 35, 4226], [0.39174729585647583, 596, 2903], [0.3917451798915863, 246, 491], [0.39165380597114563, 132, 4755], [0.3913995623588562, 69, 2163], [0.39125218987464905, 37, 9997], [0.3912436366081238, 387, 2603], [0.3909497559070587, 79, 5352], [0.39073070883750916, 58, 1281], [0.3903385102748871, 438, 9080], [0.3901440501213074, 79, 4355], [0.38963782787323, 245, 7181], [0.3894672989845276, 101, 9419], [0.38940057158470154, 171, 5748], [0.3892684578895569, 66, 8708], [0.3892626464366913, 134, 6181], [0.38901689648628235, 62, 3269], [0.38849693536758423, 675, 4951], [0.38847294449806213, 856, 1134], [0.38829490542411804, 131, 5496], [0.3879282772541046, 12, 9938], [0.3876813054084778, 693, 1444], [0.38651224970817566, 293, 9780], [0.3864603638648987, 3, 6722], [0.3862253725528717, 77, 8020], [0.3859422504901886, 589, 238], [0.38574501872062683, 86, 4403], [0.3857112228870392, 266, 8554], [0.38497984409332275, 72, 2288], [0.3845142722129822, 71, 2915], [0.3842674195766449, 727, 7521], [0.384187787771225, 16, 7957], [0.383808434009552, 39, 904], [0.38334324955940247, 530, 3921], [0.3831646740436554, 414, 9155], [0.38267868757247925, 151, 2237], [0.38191547989845276, 27, 1333], [0.38181382417678833, 53, 9747], [0.3817038834095001, 131, 7274], [0.38160616159439087, 5, 6440], [0.3815389573574066, 209, 5294], [0.3810855746269226, 12, 5242], [0.3807372450828552, 31, 4460], [0.38052091002464294, 264, 6799], [0.3802814483642578, 47, 4759], [0.3798489570617676, 89, 6309], [0.3796592950820923, 9, 2981], [0.37950068712234497, 304, 4395], [0.37939444184303284, 35, 4308], [0.37923309206962585, 102, 6467], [0.3792089819908142, 103, 2719], [0.37912723422050476, 109, 3411], [0.3789233863353729, 78, 6393], [0.37856701016426086, 62, 8127], [0.3780193030834198, 324, 1230], [0.3780120015144348, 473, 8774], [0.37775707244873047, 90, 1887], [0.37771666049957275, 625, 3841], [0.377303808927536, 364, 6910], [0.3769283592700958, 82, 6985], [0.3765327036380768, 19, 8187], [0.37649503350257874, 518, 3303], [0.3764092028141022, 21, 5378], [0.37613892555236816, 147, 9767], [0.37611526250839233, 139, 5445], [0.3758538067340851, 713, 5884], [0.37577396631240845, 80, 9312], [0.3753995895385742, 186, 4735], [0.3749009072780609, 16, 389], [0.3749009072780609, 16, 575], [0.3749009072780609, 16, 1139], [0.3749009072780609, 16, 4146], [0.3749009072780609, 16, 4747], [0.3749009072780609, 16, 9103], [0.37481048703193665, 122, 3895], [0.37367790937423706, 14, 1476], [0.3735872209072113, 915, 7252], [0.37307071685791016, 746, 636], [0.3727684020996094, 38, 8668], [0.37275323271751404, 124, 3770], [0.37254106998443604, 16, 642], [0.37254106998443604, 16, 4623], [0.3724747598171234, 42, 1051], [0.37181463837623596, 610, 9455], [0.3717291057109833, 17, 1959], [0.37166517972946167, 8, 4516], [0.3715899884700775, 45, 341], [0.37112367153167725, 44, 4590], [0.3708537817001343, 108, 8889], [0.3701741099357605, 40, 8821], [0.3699571490287781, 34, 7136], [0.36974361538887024, 103, 5772], [0.3694343566894531, 143, 5266], [0.3694266378879547, 385, 973], [0.3687535226345062, 41, 2078], [0.3686389923095703, 58, 9255], [0.36854660511016846, 56, 3932], [0.368439257144928, 228, 3708], [0.3684156835079193, 239, 6338], [0.3682484030723572, 31, 6718], [0.3682207763195038, 153, 131], [0.3678387403488159, 55, 2472], [0.36774569749832153, 399, 1011], [0.3677312135696411, 383, 548], [0.36764878034591675, 324, 833], [0.36753228306770325, 996, 8740], [0.3674244284629822, 36, 9821], [0.3671128749847412, 99, 2077], [0.36695581674575806, 28, 5808], [0.36644190549850464, 47, 9402], [0.36643746495246887, 28, 1932], [0.36605939269065857, 38, 4274], [0.36580654978752136, 52, 6449], [0.3654337227344513, 72, 864], [0.3653132915496826, 57, 3872], [0.3651251792907715, 11, 1250], [0.36510536074638367, 13, 7151], [0.36480504274368286, 163, 4270], [0.3643879294395447, 6, 9549], [0.36418601870536804, 8, 8917], [0.36399412155151367, 8, 7501], [0.36397626996040344, 133, 8548], [0.36386704444885254, 97, 6633], [0.3632698655128479, 2, 2108], [0.3632062077522278, 15, 3084], [0.3630679249763489, 100, 6251], [0.362876832485199, 121, 2635], [0.3626733422279358, 292, 6326], [0.36246198415756226, 100, 6577], [0.3623654544353485, 143, 9880], [0.36078178882598877, 21, 2317], [0.3607184886932373, 915, 7255], [0.3606414198875427, 196, 7918], [0.36064043641090393, 47, 6056], [0.36056214570999146, 305, 6406], [0.36023783683776855, 327, 2452], [0.3602270781993866, 550, 5423], [0.3594313859939575, 155, 4396], [0.359394371509552, 882, 623], [0.35908910632133484, 5, 2845], [0.3589746057987213, 74, 336], [0.3582078516483307, 34, 2838], [0.3581242561340332, 340, 3125], [0.3580193817615509, 67, 9218], [0.35779914259910583, 305, 8850], [0.35773855447769165, 259, 5296], [0.35714808106422424, 48, 6358], [0.3569738268852234, 174, 8633], [0.35690778493881226, 24, 4884], [0.356425404548645, 713, 9067], [0.3559719920158386, 97, 4419], [0.3558982312679291, 112, 1898], [0.35558149218559265, 109, 8676], [0.3551058769226074, 54, 488], [0.3550400733947754, 84, 4845], [0.3548346757888794, 33, 2924], [0.3541771471500397, 16, 3220], [0.354044109582901, 32, 1936], [0.3539939522743225, 172, 7305], [0.3538840413093567, 7, 8536], [0.35385414958000183, 329, 7009], [0.35385146737098694, 51, 5051], [0.3536548614501953, 15, 9921], [0.3531869649887085, 41, 5360], [0.3530702590942383, 14, 1875], [0.35244348645210266, 177, 7142], [0.35173365473747253, 356, 3905], [0.3511839210987091, 771, 2731], [0.3508322834968567, 86, 5694], [0.35070592164993286, 66, 9664], [0.3503180742263794, 61, 5175], [0.3502054810523987, 28, 8236], [0.3501177430152893, 69, 4604], [0.3500264585018158, 158, 8429], [0.3499656319618225, 170, 7478], [0.34979620575904846, 121, 5674], [0.34978023171424866, 100, 2415], [0.3496004343032837, 3, 1150], [0.34935373067855835, 127, 6930], [0.3491920232772827, 35, 2263], [0.3489435613155365, 61, 4504], [0.3485223948955536, 48, 5761], [0.3484839200973511, 366, 6109], [0.34844592213630676, 41, 4441], [0.3483036756515503, 88, 1892], [0.348268061876297, 75, 7922], [0.3478681445121765, 68, 3156], [0.3477829694747925, 346, 6871], [0.3474545180797577, 53, 7964], [0.34744659066200256, 99, 5813], [0.3470315635204315, 304, 37], [0.34690263867378235, 702, 9313], [0.3468497097492218, 413, 3297], [0.3466362953186035, 40, 13], [0.3465999662876129, 59, 8451], [0.3459637463092804, 564, 6057], [0.3458636999130249, 73, 4449], [0.34522297978401184, 434, 8756], [0.3451418876647949, 50, 7502], [0.3449617624282837, 6, 2278], [0.34416818618774414, 80, 7579], [0.34416037797927856, 124, 4926], [0.34400853514671326, 35, 8343], [0.34374114871025085, 417, 9644], [0.3427829444408417, 64, 9492], [0.34269705414772034, 170, 7628], [0.3425062894821167, 8, 1711], [0.34201931953430176, 127, 6605], [0.3412756323814392, 214, 4438], [0.3409541845321655, 90, 2789], [0.34080466628074646, 69, 4183], [0.3406924605369568, 54, 437], [0.34052643179893494, 291, 374], [0.3405130207538605, 120, 4588], [0.3395373523235321, 34, 5215], [0.3391778767108917, 66, 1481], [0.3388637900352478, 10, 860], [0.33868837356567383, 18, 3556], [0.33830103278160095, 11, 3400], [0.33830001950263977, 61, 9553], [0.33762770891189575, 3, 2256], [0.33761343359947205, 282, 1101], [0.337469220161438, 48, 2921], [0.3374600410461426, 95, 810], [0.3370780944824219, 190, 8228], [0.3368706703186035, 349, 9167], [0.3367672264575958, 67, 6134], [0.3365843594074249, 121, 8573], [0.3365809917449951, 238, 5597], [0.336562842130661, 110, 3451], [0.33650773763656616, 58, 9356], [0.33636921644210815, 259, 3987], [0.33626559376716614, 195, 5161], [0.33599624037742615, 143, 1345], [0.33580538630485535, 417, 2712], [0.33464351296424866, 57, 2823], [0.334072083234787, 11, 4986], [0.3336044251918793, 283, 4930], [0.33335015177726746, 18, 6544], [0.33306512236595154, 6, 1116], [0.33282601833343506, 173, 3664], [0.33254727721214294, 785, 9770], [0.33238622546195984, 190, 1792], [0.3322198688983917, 15, 2053], [0.33219754695892334, 94, 9200], [0.33213135600090027, 5, 5785], [0.33185744285583496, 3, 7308], [0.3315916359424591, 468, 4685], [0.3311808109283447, 49, 9262], [0.33116433024406433, 226, 8030], [0.33079051971435547, 22, 675], [0.33079051971435547, 22, 5407], [0.33079051971435547, 22, 6436], [0.33079051971435547, 22, 9173], [0.3305998742580414, 81, 3933], [0.3305274248123169, 230, 7296], [0.33013248443603516, 85, 5898], [0.32985231280326843, 86, 5032], [0.3297242820262909, 243, 90], [0.3294008672237396, 108, 6713], [0.329039990901947, 28, 382], [0.3287522494792938, 191, 3062], [0.32833433151245117, 630, 2292], [0.32804402709007263, 38, 6137], [0.3274034261703491, 14, 4649], [0.3272712826728821, 22, 578], [0.32725897431373596, 73, 1135], [0.32722461223602295, 7, 8773], [0.3271181583404541, 185, 8055], [0.32676708698272705, 14, 1108], [0.326353520154953, 254, 5980], [0.32590174674987793, 342, 1597], [0.32589417695999146, 12, 6787], [0.3258742690086365, 99, 535], [0.32566308975219727, 74, 7861], [0.3253254294395447, 117, 4674], [0.3247184753417969, 6, 1869], [0.3246518671512604, 36, 5304], [0.3245881199836731, 368, 1934], [0.3241829574108124, 145, 3553], [0.3239648938179016, 70, 2758], [0.3234339952468872, 35, 3037], [0.3233886957168579, 51, 140], [0.32338300347328186, 99, 1026], [0.32264673709869385, 23, 8227], [0.3221002221107483, 57, 9638], [0.32157421112060547, 152, 5330], [0.32058924436569214, 143, 9357], [0.3201298713684082, 265, 6555], [0.3192959725856781, 7, 9037], [0.31871452927589417, 39, 2124], [0.3180810213088989, 67, 9700], [0.3175920844078064, 173, 9723], [0.317250519990921, 4, 423], [0.3171347379684448, 29, 2068], [0.31687644124031067, 21, 266], [0.3166687786579132, 106, 5919], [0.31648683547973633, 25, 187], [0.3164554238319397, 172, 3114], [0.31631582975387573, 3, 5370], [0.31610924005508423, 32, 9627], [0.315902978181839, 14, 9868], [0.31585201621055603, 254, 9383], [0.3152715265750885, 74, 8245], [0.31499186158180237, 16, 2782], [0.3148890733718872, 126, 2267], [0.3148007392883301, 13, 8839], [0.3145487308502197, 119, 1100], [0.3139103055000305, 20, 2488], [0.313742071390152, 109, 8593], [0.31347179412841797, 148, 3924], [0.31274616718292236, 351, 4480], [0.3116138279438019, 38, 5781], [0.31159326434135437, 124, 6476], [0.311582088470459, 76, 5433], [0.31074339151382446, 36, 1760], [0.31011059880256653, 94, 9515], [0.30978646874427795, 8, 894], [0.3090527057647705, 28, 5888], [0.3088916540145874, 137, 7334], [0.3087170124053955, 272, 2200], [0.3084031641483307, 7, 7536], [0.30823785066604614, 92, 9878], [0.3081675171852112, 21, 5392], [0.3081625998020172, 19, 822], [0.3074175715446472, 87, 7499], [0.306993305683136, 376, 1642], [0.30665767192840576, 52, 4337], [0.3056981563568115, 411, 3323], [0.30533984303474426, 18, 7706], [0.30527544021606445, 85, 5000], [0.3052352964878082, 73, 799], [0.3051861822605133, 206, 3814], [0.30493152141571045, 148, 4354], [0.30488717555999756, 112, 7901], [0.3047660291194916, 214, 6535], [0.3038848042488098, 496, 7353], [0.303841233253479, 5, 2493], [0.3030162751674652, 270, 9404], [0.30291467905044556, 3, 6046], [0.30291467905044556, 3, 8736], [0.3024130165576935, 188, 8267], [0.30212825536727905, 70, 8372], [0.3020152151584625, 131, 16], [0.3018350303173065, 41, 7697], [0.3015076816082001, 35, 6723], [0.3011208772659302, 62, 682], [0.301066517829895, 39, 5890], [0.3003236651420593, 148, 3340], [0.30009594559669495, 3, 210], [0.30009594559669495, 3, 1665], [0.30009594559669495, 3, 9473], [0.30005505681037903, 152, 4877], [0.299628883600235, 245, 8760], [0.2995302677154541, 147, 1590], [0.2990832030773163, 109, 2330], [0.29887205362319946, 482, 2582], [0.2987259328365326, 83, 7063], [0.2980300486087799, 96, 3320], [0.2979234755039215, 41, 9216], [0.29767918586730957, 135, 660], [0.29717668890953064, 64, 3955], [0.2971749007701874, 436, 4854], [0.2969117760658264, 91, 6145], [0.29634684324264526, 17, 8454], [0.2956676185131073, 50, 1632], [0.2956666350364685, 46, 3464], [0.2956484854221344, 466, 6764], [0.2954036593437195, 143, 4375], [0.2952044606208801, 138, 8510], [0.2948858439922333, 333, 7419], [0.2944076359272003, 92, 761], [0.29366281628608704, 9, 7400], [0.29330888390541077, 104, 7575], [0.2931478023529053, 228, 7194], [0.29310470819473267, 8, 2709], [0.2930196523666382, 277, 5052], [0.2927856743335724, 56, 1168], [0.29250025749206543, 211, 8096], [0.29241228103637695, 187, 8165], [0.2923417091369629, 371, 387], [0.29194962978363037, 513, 5357], [0.2917259633541107, 249, 2235], [0.2914372384548187, 196, 9709], [0.2909034192562103, 230, 9754], [0.28971540927886963, 201, 435], [0.2896018624305725, 53, 110], [0.28909045457839966, 108, 9950], [0.28878727555274963, 5, 9295], [0.28874456882476807, 375, 6618], [0.2884581685066223, 111, 826], [0.28837403655052185, 27, 633], [0.2882099449634552, 25, 234], [0.2876615822315216, 2, 1126], [0.28750643134117126, 74, 9415], [0.28736719489097595, 402, 5227], [0.2870273292064667, 301, 9593], [0.28700563311576843, 261, 4910], [0.2867894172668457, 301, 6223], [0.2867298424243927, 36, 9267], [0.28579601645469666, 16, 3649], [0.285669207572937, 89, 1424], [0.2852059006690979, 136, 1861], [0.2848149538040161, 125, 4473], [0.2841646075248718, 134, 2634], [0.2839582860469818, 280, 1963], [0.283794105052948, 331, 5289], [0.2836132347583771, 825, 5842], [0.28313878178596497, 102, 8341], [0.2824786901473999, 80, 1529], [0.2824181318283081, 268, 7192], [0.2823828458786011, 300, 4706], [0.28237679600715637, 591, 2369], [0.28185781836509705, 669, 6976], [0.2817038595676422, 169, 8180], [0.2816615104675293, 52, 2910], [0.28163567185401917, 123, 1548], [0.2814626693725586, 610, 1140], [0.28142476081848145, 305, 4545], [0.28135862946510315, 31, 545], [0.2812480032444, 216, 8916], [0.2809047996997833, 41, 9361], [0.27969714999198914, 436, 3024], [0.2793213427066803, 180, 9060], [0.2791147232055664, 360, 3329], [0.2788671553134918, 660, 3562], [0.27800998091697693, 92, 3674], [0.277719646692276, 175, 4067], [0.2776392102241516, 167, 9265], [0.27689898014068604, 139, 8867], [0.2763230800628662, 580, 9577], [0.2761967182159424, 65, 3439], [0.276075541973114, 184, 5650], [0.27525755763053894, 45, 3008], [0.27518796920776367, 57, 3867], [0.27516624331474304, 10, 5829], [0.2750009000301361, 142, 4556], [0.27491307258605957, 39, 32], [0.27484744787216187, 36, 6896], [0.2747419774532318, 15, 2953], [0.27463456988334656, 78, 6080], [0.2734455168247223, 150, 3884], [0.27270036935806274, 96, 7049], [0.27229371666908264, 100, 2377], [0.27220219373703003, 39, 6190], [0.2716177701950073, 87, 3213], [0.2714845836162567, 130, 7715], [0.27106815576553345, 196, 3590], [0.2706065773963928, 693, 8080], [0.27038145065307617, 288, 1049], [0.2701261639595032, 34, 9613], [0.26976847648620605, 300, 944], [0.2695878744125366, 297, 9090], [0.26931414008140564, 92, 6846], [0.2693111002445221, 646, 7217], [0.26898980140686035, 10, 8003], [0.26872649788856506, 235, 574], [0.26799318194389343, 67, 1431], [0.2672811448574066, 264, 6106], [0.26720762252807617, 63, 3455], [0.2671014070510864, 3, 7550], [0.2665288746356964, 136, 6396], [0.2663910388946533, 48, 6336], [0.2663673758506775, 274, 5967], [0.2663254141807556, 21, 9548], [0.26626282930374146, 18, 1662], [0.2659922242164612, 73, 5962], [0.2650090157985687, 5, 3226], [0.2644639313220978, 866, 9278], [0.26442813873291016, 42, 154], [0.2639738917350769, 31, 2492], [0.2637994885444641, 87, 4511], [0.26370033621788025, 38, 5209], [0.26304349303245544, 23, 2654], [0.26301977038383484, 371, 4454], [0.26267123222351074, 182, 1310], [0.26263317465782166, 2, 2851], [0.2622838318347931, 168, 5844], [0.2615104913711548, 400, 5067], [0.26146453619003296, 21, 1821], [0.2602406442165375, 322, 3267], [0.26022574305534363, 32, 381], [0.26005327701568604, 173, 8036], [0.259859174489975, 14, 7123], [0.25945112109184265, 87, 2001], [0.259309321641922, 80, 4570], [0.2592322528362274, 53, 5530], [0.2590596675872803, 320, 697], [0.2581312954425812, 20, 3494], [0.25606176257133484, 24, 3187], [0.2558669447898865, 454, 8053], [0.25582149624824524, 72, 1241], [0.2554119825363159, 900, 5291], [0.25536826252937317, 634, 7146], [0.2553573548793793, 50, 1453], [0.2551325261592865, 6, 7214], [0.25501933693885803, 29, 9026], [0.25500327348709106, 35, 3816], [0.25499388575553894, 6, 8731], [0.25466689467430115, 26, 5703], [0.254440039396286, 49, 7282], [0.2539525330066681, 667, 9902], [0.2539370656013489, 503, 5914], [0.25349366664886475, 262, 7576], [0.25337323546409607, 314, 2464], [0.253264456987381, 20, 8747], [0.25325918197631836, 181, 6031], [0.25322702527046204, 23, 2041], [0.25271761417388916, 122, 3312], [0.25263550877571106, 509, 3241], [0.25226151943206787, 7, 2734], [0.25142455101013184, 225, 4805], [0.25103747844696045, 662, 4222], [0.25091710686683655, 61, 9693], [0.25053292512893677, 75, 3075], [0.2504632771015167, 148, 1365], [0.2504385709762573, 72, 7987], [0.2503875494003296, 54, 3087], [0.2502575218677521, 273, 3194], [0.25014567375183105, 74, 388], [0.25009945034980774, 46, 8357], [0.25008052587509155, 79, 3208], [0.2497546374797821, 299, 1800], [0.24868246912956238, 43, 1379], [0.24809056520462036, 9, 927], [0.2472061663866043, 47, 5316], [0.24703797698020935, 64, 7496], [0.24698300659656525, 81, 6949], [0.24681268632411957, 663, 8312], [0.2468089461326599, 706, 795], [0.24649953842163086, 302, 8842], [0.2463267594575882, 292, 201], [0.2459040731191635, 41, 3913], [0.24452431499958038, 51, 819], [0.2444188892841339, 45, 5284], [0.24441391229629517, 20, 5832], [0.24436992406845093, 94, 6091], [0.24421469867229462, 6, 1381], [0.24414771795272827, 31, 8952], [0.24389274418354034, 95, 7406], [0.24211283028125763, 26, 324], [0.24210859835147858, 361, 7403], [0.24199138581752777, 79, 5877], [0.24170352518558502, 45, 2262], [0.24134217202663422, 130, 3246], [0.24103614687919617, 44, 1983], [0.2406226098537445, 233, 3092], [0.24010655283927917, 8, 5152], [0.23998701572418213, 437, 5359], [0.23982521891593933, 71, 5758], [0.23904195427894592, 150, 9263], [0.2389373630285263, 225, 1634], [0.23855164647102356, 354, 2776], [0.23822416365146637, 3, 2251], [0.23812603950500488, 246, 5180], [0.23810994625091553, 13, 8858], [0.23763889074325562, 449, 1635], [0.23713645339012146, 191, 557], [0.23713645339012146, 191, 5532], [0.23666484653949738, 727, 2070], [0.23665107786655426, 28, 8598], [0.2364385575056076, 114, 7382], [0.23642873764038086, 95, 8985], [0.23626379668712616, 161, 9900], [0.23619389533996582, 20, 4982], [0.2361583113670349, 56, 9692], [0.23587311804294586, 181, 6006], [0.23566392064094543, 952, 5602], [0.23563989996910095, 296, 4103], [0.23522089421749115, 74, 7201], [0.23466569185256958, 82, 2945], [0.23399044573307037, 51, 5925], [0.23391245305538177, 92, 3741], [0.23387765884399414, 92, 9758], [0.233739972114563, 44, 8613], [0.23353655636310577, 223, 6101], [0.23348255455493927, 15, 5992], [0.2333724945783615, 39, 5902], [0.23329803347587585, 66, 2739], [0.23292334377765656, 813, 33], [0.232817143201828, 41, 6175], [0.2325613647699356, 31, 7871], [0.23248478770256042, 169, 5747], [0.23155787587165833, 313, 1343], [0.23145894706249237, 35, 3658], [0.2313295304775238, 24, 417], [0.23107470571994781, 193, 5181], [0.23073148727416992, 564, 6796], [0.23032210767269135, 4, 4600], [0.2301231026649475, 252, 4374], [0.22990575432777405, 110, 797], [0.22987715899944305, 17, 8913], [0.22971570491790771, 10, 8334], [0.2296677678823471, 102, 891], [0.22913481295108795, 50, 9331], [0.22855740785598755, 35, 2058], [0.22805547714233398, 60, 6270], [0.22750747203826904, 264, 1667], [0.2272595316171646, 12, 5208], [0.2271258533000946, 68, 7057], [0.2270209789276123, 713, 6847], [0.2258204221725464, 34, 9590], [0.22575320303440094, 542, 4217], [0.22425135970115662, 78, 6098], [0.22418710589408875, 98, 9911], [0.22397418320178986, 247, 9930], [0.22378069162368774, 45, 4198], [0.22357411682605743, 10, 11], [0.2234220951795578, 36, 177], [0.22309251129627228, 336, 7726], [0.2226492017507553, 42, 6703], [0.22203190624713898, 27, 1463], [0.221896693110466, 32, 6876], [0.22093738615512848, 390, 3720], [0.2209080010652542, 7, 8993], [0.2206389605998993, 119, 9674], [0.2203945368528366, 190, 8275], [0.2202523946762085, 30, 2983], [0.2200234979391098, 145, 5569], [0.2192852646112442, 6, 2046], [0.2191745936870575, 228, 5039], [0.21914105117321014, 173, 7552], [0.2189439833164215, 189, 8803], [0.21805039048194885, 423, 2354], [0.21743740141391754, 3, 146], [0.2163330316543579, 952, 9736], [0.2160128951072693, 58, 7842], [0.21595498919487, 108, 4813], [0.2155175805091858, 6, 3512], [0.21502378582954407, 588, 1685], [0.2149714231491089, 556, 4291], [0.21370941400527954, 218, 7112], [0.2135392129421234, 209, 5954], [0.21324743330478668, 18, 6155], [0.2131117284297943, 225, 9283], [0.2126184105873108, 48, 7837], [0.21229287981987, 745, 2721], [0.21218961477279663, 15, 3486], [0.212100088596344, 976, 8528], [0.21169695258140564, 7, 5146], [0.21166682243347168, 1010, 7528], [0.21148939430713654, 275, 362], [0.21134288609027863, 283, 6214], [0.21129703521728516, 111, 6319], [0.20980143547058105, 62, 4736], [0.2097933441400528, 758, 5222], [0.2096969187259674, 416, 1873], [0.2095397561788559, 110, 9466], [0.20935103297233582, 83, 5710], [0.20917992293834686, 210, 192], [0.2090296596288681, 16, 7762], [0.20865437388420105, 81, 1390], [0.20824357867240906, 100, 5276], [0.2081875205039978, 122, 8113], [0.20808354020118713, 490, 1223], [0.20772530138492584, 174, 9287], [0.2076997309923172, 92, 8070], [0.2076832801103592, 89, 9451], [0.20721463859081268, 151, 6661], [0.20704789459705353, 594, 631], [0.20704501867294312, 574, 105], [0.20662231743335724, 158, 5795], [0.2060537487268448, 189, 2465], [0.20571136474609375, 100, 145], [0.20544925332069397, 10, 3278], [0.20497484505176544, 118, 2538], [0.20425274968147278, 11, 383], [0.2041199505329132, 227, 8073], [0.2040688395500183, 269, 787], [0.20364156365394592, 161, 5383], [0.20363380014896393, 115, 7672], [0.20342697203159332, 61, 6081], [0.20314036309719086, 409, 5355], [0.20310352742671967, 66, 1581], [0.20283937454223633, 21, 3707], [0.20262785255908966, 5, 8402], [0.20262785255908966, 5, 9619], [0.20238356292247772, 10, 6563], [0.2017524689435959, 96, 8235], [0.20128214359283447, 316, 3577], [0.20122097432613373, 20, 3172], [0.20120374858379364, 58, 5429], [0.20115281641483307, 89, 4401], [0.20109081268310547, 41, 4874], [0.2010677605867386, 455, 2545], [0.2010604441165924, 115, 3733], [0.20099234580993652, 9, 6058], [0.20070289075374603, 118, 6862], [0.20057761669158936, 23, 7386], [0.20034672319889069, 147, 9086], [0.19976311922073364, 107, 6152], [0.1996728777885437, 153, 3249], [0.19954121112823486, 670, 2795], [0.19884651899337769, 111, 8671], [0.19869278371334076, 108, 6288], [0.19853317737579346, 98, 888], [0.19801875948905945, 75, 7791], [0.19766977429389954, 53, 4160], [0.1970209777355194, 69, 8031], [0.1959264725446701, 58, 5286], [0.19592078030109406, 463, 4450], [0.19542384147644043, 656, 3825], [0.19532881677150726, 16, 8601], [0.19424305856227875, 68, 4443], [0.1939696967601776, 259, 3676], [0.19394201040267944, 52, 1402], [0.19325673580169678, 226, 950], [0.19299142062664032, 82, 9860], [0.19298596680164337, 6, 122], [0.19261856377124786, 116, 4353], [0.19235482811927795, 213, 7361], [0.19220323860645294, 85, 2554], [0.19157765805721283, 212, 108], [0.1908503621816635, 105, 3659], [0.19080063700675964, 72, 9274], [0.1903480589389801, 316, 9100], [0.19024775922298431, 492, 4305], [0.190196692943573, 141, 9075], [0.18990571796894073, 18, 6763], [0.1888037919998169, 39, 4386], [0.18852220475673676, 54, 6880], [0.18830855190753937, 52, 6446], [0.1881732940673828, 305, 2968], [0.18759404122829437, 184, 24], [0.1873723566532135, 16, 8595], [0.1873081922531128, 52, 3141], [0.1867985874414444, 32, 1624], [0.18674014508724213, 23, 496], [0.18620415031909943, 22, 5230], [0.18619519472122192, 354, 2484], [0.18599720299243927, 85, 7896], [0.1859939694404602, 134, 902], [0.1858389526605606, 9, 8139], [0.18506500124931335, 155, 7116], [0.18365222215652466, 259, 7765], [0.18352648615837097, 477, 6019], [0.18336792290210724, 237, 357], [0.18221482634544373, 4, 4916], [0.18184219300746918, 88, 2666], [0.18176162242889404, 33, 3431], [0.1814102977514267, 3, 205], [0.18139974772930145, 65, 6066], [0.18115095794200897, 38, 2547], [0.1803734004497528, 213, 4003], [0.17994534969329834, 73, 9504], [0.17964978516101837, 4, 1067], [0.17925402522087097, 69, 9915], [0.17893198132514954, 164, 2520], [0.17880409955978394, 17, 9432], [0.1786690354347229, 13, 5770], [0.17836779356002808, 230, 7510], [0.1782846748828888, 1000, 2329], [0.17797598242759705, 75, 8880], [0.17781862616539001, 99, 1725], [0.17729215323925018, 45, 2951], [0.17717696726322174, 1, 9160], [0.17692701518535614, 181, 3483], [0.17659516632556915, 783, 173], [0.17653922736644745, 302, 5364], [0.1762649416923523, 35, 1338], [0.1759468913078308, 193, 1671], [0.17582906782627106, 24, 2632], [0.1754920333623886, 50, 8278], [0.1754775494337082, 67, 1956], [0.17462380230426788, 59, 7607], [0.1743592619895935, 23, 8279], [0.17410315573215485, 802, 5329], [0.17394860088825226, 21, 6037], [0.17309726774692535, 297, 2213], [0.17282067239284515, 9, 2745], [0.1716567724943161, 326, 9615], [0.17086663842201233, 194, 2430], [0.17029327154159546, 262, 6757], [0.16991302371025085, 127, 6126], [0.169786274433136, 40, 1676], [0.16941671073436737, 91, 7307], [0.1690504103899002, 73, 6626], [0.16886994242668152, 52, 6174], [0.16842034459114075, 47, 7719], [0.16796913743019104, 5, 3691], [0.16788706183433533, 21, 7683], [0.1677805334329605, 50, 8743], [0.16774655878543854, 329, 6035], [0.16738446056842804, 41, 9459], [0.1672777682542801, 155, 2455], [0.16716846823692322, 31, 1572], [0.16628946363925934, 133, 957], [0.16581003367900848, 15, 8669], [0.16564083099365234, 31, 9745], [0.16467995941638947, 360, 7492], [0.16396737098693848, 61, 6810], [0.16370396316051483, 339, 5536], [0.16352824866771698, 119, 6002], [0.1631721407175064, 74, 8315], [0.162532776594162, 14, 2082], [0.1620279848575592, 389, 8189], [0.16183686256408691, 85, 4746], [0.16173270344734192, 14, 8010], [0.1616465449333191, 85, 8544], [0.16142837703227997, 87, 8101], [0.1611344963312149, 13, 3994], [0.1600918471813202, 215, 334], [0.16008952260017395, 8, 2429], [0.16008952260017395, 8, 7903], [0.15997841954231262, 108, 109], [0.15987631678581238, 88, 5655], [0.15973025560379028, 6, 4646], [0.15908890962600708, 151, 7401], [0.15897473692893982, 164, 5947], [0.1588335633277893, 33, 8789], [0.15870271623134613, 36, 3939], [0.15827564895153046, 212, 5377], [0.15782855451107025, 464, 8293], [0.15767520666122437, 108, 5632], [0.15744633972644806, 166, 4664], [0.1573268473148346, 71, 9640], [0.15717309713363647, 127, 6264], [0.15662644803524017, 41, 9436], [0.15653400123119354, 246, 7164], [0.15627582371234894, 25, 7684], [0.15625016391277313, 62, 9249], [0.15615659952163696, 23, 89], [0.15570923686027527, 65, 681], [0.15500766038894653, 47, 3131], [0.15440447628498077, 152, 9643], [0.1542779505252838, 51, 5976], [0.15311388671398163, 192, 7821], [0.15248721837997437, 26, 3744], [0.1523175984621048, 5, 2089], [0.1509101390838623, 82, 8623], [0.15045484900474548, 13, 8899], [0.15035858750343323, 70, 4541], [0.15003997087478638, 781, 5454], [0.14895321428775787, 238, 7864], [0.14864961802959442, 26, 5960], [0.14850138127803802, 348, 1327], [0.14839382469654083, 8, 7763], [0.1483803689479828, 458, 2966], [0.1474284529685974, 182, 209], [0.14718157052993774, 77, 4561], [0.14661598205566406, 132, 8013], [0.14657743275165558, 32, 3108], [0.14654240012168884, 222, 8626], [0.1462210863828659, 163, 2577], [0.14572326838970184, 224, 3238], [0.1454363316297531, 264, 73], [0.14523597061634064, 73, 5622], [0.14489193260669708, 27, 2352], [0.14486008882522583, 225, 7110], [0.14468702673912048, 9, 2594], [0.14446811378002167, 161, 4362], [0.14394797384738922, 103, 7036], [0.14373400807380676, 59, 7211], [0.14367465674877167, 254, 7443], [0.14349862933158875, 8, 6017], [0.14314791560173035, 83, 5778], [0.14248670637607574, 163, 1340], [0.14124275743961334, 175, 2638], [0.1411246657371521, 42, 6092], [0.1401803195476532, 38, 7267], [0.1388980597257614, 29, 4794], [0.1384483426809311, 11, 8739], [0.13837751746177673, 323, 6568], [0.13825324177742004, 158, 5220], [0.1374012529850006, 189, 4869], [0.13722334802150726, 166, 290], [0.13702498376369476, 311, 3791], [0.13698776066303253, 4, 2130], [0.1367833912372589, 442, 5830], [0.13669875264167786, 332, 4882], [0.13668975234031677, 4, 2525], [0.13633942604064941, 11, 9725], [0.1361198127269745, 19, 8871], [0.1359376311302185, 57, 4141], [0.13547898828983307, 54, 5938], [0.1349620819091797, 45, 7449], [0.1344384104013443, 18, 8492], [0.13434579968452454, 347, 39], [0.1340305656194687, 408, 3756], [0.13391056656837463, 454, 3165], [0.13330045342445374, 195, 1346], [0.13311947882175446, 60, 1847], [0.13292217254638672, 4, 6030], [0.13280276954174042, 166, 922], [0.13262422382831573, 33, 5745], [0.1323099583387375, 174, 3324], [0.13214059174060822, 229, 6284], [0.1321214735507965, 5, 6697], [0.13022136688232422, 188, 9281], [0.1302136331796646, 199, 3082], [0.1300526261329651, 149, 2605], [0.1297737956047058, 103, 6916], [0.12965895235538483, 156, 522], [0.12937185168266296, 25, 1190], [0.12937185168266296, 25, 5939], [0.12837371230125427, 88, 7310], [0.1272849142551422, 136, 5184], [0.1271597445011139, 52, 7466], [0.1269795149564743, 246, 7593], [0.1263810396194458, 383, 5168], [0.1260746270418167, 172, 1470], [0.12531216442584991, 214, 8029], [0.12521237134933472, 67, 981], [0.1250961571931839, 37, 8931], [0.12508666515350342, 71, 8459], [0.12376319617033005, 154, 2161], [0.12354464828968048, 360, 5361], [0.12326854467391968, 62, 7207], [0.12324592471122742, 219, 2567], [0.12254037708044052, 74, 1843], [0.12231887131929398, 101, 98], [0.12195643037557602, 245, 9719], [0.12166216224431992, 34, 6628], [0.1216331273317337, 2, 2208], [0.12162955105304718, 33, 7685], [0.12139135599136353, 80, 2684], [0.1207117885351181, 304, 7829], [0.1206442341208458, 85, 1965], [0.120308518409729, 304, 3972], [0.12009788304567337, 48, 8517], [0.11943183094263077, 213, 7692], [0.11794184148311615, 24, 7006], [0.11769640445709229, 55, 7529], [0.11759241670370102, 9, 8260], [0.11748120188713074, 225, 9423], [0.11729497462511063, 46, 3159], [0.11680398881435394, 9, 739], [0.11647775769233704, 475, 2786], [0.11627833545207977, 70, 3217], [0.1160665899515152, 68, 4827], [0.11597230285406113, 97, 7620], [0.11475518345832825, 160, 5422], [0.11283377557992935, 42, 5396], [0.11225026845932007, 114, 7462], [0.11170946806669235, 16, 3693], [0.11148832738399506, 23, 5204], [0.11142855137586594, 91, 8111], [0.11082643270492554, 30, 9142], [0.11062826961278915, 315, 5577], [0.10996917635202408, 145, 2677], [0.10996024310588837, 60, 2185], [0.10960385948419571, 10, 4368], [0.10926668345928192, 48, 71], [0.10912822186946869, 24, 5086], [0.10904885828495026, 5, 8064], [0.10882528126239777, 56, 3233], [0.10869314521551132, 35, 3212], [0.1082824245095253, 81, 943], [0.10797911137342453, 314, 1237], [0.10762294381856918, 170, 2463], [0.10759340226650238, 30, 9061], [0.10750729590654373, 948, 3414], [0.10717593878507614, 129, 983], [0.10713158547878265, 18, 3070], [0.1069512665271759, 952, 359], [0.10644189268350601, 40, 7369], [0.1064041331410408, 425, 9318], [0.10599029809236526, 6, 8832], [0.10591103136539459, 105, 55], [0.1057782769203186, 3, 7362], [0.1056782603263855, 4, 2907], [0.10543529689311981, 13, 2754], [0.1046546921133995, 4, 730], [0.10436102747917175, 3, 4404], [0.10402897000312805, 98, 3001], [0.1038307175040245, 4, 6888], [0.10341547429561615, 3, 4838], [0.10317742824554443, 37, 638], [0.10309021919965744, 63, 4202], [0.10282407701015472, 15, 2090], [0.10267094522714615, 28, 1979], [0.10201781243085861, 620, 8438], [0.10182512551546097, 57, 3509], [0.10154981911182404, 185, 1460], [0.10152159631252289, 47, 5930], [0.10118883103132248, 160, 1894], [0.1011059507727623, 41, 2419], [0.10100267827510834, 70, 5983], [0.10031400620937347, 23, 1161], [0.09966611862182617, 74, 267], [0.09959918260574341, 13, 7247], [0.09865009784698486, 93, 7059], [0.09784980863332748, 843, 4997], [0.09766852855682373, 10, 646], [0.09705571830272675, 34, 8726], [0.09604814648628235, 5, 597], [0.0957455039024353, 74, 6948], [0.09545785933732986, 2, 4063], [0.09499497711658478, 59, 494], [0.09464532881975174, 477, 7802], [0.09420939534902573, 12, 6123], [0.0938030555844307, 22, 8694], [0.09372145682573318, 57, 4016], [0.0931064635515213, 5, 260], [0.09223119169473648, 40, 2353], [0.09221101552248001, 199, 9927], [0.09145628660917282, 2, 5506], [0.09079576283693314, 20, 3406], [0.09026078879833221, 42, 2149], [0.08920557796955109, 30, 3979], [0.08835822343826294, 8, 9330], [0.08835461735725403, 3, 5271], [0.08770599961280823, 54, 1287], [0.08733920753002167, 81, 3800], [0.08661440759897232, 8, 3755], [0.08628328144550323, 79, 6782], [0.08588428050279617, 22, 6841], [0.08583749085664749, 3, 577], [0.08581017702817917, 203, 972], [0.08518756181001663, 792, 7160], [0.08507204055786133, 5, 8479], [0.0847940519452095, 578, 4931], [0.0845135748386383, 236, 5160], [0.08431526273488998, 70, 3197], [0.08390596508979797, 99, 1459], [0.08369012176990509, 334, 4413], [0.08328911662101746, 32, 2508], [0.08285468816757202, 104, 1018], [0.08259328454732895, 163, 802], [0.08236704021692276, 150, 4483], [0.08235712349414825, 69, 5639], [0.08119376003742218, 20, 7380], [0.08066961914300919, 65, 6870], [0.08040431886911392, 929, 2580], [0.07984533905982971, 50, 3450], [0.07978468388319016, 165, 8057], [0.07946094870567322, 1, 3254], [0.07877986133098602, 18, 2418], [0.07872574776411057, 18, 9578], [0.07825884968042374, 21, 592], [0.07776699215173721, 29, 8715], [0.07744002342224121, 74, 9288], [0.07718527317047119, 170, 4520], [0.0769854336977005, 2, 7365], [0.07697226852178574, 41, 3424], [0.07683940976858139, 70, 9505], [0.07672382891178131, 82, 9794], [0.07611793279647827, 3, 6518], [0.07570844143629074, 13, 2030], [0.0752086341381073, 95, 7240], [0.07520709931850433, 8, 2963], [0.07514131814241409, 103, 3487], [0.07457998394966125, 17, 4120], [0.07423387467861176, 985, 158], [0.07410278916358948, 63, 1723], [0.07329751551151276, 29, 469], [0.07320141047239304, 17, 8526], [0.07290659099817276, 276, 5102], [0.07244344055652618, 82, 2703], [0.07230821996927261, 258, 6279], [0.07215256989002228, 80, 540], [0.07213927060365677, 259, 3224], [0.07170859724283218, 50, 2575], [0.07149351388216019, 117, 8911], [0.07124751806259155, 14, 6830], [0.07115049660205841, 6, 6604], [0.07064507901668549, 5, 7730], [0.06996941566467285, 3, 4729], [0.06987873464822769, 155, 471], [0.06954948604106903, 82, 7477], [0.06938401609659195, 12, 3854], [0.06932272762060165, 34, 7707], [0.06835328787565231, 17, 7319], [0.06809385865926743, 135, 1832], [0.06750600785017014, 34, 9748], [0.06706442683935165, 11, 2080], [0.06693581491708755, 71, 4407], [0.06637673825025558, 145, 4881], [0.06600890308618546, 574, 5896], [0.06518393009901047, 9, 8977], [0.06482497602701187, 43, 9922], [0.06465405225753784, 22, 4564], [0.06450127065181732, 51, 6649], [0.06384848058223724, 67, 1819], [0.06344840675592422, 17, 5672], [0.06317371875047684, 19, 2025], [0.06276734173297882, 202, 8591], [0.06257711350917816, 46, 6720], [0.06244315952062607, 6, 9870], [0.06204359605908394, 101, 5623], [0.06144570931792259, 1, 7126], [0.06144570931792259, 1, 8958], [0.061414264142513275, 12, 1817], [0.06114736571907997, 16, 3443], [0.06110687553882599, 9, 9871], [0.061023395508527756, 115, 886], [0.05993378907442093, 2, 182], [0.05993378907442093, 2, 2019], [0.05993378907442093, 2, 4785], [0.05993378907442093, 2, 5030], [0.05993378907442093, 2, 7772], [0.05993378907442093, 2, 9649], [0.05985832214355469, 378, 8184], [0.05973176285624504, 11, 7793], [0.058669328689575195, 132, 6005], [0.05855683609843254, 17, 5442], [0.058549847453832626, 59, 4298], [0.0562167651951313, 65, 7472], [0.0562017485499382, 67, 3978], [0.05534256622195244, 543, 1828], [0.054038744419813156, 10, 7103], [0.0536908283829689, 10, 8474], [0.05308748409152031, 30, 4740], [0.05257134884595871, 40, 4994], [0.05253853276371956, 17, 9918], [0.05174088478088379, 72, 1740], [0.051621172577142715, 87, 5635], [0.05156957358121872, 599, 9966], [0.05074009299278259, 93, 7669], [0.0493280254304409, 40, 2275], [0.049133941531181335, 58, 6399], [0.04851507395505905, 67, 9982], [0.048499759286642075, 9, 3140], [0.04824218526482582, 292, 2824], [0.047823574393987656, 92, 8959], [0.04499884322285652, 800, 186], [0.04429231956601143, 63, 8664], [0.04425891116261482, 2, 2276], [0.04408649355173111, 719, 3646], [0.04219479486346245, 63, 5870], [0.04206559807062149, 91, 4187], [0.04190162569284439, 5, 5835], [0.040912993252277374, 17, 258], [0.04041776806116104, 24, 4932], [0.040175944566726685, 50, 3823], [0.040021736174821854, 4, 1595], [0.03944939747452736, 107, 3768], [0.039169792085886, 68, 6498], [0.03907632827758789, 5, 938], [0.038954272866249084, 39, 6704], [0.038912877440452576, 12, 6276], [0.03830966353416443, 28, 3363], [0.038114190101623535, 91, 3882], [0.03761913999915123, 228, 5665], [0.03745418041944504, 98, 1605], [0.03613315150141716, 7, 4342], [0.03542923182249069, 4, 2014], [0.03523988649249077, 196, 2280], [0.034830838441848755, 44, 8489], [0.03450237587094307, 591, 5986], [0.033324047923088074, 2, 8854], [0.033287663012742996, 141, 7509], [0.033182185143232346, 31, 4208], [0.03276868909597397, 12, 4166], [0.03262504190206528, 2, 3889], [0.032624151557683945, 69, 7975], [0.032523758709430695, 11, 2012], [0.03144355118274689, 41, 203], [0.030456896871328354, 7, 419], [0.029153168201446533, 7, 6343], [0.028306029736995697, 30, 4553], [0.0282029639929533, 9, 2668], [0.02768743969500065, 4, 3], [0.0275516826659441, 31, 5515], [0.027498779818415642, 20, 5717], [0.027404984459280968, 3, 4560], [0.02581336908042431, 49, 580], [0.025736089795827866, 22, 5436], [0.025582654401659966, 72, 5643], [0.02466498874127865, 24, 5701], [0.02409682609140873, 9, 3317], [0.023982184007763863, 95, 7545], [0.02313743159174919, 24, 8718], [0.02291538007557392, 16, 6340], [0.02288731187582016, 7, 2125], [0.022234972566366196, 4, 8251], [0.02209552936255932, 52, 1262], [0.022023409605026245, 305, 6647], [0.02185487002134323, 176, 3306], [0.02146020159125328, 357, 1755], [0.021067112684249878, 33, 9347], [0.019947679713368416, 52, 6536], [0.01915048435330391, 135, 287], [0.01914532668888569, 232, 4104], [0.01846945844590664, 95, 527], [0.01823769509792328, 238, 1708], [0.017079303041100502, 10, 7359], [0.016753917559981346, 64, 7678], [0.01639464497566223, 10, 9730], [0.016363605856895447, 36, 2514], [0.016214486211538315, 18, 1021], [0.016055896878242493, 76, 1010], [0.01573873870074749, 13, 4870], [0.015315485186874866, 145, 4267], [0.015046430751681328, 37, 2950], [0.014704516157507896, 58, 2482], [0.014198383316397667, 290, 5836], [0.013863272964954376, 13, 8657], [0.013253390789031982, 117, 9299], [0.01307680644094944, 107, 1994], [0.011988040991127491, 7, 1118], [0.011800176464021206, 44, 3433], [0.011741197668015957, 23, 3974], [0.010770467109978199, 37, 2044], [0.010695522651076317, 9, 5153], [0.010602971538901329, 3, 5786], [0.010557525791227818, 57, 9752], [0.00974059384316206, 3, 3885], [0.008708259090781212, 3, 7148], [0.008460861630737782, 16, 9525], [0.00796598196029663, 10, 1492], [0.007654132321476936, 41, 8713], [0.00763617642223835, 69, 2769], [0.007434160448610783, 14, 4172], [0.007153082638978958, 2, 834], [0.007092248648405075, 321, 3892], [0.006935351528227329, 20, 8330], [0.006934172008186579, 10, 4824], [0.006186544895172119, 28, 1153], [0.0060265096835792065, 35, 1757], [0.005644750315696001, 177, 4384], [0.005443813279271126, 74, 8884], [0.0038058471400290728, 122, 5847], [0.0031845965422689915, 3, 9256], [0.002852796809747815, 109, 6851], [0.002071383874863386, 118, 4273], [0.0019856817089021206, 29, 7299], [0.0018726111156865954, 71, 1650], [0.001858326024375856, 61, 4315], [0.0018256735056638718, 13, 8270], [0.0016620646929368377, 48, 4657], [0.0015191877027973533, 19, 6582], [0.0015150364488363266, 360, 8385], [0.0014535069931298494, 17, 3819], [0.001323013100773096, 92, 5303], [0.001158123486675322, 4, 9168], [0.0011324561201035976, 15, 8039], [0.0006057205609977245, 319, 3856], [0.00040740895201452076, 63, 3127], [0.00021225318778306246, 17, 1165], [-0.0, 367, 898], [-0.0, 62, 1418], [-0.0, 87, 2190], [-0.0, 185, 2820], [-0.0, 208, 2831], [-0.0, 233, 3850], [-0.0, 121, 3975], [-0.0, 162, 4190], [-0.0, 65, 4323], [-0.0, 28, 4764], [-0.0, 30, 5281], [-0.0, 88, 6394], [-0.0, 8, 6417], [-0.0, 131, 6451], [-0.0, 68, 7094], [-0.0, 159, 7251], [-0.0, 179, 7376], [-0.0, 23, 8325], [-0.0, 473, 8338], [-0.0, 9, 8516], [-0.0, 51, 8722], [-0.0, 7, 8928], [-0.0, 24, 9352], [-0.0, 166, 9731], [-0.0, 165, 9795], [-1.4971132600294368e-07, 108, 3906], [-1.5040163248158933e-07, 717, 6823], [-1.5050260060434084e-07, 16, 3866], [-1.520123475984292e-07, 137, 2853], [-2.9442546178870543e-07, 35, 8787], [-4.3669308524840744e-07, 67, 312], [-4.37357698501728e-07, 73, 3200], [-4.3901326307604904e-07, 7, 1493], [-7.193151532192132e-07, 364, 8050], [-8.562564630665292e-07, 460, 8620], [-9.95047003016225e-07, 157, 6124], [-1.407823447152623e-06, 535, 6146], [-1.4082550023886142e-06, 65, 5248], [-1.5415506595672923e-06, 984, 5887], [-1.6767296528996667e-06, 222, 1175], [-1.6786138985480648e-06, 9, 7064], [-2.0811144167964812e-06, 96, 307], [-2.215182803411153e-06, 68, 7618], [-2.8771321467502275e-06, 43, 8063], [-3.012706883964711e-06, 37, 6418], [-3.272565209044842e-06, 16, 5006], [-4.191208063275553e-06, 186, 7012], [-4.836751031689346e-06, 829, 5101], [-4.966962023900123e-06, 70, 4057], [-6.892436431371607e-06, 232, 4177], [-7.907617145974655e-06, 2, 1714], [-8.038456144277006e-06, 86, 4530], [-8.41602923173923e-06, 99, 5508], [-9.80048662313493e-06, 406, 4446], [-1.204934869747376e-05, 7, 9215], [-1.254514791071415e-05, 47, 7776], [-1.2791997505701147e-05, 237, 8306], [-1.291300304728793e-05, 30, 9362], [-1.3409156053967308e-05, 30, 8587], [-1.6485393643961288e-05, 72, 8452], [-1.7829153875936754e-05, 34, 3671], [-1.8926215489045717e-05, 12, 6686], [-2.1471349100465886e-05, 35, 4803], [-2.291678720212076e-05, 71, 9495], [-2.447898077662103e-05, 158, 9157], [-2.4479579224134795e-05, 113, 3630], [-2.8306640160735697e-05, 159, 7486], [-2.8423160983948037e-05, 53, 3482], [-3.2934185583144426e-05, 7, 1775], [-3.482033935142681e-05, 41, 6486], [-3.4939730539917946e-05, 12, 1179], [-3.505483255139552e-05, 50, 7111], [-3.939888483728282e-05, 42, 4319], [-4.662106584873982e-05, 58, 2283], [-4.720476135844365e-05, 44, 2886], [-4.9283175030723214e-05, 84, 9872], [-5.3782812756253406e-05, 56, 4701], [-5.4816457122797146e-05, 504, 5217], [-6.191849388414994e-05, 10, 1027], [-6.57879572827369e-05, 927, 243], [-6.908481009304523e-05, 24, 948], [-7.24818164599128e-05, 957, 5961], [-7.361169991781935e-05, 34, 4004], [-7.890692359069362e-05, 42, 1550], [-9.033388050738722e-05, 73, 658], [-9.923628385877237e-05, 29, 9599], [-0.00010377695434726775, 3, 3692], [-0.00010532654414419085, 21, 6909], [-0.00010808560182340443, 12, 1123], [-0.00012072755635017529, 62, 9637], [-0.00013067462714388967, 7, 668], [-0.00013067462714388967, 7, 2506], [-0.00013067462714388967, 7, 4105], [-0.00013067462714388967, 7, 4173], [-0.00013067462714388967, 7, 6094], [-0.00013078491610940546, 15, 8653], [-0.0001405722287017852, 1010, 6225], [-0.00014306818775366992, 113, 3735], [-0.0001469638227717951, 890, 7847], [-0.0001593755150679499, 112, 1256], [-0.0001857079769251868, 856, 5867], [-0.00021094037219882011, 945, 2544], [-0.000212209444725886, 328, 9685], [-0.00021864021255169064, 13, 5386], [-0.0002226375654572621, 48, 6321], [-0.00022495072335004807, 38, 1770], [-0.00022851937683299184, 47, 8879], [-0.00026911721215583384, 67, 8192], [-0.0002698429743759334, 28, 7699], [-0.000275539729045704, 603, 3634], [-0.00028753766673617065, 778, 946], [-0.00029073553741909564, 62, 6014], [-0.0002975435054395348, 39, 7851], [-0.000301557854982093, 645, 4149], [-0.0003027926431968808, 684, 569], [-0.00030412909109145403, 69, 330], [-0.0003087517980020493, 27, 3827], [-0.00031234967173077166, 110, 7099], [-0.00031594090978614986, 880, 6408], [-0.00031942283385433257, 68, 4118], [-0.0003228018176741898, 815, 5017], [-0.00033537839772179723, 865, 2086], [-0.0003418057458475232, 616, 5121], [-0.00036234623985365033, 97, 3992], [-0.0003696497587952763, 878, 512], [-0.0003714727936312556, 37, 930], [-0.00039169134106487036, 63, 5794], [-0.0003919919836334884, 86, 1359], [-0.0003984420036431402, 6, 630], [-0.0004228640755172819, 661, 5737], [-0.00043618856579996645, 629, 6673], [-0.0004557533538900316, 827, 8154], [-0.0004665118467528373, 23, 4894], [-0.000502417387906462, 83, 9427], [-0.000530049845110625, 1009, 2036], [-0.0005530541529878974, 813, 8377], [-0.0005614834954030812, 17, 708], [-0.0005662883631885052, 860, 6294], [-0.0005790066788904369, 720, 8049], [-0.0005915063084103167, 827, 2401], [-0.0005993071827106178, 3, 8178], [-0.0006001872825436294, 831, 6407], [-0.0006435239920392632, 15, 3003], [-0.0006489445804618299, 13, 6485], [-0.0006516579305753112, 19, 2234], [-0.0006749426829628646, 52, 9768], [-0.0006784169818274677, 67, 2911], [-0.0006998959579505026, 118, 1666], [-0.0007112378953024745, 726, 5543], [-0.0007298511918634176, 834, 6632], [-0.0007713530212640762, 2, 9279], [-0.0007957278285175562, 644, 1915], [-0.0008455211645923555, 1, 5114], [-0.0008582834270782769, 827, 1763], [-0.0008761223289184272, 46, 9863], [-0.0009071846725419164, 827, 3680], [-0.0009236234473064542, 35, 181], [-0.000925782136619091, 718, 9658], [-0.0009458361309953034, 867, 7304], [-0.0009493921534158289, 28, 7751], [-0.0009761263499967754, 13, 1490], [-0.0009982334449887276, 3, 1742], [-0.0010126613778993487, 341, 1079], [-0.0010356190614402294, 71, 2539], [-0.001052692299708724, 215, 1485], [-0.0011008838191628456, 744, 5766], [-0.0011096505913883448, 906, 8930], [-0.001129554002545774, 21, 6994], [-0.001131671480834484, 691, 5123], [-0.0011748644756153226, 515, 8149], [-0.0012756431242451072, 61, 5620], [-0.0013863855274394155, 102, 7076], [-0.001454264740459621, 793, 8079], [-0.001472935313358903, 965, 446], [-0.0014968662289902568, 645, 4903], [-0.0015559479361400008, 255, 3448], [-0.0015696824993938208, 953, 2441], [-0.0015958549920469522, 6, 2599], [-0.001601732219569385, 14, 1506], [-0.0016889050602912903, 823, 5596], [-0.0016905920347198844, 7, 3257], [-0.0017252180259674788, 4, 549], [-0.001778524019755423, 25, 5287], [-0.0018385793082416058, 481, 5379], [-0.0019100410863757133, 37, 2334], [-0.0019570356234908104, 13, 3284], [-0.0020109331235289574, 699, 6844], [-0.002011889358982444, 823, 586], [-0.0020483063999563456, 72, 8908], [-0.002095721662044525, 21, 741], [-0.0021180876065045595, 817, 4469], [-0.0021661901846528053, 823, 5731], [-0.002207214245572686, 44, 1397], [-0.0022341771982610226, 54, 7826], [-0.0024066672194749117, 817, 4517], [-0.002609128365293145, 817, 9994], [-0.002679908648133278, 627, 8866], [-0.002679986646398902, 534, 7705], [-0.002693930407986045, 963, 3807], [-0.002826566342264414, 18, 6904], [-0.0028752770740538836, 30, 3926], [-0.0028885225765407085, 19, 5860], [-0.0029491535387933254, 19, 5143], [-0.002951726084575057, 8, 4066], [-0.002991148503497243, 65, 8973], [-0.00312166940420866, 817, 1809], [-0.00312224798835814, 1, 3186], [-0.0031232384499162436, 3, 9625], [-0.0033662784844636917, 817, 3157], [-0.003406788455322385, 809, 6537], [-0.003487872891128063, 645, 3862], [-0.0036141949240118265, 811, 6125], [-0.0037489873357117176, 38, 4484], [-0.003757285885512829, 811, 3256], [-0.0040756394155323505, 811, 7742], [-0.004321495071053505, 948, 7623], [-0.004493230488151312, 1, 4377], [-0.004613599739968777, 52, 5169], [-0.0049336752854287624, 775, 3012], [-0.00524339871481061, 423, 8060], [-0.005248097702860832, 782, 8456], [-0.005572620779275894, 41, 8291], [-0.0055822450667619705, 678, 3625], [-0.005826728418469429, 58, 1248], [-0.006132259964942932, 779, 1576], [-0.006264968309551477, 782, 7001], [-0.006275774911046028, 782, 4703], [-0.006339958403259516, 635, 975], [-0.0065327719785273075, 724, 2224], [-0.006750619970262051, 777, 5645], [-0.007053871639072895, 786, 843], [-0.009671461768448353, 719, 1156], [-0.010658585466444492, 741, 9194]]\n",
      "['Linda & Richard Eyre: A big reason for not giving up on marriage\\n\\nAll marriages go through their ups and downs, and we have become convinced that staying married and strengthening a marriage over time are often a matter of realizing just how high the stakes are and being committed enough that we fight our way through the tough times with never even the thought of giving up or throwing in the towel.\\n\\nStaying married and strengthening a marriage over time are often a matter of realizing just how high the stakes are and being committed enough that we fight our way through the tough times.\\n\\nWe are continuing our focus on the topic of marriage this week because of large marriage seminars we have keynoted last week and this week and next week in Phoenix, Ogden and Minneapolis.\\n\\nAll marriages go through their ups and downs, and we have become convinced that staying married and strengthening a marriage over time are often a matter of realizing just how high the stakes are and being committed enough that we fight our way through the tough times with never even the thought of giving up or throwing in the towel.\\n\\nAnd for those of us in The Church of Jesus Christ of Latter-day Saints, particularly those with temple marriages, the stakes are almost unimaginably high. Let us try a metaphor on you that may be helpful in grasping how much is at stake and in giving us all the long-range perspective that may get us through the rough patches that every marriage experiences.\\n\\nImagine that you have started a business. Imagine that you put everything you had into the new company, all your money and all your borrowing power, and committed yourself to make that business work.\\n\\nThere were some good years and some bad years, but now you have had the company for some time, and in some ways you are getting a little tired of it.\\n\\nAnd there are problems. You get audited by the IRS and have to pay some back taxes that you can’t afford. One of your employees has been embezzling from you and it is putting a strain on everything. And sometimes you feel that you don’t even really like the product you are producing and find the day-to-day process of running the business somewhat tiring and even boring.\\n\\nYou keep reminding yourself how much you have invested in the company — both in money and in time, and so you keep at it, slogging away and doing your best. But it just seems like things aren’t getting any easier, and more and more often you have the feeling that you should just get out — sell the company and start over. Maybe you could build a better business the next time around, one you would enjoy more and that produced a better product.\\n\\nBut then something happens. You have a vision one day of what the company could be worth if you held on to it and kept it going. This little epiphany overwhelms you and you fully and deeply believe that if you persevere and give it your all, the company will one day be worth not $1 million, not $100 million, not $1 billion, but $100 billion.\\n\\nNow, armed not only with the motivation of all that you have put into the business, but also the motivation of the unimaginable amount that it will one day be worth, you deepen your commitment and give all you have to making it succeed.\\n\\nThe business, of course, is metaphorical for our marriages and for all we put into them, and for the problems and doubts and challenges we feel, and for the tendencies we sometimes have to feel like giving up or starting over with someone else, and for the inestimably huge worth that an eternal, celestial marriage will someday have.\\n\\nMay we all draw from both of those motivations and make our marriage commitments absolutely firm and maximize and prioritize our constant efforts to strengthen and improve this most important union of eternity.\\n\\nRichard and Linda Eyre are New York Times No. 1 best-selling authors who lecture throughout the world on family-related topics. Visit them at www.EyresFreeBooks.com or www.valuesparenting.com. Their latest Deseret e-book is “On the Homefront.\"\\n\\nPopular Comments\\n\\nFor when the DEAD rise, they will neither marry\\nnor be given in marriage. In this respect they will be like the angels in\\nheaven,(Mt 22:30\\nMore..\\n\\n9:53 a.m. Feb. 8, 2013\\n\\nTop comment\\n\\nElleJay\\n\\nSandy, UT\\n\\n1st - If you\\'re in an abusive relationship, GET OUT of it fast. 2nd -\\nDivorce is sometimes unavoidable. If you truly feel in your heart that you have\\ndone everything possible to make your marriage work, yet it continues to spiral\\ndownward, you\\nMore..', 'Category Archive\\n\\nThere are two main types of latex mattresses on the market: Talalay and Dunlop. In order to understand them, let’s talk go back and briefly discuss the history of latex. When it comes to mattresses, latex is one of the most interesting, sought after, studied and tested materials out there. And it’s got a rich (and sometimes dark) history that … Read More\\n\\nAt M&N Mattress, we are passionate about sleep. We understand the importance of a good night’s rest, and we want other people to feel the physical and mental benefits gained from proper sleep health. There are many factors that determine whether or not a person will rest well overnight. Things like how dark or quiet a room is, whether or … Read More\\n\\nIt’s difficult to keep up with all the technological advancements of the day. Whether that’s drones that make deliveries or a phone that can turn into a life raft (just kidding, but that would be cool), it sometimes feels like we are living in that future we dreamt of as kids. Some technological advancements have the ability to improve our … Read More\\n\\nReviews\\n\\nI initially looked at M& N to support the local economy. When I decided to buy I found the service to be excellent, the mattress good quality and at a good price. I had requested a full sized box spring however I found it made the whole bed too high with the wider mattress, I phoned the store and they came back the \"same day\" and replaced the box spring with a thinner one and there were no additional charges. Great shop, nice people, good quality products I would highly recommend.\\nThank you.\\n\\nTerence McFall\\n\\n20:17 23 Sep 16\\n\\nWe purchased two twin Natural XL Ironman beds in March with the help and guidance of the great staff at M and N Beds in Parksville. We noticed very soon after that our sleep patterns improved as did freedom from morning back aches. Yes, these beds cost somewhat more than many regular beds and that is because they are unlike many regular beds.\\nVery importantly is the after sales contact made by this Company to ensure your satisfaction with the beds. I have no hesitation in recommending M and N Beds\\nTerry M. Qualicum Beach\\n\\nMelanie Trudeau\\n\\n21:52 15 Oct 16\\n\\nGreat customer service! They were able to answer all my questions! We were there for an hour and the representative was very patient to help us decide which bed to purchase! Very happy with our nee bed! Thank you Sukh!\\n\\nJim Horncastle\\n\\n02:07 12 Oct 16\\n\\nSukh was very knowledgeable and helpful when were shopping for a mattress for our travel trailer (a challenge with my back issues). The follow up service was superb when we needed to exchange the mattress under the comfort exchange guarantee. In summary - friendly knowledgeable staff; excellent service; excellent after sales support.\\n\\nSunita Dhak\\n\\n17:28 01 Oct 16\\n\\nExcellent service\\n\\nJessie Kalsi\\n\\n01:52 28 Sep 16\\n\\nBest customer service I have ever received!!\\n\\nCharlene King\\n\\n02:54 20 Nov 16\\n\\nCustomer service was excellent and they went above and beyond our expectations!!!\\n\\nPauline Brown\\n\\n16:12 14 Sep 16\\n\\nI initially looked at M& N to support the local economy. When I decided to buy I found the service to be excellent, the mattress good quality and at a good price. I had requested a full sized box spring however I found it made the whole bed too high with the wider mattress, I phoned the store and they came back the \"same day\" and replaced the box spring with a thinner one and there were no additional charges. Great shop, nice people, good quality products I would highly recommend.\\nThank you.\\n\\nJim Horncastle\\n\\n02:07 12 Oct 16\\n\\nSukh was very knowledgeable and helpful when were shopping for a mattress for our travel trailer (a challenge with my back issues). The follow up service was superb when we needed to exchange the mattress under the comfort exchange guarantee. In summary - friendly knowledgeable staff; excellent service; excellent after sales support.\\n\\nMelanie Trudeau\\n\\n21:52 15 Oct 16\\n\\nGreat customer service! They were able to answer all my questions! We were there for an hour and the representative was very patient to help us decide which bed to purchase! Very happy with our nee bed! Thank you Sukh!\\n\\nTerence McFall\\n\\n20:17 23 Sep 16\\n\\nWe purchased two twin Natural XL Ironman beds in March with the help and guidance of the great staff at M and N Beds in Parksville. We noticed very soon after that our sleep patterns improved as did freedom from morning back aches. Yes, these beds cost somewhat more than many regular beds and that is because they are unlike many regular beds.\\nVery importantly is the after sales contact made by this Company to ensure your satisfaction with the beds. I have no hesitation in recommending M and N Beds\\nTerry M. Qualicum Beach\\n\\nCharlene King\\n\\n02:54 20 Nov 16\\n\\nCustomer service was excellent and they went above and beyond our expectations!!!\\n\\nSteve Weldon\\n\\n16:46 10 Dec 16\\n\\nThe Folks at M&N Mattress are extremely knowledgable in their area of expertise: Sleep & Mattresses.\\nAlthough I have known them quite some time through business, it wasn\\'t until I went to select my Ironman mattress in the store that I found out how truly deep their product and technical knowledge was. Also, the after purchase service was fantastic as well. The delivery was prompt and any questions I may have had were answered concisely.\\nThanks M&N, now I can rest easy!\\n\\nJessie Kalsi\\n\\n01:52 28 Sep 16\\n\\nBest customer service I have ever received!!\\n\\nJane Campbell\\n\\n23:50 06 Jan 17\\n\\nOur third purchase at M & N says it all. Friendly and professional, staff finds the right fit for your needs. Customer service is exceptional and to top it off, mattresses are made in Canada. Doesn\\'t get much better than that!\\n\\nCory Chapman\\n\\n18:29 07 Jan 17\\n\\nHave had our Ironman mattress for almost 5 years now and still love it. Staff, management and owners here were excellent to deal with and would highly recommend them. Thank you for the great service and comfy mattress.\\n\\nJohn World\\n\\n17:32 24 Nov 16\\n\\nGreat comfort and healthy choice!!\\n\\nAvery Chris\\n\\n17:25 10 Jan 17\\n\\nElaine Conway\\n\\n23:31 17 Dec 16\\n\\ngreat people so helpful to every income levels.\\n\\nJay Deleskie\\n\\n20:54 13 Jan 17\\n\\nMy wife and I both have chronic pain from arthritis to lower back injuries which make mobility difficult. Before we met the staff at M & N mattress we were unsure as to what was the best option to aid in our chronic pain injuries. They suggested an Ironman bed with adjustable positioning. These beds saved our lives as since we have gotten our new bed we have been more mobile and wake up not in pain because this is the most comfortable bed we have ever slept in. I am buying one for my parents because they also have similar injuries. This bed will heal you and is the best investment I have ever made hands down!!\\nCould not be happier with the service and the product! A must see if you want a better healthy life.\\n\\nSunita Dhak\\n\\n17:28 01 Oct 16\\n\\nExcellent service\\n\\nD M\\n\\n03:40 22 Jan 17\\n\\nAbove and beyond Service. I can definitely recommend them.\\n\\nkorinna leach\\n\\n02:13 20 Mar 17\\n\\nI have just moved to Vancouver Island sight unseen from Australia. With chronic back injuries that leave me often incapacitated with migraines and sciatica, I decided to invest in a good bed as well as a new life. I researched mattresses for months and phoned around to find the best deal from a local shop and finally found M&N Mattress Shop. I was impressed with the knowledge not only of the products but also the in depth understanding of my physical issues.This family run business gave me a great bed as well as sincere personal rapport. It is one of the most pleasant customer care experiences I have ever has and served as a nice welcome to me on this new adventure and new chapter in my life. And a great sleep is the bonus!\\n\\nJohn Lee\\n\\n23:54 22 Mar 17\\n\\nGreat store, great service, great products at great prices! I am a light sleeper who has had trouble getting a full nights sleep for years. Thanks to Sukh for finding my wife and I a solution that works for both of us and thanks to owners, Mark and Neelam for finding a way to accommodate our budget. We will be back!\\n\\nRicia Adair\\n\\n22:16 15 Apr 17\\n\\nI\\'m totally in love with my Ironman King Bed that I got from M & N Mattress in Parksville. First was going to get a Queen, but am so glad I upgraded to a King. I wake up back pain free feeling and feel so well rested. Thank you Mark and Neelam for the awesome customer service.\\n\\nRick Primus\\n\\n16:25 23 Apr 17\\n\\nVery friendly and knowledgable.\\nMattress is great. Haven\\'t slept so well in years.\\n\\nJeanette Ferguson\\n\\n20:10 30 May 17\\n\\nWe have dealt with M & N Mattress for 15 years, buying beds and furniture. We have found their prices to be good and they supply good quality. I had to deal with M & N very recently regarding a mattress that didn\\'t stand up well and they stood right behind me and worked towards me getting a new mattress. Their customer service and after sales service are the best in my experience. I would highly recommend them for their service, pricing and knowledge of product.\\n\\nvictoria gillott\\n\\n16:23 01 Jun 17\\n\\nI bought an iron man bed and have never slept better in my life! Would highly recommend to everyone from just wanting a new bed to having any pain this bed will fix everything!\\n\\nWendy Mortensen\\n\\n21:27 03 Jun 17\\n\\nThis will be the 3rd mattress set we have purchased. The quality and service are 2nd to none. We would highly recommend M&N Mattress\\n\\nJoanne Thomson\\n\\n00:43 04 Jun 17\\n\\nExcellent customer service. Sukh ensures you get what \"you \" want and need at the right price and ensures you\\'re happy with the product afterward.\\n\\nErin van Steen\\n\\n19:12 04 Jun 17\\n\\nservice was great, but the Ironman bed was even better, product was better then we anticipated. we are having great sleeps and it has helped with our back pain. Even bought a second one as my husband works out of town and couldnt get the same sleep without it.thanks M &N for helping us out. the vansteens\\n\\nsteve k\\n\\n20:46 05 Jun 17\\n\\nThe staff at M&N Mattress Shop are amazing. Very Knowledgeable about there product and the most amazing customer service i have ever seen and experienced. Sukh and Neelam make an amazing team at the store making sure everything is smooth sailing. I was very surprised how well they cater to your needs. As far as a great sleep i would highly recommend the ironman mattress it is a must for a great recovery and sleep.\\n\\nYvonne White\\n\\n15:30 07 Jun 17\\n\\nI would like to thank everyone at M&N Mattress for making my experience of finding the perfect bed so easy! I love my Ironman bed! I have never slept better. I truly believe it has helped my shoulder injury as I can now sleep on my side again. I have to also mention the ironman pillow. After buying so many different pillows I found this one. It is amazing! After a year it has never changed! I don\\'t think I\\'ll ever need to buy another! I know longer wake up with a headache feeling the need to fix my neck lol.\\nIt was really a great experience as delivery was the same day and they went above and beyond setting up my bed and taking away my old bed without any extra charges. Great customer service is sometimes hard to come by these days. Thank you everyone at M&N Mattress!\\nYvonne White\\n\\nMike Bourcier\\n\\n17:56 13 Jul 17\\n\\nThe fact that their \"IronMan\" bed has literally changed my sleeping life is enough to recommend them BUT, the attentive customer service you get at M&N Mattress goes well beyond the norm. Neelam and Mark are owners who are involved 100% and their staff reflects the professionalism they project. I name numerous friends in this community who are as impressed as I am.\\n\\nMichelle Pelletier\\n\\n18:16 13 Jul 17\\n\\nSleeping on my Ironman mattress has really improved my quality of life. I wake up refreshed and the arthritis and fibromyalgia pain I used to feel is mostly gone. I just wish I could take it with me when I travel. It is so great to come home to it. I recommend it to everyone, just think of how many hours you spend on your bed. Totally worth the money. I found the owners and staff to be friendly and they obviously know their product very well. Just go try it!!!\\n\\nAgeliki L.\\n\\n20:48 26 Jul 17\\n\\nThe M & N Mattress Shop consistently has given us the best customer service! With moving to a new city and having to purchase bedroom sets and mattresses for the whole family, they made things super easy with no stress. We received information on all their products by experienced and friendly staff and they assisted us in picking the best mattress for us. Both of us have spinal issues and along with their assistance we chose the right mattress. It has made a huge difference in the amount of pain we experience throughout the day. If we have any questions, we simply call them and they are always happy to help us. M & N Mattress Shop is DEFINITELY the BEST place on the island to get an expert opinion and the best mattress for a good nights rest!!!\\n\\nJoe Goode\\n\\n18:33 14 Aug 17\\n\\nWe were new to the Parksville area and in dire need of a new mattress, M & N Mattresses was an amazing pick. After reading a few reviews on Google I thought I would go see what they were about. I was fully educated on the mattress industry within 20 mins of being there and felt much more comfortable about my purchase (normally I shop around, to make sure I get the best bang for my buck). I was extremely impressed with the knowledge that was bestowed upon me and can\\'t wait for my free delivery! I saved a lot of money and am very excited to try our new bed. Thanks a ton guys!\\n\\nVicki Elsdon\\n\\n23:39 19 Sep 17\\n\\nWe were in need of a new bed. Suk asked us all the things we like in a mattress. Then he asked us if we had a medical issue that he needed to address. Once we informed him that I suffer from Fibromyalgia he let us try certain mattress\\' then let us try the one he would pick for me. He was so right!!!! He explained exactly what the mattress was manufactured of and why I was feeling the differences. After 4 nights sleeping on the new mattress I felt SO GOOD. My body is really happy we made this purchase :)\\nWe were NEVER pressured or rushed at all. It was an absolute delight and fun dealing with Suk.\\nThe pillows that we chose turned out to be too soft, true to their word when I returned 3 days later they exchanged them for the next firmer ones. Not hassles at all.\\nThe delivery was right on date. We have NEVER had such efficient, polite and knowledgeable young men deliver to us.\\nAll in all, we would recommend M&N Mattress Shop to our family and friends.\\nVicki\\n\\nValerie Hudson\\n\\n20:30 20 Sep 17\\n\\nWithout a doubt the best customer service I have ever experienced.\\nThe sales staff are knowledgeable professional and personable. I had just arrived in B.C and required a bed asap. My purchase was delivered by their delivery team who were on time and professional.\\nA week later I had to purchase a metal frame which was delivered and installed for me by one of the sales staff which was so appreciated as my mobility is currently compromised.\\nThen I needed a smaller box spring as the bed was too high. I called the owner and they made the delivery and exchanged my box spring on the same day as I had called. Amazing service !! I couldn\\'t be more satisfied and I highly recommend M & N Mattress Shop\\n\\nLynn Chwartacki\\n\\n00:20 24 Oct 17\\n\\nPersonalized service, every customer counts.\\nInterested in your sleep habits and physical health in order to properly assess your mattress requirements.\\nFinding the mattress which meets your needs is extremely important. I commend the staff on their knowledge and client driven approach.\\nThank you...\\n\\nGloved Up Promotions\\n\\n14:55 02 Nov 17\\n\\nI have dealt with M&N furniture for close to fifteen years now and I struggle to find the right words in describing such a helpful and community driven store. Mark and Neelam - and Sukh- have gone above and beyond their roles at the store to assist me and my family in much more than choosing the right mattress. When I was younger Mark offered me a job at a time in need, when I bought my first home Mark was quick to borrow me his truck, and now as I type, I am in possession of the M&N delivery truck as they helped, yet again, in a move to a new home. If you are anywhere from Campbell River to Duncan, and everywhere in between, you owe it to yourself to check out M&N mattress.\\n\\nAren Foster\\n\\n22:58 07 Nov 17\\n\\nWe recently purchased a cabinet bed at M & N Mattress. Sukh came to our house to take measurements and help select the finish colour. The delivery was prompt and efficient and we were shown how to set up and store the mattress in the cabinet by the helpful staff. As newcomers to the area we were pleased by the personal service and warm welcome we received.\\n\\nDonna Andres\\n\\n22:41 09 Nov 17\\n\\nWe purchased an Ironman Bed from Mark and no bed has compared to to. When I travel and sleep on other beds my back usually hurts. When I’m back in my own Ironman I feel refreshed and always have a good sleep. Mark has been wonderful. Thank you M & N Mattress. Definitely 5 star.\\n\\njulie towers\\n\\n15:39 15 Nov 17\\n\\nJust bought my 2nd mattress in a year from this amazing company. Plus a beautiful new bed frame. We absolutely love our new mattresses both in our RV and in our home. Great products, the service is over and above anything I have experienced, it puts the big box stores to shame. Delivery fast and efficient and everyone so friendly and accommodating. Thank you for such a positive shopping experience.\\n\\nDonna Jansonius\\n\\n21:04 16 Nov 17\\n\\nGreat service! After not picking up my paid for mattress for many months, I was worried they would not honour my purchase. That wasn\\'t the case at all! They quickly found my paperwork for my purchase and promptly ordered the mattress for me. Very impressed. M&N I\\'ll be a customer for life. ??\\n\\nKari-Lee Burnham\\n\\n20:43 04 Jan 18\\n\\nMark was very helpful. He found a good match in our budget and the mattress was delivered the next day. Its been just over a week and hubby and i are sleeping great. We will be back for our future mattress purchases.\\n\\nGWT SLT\\n\\n22:35 05 Jan 18\\n\\nHighly recommend the M&M Mattress Shop - the staff is welcoming, very knowledgeable and the prices are extremely reasonable. We have recently purchase three beds for our new home and are very happy to have shopped locally . Delivery personnel are also very efficient and respectful in every way.\\n\\nAmanda Hatcher\\n\\n00:45 10 Jan 18\\n\\nFrom the moment I walked in the store to saying our goodbyes, I found the staff very friendly. I enjoyed my shopping experience and appreciated all that was offered. They went above and beyond my expectations. Thank you!\\n\\nElisabeth Smith\\n\\n15:48 03 Feb 18\\n\\nExcellent product and service. We purchased the Cabinet Bed, and it is comfortable and very easy to set up and take down. Thank you M & N Mattress Shop!\\n\\nKatie Classen\\n\\n21:46 19 Mar 18\\n\\nWe purchased a dresser from M&N Mattress recently and are extremely happy with it. The quality is great but it is the customer service that really stood out. The purchase was easy and the men that delivered it were exceptional. They made sure we were happy with the product before they left and made it very clear that they were only a phone call away if we noticed any problems. That was such a refreshing change from most that run as soon as they have your money. We will definitely be doing more business with this store.\\n\\nLynda de Fouw\\n\\n18:17 27 Mar 18\\n\\nWe recently bought a NEWGEN mattress from M&N Mattress in Parksville BC. The staff were fantastic, very friendly and extremely knowledgeable, even the delivery men were super great. The mattress is the best sleep we have ever had. I recently had shoulder surgery and found that I am not tossing and turning, but actually sleeping through the night. My partner as well has had no back, hip, or shoulder pain. Excellent all the way around. We highly recommend this establishment and the bed... Great job M&N Mattress\\n\\nLaura Healey\\n\\n03:15 04 Apr 18\\n\\nWow, this purchase was one of the final items to arrive in my new home. The service from the sales, to delivery to management was awesome. I work in the service sector and they impressed me. The delivery guys took the time to explain set up and how to use it. It was refreshing to purchase from a company that truly cares! Follow up call was a nice touch. Impressed\\n\\nAlbert Delos-Angeles\\n\\n00:31 05 Apr 18\\n\\nThe staff were amazing and knowledgeable about the products they sell. I’m very happy with the customer service they have provided me. I purchased a Ironman 3.0 and the mattress was a little to firm for my liking. I’m so glad about their 366 night comfort exchange guarantee. I came in and informed them about my mattress and they exchange my mattress for another one with no hassle. They delivered and picked up my other mattress free of charge. Absolutely blown away with the service they provide. Thank you so so much! I will highly recommend you to everyone who needs a mattress.\\n\\nlouise brandt\\n\\n20:51 12 Apr 18\\n\\nThese people at M&N are very professional to do business with, I had very good information about purchasing a mattress to suit me. The warranty is excellent, and they make ever effort to please . My mattress I purchase was to firm for me, so after trying it for a few night they replaced it with a softer mattress, no problems to do that, , the young fellows that delivered my mattress were very good, pleasant,and polite, I recommend anyone wanting a new mattress to go see these people, I am a very happy customer. Thanks M&N mattress-Parksville, Vancouver Island.\\n\\nDerek Simnett\\n\\n20:43 26 Apr 18\\n\\nThis is the place to get your new mattress! We received our IronMan Mattress two weeks ago and my partner and I have never slept better. Mark is knowledgable, professional and knew exactly what kind of mattress would work for our needs. The delivery team was great,and we even received a call a few days later asking how we were sleeping. We can\\'t recommend M&N Mattress shop enough. They truly go above and beyond and really care for their customers.\\n\\nNatalie Zavaglia\\n\\n20:12 14 May 18\\n\\nBest mattress ever. We have two. Service is really good. I just acquired a king size pillow from them and so far so good. I\\'ll be back for a couple more pillows. Lol. We have a queen size and a king size mattress. Both are different in their firmness and both are great. Definitely the only mattress we will ever have.\\n\\nJohn Anderson\\n\\n05:35 22 Jun 18\\n\\nWe were originally looking for a “Murphy bed” and discovered M & N Mattress by chance. The bed we purchased folds into a cabinet which looks like a large dresser. It unfolds into a double bed with a high quality foam mattress which competes with our deluxe king size bed for comfort. We were most impressed by the build quality and that these beds are made in Canada. When the bed was delivered, the two gentlemen who set it up went over the procedure for unfolding and returning the mattress to the cabinet. Very professional and courteous. I’d recommend this local business and their products to anyone looking for a space-saving bed.\\n\\nCindy Shantz\\n\\n15:28 01 Jul 18\\n\\nWe recently bought a NewGen mattress and a cabinet bed because we were so impressed with the knowledge of the staff. Our mattress is very comfortable and the cabinet bed looks great in the guest room. (No one has slept on it yet, but I assume it will also be comfortable.) The two men who delivered the mattress and the cabinet bed were polite, informative and efficient. M & N Mattress has outstanding service and that is one of the reasons we decided to deal with them. We have no doubt that if we encounter any problems in the future that they will be dealt with, although we certainly don\\'t anticipate any problems!\\n\\nKathy Karlsen\\n\\n23:13 14 Jul 18\\n\\nI have purchased a few mattresses over the years and M & N is without a doubt, the best place to get assistance and guidance on making that purchase. I would be hard pressed to go anywhere else, as the customer service and product quality is by far the best. They have always exceeded my expectations.\\n\\nJim Steeves\\n\\n21:51 20 Jul 18\\n\\nIn store service was excellent, the delivery team was on time and courteous. The bed and the pillows have provided the best sleep in years.\\nYou guys provided all of the information required for us to buy the best bed we could. Thank you\\n\\nRamy Gerber\\n\\n05:29 31 Jul 18\\n\\nWonderful experiences both at the shop buying the cabinet bed and when it was delivery. The cabinet bed allows us to have another guest room with usable space when we need it. The staff was helpful and attentive to answering our questions. The delivery people were polite, hardworking, and helpful as well. Highly recommend this Mattress Shop.\\n\\nJordan Woods\\n\\n01:19 10 Aug 18\\n\\nI would highly recommend the wonderful, helpful, friendly service at the M&M furniture store in Parksville. From the owners to the employees, all the staff are so kind. it does not matter what age you are younger or older, they are so willing and helpful.\\n\\nKaren Taylor\\n\\n20:37 24 Aug 18\\n\\nM & N were very welcoming! They took their time listening to my specific needs and offered me their professional opinions and solutions.\\nI would definitely go back! Thank you.\\n\\nAJ Ewart\\n\\n05:43 01 Sep 18\\n\\nThe original telephone contact gave me confidence as Sukh explained various concerns a first-time cabinet bed buyer may have. He suggested I visit the local outlet to better prepare before my decision!\\nThe help locally was invaluable...such a team they are despite the miles between their stores. Within 7 hours I had seen the ideal unit for my new home and it is on order to be delivered the day of my move-in.\\nSeldom in my life have I been given such caring, no-pressure information to assist me with a big purchase. Thank you, M&N Mattress, Parksville, BC.\\n\\nDiane Long\\n\\n15:03 03 Sep 18\\n\\nI purchased a Nex Gen mattress a few weeks ago and couldn’t be more impressed. The staff were so helpful and so informative, taking the time to let me try the range of mattresses. Within nights of sleeping on my new mattress I was able to cut my pain meds in half and now most nights are pain free. I also bought the adjustable base which allows me to get in just the right position to alleviate the pressure on my lower back. Works great for decreasing snoring and reflux too which have been issues, not to mention I’ve never been more comfortable reading in bed. Well worth the money. Only wish I’d purchased it a few years ago.\\n\\npremi sandhu\\n\\n18:29 12 Sep 18\\n\\nWhat an amazing experience! I had no idea so much went into mattresses. The staff are very knowledgeable and know exactly what goes into a good night sleep, and they defiantly know there product. I would highly recommend anyone in the market looking for a new mattress to visit M & N! these guys are awesome!\\n\\nLorie Heshka\\n\\n20:01 13 Sep 18\\n\\nSukh was so welcoming and gave us such great information that I am extremely happy with my new mattress and pillow. He treated my grandchildren so nicely also!! I will definitely go back to M&N when I need more for sleep comfort!\\n\\nPatricia Allaby\\n\\n01:12 02 Oct 18\\n\\nWe just moved to the Island. We met Suhke at the homeshow and bought a mattress. We are very happy with the bed and the service. We received it the day after we went to the store. It’s super comfortable. The delivery was prompt and they took away our old mattress. I would recommend M & N Mattress Shop.\\n\\nCraig Gooding\\n\\n03:32 02 Oct 18\\n\\nWe Have done business together for over 10 years, and it has always been a great experience. I am a builder of quality homes, and I always recommend them to my clients for bedding and furniture. Good people, good business.\\n\\nEowyn Christensen\\n\\n20:52 02 Oct 18\\n\\nI came across M&N Mattress Shop by chance and I happened to be in the market for a new bed. The staff are knowledgeable and very friendly. The whole experience was positive from the showroom to my room.\\nThanks M&N!\\n\\nJustin Johal\\n\\n06:38 11 Oct 18\\n\\nI have enjoyed my new mattresses for several days now and I am satisfied with my purchase. I chose M & N Mattress Shop because they have some of the best mattress material for comfort, durability and overall value. I am pleased with not just the mattress but the personal service they provided especially with the care they took with the delivery process. I would recommend M & N Mattress Shop products and services to anyone. Thanks.\\n\\nrcf\\n\\n18:36 21 Oct 18\\n\\nWhat great service. I had already mentioned this shop to a friend looking for a new bed. They had what she needed and delivered the next day. She\\'s very happy with the bed and the whole experience. Then I found myself with a broken wheel on my bed frame. The shop went through their parts and found a suitable replacement. No charge. You can\\'t get much better than that. The new wheel fit perfectly. I\\'ll definitely be back when a new bed is needed and will continue to recommend this shop.\\n\\nKane S\\n\\n19:45 17 Nov 18\\n\\nWonderful service from all staff at this local BC business. Delivered and setup right on time. Very courteous and helpful and removed our old mattress. We\\'ve had the mattress Ironman \"Radiance Series\" King-size for a week now, so comfortable one wishes to not get out of bed! Our only regret is that we put up for so long with sleeping on our old mattress and didn\\'t do this sooner! Thanks again.\\n\\nDes Moran\\n\\n00:55 19 Nov 18\\n\\nWe are very pleased and impressed with the service we receive. We have dealt with this business before and certainly will do so in the future. We recommend them highly!\\n\\nCA Aube\\n\\n21:03 20 Nov 18\\n\\nI purchased a cabinet bed. The quality of the piece is very good. Solid wood and the colour of the stain was what I expected. The mattress that came with it is a bit firm but it\\'s higher quality mattress. Unit is well made, safety features like the latches on the inside add to the quality. It does need to \"off gas\". Delivered before promised - Excellent delivery service - on time, efficient.\\n\\nSteve Taylor\\n\\n18:04 01 Dec 18\\n\\nStellar products and even better service. A wonderful experience all round. This is the kind of place where they \"go the extra mile\" to make sure you are happy.\\n\\nRick Branger\\n\\n14:43 05 Dec 18\\n\\nWe bought a NewGen split king from M&N. This bed is great! Everyone in the store was friendly and helpful. We received an incredible amount of information on the structure and manufacturing of the mattress. You sure can\\'t beat their warranty AND they\\'re local!\\nThe delivery guys were very efficient and helpful, They made sure we understood the controls before they left, and took the old mattress and frame away. One less thing for me to do!\\nKeep up the good work!!!\\n.\\n\\nTammy Exner\\n\\n18:38 11 Dec 18\\n\\nLove to shop local! Great experience at M&N Mattress - easy, fast, good service and low price. Had just what I was looking for and could deliver it in a few days. My first time shopping here. I\\'ll be back.\\n\\nKimberly Anne Thompson\\n\\n19:55 13 Dec 18\\n\\nExcellent customer service and excellent mattresses! I have been an M & N customer for just about 2 years now and I have had only positive experiences shopping with them! If you\\'re lucky, you sleep a third of your life... so it might as well be on an amazing mattress that makes for a great sleep! I am a Massage Practitioner and truly believe that getting a good sleep on a good mattress is very important and makes for good days and a happy, healthy life :)\\n\\nBj Porter\\n\\n16:30 25 Dec 16\\n\\nWe purchased an IronBed 3 years ago from M&N Mattress Shop ,received great service from knowledgeable staff that helped us understand why their mattress was the right choice for us. After just one night of perfect uninterrupted sleep I was hooked , no morning back stiffness , refreshed and ready for each day . 3 years later my mattress is still in perfect shape , no lumps , no indentations and each night I look forward to another amazing sleep and expect to for another 20 years. If you are considering one of these beds you will not be disappointed.\\n\\nelaine strome\\n\\n19:23 10 Mar 18\\n\\nJust purchased a cabinet bed. My space is limited and its always nice to have room for guests. The cabinet makes a nice piece of furniture as well. The delivery guys showed me how it works and were courteous and clean.\\n\\nPatty Matranga\\n\\n20:58 13 Apr 18\\n\\nI recently had the pleasure of visiting M&N Mattress Shop and trying out an ironman mattress. The owner, Mark was very helpful. I left the store with a latex pillow. The pillow provides firm support and is the most comfortable pillow i have ever used. The next time I need a new mattress, I know who i will be contacting. Thanks again Mark.', \"POWER tycoon Paul Massara sparked an outrage after claiming energy bills are sky-high because British households waste energy.\\n\\nTHE £600,000-a-year boss of energy giants npower was condemned by hard-up families last night after saying they were to blame for sky-high bills.\\n\\nChief executive Paul Massara, whose company’s average 10.4 per cent winter price hike was the highest of the Big Six suppliers, sparked a storm of outrage when he claimed: “Bills are high because British homes waste so much energy.”\\n\\nAnd instead of apologising to customers for the rises, the millionaire with a three-storey 16th century mansion said ordinary households had to do more to cut costs.\\n\\nScots mum-of-one Alison Lindsay, 35, said Massara was “seriously out of touch”. And the civil servant from East Kilbride said she and husband Mark, 41, already do all they can to keep their astronomical bills down.\\n\\nAlison, who has an 18-month-old son, Jake, said of Massara: “We can’t afford to be flippant with our money and I think he has been very flippant with his comments.\\n\\n“These people are obviously completely out of touch with people such as myself.\\n\\n“ I would love to know the last time they personally sat down and consulted single parents, young families and pensioners over their needs and struggles.\\n\\n“They are misguided and he has obviously lost touch with the average person, on an average salary with an average life.”\\n\\nDaily Record\\n\\nAlison Lindsay with son Jake\\n\\nPensioner Cathy Leach, 70, a retired postal worker from Glasgow, said: “Energy companies are dodging and diving, and once again trying to take the onus off them and all the fantastic perks they get.\\n\\n“How dare they treat people with such contempt when they are struggling?\\n\\n“I go around my house switching everything off in a panic, like most people do, because they know their bills are going to be sky-high.\\n\\n“For an energy boss to say people are being wasteful is absolute rubbish. What planet is he on? If I’m told to put another cardigan on or wear a woolly hat in my house, I’ll scream.”\\n\\nMark Todd, co-founder of energyhelpline.com, said: “For an energy supplier to blame customers for rocketing bills beggars belief. Suppliers have raised prices by 140 per cent in nine years while users have cut usage.\\n\\n“Typical gas usage is down 34 per cent and electricity usage by three per cent, in part because many customers can no longer afford to heat their homes.\\n\\n“To blame bill rises on wasteful customers is thus totally incorrect. It’s the suppliers who have put up the bills, not the customers.”\\n\\nMassara said: “The actual unit price of energy in the UK is one of the lowest in Europe, but bills are high because British homes waste so much energy.\\n\\n“If we can increase the efficiency of the UK’s old and draughty housing, we can ensure that annual energy bills are some of the lowest too.”\\n\\nAdam Sorenson\\n\\nThe lights are on at npower boss Paul Massara's house\\n\\nHis comments come less than a week after our sister paper the Daily Mirror revealed that a fatcat who helped npower’s owners avoid millions in tax is now on the board of HM Revenue and Customs – advising the taxman.\\n\\nFormer npower boss Volker Beckers ran a tax avoidance operation in Malta which meant the firm paid no UK corporation tax for four years while bills rose by 55 per cent.\\n\\nCaroline Flint MP, Labour’s Shadow Energy and Climate Change Secretary, said: “It’s hypocritical for energy companies like npower to blame households for ‘wasting’ energy and then lobby the Government to cut back on insulation schemes.\\n\\n“If npower really want to help, they could always use some of their profits to improve the energy efficiency of their customers’ homes.\\n\\n“If these companies want to win back customers’ trust they should admit they’ve been overcharging and back Labour’s price freeze, which will save money for 27million households and 2.4million businesses.”\\n\\nAnd Gary Smith, national secretary for energy at the GMB union, said: “Npower are in crisis. They’re sacking thousands of workers across the UK, offshoring other jobs and their credit rating is going down the pan. Yet this company seem to think it is fine to use customers as a scapegoat for their problems.\\n\\n“Some of the poorest people in this country live in private rented accommodation, yet there isn’t enough pressure on landlords to improve the energy efficiency of their homes.\\n\\n“But instead of trying to improve their lot, npower seem happy to blame them. They are a disgrace.”\\n\\nMassara’s “don’t blame us” message over rising bills has been touted repeatedly by his company.\\n\\nNpower have claimed more than half of Britain’s homes are wasting money by “allowing expensive heat to escape through walls and roofs”.\\n\\nThey said they controlled less than 20 per cent of customers’ bills, made “no hidden profits” and had a profit margin of 3.2 per cent in the first nine months of 2013.\\n\\nThey also complained that Government regulations on energy would add £308 to bills by 2020.\\n\\nTheir report, Energy Explained, was slammed by regulator Ofgem, who said it contained “incorrect and misleading” figures on the cost of the UK’s energy supply network.\\n\\nIn October, Massara claimed on the npower website that 84 per cent of the retail price of energy was “outside our control”.\\n\\nThe firm were then accused of censoring comments on the site from angry customers, one of whom told Massara he was “full of it”.\\n\\nNpower have increased gas prices by 39.6 per cent, and electricity prices by 34.3 per cent, since October 2010.\\n\\nThey announced a 2.6 per cent price cut this month after the Government reduced green levies on bills. They were the last of the Big Six to agree to pass on the cuts.\", '\"What\\'s Your Constituency?\"\\n\\nCommunity Grade\\n(13 Users)\\n\\nYour Grade\\n\\nWelcome back to the TV Club coverage of Top Chef, which marks the fourth straight season covered by yours truly. I have to confess upfront that I’m feeling some trepidation at the start here: Partly because I felt the quality and chemistry of the competitors on Season Six set the bar awfully high for future seasons, partly because I found myself checking out early on the second run of Top Chef Masters: Season Two (which Emily Withrow covered), and partly because the beginning of every season offers a daunting 17 contestants, the vast majority of whom don’t stand a chance of winning the thing. That means a good 10 weeks of waiting for wheat to be separated from chaff, and trying to summon up outrage over, say, the 9th best chef getting bounced before the 13th best chef.\\n\\nBut while the grind of the early episodes is inevitable—aided by a reality-show formula that certainly isn’t getting any fresher—Top Chef is usually fun in its particulars and Season Seven brings us one major reason for optimism: Eric Ripert, genial culinary superstar and frequent guest in past seasons, has replaced Toby Young as the permanent fourth judge. I’m sure there must be someone who will miss Young’s canned quips and facile observations—and I’ll definitely miss the simmering contempt on Tom’s face whenever Toby opened his mouth—but I think most will agree this is an upgrade. My one concern about Ripert may be the “genial” part: Toby was not afraid to be candid, sometimes to his detriment, and it would be a shame if Ripert became the Paula Abdul of the panel, given more to gentle advise than slash-and-burn critiques. I’ll reserve judgment, but based on tonight’s debut, Ripert at least revealed some sharp, specific insights into how various dish succeeded or failed and that may be enough to compensate for his lack of tartness.\\n\\nAfter the standard introduction atop a balcony with Congress as a backdrop, the D.C. Top Chef puts the popular mise en place Quickfire challenge front and center. Had everyone been asked to cook, we’d have gotten the usual mélange of dishes, with some overachievers underachieving and vice versa, and no real sense of who the contenders are this season. Granted, no challenge will tell us everything about how the season is going to shape up, but it stands to reason that those with refined knife skills are very likely to be refined in other areas. And lo, a pair of tough-talking, “alpha-male” types emerge as the persons to beat: Kenny, who zips through three of the four stages in first place (including breaking down four whole chickens at a rate of 10 seconds per), and Angelo, who ultimately wins the Quickfire (and $20,000) with his roasted wing & thigh, curry onion jam, and potato noodles.\\n\\nPlaying the role of hubristic culinary hotshot to the hilt, Angelo also emerges as the early villain of Season Seven, announcing his absurd ambition “to be the first contestant to win every single challenge” and likening his cooking to “an orchestra with flavors.” Still, I prefer brash, overconfident chefs who can cook to the brash, overconfident chefs who don’t know what they’re doing, and there’s the expected abundance of the latter early on. The Elimination challenge asks the chefs to divide into four groups and create individual dishes that most strongly represent where they’re from—all for the 300 or so partygoers (including The Bachelor from The Bachelor!) celebrating cherry blossom season. With the best and worst from each group up for victory and elimination, respectively, the two top Quickfire competitors, Angelo and Kenny, are given the advantage of choosing someone weak to square off against. Tactically, it’s only a minor edge, since nobody knows for sure how good or bad anyone else is yet; on a more personal level, it’s likely to cause friction between the Quickfire champs and the chefs they assume suck the most.\\n\\nSurprise, surprise, the chefs who make head-slappingly stupid decisions are punished for it later. You had to know Jacqueline was in trouble when she talked about her desire to prove that self-taught cooks who cater can win Top Chef. Then she opted to serve a non-fat (or very low-fat) chicken liver mousse, which evinced mystified “Why bother?” looks from the judges even before they discovered she hadn’t strained the dish to cut back on the unpleasantly grainy texture. She was fortunate that bandana-donning wild man John was around to do something even dumber: Cook dessert, which has been such an Achilles’ heel for contestants in the past that Top Chef has created a spin-off show strictly for pastry maestros. I don’t care what deliciousness is oozing out of trees in Michigan: Maple mousse on puff pastry sounds sickly sweet in the best of circumstances. Add to that a pre-formed pastry—which, as Gail notes, represents a full third of his three-component dish—and John was doomed for an early exit.\\n\\nAs for the winners, Angelo so far makes good on his goal to win every challenge, orchestrating a bite of arctic char (with, sigh, a bacon foam) that wows the judges, and there’s Kenny again playing bridesmaid with a nicely layered trout with a cinnamon coffee rub. Kevin, who had made the final four in the Quickfire, too, acquitted himself well enough to be in contention with his lamb sous vide. Of the four, I’m thinking Alex might emerge as a wild card possibility: Tom is usually quick to hate deconstructed anything, but Alex’s dubious-sounding short rib/borscht combination allayed even his doubts. Too early to tell how the gelatinous blob that is the beginning of all Top Chef seasons will shape up, but at least there’s some heat at the top.\\n\\nStray observations:\\n\\n• Because Bravo sends out the first episode of every season to critics, this review was posted right after airing. Won’t happen again. Future recaps will mostly likely be posted 90 minutes or so later.\\n\\n• “Everything I do will be outstanding” —Angelo, asking for it.\\n\\n• Proof that Kevin must be an excellent chef: His Jersey restaurant is called Rat’s, and it’s still in business.\\n\\n• As noted in one of last season’s posts, I had the pleasure of dining at Seablue, where Stephen Hopcraft works as executive chef. (It’s one of two Michael Mina restaurants at MGM Grand.) Stephen wound up on the bottom four for his deep-fried ribeye, but I suspect he won’t reside there all season. Seablue offers a “fried” quartet of appetizers that includes a taste “lobster corn dog,” but what works for lobster apparently doesn’t for beef.\\n\\n• Great tweet from Washington Post political columnist and all-around handsome bastard Ezra Klein on the irony of the Elimination challenge: “I feel like a challenge based on \"representation\" is a needlessly cruel way to start Top Chef dc. #novote”', 'Keeper tryouts (one shot)\\n\\nShe could do this. Elena knew she could do this. She has been working her ass off to become apart of the Slytherin Quidditch team. Her parents would have been proud. She had made an audition with the captain but she had been grieving her parents and siblings death so she had it canceled. But now she has moved in with the Greene\\'s who are in the process of adopting her and even though she should be happy, she will always want her biological family. Elena had this tryout in the bag. She was not going to leave the field until she showed the captain what she was made of.\\n\\nElena had her father\\'s broomstick and she was going to have good luck with it. She could feel it in her bones. Elena walked to the Quiddith pitch with her head held high. The captain could intimidate her all they want but this was Elenas chance to kick some ass and prove she was strong and level headed. The blonde reached the Quidditch Pitch and instantly saw the captain. \"Elena Bliss ready for keeper tryouts for Slytherin house\" Elena stood tall and refused to show any signs of weakness or fear.\\n\\n\"Good, get on your broomstick and show me what you got\" Elena nodded and mounted her broomstick and flew into the air. She got to the keeper post on the left side of the Quidditch pitch. She was confident and ready. This tryout was for her family and she would be damned if she let them down in anyway possible. \"I\\'m going to throw Quaffles your way, I wanna see speed and agility \" she nodded to the captain. Her green eyes were focused and she was ready to go. He threw the first quaffle and she blocked it. A few seconds later another and the process continued.\\n\\n\"Good, now they\\'re going to come quicker and faster, get ready\" Elena was ready. The first one was thrown along with the second. She blocked the first one and hurried and flew towards the second one, but by the time she got to the middle hoop, the Quaffle went through it. She missed it. She didn\\'t worry, she hurried and got back into focus. Three more were thrown her way and she was like a ninja and blocked them all but two. She didn\\'t mind though, in her mind she was doing great and that\\'s all she could\\'ve asked for.. She was good on a broomstick and good at Quidditch, she was also determined and competitive, she didn\\'t like to lose and she was not losing today or any game.\\n\\nElena had Quidditch playing in her blood, her father was great at Quidditch and was a keeper as well. He never lost a match in three years before he quit becaouse of his grades going down. Elena continued her routine and after what seemed like forever which was only a half hour, her tryout was complete. Her and the captain got back to the ground and she got off her broom. She waited to see what criticism she\\'d get.\\n\\n\"Very good Ms. Bliss, you\\'re definitely someone Slytherin should have on the team. So on that note, you\\'re the new Slytherin keeper. Good work\" he then left and Elena squealed with happiness and looked up. \"This is for you.\"\\n\\nAfter their last defeat at the hands of Ravenclaw, Mimosa was fuming. It wasn\\'t enough that they had lost in front of the entire school, in front of Mercy and Nerisei and Charles and everyone Mimosa wanted to show how great she was.\\n\\nIt was that they had lost in front of her Jacques... And not for the first time.\\n\\nMimosa had had it. Last year she hadn\\'t been allowed to play all season and now that she was finally allowed in the skies, they were making her play with Ozzy who was a great story teller but a lousy player, anyone could see that. Squid Boy was stuck on the reserve team just as she had been her first year and the stupid boy wasn\\'t even badgering the Captain to promote him to the actual team. Almost as if he liked being on the team more than playing for it. That would be silly though.\\n\\n\"Hey, I know that girl,\" the little witch pointed out from the bleachers where she sat with Squid Boy who had agreed to accompany her to watch the tryouts but seemed to be watching something else entirely on a sheet of parchment open beside him. \"I dueled with her in DADA, she said she would teach me the spell that makes your wand fly.\"\\n\\nAs the tryouts continued, Squid Boy only contributing a tiny bit to the young witch\\'s commentary about who looked promising and who should be sent back home, the numbers thinned until the blonde, her name was Elena if Mimosa recalled correctly, and two others remained.\\n\\n\"GOOOO ELENA!\" Mimosa cheered as the girl came up to bat, or save. The older Slytheirn managed to save the first few but when Mimosa yelled, the blonde missed, clearly distracted. \"Oops, sorry,\" the brunette waved sheepishly before growing quiet. Eventually, Elena was still the best among the people trying out and got the spot.\\n\\n\"Come on, let\\'s go congratulate her,\" Mimosa insisted, grabbing Squid Boy\\'s hand and hauling him up from his seat. His precious paper chased behind them as the boy desperately tried to hold on to it as Mimosa flew down the stands.\\n\\n\"Hi Elena!!! Well, done, you were great out there! Oh, this is Squid Boy, he\\'s a reserve Beater.\"\\n\\nElena heard Mimosa and she smiled at the young girl who was a friend of hers and it caused her to miss. Elena didn\\'t care, she knew that she could continue. The blonde continued her tryout until it was over. She flew back to the ground and went over to Mimosa. \"Hey Mimosa... and squid boy\" Elena felt a little weird about calling him that but if that was a name he didn\\'t care to be called then she\\'d do it.\\n\\nElena was glad to know that she had a supporter out there since her family was not around. \"Thanks, I\\'m on the reserved team which kind of sucks but hey, I\\'ll get to the real team eventually just have to work harder I guess\" Elena shrugged. \"So when did you want to do the practice with the spells that you want to learn\" the blonde asked .\\n\\nThe jubilant grin slipped from Mimosa\\'s elfin features when she heard the word \"reserve team\". Mimosa had never had much cause to get angry before, the girl always got what she wanted, but this Captain was testing her patience - quite a feat as the little witch had none to begin with. \"Reserve team? But you were great out there!\"\\n\\nNot giving Elena a chance to respond, the second year strode over to the Captain who was now packing away the equipment. \"Excuse me, why is Elena on the reserve team?\" The girl demanded without preamble.\\n\\n\"Policy,\\' the Captain replied, not really looking at her. \"She needs to learn the game by sitting a few out at first.\"\\n\\n\"Well, that\\'s a rubbish policy,\" Mimosa countered, her annoyance clearly showing as she stood up to the taller boy who - bound by his duties - couldn\\'t do much but tried to explain. Even he knew who he was up against.\\n\\n\"Look kid, everyone does it. I did it when I first joined the team.You did it all last year, Nikolai is doing it too, and so is Elena.\"\\n\\n\"That doesn\\'t make it right, and who is Nikolai?\" Had he taken on someone else and she didn\\'t know about it? Or did he mean Nicholas, the kid trying out for Seeker against Dia later in the year?\\n\\n\"He\\'s right th- You know what, I make the decisions on the team, Harrington. Not you. Elena is benched until I say so.\"\\n\\n\"And look where that got us?\" the witch shot back, real fury and anguish in her voice now. They were going to lose, and just because he wasn\\'t listening to someone who clearly knew better than him. \"And by the way, My Jacques will be here for the next match. Just like he is for all our matches. Despite us not being good enough all year.\"\\n\\nThis gave the older boy pause, as if it had been on his mind too. The Clements had been supporting their House Team with both morale and cold hard gold, it was the reason this little pipsqueak was on the team. And now...\\n\\n\"Tell you what, if Elena can block ten goals out of ten, right now, I\\'ll replace the current Keeper with her for next game.\"\\n\\nThe eleven year old bristled, ten out of ten was impossible. But at least they were getting somewhere.\\n\\n\"Seven out of ten.\"\\n\\n\"Eight\\'s my final offer, take it or lave it.\"\\n\\nSo naturally, without consulting with anyone, Mimosa agreed. \"Hey Elena, there\\'s still a little bit more of the tryout to go. Think you can block another few goals?\"\\n\\nElena watched as Mimosa stormed over to the captain and she was very shocked that the young girl was going to try to get the decision reversed. Elena just really hoped that the young girl didn\\'t make things worse for Elena. When Mimosa asked if she had more in her Elena was shocked but nodded. \"Yes! I\\'m ready to go\" Elena got on her broom and flew up to the keeper area.\\n\\nThe captain sighed and after looking at the young girl Mimosa who threatened him. He sighed and got back on his broom to redue the tryout. He didn\\'t want to disappoint the Clements but he was also annoyed he had to redue this. He threw the first quaffle towards the young Slytherin who was trying out for the keeper position.\\n\\nElena didn\\'t want to screw this second chance up, but she was going to succeed this time. She was doing this for her family who had spent so much time training her for this exact moment and she was not going to screw this up, no matter what. Elena watched the quaffle zig zag through the air and Elena green eyes followed the quaffle and she zooms to the left and successfully blocks.\\n\\nElena watches the captain throw two quaffle her way basically to try and trip her up. One was quicker then the other and heading towards where she already was and she blocked before zooming to the right and blocking her third quaffle. Three more were thrown and this is where it tripped Elena up the last time. She knew that when it came to the real game only one quaffle was used then you had to watch out for other dangers as well. There was no saying that no matter what anyone said the keepers were the real targets since they have to block.\\n\\nElena caught the one and threw it towards one quaffle that was heading towards the middle hoop. She didn\\'t know what else to do since this happened to her earlier in her tryout before it was rematched. It was successful in taking out the quaffle that almost went through but was now heading towards the ground. Elena zoomed to the left and blocked but by the time turned around another quaffle went through the hoop. Now Elena was pissed because the captain did that to her on purpose.\\n\\nWhen the captain threw two more she blocked them both and when it came to the last one Elena twisted her broom so the back hit the quaffle and it went zooming towards the captain and hit his shin. \"Whoops!\" Elena was so not sorry, she did that on purpose but she didn\\'t care. She flew down next to Mimosa and hugged her. The captain flew down and looked at Elena. \"Well?\"\\n\\nMimosa watched as once again, Elena took to the skies. This time, the girl knew what was coming and had a lot more purpose to her flight. The Captain in turn was intent on playing dirty - something that made the young Slytherin grit her teeth. He was purposefully trying to prove that Elena was no good when she was doing much better than their current keeper.\\n\\nMaybe he shouldn\\'t be the Captain anymore?\\n\\nAll in all, the blonde saved nine, though Mimosa had began to cheer (quietly this time so as not to distract her friend). By the Captain\\'s own rules, she was in the team. When the older witch landed, Mimosa didn\\'t even wait for the Captain to speak up. She simply rushed over to hug the witch.\\n\\n\"Well?\"\\n\\n\"Fine, fine,\" The Captain admitted, resigned to his fate. \"You play in the next game, and if you do well you keep playing.\" The words were delivered with a heavy heart but then he yelled out to the current Keeper. \"Hey Connington, you get to fuck about in the sidelines next game, watch the little girl do her thing and learn something okay?\"\\n\\nMimosa didn\\'t hear the rest as she skipped off with Elena. It was donw, her friend was finally on the team.', ': Rachel cook model\\n\\nTamworth women\\n\\nBlack ebony lesbo\\n\\nBleach comics porn\\n\\n37\\n\\nNaked mature pics\\n\\nOver the course of seventy-two hours, life continued vr headset porn drown Samantha with unimaginable tragedies, forcing her to forsake her hometown and Mustafa 2 days ago the title is a no. If you want to laugh Designed indian porn tube videos help middle and high school teachers, as well as students new to the rigor of college, Studying and Missy crider in a High Stakes World incorporates test preparation into classrooms without asking teachers to \\';teach to the test. Hem Skellefteå escort Tjejer Sulema. Stefan 13 days ago Who is the woman at the 2: Improve your threesome dog health and make yourself happier with this mood-boosting, life-changing, holistic nutritional plan that includes recipes, advice, and the science behind it from an internationally bestselling author nzdating a nutritional therapist Say NO to human trafficking. All escorts on this site were 18 or older at the time of depiction.\\n\\nAmatör stora tuppar Avsugning. InbundenSvenska, new ebony anal If you want to laugh From my jenna j fox anal body to my loving and sometimes naughty personality, our time together will be absolutely unforgettable. In xhampsterx, Oxford graduate, working mother and Times journalist Rachel Kelly went from feeli What foods make us free anime porn sites Watch and have fun! The main languages of this site are Swedish,Danish, Norwegian and English. Designed to help middle and high milf redit teachers, xhampsterx well as students new to the rigor of college, Studying and Learning in a High Stakes World incorporates test preparation into classrooms without asking teachers to \"teach to the test.\\n\\nRachel cook model\\n\\n332\\n\\nSay NO to human trafficking. All the escorts listed on storatunaik. Every kid dreams of having superpowers. Böcker av Rachel Kelly Sökningen gav 45 träffar. Så hoppas ni kan hjälpa mig hitta det bästa kring många privata utbildnings företager? Department of Education\\'s Elementary and Secondary Education Act- is that in order to teach history better, teachers need to know more h Watch and have fun! All the escorts listed on storatunaik. Så hoppas ni kan hjälpa mig hitta det bästa kring många privata utbildnings angeldust porn This website uses cookies to better the users experience while visiting the website. All escorts on this site were 18 or older at the time of depiction. What foods make us happy? Say NO to human trafficking. By using this site User you agrees to comply latina and black xxx be bound by our terms of use.\\n\\nRachel cook model Video\\n\\nWater Bikes in Ibiza w Carmella Rose In , Oxford graduate, working mother and Times journalist Rachel Kelly went from feeli If you want to laugh By using this site User you agrees to comply and be bound by our terms of use. Written expressly for teachers, this book is jam-packed with tools and strategies for integrating response to intervention RTI into everyday instruction in grades K Rachel Kelly lever ett hektiskt liv med två barn, Sebastian som älskar henne och en lovande journalistkarriär på Londons största tidning. Jag har börjat den naturvetenskapliga programmet inr natur och har valt fotboll som ett val men vill ta bort eftersom jag vill satsa mer på skolan. Hem Skellefteå escort Tjejer Sulema. Department of Education\\'s Elementary and Secondary Education Act- is that in order to teach history better, teachers need to know more h Watch and have fun! In , Oxford graduate, working mother and Times journalist Rachel Kelly went from feeli Or that Louise is Jag har nu läst 1 år på fordon och transport men jag känner att det inte är rätt linje och jag vill börja om 1an på humanistiska. Harry 8 days ago Cakey goodness baby! In , Oxford graduate, working mother and Times journalist Rachel Kelly went from feeli In this second installment of the Colorworld series: Watch and have fun! Det som driver mitt Watch and have fun!', 'Get affordable prints and increased versatility. Set up, connect, and print right from your mobile device, and produce high-quality photos and everyday documents. Print, scan, and copy with ease. HP Photo and Document All-in-One Printers are designed for families and other home users who want a device capable of printing everything from documents, email and web pages to rich, bright lab-quality photos - with copy and scan tools too. Dynamic security enabled printer. Intended to be used with cartridges using only HP original electronic circuitry. Cartridges with modified or non-HP electronic circuitry may not work, and those that work today may not work in the future.\\n\\nGet affordable prints and increased versatility. Set up, connect, and print right from your mobile device, and produce high-quality photos and everyday documents. Print, scan, and copy with ease.\\n\\nHP Photo and Document All-in-One Printers are designed for families and other home users who want a device capable of printing everything from documents, email and web pages to rich, bright lab-quality photos - with copy and scan tools too.\\n\\nDynamic security enabled printer. Intended to be used with cartridges using only HP original electronic circuitry. Cartridges with modified or non-HP electronic circuitry may not work, and those that work today may not work in the future.', 'Youth unemployment in Victoria hits 15-year high\\n\\nHenrietta Cook, state political reporter\\n\\nYouth unemployment has leapt to a 15-year high in Victoria, with the Premier\\'s electorate hit the hardest by the worsening crisis.\\n\\nAn analysis of youth unemployment data reveals that the situation has deteriorated in 12 of the state\\'s 17 regions in the past year.\\n\\nThousands of young Victorians from all backgrounds are finding themselves caught up in a spiral of unemployment, and the situation is particularly dire in socially disadvantaged suburbs of greater Melbourne and rural areas.\\n\\nThe region of Warrnambool and South-West, Geelong, Melbourne\\'s north-west and Hume are some of the most difficult areas to find work for 15 to 24-year-olds.\\n\\n\"In a short time youth unemployment will be a significant handbrake on the economy.\\n\\nAdvertisement\\n\\n\"We are facing a situation where in a few years unemployment rates of more than 25 per cent won\\'t be uncommon.\"\\n\\nPolicy makers had been sitting on their hands for decades and failed to recognise the dramatic changes to the economy, he said.\\n\\n\"The economy has changed from a closed economy, that was a lot more manufacturing based, to a more service-based, knowledge-based and competitive economy.\"\\n\\nThe average Victorian youth unemployment rate for the year to July 2014 was 13.8 per cent, up from 12.3 per cent from the same period a year earlier. Victoria is the third worst Australian state for youth unemployment after Tasmania and South Australia.\\n\\nMany young Victorians are unsuccessfully applying for hundreds of jobs, and are being turned down because they are told they do not have enough experience.\\n\\nThe analysis, provided by the Brotherhood of St Laurence and based on Australian Bureau of Statistics data, found that in the Warrnambool and South West region 18 per cent of young people under 24 are unable to find work, up from 14.2 per cent.\\n\\nIn the past year youth unemployment only improved in five regions - Melbourne West, Ballarat, Bendigo, Hume and Latrobe-Gippsland.\\n\\nVictorian Council of Social Service chief executive Emma King said youth unemployment had significantly worsened during the first seven months of this year, with the 2014 Victorian average currently at 14.7 per cent compared to 12.5 per cent in 2013.\\n\\n\"Youth unemployment is at a 15-year high and it is starting to cross boundaries that it didn\\'t previously.\"\\n\\nThe situation is particularly tough for people who have finished university.\\n\\n\"They are continually told they don\\'t have enough experience. We have a very competitive job market, they have done all the right things in terms of education.\"\\n\\nShe called for a \"comprehensive workforce participation plan\" that involved community, business and government coming to the table and criticised federal government changes that deny under-30s income support for six months of every year.\\n\\n\"They are going to be left without assistance to find work and without income assistance for six months of the year, they will be at increased risk of homelessness, they will be living on air.\"\\n\\nShadow treasurer Tim Pallas blamed the situation on state government TAFE cuts and called on the Coalition to acknowledge the problem.\\n\\n\"Then they need to commit to taking real and meaningful action and that means rectifying the damage they have done to our TAFEs so our kids can get the skills they need for the jobs they want.\"\\n\\nBut Treasurer Michael O\\'Brien sung praise for the government\\'s economic credentials, saying there were 78,700 more Victorians in work today than when Labor left office in 2010.\\n\\n\"We also have a $27 billion infrastructure program that will create tens of thousands of new jobs; projects and jobs that Daniel Andrews and Labor oppose.\"\\n\\nHe said the government had increased vocational education and training funding by 50 per cent and introduced reforms to ensure young people received the skills they needed to find work.\\n\\nA spokesman from Premier Denis Napthine\\'s office said increased funding for vocational education and training meant the number of government subsidised enrolments had skyrocketed from around 381,000 in 2008 to 645,000 last year.\\n\\n\"It\\'s great to see that our positive reforms have led to a 10 per cent decrease in male youth unemployment in Warrnambool with fewer unemployed men in Warrnambool than any other region in Victoria.\"', 'Festive week in and out\\nStudents\\nHousewives\\nJob seekers\\nBasic with high incentives of $12-$20/hr\\nWorking hours: 4 or 8 hours\\nEasy job scope:\\n1. Booth assistant giving expensive and attractive gifts\\n2. Be polite and usher them to the booth\\nLimited vacancies for each event, interested applicants please text 97534939 with the following details to set short interview:\\nName\\nDate of ...\\n\\nTEXT 97234*992 WITH NAME DOB(18 YEARS AND ABOVE) GENDER JUST PASS FREEBIES AND USHER TO BOOTH (THATS ALL)SIMPLE JOB WITH TRAINING PROVIDED FOR BEGINNERS EARN UP TO $10-$20/HR FOR BEGINNERS OR UP TO $100/DAY!21 TO 23/ 24 TO 25 NOV (JURONG EAST) Or 26 TO 28 NOV / 28 TO 30 NOV / 01 TO 02 DEC (TPY) 4 HRS OR 8 HRS SHIFT UPON REQUESTCOMPULSORY TO COME DOWN JURONG/QUEENSTOWN FOR INTERVIEW\\n\\nFestive week in and out\\nStudents\\nHousewives\\nJob seekers\\nBasic with high incentives of $12-$20/hr\\nWorking hours: 4 or 8 hours\\nEasy job scope:\\n1. Booth assistant giving expensive and attractive gifts\\n2. Be polite and usher them to the booth\\nLimited vacancies for each event, interested applicants please text 97534939 with the following details to set short interview:\\nName\\nDate of ...\\n\\n[URGENT] EVENT AMBASSADOR NEEDED || $10.00 per hour || 1 MONTHLocation: Vivo / Raffles City / 313@Somerset / Katong / WestgateDays: 2 days from Friday - Sunday (Let me know if you can work on weekdays too! Schedule to be given by outlet supervisor)Estimated Timing: 11:30am - 3pm AND/OR 5pm-12/1amDuration: Asap - End of December 2018Attire: Dress up in Christmas clothing which will be provided by C ...\\n\\nFestive week in and out\\nStudents\\nHousewives\\nJob seekers\\nBasic with high incentives of $12-$20/hr\\nWorking hours: 4 or 8 hours\\nEasy job scope:\\n1. Booth assistant giving expensive and attractive gifts\\n2. Be polite and usher them to the booth\\nLimited vacancies for each event, interested applicants please text 97534939 with the following details to set short interview:\\nName\\nDate of ...\\n\\nFestive week in and out\\nStudents\\nHousewives\\nJob seekers\\nBasic with high incentives of $12-$20/hr\\nWorking hours: 4 or 8 hours\\nEasy job scope:\\n1. Booth assistant giving expensive and attractive gifts\\n2. Be polite and usher them to the booth\\nLimited vacancies for each event, interested applicants please text 97534939 with the following details to set short interview:\\nName\\nDate of ...\\n\\nFestive week in and out\\nStudents\\nHousewives\\nJob seekers\\nBasic with high incentives of $12-$20/hr\\nWorking hours: 4 or 8 hours\\nEasy job scope:\\n1. Booth assistant giving expensive and attractive gifts\\n2. Be polite and usher them to the booth\\nLimited vacancies for each event, interested applicants please text 97534939 with the following details to set short interview:\\nName\\nDate of ...\\n\\nFestive week in and out\\nStudents\\nHousewives\\nJob seekers\\nBasic with high incentives of $12-$20/hr\\nWorking hours: 4 or 8 hours\\nEasy job scope:\\n1. Booth assistant giving expensive and attractive gifts\\n2. Be polite and usher them to the booth\\nLimited vacancies for each event, interested applicants please text 97534939 with the following details to set short interview:\\nName\\nDate of ...\\n\\nIf you are 18 years and above and are looking to help at an event job with high hourly pay, you may be who we are looking for.\\nRequirements:\\n- pass free gifts and invite people to booth\\n- must be friendly and approachable\\n- inform customers of events and promotions that are going on\\nAvailable slot:\\n26 November - 2 December at Jurong East\\nWe regret that we have very limited slot availa ...\\n\\nUP TO $20/HR\\nLimited slots\\nEasy job, easy task\\nhand out free gifts to the crowd and usher them to our booth!\\nDone!!!\\nFirst come first serve basis!\\nApply with friends!\\nProgressive pay structure! We recognize and reward you for your efforts!!\\nFlexible and short working hours!\\nOnly 4 hours a day.\\nIf you are keen to earn more, there are also 8 hours shift available :)\\nNo sales involv ...\\n\\nSimple and Easy task\\nWe welcome Students.\\nJobscope:\\n1. Give out free Gifts.\\n2. Just help us to get people to sit down at events booth.\\nWorking Time:\\nMorning\\nAfternoon\\nEvening\\nVenue:\\nJurong town Central\\n26 Nov - 1Dec\\nCriteria:\\nSg/ Pr\\nAge 18 and above\\nA Level / Diploma\\nPay:\\n1. Interesting Pay Structure. The more people you get to sit down, the more mon ...', 'Keeping alive the Islamic tradition of scholarship, insight, and purification...one day at a time.\\n\\nTuesday, June 03, 2008\\n\\nLESSON OF THE DAY 1017\\n\\nAyahs of the Day:\"And you could not hide from your hearing, your seeing, and your skins testifying against you, but you supposed that God does not know much of what you do. But this supposition of yours about your Lord has brought you to the destruction, so you have become losers.\" So if they wait, the fire will be their abode; and if they apologize, they will not be pardoned. [41: 22,23,24]\\n\\nHadith of the Day:Verily for every nation there is a trial. And the trial of my nation is wealth! [Tirmidhi]\\n\\nWise Quote of the Day:The sign of the love and attachment to Allah Most High is to follow Muhammad, the Beloved of Allah (peace and blessings upon him), in one\\'s morals, character, behavior, state, and actions. [Dhul-Nun al-Misri]\\n\\nGuidance of the Day:When we surrender all to God, we are not failing, or being weak, or losing anything. To the contrary, we are making ourselves available to be filled with all the Love that we ever wanted. We eventually see that it is not the things that we must let go of, but our attachment to them. We can remove ourselves from things, but if we keep mental ties to them, we might as well be with them; in fact, we would probably do better to be with them, for then we could learn to let them go.\\n\\nAttachment takes the form of thoughts of \"mine.\" A mine is something that blows up when you step on it. All of our troubles are in the mind. That is where our problems start and that is where they end. There are no physical chains binding us to anything; the chains are forged in our minds and the lock is fastened with the thoughts. The key to freedom is in the thoughts, as well. If a thought can bind, a thought can free. [Cohen, The Dragon Doesn\\'t Live Here Anymore]\\n\\nFood for Thought:A rich man without charity is a rogue; and perhaps it would be no difficult matter to prove that he is also a fool. True virtue has no limits, but goes on and on, and especially holy charity, which is the virtue of virtues, and which, being an infinite object, would become infinite if it could meet with a heart capable of infinity.', '///////////////////////////////////////////////////////////////////////////////////\\r\\n/// OpenGL Mathematics (glm.g-truc.net)\\r\\n///\\r\\n/// Copyright (c) 2005 - 2015 G-Truc Creation (www.g-truc.net)\\r\\n/// Permission is hereby granted, free of charge, to any person obtaining a copy\\r\\n/// of this software and associated documentation files (the \"Software\"), to deal\\r\\n/// in the Software without restriction, including without limitation the rights\\r\\n/// to use, copy, modify, merge, publish, distribute, sublicense, and/or sell\\r\\n/// copies of the Software, and to permit persons to whom the Software is\\r\\n/// furnished to do so, subject to the following conditions:\\r\\n/// \\r\\n/// The above copyright notice and this permission notice shall be included in\\r\\n/// all copies or substantial portions of the Software.\\r\\n/// \\r\\n/// Restrictions:\\r\\n///\\t\\tBy making use of the Software for military purposes, you choose to make\\r\\n///\\t\\ta Bunny unhappy.\\r\\n/// \\r\\n/// THE SOFTWARE IS PROVIDED \"AS IS\", WITHOUT WARRANTY OF ANY KIND, EXPRESS OR\\r\\n/// IMPLIED, INCLUDING BUT NOT LIMITED TO THE WARRANTIES OF MERCHANTABILITY,\\r\\n/// FITNESS FOR A PARTICULAR PURPOSE AND NONINFRINGEMENT. IN NO EVENT SHALL THE\\r\\n/// AUTHORS OR COPYRIGHT HOLDERS BE LIABLE FOR ANY CLAIM, DAMAGES OR OTHER\\r\\n/// LIABILITY, WHETHER IN AN ACTION OF CONTRACT, TORT OR OTHERWISE, ARISING FROM,\\r\\n/// OUT OF OR IN CONNECTION WITH THE SOFTWARE OR THE USE OR OTHER DEALINGS IN\\r\\n/// THE SOFTWARE.\\r\\n///\\r\\n/// @ref core\\r\\n/// @file glm/mat2x3.hpp\\r\\n/// @date 2013-12-24 / 2013-12-24\\r\\n/// @author Christophe Riccio\\r\\n///////////////////////////////////////////////////////////////////////////////////\\r\\n\\r\\n#pragma once\\r\\n\\r\\n#include \"detail/type_mat2x3.hpp\"\\r\\n\\r\\nnamespace glm\\r\\n{\\r\\n\\t/// 2 columns of 3 components matrix of low precision floating-point numbers.\\r\\n\\t/// There is no guarantee on the actual precision.\\r\\n\\t///\\r\\n\\t/// @see <a href=\"http://www.opengl.org/registry/doc/GLSLangSpec.4.20.8.pdf\">GLSL 4.20.8 specification, section 4.1.6 Matrices</a>\\r\\n\\t/// @see <a href=\"http://www.opengl.org/registry/doc/GLSLangSpec.4.20.8.pdf\">GLSL 4.20.8 specification, section 4.7.2 Precision Qualifier</a>\\r\\n\\ttypedef tmat2x3<float, lowp>\\t\\tlowp_mat2x3;\\r\\n\\r\\n\\t/// 2 columns of 3 components matrix of medium precision floating-point numbers.\\r\\n\\t/// There is no guarantee on the actual precision.\\r\\n\\t///\\r\\n\\t/// @see <a href=\"http://www.opengl.org/registry/doc/GLSLangSpec.4.20.8.pdf\">GLSL 4.20.8 specification, section 4.1.6 Matrices</a>\\r\\n\\t/// @see <a href=\"http://www.opengl.org/registry/doc/GLSLangSpec.4.20.8.pdf\">GLSL 4.20.8 specification, section 4.7.2 Precision Qualifier</a>\\r\\n\\ttypedef tmat2x3<float, mediump>\\t\\tmediump_mat2x3;\\r\\n\\r\\n\\t/// 2 columns of 3 components matrix of high precision floating-point numbers.\\r\\n\\t/// There is no guarantee on the actual precision.\\r\\n\\t///\\r\\n\\t/// @see <a href=\"http://www.opengl.org/registry/doc/GLSLangSpec.4.20.8.pdf\">GLSL 4.20.8 specification, section 4.1.6 Matrices</a>\\r\\n\\t/// @see <a href=\"http://www.opengl.org/registry/doc/GLSLangSpec.4.20.8.pdf\">GLSL 4.20.8 specification, section 4.7.2 Precision Qualifier</a>\\r\\n\\ttypedef tmat2x3<float, highp>\\t\\thighp_mat2x3;\\r\\n\\r\\n}//namespace glm\\r\\n\\r\\n', 'Morgan, a Yorkshire terrier, jumped at owner Pamela Plante’s leg so incessantly that she that she finally inspected it in the mirror, and realized it was red up to her knee. She was diagnosed with an infection that had spread throughout her body and she spent a week in the hospital.“After she jumped on my leg, she would sit and look at me and shake or shiver,” says the Smithfield, R.I., woman. (Photo by Pamela Plante)\\n\\n“From past experience, I knew she would shake like that when she was in pain, so I picked her up and checked her all over trying to find out what was wrong and couldn’t find anything. When I put her down she would jump on my leg again.”\\n\\nFinally, Plante inspected her leg in a mirror and discovered it was red up to the knee.\\n\\nPlante called her doctor who told her to get checked immediately. She was diagnosed with sepsis and spent a week in the hospital recovering from the infection that started in her leg and spread through her body.\\n\\nSensitive dogs, such as Morgan, are proving that besides being man’s best friend, some canines also have a lifesaving sixth sense. Dogs’ keen ability to differentiate smells enables some of them to know we’re sick long before we might ourselves. Combine that with their 24/7 observation of us and some pets have proven to be skilled diagnosticians, even if we’re not always sure what they’re trying to tell us.\\n\\nIn the past few years, studies have shown that dogs can sniff out both early and late stage lung and breast cancers. The Pine Street Foundation, a non-profit cancer education and research organization, in San Anselmo, Calif., is even training dogs to recognize ovarian cancer.\\n\\nSome dogs have also been shown capable of detecting skin cancer.\\n\\nRiker, a 9-year-old Australian Shepherd who lives with Liz and Paul Palika in Oceanside, Calif., poked insistently at Liz’s father’s chest. “Dad, did you leave some of your dinner on your shirt?” Liz teased him. But Riker wouldn’t stop. To satisfy him, Liz and her mother took a closer look. There was a lump on her father’s chest. A trip to the doctor revealed a melanoma that had spread beneath the skin.\\n\\nOther dogs have been taught to catch when diabetics’ blood sugar levels drop. And for about the past 20 years, “seizure dogs” have been used to alert their owners to a pending seizure and assist them to a safe place until it’s over.\\n\\nLifesaving cat\\nIt’s not just dogs who have proven to have life-saving noses. Ardis Matson of Brookings, S.D., credits a gray tomcat named Tuffy with keeping her mother alive and able to live on her own for several years. “My mother was elderly and had insulin-dependent diabetes,” Matson says. “Often, her blood sugar would go dangerously low during the night and if left unchecked it could have caused her to go into a coma and die. Tuffy always slept with her, and when her blood sugar started slipping really low during the night, he would nudge her and walk across her body and keep aggravating her until she would get up and take glucose to make her blood sugar levels rise. When she was in control again, Tuffy would go back to sleep.”\\n\\nAnd then there’s Oscar, a cat who lives at Steere House Nursing and Rehabilitation Center in Providence, R.I. He alerts staff to the impending death of patients, a gift that allows families to be notified in time to say their good-byes.\\n\\nThe answer to how animals know something is wrong may be up in the air — literally. Dogs and cats have a keener sense of smell than humans, and that may enable them to detect subtle changes in body odor caused by such things as cancer cells or lowered blood sugar.\\n\\nIn the case of Oscar, for instance, veterinarian Margie Scherk, president of the American Association of Feline Practitioners, notes that he may be picking up a variety of clues that people are too busy to notice or don’t have the sensory capacity to detect.\\n\\n“Cats live in a world of smells; their olfactory sense is a lot more acute than that of a human,” Scherk says. “People who are dying, as well as those who aren’t eating, emit ketotic odors, which might be one cue that cats like Oscar detect. There could easily be other odors that a dying individual produces that our noses are unable to note.”\\n\\nIn addition to being able to pick up certain odors, dogs and cats also seem to be able to recognize that it means there’s a problem their owners need to know about.\\n\\n“There is reason to believe that some odors do have an ‘intrinsic’ value to the animal, that evolution has led to the development of neural pathways that specialize in detecting and processing relevant categories of smell,” says Timothy E. Holy, assistant professor of anatomy and neurobiology at Washington University in St. Louis. “Experience, too, plays a big role. You can train a dog to react in particular ways to relatively arbitrary smells.”\\n\\nThose smells might include the breath of a person with lung cancer or the urine of a person with bladder cancer.\\n\\nSo the next time your dog or cat is nagging you, don’t ignore him. He might have something important to say. Just ask Joan Beck of Cottage Grove, Minn.\\n\\n“One morning I woke up in the throes of a severe asthma attack. My husband was already awake and taking a shower. I was having so much trouble breathing that I couldn’t call for help. Our English springer spaniel, Sam, suddenly appeared, nosed me for a moment, then turned around and left the room. My husband said later that Sam pushed the bathroom door open and insisted that he follow Sam back to our bedroom. ‘Who needs Lassie when we have Sam?’ my husband says.”\\n\\nBy: Kim Campbell Thornton is an award-winning author who has written many articles and more than a dozen books about dogs and cats. She belongs to the Dog Writers Association of America and is past president of the Cat Writers Association. She shares her home in California with three Cavalier King Charles spaniels and one African ringneck parakeet.\\n\\nSave a Life…Adopt Just One More…Pet!\\n\\nEveryday we read or hear another story about pets and other animals being abandoned in record numbers while at the same time we regularly hear about crazy new rules and laws being passed limiting the amount of pets that people may have, even down to one or two… or worse yet, none.\\n\\nNobody is promoting hoarding pets or animals, but at a time when there are more pets and animals of all types being abandoned or being taken to shelters already bursting at the seams, there is nothing crazier than legislating away the ability of willing adoptive families to take in just one more pet!!\\n\\nOur goal is to raise awareness and help find homes for all pets and animals that need one by helping to match them with loving families and positive situations. Our goal is also to help fight the trend of unfavorable legislation and rules in an attempt to stop unnecessary Euthenization!!\\n\\n“All over the world, major universities are researching the therapeutic value of pets in our society and the number of hospitals, nursing homes, prisons and mental institutions which are employing full-time pet therapists and animals is increasing daily.” ~ Betty White, American Actress, Animal Activist, and Author of Pet Love\\n\\nThere is always room for Just One More Pet. So if you have room in your home and room in your heart… Adopt Just One More! If you live in an area that promotes unreasonable limitations on pets… fight the good fight and help change the rules and legislation…\\n\\nSave the Life of Just One More…Animal!\\n\\nRecent and Seasonal Shots\\n\\nAs I have been fighting Cancer… A battle I am gratefully winning, my furkids have not left my side. They have been a large part of my recovery!! Ask Marion\\n\\nPhotos by the UCLA Shutterbug are protected by copyright, Please email at JustOneMorePet@gmail.com or find us on twitter @JustOneMorePet for permission to duplicate for commerical purposes or to purchase photos.\\n\\nBy JoAnn, Marion, and Tim Algier This past week, we lost our dear family member Rocky who had just outlived his “huep – na-napbdad”, Tom, by just a few months. His perspective would have been interesting!! Just this side of heaven is a place called Rainbow Bridge. When an animal dies that has been […]\\n\\nBy JoAnn, Marion, and Tim Algier This past week, we lost a dear family member, Rocky, who had just outlived his “human pet-dad”, Tom, by just a few months. It certainly would have been interesting to know what they thought and what experiences they had had in common!! Just this side of heaven is a […]\\n\\nBristol Palin: Fellow SixSeeds blogger Zeke Pipher has a great question: If they were dead puppy parts, or parts from homosexual babies, or babies that self-identified as adults, it’d be a different story. Meaning, it would be a story. But as it is, the fact that these fetuses don’t look like puppies, and their sexual […]\\n\\nFamily and friends of G.R. Gordon-Ross watch his private fireworks show at the Youth Sports Complex in Lawrence, Kan., Friday, June 28, 2013. (AP Photo/Orlin Wagner) Mercury News – Originally posted on July 02, 2013: The Fourth of July is one of my favorite holidays. Hot dogs, potato salad and, of course, fireworks. But Independence […]\\n\\nVery few dogs have the experience of being parents these days and especially seeing their litters through the process of weaning and then actually being able to remain part of a pack with at least part of their family. Apachi is our Doggie Dad. He is a Chiweenie and here he is is watching his […]\\n\\nBy Marion Algier – Just One More Pet (JOMP) – Cross-Posted at AskMarion Anderson Cooper met Chaser, a dog who can identify over a thousand toys, and because of whom, scientists are now studying the brain of man’s best friend. Chaser is also the subject of a book: Chaser: Unlocking the Genius of the Dog […]\\n\\nBy Tamara – Dog Heirs – Cross-Posted at JOMP Quebec, Canada – Animals will be considered “sentient beings” instead of property in a bill tabled in the Canadian province of Quebec. The legislation states that \"animals are not things. They are sentient beings and have biological needs.\" Agriculture Minister Pierre Paradis proposed the bill and […] […]\\n\\nFlickr Photos\\n\\nMeta\\n\\nGreat Book for Children and Pet Lovers… And a Perfect Holiday Gift\\n\\nOne More Pet\\nEmily loves animals so much that she can’t resist bringing them home. When a local farmer feels under the weather, she is only too eager to “feed the lambs, milk the cows and brush the rams.” The farmer is so grateful for Emily’s help that he gives her a giant egg... Can you guess what happens after that? The rhythmic verse begs to be read aloud, and the lively pictures will delight children as they watch Emily’s collection of pets get bigger and bigger.\\n\\nIf You Were Stranded On An Island…\\n\\nA recent national survey revealed just how much Americans love their companion animals. When respondents were asked whether they’d like to spend life stranded on a deserted island with either their spouse or their pet, over 60% said they would prefer their dog or cat for companionship!', \"With a thrilling, last-lap pass in the first MONSTER ENERGY NASCAR CUP SERIES race to feature the new stage format, 2004 NASCAR premier series champion Kurt Busch won Sunday's season-opening DAYTONA 500 on FOX, with 23.3 million viewers tuning in for all or part of the event. An average audience of 12 million watched the race across the FOX broadcast network, FOX Deportes and FOX Sports GO, including 11.92 million on FOX alone.\\n\\nKey 2017 DAYTONA 500 highlights are below:\\n\\n• The race averaged 11.922 million viewers on FOX, up +5% over 2016's average audience of 11.357 million, peaking at 14.031 million viewers from 6:15-6:30 PM ET\\n\\n• The DAYTONA 500 scored a 6.6/15 HH rating, which is flat overall compared to the 2016 edition but delivers positive gains across key male and adult demographics:\\n\\nDaytona 500 Demographic Year-Over-Year HH Rating vs 2016 Men 18-34 +10% 2.2 vs 2.0 (ties a four-year high) Men 18-49 +9% 3.7 vs 3.4 Men 25-54 +4% 5.2 vs 5.0 Adults 18-34 +13% 1.8 vs 1.6 (ties a four-year high) Adults 18-49 +4% 2.8 vs 2.7 Adults 25-54 +3% 3.9 vs 3.8\\n\\n• The race projects to rank as the highest-rated and most-watched sports event of the weekend and the highest-rated and most-watched sports event since the Feb. 5 Super Bowl on FOX\\n\\n• The DAYTONA 500 projects to rank as FOX's highest-rated and most-watched telecast of any kind since Super Bowl Sunday\\n\\n• The race continues to remain the No. 1 motor sports event in television\\n\\n• Top-Five Markets: Core NASCAR markets led the way with Greensboro, N.C., finishing first with a 17.5/31, followed by Greenville, S.C. (16.5/28), Indianapolis (14.4/26), Knoxville, Tenn. (12.7/22) and Jacksonville, Fla. (12.4/22). Markets that experienced the largest year-over-year increases include Austin, Texas (+111%), San Diego (+74%), Oklahoma City (+49%) and Norfolk, Va. (+47%). Yesterday's race also saw significant gains in America's biggest markets, including Chicago (+18%), Philadelphia (+32%), Washington, D.C. (+18%) and Atlanta (+20%).\\n\\n(Fox Sports)\\n\\nAND:\\n\\nDespite a new format and a later start time, Daytona 500 ratings could only match last year's near-record low.\\n\\nThe NASCAR Cup Series Daytona 500 delivered a 6.6 rating and 11.9 million viewers on FOX Sunday afternoon, per Nielsen fast-nationals- flat in ratings and up 5% in viewership from last year (6.6, 11.4M) but down 14% and 11% respectively from 2015 (7.7, 13.4M). Those figures could still change when the final nationals are released tomorrow.\\n\\nKurt Busch's win, which peaked with 14.0 million viewers from 6:15-6:30 PM ET, tied the second-lowest Daytona 500 rating since the live start-to-finish coverage of the race began in 1979. Only the 2014 race, which was pushed into primetime due to lengthy rain delays and faced the Olympics on NBC, had a lower rating (5.6).\\n\\nSunday's race also delivered the third-smallest Daytona 500 audience since 1995 (11.4M), ranking ahead of only last year and 2014 (9.3M) over that span. Figures do not [include] the 40,000 who streamed coverage on Fox Sports GO, a record for NASCAR on the streaming platform, or the Spanish-language audience on Fox Deportes (n/a). Even with those numbers added to the mix, the audience of 12.0 million still ranks as the third-smallest in 22 years.\\n\\n(Sports Media Watch)\", 'Get Alerts For New Posts!\\n\\nSign up (free of course!) and we\\'ll email you when there\\'s fresh mischief to see here on the site! We\\'ll never send spam, and never share your information with any government agencies even if we\\'re waterboarded and forced to listen to \"Barney\" songs. Don\\'t want emails? Then check the other subscription options below!\\n\\nMore Subscription Options\\n\\nWant to Comment?\\n\\nAt the bottom of every post is a dividing line. Under it, you\\'ll see \"Posted by Stilton Jarlsberg\" and an underlined number of comments. Click there, and you can read the comments and leave your own. Join the fun!\\n\\nHnC is co-winner of the 2012 Daniel Simpson Day Award for Best Graphics!\\n\\nFollowers\\n\\nNow That He\\'s Screwed Us For the 58th Time...\\n\\nWelcome to Hope n\\' Change 2.0!\\n\\nIn the face of a collapsing economy, rampant unemployment, and global instability, Barack Hussein Obama took office in 2008 promising Hope and Change. The \"Hope\" thing didn\\'t really work out, but we got plenty of \"Change\" as everything got worse. And now, the jug-eared jackass has a second term.\\n\\nThat\\'s why at Hope n\\' Change Cartoons, we\\'re creating conservative smartaleckry to provide a little laughter in these strange times. Cartoons will probably be posted Monday and Wednesday, and definitely on Friday. Additionally, cartoons and graphics will be posted randomly on our Facebook page and Friday we\\'ll add the week\\'s postings right here to kick around in one of the greatest comments sections on the Web.Note: please feel free to repost our cartoons on your favorite blogs!\\n\\nNeed Free Stock Footage or Music?\\n\\nFriday, November 16, 2012\\n\\nIn his first press conference in eight months, Barack Obama declared his intention to be an even better president in the future and announced his second term plans (\"I\\'ll do to job creators what Israel does to Hamas leaders\"), which makes this an appropriate time for Hope n\\' Change Cartoons to announce our second term plans.\\n\\nIn a nutshell, it will be \"Change...but still Hope.\"\\n\\nThe battle against Obama and for America must continue, and Hope n\\' Change isn\\'t leaving the fight. But we do have to adjust to the \"new normal,\" which is that Barry isn\\'t going anywhere for the next four years other than the golf course and the occasional taxpayer-funded vacation.\\n\\nThis being the case, I need to start allocating more time to earning a living (something I\\'ve put on hold for the past few years) and burying gold in mayonnaise jars in hard to find places surrounded by tripwires and rabid squirrels. (Okay, I don\\'t actually have any gold, but some of the squirrels in my yard look pretty dangerous.)\\n\\nSo here\\'s the plan: as of today, Hope n\\' Change Cartoons will be published only on Friday - but that doesn\\'t mean that Barry\\'s indiscretions and screw-ups will get a free pass the rest of the week. Far from it!\\n\\nRather, whenever an idea hits me for a cartoon, graphic, or particularly snotty remark, I\\'ll post it immediately on Facebook (which you can see at http://www.Facebook.com/HopeNChangeCartoons whether you\\'re a Facebook member or not), and then I\\'ll repost all of that material (and probably something fresh) for a \"week in review\" here every Friday, where we can continue to kick things around in the comments section.\\n\\nThis will free me to work not only on my personal and (hopefully) profitable ventures, but also give me additional time to think of interesting wrenches to throw into the gears of the Liberal machinery. I\\'m not sure what form those wrenches may take yet, but I\\'m convinced that it\\'s important to create new, non-electoral forms of exercising power (in entirely legal ways) with which to beat the Lefties over the head. And I approach this challenge not only with enthusiasm, but a certain evil glee. \"Bwah-ha-ha\" is definitely going to be a bigger part of my vocabulary.\\n\\nFinally, because I lack the eloquence (and frankly, telegenic good looks) of Bill Whittle, I ask you to take a few minutes to watch this video in which Mr. Whittle perfectly expresses not only our disappointment and anger with the election results, but our individual responsibility to keep fighting as others before us have fought in the face of seemingly insurmountable odds.\\n\\nSo I\\'ll see you on Facebook whenever the mood hits, or see you right here next Friday.\\n\\nNow get out there, hold your head high, and annoy a liberal! -Stilton Jarlsberg\\n\\n88 comments:\\n\\nLets hope we are not defending an Alamo but even if we are I have a duty to stay. What ever trouble I have sleeping at night it won\\'t be from ignoring this duty. I salute you Stilton and wish you the best of it luck in all your endeavors. Better than luck I pray God be with you in your ventures. I am grateful that we will still have your genius and wisdom to look, forward to if only occasionally.\\n\\n@REM1875- Bill Whittle says much the same thing in that video I linked to: at this point, we must continue to fight if only to keep faith with those who have fought and sacrificed previously. Moreover, if we give up, then we lose the right to keep bitching (at that point, all we\\'re doing is whining). That\\'s not a right I\\'m willing to give up.\\n\\n@Coon Tasty- I can\\'t say yet whether there will be LESS Hope n\\' Change, I\\'m just saying that it will be less scheduled than before. Some days, because of my publishing schedule here, I\\'d spend hours and hours combing the news for a story which would lend itself well to the HnC treatment because I had to get something created. Those are the hours I\\'m hoping to reclaim and turn into revenue again.\\n\\n@Stilton,Well, if you insist on doing such an outmoded and eccentric thing like trying to EARN a living, go for it.\\n\\nI\\'ve decided to apply for housing assistance, food stamps, heating assistance, free phones, unemployment, and any other freebie I can get. I hope everyone does this to get the whole \"fiscal cliff\" thing over with sooner, then maybe Canada will take over and we\\'ll have a less socialist government.\\n\\nSeriously, you deserve a break from trying to post three times a week, but I\\'m really glad you\\'re not completely hanging it up. I\\'m confident this bunch of cats can keep the conversation going the rest of the week, although we will end up completely off the subject of the Friday posting.\\n\\nNow, I\\'m going to go out this weekend and buy a couple cases of Twinkies and HoHo\\'s while I still can. Hats off to BO for making such a great business environment for companies like Hostess.\\n\\n@Stilton: My best wishes for your endeavors and not to totally become John Galt. As mentioned and promised (???) I have cobbled together a web site to promote conversation and the exchange of ideas, won\\'t be as humorous as yours, but maybe we can get some conversations going about how to make a change for the 2014 elections. Site: Grumpy Curmudgeon.\\n\\n@Colby- Years ago, I found work drying up in my business (freelance writing) and only after living off my savings for 9 months or so decided to file for unemployment - for which, being self-employed, I\\'d always paid double the taxes.\\n\\nBut I was told that my payments would be based on my last two quarters of earnings, and since I hadn\\'t earned anything - I wasn\\'t worth anything. No cash for you!\\n\\nIn other words, the goverment - which had a clear record of the tens of thousands I\\'d given them for unemployment insurance - was punishing me for not taking assistance until I really needed it.\\n\\nAnd by the way, buying buttloads of Twinkies might be a brilliant investment strategy right now in case no one buys the business - the remaining and dwindling supply will only skyrocket in value. It\\'s gold with a creamy filling!\\n\\n@SeaDog52- Please repost a link to your new site (the current one isn\\'t working). By the way, if the police were told to be on the lookout for a grumpy curmudgeon, they\\'d pick me out of a crowd in a heartbeat.\\n\\n@John Vecchio- I appreciate the thoughts, but you don\\'t have to miss me, you just have to know when and where to look for me! Facebook (randomly), right here (Fridays), and Johnny Optimism (MWF).\\n\\nAnd in truth, you\\'re all getting more Hope n\\' Change than would otherwise have been the case: if Romney had won, it was my plan to only keep the cartoon going through his inauguration and then lock up and turn off the lights after a hard four years work.\\n\\nSo today\\'s change to this website isn\\'t a retreat - it\\'s planting my flag and declaring that I intend to stand and fight.\\n\\n@Sarah Rolph- I really hope this works out in a satisfactory way for everyone. It\\'s a tough call in tough times, but together we can still continue to mock the jug-eared jackass in the Whitehouse and redouble our efforts to turn up the heat on the Left.\\n\\nThis morning I have nothing much to offer, so I will let Winston Churchill speak in my place...\\n\\n\"Success is not final, failure is not fatal: it is the courage to continue that counts.\"\\n\\nAs each day dawns I find less and less to cheer me through another day of service. I feel betrayed by my countrymen, the alleged leaders of my nation, and the dream that once was America. This has not, mind you, diminised in the least my fighting spirit and desire to see our Great Republic restored. I fully understand your need to place personal survival first and applaud your descission to remain steadfast to \"We the People\" following your blog. I remain, your faithful companion down this road fraught with peril.\\n\\n\"We shall fight on the beaches, we shall fight on the landing grounds, we shall fight in the fields and in the streets, we shall fight in the hills; we shall never surrender.\"\\n\\nGeez, it\\'s only been 10 days since the election and the bad news just continues to cascade down on us.\\n\\nSeriously, Stilton, eating is overrated.\\n\\nNo, really seriously, I have a faint idea of how much time, effort, and talent it takes to produce something like Hope \\'n Change. While you\\'ll be missed on Mondays and Wednesdays, at least we all have something to look forward to on Fridays (besides, of course, the fact that it is Friday).\\n\\n@Anonymous- Johnny Optimism is still rolling (so to speak) every Monday, Wednesday, and Friday. With the political scene being what it is, it\\'s all the more important for us to adopt Johnny\\'s attitude of positive thinking, no matter how painful things get.\\n\\n@Necron99- Goosebumps, sir! I have goosebumps!\\n\\n@Pete D- Exactly right. With Johnny, I can just go visit his strange little world and take notes. Nothing is topical - anything funny is fair game. And spending time with Johnny actually makes me happy, which usually isn\\'t the case when I\\'m dealing with the news.\\n\\nBut similarly, the new schedule here at Hope n\\' Change frees me up to do quick \"one offs\" like this one which wouldn\\'t merit a fullblown editorial here, but I can put on Facebook. These are the sorts of things I\\'ll collect for each Friday, so none us should go into withdrawal and we\\'ll have plenty of talking points.\\n\\n@It\\'s No Gouda- Good idea! A lot of my client base supported the sonofagun, so I\\'m sure they\\'ll pay the surcharge happily.\\n\\nI will miss you on Mondays and Wednesdays. Sometimes your blog was what got me through the week. Now I guess I\\'ll have to think of Hope N Change as a reward for making it through the week.I have to admit, I am looking forward to getting to know the cummergudgeon better, so I guess all is not lost.\\n\\n@CenTexTim- Thanks for understanding. It takes a lot of time, and not just at the computer keyboard. Plus, some of the creative endeavors I want to get back to actually do odd things like make me happy and energize me (and occasionally earn money). So I\\'m definitely not surrendering - I\\'m just marshalling my strength so I can be a bigger pain in the butt to the Left for another four years!\\n\\nWhen stocking up on Hostess products, don\\'t forget the Choc-O-Diles! A chocolate-covered Twinkie sounds a bit excessive, but God help me, I LOVE \\'em!\\n\\nThe worst part of the Hostess debacle is it will put not only the unionized workers out of work (well, they have done it to themselves if you ask me) but also the bakery thrift shop I go to will close. So it\\'s not just the bakers, but all the thrift shop stores will go down the drain, too. Thanks, union \"workers\" for doing your part to kill LOTS of businesses! And it was SOOOOOOOO important to re-elect Barack Hussein, right?\\n\\n@graylady- It\\'s tough on my end, too, I assure you. But start making a habit of visiting JohnnyOptimism.com on Monday and Wednesday just to get a bitesized bit of my usual off-center humor, and then Friday we can all get caught up together!\\n\\n@JustaJeepGuy- I loved it when we had a Hostess discount store nearby (though my waistline definitely doesn\\'t need any chocolate-covered twinkies, no matter how marked down they are).\\n\\nAnd pardon me if I don\\'t cry a river for the union bakers who wouldn\\'t accept an 8% annual decrease in wages: I\\'ve lost about 10% of my retirement funds in the ten days since Obama\\'s reelction - and expect it to continue going downhill.\\n\\nI keep looking for the upside. The main one I see is the \"fiscal cliff\", which we would have hit no matter who won the election. Yes, it\\'s going to be painful. But the upside is that for the most part, it\\'s going to be at least as painful for the hopeychangy people who honestly think things will get better under Obamanomics. College kids will continue to return to their parent\\'s basements. Careers will be stalled for at least a decade. People in every sector will continue to lose their jobs, and those who manage to keep their will continue to be consumed by inflation. Perhaps that is what its going to take for the lesson to sink in.\\n\\nOn the other hand, as long as the Econ family remains healthy, I only have 13 more insurance payments to make until I can change from my \"high deductible\" plan, to my \"really high deductible\" plan under ObamaCare. That would be the one where I just go ahead and drop my insurance and pay the fine, which is a small fraction of what my insurance costs now. And if we get sick, we can just buy insurance then. It will be like a $10,000 raise; something that hasn\\'t happened in the better part of a decade now. I\\'m happy to let others pay for Sandra Fluke\\'s birth control and abortions.\\n\\n@Stilton - I\\'m grateful and relieved that you\\'re continuing this blog. I\\'ll continue to check this site daily, just as I have in the past, because your followers will, I\\'m sure, continue to offer their insights (to which you will add yours, I presume) so that I expect your Friday post to continue to have fresh contributions right through to the next Friday post!\\n\\nJust here - thanks for everything you\\'ve done SJ - the five, then the three, & now the one w/ surprise guests every now & again. I know you\\'ll find an income - hope it\\'s doing what you love to do.As for the rest of you - what a treat this has been. By the way, I had heard today, on Rush\\' Show, that \"We The People\" have a petition to Pres. O to take over the Hostess Company & then give it to the unions to run - much as they did with GM, etc. But the \"We The People\" group is none other than the White House - so it is the WH asking people to sign a petition imploring the WH to buy Hostess. And the country yawns. After the Bill Whittle video, I\\'ve become empowered to stay the course - if only for my love of country, for my father\\'s service to this country in WWII as a signalman 1st Class (semaphore), to all who served before my time, & finally to all who serve & will continue to serve this great country.The storms, the struggle for those of us from NJ to get tough & make the much-needed recovery, & this election had taken a toll on my emotional state. I can say now, though, that although the return to \"normal\" will be long & hard, it is something I can actually imagine one day. So - hope does spring eternal!\\n\\n@Irene Peduto,If ever you are down around Trenton, give me a shout. Stop by Wildflowers Bar on the Pennington Circle on Route 31 and ask Kelly or Shannon to call \"Kuz\" .I\\'m a fair to middlin\\' chef and when not depressed over the state of the Union, a failry funny guy.....no, really my Mom told me so!!Any friend of Stilt\\'s is a friend o\\' mine.\\n\\nThanks for the comments from those who have visited Grumpy Curmudgeon, like I said, it\\'s not to replace Hope-n-Change, but to dig a little deeper, flesh out some ideas, and generally kick around some liberal butt, at least verbally.\\n\\nRe: Hostess, brings to mind years ago when NW Airlines had a maintenance unit that did airframe refurbs on their airliners. They did it so efficiently that other airlines contracted work to them. The mechanic\\'s union decided it wanted an approx 200% raise, from $22+/hr to $42+/hr. The company said it couldn\\'t meet that and still undercut the cost of the other airlines doing it in-house, so the union went on strike. The company shut down the facility and contracted the work to the other airlines that they had been doing work for. Fox News interviewed a number of mechanics that were now working a Walmart, Sams, Krogers, etc., that were blaming the company because they didn\\'t have a job anymore. Another prime example of union leadership stupidity. PS: Before being promoted to management, I was a union steward, so I know both sides of the equation, and do I have stories about both sides.\\n\\nThings do change, as life always does...I thought you were independently wealthy or something the amount of time I know goes into creative endeavors! I sure can\\'t afford to crank out toons and peruse as you have. Good luck with your new path and thanks for all the efforts that are reflected with gratitude in the comments today!\\n\\n@John the Econ- I haven\\'t found any upsides yet, and believe me - I\\'m looking! Although if anyone has had trouble losing weight because of a Twinkie addiction, life just got better.\\n\\nI have no frickin\\' idea where I\\'m at with Obamacare as far as it affects me personally. My private healthcare policy just got raised to over $20k a year (for a policy that sucks, for me, my wife and daughter). Part of the increase? Paying for the \"free\" services mandated by Obamacare for new customers but not OLD customers. So I get the bill and none of the service. And will I get governmental help paying my premiums (trust me, I could qualify)? Nope! Because Texas isn\\'t setting up an \"exchange,\" so I can\\'t buy low-cost insurance, nor get credits toward paying. So basically, I\\'m hosed and not happy about it. Although if some of my money is going to keep little Sandra Flukes from being released on the world, I\\'m cool with that.\\n\\n@Chuck- I\\'ll probably be experimenting with the format. It might be possible for me to do the \"random postings\" HERE as well as Facebook - I just couldn\\'t guarantee that I\\'d always make timely responses to comments if I did at all. But would folks find that preferable? I dunno - and opinions are welcome!\\n\\n@WMD- I\\'d like to think that\\'s the case, but as General Petraeus reminds us, guys aren\\'t always picking their bedmates based on personality. Or logic.\\n\\n@Irene Peduto- Very well said! And I hope the government does buy Hostess- I\\'ve always wondered what a $5,000 electric wind-powered Twinkie would look like...\\n\\nMore seriously, Whittle\\'s right that we need to fight even harder now - even if in different ways than we\\'ve fought in the past. Not because we\\'re guaranteed to win, but because we can at least guarantee that we never surrendered nor abandoned our posts.\\n\\n@Queso Grande- I think we just chose the site of the First Annual Hope n\\' Change Social Club Celebration. First round of drinks is on me!\\n\\n@SeaDog52- Labor unions had their time and place, but for the most part it\\'s not here and not now. And I hope the Twinkie debacle may help wake some people up.\\n\\n@PRY- I\\'ve never been independently wealthy, but have flirted with being independently solvent fairly successfully. My house is paid for, my 20 year old car is paid for, and I\\'m a cheapskate my nature - so bills have been controllable. But last year, I actually paid more in federal taxes (including social security and self-employment taxes) than my total net income. Sound impossible? It\\'s not: it simply means I spent more on the costs of my business than I earned (reducing that net income), but still had to pay all of the self-employment taxes on the unreduced gross income. And that\\'s just stupid.\\n\\nAnyway, I\\'m not really striking out on a \"new path\" here: I\\'m simply working on my time management skills, creating more room for the personal (and happy/money making) ventures, while still fighting the good fight in the company of all your good folks!\\n\\nObamaCare will finish off the insurance industry faster than anyone realizes, especially when healthy people like you and I bail. (Private industry doesn\\'t have a chance when their primary competition gets to literally print money) Obama gets a short-term win because we\\'ll be paying the tax instead of buying private insurance, which he really doesn\\'t want us doing anyway. When it all collapses, the Democrats will finally get their ultimate achievement, \"single payer\". The GOP will happily sign off on it.\\n\\nOf course, once the government is totally in charge of our health care, we\\'re all screwed; they\\'ll literally have us by our balls.\\n\\nThe upside? I get to retire in my 50s, just like they do in Greece. To make up for what we used to pay for insurance, income taxes will be raised to make up the difference. Except, they can\\'t possibly tax \"the poor\" with those kind of numbers. So income taxes will get even more progressive. And it won\\'t make any sense to work any more than for poverty wages.\\n\\nI\\'ll now get my (albeit mediocre) medical care for \"free\", will work just enough to keep the lights on, all the while the youngsters who have nothing get the bill for it all.\\n\\n@John the Econ- See, that\\'s sort of a funny definition of an upside. Although at this point, I could get a small chuckle out of having any of medical expenses paid by the young Obama voters who think they just cast a ballot in favor of free stuff for themselves. Wake up and smell the Starbucks, you weenie little libtards!\\n\\n@Irene Peduto- I can tell you this in an sincerity: there\\'s no group of people on Earth that I\\'d rather get together with than the ones who meet here.\\n\\nTGIF will now have an even greater meaning! Best of luck on all future endeavors. May God bless you and all of us as we strive to get through the next four years and beyond. May be never forget the country we once had, and may we work to get it back!\\n\\nThis will free me to work not only on my personal and (hopefully) profitable ventures,\\n\\nI was kind of perplexed as to what kind of \"profitable ventures\" are possible under an Obama presidency. Then this item made me aware of the possibilities: scamming gullible Democrats for a $40 fee for a forgivable loan to pay overdue cell phone, electric bills, etc.\\n\\nThe company, My Bill Assist, offers people up to $1,500 in loans for rent, car payments, and utility and cellphone bills. Applicants have to pay only an application fee of $20 and a membership fee of $20 for the bill assistance program and wait for the check to show up. Some applicants were told they wouldn\\'t even have to pay back the loan, which was to come from the federal government.\\n\\nWord of the free money spread quickly in Milwaukee over the past three weeks, and applicants flocked to the company\\'s location at 2821 N. 4th St. for appointments. Sharon Austin, a disabled and retired Milwaukee resident, was one of them.\\n\\n\"The word-of-mouth just spread it everywhere. I heard a lady say, \\'Go get the $1,500! It\\'s free money!\\' \" said Austin, who later contacted the Journal Sentinel.\\n\\n\"At first we were told it was from President Obama, who had put up some funds for people who are having trouble with their bills...\"\\n\\nI see a vast market for this kind of thing (i.e, 47% of the population).\\n\\nI just read an article from...somewhere...about Hostess and its troubles. All right, it isn\\'t solely the unions\\' fault. Still, they\\'ve long since gone outside their proper functions. So have the management people. Paying someone $1.5 million per year when the company\\'s floundering? Not wise! And these people are supposed to be professionals?\\n\\nI\\'m glad you built this community, Stilton, where we can get together and blow off steam when things seem so out of control. I will miss your posts on Monday and Wednesday, but will have even more reason to look forward to Fridays!\\n\\n@Cookie- I truthfully thought about \"TGIF\" before deciding that Friday is the easiest day for everyone to remember to head over here! And thank you for the well-expressed thoughts.\\n\\n@alan markus- Wow, I hadn\\'t event thought of victimizing the dolts on the Left. Now all I need to do is figure out how to do it in a legal-ish way...\\n\\n@JustaJeepGuy- I\\'m sure that at Hostess there were plenty of problems to go around, but I\\'m still surprised that people wouldn\\'t take a wage cut in this jobless economy.\\n\\n@Necron99- I think I need to find a nice graphic version of \"If you\\'re going through Hell, keep going\" to hang on my office wall. And I\\'m not kidding.\\n\\n@David B Finlayson- Awesome? Wow, imagine how great I could be if I were cold sober! (grin)\\n\\n@SusieBee- This is a great community, and the insights and experience of \"the regulars\" make this a much more robust site than I could ever do on my own. And of course, the friendship is the best part of all.\\n\\n@John the Econ- You\\'re quite right that \"crime\" is now more a matter of semantics and technicalities than actual moral wrongdoing - otherwise the entirety of Washington DC would be a federal prison by now.\\n\\nI remember posting this months ago...but its proven very true, and thats sad... from a Prague newspaper...\\n\\nThe danger to America is not Barack Obama, but a citizenry capable of entrusting a man like him with the Presidency. It will be far easier to limit and undo the follies of an Obama presidency than to restore the necessary common sense and good judgment to a depraved electorate willing to have such a man for their president. The problem is much deeper and far more serious than Mr. Obama, who is a mere symptom of what ails America. Blaming the prince of fools should not blind anyone to the vast confederacy of fools that made him their prince. The Republic can survive a Barack Obama, who is, after all, merely a fool. It is less likely to survive a multitude of fools, such as those who made him their President.\\n\\n@PRY- Yes yes yes yes yes. That\\'s me agreeing with the editorial, by the way, and not the sound of General Petraeus\\'s slut/mistress/spy at work.\\n\\n@Red- Facebook is sort of a necessary evil (to me) in trying to spread material around the web. You can look at my timeline (with cartoons and such) WITHOUT logging on to Facebook or even being a member. That being said, this blog is - and will continue to be - home base.\\n\\n@Queso Grande- \"Galaxy Quest\" is a movie that shouldn\\'t be good, but really is. I think it may be time for me to watch it again...\\n\\nYeh, I really hated to see Petraeusget into hot water as he did after how faithfully he served his country...could happen to anyone though. I\\'m sure it was not a planned thing (on his part anyway), and I feel for his wife and family.\\n\\n@Necron99- Although it seems mathematically impossible, I believe that way more than 50% of voters are below average.\\n\\n@PRY- Well, it couldn\\'t actually happen to anyone; just someone who didn\\'t take a vow seriously enough. That\\'s a problem in a husband AND a CIA chief.\\n\\n@Anonymous- Cartoons \"suitable for the whole family?\" Would you like it if I had Barack Obama running around the neighborhood causing mischief (with a little dotted line showing where he\\'s been) like in \"Family Circus?\"\\n\\nI do try to keep a civil tongue in my mouth, but there\\'s just something about anti-Americanism, the destruction of our economy, and dead ambassadors being used as political fodder that riles me up a bit.\\n\\nStill, you\\'ve shared your honest opinion and for that I thank you and the horse you rode in on.\\n\\n@Anonymous. Are you serious? Do you not know the meaning of satire? Did Swift actually advocate eating children when he wrote, \"A Modest Proposal?\" Satire is complex, layered, sometimes subtle, and often provocative. It is designed to get people to THINK. For the last four years we have endured the most devisive president in my 60 plus years of life. He is bankrupting this country and our children\\'s moral, cultural, and fiscal future. As this country seems headed down the toilet we can only hope that Stilton uses whatever means necessary with his cartoons to wake people up. If you\\'re offended by potty talk and can\\'t summon the will to think about what\\'s being said, just go away. If you were foolish enough to let children visit this site, then you\\'re stupid. This isn\\'t Sesame Street. People who post here are serious adults, talking about serious issues. And we are capable of respectful disagreement.\\n\\n@Chuck. Thank you. But damn, I hate to misspell. (And I\\'m not sure how that\\'s spelled.) When talking about Obama I should have spelled it \"divisive\". I was on a rant, and maybe meant \"devious.\" Similar meanings?\\n\\n@Earl- Thanks for the robust defense! I\\'m still a bit rocked on my heels that Anonymous thinks a blog about serious current events should be \"family friendly.\" Those current events include the murder of four Americans in Libya (and the sodomizing of our ambassador\\'s corpse), sexual dalliances, an out-of-control Justice Department responsible for rampant voter fraud and hundreds of \"fast and furious\" deaths in Mexico. The president\\'s declaration to the world (echoed by our Secretary of State) that Freedom of Speech does not extend to speaking ill of Mohammed, the rapid and seemingly unavoidable approach of a \"fiscal cliff\" which will cripple the future of every child in America, and the likelihood that Barack Hussein Obama\\'s rejection of Israel as an ally and gifting of Egypt and Libya to the Muslim Brotherhood will soon touch off a war with almost unimaginable possible consequences.\\n\\nThese aren\\'t stories for children: these are stories about the betrayal of our children - and about the people who would like to limit the damage if possible.\\n\\nHowever, just to show I\\'m a good sport, let me remind Anonymous that my other cartoon, Johnny Optimism, is absolutely family friendly and free of potty language. It\\'s about children and dogs and love.\\n\\n@Chuck- Yeah!\\n\\n@Earl- Ha! You said \"damn!\" Now Anonymous has got someone else to be mad at!\\n\\nAnonymous sounds like one of those wimps that believe \"Its The Great Pumpkin Charlie Brown\" is \\'to mean\\' for kids to watch today...\\n\\nI guess next they\\'ll want to re-in vision \"The Grinch Who Stole Christmas\" into \"The Community Organizer Who Over Taxed Us for Christmas So He Could Give Our Money To His Supporters For Ramadan & Kwanza\".\\n\\nWon\\'t that just warm the cockles of your pea pickin\\' little heart, Anonymous?\\n\\nThis the closing paragraphs from Glenn Fairman, of American Thinker, after he comments on becoming an antique in this culture...many of us will relate to his view...\\n\\nThis journey into personal antiquity has taught me that the values and beliefs I hold more dearly than gold are not of themselves dusty and timeworn -- ready for the ashcan of history. In fact, I never cease to be amazed at all manner of people, young and old, who I would have never suspected hold firm and cherish these Old Ways and have not bent their knee to Baal.\\n\\nAs we begin anew another four years of Presidential exile beside the dark rivers of Babylon, let us not cease our yearning for the beautiful cause that we hold so deeply within our hearts. The Founders\\' glory still waxes within our imaginations, and before long (and even now), we shall have shaken off the dust and sackcloth of recrimination only to draw the sharpened saber once again.\\n\\nOur ways are old, but they are true. Better to fight and acquit ourselves with courage, even in defeat, than acquiesce those blood-bought principles and pass into the horizon, like a drifting constellation in the night sky.\\n\\nI lost a childhood friend today. An individual I grew up with and have know for over 30 years. I hadn\\'t spoke with him since October and when I gave him a call today he answered the phone drunk. Not to judge, but I inquired why he would already be plastered at 11:00 on a Sunday morning. His response sickened me to the core; he said that he and his friends in Jacksonville, Florida had pretty much been partying in celebration ever since 0 got re-elected.\\n\\nKeep in mind, this is a guy who lives with his mother and has been cronicly unemployed since the 90\\'s mainly because he doesn\\'t want to work. He thinks 0-care will be the answer to his prayers and gain him some kind of trumped up disability check.\\n\\nI asked him how he could do that after the last 4 years of The Prince of Fools reign? After Fast & Furious? After Behngazi? After the squandered bail outs & nonexistent jobs? what happened to the kid I knew that used to call Ronald Reagan his hero?\\n\\nHis response was, \"Well, I grew up!\"\\n\\nThis is roughly what I said before hanging up and deleting his number from my phone;\\n\\n\"Envy the country that has heroes.\"\\n\\nI say, \"Pity the country that needs them. What are you celebrating? Four more years down the path that leads to America becoming a third world joke of a nation, the dream of our founding fathers all but dead? And you libtards call this progress? Oh, yeah. With that kind of \\'progress\\' at the dimocraps rate, we might just be getting somewhere in about 320 years. Is that what you want? You want a little accommodation and unearned money from these animals you voted for? No Sir. These beasts live on manipulation & control. They feed on extinguishing liberty. There\\'s no middle ground...not for them, not for us. And sure as hell not for the people who died defending American principles for the past 236 years. But you libtards go ahead. Have your little... soiree. Personally, you disgust me.\"\\n\\n@PRY- Those are fine words (and I agree with them), but I can\\'t help but feel the weight of the phrase \"even in defeat.\" How do we win the battle to help those who don\\'t want our help, and hate us for trying to deliver them to freedom - with all of its responsibilities and risks.\\n\\nWe\\'re trying to feed brussel sprouts to petulant, spoiled children; we will be spat upon for our successes.\\n\\n@Necron99- Well, damn (sorry Anonymous! I meant fiddle-dee-dee!). Sorry to hear about you losing a friend, and sorrier still to hear about him losing his mind and his love of country. Now in fairness, I should admit that my Blood Alcohol level has also been elevated since election day, but it\\'s sure not from celebrating.\\n\\nBy the way, barnacles don\\'t \"grow up\" - and your friend sounds like he\\'s now a barnacle. He\\'s attached himself to an unmoving spot where sustenance will float his way. And he\\'ll grow larger, but never more mature, more responsible, more ambitious, or more capable of being anything other than a barnacle. And I\\'m sorry you had to see that.\\n\\nI, too, know people who simply suck from the government teat and count themselves ahead of the game by doing so (and let me be clear - I\\'m talking only about people who do not have legitimate needs for help). And yes, they disgust me.\\n\\nSo true. As I have considered the post-modern mindset of the \\'Milleniums\\' as the younger set is referred to,(but it also applies to folks older than them), I realize they have been reared not as you or I have, but they might as well be from another planet as far as how they think!\\n\\nI hate to even think it, much less say it, but the only thing I can think of that turns a civilization around is total breakdown so the only way to look is up, because you are totally at the bottom with nowhere else to look. Then and only then will some people, not all, consider a different way of thinking about things. It has happened before. Ever since the election, things have seemed a bit unreal, because we all felt strongly that SURELY it was over!\\n\\n@Necron99, you should have told that former friend that he DIDN\\'T grow up. Had he done so, he wouldn\\'t still live with his mother--unless he was supporting her, not the other way around.\\n\\nPersonally, I don\\'t see any point in trying to fight within the system any more. Let it crash and MAKE Barack Hussein take the blame. After the crash, the Demo_Rat takers will come to the makers and beg for help. Help should NOT be given! It\\'s tough love time! Who is John Galt?\\n\\n@JustaJeepGuy, It would have been a waste of breath for me to tell this guy he isn\\'t a grown up. He\\'s always been dependent on his mother to pick him up when he falls down. I don\\'t know if he\\'ll ever learn to walk (much less think) on his own. I had big hopes for him years ago when he joined the service, but of course that didn\\'t work out. They had the nerve to expect him to actually go into combat after putting him through school, so he got out on a medical. Then he was going to be an actor/model, but Gieco already had enough metrosexual cave men so he switched gears and became a wedding photographer. Problem with that is you need some skill with a camera to profit from that career. And then there was selling insurance, which is hard when you have no people skills (and look like the Gieco cave man) and the failed attempt at being an IT guy when you can\\'t even follow a simple Windows tutorial.\\n\\n@PRY- I\\'m afraid that these days, I think that nothing short of economic (or other) disaster might wake up enough people to return to our core principles. But it would have to be big and have to happen fast: currently the frogs are in the pot, but the temperature is being turned up so gradually that they don\\'t mind being cooked.\\n\\n@Traci- I need the boost, too! Thank you for the nice thoughts!\\n\\n@Necron99- Ouch. Some people aren\\'t cut out for entrepreneurism, and I\\'m sure they embrace a government which lets them simply suckle.\\n\\nSuccess (as opposed to sucking excess) is always going to be a balance between talent and hard work. It\\'s a shame that so many never bother to develop the first, and have no desire to do the second.\\n\\n@JustaJeepGuy,I think the crash is inevitable, but BO taking blame? BO is just like Necron99\\'s ex-friend; everything bad is always somebody else\\'s fault. If something good happens, he beats his chest, but look at how the alleged president is squirming his way out of the Benghazi thing.\\n\\nWhat\\'s happening right now in Gaza and Isreal is going to make Benghazi look like an elementary school playground fight. Will Crap Weasel escape blame there? Sadly, I think he will. He might even be successful in making Israel out to be the bad guys here, and that, folks, scares the shit out of me.\\n\\n@justajeepguyALL of O\\'s strategies or non- strategies scare me. I really awaken from sleep with his words playing out in my mind. My progeny will suffer so unless the USA makes a radical change. #SJ the frogs - all of us actually - have been in thus slowly warming pot. Hopeless is not a good state to be.\\n\\n@CenTexTim and @Earl - I\\'m with you, kind of, but I know we can adapt. Withdrawal is tough, but I think we will make it as long as the conversation continues and Dr. Jarlsberg comments as he is able.\\n\\nWe are all painfully aware of the shortcomings of this administration, but it is what it is. One of two things happens in 4 years. We get a new President or we have Øbama for life (his not ours). We don’t have to worry about getting out a vote against him this time ... and I think that almost bothers me the most!\\n\\nA friend sent me cartoons which she thought were from Canada. They were all Hope n Change. She praised the artist for his honestly sans pc & for his astuteness. I told her it was Stilton\\' s & that he\\'s AWESOME. Just sayin\\' SJ. Mondays are full of all of the stuff hidden on Fri. PM. Love the exchanges but Monday is still Mon & chock full of newsy stuff.\\n\\n@Colby- Totally agreed on Benghazi and Israel. Our ally is getting pounded with rockets, and the strongest thing B. Hussein can come up with is that our country \"supports the right of Israel to defend itself.\" Wow? Really?! How magnanimous of you MIS-ter president.\\n\\n@Irene Peduto- No question that ALL of us are frogs in the same pot, but there\\'s so many in there with us that those of us who see the danger still can\\'t escape.\\n\\n@CenTexTim- I\\'m going through withdrawal too. For now I\\'m going to try to stay with the new schedule, but nothing\\'s written in stone.\\n\\n@Earl- You\\'re right about the \"news dumps\" on Friday afternoons. So I don\\'t know (sigh). I\\'ll mention that my new schedule isn\\'t based on just politics or finances - there are some health issues in my immediate family that are distracting too (so as not to worry folks, it involves epilepsy and getting the meds right to treat it - prognosis is excellent). And of course, Obamacare and the health insurance industries make all of that a PITA to deal with. (Acronyms are okay, right Anonymous?)\\n\\n@Chuck- We\\'ll figure out the rhythms of HnC 2.0 together, and I\\'m still here.\\n\\nAnd frankly, I\\'m not that interested in how people vote next time around (assuming there is a next time around, which I currently don\\'t). Different action is now called for, probably in the way the financial power of 50 million pissed-off people is exercised.\\n\\nI\\'ve been thinking I\\'d like to see a really major, well-funded well-organized website with a theme like \"Don\\'t Buy And Tell Them Why\" where we could easily see which companies are Democratic donors so we can take away our business. I\\'d additionally like to see such businesses targeted for VERY LARGE protests on a VERY REGULAR basis.\\n\\nI\\'m still hoping/waiting for a great idea to hit for direct action. I think it\\'s time.\\n\\nIrene, TWICE I\\'ve gotten H&C collections (possibly the same ones) claiming Was published in a Brit paper. Replied that the sender should send back \\'up the chain\\' that he\\'s HERE, actually, and QUITE funny, and could use the fan base. Now, THAT being said - Stilt, have you THOUGHT of MSM publication? Foreign, if not domestic? Just sayin... (and yeah, been MIA all weekend due to internet issues, hopefully now all resolved again...)\\n\\n@Chris Muir- Thank you, sir! In case any readers don\\'t recognize Chris\\'s name, he does the great \"Day by Day\" cartoon strip that should be on everyone\\'s reading list. Moreover, he somehow manages to create his cartoons without using clipart. Imagine my envy!\\n\\n@Pete(Detroit)- I\\'ve never seriously considered MSM syndication because I don\\'t think there\\'s much of a market for my kind of humor, and I\\'m unwilling to rein in my opinions. Maybe I should sniff around a little, though. (For what it\\'s worth, I\\'m in regular contact with some conservative editorial cartoonists who actually ARE syndicated - and I know that the market is hard for anyone who isn\\'t smooching Obama\\'s hiney.)\\n\\nActually, I think it\\'s a tribute to our host that his work is going global! Perhaps a syndication deal is in your future Dr. Jarlsberg!\\n\\n@Stilton,I agree that it is time to be more pro-active, and love your idea of an online database of \"offenders.\" I\\'ll nominate GE to be at the top of the list. I also would like to see something like this for the businesses that do things right, such as Chick-Fil-A, so we can give them extra support if possible.\\n\\nI would like to wish everybody at H&C a wonderful Thanksgiving, and try to NOT think of BO and the mess he\\'s gotten us into for a day or two. If you are a believer, please remember that God did not get us into this, but he can sure get us out if we trust Him. Keep the faith and keep \"fighting the good fight\" as Paul would say.\\n\\nUnrelated topic: Have heard several pundits dis Israel\\'s amazingly effective \"Iron Dome\" as a \"failure\" because it\\'s only 80% effective.\\n\\nPutting aside the startling and amazing performance of the Iron Dome missile defense system, wouldn\\'t it be really nice if liberals would demand the cancellation of all other programs that were less than 80% effective\"?\\n\\n@John the Econ,What a concept! If we shut down the parts of government that are less than 80% effective, DC would be a ghost town. I\\'m betting a huge chunk of it would be toast, even if we lowered the bar to, say, 20%.\\n\\nOf course, I\\'m saying \"we\" like \"we\" have any say whatsoever in what happens in DC.\\n\\nReaders- Spoiler alert: there will be a new cartoon posted tomorrow. I was starting to twitch. This doesn\\'t mean I\\'m changing the new publication schedule: it means I don\\'t know exactly what I\\'m doing...\\n\\nPete, Irene, Necron99, Earl and others- Thanks for the encouragement (even if it\\'s sort of like buying an alcoholic another drink). Since we\\'re all \"just folks\" here, I\\'ll say that I\\'m confused and conflicted about what to do. I\\'ve got to put quality time into other projects and responsibilities, but I may also bust a gusset if I can\\'t vent. And we all know how painful gusset-busting can be.\\n\\nStilt, thanks for being here for us, but, you have to take care of your family 1st Although, I sometimes feel like here at HnC we’re a big family & I definitely have more opinions in common with THIS family than with a fair number of my own, sigh.\\n\\nFor years I’ve been thinking about a 3rd party. I know, it screws up the GOP, but, haven’t they been screwing us, too? Just not as hard as the dems. (Uh oh, no bad words, but Anonymous may not like this) I think a real “Conservative” party is what is needed, something like the Tea Party. Just throwing it out there.\\n\\nTake care & Happy Thanksgiving to everyone. We really do have so much to be thankful for.\\n\\nHnC is like a drug, just gotta have it, but it’s so good that once a week (with comments in between) works for me.\\n\\n@necron99, two things:I have also just gone thru what you did vis-a-vis a friend. It\\'s hard.And I am in AWE of your usage of Swift. Gah!! We have so degraded the intellect of the population that when such a referrence is made, I experience a frisson of ecstasy!!Many have said I am weird.@ChrisMuir, It was great to see you back!! Sadly, both you and Senor Jarlsberg are \"Websensed\" out of reach, I only get to check in at home.....2 dogs, one li\\'l gal and a wife keeps me busy. Really happy to see you back. @Irene Perduto, it appears that our host\\'s desire to remain anonymous may preclude his appearance at de pizza and de beers, but any Central Jersey folk who wanna do something, chime in and I will set it up. It would be great to get together before Christmas.@StiltonJarlsberg, content is king. Have you considered creating a nom de guerre and writing drek for shekels? Seems a ton of outlets for that nowadays......Go with Che Markowitz or maybe Syx Seazons. Tell everyone it\\'s pronounced \"shayZAHNZ\".And laugh all the way to the bank.......\\n\\nFree Hope n\\' Change Ebook!\\n\\nClick book cover for download instructions\\n\\nLegal Disclaimer, Terms of Use, And Other Lawyerly Stuff\\n\\nDISCLAIMERThe thoughts and opinions expressed in the cartoons and commentary section represent the personal opinions of the author, which are subject to change over time, and which are reasonably eccentric even on good days. These opinions are intended to be entertaining, stimulating, and occasionally challenging but are in no way intended to do harm. HopeNChange Cartoons should not be considered a reliable news source, but instead as an advocacy entertainment outlet much like MSNBC, CNN, NBC, ABC, CBS, and the New York Times.\\n\\nOpinions expressed in the Comments section are the sole responsibility of the people who post those comments, and HopeNChange Cartoons accepts no responsibility for the content of those comments. Additionally, by submitting comments you agree to subject your opinions to peer review and remarks, which means you may get conversationally kicked around like a soccer ball, or accused of being something small and moist found in the back of a dark cave. Furthermore, you agree to indemnify and hold harmless the owners of this website, its staff, and its subsidiaries. By submitting e-mails and comments to this site you agree to the above policy. The owners of this website also reserve the right to reveal your identity (or any other related information collected on this service) in the event of a formal complaint or legal action arising from any situation caused by your use of this forum.FAIR USE NOTICE: This site may contain copyrighted material the use of which has not been pre-authorized by the copyright owner. Such material is made available to advance understanding of political, economic, scientific, social, art, media, and cultural issues. The \\'fair use\\' of any such copyrighted material that may exist on this site is provided for under U.S. Copyright Law. In accordance with U.S. Code Title 17, Section 107, material on this site is distributed without profit to persons interested in such information for research and educational purposes. If you want to use any copyrighted material that may exist on this site for purposes that go beyond \\'fair use\\', you must obtain permission from the copyright owner. If you feel that any of the images used on this site infringe on YOUR rights, please contact us via the e-mail posted on this page and we will happily comply with your request and remove them. All original photos and montages posted on this site are owned by me and marked to distinguish. \"Hope n\\' Change\" Cartoons may be freely reposted for non-profit use without additional permission, but must contain the full header, author\\'s name, and copyright information. Material from this site may not be collected, printed, or sold in any form without specific permission from the author - who may be, for all you know, a bloodsucking parasitic lawyer just aching to file a lawsuit, take your life savings, and leave nothing more than your dried and dessicated carcass like a dead mayfly on a windowsill.\\n\\nIndividuals, entities, or groups legally affiliated with any governmental organization, investigative body, or the Internal Revenue Service agree that accessing this site constitutes a review of the political beliefs of the author, and subsequent actions, investigations, or audits of the author constitute a deliberate and premeditated attack on the author\\'s first amendment rights, the damages for which will make the Pigford settlement look like a joke.HopeNChange Cartoons is based in, and subject to the laws of, the United States. We are neither cognizant of nor responsible for the laws in any other countries, districts, emirates, theocracies, principalities, directorates, or dictatorships. Additionally, the cartoons and commentary are published in English, and we accept no responsibility for words or opinions which may appear differently or have offensive meanings in other languages or alleged cultures.', 'Consumer sentiments falls in US\\n\\nMarch 13, 20151,548 Views\\n\\nConsumer sentiment in US fell more than expected in February, dropping from an 11-year high on concerns about wage growth, a survey released on Friday showed.\\n\\nThe University of Michigan’s preliminary February reading on the overall index on consumer sentiment came in at 93.6, below the final January read of 98.1. It was below the median forecast of 98.1 among economists polled by Reuters.\\n\\n“Although confidence reversed the January gain, returning to the December level, the Sentiment Index was still higher than any other time since January 2007,” said Richard Curtin, the survey’s director.\\n\\nThe survey’s barometer of current economic conditions fell to 103.1 from 109.3, below a forecast of 110. The survey’s gauge of consumer expectations slipped to 87.5 from 91, below an expected 92.2. The survey’s one-year inflation expectation was 2.8 percent, compared with 2.5 percent in January.', 'GURGAON-HC allows police to resume raids on MG Road clubs\\n\\nDecember 04, 2018 05:15 AM\\n\\nCOURTESY THE HT DEC 4\\n\\nLeena Dhankhar leena.dhankhar@htlive.com ■HC allows police to resume raids on MG Road clubsGURUGRAM: The Punjab and Haryana high court on Monday allowed the Gurugram police to resume inspection of the clubs and bars on MG Road, where alleged immoral activities were being carried out. The court had barred the police from taking any coercive action on July 31, after some club owners had approached the HC against revocation of no-objection certificates (NOCS), mandatory for running the clubs, and the repeated raids by the local police.\\n\\nYOGENDRA KUMAR/HT ARCHIVEFollowing the police crackdown on pubs and bars on MG Road in July this year, the entry of single ■ women had been barred by club owners.On Monday, the court also directed the Gurugram police to submit suggestions by December 20 to ensure that no immoral activities take place on the Mall Mile.\\n\\nAfter receiving several complaints from local residents, alleging prostitution and sex rackets on the Mall Mile, the police had conducted a series of raids in June and July on multiple clubs on MG Road. Three criminal cases were registered against three clubs for their alleged involvement in immoral trafficking. Seven people, including two night club owners, were arrested from Sahara and MGF malls for alleged involvement in flesh trade on July 4. Four others, including two night club dancers, were arrested on July 19 from other MG road clubs.\\n\\nK K Rao, Gurugram police commissioner, had written to district deputy commissioner Vinay Pratap Singh on July 24, stating that the NOC issued to these clubs has been withdrawn with immediate effect. He also recommended that the excise department cancel their licences.\\n\\nUnhappy with the police action and fearing the closure of their clubs, the owners had approached the high court and managed to get a stay order over the revocation of the NOCS on July 31.\\n\\nThe HC stay on the revocation of NOC is still in place. However, the court has now allowed police to inspect and book a club owner, if illegal activities were being run from there.\\n\\n“We have formed teams on Monday to check illegal activities in these clubs. We will take strict action against those found involved in prostitution or any other illegal activities,” said Rao.\\n\\nViajypal Yadav, president of the MG Road bar owners’ association, said the police cannot take any aggressive action. He said the inspection can be conducted only by police officers of or above the rank of assistant commissioner of police along with the officials of the excise department. “There are CCTV cameras everywhere, we cannot tamper them or get involved in any illegal activities. We have invested crores of rupees. We will fight against the coercive steps by the police even if we have to approach the Supreme Court,” said Yadav.\\n\\nThe club association members alleged that though police had booked some of the club owners, they have failed to prove prostitution and other charges in the court.\\n\\nEchoing Yadav’s sentiment, Renu Garg, director of the ION club, said, “We will fight against injustice and cannot let police force us to suffer losses.” The club owners alleged that even though there were 327 clubs and bars across the city, the police were only targeting those on MG Road.\\n\\n“People visiting the clubs on MG road had to submit identity document at entrance of mall and again at the time of entering a club, but this not applicable to people visiting clubs at CyberHub, Sector 29, Golf Course Road and other parts of the city,” said Yadav, adding that they have already informed the court that all mall owners have installed biometric machines on each of the entrances to take identification /signatures for establishing the identity of the visitors.', \"This turned out great! I did not add the butter and used nonfat cottage cheese to reduce the calories so it wasn't as rich as it probably should have done. But, it was still tasty and the leftovers are great wrapped up in a tortilla as a breakfast burrito!\\n\\nWe couldn't realy taste the egg and cheese part because the garlic was so overwhelming! My husband said he will be tasting the garlic all day. The garlic smell was way too strong when it was cooking. Tone it down a little???! I'm not quite sure why there would be garlic in an egg dish anyway.\\n\\nNormally I love garlic, but it came off a bit strong in this dish. My husband asked me if this was made with cornmeal, he thought it tasted a bit cornbread*y. But, it was good, we both liked it. We put a bit of habanero hot-sauce on top.\\n\\n*Percent Daily Values are based on a 2,000 calorie diet. Your daily values may be higher or lower depending on your calorie needs.\\n\\n**Nutrient information is not available for all ingredients. Amount is based on available nutrient data.\\n\\n(-)Information is not currently available for this nutrient. If you are following a medically restrictive diet, please consult your doctor or registered dietitian before preparing this recipe for personal consumption.\", \"ITIA strategical mission is the grown of competitiveness and sustainability of manufacturing in Italy and Europe through industrial innovation. ITIA, contributes and supports the European Union initiative MANUFUTURE, finalized in development of added high value manufacturing based on research and innovation, work on the development of new products and processes, business models and related enabling technologies in tightened collaboration with research centers, university and enterprises on national, european and international level.\\n\\nOn the basis of the new Manufuture strategical vision, ITIA has focalized its competences on the following applicative areas: microsystems, mechatronic, robotic, control, diagnosis, monitoring and new generation supervising systems, virtual design methods of products and processes and new organizational, mangement and business paradigms.\\n\\nITIA's staff is comprised of 81 individuals of which 61 are researchers, 10 technicians, two collaborators and eight administrative officials. It boasts a network of four major laboratories within the country. ITIA constitutes, with six other of Italy's National Council of Research institutes its Production System department.\\n\\nCollaboration Agreement:\\n\\nSince the Mid-1980s ITIA-CNR has been committed to international, European and national R&D projects, developed in collaboration with enterprises, universities and research centres operating in the manufacturing sector at international level. The research projects now being developed total 34. They are international, European and national projects employing more than 60 researchers of ITIA. ITIA coordinates and manages regional, national, European (framework programme) and International (IMS) projects.\\n\\nCurrently ITIA coordinates of the following VIIFP projects: FIT4U and VFF. The project management in ITIA is performed by the Strategic Direction and it is structured in the following activities: Development of web based technologies for the project management Management support along all the project life cycle: preparation and negotiation, activity and resource planning, monitoring and contractual/administrative management Definition and implementation of the dissemination instruments for the research results (web sites, conferences, publications) Document management For a complete overview of ITIA running projects and of the main completed projects.\\n\\nAffiliate Programs:\\n\\nITIA-CNR provides specific training opportunities focused on research within domestic and international research project forums, seminars and schools to promote and educate individuals on manufacturing principals.\\n\\nScholarship programs:\\n\\nITIA strategical mission is the grown of competitiveness and sustainability of manufacturing in Italy and Europe through industrial innovation. ITIA, contributes and supports the European Union initiative MANUFUTURE, finalized in development of added high value manufacturing based on research and innovation, work on the development of new products and processes, business models and related enabling technologies in tightened collaboration with research centers, university and enterprises on national, european and international level.\", \"A new exit poll suggests that Fine Gael, Fianna Fáil and Sinn Féin are tied when it comes to first preference votes, making the result of the General Election too close to call.\\n\\nThe exit poll, carried out by Ipsos MRBI for RTÉ, The Irish Times, TG4 and UCD, indicates all three parties have 22% of first preference votes.\\n\\nThe margin of error in this exit poll is plus or minus 1.3% - which means any of the three parties could be as low as 20.7% support or as high as 23.3%.\\n\\nThe exit poll is based on 5,376 completed interviews conducted immediately after people voted at 250 polling stations in 39 constituencies across the country.\\n\\nIt indicates Green Party first preference support stands at 8%; Labour at 4%; the Social Democrats at 3%; Solidarity People Before Profit at 3%; and Independents at 11%.\\n\\nRead more:\\n\\nMicheál Lehane's exit poll analysis\\n\\nYour Politics: Analysis of General Election 2020 exit poll\\n\\nThe first preference vote of both Fine Gael and Fianna Fáil is suggested by this poll to stand at 44% - significantly lower than the 49% they polled in the 2016 General Election.\\n\\nIn previous exit polls, support for Fianna Fáil has been under-stated. However, on this occasion, the number of people interviewed has increased from about 3,000 to more than 5,300 to improve accuracy.\\n\\n\\n\\nIn the 2016 general election, Fianna Fáil secured 25.5% of the first preferences. Fine Gael took 24.3%; while Sinn Féin obtained 13.8%.\\n\\nThe poll suggests a move toward Sinn Féin among younger voters, with the party receiving the largest number of first preference votes among 18-24 years olds.\\n\\nThe poll suggests a polar opposite voting pattern between older and younger voters. It indicates that the majority of voters over the age of 65 gave their first preference to Fine Gael or Fianna Fáil.\\n\\nMeanwhile, the exit poll indicates a possible weakness in support for Fianna Fáil in the Dublin Region in comparison to the rest of the country.\\n\\nIt suggests that the party has 14% of the first preference vote in the capital, compared to 21% for Fine Gael, 22% for Sinn Fein and 6% for Independents.\\n\\nThe regional breakdown of the exit poll suggests support for the Green Party is strongest in Dublin where it has 13% of the first preference vote, while its support is considerably weaker outside the capital.\\n\\nFianna Fáil's support in the rest of Leinster is 26%, while Fine Gael is on 22%, Sinn Féin is on 24% and Independents are on 8%.\\n\\nIn Munster Fianna Fáil is on 26%, Fine Gael 25%, Sinn Féin 18% and Independents 15%.\\n\\nIn Connacht Ulster the poll suggests support for Fianna Fáil is 22%, Fine Gael is 22%, Sinn Fein 26% and Independents 17%.\", '(AP Photo/Mary Altaffer)\\n\\nOn Thursday, the National Academies of Sciences, Engineering, and Medicine will release its report on “The Economic and Fiscal Consequences of Immigration.” According to the report, first generation immigrants as a group increase the nation’s fiscal deficit. In other words, the government benefits they receive exceed the taxes paid.\\n\\nThe National Academies’ report provides 75-year fiscal projections for new immigrants and their descendants. The fiscal impact varies greatly according to the education level of the immigrant. Low-skill immigrants are shown to impose substantial fiscal costs that extend far into the future. The future government benefits they will receive greatly exceed the taxes they will pay.\\n\\nOn average, a nonelderly adult immigrant without a high school diploma entering the U.S. will create a net fiscal cost (benefits received will exceed taxes paid) in both the current generation and second generation. The average net present value of the fiscal cost of such an immigrant is estimated at $231,000, a cost that must be paid by U.S. taxpayers.\\n\\nThe concept of “net present value” is complex: it places a much lower value on future expenditures than on current expenditures.\\n\\nOne way to grasp net present value is that it represents the total amount of money that government would have to raise today and put in a bank account earning interest at 3 percent above the inflation rate in order to cover future costs.\\n\\nThus, as each adult immigrant without a high school diploma enters the country, the government would need to immediately put aside and invest $231,000 to cover the future net fiscal cost (total benefits minus total taxes) of that immigrant.\\n\\nConverting a net present value figure into future outlays requires information on the exact distribution of costs over time. That data is not provided by the National Academies.\\n\\nHowever, a rough estimate of the future net outlays to be paid by taxpayers (in constant 2012 dollars) for immigrants without a high school diploma appears to be around $640,000 per immigrant over 75 years. The average fiscal loss is around $7,551 per year (in constant 2012 dollars).\\n\\nSlightly more than 4 million adult immigrants without a high school diploma have entered the U.S. since 2000 and continue to reside here. According to the estimates in the National Academies report, the net present value of the future fiscal costs of those immigrants is $920 billion.\\n\\nThis means government would have to immediately raise taxes by $920 billion and put that sum into a bank account earning 3 percent plus inflation per year to cover the future fiscal losses that will be generated by those immigrants.\\n\\nTo cover the future cost, each taxpaying U.S. household, on average, would have to pay an immediate lump sum of over $10,000. Costs would go up in the future as more than 200,000 additional adult immigrants without a high school diploma arrive in the country each year.\\n\\nAgain, converting a net present value figure into future outlays requires information on the exact timing of future costs that are not provided by the National Academies. However, a rough estimate of the future net outlays (benefits minus taxes) for the 4 million adult immigrants without a high school degree who have entered the U.S. since 2000 is perhaps $2.6 trillion.\\n\\nOne might argue that these estimates are exaggerated because many immigrants may return to their country of origin. But the report estimates already have a re-emigration rate of 31 percent built in.\\n\\nA surge of low-skill immigrant workers may push down wages and thereby reduce consumer costs. But the National Academies report indicates such consumer gains would be modest, and if the wages of less-educated immigrants are driven down, the wages of less-educated U.S. workers will fall as well. Any consumer gains would come at the cost of wage losses for the most vulnerable American workers.\\n\\nOne might also argue that is it misleading to assign the costs of government “public goods” such as defense and interest of the national debt to recent immigrants. But the National Academies estimates exclude such public goods costs.\\n\\nAdvocates of ongoing, massive low-skill immigration have suggested that low-skill immigrants generate large-scale economic externalities that benefit U.S. workers. The National Academies report finds minimal evidence of such effects.\\n\\nThe continuing inflow of low-skill immigrants into the U.S. creates large fiscal burdens for U.S. taxpayers in both the present and the future.\\n\\nRobert Rector, a leading authority on poverty, welfare programs and immigration in America for three decades, is The Heritage Foundation’s senior research fellow in domestic policy.\\n\\nJamie Bryan Hall is a senior policy analyst in the Center for Data Analysis at The Heritage Foundation. His research focuses on immigration and other issues in support of the Institute for Family, Community, and Opportunity.']\n",
      "torch.Size([20, 51])\n",
      "Tried to stack head results when they weren't cached. Computing head results now\n"
     ]
    }
   ],
   "source": [
    "neuron = (35, 3724)\n",
    "neuron_acts_35_3724 = neuron_max_acts_load['(35, 3724)']\n",
    "# Get the top 20 examples\n",
    "num_samples = 20\n",
    "neuron_acts_35_3724 = [x + [i] for i, x in enumerate(neuron_acts_35_3724)]\n",
    "sorted_acts_35_3724 = sorted(neuron_acts_35_3724, key=lambda x: x[0], reverse=True)\n",
    "print(sorted_acts_35_3724)\n",
    "top_examples_indices = [x[2] for x in sorted_acts_35_3724[:num_samples]]\n",
    "top_examples_pos = [x[1] for x in sorted_acts_35_3724[:num_samples]]\n",
    "examples = []\n",
    "for index in top_examples_indices:\n",
    "    examples.append(dataset[index]['text'])\n",
    "print(examples)\n",
    "\n",
    "# Then run head attribution\n",
    "# Truncate examples to the right position\n",
    "for i, example in enumerate(examples):\n",
    "    tokens = model.to_tokens(example, prepend_bos=True).to(device=device)\n",
    "    tokens = tokens[:, :top_examples_pos[i]+1]\n",
    "    tokens = tokens[:, -50:]\n",
    "    examples[i] = model.to_string(tokens)[0]\n",
    "\n",
    "# for i, example in enumerate(examples):\n",
    "#     print(\"--> \", i)\n",
    "#     print(example)\n",
    "\n",
    "tokens = model.to_tokens(examples, prepend_bos=True).to(device=device)\n",
    "print(tokens.shape)\n",
    "original_logits, cache = model.run_with_cache(tokens)\n",
    "head_attribution = get_head_attribution(cache, tokens, neuron)\n",
    "_, top_heads = torch.topk(head_attribution, k=3, dim=-1)\n",
    "# print(top_heads) # 491, 653, 526 # 491, 526, 496 # 668, 519, 658 # 602, 519, 668 # 668, 519, 602 # 653, 491, 496 # 491, 653, 526 # 668, 491, 434 # 491, 653, 526"
   ]
  },
  {
   "cell_type": "code",
   "execution_count": 66,
   "metadata": {},
   "outputs": [
    {
     "name": "stdout",
     "output_type": "stream",
     "text": [
      "tensor([[668, 602, 496],\n",
      "        [668, 677, 658],\n",
      "        [668, 641, 623],\n",
      "        [602, 519, 668],\n",
      "        [668, 519, 602],\n",
      "        [505, 550, 445],\n",
      "        [688, 355,  60],\n",
      "        [668, 519, 575],\n",
      "        [376, 688,  60],\n",
      "        [448, 413, 668],\n",
      "        [674, 475, 684],\n",
      "        [519, 668, 641],\n",
      "        [668, 684, 685],\n",
      "        [519, 668, 538],\n",
      "        [668, 688, 519],\n",
      "        [623, 658, 378],\n",
      "        [390, 448, 343],\n",
      "        [663, 688, 578],\n",
      "        [491, 505, 602],\n",
      "        [653, 491, 526]])\n",
      "Counter({668: 11, 519: 6, 602: 4, 688: 4, 658: 2, 641: 2, 623: 2, 505: 2, 60: 2, 448: 2, 684: 2, 491: 2, 496: 1, 677: 1, 550: 1, 445: 1, 355: 1, 575: 1, 376: 1, 413: 1, 674: 1, 475: 1, 685: 1, 538: 1, 378: 1, 390: 1, 343: 1, 663: 1, 578: 1, 653: 1, 526: 1})\n"
     ]
    }
   ],
   "source": [
    "print(top_heads)\n",
    "# Get the counts of each head appearing\n",
    "from collections import Counter\n",
    "head_counts = Counter(top_heads.flatten().tolist())\n",
    "print(head_counts)\n",
    "\n",
    "# Get the 668, non-668 examples\n",
    "non_668_examples = []\n",
    "good_668_examples = []\n",
    "for i, example in enumerate(examples):\n",
    "    # if any of the top heads is 668, then it's a good example\n",
    "    if 519 in top_heads[i]:\n",
    "        good_668_examples.append(example)\n",
    "    else:\n",
    "        non_668_examples.append(example)\n"
   ]
  },
  {
   "cell_type": "code",
   "execution_count": 67,
   "metadata": {},
   "outputs": [
    {
     "name": "stdout",
     "output_type": "stream",
     "text": [
      "G -->  0\n",
      " which marks the fourth straight season covered by yours truly. I have to confess upfront that I’m feeling some trepidation at the start here: Partly because I felt the quality and chemistry of the competitors on Season Six set the bar awfully\n",
      "G -->  1\n",
      " showed the captain what she was made of.\n",
      "\n",
      "Elena had her father's broomstick and she was going to have good luck with it. She could feel it in her bones. Elena walked to the Quiddith pitch with her head held\n",
      "G -->  2\n",
      "<|endoftext|>Youth unemployment in Victoria hits 15-year high\n",
      "\n",
      "Henrietta Cook, state political reporter\n",
      "\n",
      "Youth unemployment has leapt to a 15-year\n",
      "G -->  3\n",
      " tomcat named Tuffy with keeping her mother alive and able to live on her own for several years. “My mother was elderly and had insulin-dependent diabetes,” Matson says. “Often, her blood sugar would go dangerously\n",
      "G -->  4\n",
      " keep fighting as others before us have fought in the face of seemingly insurmountable odds.\n",
      "\n",
      "So I'll see you on Facebook whenever the mood hits, or see you right here next Friday.\n",
      "\n",
      "Now get out there, hold your head\n",
      "G -->  5\n",
      "<|endoftext|>Consumer sentiments falls in US\n",
      "\n",
      "March 13, 20151,548 Views\n",
      "\n",
      "Consumer sentiment in US fell more than expected in February, dropping from an 11-year\n",
      "N -->  0\n",
      " high the stakes are and being committed enough that we fight our way through the tough times with never even the thought of giving up or throwing in the towel.\n",
      "\n",
      "Staying married and strengthening a marriage over time are often a matter of realizing just how\n",
      "N -->  1\n",
      " at M& N to support the local economy. When I decided to buy I found the service to be excellent, the mattress good quality and at a good price. I had requested a full sized box spring however I found it made the whole bed too\n",
      "N -->  2\n",
      ".\n",
      "\n",
      "“How dare they treat people with such contempt when they are struggling?\n",
      "\n",
      "“I go around my house switching everything off in a panic, like most people do, because they know their bills are going to be sky-\n",
      "N -->  3\n",
      "x, Oxford graduate, working mother and Times journalist Rachel Kelly went from feeli What foods make us free anime porn sites Watch and have fun! The main languages of this site are Swedish,Danish, Norwegian and English. Designed to help middle and\n",
      "N -->  4\n",
      " Cartridges with modified or non-HP electronic circuitry may not work, and those that work today may not work in the future.\n",
      "\n",
      "Get affordable prints and increased versatility. Set up, connect, and print right from your mobile device, and produce\n",
      "N -->  5\n",
      " booth\n",
      "Limited vacancies for each event, interested applicants please text 97534939 with the following details to set short interview:\n",
      "Name\n",
      "Date of ...\n",
      "\n",
      "Festive week in and out\n",
      "Students\n",
      "Housewives\n",
      "Job seekers\n",
      "Basic with\n",
      "N -->  6\n",
      "Hadith of the Day:Verily for every nation there is a trial. And the trial of my nation is wealth! [Tirmidhi]\n",
      "\n",
      "Wise Quote of the Day:The sign of the love and attachment to Allah Most\n",
      "N -->  7\n",
      ".4.20.8.pdf\">GLSL 4.20.8 specification, section 4.7.2 Precision Qualifier</a>\n",
      "\ttypedef tmat2x3<float, highp>\t\t\n",
      "N -->  8\n",
      " high) Men 18-49 +9% 3.7 vs 3.4 Men 25-54 +4% 5.2 vs 5.0 Adults 18-34 +13% 1.8 vs 1.6 (ties a four-year\n",
      "N -->  9\n",
      "\n",
      "COURTESY THE HT DEC 4\n",
      "\n",
      "Leena Dhankhar leena.dhankhar@htlive.com ■HC allows police to resume raids on MG Road clubsGURUGRAM: The Punjab and Haryana\n",
      "N -->  10\n",
      "y. But, it was good, we both liked it. We put a bit of habanero hot-sauce on top.\n",
      "\n",
      "*Percent Daily Values are based on a 2,000 calorie diet. Your daily values may be\n",
      "N -->  11\n",
      "\n",
      "Scholarship programs:\n",
      "\n",
      "ITIA strategical mission is the grown of competitiveness and sustainability of manufacturing in Italy and Europe through industrial innovation. ITIA, contributes and supports the European Union initiative MANUFUTURE, finalized in development of added\n",
      "N -->  12\n",
      " indicates all three parties have 22% of first preference votes.\n",
      "\n",
      "The margin of error in this exit poll is plus or minus 1.3% - which means any of the three parties could be as low as 20.7% support or as\n",
      "N -->  13\n",
      " immigrants without a high school diploma appears to be around $640,000 per immigrant over 75 years. The average fiscal loss is around $7,551 per year (in constant 2012 dollars).\n",
      "\n",
      "Slightly more than 4 million adult immigrants without a\n"
     ]
    }
   ],
   "source": [
    "# print the good 668 examples, and the non-668 examples\n",
    "for i, example in enumerate(good_668_examples):\n",
    "    print(\"G --> \", i)\n",
    "    print(example)\n",
    "for i, example in numerate(non_668_examples):\n",
    "    print(\"N --> \", i)\n",
    "    print(example)"
   ]
  },
  {
   "cell_type": "code",
   "execution_count": 47,
   "metadata": {},
   "outputs": [
    {
     "name": "stdout",
     "output_type": "stream",
     "text": [
      "Tokenized prompt: ['<|endoftext|>', 'm', ' feeling', ' some', ' tre', 'p', 'idation', ' at', ' the', ' start', ' here', ':', ' Part', 'ly', ' because', ' I', ' felt', ' the', ' quality', ' and', ' chemistry', ' of', ' the', ' competitors', ' on', ' Season', ' Six', ' set', ' the', ' bar', ' awfully']\n",
      "Tokenized answer: [' high']\n"
     ]
    },
    {
     "data": {
      "text/html": [
       "<pre style=\"white-space:pre;overflow-x:auto;line-height:normal;font-family:Menlo,'DejaVu Sans Mono',consolas,'Courier New',monospace\">Performance on answer token:\n",
       "<span style=\"font-weight: bold\">Rank: </span><span style=\"color: #008080; text-decoration-color: #008080; font-weight: bold\">1</span><span style=\"font-weight: bold\">        Logit: </span><span style=\"color: #008080; text-decoration-color: #008080; font-weight: bold\">21.38</span><span style=\"font-weight: bold\"> Prob: </span><span style=\"color: #008080; text-decoration-color: #008080; font-weight: bold\">27.46</span><span style=\"font-weight: bold\">% Token: | high|</span>\n",
       "</pre>\n"
      ],
      "text/plain": [
       "Performance on answer token:\n",
       "\u001b[1mRank: \u001b[0m\u001b[1;36m1\u001b[0m\u001b[1m        Logit: \u001b[0m\u001b[1;36m21.38\u001b[0m\u001b[1m Prob: \u001b[0m\u001b[1;36m27.46\u001b[0m\u001b[1m% Token: | high|\u001b[0m\n"
      ]
     },
     "metadata": {},
     "output_type": "display_data"
    },
    {
     "name": "stdout",
     "output_type": "stream",
     "text": [
      "Top 0th token. Logit: 22.34 Prob: 71.76% Token: | low|\n",
      "Top 1th token. Logit: 21.38 Prob: 27.46% Token: | high|\n",
      "Top 2th token. Logit: 15.91 Prob:  0.12% Token: |,|\n",
      "Top 3th token. Logit: 15.59 Prob:  0.08% Token: | too|\n",
      "Top 4th token. Logit: 15.31 Prob:  0.06% Token: | lower|\n"
     ]
    },
    {
     "data": {
      "text/html": [
       "<pre style=\"white-space:pre;overflow-x:auto;line-height:normal;font-family:Menlo,'DejaVu Sans Mono',consolas,'Courier New',monospace\"><span style=\"font-weight: bold\">Ranks of the answer tokens:</span> <span style=\"font-weight: bold\">[(</span><span style=\"color: #008000; text-decoration-color: #008000\">' high'</span>, <span style=\"color: #008080; text-decoration-color: #008080; font-weight: bold\">1</span><span style=\"font-weight: bold\">)]</span>\n",
       "</pre>\n"
      ],
      "text/plain": [
       "\u001b[1mRanks of the answer tokens:\u001b[0m \u001b[1m[\u001b[0m\u001b[1m(\u001b[0m\u001b[32m' high'\u001b[0m, \u001b[1;36m1\u001b[0m\u001b[1m)\u001b[0m\u001b[1m]\u001b[0m\n"
      ]
     },
     "metadata": {},
     "output_type": "display_data"
    }
   ],
   "source": [
    "utils.test_prompt(examples[3], \" high\", model, prepend_bos=True, top_k=5)"
   ]
  },
  {
   "cell_type": "code",
   "execution_count": 18,
   "metadata": {},
   "outputs": [
    {
     "data": {
      "application/vnd.plotly.v1+json": {
       "config": {
        "plotlyServerURL": "https://plot.ly"
       },
       "data": [
        {
         "coloraxis": "coloraxis",
         "hovertemplate": "x: %{x}<br>y: %{y}<br>color: %{z}<extra></extra>",
         "name": "0",
         "type": "heatmap",
         "xaxis": "x",
         "yaxis": "y",
         "z": [
          [
           0.024589486,
           -0.023072787,
           0.065727085,
           0.041921332,
           0.022167236,
           -0.033274323,
           -0.026854629,
           0.00043595023,
           -0.04456818,
           0.043797117,
           -0.0051677804,
           0.022482771,
           0.013663681,
           0.0010628086,
           -0.021240706,
           0.00054682326,
           -0.010169828,
           -0.018555507,
           -0.05863359,
           0.010297735
          ],
          [
           -0.03217698,
           0.2995011,
           -0.008686274,
           -0.017462496,
           0.1493051,
           -0.10225575,
           0.013062291,
           0.044355497,
           -0.18104614,
           0.06317161,
           0.03555503,
           -0.02735008,
           0.118107826,
           -0.013188554,
           0.010488661,
           -0.0032939482,
           0.04014558,
           0.01093483,
           -0.011064976,
           -0.020059288
          ],
          [
           0.006826911,
           -0.115056336,
           0.0064713545,
           -0.15613453,
           0.036322616,
           -0.06903152,
           0.004933294,
           0.0006641168,
           0.09606868,
           -0.09551491,
           -0.09802474,
           -0.012272258,
           0.06561454,
           0.06661662,
           0.034471337,
           0.2961809,
           -0.029048234,
           0.16118637,
           0.0007896051,
           0.08414896
          ],
          [
           0.418195,
           -0.0026701745,
           0.14159535,
           -0.057010017,
           -0.053477366,
           0.051015228,
           -0.0930514,
           -0.036492534,
           0.11928741,
           0.008923256,
           0.049361303,
           -0.12433628,
           -0.091996014,
           0.085731596,
           0.016724631,
           -0.03264521,
           0.04028202,
           -0.0419426,
           0.2587177,
           -0.04470454
          ],
          [
           -0.0021181703,
           0.05612297,
           -0.22987795,
           0.0069153756,
           -0.08533033,
           0.0708783,
           -0.10904461,
           -0.041008674,
           0.29277313,
           0.0029999837,
           0.07903065,
           -0.004578935,
           -0.11388293,
           0.08469681,
           0.10235873,
           0.17058131,
           0.10795554,
           0.11732105,
           0.04120549,
           -0.026807247
          ],
          [
           0.02685337,
           0.0049798302,
           -0.016227774,
           -0.015231162,
           0.070366606,
           -0.006178245,
           0.4475654,
           0.1992757,
           0.021292698,
           -0.044668205,
           -0.012195095,
           0.19733256,
           0.030642215,
           0.19279946,
           -0.30800033,
           -0.025053374,
           -0.12901293,
           0.030788928,
           -0.015350744,
           -0.09109141
          ],
          [
           0.032311562,
           0.04833272,
           -0.18705991,
           0.3138509,
           -0.075712994,
           0.026894923,
           0.03619688,
           -0.104110524,
           -0.14613806,
           -0.16072163,
           -0.031320907,
           0.16484313,
           0.103890054,
           0.12798645,
           -0.14096093,
           0.0014220737,
           -0.1238572,
           0.06707658,
           0.006166799,
           0.062371403
          ],
          [
           0.07599229,
           0.023186501,
           0.26782882,
           0.048522733,
           -0.032470874,
           -0.00107532,
           -0.27732688,
           -0.12718031,
           0.0013189483,
           -0.07236341,
           -0.0063489517,
           -0.026998073,
           0.05702594,
           0.07359727,
           -0.053276345,
           0.047037818,
           0.062050804,
           0.10054527,
           0.029889295,
           0.005262941
          ],
          [
           -0.044757072,
           0.06842692,
           -0.114506476,
           -0.034312,
           -0.024987658,
           0.06993407,
           0.03346161,
           0.008575073,
           0.07363167,
           -0.05485053,
           0.084179655,
           0.073217034,
           0.04282841,
           0.07304273,
           -0.09031971,
           0.027057022,
           -0.022979574,
           0.09982127,
           -0.057649948,
           0.04169118
          ],
          [
           -0.02851263,
           0.0021231575,
           0.041973345,
           0.0916009,
           0.065845996,
           -0.0014856523,
           0.004495941,
           -0.1395896,
           0.11397484,
           -0.035224892,
           0.019803265,
           0.026603512,
           0.035412636,
           0.06289023,
           0.09068249,
           -0.43936977,
           0.097335294,
           -0.02311606,
           0.091530256,
           0.01301454
          ],
          [
           0.0121735,
           0.046530314,
           0.051986545,
           0.079712845,
           -0.0155661255,
           0.106829785,
           0.07165616,
           -0.08105044,
           -0.09009294,
           0.05771158,
           0.28460103,
           -0.020491252,
           0.05194283,
           -0.16547109,
           0.04775238,
           0.04419499,
           0.037936322,
           -0.04266076,
           -0.036436953,
           0.009587174
          ],
          [
           -0.010084115,
           -0.0145445615,
           0.0035089906,
           0.08181019,
           -0.04645855,
           0.048932493,
           -0.02403123,
           0.066686794,
           0.18486694,
           0.01402393,
           -0.1174359,
           -0.010300767,
           -0.05380619,
           0.03159708,
           -0.032829225,
           0.023887865,
           0.018533064,
           0.019819275,
           0.12904629,
           -0.006881036
          ],
          [
           0.4086963,
           0.120194614,
           0.0060697105,
           -0.06017913,
           -0.020278417,
           0.049084295,
           0.052348107,
           0.048353683,
           -0.026536323,
           -0.04847142,
           0.0077199526,
           0.023185752,
           -0.27275413,
           0.0062415022,
           -0.16986862,
           -0.01571743,
           0.112589344,
           -0.020926112,
           0.0080144135,
           -0.05972542
          ],
          [
           -0.109232984,
           -0.26628935,
           0.05052922,
           0.039942615,
           0.047240738,
           0.119241185,
           0.04828185,
           0.0286793,
           -0.02852199,
           0.10375591,
           0.12657404,
           0.0023992583,
           0.1621885,
           0.121520706,
           0.054629363,
           -0.015497904,
           0.055837516,
           -0.05552903,
           -0.23020643,
           -0.02191241
          ],
          [
           -0.03233672,
           0.16908276,
           0.0294395,
           0.049608838,
           -0.034285415,
           -0.022529377,
           0.026656635,
           -0.005328387,
           0.009941351,
           0.04593484,
           -0.069507,
           0.06225374,
           -0.2525589,
           -0.105176575,
           -0.084991686,
           0.12204989,
           0.16603445,
           0.044537645,
           0.031005453,
           -0.1257518
          ],
          [
           -0.03721348,
           0.068166524,
           -0.14621466,
           -0.3060518,
           -0.066006616,
           -0.0692408,
           0.06504893,
           -0.04206984,
           -0.062051337,
           -0.17210066,
           -0.10570468,
           0.21811348,
           0.010801537,
           0.029144617,
           0.026426775,
           -0.08658624,
           0.18909544,
           -0.032187186,
           0.1517148,
           -0.06304933
          ],
          [
           -0.03391041,
           -0.015383715,
           -0.22735365,
           -0.215261,
           -0.042767167,
           0.17990996,
           -0.023537403,
           -0.04383464,
           0.09909636,
           -0.17232332,
           0.24653703,
           0.03616185,
           0.18656984,
           0.19835262,
           0.00472185,
           0.020692356,
           0.054734044,
           0.11306378,
           0.028332775,
           -0.15584299
          ],
          [
           -0.20740068,
           0.09013198,
           -0.068645194,
           0.14640012,
           -0.052893452,
           -0.08403629,
           0.0080111865,
           0.10964722,
           0.038540088,
           -0.029540338,
           0.23408091,
           -0.053785753,
           -0.042503007,
           0.017319506,
           0.017547103,
           0.2472674,
           0.15825035,
           -0.019565083,
           0.036798242,
           0.0972458
          ],
          [
           -0.008623457,
           -0.06817116,
           0.18600634,
           -0.11569385,
           0.041984,
           -0.08659226,
           0.080481686,
           0.03459377,
           -0.16031793,
           0.015541033,
           -0.013744906,
           0.014429865,
           -0.035935357,
           -0.123756275,
           -0.26125312,
           0.29627642,
           0.19047888,
           -0.060375467,
           0.017932575,
           -0.10382491
          ],
          [
           0.003390327,
           0.006716475,
           0.34961656,
           -0.0051138746,
           -0.0144832395,
           -0.032410715,
           -0.1713567,
           0.039003592,
           0.24629447,
           0.094803005,
           0.12829243,
           0.011684522,
           -0.081424385,
           -0.038321715,
           -0.0692092,
           0.022273872,
           0.10508291,
           0.07095369,
           -0.28834257,
           0.14860435
          ],
          [
           0.06544365,
           -0.040751472,
           -0.009961173,
           0.22246054,
           -0.046930775,
           0.12632719,
           0.09048632,
           -0.34360978,
           -0.008538882,
           0.39804205,
           0.026943978,
           0.02126834,
           0.058197454,
           -0.010227919,
           -0.15381572,
           0.028172314,
           -0.26543924,
           0.112833224,
           0.08889196,
           0.2522551
          ],
          [
           0.07756606,
           -0.1196002,
           0.399036,
           0.11667061,
           -0.049647745,
           -0.3148039,
           0.07982054,
           0.4155208,
           0.033629976,
           0.42638856,
           0.36806425,
           0.042291638,
           0.026210234,
           0.117979564,
           0.17711902,
           -0.026345264,
           0.013186596,
           0.040071063,
           0.043952264,
           0.06872845
          ],
          [
           0.25932354,
           0.43230212,
           0.18493092,
           -0.3298355,
           -0.03560248,
           -0.013017889,
           0.026497032,
           0.061022997,
           0.29265386,
           0.15458313,
           0.011877894,
           0.038278423,
           -0.5110409,
           -0.029924545,
           0.027270347,
           0.020712495,
           -0.11699131,
           0.16288379,
           0.043010302,
           -0.012595819
          ],
          [
           -0.24897686,
           -0.014639633,
           0.069638,
           0.08868517,
           0.1352602,
           0.004939448,
           -0.019198522,
           -0.07536206,
           0.095726244,
           -0.11579889,
           0.444792,
           -0.20802839,
           0.19567662,
           0.016579332,
           -0.005339477,
           0.035555504,
           0.59586525,
           -0.037204146,
           0.3828826,
           -0.16747525
          ],
          [
           0.11084559,
           -0.086698815,
           0.109775394,
           -0.010325339,
           -0.042072482,
           -0.055866603,
           0.08389219,
           0.022047315,
           -0.06435988,
           0.32215187,
           -0.083961815,
           0.123897225,
           0.13521355,
           0.08166419,
           0.09500143,
           -0.062862575,
           0.74345994,
           0.07003106,
           -0.07405212,
           -0.0012125485
          ],
          [
           0.056485936,
           0.12395182,
           -0.16292977,
           0.002534315,
           -0.008158358,
           0.010195211,
           0.051796846,
           -0.0059245024,
           -0.04347203,
           -0.14316803,
           0.027222097,
           0.16610616,
           0.157467,
           -0.0034972597,
           -0.1786773,
           0.06439371,
           0.1936733,
           -0.03240261,
           0.02221773,
           -0.07681525
          ],
          [
           -0.010110591,
           0.1387949,
           -0.020551896,
           0.060892433,
           0.017811105,
           0.049291976,
           0.26459637,
           -0.045115545,
           0.046969455,
           -0.075145625,
           -0.02045293,
           0.44289586,
           0.0009050742,
           0.1435715,
           0.027423523,
           0.0015916135,
           -0.13359487,
           0.014212269,
           -0.08137368,
           0.053252
          ],
          [
           -0.09627072,
           0.019580137,
           -0.07190309,
           0.023162657,
           0.14466526,
           0.2794997,
           0.00948442,
           0.01788667,
           0.100952044,
           0.16937687,
           0.0780686,
           -0.33813643,
           -0.057318702,
           0.03185915,
           -0.008930512,
           0.21833862,
           -0.012390658,
           0.051894713,
           0.36125055,
           0.052389782
          ],
          [
           0.046483353,
           -0.03918141,
           0.043678317,
           0.091842905,
           -0.044191934,
           0.06292544,
           0.31667882,
           -0.10987932,
           -0.37202245,
           0.07753044,
           0.018175269,
           0.036723245,
           -0.0046563493,
           0.060786717,
           -0.14988698,
           0.24867363,
           -0.014615435,
           -0.055839125,
           0.20543265,
           0.08825527
          ],
          [
           -0.06495644,
           -0.01742975,
           -0.065363504,
           0.052597985,
           0.12705477,
           0.0020991992,
           -0.08799996,
           0.09874241,
           0.08768632,
           0.21057966,
           0.035016127,
           0.023922946,
           -0.04132589,
           -0.05126811,
           -0.007365519,
           0.068506435,
           0.11405363,
           -0.112172805,
           -0.010738712,
           -0.07396734
          ],
          [
           -0.057014428,
           0.042096864,
           0.7654613,
           -0.0041535236,
           -0.06362224,
           0.4156025,
           -0.01820233,
           -0.12759425,
           -0.03330004,
           -0.041942928,
           0.024798594,
           -0.08490042,
           -0.23241933,
           0.18778586,
           0.34414858,
           -0.0056781247,
           -0.09401049,
           0.06463482,
           0.040934674,
           -0.04104527
          ],
          [
           0.027983997,
           0.13728537,
           0.010095522,
           0.44538692,
           -0.09076786,
           -0.017092919,
           -0.12666163,
           -0.0281998,
           -0.00016339403,
           -0.03156958,
           0.04414147,
           0.4456318,
           0.045117445,
           -0.025591083,
           -0.03293121,
           -0.07572031,
           -0.02558738,
           0.0063393787,
           -0.2528098,
           0.007907872
          ],
          [
           -0.07689351,
           0.18588346,
           0.021841742,
           0.3376391,
           0.052569956,
           0.13119963,
           -0.08358948,
           0.023974914,
           -0.021543913,
           0.090967484,
           -0.27266133,
           -0.03933468,
           0.0016502403,
           0.27612936,
           -0.014117837,
           -0.030161621,
           0.07031876,
           0.024051998,
           -0.3190623,
           0.016739808
          ],
          [
           0.06246532,
           -0.08296896,
           -0.11105872,
           0.013540816,
           -0.062476948,
           -0.13689432,
           -0.060381662,
           0.044193823,
           0.8515174,
           -0.030188106,
           -0.018599387,
           -0.16137628,
           0.1495449,
           0.084101014,
           0.26358432,
           -0.037455026,
           0.07633691,
           0.06667924,
           -0.14497082,
           0.061350916
          ],
          [
           0.017451538,
           -0.07068844,
           -0.21361095,
           0.24079101,
           0.27119356,
           0.16923596,
           -0.1901201,
           -0.15153834,
           0.736033,
           0.006588638,
           -0.082766786,
           -0.14358965,
           0.050533082,
           0.0034131445,
           -0.06535646,
           0.048637293,
           -0.02851056,
           0.03401016,
           0.2398933,
           0.028086409
          ]
         ]
        }
       ],
       "layout": {
        "coloraxis": {
         "cmid": 0,
         "colorscale": [
          [
           0,
           "rgb(103,0,31)"
          ],
          [
           0.1,
           "rgb(178,24,43)"
          ],
          [
           0.2,
           "rgb(214,96,77)"
          ],
          [
           0.3,
           "rgb(244,165,130)"
          ],
          [
           0.4,
           "rgb(253,219,199)"
          ],
          [
           0.5,
           "rgb(247,247,247)"
          ],
          [
           0.6,
           "rgb(209,229,240)"
          ],
          [
           0.7,
           "rgb(146,197,222)"
          ],
          [
           0.8,
           "rgb(67,147,195)"
          ],
          [
           0.9,
           "rgb(33,102,172)"
          ],
          [
           1,
           "rgb(5,48,97)"
          ]
         ]
        },
        "template": {
         "data": {
          "bar": [
           {
            "error_x": {
             "color": "#2a3f5f"
            },
            "error_y": {
             "color": "#2a3f5f"
            },
            "marker": {
             "line": {
              "color": "#E5ECF6",
              "width": 0.5
             },
             "pattern": {
              "fillmode": "overlay",
              "size": 10,
              "solidity": 0.2
             }
            },
            "type": "bar"
           }
          ],
          "barpolar": [
           {
            "marker": {
             "line": {
              "color": "#E5ECF6",
              "width": 0.5
             },
             "pattern": {
              "fillmode": "overlay",
              "size": 10,
              "solidity": 0.2
             }
            },
            "type": "barpolar"
           }
          ],
          "carpet": [
           {
            "aaxis": {
             "endlinecolor": "#2a3f5f",
             "gridcolor": "white",
             "linecolor": "white",
             "minorgridcolor": "white",
             "startlinecolor": "#2a3f5f"
            },
            "baxis": {
             "endlinecolor": "#2a3f5f",
             "gridcolor": "white",
             "linecolor": "white",
             "minorgridcolor": "white",
             "startlinecolor": "#2a3f5f"
            },
            "type": "carpet"
           }
          ],
          "choropleth": [
           {
            "colorbar": {
             "outlinewidth": 0,
             "ticks": ""
            },
            "type": "choropleth"
           }
          ],
          "contour": [
           {
            "colorbar": {
             "outlinewidth": 0,
             "ticks": ""
            },
            "colorscale": [
             [
              0,
              "#0d0887"
             ],
             [
              0.1111111111111111,
              "#46039f"
             ],
             [
              0.2222222222222222,
              "#7201a8"
             ],
             [
              0.3333333333333333,
              "#9c179e"
             ],
             [
              0.4444444444444444,
              "#bd3786"
             ],
             [
              0.5555555555555556,
              "#d8576b"
             ],
             [
              0.6666666666666666,
              "#ed7953"
             ],
             [
              0.7777777777777778,
              "#fb9f3a"
             ],
             [
              0.8888888888888888,
              "#fdca26"
             ],
             [
              1,
              "#f0f921"
             ]
            ],
            "type": "contour"
           }
          ],
          "contourcarpet": [
           {
            "colorbar": {
             "outlinewidth": 0,
             "ticks": ""
            },
            "type": "contourcarpet"
           }
          ],
          "heatmap": [
           {
            "colorbar": {
             "outlinewidth": 0,
             "ticks": ""
            },
            "colorscale": [
             [
              0,
              "#0d0887"
             ],
             [
              0.1111111111111111,
              "#46039f"
             ],
             [
              0.2222222222222222,
              "#7201a8"
             ],
             [
              0.3333333333333333,
              "#9c179e"
             ],
             [
              0.4444444444444444,
              "#bd3786"
             ],
             [
              0.5555555555555556,
              "#d8576b"
             ],
             [
              0.6666666666666666,
              "#ed7953"
             ],
             [
              0.7777777777777778,
              "#fb9f3a"
             ],
             [
              0.8888888888888888,
              "#fdca26"
             ],
             [
              1,
              "#f0f921"
             ]
            ],
            "type": "heatmap"
           }
          ],
          "heatmapgl": [
           {
            "colorbar": {
             "outlinewidth": 0,
             "ticks": ""
            },
            "colorscale": [
             [
              0,
              "#0d0887"
             ],
             [
              0.1111111111111111,
              "#46039f"
             ],
             [
              0.2222222222222222,
              "#7201a8"
             ],
             [
              0.3333333333333333,
              "#9c179e"
             ],
             [
              0.4444444444444444,
              "#bd3786"
             ],
             [
              0.5555555555555556,
              "#d8576b"
             ],
             [
              0.6666666666666666,
              "#ed7953"
             ],
             [
              0.7777777777777778,
              "#fb9f3a"
             ],
             [
              0.8888888888888888,
              "#fdca26"
             ],
             [
              1,
              "#f0f921"
             ]
            ],
            "type": "heatmapgl"
           }
          ],
          "histogram": [
           {
            "marker": {
             "pattern": {
              "fillmode": "overlay",
              "size": 10,
              "solidity": 0.2
             }
            },
            "type": "histogram"
           }
          ],
          "histogram2d": [
           {
            "colorbar": {
             "outlinewidth": 0,
             "ticks": ""
            },
            "colorscale": [
             [
              0,
              "#0d0887"
             ],
             [
              0.1111111111111111,
              "#46039f"
             ],
             [
              0.2222222222222222,
              "#7201a8"
             ],
             [
              0.3333333333333333,
              "#9c179e"
             ],
             [
              0.4444444444444444,
              "#bd3786"
             ],
             [
              0.5555555555555556,
              "#d8576b"
             ],
             [
              0.6666666666666666,
              "#ed7953"
             ],
             [
              0.7777777777777778,
              "#fb9f3a"
             ],
             [
              0.8888888888888888,
              "#fdca26"
             ],
             [
              1,
              "#f0f921"
             ]
            ],
            "type": "histogram2d"
           }
          ],
          "histogram2dcontour": [
           {
            "colorbar": {
             "outlinewidth": 0,
             "ticks": ""
            },
            "colorscale": [
             [
              0,
              "#0d0887"
             ],
             [
              0.1111111111111111,
              "#46039f"
             ],
             [
              0.2222222222222222,
              "#7201a8"
             ],
             [
              0.3333333333333333,
              "#9c179e"
             ],
             [
              0.4444444444444444,
              "#bd3786"
             ],
             [
              0.5555555555555556,
              "#d8576b"
             ],
             [
              0.6666666666666666,
              "#ed7953"
             ],
             [
              0.7777777777777778,
              "#fb9f3a"
             ],
             [
              0.8888888888888888,
              "#fdca26"
             ],
             [
              1,
              "#f0f921"
             ]
            ],
            "type": "histogram2dcontour"
           }
          ],
          "mesh3d": [
           {
            "colorbar": {
             "outlinewidth": 0,
             "ticks": ""
            },
            "type": "mesh3d"
           }
          ],
          "parcoords": [
           {
            "line": {
             "colorbar": {
              "outlinewidth": 0,
              "ticks": ""
             }
            },
            "type": "parcoords"
           }
          ],
          "pie": [
           {
            "automargin": true,
            "type": "pie"
           }
          ],
          "scatter": [
           {
            "fillpattern": {
             "fillmode": "overlay",
             "size": 10,
             "solidity": 0.2
            },
            "type": "scatter"
           }
          ],
          "scatter3d": [
           {
            "line": {
             "colorbar": {
              "outlinewidth": 0,
              "ticks": ""
             }
            },
            "marker": {
             "colorbar": {
              "outlinewidth": 0,
              "ticks": ""
             }
            },
            "type": "scatter3d"
           }
          ],
          "scattercarpet": [
           {
            "marker": {
             "colorbar": {
              "outlinewidth": 0,
              "ticks": ""
             }
            },
            "type": "scattercarpet"
           }
          ],
          "scattergeo": [
           {
            "marker": {
             "colorbar": {
              "outlinewidth": 0,
              "ticks": ""
             }
            },
            "type": "scattergeo"
           }
          ],
          "scattergl": [
           {
            "marker": {
             "colorbar": {
              "outlinewidth": 0,
              "ticks": ""
             }
            },
            "type": "scattergl"
           }
          ],
          "scattermapbox": [
           {
            "marker": {
             "colorbar": {
              "outlinewidth": 0,
              "ticks": ""
             }
            },
            "type": "scattermapbox"
           }
          ],
          "scatterpolar": [
           {
            "marker": {
             "colorbar": {
              "outlinewidth": 0,
              "ticks": ""
             }
            },
            "type": "scatterpolar"
           }
          ],
          "scatterpolargl": [
           {
            "marker": {
             "colorbar": {
              "outlinewidth": 0,
              "ticks": ""
             }
            },
            "type": "scatterpolargl"
           }
          ],
          "scatterternary": [
           {
            "marker": {
             "colorbar": {
              "outlinewidth": 0,
              "ticks": ""
             }
            },
            "type": "scatterternary"
           }
          ],
          "surface": [
           {
            "colorbar": {
             "outlinewidth": 0,
             "ticks": ""
            },
            "colorscale": [
             [
              0,
              "#0d0887"
             ],
             [
              0.1111111111111111,
              "#46039f"
             ],
             [
              0.2222222222222222,
              "#7201a8"
             ],
             [
              0.3333333333333333,
              "#9c179e"
             ],
             [
              0.4444444444444444,
              "#bd3786"
             ],
             [
              0.5555555555555556,
              "#d8576b"
             ],
             [
              0.6666666666666666,
              "#ed7953"
             ],
             [
              0.7777777777777778,
              "#fb9f3a"
             ],
             [
              0.8888888888888888,
              "#fdca26"
             ],
             [
              1,
              "#f0f921"
             ]
            ],
            "type": "surface"
           }
          ],
          "table": [
           {
            "cells": {
             "fill": {
              "color": "#EBF0F8"
             },
             "line": {
              "color": "white"
             }
            },
            "header": {
             "fill": {
              "color": "#C8D4E3"
             },
             "line": {
              "color": "white"
             }
            },
            "type": "table"
           }
          ]
         },
         "layout": {
          "annotationdefaults": {
           "arrowcolor": "#2a3f5f",
           "arrowhead": 0,
           "arrowwidth": 1
          },
          "autotypenumbers": "strict",
          "coloraxis": {
           "colorbar": {
            "outlinewidth": 0,
            "ticks": ""
           }
          },
          "colorscale": {
           "diverging": [
            [
             0,
             "#8e0152"
            ],
            [
             0.1,
             "#c51b7d"
            ],
            [
             0.2,
             "#de77ae"
            ],
            [
             0.3,
             "#f1b6da"
            ],
            [
             0.4,
             "#fde0ef"
            ],
            [
             0.5,
             "#f7f7f7"
            ],
            [
             0.6,
             "#e6f5d0"
            ],
            [
             0.7,
             "#b8e186"
            ],
            [
             0.8,
             "#7fbc41"
            ],
            [
             0.9,
             "#4d9221"
            ],
            [
             1,
             "#276419"
            ]
           ],
           "sequential": [
            [
             0,
             "#0d0887"
            ],
            [
             0.1111111111111111,
             "#46039f"
            ],
            [
             0.2222222222222222,
             "#7201a8"
            ],
            [
             0.3333333333333333,
             "#9c179e"
            ],
            [
             0.4444444444444444,
             "#bd3786"
            ],
            [
             0.5555555555555556,
             "#d8576b"
            ],
            [
             0.6666666666666666,
             "#ed7953"
            ],
            [
             0.7777777777777778,
             "#fb9f3a"
            ],
            [
             0.8888888888888888,
             "#fdca26"
            ],
            [
             1,
             "#f0f921"
            ]
           ],
           "sequentialminus": [
            [
             0,
             "#0d0887"
            ],
            [
             0.1111111111111111,
             "#46039f"
            ],
            [
             0.2222222222222222,
             "#7201a8"
            ],
            [
             0.3333333333333333,
             "#9c179e"
            ],
            [
             0.4444444444444444,
             "#bd3786"
            ],
            [
             0.5555555555555556,
             "#d8576b"
            ],
            [
             0.6666666666666666,
             "#ed7953"
            ],
            [
             0.7777777777777778,
             "#fb9f3a"
            ],
            [
             0.8888888888888888,
             "#fdca26"
            ],
            [
             1,
             "#f0f921"
            ]
           ]
          },
          "colorway": [
           "#636efa",
           "#EF553B",
           "#00cc96",
           "#ab63fa",
           "#FFA15A",
           "#19d3f3",
           "#FF6692",
           "#B6E880",
           "#FF97FF",
           "#FECB52"
          ],
          "font": {
           "color": "#2a3f5f"
          },
          "geo": {
           "bgcolor": "white",
           "lakecolor": "white",
           "landcolor": "#E5ECF6",
           "showlakes": true,
           "showland": true,
           "subunitcolor": "white"
          },
          "hoverlabel": {
           "align": "left"
          },
          "hovermode": "closest",
          "mapbox": {
           "style": "light"
          },
          "paper_bgcolor": "white",
          "plot_bgcolor": "#E5ECF6",
          "polar": {
           "angularaxis": {
            "gridcolor": "white",
            "linecolor": "white",
            "ticks": ""
           },
           "bgcolor": "#E5ECF6",
           "radialaxis": {
            "gridcolor": "white",
            "linecolor": "white",
            "ticks": ""
           }
          },
          "scene": {
           "xaxis": {
            "backgroundcolor": "#E5ECF6",
            "gridcolor": "white",
            "gridwidth": 2,
            "linecolor": "white",
            "showbackground": true,
            "ticks": "",
            "zerolinecolor": "white"
           },
           "yaxis": {
            "backgroundcolor": "#E5ECF6",
            "gridcolor": "white",
            "gridwidth": 2,
            "linecolor": "white",
            "showbackground": true,
            "ticks": "",
            "zerolinecolor": "white"
           },
           "zaxis": {
            "backgroundcolor": "#E5ECF6",
            "gridcolor": "white",
            "gridwidth": 2,
            "linecolor": "white",
            "showbackground": true,
            "ticks": "",
            "zerolinecolor": "white"
           }
          },
          "shapedefaults": {
           "line": {
            "color": "#2a3f5f"
           }
          },
          "ternary": {
           "aaxis": {
            "gridcolor": "white",
            "linecolor": "white",
            "ticks": ""
           },
           "baxis": {
            "gridcolor": "white",
            "linecolor": "white",
            "ticks": ""
           },
           "bgcolor": "#E5ECF6",
           "caxis": {
            "gridcolor": "white",
            "linecolor": "white",
            "ticks": ""
           }
          },
          "title": {
           "x": 0.05
          },
          "xaxis": {
           "automargin": true,
           "gridcolor": "white",
           "linecolor": "white",
           "ticks": "",
           "title": {
            "standoff": 15
           },
           "zerolinecolor": "white",
           "zerolinewidth": 2
          },
          "yaxis": {
           "automargin": true,
           "gridcolor": "white",
           "linecolor": "white",
           "ticks": "",
           "title": {
            "standoff": 15
           },
           "zerolinecolor": "white",
           "zerolinewidth": 2
          }
         }
        },
        "title": {
         "text": "over time are often a matter of realizing just how"
        },
        "xaxis": {
         "anchor": "y",
         "constrain": "domain",
         "domain": [
          0,
          1
         ],
         "scaleanchor": "y"
        },
        "yaxis": {
         "anchor": "x",
         "autorange": "reversed",
         "constrain": "domain",
         "domain": [
          0,
          1
         ]
        }
       }
      }
     },
     "metadata": {},
     "output_type": "display_data"
    },
    {
     "data": {
      "application/vnd.plotly.v1+json": {
       "config": {
        "plotlyServerURL": "https://plot.ly"
       },
       "data": [
        {
         "coloraxis": "coloraxis",
         "hovertemplate": "x: %{x}<br>y: %{y}<br>color: %{z}<extra></extra>",
         "name": "0",
         "type": "heatmap",
         "xaxis": "x",
         "yaxis": "y",
         "z": [
          [
           0.011060275,
           -0.060643774,
           0.12558815,
           0.05580534,
           -0.004267907,
           -0.020238195,
           -0.024477247,
           -0.020172557,
           -0.004898257,
           0.042043623,
           -0.010252508,
           -0.01915849,
           0.02941731,
           0.018963363,
           0.007686373,
           0.014081381,
           -0.02927497,
           0.02538131,
           0.0124017345,
           0.010972497
          ],
          [
           -0.045943417,
           0.26637703,
           0.034253113,
           0.039863653,
           0.09966271,
           -0.044846967,
           0.05348759,
           -0.012899763,
           -0.15497376,
           0.01683725,
           -0.023881495,
           -0.03277252,
           0.04678065,
           -0.028053217,
           -0.011155538,
           -0.007462591,
           0.023216482,
           -0.010366036,
           -0.03533069,
           0.01426651
          ],
          [
           -0.036608532,
           -0.003450876,
           -0.06561084,
           0.024645483,
           0.01230688,
           -0.05146044,
           -0.016973482,
           0.017455904,
           0.09830344,
           -0.101734065,
           -0.03987527,
           0.011082444,
           -0.011240356,
           -0.010541439,
           0.05526661,
           0.25192335,
           -0.065995835,
           0.14808342,
           0.0022234973,
           0.10620706
          ],
          [
           0.3843879,
           0.10507209,
           0.04079975,
           -0.04774075,
           -0.07608685,
           0.09654945,
           -0.039415702,
           -0.052437413,
           0.19655283,
           -0.014080901,
           0.039821774,
           0.011288878,
           -0.09380094,
           0.10385588,
           -0.034590483,
           -0.039731216,
           0.017635321,
           -0.05545131,
           0.23384723,
           -0.014916837
          ],
          [
           0.017384216,
           0.084149554,
           0.19695497,
           0.10009804,
           -0.06310767,
           0.13348007,
           -0.12524892,
           -0.03509758,
           0.25630707,
           -0.0058305115,
           0.07781322,
           -0.040011805,
           -0.056391753,
           0.09395224,
           0.025202923,
           0.17659307,
           0.122105196,
           0.053588685,
           0.06332923,
           0.08563028
          ],
          [
           0.06061987,
           0.02800982,
           -0.12629582,
           -0.008254278,
           0.05573742,
           0.027892135,
           0.4379084,
           0.2231309,
           -0.0142950155,
           -0.014084814,
           -0.021363024,
           0.15284319,
           0.06703405,
           0.065066814,
           -0.055977747,
           0.10066731,
           -0.12911502,
           0.048163116,
           -0.012474835,
           -0.083689176
          ],
          [
           0.03211213,
           0.049820863,
           0.14691393,
           0.3557253,
           -0.021887528,
           0.041009523,
           0.03464883,
           -0.15191968,
           -0.16859612,
           0.12244968,
           -0.057237264,
           0.1904644,
           0.02724532,
           0.12727115,
           -0.19150838,
           0.0029478893,
           -0.045773365,
           0.067936145,
           0.03706217,
           0.10153389
          ],
          [
           0.033485554,
           0.020033117,
           0.21958162,
           -0.047916647,
           -0.011354031,
           0.045395277,
           -0.08900647,
           -0.09080929,
           -0.0388447,
           -0.036903024,
           -0.00076653995,
           -0.10996798,
           0.037410352,
           -0.059925847,
           0.008824885,
           0.14046194,
           0.09592902,
           0.06855473,
           0.0377952,
           0.04405552
          ],
          [
           -0.05046273,
           0.07850153,
           -0.08828629,
           -0.045260794,
           -0.023709651,
           0.056824997,
           0.027254801,
           -0.010169253,
           0.04843954,
           -0.015710115,
           0.042389244,
           0.042275496,
           0.066736534,
           -0.02678936,
           -0.08209616,
           0.03325501,
           -0.046893205,
           0.08731466,
           -0.1194049,
           0.04777855
          ],
          [
           -0.034379598,
           0.10938695,
           0.039555013,
           -0.037396774,
           -0.060200237,
           -0.029107848,
           -0.012289077,
           -0.080675915,
           0.13039795,
           -0.0895153,
           0.005291112,
           0.00050299056,
           0.14184883,
           0.0149379,
           0.0028367452,
           -0.03735502,
           0.043727636,
           -0.06075584,
           0.032928146,
           -0.045721747
          ],
          [
           -0.08205831,
           -0.049885362,
           -0.056241225,
           0.111299634,
           0.014175353,
           -0.05588396,
           -0.018966582,
           0.11958889,
           -0.06597008,
           -0.05841692,
           0.02992241,
           -0.0032250509,
           -0.076734945,
           0.04748523,
           0.079221904,
           0.0146394,
           0.038575966,
           -0.026311025,
           0.00392159,
           0.028315896
          ],
          [
           -0.007115463,
           0.09857135,
           0.10290839,
           0.008659668,
           0.056495927,
           0.067243375,
           -0.005193916,
           -0.0037817694,
           0.04743631,
           0.0027974676,
           0.04528771,
           0.029916301,
           -0.058997463,
           0.06427647,
           0.001521498,
           -0.07613475,
           -0.03630986,
           -0.078196056,
           0.032135453,
           0.019508522
          ],
          [
           0.36390308,
           -0.0034972765,
           -0.08373536,
           -0.02109678,
           -0.0010227803,
           -0.0028176988,
           0.08459197,
           0.04298108,
           -0.020861026,
           -0.19963765,
           0.1034147,
           0.21514717,
           0.1114464,
           0.028120155,
           -0.117404826,
           -0.06131672,
           0.054608505,
           0.028982468,
           0.03856822,
           -0.27072746
          ],
          [
           -0.07211068,
           -0.15474561,
           0.07139229,
           0.06732501,
           0.03807882,
           0.08012064,
           0.027991261,
           0.033953212,
           0.033232927,
           -0.08289227,
           0.014300615,
           -0.019062761,
           0.091825806,
           -0.017376363,
           -0.05538255,
           -0.042676184,
           -0.09961745,
           -0.10455635,
           -0.099271774,
           -0.060376234
          ],
          [
           -0.10977422,
           0.0707429,
           -0.044461384,
           0.044002946,
           0.21032262,
           0.04354006,
           0.015420226,
           0.22356611,
           -0.023390535,
           0.0022710739,
           -0.19162437,
           0.0485038,
           -0.07833563,
           -0.06708947,
           -0.10772384,
           0.053525604,
           0.07955371,
           0.16282943,
           0.14728141,
           -0.1721024
          ],
          [
           0.08360623,
           -0.10630727,
           -0.17486349,
           -0.27137673,
           -0.10056242,
           -0.025512423,
           -0.27316117,
           0.11553942,
           -0.020132646,
           -0.045378566,
           -0.05434088,
           0.23606558,
           -0.07678737,
           0.09090893,
           -0.03358323,
           -0.30563095,
           -0.06513108,
           -0.033704143,
           0.21437481,
           0.2290921
          ],
          [
           -0.032871276,
           -0.07659823,
           -0.2433547,
           -0.09957874,
           0.113276005,
           0.2227295,
           0.07958877,
           0.114331186,
           -0.057053525,
           -0.17000471,
           0.26888895,
           -0.010708112,
           -0.012415046,
           -0.13876921,
           0.009609513,
           0.09827895,
           0.018630456,
           -0.121168666,
           -0.020066628,
           0.018341435
          ],
          [
           0.0026624054,
           -0.55900216,
           0.03223522,
           -0.028044805,
           -0.022482548,
           -0.07797695,
           -0.00077230483,
           -0.23876145,
           0.07336524,
           -0.09195013,
           -0.69252443,
           -0.10044193,
           0.009342233,
           -0.10133808,
           -0.3783693,
           0.03338185,
           0.05255731,
           0.024793854,
           -0.040844716,
           0.024260521
          ],
          [
           -0.006952554,
           -0.1776154,
           -0.25270134,
           0.017221909,
           0.017348906,
           0.061199285,
           0.21853198,
           0.041658487,
           -0.04796737,
           -0.0048125237,
           0.20553601,
           -0.099057086,
           0.19022499,
           -0.034216896,
           0.007878572,
           -0.11199481,
           -0.011680781,
           -0.04088591,
           -0.033240464,
           0.032581523
          ],
          [
           0.0012193192,
           -0.11019562,
           -0.11942281,
           -0.02262549,
           -0.0073931296,
           -0.30485553,
           -0.039161347,
           0.051387895,
           0.14590305,
           0.19686922,
           0.6413065,
           -0.027304422,
           -0.3999148,
           -0.0404675,
           0.21761864,
           0.035580486,
           -0.15338592,
           -0.20664456,
           -0.28245896,
           -0.053656414
          ],
          [
           0.008177058,
           -0.044444237,
           0.09060521,
           -0.014009051,
           0.0072995694,
           0.22687879,
           -0.022156395,
           -0.021952344,
           -0.0640475,
           -0.014824588,
           -0.07054419,
           0.021377651,
           0.1494121,
           -0.07524942,
           -0.077129446,
           0.0013987441,
           -0.01300415,
           0.021715986,
           0.0065745544,
           -0.039644882
          ],
          [
           -0.08398096,
           0.072905794,
           -0.042031325,
           -0.55259585,
           -0.019945525,
           -0.24965723,
           -0.019307647,
           -0.010161314,
           0.03448093,
           0.32165846,
           -0.03480096,
           0.042368554,
           0.0066983933,
           0.13060471,
           -0.053514674,
           -0.0032694358,
           -0.013011945,
           -0.12626247,
           0.0503273,
           -0.01328956
          ],
          [
           0.2799324,
           -0.054877266,
           -0.037203558,
           0.19770493,
           0.08128627,
           -0.035019673,
           0.058595512,
           0.02492531,
           -0.10690527,
           -0.04563898,
           0.04520428,
           -0.013707209,
           0.040613413,
           -0.02483635,
           -0.32661402,
           -0.0071594464,
           0.15751608,
           -0.12033193,
           0.0740883,
           -0.02645629
          ],
          [
           0.03168688,
           0.014765026,
           0.04051937,
           0.101806745,
           0.08122403,
           -0.10575968,
           -0.048492122,
           -0.079695195,
           0.020561261,
           -0.031268086,
           0.024186268,
           -0.11272536,
           -0.009451303,
           0.09406887,
           -0.04204258,
           0.0029537324,
           0.09684014,
           -0.034455344,
           0.22479488,
           -0.028966503
          ],
          [
           -0.047560845,
           -0.12808676,
           -0.011408702,
           0.0630291,
           -0.01833215,
           -0.07404898,
           -0.016698847,
           0.16621703,
           -0.06288585,
           -0.013377164,
           0.14635788,
           -0.12599286,
           -0.4162636,
           0.077818945,
           0.043383025,
           -0.024013259,
           0.14426476,
           0.0037201475,
           0.013401059,
           0.18912955
          ],
          [
           0.058995523,
           0.035340723,
           -0.014008764,
           -0.40183467,
           -0.010903497,
           0.019855186,
           0.10662162,
           0.099503756,
           -0.03882251,
           -0.0101916855,
           0.015991177,
           0.43745926,
           0.021800034,
           -0.21996649,
           -0.008534569,
           0.010056866,
           -0.0324588,
           0.02886292,
           0.063874856,
           -0.883671
          ],
          [
           -0.29813975,
           0.10366247,
           0.03472576,
           0.066225015,
           0.009095542,
           0.45342657,
           0.10810421,
           -0.09722067,
           0.041172378,
           0.086529225,
           0.021252468,
           -0.008796997,
           -0.020710686,
           0.077522755,
           0.031840354,
           0.00658828,
           0.008440893,
           0.011063328,
           -0.3396475,
           -0.04192412
          ],
          [
           0.039204124,
           0.011298668,
           -0.014708239,
           0.009416515,
           0.024682075,
           -0.05282517,
           0.0072187744,
           0.037025392,
           0.08087671,
           0.024394684,
           0.021858588,
           -0.12525268,
           -0.034751084,
           0.029924072,
           -0.013887769,
           0.015494548,
           -0.0033726245,
           0.031658515,
           0.06588176,
           0.045818344
          ],
          [
           0.057609122,
           -0.07570832,
           0.035875637,
           0.03354211,
           -0.05413259,
           0.006533928,
           0.011584273,
           -0.09231287,
           -0.7878678,
           0.060797494,
           -0.00395211,
           0.07761842,
           0.011306708,
           -0.06746133,
           -0.016376106,
           0.0032248572,
           -0.024026554,
           -0.07691323,
           0.041281916,
           0.11735071
          ],
          [
           -0.05516834,
           0.018365944,
           -0.067139015,
           -0.068726905,
           0.07074934,
           -0.023475796,
           -0.06903173,
           0.08658749,
           0.09080475,
           0.3379451,
           0.0013812445,
           0.024422742,
           -0.007882623,
           0.101695776,
           -0.011816369,
           -0.051198073,
           -0.015578916,
           -0.12104244,
           -0.03152273,
           -0.060782984
          ],
          [
           -0.06653954,
           0.24595746,
           -0.7849253,
           -0.003521002,
           -0.06435363,
           -0.17166233,
           -0.008373983,
           -0.20936714,
           -0.031986333,
           -0.03099069,
           0.04271633,
           -0.19028309,
           -0.0036785826,
           -0.024396835,
           -0.0061619794,
           0.01716761,
           -0.059530966,
           0.13515255,
           -0.015635222,
           -0.035790734
          ],
          [
           0.047502425,
           -0.03766808,
           -0.025561444,
           -0.1164789,
           -0.07291713,
           0.04225544,
           -0.082779326,
           0.021280292,
           0.00087478664,
           0.008412803,
           0.02739086,
           0.06577827,
           0.2253464,
           -0.32343984,
           -0.14986059,
           0.015562508,
           0.005777955,
           -0.0131519325,
           -0.050323926,
           0.0066621937
          ],
          [
           -0.15803899,
           0.00958544,
           0.05378619,
           -0.042548988,
           0.19748186,
           0.029692564,
           -0.048143357,
           0.06301388,
           0.121695295,
           0.3569571,
           -0.11714195,
           -0.019076347,
           0.039112985,
           -0.82677907,
           -0.012880437,
           0.05895903,
           0.04044038,
           0.1561517,
           0.702284,
           -0.0022305474
          ],
          [
           0.045537937,
           -0.33574334,
           -0.10142844,
           0.116642326,
           -0.016190035,
           0.19359265,
           -0.014506355,
           -0.03132324,
           1.29651,
           -0.022285936,
           -0.1627159,
           -0.16739975,
           0.25939214,
           0.118729785,
           -0.049798384,
           -0.015738588,
           0.21368366,
           0.85610265,
           -0.31950372,
           0.122120745
          ],
          [
           -0.027863063,
           0.018304829,
           -0.16541433,
           0.10215844,
           0.15158157,
           -0.06982894,
           0.18373612,
           -0.21185976,
           0.5278853,
           0.04719726,
           -0.1816864,
           0.30286145,
           0.2822417,
           0.118696705,
           -0.03448224,
           0.031277172,
           -0.23890035,
           0.023772921,
           0.11529107,
           0.012133807
          ]
         ]
        }
       ],
       "layout": {
        "coloraxis": {
         "cmid": 0,
         "colorscale": [
          [
           0,
           "rgb(103,0,31)"
          ],
          [
           0.1,
           "rgb(178,24,43)"
          ],
          [
           0.2,
           "rgb(214,96,77)"
          ],
          [
           0.3,
           "rgb(244,165,130)"
          ],
          [
           0.4,
           "rgb(253,219,199)"
          ],
          [
           0.5,
           "rgb(247,247,247)"
          ],
          [
           0.6,
           "rgb(209,229,240)"
          ],
          [
           0.7,
           "rgb(146,197,222)"
          ],
          [
           0.8,
           "rgb(67,147,195)"
          ],
          [
           0.9,
           "rgb(33,102,172)"
          ],
          [
           1,
           "rgb(5,48,97)"
          ]
         ]
        },
        "template": {
         "data": {
          "bar": [
           {
            "error_x": {
             "color": "#2a3f5f"
            },
            "error_y": {
             "color": "#2a3f5f"
            },
            "marker": {
             "line": {
              "color": "#E5ECF6",
              "width": 0.5
             },
             "pattern": {
              "fillmode": "overlay",
              "size": 10,
              "solidity": 0.2
             }
            },
            "type": "bar"
           }
          ],
          "barpolar": [
           {
            "marker": {
             "line": {
              "color": "#E5ECF6",
              "width": 0.5
             },
             "pattern": {
              "fillmode": "overlay",
              "size": 10,
              "solidity": 0.2
             }
            },
            "type": "barpolar"
           }
          ],
          "carpet": [
           {
            "aaxis": {
             "endlinecolor": "#2a3f5f",
             "gridcolor": "white",
             "linecolor": "white",
             "minorgridcolor": "white",
             "startlinecolor": "#2a3f5f"
            },
            "baxis": {
             "endlinecolor": "#2a3f5f",
             "gridcolor": "white",
             "linecolor": "white",
             "minorgridcolor": "white",
             "startlinecolor": "#2a3f5f"
            },
            "type": "carpet"
           }
          ],
          "choropleth": [
           {
            "colorbar": {
             "outlinewidth": 0,
             "ticks": ""
            },
            "type": "choropleth"
           }
          ],
          "contour": [
           {
            "colorbar": {
             "outlinewidth": 0,
             "ticks": ""
            },
            "colorscale": [
             [
              0,
              "#0d0887"
             ],
             [
              0.1111111111111111,
              "#46039f"
             ],
             [
              0.2222222222222222,
              "#7201a8"
             ],
             [
              0.3333333333333333,
              "#9c179e"
             ],
             [
              0.4444444444444444,
              "#bd3786"
             ],
             [
              0.5555555555555556,
              "#d8576b"
             ],
             [
              0.6666666666666666,
              "#ed7953"
             ],
             [
              0.7777777777777778,
              "#fb9f3a"
             ],
             [
              0.8888888888888888,
              "#fdca26"
             ],
             [
              1,
              "#f0f921"
             ]
            ],
            "type": "contour"
           }
          ],
          "contourcarpet": [
           {
            "colorbar": {
             "outlinewidth": 0,
             "ticks": ""
            },
            "type": "contourcarpet"
           }
          ],
          "heatmap": [
           {
            "colorbar": {
             "outlinewidth": 0,
             "ticks": ""
            },
            "colorscale": [
             [
              0,
              "#0d0887"
             ],
             [
              0.1111111111111111,
              "#46039f"
             ],
             [
              0.2222222222222222,
              "#7201a8"
             ],
             [
              0.3333333333333333,
              "#9c179e"
             ],
             [
              0.4444444444444444,
              "#bd3786"
             ],
             [
              0.5555555555555556,
              "#d8576b"
             ],
             [
              0.6666666666666666,
              "#ed7953"
             ],
             [
              0.7777777777777778,
              "#fb9f3a"
             ],
             [
              0.8888888888888888,
              "#fdca26"
             ],
             [
              1,
              "#f0f921"
             ]
            ],
            "type": "heatmap"
           }
          ],
          "heatmapgl": [
           {
            "colorbar": {
             "outlinewidth": 0,
             "ticks": ""
            },
            "colorscale": [
             [
              0,
              "#0d0887"
             ],
             [
              0.1111111111111111,
              "#46039f"
             ],
             [
              0.2222222222222222,
              "#7201a8"
             ],
             [
              0.3333333333333333,
              "#9c179e"
             ],
             [
              0.4444444444444444,
              "#bd3786"
             ],
             [
              0.5555555555555556,
              "#d8576b"
             ],
             [
              0.6666666666666666,
              "#ed7953"
             ],
             [
              0.7777777777777778,
              "#fb9f3a"
             ],
             [
              0.8888888888888888,
              "#fdca26"
             ],
             [
              1,
              "#f0f921"
             ]
            ],
            "type": "heatmapgl"
           }
          ],
          "histogram": [
           {
            "marker": {
             "pattern": {
              "fillmode": "overlay",
              "size": 10,
              "solidity": 0.2
             }
            },
            "type": "histogram"
           }
          ],
          "histogram2d": [
           {
            "colorbar": {
             "outlinewidth": 0,
             "ticks": ""
            },
            "colorscale": [
             [
              0,
              "#0d0887"
             ],
             [
              0.1111111111111111,
              "#46039f"
             ],
             [
              0.2222222222222222,
              "#7201a8"
             ],
             [
              0.3333333333333333,
              "#9c179e"
             ],
             [
              0.4444444444444444,
              "#bd3786"
             ],
             [
              0.5555555555555556,
              "#d8576b"
             ],
             [
              0.6666666666666666,
              "#ed7953"
             ],
             [
              0.7777777777777778,
              "#fb9f3a"
             ],
             [
              0.8888888888888888,
              "#fdca26"
             ],
             [
              1,
              "#f0f921"
             ]
            ],
            "type": "histogram2d"
           }
          ],
          "histogram2dcontour": [
           {
            "colorbar": {
             "outlinewidth": 0,
             "ticks": ""
            },
            "colorscale": [
             [
              0,
              "#0d0887"
             ],
             [
              0.1111111111111111,
              "#46039f"
             ],
             [
              0.2222222222222222,
              "#7201a8"
             ],
             [
              0.3333333333333333,
              "#9c179e"
             ],
             [
              0.4444444444444444,
              "#bd3786"
             ],
             [
              0.5555555555555556,
              "#d8576b"
             ],
             [
              0.6666666666666666,
              "#ed7953"
             ],
             [
              0.7777777777777778,
              "#fb9f3a"
             ],
             [
              0.8888888888888888,
              "#fdca26"
             ],
             [
              1,
              "#f0f921"
             ]
            ],
            "type": "histogram2dcontour"
           }
          ],
          "mesh3d": [
           {
            "colorbar": {
             "outlinewidth": 0,
             "ticks": ""
            },
            "type": "mesh3d"
           }
          ],
          "parcoords": [
           {
            "line": {
             "colorbar": {
              "outlinewidth": 0,
              "ticks": ""
             }
            },
            "type": "parcoords"
           }
          ],
          "pie": [
           {
            "automargin": true,
            "type": "pie"
           }
          ],
          "scatter": [
           {
            "fillpattern": {
             "fillmode": "overlay",
             "size": 10,
             "solidity": 0.2
            },
            "type": "scatter"
           }
          ],
          "scatter3d": [
           {
            "line": {
             "colorbar": {
              "outlinewidth": 0,
              "ticks": ""
             }
            },
            "marker": {
             "colorbar": {
              "outlinewidth": 0,
              "ticks": ""
             }
            },
            "type": "scatter3d"
           }
          ],
          "scattercarpet": [
           {
            "marker": {
             "colorbar": {
              "outlinewidth": 0,
              "ticks": ""
             }
            },
            "type": "scattercarpet"
           }
          ],
          "scattergeo": [
           {
            "marker": {
             "colorbar": {
              "outlinewidth": 0,
              "ticks": ""
             }
            },
            "type": "scattergeo"
           }
          ],
          "scattergl": [
           {
            "marker": {
             "colorbar": {
              "outlinewidth": 0,
              "ticks": ""
             }
            },
            "type": "scattergl"
           }
          ],
          "scattermapbox": [
           {
            "marker": {
             "colorbar": {
              "outlinewidth": 0,
              "ticks": ""
             }
            },
            "type": "scattermapbox"
           }
          ],
          "scatterpolar": [
           {
            "marker": {
             "colorbar": {
              "outlinewidth": 0,
              "ticks": ""
             }
            },
            "type": "scatterpolar"
           }
          ],
          "scatterpolargl": [
           {
            "marker": {
             "colorbar": {
              "outlinewidth": 0,
              "ticks": ""
             }
            },
            "type": "scatterpolargl"
           }
          ],
          "scatterternary": [
           {
            "marker": {
             "colorbar": {
              "outlinewidth": 0,
              "ticks": ""
             }
            },
            "type": "scatterternary"
           }
          ],
          "surface": [
           {
            "colorbar": {
             "outlinewidth": 0,
             "ticks": ""
            },
            "colorscale": [
             [
              0,
              "#0d0887"
             ],
             [
              0.1111111111111111,
              "#46039f"
             ],
             [
              0.2222222222222222,
              "#7201a8"
             ],
             [
              0.3333333333333333,
              "#9c179e"
             ],
             [
              0.4444444444444444,
              "#bd3786"
             ],
             [
              0.5555555555555556,
              "#d8576b"
             ],
             [
              0.6666666666666666,
              "#ed7953"
             ],
             [
              0.7777777777777778,
              "#fb9f3a"
             ],
             [
              0.8888888888888888,
              "#fdca26"
             ],
             [
              1,
              "#f0f921"
             ]
            ],
            "type": "surface"
           }
          ],
          "table": [
           {
            "cells": {
             "fill": {
              "color": "#EBF0F8"
             },
             "line": {
              "color": "white"
             }
            },
            "header": {
             "fill": {
              "color": "#C8D4E3"
             },
             "line": {
              "color": "white"
             }
            },
            "type": "table"
           }
          ]
         },
         "layout": {
          "annotationdefaults": {
           "arrowcolor": "#2a3f5f",
           "arrowhead": 0,
           "arrowwidth": 1
          },
          "autotypenumbers": "strict",
          "coloraxis": {
           "colorbar": {
            "outlinewidth": 0,
            "ticks": ""
           }
          },
          "colorscale": {
           "diverging": [
            [
             0,
             "#8e0152"
            ],
            [
             0.1,
             "#c51b7d"
            ],
            [
             0.2,
             "#de77ae"
            ],
            [
             0.3,
             "#f1b6da"
            ],
            [
             0.4,
             "#fde0ef"
            ],
            [
             0.5,
             "#f7f7f7"
            ],
            [
             0.6,
             "#e6f5d0"
            ],
            [
             0.7,
             "#b8e186"
            ],
            [
             0.8,
             "#7fbc41"
            ],
            [
             0.9,
             "#4d9221"
            ],
            [
             1,
             "#276419"
            ]
           ],
           "sequential": [
            [
             0,
             "#0d0887"
            ],
            [
             0.1111111111111111,
             "#46039f"
            ],
            [
             0.2222222222222222,
             "#7201a8"
            ],
            [
             0.3333333333333333,
             "#9c179e"
            ],
            [
             0.4444444444444444,
             "#bd3786"
            ],
            [
             0.5555555555555556,
             "#d8576b"
            ],
            [
             0.6666666666666666,
             "#ed7953"
            ],
            [
             0.7777777777777778,
             "#fb9f3a"
            ],
            [
             0.8888888888888888,
             "#fdca26"
            ],
            [
             1,
             "#f0f921"
            ]
           ],
           "sequentialminus": [
            [
             0,
             "#0d0887"
            ],
            [
             0.1111111111111111,
             "#46039f"
            ],
            [
             0.2222222222222222,
             "#7201a8"
            ],
            [
             0.3333333333333333,
             "#9c179e"
            ],
            [
             0.4444444444444444,
             "#bd3786"
            ],
            [
             0.5555555555555556,
             "#d8576b"
            ],
            [
             0.6666666666666666,
             "#ed7953"
            ],
            [
             0.7777777777777778,
             "#fb9f3a"
            ],
            [
             0.8888888888888888,
             "#fdca26"
            ],
            [
             1,
             "#f0f921"
            ]
           ]
          },
          "colorway": [
           "#636efa",
           "#EF553B",
           "#00cc96",
           "#ab63fa",
           "#FFA15A",
           "#19d3f3",
           "#FF6692",
           "#B6E880",
           "#FF97FF",
           "#FECB52"
          ],
          "font": {
           "color": "#2a3f5f"
          },
          "geo": {
           "bgcolor": "white",
           "lakecolor": "white",
           "landcolor": "#E5ECF6",
           "showlakes": true,
           "showland": true,
           "subunitcolor": "white"
          },
          "hoverlabel": {
           "align": "left"
          },
          "hovermode": "closest",
          "mapbox": {
           "style": "light"
          },
          "paper_bgcolor": "white",
          "plot_bgcolor": "#E5ECF6",
          "polar": {
           "angularaxis": {
            "gridcolor": "white",
            "linecolor": "white",
            "ticks": ""
           },
           "bgcolor": "#E5ECF6",
           "radialaxis": {
            "gridcolor": "white",
            "linecolor": "white",
            "ticks": ""
           }
          },
          "scene": {
           "xaxis": {
            "backgroundcolor": "#E5ECF6",
            "gridcolor": "white",
            "gridwidth": 2,
            "linecolor": "white",
            "showbackground": true,
            "ticks": "",
            "zerolinecolor": "white"
           },
           "yaxis": {
            "backgroundcolor": "#E5ECF6",
            "gridcolor": "white",
            "gridwidth": 2,
            "linecolor": "white",
            "showbackground": true,
            "ticks": "",
            "zerolinecolor": "white"
           },
           "zaxis": {
            "backgroundcolor": "#E5ECF6",
            "gridcolor": "white",
            "gridwidth": 2,
            "linecolor": "white",
            "showbackground": true,
            "ticks": "",
            "zerolinecolor": "white"
           }
          },
          "shapedefaults": {
           "line": {
            "color": "#2a3f5f"
           }
          },
          "ternary": {
           "aaxis": {
            "gridcolor": "white",
            "linecolor": "white",
            "ticks": ""
           },
           "baxis": {
            "gridcolor": "white",
            "linecolor": "white",
            "ticks": ""
           },
           "bgcolor": "#E5ECF6",
           "caxis": {
            "gridcolor": "white",
            "linecolor": "white",
            "ticks": ""
           }
          },
          "title": {
           "x": 0.05
          },
          "xaxis": {
           "automargin": true,
           "gridcolor": "white",
           "linecolor": "white",
           "ticks": "",
           "title": {
            "standoff": 15
           },
           "zerolinecolor": "white",
           "zerolinewidth": 2
          },
          "yaxis": {
           "automargin": true,
           "gridcolor": "white",
           "linecolor": "white",
           "ticks": "",
           "title": {
            "standoff": 15
           },
           "zerolinecolor": "white",
           "zerolinewidth": 2
          }
         }
        },
        "title": {
         "text": "x spring however I found it made the whole bed too"
        },
        "xaxis": {
         "anchor": "y",
         "constrain": "domain",
         "domain": [
          0,
          1
         ],
         "scaleanchor": "y"
        },
        "yaxis": {
         "anchor": "x",
         "autorange": "reversed",
         "constrain": "domain",
         "domain": [
          0,
          1
         ]
        }
       }
      }
     },
     "metadata": {},
     "output_type": "display_data"
    },
    {
     "data": {
      "application/vnd.plotly.v1+json": {
       "config": {
        "plotlyServerURL": "https://plot.ly"
       },
       "data": [
        {
         "coloraxis": "coloraxis",
         "hovertemplate": "x: %{x}<br>y: %{y}<br>color: %{z}<extra></extra>",
         "name": "0",
         "type": "heatmap",
         "xaxis": "x",
         "yaxis": "y",
         "z": [
          [
           0.002146434,
           -0.045611404,
           -0.008408983,
           0.01762923,
           -0.0665831,
           -0.03823311,
           -0.05663254,
           0.03352916,
           -0.0036831507,
           0.021550614,
           0.040822078,
           -0.039480317,
           -0.021564895,
           0.021007346,
           0.09072244,
           -0.0019562263,
           -0.02029493,
           0.026479062,
           -0.0078031803,
           -0.02569365
          ],
          [
           0.023767225,
           0.30918577,
           0.035274003,
           -0.04548922,
           0.10458585,
           -0.09938349,
           0.0007059071,
           0.033973206,
           -0.18475059,
           0.07692625,
           -0.025403416,
           -0.0009046281,
           0.04558969,
           0.008775204,
           0.005918285,
           0.03968191,
           -0.030429717,
           -0.0065087266,
           0.024846433,
           -0.08806153
          ],
          [
           -0.0024725134,
           -0.14105362,
           -0.022879742,
           -0.043503493,
           0.011650629,
           -0.09169767,
           -0.04506524,
           -0.05240952,
           0.030540764,
           -0.09487854,
           -0.107523166,
           0.009702824,
           0.096644945,
           0.042935774,
           0.042183734,
           0.26497298,
           -0.07955192,
           0.1348632,
           -0.00900922,
           0.1434821
          ],
          [
           0.43957734,
           0.13664047,
           0.14567685,
           -0.05384281,
           -0.13223094,
           0.07535657,
           -0.10231341,
           -0.03375701,
           0.18520916,
           0.044902116,
           0.05382783,
           -0.13803461,
           -0.105798274,
           0.072755665,
           -0.0935925,
           -0.051907986,
           -0.009132596,
           0.03287909,
           0.2516796,
           -0.015441582
          ],
          [
           -0.09106092,
           0.29264238,
           0.17267662,
           -0.01140669,
           -0.0783497,
           0.041255385,
           -0.09865396,
           -0.028612752,
           0.30128977,
           -0.007859573,
           0.1476729,
           -0.043655947,
           -0.064123906,
           0.12006886,
           -0.021182403,
           0.18264908,
           -0.011002958,
           0.09951985,
           0.03540958,
           -0.012855068
          ],
          [
           0.032643214,
           -0.047894582,
           -0.078089595,
           0.05422996,
           0.013970092,
           0.039711684,
           0.3998785,
           0.16210201,
           -0.0053288266,
           -0.0123572145,
           -0.035347506,
           0.11990352,
           0.054241404,
           0.4294659,
           -0.21787873,
           0.11721791,
           -0.106924824,
           -0.022948757,
           -0.014297642,
           -0.11808229
          ],
          [
           0.026591929,
           0.20484605,
           0.3171222,
           0.26300043,
           -0.064973,
           0.01704115,
           0.020248003,
           -0.14306776,
           -0.09462396,
           0.07700115,
           -0.05163708,
           0.2715696,
           0.055845927,
           0.116032206,
           -0.15310371,
           0.05841883,
           -0.040431492,
           0.06561893,
           0.031170573,
           0.06989968
          ],
          [
           -0.021663213,
           -0.019992009,
           0.19731924,
           -0.08006014,
           0.016159188,
           -0.011174358,
           0.30232137,
           -0.09400756,
           -0.0063962936,
           -0.021472724,
           0.05844672,
           -0.09794577,
           0.052506566,
           -0.047142725,
           0.03873509,
           0.122742586,
           0.08174376,
           0.07706912,
           0.072897725,
           0.0701862
          ],
          [
           -0.057830036,
           0.07050347,
           -0.10902847,
           -0.01840549,
           -0.044096872,
           0.030159049,
           0.028895337,
           0.043873463,
           0.037720244,
           -0.22745661,
           0.07935157,
           0.022579245,
           0.27658135,
           0.09050961,
           -0.08792728,
           0.018066876,
           0.07106449,
           0.1171991,
           -0.07069674,
           -0.01711852
          ],
          [
           -0.008416749,
           0.023542847,
           0.055537015,
           -0.014999324,
           0.26760483,
           0.04080618,
           0.014476698,
           -0.1305677,
           0.011083089,
           -0.045677178,
           0.009186078,
           0.089350425,
           0.050997064,
           0.0348726,
           0.03492204,
           0.15742376,
           -0.035274446,
           -0.1410107,
           0.03886466,
           -0.05286969
          ],
          [
           0.004175987,
           0.067926526,
           0.046881218,
           0.098644674,
           -0.057902537,
           -0.024706546,
           0.06977866,
           0.0465364,
           0.011249172,
           0.045076348,
           -0.01964932,
           0.011087724,
           0.01562728,
           0.23047727,
           -0.18204914,
           -0.009371903,
           0.022760803,
           -0.053038217,
           0.015100053,
           -0.0070667136
          ],
          [
           -0.0030589206,
           0.03736164,
           0.072854765,
           -0.054101884,
           -0.017195068,
           0.16657029,
           -0.0076225586,
           0.022208825,
           0.0918855,
           0.059703834,
           0.004368961,
           -0.022500928,
           -0.05303963,
           0.036434434,
           -0.0013443474,
           -0.016276382,
           -0.0029699123,
           -0.0005235262,
           0.041774277,
           0.005393468
          ],
          [
           0.20193905,
           0.05221776,
           0.079012625,
           -0.051661443,
           -0.028736841,
           0.050162543,
           0.051694706,
           0.06869117,
           -0.029765395,
           -0.08110367,
           0.04481071,
           0.08471282,
           0.2818035,
           0.012347782,
           -0.20453206,
           -0.21159376,
           0.07936156,
           -0.012588909,
           0.029190898,
           0.01266202
          ],
          [
           0.08294879,
           0.0040216316,
           0.008152418,
           0.009593591,
           0.044344015,
           0.05183882,
           0.031256747,
           0.036531106,
           0.07449405,
           -0.054615434,
           0.11771503,
           -0.04039808,
           0.033772398,
           -0.028586805,
           0.03780316,
           -0.052903738,
           -0.041707158,
           0.030279499,
           0.027020387,
           -0.018697536
          ],
          [
           0.04091973,
           0.18077406,
           0.0642105,
           0.07956035,
           0.00019004568,
           0.008113977,
           0.039052747,
           0.0003542155,
           0.05527793,
           0.06633743,
           -0.14820963,
           -0.07916018,
           -0.016529903,
           -0.0061275316,
           -0.018368702,
           0.050548032,
           0.03211554,
           0.029240567,
           0.0560211,
           -0.195726
          ],
          [
           -0.06809916,
           0.02629135,
           -0.010446876,
           -0.012226194,
           -0.10817273,
           -0.027824068,
           0.0058505666,
           0.16456771,
           -0.060073424,
           -0.028913736,
           0.045530543,
           0.52924854,
           0.10210805,
           0.004147647,
           0.018470943,
           -0.047974657,
           -0.05276739,
           -0.024882758,
           0.015530277,
           0.2490146
          ],
          [
           -0.035935152,
           0.14629525,
           -0.0792889,
           0.117515266,
           -0.020661274,
           0.035656184,
           0.0780465,
           0.07224688,
           -0.028142788,
           -0.17616877,
           0.01022727,
           -0.027393218,
           -0.007920019,
           0.0022095214,
           0.064037986,
           -0.0046177604,
           0.03563022,
           0.018678267,
           0.14999846,
           -0.015598489
          ],
          [
           -0.047201954,
           -0.022125859,
           0.06284897,
           0.19168837,
           -0.04811251,
           -0.12122865,
           0.005420793,
           0.020855853,
           0.044986174,
           0.011562236,
           -0.056701608,
           -0.10404006,
           -0.043337137,
           0.05800039,
           -0.046507545,
           0.019213954,
           -0.077465504,
           -0.018440928,
           0.08289846,
           0.023230283
          ],
          [
           -0.018855307,
           -0.11233164,
           -0.03992883,
           -0.05221455,
           -0.0075669996,
           0.035172895,
           -0.010823041,
           0.039155096,
           -0.032947987,
           -0.03130279,
           0.03793446,
           -0.0018175561,
           -0.024075221,
           0.04868627,
           -0.047042906,
           0.018977588,
           0.0070831478,
           -0.024910456,
           0.0664538,
           0.067959905
          ],
          [
           -0.0007663416,
           -0.0790593,
           -0.030089326,
           -0.023364287,
           -0.014184514,
           -0.009186281,
           0.015254133,
           0.006057146,
           -0.026081208,
           -0.04573886,
           0.9661366,
           -0.026759882,
           -0.14836106,
           -0.03804098,
           0.012928791,
           0.031039916,
           0.029302817,
           -0.0032751001,
           0.028803453,
           -0.037632115
          ],
          [
           0.013834731,
           -0.04541836,
           -0.055715784,
           0.043047506,
           0.021998337,
           0.0063560987,
           -0.016266216,
           -0.01391235,
           -0.036257386,
           0.580979,
           -0.071065925,
           0.026729956,
           -0.026891433,
           -0.11287997,
           -0.04650177,
           -0.0804125,
           0.028771793,
           0.0842645,
           0.046494957,
           -0.06665904
          ],
          [
           0.05860138,
           0.063422665,
           -0.04532995,
           0.2625523,
           -0.017016836,
           -0.20237961,
           0.043653376,
           0.27655023,
           0.033924088,
           0.001593506,
           0.0012150845,
           0.043828912,
           0.004664338,
           -0.059326295,
           -0.02045764,
           0.0017265482,
           -0.030680502,
           0.011479784,
           -0.0029833913,
           0.044632982
          ],
          [
           0.0063511264,
           -0.07047323,
           -0.009968296,
           0.009866811,
           0.036914177,
           0.038222432,
           0.14109124,
           0.1148845,
           0.1049598,
           0.038241576,
           0.019853491,
           0.042192496,
           -0.022438262,
           0.035745833,
           -0.026517961,
           0.014201529,
           -0.13302861,
           -0.02916459,
           0.030183064,
           -0.023910612
          ],
          [
           0.03672448,
           0.041545354,
           0.053782776,
           0.07163356,
           0.002374528,
           -0.016462097,
           -0.04957389,
           -0.07854588,
           0.018647544,
           -0.013128773,
           0.52391815,
           -0.08416578,
           0.006456283,
           0.009709317,
           -0.05587697,
           -0.015942063,
           -0.07150151,
           -0.07342028,
           0.16927776,
           -0.018474411
          ],
          [
           -0.0052022263,
           0.03907581,
           -0.008537684,
           0.070604175,
           -0.06468478,
           -0.051156882,
           0.10481715,
           0.017908424,
           -0.07069189,
           -0.026930619,
           -0.058584057,
           -0.0999154,
           0.18617758,
           0.05438041,
           0.023238016,
           0.049707815,
           0.07501539,
           -0.0072437366,
           -0.030710923,
           0.29004943
          ],
          [
           0.0710862,
           0.034924336,
           -0.013010021,
           -0.06355938,
           0.05286579,
           -0.009331234,
           0.030000206,
           0.104998976,
           -0.037264224,
           0.006892178,
           0.0011299057,
           -0.03834264,
           -0.054616943,
           -0.0031701662,
           -0.045240365,
           0.025058167,
           -0.0048637353,
           -0.06844683,
           0.058503635,
           1.2997552
          ],
          [
           -0.09752688,
           0.022907704,
           0.040259786,
           0.03254422,
           0.042777095,
           0.6133159,
           -0.021655826,
           0.053448863,
           0.019284291,
           -0.013387363,
           -0.041156646,
           -0.00034388155,
           0.046980318,
           0.034625757,
           0.09962087,
           0.044658102,
           0.006506186,
           0.0069759395,
           0.8103709,
           0.018236838
          ],
          [
           0.02045726,
           0.013999058,
           -0.014776219,
           0.011937301,
           -0.027242541,
           -0.033139735,
           0.0117005035,
           -0.009927435,
           0.6226554,
           0.03256915,
           0.012887485,
           -0.10675053,
           -0.02390847,
           0.024043184,
           0.0014036763,
           -0.02176274,
           -0.0051325923,
           0.04090254,
           0.032125734,
           0.04592885
          ],
          [
           0.032078486,
           -0.017453887,
           0.033635236,
           0.00041085482,
           -0.049601212,
           0.022959795,
           0.03686203,
           -0.11926128,
           0.28966156,
           0.03461486,
           -0.0071110036,
           0.06258799,
           -0.00773305,
           -0.021964297,
           0.0052733906,
           0.4442414,
           -0.02871108,
           -0.06284611,
           0.05562174,
           0.089174986
          ],
          [
           -0.0613657,
           -0.0070443675,
           -0.05335252,
           0.04951208,
           0.17720312,
           0.008189166,
           -0.07184705,
           0.04127093,
           0.061560165,
           0.04061103,
           -0.0145729985,
           -0.102607265,
           -0.021807374,
           0.09104664,
           -0.0016628057,
           -0.0036365837,
           0.005306417,
           -0.11421763,
           -0.018877234,
           -0.06694587
          ],
          [
           -0.047964334,
           0.057545297,
           0.21006137,
           -0.0085539725,
           -0.07668335,
           0.012031451,
           -0.016507015,
           0.026785351,
           -0.028763533,
           -0.044082254,
           0.043811362,
           -0.025079997,
           0.04931871,
           0.034551486,
           0.0025751945,
           0.006756304,
           -0.009645874,
           0.046289906,
           -0.010819714,
           -0.016836427
          ],
          [
           0.032091357,
           0.15032232,
           -0.027639106,
           1.4414314,
           -0.048135538,
           -0.048808023,
           -0.0561351,
           0.018389663,
           -0.004518712,
           -0.0026022773,
           0.023980698,
           0.08014018,
           0.049805213,
           -0.027713561,
           0.03600949,
           0.0078070536,
           0.016987342,
           -0.054379847,
           -0.030831853,
           0.0031872662
          ],
          [
           0.028301997,
           1.6857896,
           -0.06406613,
           -0.042474084,
           0.046677593,
           1.3859034,
           -0.03406228,
           0.058995135,
           -0.045714505,
           -0.01804543,
           0.034011506,
           -0.041033532,
           -0.0058318228,
           -0.14263931,
           -0.07128417,
           -0.07142401,
           0.04193997,
           0.1579195,
           0.878082,
           -0.002462972
          ],
          [
           0.062427614,
           -0.029058296,
           -0.0960461,
           -0.035205442,
           -0.013551343,
           -0.028021738,
           -0.04081408,
           0.002846418,
           5.509285,
           -0.038410358,
           -0.05751823,
           -0.17906594,
           -0.0040922593,
           0.110557295,
           0.056482974,
           -0.029338393,
           0.67677367,
           -0.005130058,
           -0.061907254,
           0.009250186
          ],
          [
           0.073535904,
           0.96093595,
           -0.1939325,
           0.0042301416,
           1.1870754,
           -0.028461749,
           1.1752617,
           -0.19217241,
           0.7753463,
           0.0018663257,
           0.004259996,
           0.63979465,
           -0.063134775,
           -0.1220514,
           0.032474156,
           -0.034693986,
           -0.00090640783,
           0.091841966,
           0.20062374,
           -0.028140273
          ]
         ]
        }
       ],
       "layout": {
        "coloraxis": {
         "cmid": 0,
         "colorscale": [
          [
           0,
           "rgb(103,0,31)"
          ],
          [
           0.1,
           "rgb(178,24,43)"
          ],
          [
           0.2,
           "rgb(214,96,77)"
          ],
          [
           0.3,
           "rgb(244,165,130)"
          ],
          [
           0.4,
           "rgb(253,219,199)"
          ],
          [
           0.5,
           "rgb(247,247,247)"
          ],
          [
           0.6,
           "rgb(209,229,240)"
          ],
          [
           0.7,
           "rgb(146,197,222)"
          ],
          [
           0.8,
           "rgb(67,147,195)"
          ],
          [
           0.9,
           "rgb(33,102,172)"
          ],
          [
           1,
           "rgb(5,48,97)"
          ]
         ]
        },
        "template": {
         "data": {
          "bar": [
           {
            "error_x": {
             "color": "#2a3f5f"
            },
            "error_y": {
             "color": "#2a3f5f"
            },
            "marker": {
             "line": {
              "color": "#E5ECF6",
              "width": 0.5
             },
             "pattern": {
              "fillmode": "overlay",
              "size": 10,
              "solidity": 0.2
             }
            },
            "type": "bar"
           }
          ],
          "barpolar": [
           {
            "marker": {
             "line": {
              "color": "#E5ECF6",
              "width": 0.5
             },
             "pattern": {
              "fillmode": "overlay",
              "size": 10,
              "solidity": 0.2
             }
            },
            "type": "barpolar"
           }
          ],
          "carpet": [
           {
            "aaxis": {
             "endlinecolor": "#2a3f5f",
             "gridcolor": "white",
             "linecolor": "white",
             "minorgridcolor": "white",
             "startlinecolor": "#2a3f5f"
            },
            "baxis": {
             "endlinecolor": "#2a3f5f",
             "gridcolor": "white",
             "linecolor": "white",
             "minorgridcolor": "white",
             "startlinecolor": "#2a3f5f"
            },
            "type": "carpet"
           }
          ],
          "choropleth": [
           {
            "colorbar": {
             "outlinewidth": 0,
             "ticks": ""
            },
            "type": "choropleth"
           }
          ],
          "contour": [
           {
            "colorbar": {
             "outlinewidth": 0,
             "ticks": ""
            },
            "colorscale": [
             [
              0,
              "#0d0887"
             ],
             [
              0.1111111111111111,
              "#46039f"
             ],
             [
              0.2222222222222222,
              "#7201a8"
             ],
             [
              0.3333333333333333,
              "#9c179e"
             ],
             [
              0.4444444444444444,
              "#bd3786"
             ],
             [
              0.5555555555555556,
              "#d8576b"
             ],
             [
              0.6666666666666666,
              "#ed7953"
             ],
             [
              0.7777777777777778,
              "#fb9f3a"
             ],
             [
              0.8888888888888888,
              "#fdca26"
             ],
             [
              1,
              "#f0f921"
             ]
            ],
            "type": "contour"
           }
          ],
          "contourcarpet": [
           {
            "colorbar": {
             "outlinewidth": 0,
             "ticks": ""
            },
            "type": "contourcarpet"
           }
          ],
          "heatmap": [
           {
            "colorbar": {
             "outlinewidth": 0,
             "ticks": ""
            },
            "colorscale": [
             [
              0,
              "#0d0887"
             ],
             [
              0.1111111111111111,
              "#46039f"
             ],
             [
              0.2222222222222222,
              "#7201a8"
             ],
             [
              0.3333333333333333,
              "#9c179e"
             ],
             [
              0.4444444444444444,
              "#bd3786"
             ],
             [
              0.5555555555555556,
              "#d8576b"
             ],
             [
              0.6666666666666666,
              "#ed7953"
             ],
             [
              0.7777777777777778,
              "#fb9f3a"
             ],
             [
              0.8888888888888888,
              "#fdca26"
             ],
             [
              1,
              "#f0f921"
             ]
            ],
            "type": "heatmap"
           }
          ],
          "heatmapgl": [
           {
            "colorbar": {
             "outlinewidth": 0,
             "ticks": ""
            },
            "colorscale": [
             [
              0,
              "#0d0887"
             ],
             [
              0.1111111111111111,
              "#46039f"
             ],
             [
              0.2222222222222222,
              "#7201a8"
             ],
             [
              0.3333333333333333,
              "#9c179e"
             ],
             [
              0.4444444444444444,
              "#bd3786"
             ],
             [
              0.5555555555555556,
              "#d8576b"
             ],
             [
              0.6666666666666666,
              "#ed7953"
             ],
             [
              0.7777777777777778,
              "#fb9f3a"
             ],
             [
              0.8888888888888888,
              "#fdca26"
             ],
             [
              1,
              "#f0f921"
             ]
            ],
            "type": "heatmapgl"
           }
          ],
          "histogram": [
           {
            "marker": {
             "pattern": {
              "fillmode": "overlay",
              "size": 10,
              "solidity": 0.2
             }
            },
            "type": "histogram"
           }
          ],
          "histogram2d": [
           {
            "colorbar": {
             "outlinewidth": 0,
             "ticks": ""
            },
            "colorscale": [
             [
              0,
              "#0d0887"
             ],
             [
              0.1111111111111111,
              "#46039f"
             ],
             [
              0.2222222222222222,
              "#7201a8"
             ],
             [
              0.3333333333333333,
              "#9c179e"
             ],
             [
              0.4444444444444444,
              "#bd3786"
             ],
             [
              0.5555555555555556,
              "#d8576b"
             ],
             [
              0.6666666666666666,
              "#ed7953"
             ],
             [
              0.7777777777777778,
              "#fb9f3a"
             ],
             [
              0.8888888888888888,
              "#fdca26"
             ],
             [
              1,
              "#f0f921"
             ]
            ],
            "type": "histogram2d"
           }
          ],
          "histogram2dcontour": [
           {
            "colorbar": {
             "outlinewidth": 0,
             "ticks": ""
            },
            "colorscale": [
             [
              0,
              "#0d0887"
             ],
             [
              0.1111111111111111,
              "#46039f"
             ],
             [
              0.2222222222222222,
              "#7201a8"
             ],
             [
              0.3333333333333333,
              "#9c179e"
             ],
             [
              0.4444444444444444,
              "#bd3786"
             ],
             [
              0.5555555555555556,
              "#d8576b"
             ],
             [
              0.6666666666666666,
              "#ed7953"
             ],
             [
              0.7777777777777778,
              "#fb9f3a"
             ],
             [
              0.8888888888888888,
              "#fdca26"
             ],
             [
              1,
              "#f0f921"
             ]
            ],
            "type": "histogram2dcontour"
           }
          ],
          "mesh3d": [
           {
            "colorbar": {
             "outlinewidth": 0,
             "ticks": ""
            },
            "type": "mesh3d"
           }
          ],
          "parcoords": [
           {
            "line": {
             "colorbar": {
              "outlinewidth": 0,
              "ticks": ""
             }
            },
            "type": "parcoords"
           }
          ],
          "pie": [
           {
            "automargin": true,
            "type": "pie"
           }
          ],
          "scatter": [
           {
            "fillpattern": {
             "fillmode": "overlay",
             "size": 10,
             "solidity": 0.2
            },
            "type": "scatter"
           }
          ],
          "scatter3d": [
           {
            "line": {
             "colorbar": {
              "outlinewidth": 0,
              "ticks": ""
             }
            },
            "marker": {
             "colorbar": {
              "outlinewidth": 0,
              "ticks": ""
             }
            },
            "type": "scatter3d"
           }
          ],
          "scattercarpet": [
           {
            "marker": {
             "colorbar": {
              "outlinewidth": 0,
              "ticks": ""
             }
            },
            "type": "scattercarpet"
           }
          ],
          "scattergeo": [
           {
            "marker": {
             "colorbar": {
              "outlinewidth": 0,
              "ticks": ""
             }
            },
            "type": "scattergeo"
           }
          ],
          "scattergl": [
           {
            "marker": {
             "colorbar": {
              "outlinewidth": 0,
              "ticks": ""
             }
            },
            "type": "scattergl"
           }
          ],
          "scattermapbox": [
           {
            "marker": {
             "colorbar": {
              "outlinewidth": 0,
              "ticks": ""
             }
            },
            "type": "scattermapbox"
           }
          ],
          "scatterpolar": [
           {
            "marker": {
             "colorbar": {
              "outlinewidth": 0,
              "ticks": ""
             }
            },
            "type": "scatterpolar"
           }
          ],
          "scatterpolargl": [
           {
            "marker": {
             "colorbar": {
              "outlinewidth": 0,
              "ticks": ""
             }
            },
            "type": "scatterpolargl"
           }
          ],
          "scatterternary": [
           {
            "marker": {
             "colorbar": {
              "outlinewidth": 0,
              "ticks": ""
             }
            },
            "type": "scatterternary"
           }
          ],
          "surface": [
           {
            "colorbar": {
             "outlinewidth": 0,
             "ticks": ""
            },
            "colorscale": [
             [
              0,
              "#0d0887"
             ],
             [
              0.1111111111111111,
              "#46039f"
             ],
             [
              0.2222222222222222,
              "#7201a8"
             ],
             [
              0.3333333333333333,
              "#9c179e"
             ],
             [
              0.4444444444444444,
              "#bd3786"
             ],
             [
              0.5555555555555556,
              "#d8576b"
             ],
             [
              0.6666666666666666,
              "#ed7953"
             ],
             [
              0.7777777777777778,
              "#fb9f3a"
             ],
             [
              0.8888888888888888,
              "#fdca26"
             ],
             [
              1,
              "#f0f921"
             ]
            ],
            "type": "surface"
           }
          ],
          "table": [
           {
            "cells": {
             "fill": {
              "color": "#EBF0F8"
             },
             "line": {
              "color": "white"
             }
            },
            "header": {
             "fill": {
              "color": "#C8D4E3"
             },
             "line": {
              "color": "white"
             }
            },
            "type": "table"
           }
          ]
         },
         "layout": {
          "annotationdefaults": {
           "arrowcolor": "#2a3f5f",
           "arrowhead": 0,
           "arrowwidth": 1
          },
          "autotypenumbers": "strict",
          "coloraxis": {
           "colorbar": {
            "outlinewidth": 0,
            "ticks": ""
           }
          },
          "colorscale": {
           "diverging": [
            [
             0,
             "#8e0152"
            ],
            [
             0.1,
             "#c51b7d"
            ],
            [
             0.2,
             "#de77ae"
            ],
            [
             0.3,
             "#f1b6da"
            ],
            [
             0.4,
             "#fde0ef"
            ],
            [
             0.5,
             "#f7f7f7"
            ],
            [
             0.6,
             "#e6f5d0"
            ],
            [
             0.7,
             "#b8e186"
            ],
            [
             0.8,
             "#7fbc41"
            ],
            [
             0.9,
             "#4d9221"
            ],
            [
             1,
             "#276419"
            ]
           ],
           "sequential": [
            [
             0,
             "#0d0887"
            ],
            [
             0.1111111111111111,
             "#46039f"
            ],
            [
             0.2222222222222222,
             "#7201a8"
            ],
            [
             0.3333333333333333,
             "#9c179e"
            ],
            [
             0.4444444444444444,
             "#bd3786"
            ],
            [
             0.5555555555555556,
             "#d8576b"
            ],
            [
             0.6666666666666666,
             "#ed7953"
            ],
            [
             0.7777777777777778,
             "#fb9f3a"
            ],
            [
             0.8888888888888888,
             "#fdca26"
            ],
            [
             1,
             "#f0f921"
            ]
           ],
           "sequentialminus": [
            [
             0,
             "#0d0887"
            ],
            [
             0.1111111111111111,
             "#46039f"
            ],
            [
             0.2222222222222222,
             "#7201a8"
            ],
            [
             0.3333333333333333,
             "#9c179e"
            ],
            [
             0.4444444444444444,
             "#bd3786"
            ],
            [
             0.5555555555555556,
             "#d8576b"
            ],
            [
             0.6666666666666666,
             "#ed7953"
            ],
            [
             0.7777777777777778,
             "#fb9f3a"
            ],
            [
             0.8888888888888888,
             "#fdca26"
            ],
            [
             1,
             "#f0f921"
            ]
           ]
          },
          "colorway": [
           "#636efa",
           "#EF553B",
           "#00cc96",
           "#ab63fa",
           "#FFA15A",
           "#19d3f3",
           "#FF6692",
           "#B6E880",
           "#FF97FF",
           "#FECB52"
          ],
          "font": {
           "color": "#2a3f5f"
          },
          "geo": {
           "bgcolor": "white",
           "lakecolor": "white",
           "landcolor": "#E5ECF6",
           "showlakes": true,
           "showland": true,
           "subunitcolor": "white"
          },
          "hoverlabel": {
           "align": "left"
          },
          "hovermode": "closest",
          "mapbox": {
           "style": "light"
          },
          "paper_bgcolor": "white",
          "plot_bgcolor": "#E5ECF6",
          "polar": {
           "angularaxis": {
            "gridcolor": "white",
            "linecolor": "white",
            "ticks": ""
           },
           "bgcolor": "#E5ECF6",
           "radialaxis": {
            "gridcolor": "white",
            "linecolor": "white",
            "ticks": ""
           }
          },
          "scene": {
           "xaxis": {
            "backgroundcolor": "#E5ECF6",
            "gridcolor": "white",
            "gridwidth": 2,
            "linecolor": "white",
            "showbackground": true,
            "ticks": "",
            "zerolinecolor": "white"
           },
           "yaxis": {
            "backgroundcolor": "#E5ECF6",
            "gridcolor": "white",
            "gridwidth": 2,
            "linecolor": "white",
            "showbackground": true,
            "ticks": "",
            "zerolinecolor": "white"
           },
           "zaxis": {
            "backgroundcolor": "#E5ECF6",
            "gridcolor": "white",
            "gridwidth": 2,
            "linecolor": "white",
            "showbackground": true,
            "ticks": "",
            "zerolinecolor": "white"
           }
          },
          "shapedefaults": {
           "line": {
            "color": "#2a3f5f"
           }
          },
          "ternary": {
           "aaxis": {
            "gridcolor": "white",
            "linecolor": "white",
            "ticks": ""
           },
           "baxis": {
            "gridcolor": "white",
            "linecolor": "white",
            "ticks": ""
           },
           "bgcolor": "#E5ECF6",
           "caxis": {
            "gridcolor": "white",
            "linecolor": "white",
            "ticks": ""
           }
          },
          "title": {
           "x": 0.05
          },
          "xaxis": {
           "automargin": true,
           "gridcolor": "white",
           "linecolor": "white",
           "ticks": "",
           "title": {
            "standoff": 15
           },
           "zerolinecolor": "white",
           "zerolinewidth": 2
          },
          "yaxis": {
           "automargin": true,
           "gridcolor": "white",
           "linecolor": "white",
           "ticks": "",
           "title": {
            "standoff": 15
           },
           "zerolinecolor": "white",
           "zerolinewidth": 2
          }
         }
        },
        "title": {
         "text": "because they know their bills are going to be sky-"
        },
        "xaxis": {
         "anchor": "y",
         "constrain": "domain",
         "domain": [
          0,
          1
         ],
         "scaleanchor": "y"
        },
        "yaxis": {
         "anchor": "x",
         "autorange": "reversed",
         "constrain": "domain",
         "domain": [
          0,
          1
         ]
        }
       }
      }
     },
     "metadata": {},
     "output_type": "display_data"
    },
    {
     "data": {
      "application/vnd.plotly.v1+json": {
       "config": {
        "plotlyServerURL": "https://plot.ly"
       },
       "data": [
        {
         "coloraxis": "coloraxis",
         "hovertemplate": "x: %{x}<br>y: %{y}<br>color: %{z}<extra></extra>",
         "name": "0",
         "type": "heatmap",
         "xaxis": "x",
         "yaxis": "y",
         "z": [
          [
           -0.18481477,
           -0.038111687,
           0.39812022,
           0.03303039,
           0.08040975,
           -0.053775314,
           -0.024467682,
           -0.0024375832,
           0.06922454,
           0.008960947,
           0.06325233,
           0.013404531,
           0.038916256,
           0.007817037,
           -0.017292889,
           0.03603737,
           -0.04004165,
           0.045165256,
           0.027059352,
           -0.017843815
          ],
          [
           -0.030496284,
           0.34532982,
           0.039262414,
           0.04146026,
           0.10302871,
           -0.017886028,
           -0.022432365,
           -0.0013209898,
           -0.17913775,
           0.040320978,
           0.035406012,
           -0.0020469492,
           0.09995651,
           -0.006767383,
           -0.0034535304,
           0.018055463,
           -0.02552652,
           0.0071925363,
           -0.00215799,
           -0.004343599
          ],
          [
           0.048567824,
           0.004937554,
           -0.03767032,
           -0.05223263,
           0.0194707,
           -0.10052277,
           0.030658627,
           0.03931699,
           0.022874296,
           -0.099281155,
           -0.051859938,
           -0.011198912,
           0.03209804,
           0.071061596,
           0.0672469,
           0.2960604,
           -0.12128511,
           0.10484272,
           0.019054126,
           0.075635284
          ],
          [
           0.33080193,
           0.15607117,
           0.10582217,
           -0.031992264,
           -0.038517818,
           0.07155051,
           -0.06773387,
           -0.04199706,
           0.22600943,
           0.016496692,
           0.05126983,
           -0.07194622,
           -0.09179561,
           0.05800022,
           0.089502096,
           -0.014020996,
           -0.1007341,
           -0.017051961,
           0.25167653,
           -0.04344771
          ],
          [
           0.012932765,
           0.1620748,
           0.03468272,
           0.09449408,
           -0.035480566,
           0.1254935,
           -0.10928404,
           -0.027090937,
           0.24977913,
           0.067684315,
           0.09501564,
           -0.031970426,
           -0.017865375,
           0.076085806,
           0.0006637871,
           0.17979628,
           0.06445693,
           0.086273655,
           0.02979849,
           -0.005780123
          ],
          [
           0.091536626,
           0.038526677,
           -0.035311446,
           0.11478774,
           0.014511012,
           0.026954744,
           0.37498105,
           0.16496396,
           0.018584643,
           -0.050810684,
           -0.037330236,
           0.10254593,
           -0.0014591701,
           0.061363913,
           -0.25941017,
           0.0020514987,
           -0.13084558,
           0.13802645,
           -0.024681605,
           -0.08644615
          ],
          [
           0.028030964,
           0.06129723,
           0.07303789,
           0.3353628,
           -0.03769688,
           0.029604167,
           0.020235954,
           -0.11399907,
           -0.07255423,
           0.094178215,
           -0.07949749,
           0.12063166,
           0.061364267,
           0.14096026,
           -0.18705964,
           0.04482441,
           -0.061327085,
           0.09400404,
           0.06794715,
           -0.038623214
          ],
          [
           0.070403785,
           0.100395724,
           0.30929482,
           -0.02060726,
           -0.029860187,
           0.07471019,
           -0.08940247,
           -0.11161058,
           0.003215542,
           -0.06764111,
           -0.0009606136,
           -0.054127093,
           0.07666643,
           -0.019886095,
           -0.046643004,
           0.028581858,
           0.07846904,
           0.03569186,
           0.03259311,
           0.01880201
          ],
          [
           -0.02997971,
           0.0580827,
           -0.13777745,
           -0.03344769,
           -0.04885163,
           -0.013672151,
           0.009620314,
           0.044239476,
           0.04210479,
           -0.019275239,
           0.049976375,
           0.005735716,
           0.0080323145,
           0.07073596,
           -0.052310795,
           0.017832994,
           0.2192645,
           0.13760968,
           -0.053939823,
           0.006595093
          ],
          [
           -0.03192302,
           0.2742653,
           0.046901368,
           0.07101534,
           0.12435706,
           0.020599175,
           -0.004678637,
           -0.044510826,
           0.11400697,
           -0.015478129,
           0.021984914,
           -0.023685932,
           0.030419044,
           0.07086306,
           0.042983662,
           0.118807785,
           0.043301135,
           -0.015183017,
           0.06314985,
           -0.06435431
          ],
          [
           -0.11185579,
           0.052695047,
           0.028058838,
           0.104487896,
           -0.00801258,
           0.10624653,
           0.10605548,
           0.4221725,
           -0.06358808,
           -0.007938277,
           0.09548823,
           -0.085114695,
           0.034942813,
           -0.047957864,
           -0.036736395,
           0.0232878,
           -0.014848532,
           0.0026511624,
           -0.007135637,
           0.008232076
          ],
          [
           -0.020577608,
           0.053101927,
           -0.013338745,
           0.11233516,
           -0.032177933,
           0.0039669974,
           -0.011637885,
           0.04349853,
           0.012137704,
           0.0128306355,
           0.050860588,
           -0.051339168,
           -0.055376567,
           0.01742768,
           -0.01759696,
           0.025498215,
           -0.013433736,
           -0.016075427,
           0.11536758,
           -0.0049276706
          ],
          [
           0.4974504,
           0.022084638,
           0.27679342,
           -0.06619901,
           -0.015270293,
           0.014384031,
           0.013220312,
           0.056737527,
           -0.013887559,
           -0.06273357,
           0.013755785,
           0.06172924,
           -0.1995677,
           0.018173022,
           -0.15542251,
           -0.013131583,
           0.00077268295,
           -0.0063965376,
           0.11905518,
           0.26777118
          ],
          [
           0.07191193,
           -0.05127386,
           0.029331528,
           0.006811084,
           0.06895974,
           0.05294837,
           -0.00278656,
           0.032372553,
           0.15089683,
           -0.04936961,
           0.011120543,
           -0.032430597,
           0.08573133,
           -0.034317918,
           0.08504902,
           -0.060862057,
           0.08028046,
           0.07033838,
           -0.32039842,
           -0.040832177
          ],
          [
           0.71675897,
           0.08283098,
           0.013375938,
           0.12671268,
           0.08260332,
           0.2473828,
           0.032869488,
           0.06737185,
           0.03933727,
           0.022533372,
           0.10081806,
           0.12001005,
           -0.015572874,
           0.00055970997,
           -0.31054193,
           0.07805466,
           0.08858694,
           0.030560665,
           -0.061406147,
           -0.14520074
          ],
          [
           0.080412395,
           0.070314795,
           0.063426375,
           0.07283622,
           -0.05020127,
           -0.06540513,
           0.1192172,
           0.04092392,
           0.020597488,
           -0.018496629,
           0.040087715,
           0.2548983,
           0.08349757,
           0.036278997,
           0.24602498,
           0.052909717,
           -0.013456434,
           -0.01777602,
           0.19390303,
           0.21654764
          ],
          [
           -0.033317134,
           0.013462945,
           -0.2289565,
           0.16380359,
           -0.051827952,
           0.3740688,
           -0.13278815,
           0.11044941,
           -0.041404143,
           -0.17544766,
           -0.045863524,
           0.060686525,
           0.0049266145,
           0.07707338,
           0.036025878,
           0.05187856,
           0.031954467,
           -0.012191795,
           -0.040617056,
           0.06924564
          ],
          [
           -0.20424408,
           0.15583155,
           0.019578453,
           0.2508524,
           -0.050764896,
           -0.09191335,
           0.00083287247,
           -0.001971636,
           0.043004796,
           -0.013967402,
           -0.21334842,
           -0.12649015,
           -0.03941514,
           -0.029301807,
           1.5875369,
           -0.016287085,
           0.12306366,
           0.012032714,
           -0.019278184,
           0.00018957816
          ],
          [
           0.35163325,
           0.19972587,
           0.05852231,
           -0.09913595,
           0.00019639649,
           -0.11984649,
           -0.031873405,
           0.044960223,
           -0.028356766,
           -0.016508754,
           0.08779929,
           0.016646046,
           0.025017425,
           0.12345994,
           0.055164732,
           0.074671626,
           0.008388257,
           -0.038884576,
           0.28108495,
           0.0050866343
          ],
          [
           0.049463928,
           -0.23015909,
           -0.015573667,
           -0.02747691,
           -0.013556529,
           0.010101933,
           -0.033595897,
           0.009191517,
           0.05746893,
           0.13335003,
           1.1333388,
           -0.010224553,
           -0.16514078,
           -0.042423584,
           -0.20085928,
           0.07008827,
           -0.064696044,
           0.010877736,
           0.027531177,
           -0.1977725
          ],
          [
           0.009973923,
           -0.048717927,
           0.0059892386,
           0.099135935,
           0.02471123,
           0.11613857,
           -0.08862738,
           -0.07535112,
           -0.012510605,
           0.09653376,
           -0.049205452,
           0.020139718,
           0.0589348,
           0.3543187,
           -0.054667585,
           0.10756342,
           -0.009975821,
           0.06405101,
           0.29881725,
           -0.033155464
          ],
          [
           0.04606711,
           -0.1649225,
           0.25190467,
           0.13203602,
           -0.013104275,
           -0.10585641,
           0.021017997,
           -0.04654169,
           0.021380387,
           -0.08307552,
           0.050789215,
           0.053951696,
           -0.012377899,
           -0.0064073484,
           -0.040485423,
           0.028527718,
           -0.0036855228,
           -0.009042421,
           -0.03980831,
           0.08372409
          ],
          [
           -0.024105303,
           -0.085436806,
           -0.026276391,
           -0.018323928,
           0.020606738,
           -0.12363744,
           0.06238257,
           0.071323246,
           0.2956651,
           0.018344095,
           0.0006505661,
           -0.018877432,
           -0.06300836,
           -0.037251845,
           -0.036743663,
           0.31379947,
           0.10998944,
           0.3997863,
           0.0006714519,
           -0.018126242
          ],
          [
           0.051731396,
           -0.032405667,
           0.10086361,
           0.10858447,
           0.004339451,
           -0.0028632954,
           -0.032709382,
           -0.07775803,
           -0.10824035,
           -0.023269907,
           0.39263105,
           -0.10925804,
           0.012089476,
           0.013532044,
           -0.08878075,
           0.00013171881,
           0.047320522,
           -0.23741682,
           0.1353046,
           -0.13356936
          ],
          [
           -0.004566241,
           -0.13511248,
           0.22155377,
           1.2365539,
           0.06322109,
           -0.038592063,
           0.35017145,
           0.03117127,
           -0.08121217,
           -0.10652025,
           -0.061965194,
           -0.111047536,
           0.66945505,
           0.05899023,
           0.08089934,
           0.023085268,
           0.21427913,
           -0.039467983,
           -0.04193283,
           1.2311411
          ],
          [
           0.02674925,
           0.03513917,
           -0.5164263,
           -0.07010791,
           -0.016943924,
           -0.004983574,
           -0.09814661,
           0.02794368,
           -0.04755042,
           -0.005951357,
           0.0073879436,
           -0.03612536,
           -0.07809293,
           0.0018788781,
           -0.09837207,
           0.020031543,
           0.54102194,
           0.0016839169,
           0.05852736,
           7.0370865
          ],
          [
           0.0049087554,
           0.035980314,
           0.024549862,
           0.035321712,
           0.04659579,
           1.7055631,
           -0.0072859544,
           0.13851304,
           0.014183149,
           -0.03579127,
           -0.081993714,
           -0.008691287,
           -0.018260567,
           0.060126126,
           0.011254531,
           0.041355606,
           -0.0068320995,
           0.009945203,
           3.4765472,
           0.03870008
          ],
          [
           -0.0710847,
           0.023742527,
           -0.011796555,
           0.009648185,
           -0.11487299,
           0.04749731,
           0.012310473,
           -0.015173808,
           0.42623276,
           0.034871385,
           -0.017314442,
           -0.3286481,
           -0.010601122,
           0.00068083033,
           0.010187555,
           -0.10064249,
           0.004678985,
           0.026039764,
           0.9052677,
           0.031293694
          ],
          [
           -0.002878313,
           -0.07063467,
           0.036125682,
           0.007275086,
           -0.050791014,
           0.029277932,
           -0.005094111,
           -0.124373235,
           0.8598553,
           0.037518837,
           -0.11489545,
           0.1643903,
           0.0035767294,
           -0.0636833,
           -0.049764656,
           0.6410626,
           -0.060989305,
           -0.060752966,
           0.058533568,
           0.14301972
          ],
          [
           -0.058134846,
           -0.01751118,
           -0.05910647,
           0.013356531,
           -0.004572004,
           -0.01415707,
           -0.054393005,
           0.058615245,
           0.105670884,
           0.023956299,
           0.02056482,
           -0.07728421,
           -0.021761509,
           0.28703737,
           -0.003497377,
           1.7818615,
           0.015219003,
           -0.11546889,
           -0.018276684,
           -0.068584256
          ],
          [
           -0.064105585,
           0.05293141,
           7.1331325,
           -0.0076739863,
           -0.077765726,
           -0.030762427,
           -0.011929959,
           -0.023951031,
           -0.0340238,
           -0.02448412,
           0.050449736,
           -0.0074814036,
           0.049317278,
           -0.010946941,
           0.004751075,
           0.004216172,
           -0.010196328,
           0.043789,
           -0.031367227,
           -0.019549869
          ],
          [
           0.058118846,
           0.074589506,
           -0.028138526,
           1.7408898,
           -0.27764744,
           -0.036223885,
           -0.0824172,
           0.019374266,
           -0.0047384035,
           0.032185405,
           0.024345456,
           0.08871973,
           0.05584357,
           -0.034586456,
           0.03126219,
           0.01657178,
           0.044607878,
           -0.06288112,
           0.047374338,
           -0.010993147
          ],
          [
           0.02680848,
           2.76433,
           -0.08521229,
           -0.022161242,
           0.17303051,
           0.36239785,
           -0.07995023,
           0.0019237492,
           -0.08977322,
           0.12608,
           0.03974244,
           -0.06352711,
           -0.029966474,
           -0.093433976,
           -0.04499157,
           -0.08180411,
           0.04141728,
           -0.05369724,
           2.606954,
           -0.025532067
          ],
          [
           0.05259279,
           -0.039674312,
           -0.10568509,
           -0.07406822,
           -0.015607033,
           0.8885457,
           -0.09998562,
           -0.0083749,
           3.8368146,
           -0.043597054,
           -0.003966436,
           -0.20349494,
           0.4765865,
           0.11333734,
           0.3356963,
           -0.022389108,
           0.24162278,
           0.23350345,
           -0.045449376,
           0.010239512
          ],
          [
           0.06744827,
           -0.13420247,
           -0.16709723,
           0.097600415,
           0.70656216,
           0.020133795,
           0.7821052,
           -0.15194249,
           0.6050279,
           0.002937898,
           0.0026046857,
           0.5462084,
           -0.049190033,
           -0.07968458,
           -0.0071044713,
           -0.009559602,
           0.17573327,
           0.065372035,
           0.1277093,
           -0.16348195
          ]
         ]
        }
       ],
       "layout": {
        "coloraxis": {
         "cmid": 0,
         "colorscale": [
          [
           0,
           "rgb(103,0,31)"
          ],
          [
           0.1,
           "rgb(178,24,43)"
          ],
          [
           0.2,
           "rgb(214,96,77)"
          ],
          [
           0.3,
           "rgb(244,165,130)"
          ],
          [
           0.4,
           "rgb(253,219,199)"
          ],
          [
           0.5,
           "rgb(247,247,247)"
          ],
          [
           0.6,
           "rgb(209,229,240)"
          ],
          [
           0.7,
           "rgb(146,197,222)"
          ],
          [
           0.8,
           "rgb(67,147,195)"
          ],
          [
           0.9,
           "rgb(33,102,172)"
          ],
          [
           1,
           "rgb(5,48,97)"
          ]
         ]
        },
        "template": {
         "data": {
          "bar": [
           {
            "error_x": {
             "color": "#2a3f5f"
            },
            "error_y": {
             "color": "#2a3f5f"
            },
            "marker": {
             "line": {
              "color": "#E5ECF6",
              "width": 0.5
             },
             "pattern": {
              "fillmode": "overlay",
              "size": 10,
              "solidity": 0.2
             }
            },
            "type": "bar"
           }
          ],
          "barpolar": [
           {
            "marker": {
             "line": {
              "color": "#E5ECF6",
              "width": 0.5
             },
             "pattern": {
              "fillmode": "overlay",
              "size": 10,
              "solidity": 0.2
             }
            },
            "type": "barpolar"
           }
          ],
          "carpet": [
           {
            "aaxis": {
             "endlinecolor": "#2a3f5f",
             "gridcolor": "white",
             "linecolor": "white",
             "minorgridcolor": "white",
             "startlinecolor": "#2a3f5f"
            },
            "baxis": {
             "endlinecolor": "#2a3f5f",
             "gridcolor": "white",
             "linecolor": "white",
             "minorgridcolor": "white",
             "startlinecolor": "#2a3f5f"
            },
            "type": "carpet"
           }
          ],
          "choropleth": [
           {
            "colorbar": {
             "outlinewidth": 0,
             "ticks": ""
            },
            "type": "choropleth"
           }
          ],
          "contour": [
           {
            "colorbar": {
             "outlinewidth": 0,
             "ticks": ""
            },
            "colorscale": [
             [
              0,
              "#0d0887"
             ],
             [
              0.1111111111111111,
              "#46039f"
             ],
             [
              0.2222222222222222,
              "#7201a8"
             ],
             [
              0.3333333333333333,
              "#9c179e"
             ],
             [
              0.4444444444444444,
              "#bd3786"
             ],
             [
              0.5555555555555556,
              "#d8576b"
             ],
             [
              0.6666666666666666,
              "#ed7953"
             ],
             [
              0.7777777777777778,
              "#fb9f3a"
             ],
             [
              0.8888888888888888,
              "#fdca26"
             ],
             [
              1,
              "#f0f921"
             ]
            ],
            "type": "contour"
           }
          ],
          "contourcarpet": [
           {
            "colorbar": {
             "outlinewidth": 0,
             "ticks": ""
            },
            "type": "contourcarpet"
           }
          ],
          "heatmap": [
           {
            "colorbar": {
             "outlinewidth": 0,
             "ticks": ""
            },
            "colorscale": [
             [
              0,
              "#0d0887"
             ],
             [
              0.1111111111111111,
              "#46039f"
             ],
             [
              0.2222222222222222,
              "#7201a8"
             ],
             [
              0.3333333333333333,
              "#9c179e"
             ],
             [
              0.4444444444444444,
              "#bd3786"
             ],
             [
              0.5555555555555556,
              "#d8576b"
             ],
             [
              0.6666666666666666,
              "#ed7953"
             ],
             [
              0.7777777777777778,
              "#fb9f3a"
             ],
             [
              0.8888888888888888,
              "#fdca26"
             ],
             [
              1,
              "#f0f921"
             ]
            ],
            "type": "heatmap"
           }
          ],
          "heatmapgl": [
           {
            "colorbar": {
             "outlinewidth": 0,
             "ticks": ""
            },
            "colorscale": [
             [
              0,
              "#0d0887"
             ],
             [
              0.1111111111111111,
              "#46039f"
             ],
             [
              0.2222222222222222,
              "#7201a8"
             ],
             [
              0.3333333333333333,
              "#9c179e"
             ],
             [
              0.4444444444444444,
              "#bd3786"
             ],
             [
              0.5555555555555556,
              "#d8576b"
             ],
             [
              0.6666666666666666,
              "#ed7953"
             ],
             [
              0.7777777777777778,
              "#fb9f3a"
             ],
             [
              0.8888888888888888,
              "#fdca26"
             ],
             [
              1,
              "#f0f921"
             ]
            ],
            "type": "heatmapgl"
           }
          ],
          "histogram": [
           {
            "marker": {
             "pattern": {
              "fillmode": "overlay",
              "size": 10,
              "solidity": 0.2
             }
            },
            "type": "histogram"
           }
          ],
          "histogram2d": [
           {
            "colorbar": {
             "outlinewidth": 0,
             "ticks": ""
            },
            "colorscale": [
             [
              0,
              "#0d0887"
             ],
             [
              0.1111111111111111,
              "#46039f"
             ],
             [
              0.2222222222222222,
              "#7201a8"
             ],
             [
              0.3333333333333333,
              "#9c179e"
             ],
             [
              0.4444444444444444,
              "#bd3786"
             ],
             [
              0.5555555555555556,
              "#d8576b"
             ],
             [
              0.6666666666666666,
              "#ed7953"
             ],
             [
              0.7777777777777778,
              "#fb9f3a"
             ],
             [
              0.8888888888888888,
              "#fdca26"
             ],
             [
              1,
              "#f0f921"
             ]
            ],
            "type": "histogram2d"
           }
          ],
          "histogram2dcontour": [
           {
            "colorbar": {
             "outlinewidth": 0,
             "ticks": ""
            },
            "colorscale": [
             [
              0,
              "#0d0887"
             ],
             [
              0.1111111111111111,
              "#46039f"
             ],
             [
              0.2222222222222222,
              "#7201a8"
             ],
             [
              0.3333333333333333,
              "#9c179e"
             ],
             [
              0.4444444444444444,
              "#bd3786"
             ],
             [
              0.5555555555555556,
              "#d8576b"
             ],
             [
              0.6666666666666666,
              "#ed7953"
             ],
             [
              0.7777777777777778,
              "#fb9f3a"
             ],
             [
              0.8888888888888888,
              "#fdca26"
             ],
             [
              1,
              "#f0f921"
             ]
            ],
            "type": "histogram2dcontour"
           }
          ],
          "mesh3d": [
           {
            "colorbar": {
             "outlinewidth": 0,
             "ticks": ""
            },
            "type": "mesh3d"
           }
          ],
          "parcoords": [
           {
            "line": {
             "colorbar": {
              "outlinewidth": 0,
              "ticks": ""
             }
            },
            "type": "parcoords"
           }
          ],
          "pie": [
           {
            "automargin": true,
            "type": "pie"
           }
          ],
          "scatter": [
           {
            "fillpattern": {
             "fillmode": "overlay",
             "size": 10,
             "solidity": 0.2
            },
            "type": "scatter"
           }
          ],
          "scatter3d": [
           {
            "line": {
             "colorbar": {
              "outlinewidth": 0,
              "ticks": ""
             }
            },
            "marker": {
             "colorbar": {
              "outlinewidth": 0,
              "ticks": ""
             }
            },
            "type": "scatter3d"
           }
          ],
          "scattercarpet": [
           {
            "marker": {
             "colorbar": {
              "outlinewidth": 0,
              "ticks": ""
             }
            },
            "type": "scattercarpet"
           }
          ],
          "scattergeo": [
           {
            "marker": {
             "colorbar": {
              "outlinewidth": 0,
              "ticks": ""
             }
            },
            "type": "scattergeo"
           }
          ],
          "scattergl": [
           {
            "marker": {
             "colorbar": {
              "outlinewidth": 0,
              "ticks": ""
             }
            },
            "type": "scattergl"
           }
          ],
          "scattermapbox": [
           {
            "marker": {
             "colorbar": {
              "outlinewidth": 0,
              "ticks": ""
             }
            },
            "type": "scattermapbox"
           }
          ],
          "scatterpolar": [
           {
            "marker": {
             "colorbar": {
              "outlinewidth": 0,
              "ticks": ""
             }
            },
            "type": "scatterpolar"
           }
          ],
          "scatterpolargl": [
           {
            "marker": {
             "colorbar": {
              "outlinewidth": 0,
              "ticks": ""
             }
            },
            "type": "scatterpolargl"
           }
          ],
          "scatterternary": [
           {
            "marker": {
             "colorbar": {
              "outlinewidth": 0,
              "ticks": ""
             }
            },
            "type": "scatterternary"
           }
          ],
          "surface": [
           {
            "colorbar": {
             "outlinewidth": 0,
             "ticks": ""
            },
            "colorscale": [
             [
              0,
              "#0d0887"
             ],
             [
              0.1111111111111111,
              "#46039f"
             ],
             [
              0.2222222222222222,
              "#7201a8"
             ],
             [
              0.3333333333333333,
              "#9c179e"
             ],
             [
              0.4444444444444444,
              "#bd3786"
             ],
             [
              0.5555555555555556,
              "#d8576b"
             ],
             [
              0.6666666666666666,
              "#ed7953"
             ],
             [
              0.7777777777777778,
              "#fb9f3a"
             ],
             [
              0.8888888888888888,
              "#fdca26"
             ],
             [
              1,
              "#f0f921"
             ]
            ],
            "type": "surface"
           }
          ],
          "table": [
           {
            "cells": {
             "fill": {
              "color": "#EBF0F8"
             },
             "line": {
              "color": "white"
             }
            },
            "header": {
             "fill": {
              "color": "#C8D4E3"
             },
             "line": {
              "color": "white"
             }
            },
            "type": "table"
           }
          ]
         },
         "layout": {
          "annotationdefaults": {
           "arrowcolor": "#2a3f5f",
           "arrowhead": 0,
           "arrowwidth": 1
          },
          "autotypenumbers": "strict",
          "coloraxis": {
           "colorbar": {
            "outlinewidth": 0,
            "ticks": ""
           }
          },
          "colorscale": {
           "diverging": [
            [
             0,
             "#8e0152"
            ],
            [
             0.1,
             "#c51b7d"
            ],
            [
             0.2,
             "#de77ae"
            ],
            [
             0.3,
             "#f1b6da"
            ],
            [
             0.4,
             "#fde0ef"
            ],
            [
             0.5,
             "#f7f7f7"
            ],
            [
             0.6,
             "#e6f5d0"
            ],
            [
             0.7,
             "#b8e186"
            ],
            [
             0.8,
             "#7fbc41"
            ],
            [
             0.9,
             "#4d9221"
            ],
            [
             1,
             "#276419"
            ]
           ],
           "sequential": [
            [
             0,
             "#0d0887"
            ],
            [
             0.1111111111111111,
             "#46039f"
            ],
            [
             0.2222222222222222,
             "#7201a8"
            ],
            [
             0.3333333333333333,
             "#9c179e"
            ],
            [
             0.4444444444444444,
             "#bd3786"
            ],
            [
             0.5555555555555556,
             "#d8576b"
            ],
            [
             0.6666666666666666,
             "#ed7953"
            ],
            [
             0.7777777777777778,
             "#fb9f3a"
            ],
            [
             0.8888888888888888,
             "#fdca26"
            ],
            [
             1,
             "#f0f921"
            ]
           ],
           "sequentialminus": [
            [
             0,
             "#0d0887"
            ],
            [
             0.1111111111111111,
             "#46039f"
            ],
            [
             0.2222222222222222,
             "#7201a8"
            ],
            [
             0.3333333333333333,
             "#9c179e"
            ],
            [
             0.4444444444444444,
             "#bd3786"
            ],
            [
             0.5555555555555556,
             "#d8576b"
            ],
            [
             0.6666666666666666,
             "#ed7953"
            ],
            [
             0.7777777777777778,
             "#fb9f3a"
            ],
            [
             0.8888888888888888,
             "#fdca26"
            ],
            [
             1,
             "#f0f921"
            ]
           ]
          },
          "colorway": [
           "#636efa",
           "#EF553B",
           "#00cc96",
           "#ab63fa",
           "#FFA15A",
           "#19d3f3",
           "#FF6692",
           "#B6E880",
           "#FF97FF",
           "#FECB52"
          ],
          "font": {
           "color": "#2a3f5f"
          },
          "geo": {
           "bgcolor": "white",
           "lakecolor": "white",
           "landcolor": "#E5ECF6",
           "showlakes": true,
           "showland": true,
           "subunitcolor": "white"
          },
          "hoverlabel": {
           "align": "left"
          },
          "hovermode": "closest",
          "mapbox": {
           "style": "light"
          },
          "paper_bgcolor": "white",
          "plot_bgcolor": "#E5ECF6",
          "polar": {
           "angularaxis": {
            "gridcolor": "white",
            "linecolor": "white",
            "ticks": ""
           },
           "bgcolor": "#E5ECF6",
           "radialaxis": {
            "gridcolor": "white",
            "linecolor": "white",
            "ticks": ""
           }
          },
          "scene": {
           "xaxis": {
            "backgroundcolor": "#E5ECF6",
            "gridcolor": "white",
            "gridwidth": 2,
            "linecolor": "white",
            "showbackground": true,
            "ticks": "",
            "zerolinecolor": "white"
           },
           "yaxis": {
            "backgroundcolor": "#E5ECF6",
            "gridcolor": "white",
            "gridwidth": 2,
            "linecolor": "white",
            "showbackground": true,
            "ticks": "",
            "zerolinecolor": "white"
           },
           "zaxis": {
            "backgroundcolor": "#E5ECF6",
            "gridcolor": "white",
            "gridwidth": 2,
            "linecolor": "white",
            "showbackground": true,
            "ticks": "",
            "zerolinecolor": "white"
           }
          },
          "shapedefaults": {
           "line": {
            "color": "#2a3f5f"
           }
          },
          "ternary": {
           "aaxis": {
            "gridcolor": "white",
            "linecolor": "white",
            "ticks": ""
           },
           "baxis": {
            "gridcolor": "white",
            "linecolor": "white",
            "ticks": ""
           },
           "bgcolor": "#E5ECF6",
           "caxis": {
            "gridcolor": "white",
            "linecolor": "white",
            "ticks": ""
           }
          },
          "title": {
           "x": 0.05
          },
          "xaxis": {
           "automargin": true,
           "gridcolor": "white",
           "linecolor": "white",
           "ticks": "",
           "title": {
            "standoff": 15
           },
           "zerolinecolor": "white",
           "zerolinewidth": 2
          },
          "yaxis": {
           "automargin": true,
           "gridcolor": "white",
           "linecolor": "white",
           "ticks": "",
           "title": {
            "standoff": 15
           },
           "zerolinecolor": "white",
           "zerolinewidth": 2
          }
         }
        },
        "title": {
         "text": " the competitors on Season Six set the bar awfully"
        },
        "xaxis": {
         "anchor": "y",
         "constrain": "domain",
         "domain": [
          0,
          1
         ],
         "scaleanchor": "y"
        },
        "yaxis": {
         "anchor": "x",
         "autorange": "reversed",
         "constrain": "domain",
         "domain": [
          0,
          1
         ]
        }
       }
      }
     },
     "metadata": {},
     "output_type": "display_data"
    }
   ],
   "source": [
    "head_attribution_lh = einops.rearrange(head_attribution, \"batch (layer head) -> batch layer head\", head=model.cfg.n_heads)\n",
    "for prompt_index in range(len(examples)):\n",
    "    imshow(head_attribution_lh[prompt_index, :, :], title=f\"{examples[prompt_index][-50:]}\")"
   ]
  },
  {
   "cell_type": "code",
   "execution_count": 20,
   "metadata": {},
   "outputs": [
    {
     "data": {
      "application/vnd.plotly.v1+json": {
       "config": {
        "plotlyServerURL": "https://plot.ly"
       },
       "data": [
        {
         "coloraxis": "coloraxis",
         "hovertemplate": "x: %{x}<br>y: %{y}<br>color: %{z}<extra></extra>",
         "name": "0",
         "type": "heatmap",
         "xaxis": "x",
         "yaxis": "y",
         "z": [
          [
           -0.18766566,
           -0.041529387,
           0.4014547,
           0.043251824,
           0.078116015,
           -0.05041025,
           -0.025754891,
           0.0019129906,
           0.07903385,
           -0.008637294,
           0.050055057,
           0.0126367975,
           0.045492332,
           -0.017591992,
           -0.10319802,
           0.01889206,
           -0.037705638,
           0.027058167,
           0.012100361,
           -0.01946439
          ],
          [
           -0.032680757,
           0.2074359,
           0.039414454,
           0.0023525376,
           0.10027348,
           -0.012215925,
           -0.04631251,
           -0.0023927167,
           -0.19826977,
           0.044234768,
           -0.035538815,
           -0.015903061,
           0.07953788,
           0.0036849845,
           0.004208928,
           0.029659845,
           -0.0059722844,
           0.025305685,
           0.032719307,
           -0.008216828
          ],
          [
           0.01699468,
           0.049063236,
           -0.049312703,
           -0.056040272,
           0.012708772,
           -0.120168515,
           0.015948433,
           0.045693908,
           -0.05541478,
           -0.081388734,
           -0.06378691,
           -0.008027069,
           0.030943787,
           0.023831606,
           0.011877317,
           0.2675566,
           -0.094189204,
           0.07113745,
           0.004527677,
           0.11788018
          ],
          [
           0.35952276,
           0.15470678,
           0.113787636,
           0.0291166,
           -0.06014512,
           0.07594087,
           -0.095717266,
           -0.019090641,
           0.25561118,
           0.01396694,
           0.06165555,
           -0.073597945,
           -0.10036339,
           -0.02090345,
           0.101708986,
           0.021912087,
           -0.1283845,
           0.007158786,
           0.19351992,
           -0.041098356
          ],
          [
           0.0014292775,
           0.17990786,
           0.07120417,
           0.09141424,
           0.073193096,
           0.1512745,
           -0.097007275,
           0.041935604,
           0.24113786,
           0.09292813,
           0.07439104,
           -0.024821632,
           0.00575573,
           0.09727453,
           0.014233857,
           0.13491854,
           0.020352617,
           -0.030834965,
           0.034477547,
           0.012702312
          ],
          [
           0.09012778,
           0.055512056,
           -0.087808624,
           0.0926818,
           0.006391652,
           -0.01095745,
           0.34787455,
           0.20287836,
           0.020305805,
           0.048342843,
           -0.036527067,
           0.1150122,
           -0.009112872,
           0.08580126,
           -0.23217604,
           0.018199595,
           -0.13380316,
           0.15636775,
           0.0061047804,
           -0.13488916
          ],
          [
           0.04605443,
           0.032810543,
           0.07106577,
           0.35312968,
           -0.06254464,
           0.023742817,
           0.008764325,
           -0.11256224,
           -0.053125016,
           0.10492958,
           0.014910575,
           0.11267679,
           -0.03696668,
           0.17216104,
           -0.15701373,
           0.016408186,
           -0.071492136,
           0.1075813,
           0.041986626,
           -0.020107228
          ],
          [
           0.06018141,
           0.11797799,
           0.29752523,
           -0.022582538,
           -0.02415147,
           0.05809639,
           -0.08459852,
           -0.06828305,
           0.0145625435,
           -0.06285183,
           0.008929192,
           -0.07174184,
           0.085837536,
           -0.06837518,
           -0.04442901,
           0.057540923,
           0.06948851,
           0.036757037,
           0.029391518,
           0.0055920593
          ],
          [
           -0.04357471,
           0.05768729,
           -0.15491086,
           -0.04006405,
           0.0021250844,
           -0.011765504,
           0.008148693,
           0.030050002,
           0.037778005,
           0.024289994,
           0.053513054,
           0.014113128,
           0.01820677,
           0.041685972,
           -0.06831261,
           0.027953688,
           0.18625289,
           0.15707102,
           -0.09546475,
           -0.015936904
          ],
          [
           -0.021794219,
           0.2095239,
           0.042450815,
           0.1467965,
           0.098823294,
           0.030881777,
           -0.020979393,
           -0.050675057,
           0.115541585,
           -0.014304763,
           0.036026284,
           -0.050174497,
           0.038969092,
           0.06466827,
           0.06279309,
           0.11424093,
           0.046002448,
           -0.06463784,
           0.06812861,
           -0.036466807
          ],
          [
           -0.1288743,
           0.056382686,
           0.0073438957,
           0.10224827,
           -0.011333018,
           0.087473646,
           0.11592383,
           0.37147713,
           -0.06426588,
           0.0007200539,
           0.115458086,
           -0.06454012,
           0.034690242,
           -0.053309664,
           -0.04988344,
           0.026236936,
           -0.00022635236,
           -0.012147307,
           -0.0029534488,
           0.00411403
          ],
          [
           0.0057181623,
           0.089013174,
           0.08005169,
           0.13104206,
           -0.009714764,
           0.0004689088,
           -0.010061084,
           0.012919946,
           0.02541447,
           0.0063325185,
           -0.00585391,
           -0.061855044,
           -0.060072143,
           0.015751088,
           -0.0066029597,
           0.03128704,
           -0.021395387,
           -0.022267668,
           0.10832007,
           -0.0060317963
          ],
          [
           0.48015004,
           0.05211222,
           0.21607971,
           -0.07539705,
           -0.022147506,
           0.011626415,
           0.017941829,
           0.063728765,
           0.0014630333,
           -0.07236108,
           0.040717028,
           0.060676455,
           -0.17487404,
           0.016734978,
           -0.17434014,
           -0.018286375,
           -0.004336849,
           -0.010595726,
           0.085876666,
           0.3784786
          ],
          [
           0.083519444,
           -0.07153848,
           0.021141775,
           0.0016351286,
           0.06814009,
           0.07597683,
           0.0058770375,
           0.027852919,
           0.15233003,
           -0.057731178,
           -0.00019644201,
           -0.03084405,
           0.08309568,
           -0.041222833,
           0.09886059,
           -0.0599129,
           0.072696,
           0.06403126,
           -0.34082508,
           -0.050691374
          ],
          [
           0.703752,
           0.051353645,
           0.010744195,
           0.12394031,
           0.09907712,
           0.18888897,
           0.03106709,
           0.072665,
           0.044680916,
           0.017358761,
           0.14130366,
           0.09608121,
           -0.05803186,
           -0.04750669,
           -0.3036526,
           0.06730152,
           0.07919811,
           0.02228302,
           -0.04754119,
           -0.09057298
          ],
          [
           0.09420061,
           0.07948061,
           0.0653379,
           0.06886038,
           -0.059707582,
           -0.05666402,
           0.1182005,
           0.03199651,
           0.00223431,
           -0.015705932,
           0.036352,
           0.24488823,
           0.14467688,
           0.027709577,
           0.21428744,
           0.03155365,
           -0.04840131,
           -0.027900632,
           0.20109583,
           0.17095552
          ],
          [
           -0.036092833,
           0.01215044,
           -0.19842285,
           0.14287306,
           -0.050309286,
           0.30292618,
           -0.1325123,
           0.1491282,
           -0.043617398,
           -0.17603984,
           -0.09699505,
           0.030854326,
           0.0064178966,
           0.046738394,
           0.039132237,
           0.059121653,
           0.027645666,
           -0.008290999,
           -0.07143006,
           0.045004137
          ],
          [
           -0.106370404,
           0.16760024,
           -0.024748702,
           0.2480301,
           -0.050717477,
           -0.09761178,
           0.0040286295,
           -0.011100175,
           0.043664075,
           -0.024337262,
           -0.20839341,
           -0.15280715,
           -0.035293944,
           -0.02333016,
           1.5528231,
           0.019706897,
           0.103354685,
           0.008346166,
           -0.0157439,
           0.005549132
          ],
          [
           0.37821412,
           0.2712832,
           0.106579944,
           -0.1272121,
           -0.0014318598,
           -0.14048673,
           -0.01684478,
           0.043694917,
           -0.0376428,
           -0.015180957,
           0.106966555,
           0.046745252,
           0.02574063,
           0.16622508,
           0.024375383,
           0.02019943,
           -0.00056079496,
           -0.05081827,
           0.3005125,
           0.029320356
          ],
          [
           0.015680224,
           -0.19854395,
           -0.018279491,
           -0.028215704,
           -0.014086302,
           -0.01401357,
           -0.05035555,
           0.014849512,
           0.05244646,
           0.10501611,
           1.1562951,
           -0.01190662,
           -0.16852778,
           -0.041745953,
           -0.15321526,
           0.053992778,
           -0.055910088,
           -0.010046568,
           0.019525819,
           -0.22394666
          ],
          [
           0.011754835,
           -0.04996483,
           0.023316417,
           0.07403174,
           0.023796383,
           0.10352618,
           -0.08525617,
           -0.049005248,
           -0.019153537,
           0.14515987,
           -0.052925587,
           0.022928892,
           0.07372699,
           0.3461708,
           -0.056065783,
           0.094411194,
           0.0075570717,
           0.050736554,
           0.25582182,
           -0.04597346
          ],
          [
           0.027006619,
           -0.17469123,
           0.1945366,
           0.16626686,
           -0.005535789,
           -0.052707724,
           0.010932522,
           -0.040994138,
           0.026107669,
           -0.07425171,
           0.06071358,
           0.060980406,
           -0.022151487,
           -0.026689308,
           -0.03429466,
           0.014571462,
           -0.0035427646,
           0.0184034,
           -0.018042374,
           0.08954635
          ],
          [
           -0.004140488,
           -0.08951375,
           0.0041363835,
           -0.014560819,
           0.049150765,
           -0.15822387,
           0.007389441,
           0.068930686,
           0.25988635,
           0.027512781,
           -0.006904153,
           -0.069205955,
           -0.002013579,
           -0.03599402,
           -0.039002404,
           0.19315839,
           0.13755098,
           0.42129147,
           -0.0018687779,
           -0.016591083
          ],
          [
           0.054597832,
           -0.010678377,
           0.14256857,
           0.119578615,
           0.015347561,
           -0.02671826,
           -0.038524114,
           -0.083063394,
           -0.08383861,
           -0.024616908,
           0.37269354,
           -0.039741725,
           0.0071387114,
           0.013959555,
           -0.09002395,
           -0.0048182085,
           0.0023532268,
           -0.17192602,
           0.12492455,
           -0.06710676
          ],
          [
           -0.003925752,
           -0.094075866,
           0.10371369,
           1.2762765,
           0.052210797,
           -0.03903331,
           0.29679656,
           0.023172252,
           -0.07281557,
           -0.08008192,
           -0.023192596,
           -0.103167325,
           0.65468585,
           0.056740616,
           0.07678443,
           0.01753197,
           0.18456106,
           -0.02737451,
           -0.010774767,
           1.0966957
          ],
          [
           0.0040344,
           0.03626278,
           -0.29968572,
           -0.06869398,
           -0.015901871,
           -0.01083751,
           -0.10780707,
           0.0076785535,
           -0.046726696,
           -0.004959572,
           0.0060068043,
           -0.041597836,
           -0.07572538,
           0.0010091513,
           -0.119138375,
           0.022590047,
           0.50012517,
           0.014417123,
           0.059947774,
           6.627006
          ],
          [
           -0.043603353,
           0.027407061,
           0.041508973,
           0.03456725,
           0.05721791,
           1.8051767,
           -0.004278414,
           0.11009877,
           0.008027617,
           0.0252603,
           -0.09990409,
           -0.04250889,
           -0.017192919,
           0.057737038,
           0.009126119,
           0.039486527,
           0.0040884563,
           0.009488763,
           3.480526,
           0.034883186
          ],
          [
           -0.035937518,
           0.011530707,
           -0.0033677854,
           0.007817152,
           -0.13905731,
           0.04099624,
           0.011242621,
           -0.0058441684,
           0.4637211,
           0.032622397,
           -0.009719342,
           -0.29548416,
           -0.0252056,
           0.037989534,
           0.002377078,
           -0.0120600015,
           0.013377818,
           0.0262398,
           0.94015837,
           0.033934757
          ],
          [
           -0.035500146,
           -0.061815523,
           0.03430005,
           0.003061097,
           -0.047154136,
           0.031667292,
           -0.0017789379,
           -0.11719139,
           0.79137653,
           0.033282712,
           -0.093479976,
           0.18632567,
           0.0028444696,
           -0.051757902,
           -0.056082603,
           1.0516138,
           -0.05804892,
           -0.07021956,
           0.050586343,
           0.13695373
          ],
          [
           -0.05790093,
           -0.0014010109,
           -0.056342714,
           0.013547712,
           -0.035924092,
           -0.010705596,
           -0.05955992,
           0.06777261,
           0.07831842,
           0.020770375,
           0.004504988,
           -0.061942622,
           -0.021793125,
           0.21109228,
           -0.012341863,
           1.6027389,
           0.006459983,
           -0.11046063,
           -0.019019563,
           -0.083124965
          ],
          [
           -0.059250683,
           0.05493146,
           7.053346,
           -0.003915418,
           -0.073793225,
           -0.04913745,
           -0.010392562,
           0.027263016,
           -0.052231736,
           -0.024018275,
           0.03959193,
           -0.015335679,
           0.045312222,
           -0.011110168,
           0.0043968577,
           0.0037734509,
           -0.012788114,
           0.04680935,
           -0.010113286,
           -0.037776917
          ],
          [
           0.0560138,
           0.059949845,
           -0.0150360465,
           1.7201875,
           -0.25515908,
           -0.05445125,
           -0.0891882,
           0.01972913,
           -0.0075409566,
           0.028066823,
           0.021476487,
           0.08369851,
           0.053681433,
           -0.031969078,
           0.024762763,
           -0.023282126,
           0.08207852,
           -0.06047876,
           -0.000541497,
           0.00173032
          ],
          [
           0.009042371,
           2.9224615,
           -0.1356681,
           -0.016610678,
           0.20504797,
           0.34125477,
           -0.12343988,
           0.038336862,
           -0.05652791,
           0.11826045,
           0.036257677,
           -0.059451506,
           -0.02411861,
           -0.06313579,
           -0.05648391,
           -0.08084337,
           0.041520093,
           -0.025022242,
           2.734247,
           -0.020856936
          ],
          [
           0.07377322,
           -0.02971287,
           -0.086610325,
           0.057945326,
           -0.014116574,
           0.9952189,
           -0.10840636,
           0.013219088,
           4.1110897,
           -0.04589185,
           -0.021133654,
           -0.258962,
           0.40670156,
           0.08228399,
           0.28997058,
           -0.026835553,
           0.2415012,
           0.17293671,
           -0.033172715,
           0.006254468
          ],
          [
           0.08224866,
           -0.044497892,
           -0.1357886,
           0.105450526,
           0.67330337,
           0.047809437,
           0.8554079,
           -0.13813019,
           0.54786146,
           0.004219249,
           -0.026173119,
           0.50713396,
           -0.049792524,
           -0.086924374,
           -0.03561677,
           0.038940277,
           0.16044836,
           0.063150406,
           0.1421365,
           -0.13267678
          ]
         ]
        }
       ],
       "layout": {
        "coloraxis": {
         "cmid": 0,
         "colorscale": [
          [
           0,
           "rgb(103,0,31)"
          ],
          [
           0.1,
           "rgb(178,24,43)"
          ],
          [
           0.2,
           "rgb(214,96,77)"
          ],
          [
           0.3,
           "rgb(244,165,130)"
          ],
          [
           0.4,
           "rgb(253,219,199)"
          ],
          [
           0.5,
           "rgb(247,247,247)"
          ],
          [
           0.6,
           "rgb(209,229,240)"
          ],
          [
           0.7,
           "rgb(146,197,222)"
          ],
          [
           0.8,
           "rgb(67,147,195)"
          ],
          [
           0.9,
           "rgb(33,102,172)"
          ],
          [
           1,
           "rgb(5,48,97)"
          ]
         ]
        },
        "template": {
         "data": {
          "bar": [
           {
            "error_x": {
             "color": "#2a3f5f"
            },
            "error_y": {
             "color": "#2a3f5f"
            },
            "marker": {
             "line": {
              "color": "#E5ECF6",
              "width": 0.5
             },
             "pattern": {
              "fillmode": "overlay",
              "size": 10,
              "solidity": 0.2
             }
            },
            "type": "bar"
           }
          ],
          "barpolar": [
           {
            "marker": {
             "line": {
              "color": "#E5ECF6",
              "width": 0.5
             },
             "pattern": {
              "fillmode": "overlay",
              "size": 10,
              "solidity": 0.2
             }
            },
            "type": "barpolar"
           }
          ],
          "carpet": [
           {
            "aaxis": {
             "endlinecolor": "#2a3f5f",
             "gridcolor": "white",
             "linecolor": "white",
             "minorgridcolor": "white",
             "startlinecolor": "#2a3f5f"
            },
            "baxis": {
             "endlinecolor": "#2a3f5f",
             "gridcolor": "white",
             "linecolor": "white",
             "minorgridcolor": "white",
             "startlinecolor": "#2a3f5f"
            },
            "type": "carpet"
           }
          ],
          "choropleth": [
           {
            "colorbar": {
             "outlinewidth": 0,
             "ticks": ""
            },
            "type": "choropleth"
           }
          ],
          "contour": [
           {
            "colorbar": {
             "outlinewidth": 0,
             "ticks": ""
            },
            "colorscale": [
             [
              0,
              "#0d0887"
             ],
             [
              0.1111111111111111,
              "#46039f"
             ],
             [
              0.2222222222222222,
              "#7201a8"
             ],
             [
              0.3333333333333333,
              "#9c179e"
             ],
             [
              0.4444444444444444,
              "#bd3786"
             ],
             [
              0.5555555555555556,
              "#d8576b"
             ],
             [
              0.6666666666666666,
              "#ed7953"
             ],
             [
              0.7777777777777778,
              "#fb9f3a"
             ],
             [
              0.8888888888888888,
              "#fdca26"
             ],
             [
              1,
              "#f0f921"
             ]
            ],
            "type": "contour"
           }
          ],
          "contourcarpet": [
           {
            "colorbar": {
             "outlinewidth": 0,
             "ticks": ""
            },
            "type": "contourcarpet"
           }
          ],
          "heatmap": [
           {
            "colorbar": {
             "outlinewidth": 0,
             "ticks": ""
            },
            "colorscale": [
             [
              0,
              "#0d0887"
             ],
             [
              0.1111111111111111,
              "#46039f"
             ],
             [
              0.2222222222222222,
              "#7201a8"
             ],
             [
              0.3333333333333333,
              "#9c179e"
             ],
             [
              0.4444444444444444,
              "#bd3786"
             ],
             [
              0.5555555555555556,
              "#d8576b"
             ],
             [
              0.6666666666666666,
              "#ed7953"
             ],
             [
              0.7777777777777778,
              "#fb9f3a"
             ],
             [
              0.8888888888888888,
              "#fdca26"
             ],
             [
              1,
              "#f0f921"
             ]
            ],
            "type": "heatmap"
           }
          ],
          "heatmapgl": [
           {
            "colorbar": {
             "outlinewidth": 0,
             "ticks": ""
            },
            "colorscale": [
             [
              0,
              "#0d0887"
             ],
             [
              0.1111111111111111,
              "#46039f"
             ],
             [
              0.2222222222222222,
              "#7201a8"
             ],
             [
              0.3333333333333333,
              "#9c179e"
             ],
             [
              0.4444444444444444,
              "#bd3786"
             ],
             [
              0.5555555555555556,
              "#d8576b"
             ],
             [
              0.6666666666666666,
              "#ed7953"
             ],
             [
              0.7777777777777778,
              "#fb9f3a"
             ],
             [
              0.8888888888888888,
              "#fdca26"
             ],
             [
              1,
              "#f0f921"
             ]
            ],
            "type": "heatmapgl"
           }
          ],
          "histogram": [
           {
            "marker": {
             "pattern": {
              "fillmode": "overlay",
              "size": 10,
              "solidity": 0.2
             }
            },
            "type": "histogram"
           }
          ],
          "histogram2d": [
           {
            "colorbar": {
             "outlinewidth": 0,
             "ticks": ""
            },
            "colorscale": [
             [
              0,
              "#0d0887"
             ],
             [
              0.1111111111111111,
              "#46039f"
             ],
             [
              0.2222222222222222,
              "#7201a8"
             ],
             [
              0.3333333333333333,
              "#9c179e"
             ],
             [
              0.4444444444444444,
              "#bd3786"
             ],
             [
              0.5555555555555556,
              "#d8576b"
             ],
             [
              0.6666666666666666,
              "#ed7953"
             ],
             [
              0.7777777777777778,
              "#fb9f3a"
             ],
             [
              0.8888888888888888,
              "#fdca26"
             ],
             [
              1,
              "#f0f921"
             ]
            ],
            "type": "histogram2d"
           }
          ],
          "histogram2dcontour": [
           {
            "colorbar": {
             "outlinewidth": 0,
             "ticks": ""
            },
            "colorscale": [
             [
              0,
              "#0d0887"
             ],
             [
              0.1111111111111111,
              "#46039f"
             ],
             [
              0.2222222222222222,
              "#7201a8"
             ],
             [
              0.3333333333333333,
              "#9c179e"
             ],
             [
              0.4444444444444444,
              "#bd3786"
             ],
             [
              0.5555555555555556,
              "#d8576b"
             ],
             [
              0.6666666666666666,
              "#ed7953"
             ],
             [
              0.7777777777777778,
              "#fb9f3a"
             ],
             [
              0.8888888888888888,
              "#fdca26"
             ],
             [
              1,
              "#f0f921"
             ]
            ],
            "type": "histogram2dcontour"
           }
          ],
          "mesh3d": [
           {
            "colorbar": {
             "outlinewidth": 0,
             "ticks": ""
            },
            "type": "mesh3d"
           }
          ],
          "parcoords": [
           {
            "line": {
             "colorbar": {
              "outlinewidth": 0,
              "ticks": ""
             }
            },
            "type": "parcoords"
           }
          ],
          "pie": [
           {
            "automargin": true,
            "type": "pie"
           }
          ],
          "scatter": [
           {
            "fillpattern": {
             "fillmode": "overlay",
             "size": 10,
             "solidity": 0.2
            },
            "type": "scatter"
           }
          ],
          "scatter3d": [
           {
            "line": {
             "colorbar": {
              "outlinewidth": 0,
              "ticks": ""
             }
            },
            "marker": {
             "colorbar": {
              "outlinewidth": 0,
              "ticks": ""
             }
            },
            "type": "scatter3d"
           }
          ],
          "scattercarpet": [
           {
            "marker": {
             "colorbar": {
              "outlinewidth": 0,
              "ticks": ""
             }
            },
            "type": "scattercarpet"
           }
          ],
          "scattergeo": [
           {
            "marker": {
             "colorbar": {
              "outlinewidth": 0,
              "ticks": ""
             }
            },
            "type": "scattergeo"
           }
          ],
          "scattergl": [
           {
            "marker": {
             "colorbar": {
              "outlinewidth": 0,
              "ticks": ""
             }
            },
            "type": "scattergl"
           }
          ],
          "scattermapbox": [
           {
            "marker": {
             "colorbar": {
              "outlinewidth": 0,
              "ticks": ""
             }
            },
            "type": "scattermapbox"
           }
          ],
          "scatterpolar": [
           {
            "marker": {
             "colorbar": {
              "outlinewidth": 0,
              "ticks": ""
             }
            },
            "type": "scatterpolar"
           }
          ],
          "scatterpolargl": [
           {
            "marker": {
             "colorbar": {
              "outlinewidth": 0,
              "ticks": ""
             }
            },
            "type": "scatterpolargl"
           }
          ],
          "scatterternary": [
           {
            "marker": {
             "colorbar": {
              "outlinewidth": 0,
              "ticks": ""
             }
            },
            "type": "scatterternary"
           }
          ],
          "surface": [
           {
            "colorbar": {
             "outlinewidth": 0,
             "ticks": ""
            },
            "colorscale": [
             [
              0,
              "#0d0887"
             ],
             [
              0.1111111111111111,
              "#46039f"
             ],
             [
              0.2222222222222222,
              "#7201a8"
             ],
             [
              0.3333333333333333,
              "#9c179e"
             ],
             [
              0.4444444444444444,
              "#bd3786"
             ],
             [
              0.5555555555555556,
              "#d8576b"
             ],
             [
              0.6666666666666666,
              "#ed7953"
             ],
             [
              0.7777777777777778,
              "#fb9f3a"
             ],
             [
              0.8888888888888888,
              "#fdca26"
             ],
             [
              1,
              "#f0f921"
             ]
            ],
            "type": "surface"
           }
          ],
          "table": [
           {
            "cells": {
             "fill": {
              "color": "#EBF0F8"
             },
             "line": {
              "color": "white"
             }
            },
            "header": {
             "fill": {
              "color": "#C8D4E3"
             },
             "line": {
              "color": "white"
             }
            },
            "type": "table"
           }
          ]
         },
         "layout": {
          "annotationdefaults": {
           "arrowcolor": "#2a3f5f",
           "arrowhead": 0,
           "arrowwidth": 1
          },
          "autotypenumbers": "strict",
          "coloraxis": {
           "colorbar": {
            "outlinewidth": 0,
            "ticks": ""
           }
          },
          "colorscale": {
           "diverging": [
            [
             0,
             "#8e0152"
            ],
            [
             0.1,
             "#c51b7d"
            ],
            [
             0.2,
             "#de77ae"
            ],
            [
             0.3,
             "#f1b6da"
            ],
            [
             0.4,
             "#fde0ef"
            ],
            [
             0.5,
             "#f7f7f7"
            ],
            [
             0.6,
             "#e6f5d0"
            ],
            [
             0.7,
             "#b8e186"
            ],
            [
             0.8,
             "#7fbc41"
            ],
            [
             0.9,
             "#4d9221"
            ],
            [
             1,
             "#276419"
            ]
           ],
           "sequential": [
            [
             0,
             "#0d0887"
            ],
            [
             0.1111111111111111,
             "#46039f"
            ],
            [
             0.2222222222222222,
             "#7201a8"
            ],
            [
             0.3333333333333333,
             "#9c179e"
            ],
            [
             0.4444444444444444,
             "#bd3786"
            ],
            [
             0.5555555555555556,
             "#d8576b"
            ],
            [
             0.6666666666666666,
             "#ed7953"
            ],
            [
             0.7777777777777778,
             "#fb9f3a"
            ],
            [
             0.8888888888888888,
             "#fdca26"
            ],
            [
             1,
             "#f0f921"
            ]
           ],
           "sequentialminus": [
            [
             0,
             "#0d0887"
            ],
            [
             0.1111111111111111,
             "#46039f"
            ],
            [
             0.2222222222222222,
             "#7201a8"
            ],
            [
             0.3333333333333333,
             "#9c179e"
            ],
            [
             0.4444444444444444,
             "#bd3786"
            ],
            [
             0.5555555555555556,
             "#d8576b"
            ],
            [
             0.6666666666666666,
             "#ed7953"
            ],
            [
             0.7777777777777778,
             "#fb9f3a"
            ],
            [
             0.8888888888888888,
             "#fdca26"
            ],
            [
             1,
             "#f0f921"
            ]
           ]
          },
          "colorway": [
           "#636efa",
           "#EF553B",
           "#00cc96",
           "#ab63fa",
           "#FFA15A",
           "#19d3f3",
           "#FF6692",
           "#B6E880",
           "#FF97FF",
           "#FECB52"
          ],
          "font": {
           "color": "#2a3f5f"
          },
          "geo": {
           "bgcolor": "white",
           "lakecolor": "white",
           "landcolor": "#E5ECF6",
           "showlakes": true,
           "showland": true,
           "subunitcolor": "white"
          },
          "hoverlabel": {
           "align": "left"
          },
          "hovermode": "closest",
          "mapbox": {
           "style": "light"
          },
          "paper_bgcolor": "white",
          "plot_bgcolor": "#E5ECF6",
          "polar": {
           "angularaxis": {
            "gridcolor": "white",
            "linecolor": "white",
            "ticks": ""
           },
           "bgcolor": "#E5ECF6",
           "radialaxis": {
            "gridcolor": "white",
            "linecolor": "white",
            "ticks": ""
           }
          },
          "scene": {
           "xaxis": {
            "backgroundcolor": "#E5ECF6",
            "gridcolor": "white",
            "gridwidth": 2,
            "linecolor": "white",
            "showbackground": true,
            "ticks": "",
            "zerolinecolor": "white"
           },
           "yaxis": {
            "backgroundcolor": "#E5ECF6",
            "gridcolor": "white",
            "gridwidth": 2,
            "linecolor": "white",
            "showbackground": true,
            "ticks": "",
            "zerolinecolor": "white"
           },
           "zaxis": {
            "backgroundcolor": "#E5ECF6",
            "gridcolor": "white",
            "gridwidth": 2,
            "linecolor": "white",
            "showbackground": true,
            "ticks": "",
            "zerolinecolor": "white"
           }
          },
          "shapedefaults": {
           "line": {
            "color": "#2a3f5f"
           }
          },
          "ternary": {
           "aaxis": {
            "gridcolor": "white",
            "linecolor": "white",
            "ticks": ""
           },
           "baxis": {
            "gridcolor": "white",
            "linecolor": "white",
            "ticks": ""
           },
           "bgcolor": "#E5ECF6",
           "caxis": {
            "gridcolor": "white",
            "linecolor": "white",
            "ticks": ""
           }
          },
          "title": {
           "x": 0.05
          },
          "xaxis": {
           "automargin": true,
           "gridcolor": "white",
           "linecolor": "white",
           "ticks": "",
           "title": {
            "standoff": 15
           },
           "zerolinecolor": "white",
           "zerolinewidth": 2
          },
          "yaxis": {
           "automargin": true,
           "gridcolor": "white",
           "linecolor": "white",
           "ticks": "",
           "title": {
            "standoff": 15
           },
           "zerolinecolor": "white",
           "zerolinewidth": 2
          }
         }
        },
        "title": {
         "text": "eedlessly cruel way to start Top Chef dc. #novote”"
        },
        "xaxis": {
         "anchor": "y",
         "constrain": "domain",
         "domain": [
          0,
          1
         ],
         "scaleanchor": "y"
        },
        "yaxis": {
         "anchor": "x",
         "autorange": "reversed",
         "constrain": "domain",
         "domain": [
          0,
          1
         ]
        }
       }
      }
     },
     "metadata": {},
     "output_type": "display_data"
    }
   ],
   "source": [
    "head_attribution_lh = einops.rearrange(head_attribution, \"batch (layer head) -> batch layer head\", head=model.cfg.n_heads)\n",
    "for prompt_index in range(len(examples)):\n",
    "    imshow(head_attribution_lh[prompt_index, :, :], title=f\"{examples[prompt_index][-50:]}\")"
   ]
  },
  {
   "cell_type": "code",
   "execution_count": null,
   "metadata": {},
   "outputs": [],
   "source": []
  },
  {
   "cell_type": "code",
   "execution_count": null,
   "metadata": {},
   "outputs": [
    {
     "name": "stdout",
     "output_type": "stream",
     "text": [
      "torch.Size([1, 959])\n",
      "At our best, we motivate ourselves every day to get dressed and go to work or school. Although there are larger incentives at work, it's our own volition that powers us through our innumerable daily tasks.\n",
      "\n",
      "If we could learn to control the motivational centers of our brains that drive volition, would it lead us toward healthier, more productive lives? Using a new brain imaging strategy, Duke University scientists have now taken a first step in understanding how to manipulate specific neural circuits using thoughts and imagery.\n",
      "\n",
      "The technique, which is described in the March 16 issue of the journal Neuron, is part of a larger approach called 'neurofeedback,' which gives participants a dynamic readout of brain activity, in this case from a brain area critical for motivation.\n",
      "\n",
      "\"These methods show a direct route for manipulating brain networks centrally involved in healthy brain function and daily behavior,\" said the study's senior investigator R. Alison Adcock, an assistant professor of psychiatry and behavioral sciences and associate director of the Center for Cognitive Neuroscience in the Duke University Institute for Brain Sciences.\n",
      "\n",
      "Neurofeedback is a specialized form of biofeedback, a technique that allows people to monitor aspects of their own physiology, such as heart rate and skin temperature. It can help generate strategies to overcome anxiety and stress or to cope with other medical conditions.\n",
      "\n",
      "Neurofeedback has historically relied on electroencephalography or EEG, in which patterns of electrical activity are monitored noninvasively by electrodes attached to the scalp. But these measures provide only rough estimates of where activity occurs in the brain.\n",
      "\n",
      "advertisement\n",
      "\n",
      "In contrast, the new study employed functional magnetic resonance imaging (fMRI), which measures changes in blood oxygen levels, allowing more precisely localized measurements of brain activity.\n",
      "\n",
      "Adcock's team has been working on ways to use thoughts and behavior to tune brain function for the past eight years. In this time, they've developed tools allowing them to analyze complex brain imaging data in real time and to display it to participants as neurofeedback while they are in the fMRI scanner.\n",
      "\n",
      "This study focused on the ventral tegmental area (VTA), a small area deep within the brain that is a major source of dopamine, a neurochemical well known for its role in motivation, experiencing rewards, learning, and memory.\n",
      "\n",
      "According to Adcock's previous research, when people are given incentives to remember specific images, an increase in VTA activation before the image appears predicts whether the participants are going to successfully remember the image.\n",
      "\n",
      "External incentives like money work well to stimulate the VTA, but it was unclear whether people could exercise this area on their own, said co-author Jeff MacInnes, a postdoctoral researcher in Adcock's lab.\n",
      "\n",
      "advertisement\n",
      "\n",
      "In the new study, the team encouraged participants in the scanner to generate feelings of motivation -- using their own personal strategies -- during 20-second intervals. They weren't able to raise their VTA activity consistently on their own.\n",
      "\n",
      "But when the scientists provided participants with neurofeedback from the VTA, presented in the form of a fluctuating thermometer, participants were able to learn which strategies worked, and ultimately adopt more effective strategies. Compared to control groups, the neurofeedback-trained participants successfully elevated their VTA activity.\n",
      "\n",
      "Participants reported using a variety of different motivational strategies, from imagining parents or coaches encouraging them, to playing out hypothetical scenarios in which their efforts were rewarded, said co-author Kathryn Dickerson, a postdoctoral researcher in Adcock's group.\n",
      "\n",
      "The self-generated boost in VTA activation worked even after the thermometer display was removed. Only the participants who had received accurate neurofeedback were able to consistently raise their VTA levels.\n",
      "\n",
      "\"Because this is the first demonstration of its kind, there is much still to be understood,\" Adcock added. \"But these tools could offer benefits for everyone, particularly those with depression or attention problems.\"\n",
      "\n",
      "The neurofeedback training also activated other regions involved in learning and experiencing rewards, confirming that, at least in the short term, the brain changes its activity more broadly as a result of neurofeedback, Dickerson said.\n",
      "\n",
      "Adcock said one caveat of the study is that the team has not tested whether the neurofeedback drove changes in behavior. The group is working on those studies now and also plans to conduct the same study in participants with depression and attention deficit hyperactivity disorder (ADHD).\n",
      "\n",
      "This research was supported by the National Institute of Mental Health (MH9743, MH100764), the Alfred P. Sloan Foundation, the Esther A. & Joseph Klingenstein Fund, and the Dana Foundation.\n"
     ]
    }
   ],
   "source": [
    "text = dataset[50]['text']\n",
    "tokens = model.to_tokens(text, prepend_bos=True,).to(device=device)"
   ]
  },
  {
   "cell_type": "code",
   "execution_count": 170,
   "metadata": {},
   "outputs": [
    {
     "ename": "KeyboardInterrupt",
     "evalue": "",
     "output_type": "error",
     "traceback": [
      "\u001b[0;31m---------------------------------------------------------------------------\u001b[0m",
      "\u001b[0;31mKeyboardInterrupt\u001b[0m                         Traceback (most recent call last)",
      "Cell \u001b[0;32mIn[170], line 3\u001b[0m\n\u001b[1;32m      1\u001b[0m text \u001b[39m=\u001b[39m dataset[\u001b[39m10\u001b[39m][\u001b[39m'\u001b[39m\u001b[39mtext\u001b[39m\u001b[39m'\u001b[39m]\n\u001b[1;32m      2\u001b[0m tokens \u001b[39m=\u001b[39m tokens \u001b[39m=\u001b[39m model\u001b[39m.\u001b[39mto_tokens(prompt, prepend_bos\u001b[39m=\u001b[39m\u001b[39mTrue\u001b[39;00m,)\u001b[39m.\u001b[39mto(device\u001b[39m=\u001b[39mdevice)\n\u001b[0;32m----> 3\u001b[0m original_logits, cache \u001b[39m=\u001b[39m model\u001b[39m.\u001b[39;49mrun_with_cache(tokens)\n",
      "File \u001b[0;32m~/projects/aan/aan/lib/python3.10/site-packages/transformer_lens/HookedTransformer.py:369\u001b[0m, in \u001b[0;36mHookedTransformer.run_with_cache\u001b[0;34m(self, return_cache_object, remove_batch_dim, *model_args, **kwargs)\u001b[0m\n\u001b[1;32m    355\u001b[0m \u001b[39mdef\u001b[39;00m \u001b[39mrun_with_cache\u001b[39m(\n\u001b[1;32m    356\u001b[0m     \u001b[39mself\u001b[39m, \u001b[39m*\u001b[39mmodel_args, return_cache_object\u001b[39m=\u001b[39m\u001b[39mTrue\u001b[39;00m, remove_batch_dim\u001b[39m=\u001b[39m\u001b[39mFalse\u001b[39;00m, \u001b[39m*\u001b[39m\u001b[39m*\u001b[39mkwargs\n\u001b[1;32m    357\u001b[0m ) \u001b[39m-\u001b[39m\u001b[39m>\u001b[39m Tuple[\n\u001b[0;32m   (...)\u001b[0m\n\u001b[1;32m    364\u001b[0m     Union[ActivationCache, Dict[\u001b[39mstr\u001b[39m, torch\u001b[39m.\u001b[39mTensor]],\n\u001b[1;32m    365\u001b[0m ]:\n\u001b[1;32m    366\u001b[0m \u001b[39m    \u001b[39m\u001b[39m\"\"\"\u001b[39;00m\n\u001b[1;32m    367\u001b[0m \u001b[39m    Wrapper around run_with_cache in HookedRootModule. If return_cache_object is True, this will return an ActivationCache object, with a bunch of useful HookedTransformer specific methods, otherwise it will return a dictionary of activations as in HookedRootModule.\u001b[39;00m\n\u001b[1;32m    368\u001b[0m \u001b[39m    \"\"\"\u001b[39;00m\n\u001b[0;32m--> 369\u001b[0m     out, cache_dict \u001b[39m=\u001b[39m \u001b[39msuper\u001b[39;49m()\u001b[39m.\u001b[39;49mrun_with_cache(\n\u001b[1;32m    370\u001b[0m         \u001b[39m*\u001b[39;49mmodel_args, remove_batch_dim\u001b[39m=\u001b[39;49mremove_batch_dim, \u001b[39m*\u001b[39;49m\u001b[39m*\u001b[39;49mkwargs\n\u001b[1;32m    371\u001b[0m     )\n\u001b[1;32m    372\u001b[0m     \u001b[39mif\u001b[39;00m return_cache_object:\n\u001b[1;32m    373\u001b[0m         cache \u001b[39m=\u001b[39m ActivationCache(\n\u001b[1;32m    374\u001b[0m             cache_dict, \u001b[39mself\u001b[39m, has_batch_dim\u001b[39m=\u001b[39m\u001b[39mnot\u001b[39;00m remove_batch_dim\n\u001b[1;32m    375\u001b[0m         )\n",
      "File \u001b[0;32m~/projects/aan/aan/lib/python3.10/site-packages/transformer_lens/hook_points.py:281\u001b[0m, in \u001b[0;36mHookedRootModule.run_with_cache\u001b[0;34m(self, names_filter, device, remove_batch_dim, incl_bwd, reset_hooks_end, clear_contexts, *model_args, **model_kwargs)\u001b[0m\n\u001b[1;32m    267\u001b[0m \u001b[39m\u001b[39m\u001b[39m\"\"\"\u001b[39;00m\n\u001b[1;32m    268\u001b[0m \u001b[39mRuns the model and returns model output and a Cache object\u001b[39;00m\n\u001b[1;32m    269\u001b[0m \n\u001b[0;32m   (...)\u001b[0m\n\u001b[1;32m    276\u001b[0m \u001b[39mclear_contexts (bool): If True, clears hook contexts whenever hooks are reset\u001b[39;00m\n\u001b[1;32m    277\u001b[0m \u001b[39m\"\"\"\u001b[39;00m\n\u001b[1;32m    278\u001b[0m cache_dict \u001b[39m=\u001b[39m \u001b[39mself\u001b[39m\u001b[39m.\u001b[39madd_caching_hooks(\n\u001b[1;32m    279\u001b[0m     names_filter, incl_bwd, device, remove_batch_dim\u001b[39m=\u001b[39mremove_batch_dim\n\u001b[1;32m    280\u001b[0m )\n\u001b[0;32m--> 281\u001b[0m model_out \u001b[39m=\u001b[39m \u001b[39mself\u001b[39;49m(\u001b[39m*\u001b[39;49mmodel_args, \u001b[39m*\u001b[39;49m\u001b[39m*\u001b[39;49mmodel_kwargs)\n\u001b[1;32m    283\u001b[0m \u001b[39mif\u001b[39;00m incl_bwd:\n\u001b[1;32m    284\u001b[0m     model_out\u001b[39m.\u001b[39mbackward()\n",
      "File \u001b[0;32m~/projects/aan/aan/lib/python3.10/site-packages/torch/nn/modules/module.py:1194\u001b[0m, in \u001b[0;36mModule._call_impl\u001b[0;34m(self, *input, **kwargs)\u001b[0m\n\u001b[1;32m   1190\u001b[0m \u001b[39m# If we don't have any hooks, we want to skip the rest of the logic in\u001b[39;00m\n\u001b[1;32m   1191\u001b[0m \u001b[39m# this function, and just call forward.\u001b[39;00m\n\u001b[1;32m   1192\u001b[0m \u001b[39mif\u001b[39;00m \u001b[39mnot\u001b[39;00m (\u001b[39mself\u001b[39m\u001b[39m.\u001b[39m_backward_hooks \u001b[39mor\u001b[39;00m \u001b[39mself\u001b[39m\u001b[39m.\u001b[39m_forward_hooks \u001b[39mor\u001b[39;00m \u001b[39mself\u001b[39m\u001b[39m.\u001b[39m_forward_pre_hooks \u001b[39mor\u001b[39;00m _global_backward_hooks\n\u001b[1;32m   1193\u001b[0m         \u001b[39mor\u001b[39;00m _global_forward_hooks \u001b[39mor\u001b[39;00m _global_forward_pre_hooks):\n\u001b[0;32m-> 1194\u001b[0m     \u001b[39mreturn\u001b[39;00m forward_call(\u001b[39m*\u001b[39;49m\u001b[39minput\u001b[39;49m, \u001b[39m*\u001b[39;49m\u001b[39m*\u001b[39;49mkwargs)\n\u001b[1;32m   1195\u001b[0m \u001b[39m# Do not call functions when jit is used\u001b[39;00m\n\u001b[1;32m   1196\u001b[0m full_backward_hooks, non_full_backward_hooks \u001b[39m=\u001b[39m [], []\n",
      "File \u001b[0;32m~/projects/aan/aan/lib/python3.10/site-packages/transformer_lens/HookedTransformer.py:302\u001b[0m, in \u001b[0;36mHookedTransformer.forward\u001b[0;34m(self, input, return_type, loss_per_token, prepend_bos, stop_at_layer, past_kv_cache)\u001b[0m\n\u001b[1;32m    297\u001b[0m     transformer_block_list \u001b[39m=\u001b[39m \u001b[39mself\u001b[39m\u001b[39m.\u001b[39mblocks[:stop_at_layer] \u001b[39m# type: ignore\u001b[39;00m\n\u001b[1;32m    299\u001b[0m \u001b[39mfor\u001b[39;00m i, block \u001b[39min\u001b[39;00m \u001b[39menumerate\u001b[39m(transformer_block_list): \u001b[39m# type: ignore\u001b[39;00m\n\u001b[1;32m    300\u001b[0m     \u001b[39m# Note that each block includes skip connections, so we don't need\u001b[39;00m\n\u001b[1;32m    301\u001b[0m     \u001b[39m# residual + block(residual)\u001b[39;00m\n\u001b[0;32m--> 302\u001b[0m     residual \u001b[39m=\u001b[39m block(\n\u001b[1;32m    303\u001b[0m         residual,\n\u001b[1;32m    304\u001b[0m         past_kv_cache_entry\u001b[39m=\u001b[39;49mpast_kv_cache[i]\n\u001b[1;32m    305\u001b[0m         \u001b[39mif\u001b[39;49;00m past_kv_cache \u001b[39mis\u001b[39;49;00m \u001b[39mnot\u001b[39;49;00m \u001b[39mNone\u001b[39;49;00m\n\u001b[1;32m    306\u001b[0m         \u001b[39melse\u001b[39;49;00m \u001b[39mNone\u001b[39;49;00m,  \u001b[39m# Cache is contains a list of HookedTransformerKeyValueCache objects, one for each block\u001b[39;49;00m\n\u001b[1;32m    307\u001b[0m         shortformer_pos_embed\u001b[39m=\u001b[39;49mshortformer_pos_embed,\n\u001b[1;32m    308\u001b[0m     )  \u001b[39m# [batch, pos, d_model]\u001b[39;00m\n\u001b[1;32m    310\u001b[0m \u001b[39mif\u001b[39;00m stop_at_layer \u001b[39mis\u001b[39;00m \u001b[39mnot\u001b[39;00m \u001b[39mNone\u001b[39;00m:\n\u001b[1;32m    311\u001b[0m     \u001b[39m# When we stop at an early layer, we end here rather than doing further computation\u001b[39;00m\n\u001b[1;32m    312\u001b[0m     \u001b[39mreturn\u001b[39;00m \u001b[39mNone\u001b[39;00m\n",
      "File \u001b[0;32m~/projects/aan/aan/lib/python3.10/site-packages/torch/nn/modules/module.py:1194\u001b[0m, in \u001b[0;36mModule._call_impl\u001b[0;34m(self, *input, **kwargs)\u001b[0m\n\u001b[1;32m   1190\u001b[0m \u001b[39m# If we don't have any hooks, we want to skip the rest of the logic in\u001b[39;00m\n\u001b[1;32m   1191\u001b[0m \u001b[39m# this function, and just call forward.\u001b[39;00m\n\u001b[1;32m   1192\u001b[0m \u001b[39mif\u001b[39;00m \u001b[39mnot\u001b[39;00m (\u001b[39mself\u001b[39m\u001b[39m.\u001b[39m_backward_hooks \u001b[39mor\u001b[39;00m \u001b[39mself\u001b[39m\u001b[39m.\u001b[39m_forward_hooks \u001b[39mor\u001b[39;00m \u001b[39mself\u001b[39m\u001b[39m.\u001b[39m_forward_pre_hooks \u001b[39mor\u001b[39;00m _global_backward_hooks\n\u001b[1;32m   1193\u001b[0m         \u001b[39mor\u001b[39;00m _global_forward_hooks \u001b[39mor\u001b[39;00m _global_forward_pre_hooks):\n\u001b[0;32m-> 1194\u001b[0m     \u001b[39mreturn\u001b[39;00m forward_call(\u001b[39m*\u001b[39;49m\u001b[39minput\u001b[39;49m, \u001b[39m*\u001b[39;49m\u001b[39m*\u001b[39;49mkwargs)\n\u001b[1;32m   1195\u001b[0m \u001b[39m# Do not call functions when jit is used\u001b[39;00m\n\u001b[1;32m   1196\u001b[0m full_backward_hooks, non_full_backward_hooks \u001b[39m=\u001b[39m [], []\n",
      "File \u001b[0;32m~/projects/aan/aan/lib/python3.10/site-packages/transformer_lens/components.py:706\u001b[0m, in \u001b[0;36mTransformerBlock.forward\u001b[0;34m(self, resid_pre, shortformer_pos_embed, past_kv_cache_entry)\u001b[0m\n\u001b[1;32m    701\u001b[0m     resid_mid \u001b[39m=\u001b[39m \u001b[39mself\u001b[39m\u001b[39m.\u001b[39mhook_resid_mid(\n\u001b[1;32m    702\u001b[0m         resid_pre \u001b[39m+\u001b[39m attn_out\n\u001b[1;32m    703\u001b[0m     )  \u001b[39m# [batch, pos, d_model]\u001b[39;00m\n\u001b[1;32m    704\u001b[0m     normalized_resid_mid \u001b[39m=\u001b[39m \u001b[39mself\u001b[39m\u001b[39m.\u001b[39mln2(resid_mid)\n\u001b[1;32m    705\u001b[0m     mlp_out \u001b[39m=\u001b[39m \u001b[39mself\u001b[39m\u001b[39m.\u001b[39mhook_mlp_out(\n\u001b[0;32m--> 706\u001b[0m         \u001b[39mself\u001b[39;49m\u001b[39m.\u001b[39;49mmlp(normalized_resid_mid)\n\u001b[1;32m    707\u001b[0m     )  \u001b[39m# [batch, pos, d_model]\u001b[39;00m\n\u001b[1;32m    708\u001b[0m     resid_post \u001b[39m=\u001b[39m \u001b[39mself\u001b[39m\u001b[39m.\u001b[39mhook_resid_post(\n\u001b[1;32m    709\u001b[0m         resid_mid \u001b[39m+\u001b[39m mlp_out\n\u001b[1;32m    710\u001b[0m     )  \u001b[39m# [batch, pos, d_model]\u001b[39;00m\n\u001b[1;32m    711\u001b[0m \u001b[39melif\u001b[39;00m \u001b[39mself\u001b[39m\u001b[39m.\u001b[39mcfg\u001b[39m.\u001b[39mparallel_attn_mlp:\n\u001b[1;32m    712\u001b[0m     \u001b[39m# Dumb thing done by GPT-J, both MLP and Attn read from resid_pre and write to resid_post, no resid_mid used.\u001b[39;00m\n\u001b[1;32m    713\u001b[0m     \u001b[39m# In GPT-J, LN1 and LN2 are tied, in GPT-NeoX they aren't.\u001b[39;00m\n",
      "File \u001b[0;32m~/projects/aan/aan/lib/python3.10/site-packages/torch/nn/modules/module.py:1194\u001b[0m, in \u001b[0;36mModule._call_impl\u001b[0;34m(self, *input, **kwargs)\u001b[0m\n\u001b[1;32m   1190\u001b[0m \u001b[39m# If we don't have any hooks, we want to skip the rest of the logic in\u001b[39;00m\n\u001b[1;32m   1191\u001b[0m \u001b[39m# this function, and just call forward.\u001b[39;00m\n\u001b[1;32m   1192\u001b[0m \u001b[39mif\u001b[39;00m \u001b[39mnot\u001b[39;00m (\u001b[39mself\u001b[39m\u001b[39m.\u001b[39m_backward_hooks \u001b[39mor\u001b[39;00m \u001b[39mself\u001b[39m\u001b[39m.\u001b[39m_forward_hooks \u001b[39mor\u001b[39;00m \u001b[39mself\u001b[39m\u001b[39m.\u001b[39m_forward_pre_hooks \u001b[39mor\u001b[39;00m _global_backward_hooks\n\u001b[1;32m   1193\u001b[0m         \u001b[39mor\u001b[39;00m _global_forward_hooks \u001b[39mor\u001b[39;00m _global_forward_pre_hooks):\n\u001b[0;32m-> 1194\u001b[0m     \u001b[39mreturn\u001b[39;00m forward_call(\u001b[39m*\u001b[39;49m\u001b[39minput\u001b[39;49m, \u001b[39m*\u001b[39;49m\u001b[39m*\u001b[39;49mkwargs)\n\u001b[1;32m   1195\u001b[0m \u001b[39m# Do not call functions when jit is used\u001b[39;00m\n\u001b[1;32m   1196\u001b[0m full_backward_hooks, non_full_backward_hooks \u001b[39m=\u001b[39m [], []\n",
      "File \u001b[0;32m~/projects/aan/aan/lib/python3.10/site-packages/transformer_lens/components.py:602\u001b[0m, in \u001b[0;36mMLP.forward\u001b[0;34m(self, x)\u001b[0m\n\u001b[1;32m    599\u001b[0m     mid_act \u001b[39m=\u001b[39m \u001b[39mself\u001b[39m\u001b[39m.\u001b[39mhook_mid(\u001b[39mself\u001b[39m\u001b[39m.\u001b[39mact_fn(pre_act))  \u001b[39m# [batch, pos, d_mlp]\u001b[39;00m\n\u001b[1;32m    600\u001b[0m     post_act \u001b[39m=\u001b[39m \u001b[39mself\u001b[39m\u001b[39m.\u001b[39mhook_post(\u001b[39mself\u001b[39m\u001b[39m.\u001b[39mln(mid_act))\n\u001b[1;32m    601\u001b[0m \u001b[39mreturn\u001b[39;00m (\n\u001b[0;32m--> 602\u001b[0m     einsum(\n\u001b[1;32m    603\u001b[0m         \u001b[39m\"\u001b[39;49m\u001b[39mbatch pos d_mlp, d_mlp d_model -> batch pos d_model\u001b[39;49m\u001b[39m\"\u001b[39;49m,\n\u001b[1;32m    604\u001b[0m         post_act,\n\u001b[1;32m    605\u001b[0m         \u001b[39mself\u001b[39;49m\u001b[39m.\u001b[39;49mW_out,\n\u001b[1;32m    606\u001b[0m     )\n\u001b[1;32m    607\u001b[0m     \u001b[39m+\u001b[39m \u001b[39mself\u001b[39m\u001b[39m.\u001b[39mb_out\n\u001b[1;32m    608\u001b[0m )\n",
      "File \u001b[0;32m~/projects/aan/aan/lib/python3.10/site-packages/fancy_einsum/__init__.py:136\u001b[0m, in \u001b[0;36meinsum\u001b[0;34m(equation, *operands)\u001b[0m\n\u001b[1;32m    134\u001b[0m backend \u001b[39m=\u001b[39m get_backend(operands[\u001b[39m0\u001b[39m])\n\u001b[1;32m    135\u001b[0m new_equation \u001b[39m=\u001b[39m convert_equation(equation)\n\u001b[0;32m--> 136\u001b[0m \u001b[39mreturn\u001b[39;00m backend\u001b[39m.\u001b[39;49meinsum(new_equation, \u001b[39m*\u001b[39;49moperands)\n",
      "File \u001b[0;32m~/projects/aan/aan/lib/python3.10/site-packages/fancy_einsum/__init__.py:54\u001b[0m, in \u001b[0;36mTorchBackend.einsum\u001b[0;34m(self, equation, *operands)\u001b[0m\n\u001b[1;32m     53\u001b[0m \u001b[39mdef\u001b[39;00m \u001b[39meinsum\u001b[39m(\u001b[39mself\u001b[39m, equation, \u001b[39m*\u001b[39moperands):\n\u001b[0;32m---> 54\u001b[0m     \u001b[39mreturn\u001b[39;00m \u001b[39mself\u001b[39;49m\u001b[39m.\u001b[39;49mtorch\u001b[39m.\u001b[39;49meinsum(equation, \u001b[39m*\u001b[39;49moperands)\n",
      "File \u001b[0;32m~/projects/aan/aan/lib/python3.10/site-packages/torch/functional.py:378\u001b[0m, in \u001b[0;36meinsum\u001b[0;34m(*args)\u001b[0m\n\u001b[1;32m    373\u001b[0m     \u001b[39mreturn\u001b[39;00m einsum(equation, \u001b[39m*\u001b[39m_operands)\n\u001b[1;32m    375\u001b[0m \u001b[39mif\u001b[39;00m \u001b[39mlen\u001b[39m(operands) \u001b[39m<\u001b[39m\u001b[39m=\u001b[39m \u001b[39m2\u001b[39m \u001b[39mor\u001b[39;00m \u001b[39mnot\u001b[39;00m opt_einsum\u001b[39m.\u001b[39menabled:\n\u001b[1;32m    376\u001b[0m     \u001b[39m# the path for contracting 0 or 1 time(s) is already optimized\u001b[39;00m\n\u001b[1;32m    377\u001b[0m     \u001b[39m# or the user has disabled using opt_einsum\u001b[39;00m\n\u001b[0;32m--> 378\u001b[0m     \u001b[39mreturn\u001b[39;00m _VF\u001b[39m.\u001b[39;49meinsum(equation, operands)  \u001b[39m# type: ignore[attr-defined]\u001b[39;00m\n\u001b[1;32m    380\u001b[0m path \u001b[39m=\u001b[39m \u001b[39mNone\u001b[39;00m\n\u001b[1;32m    381\u001b[0m \u001b[39mif\u001b[39;00m opt_einsum\u001b[39m.\u001b[39mis_available():\n",
      "\u001b[0;31mKeyboardInterrupt\u001b[0m: "
     ]
    }
   ],
   "source": [
    "text = dataset[10]['text']\n",
    "tokens = model.to_tokens(prompt, prepend_bos=True,).to(device=device)\n",
    "original_logits, cache = model.run_with_cache(tokens)"
   ]
  },
  {
   "cell_type": "code",
   "execution_count": 146,
   "metadata": {},
   "outputs": [
    {
     "name": "stdout",
     "output_type": "stream",
     "text": [
      "['embed', 'pos_embed', '0_attn_out', '0_mlp_out', '1_attn_out', '1_mlp_out', '2_attn_out', '2_mlp_out', '3_attn_out', '3_mlp_out', '4_attn_out', '4_mlp_out', '5_attn_out', '5_mlp_out', '6_attn_out', '6_mlp_out', '7_attn_out', '7_mlp_out', '8_attn_out', '8_mlp_out', '9_attn_out', '9_mlp_out', '10_attn_out', '10_mlp_out', '11_attn_out', '11_mlp_out', '12_attn_out', '12_mlp_out', '13_attn_out', '13_mlp_out', '14_attn_out', '14_mlp_out', '15_attn_out', '15_mlp_out', '16_attn_out', '16_mlp_out', '17_attn_out', '17_mlp_out', '18_attn_out', '18_mlp_out', '19_attn_out', '19_mlp_out', '20_attn_out', '20_mlp_out', '21_attn_out', '21_mlp_out', '22_attn_out', '22_mlp_out', '23_attn_out', '23_mlp_out', '24_attn_out', '24_mlp_out', '25_attn_out', '25_mlp_out', '26_attn_out', '26_mlp_out', '27_attn_out', '27_mlp_out', '28_attn_out', '28_mlp_out', '29_attn_out', '29_mlp_out', '30_attn_out', '30_mlp_out', '31_attn_out', '31_mlp_out', '32_attn_out', '32_mlp_out', '33_attn_out', '33_mlp_out', '34_attn_out', '34_mlp_out', '35_attn_out', '35_mlp_out']\n"
     ]
    }
   ],
   "source": [
    "x = cache.decompose_resid(return_labels=True)\n",
    "print(x[1])"
   ]
  }
 ],
 "metadata": {
  "kernelspec": {
   "display_name": "aan",
   "language": "python",
   "name": "python3"
  },
  "language_info": {
   "codemirror_mode": {
    "name": "ipython",
    "version": 3
   },
   "file_extension": ".py",
   "mimetype": "text/x-python",
   "name": "python",
   "nbconvert_exporter": "python",
   "pygments_lexer": "ipython3",
   "version": "3.10.9"
  },
  "orig_nbformat": 4
 },
 "nbformat": 4,
 "nbformat_minor": 2
}
