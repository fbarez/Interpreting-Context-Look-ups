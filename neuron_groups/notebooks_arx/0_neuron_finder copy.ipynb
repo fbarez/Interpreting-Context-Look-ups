{
 "cells": [
  {
   "attachments": {},
   "cell_type": "markdown",
   "metadata": {},
   "source": [
    "# Setup"
   ]
  },
  {
   "cell_type": "code",
   "execution_count": 1,
   "metadata": {},
   "outputs": [
    {
     "name": "stdout",
     "output_type": "stream",
     "text": [
      "Running as a Jupyter notebook\n"
     ]
    }
   ],
   "source": [
    "import plotly.io as pio\n",
    "try:\n",
    "    import google.colab\n",
    "    print(\"Running as a Colab notebook\")\n",
    "    pio.renderers.default = \"colab\"\n",
    "    %pip install transformer-lens fancy-einsum\n",
    "    %pip install -U kaleido # kaleido only works if you restart the runtime. Required to write figures to disk (final cell)\n",
    "except:\n",
    "    print(\"Running as a Jupyter notebook\")\n",
    "    pio.renderers.default = \"vscode\"\n",
    "    from IPython import get_ipython\n",
    "    ipython = get_ipython()"
   ]
  },
  {
   "cell_type": "code",
   "execution_count": 2,
   "metadata": {},
   "outputs": [
    {
     "data": {
      "text/plain": [
       "device(type='cpu')"
      ]
     },
     "execution_count": 2,
     "metadata": {},
     "output_type": "execute_result"
    }
   ],
   "source": [
    "import torch\n",
    "from fancy_einsum import einsum\n",
    "from transformer_lens import HookedTransformer, HookedTransformerConfig, utils, ActivationCache\n",
    "from torchtyping import TensorType as TT\n",
    "import plotly.express as px\n",
    "import plotly.graph_objects as go\n",
    "import numpy as np\n",
    "import einops\n",
    "from typing import List, Union, Optional\n",
    "from functools import partial\n",
    "import pandas as pd\n",
    "from pathlib import Path\n",
    "import urllib.request\n",
    "from bs4 import BeautifulSoup\n",
    "from tqdm import tqdm\n",
    "from datasets import load_dataset\n",
    "import os\n",
    "import json\n",
    "\n",
    "os.environ[\"TOKENIZERS_PARALLELISM\"] = \"false\" # https://stackoverflow.com/q/62691279\n",
    "torch.set_grad_enabled(False)\n",
    "device = torch.device(\"cuda\" if torch.cuda.is_available() else \"cpu\")\n",
    "device"
   ]
  },
  {
   "cell_type": "code",
   "execution_count": 3,
   "metadata": {},
   "outputs": [
    {
     "name": "stdout",
     "output_type": "stream",
     "text": [
      "Requirement already satisfied: circuitsvis in /Users/clementneo/projects/aan/aan/lib/python3.10/site-packages (1.39.1)\n",
      "Requirement already satisfied: torch<2.0,>=1.10 in /Users/clementneo/projects/aan/aan/lib/python3.10/site-packages (from circuitsvis) (1.13.1)\n",
      "Requirement already satisfied: numpy<2.0,>=1.23 in /Users/clementneo/projects/aan/aan/lib/python3.10/site-packages (from circuitsvis) (1.24.1)\n",
      "Requirement already satisfied: importlib-metadata<6.0.0,>=5.1.0 in /Users/clementneo/projects/aan/aan/lib/python3.10/site-packages (from circuitsvis) (5.2.0)\n",
      "Requirement already satisfied: zipp>=0.5 in /Users/clementneo/projects/aan/aan/lib/python3.10/site-packages (from importlib-metadata<6.0.0,>=5.1.0->circuitsvis) (3.14.0)\n",
      "Requirement already satisfied: typing-extensions in /Users/clementneo/projects/aan/aan/lib/python3.10/site-packages (from torch<2.0,>=1.10->circuitsvis) (4.4.0)\n",
      "\n",
      "\u001b[1m[\u001b[0m\u001b[34;49mnotice\u001b[0m\u001b[1;39;49m]\u001b[0m\u001b[39;49m A new release of pip is available: \u001b[0m\u001b[31;49m23.0.1\u001b[0m\u001b[39;49m -> \u001b[0m\u001b[32;49m23.2.1\u001b[0m\n",
      "\u001b[1m[\u001b[0m\u001b[34;49mnotice\u001b[0m\u001b[1;39;49m]\u001b[0m\u001b[39;49m To update, run: \u001b[0m\u001b[32;49mpip install --upgrade pip\u001b[0m\n"
     ]
    }
   ],
   "source": [
    "!pip install circuitsvis\n",
    "import circuitsvis as cv"
   ]
  },
  {
   "cell_type": "code",
   "execution_count": 4,
   "metadata": {},
   "outputs": [],
   "source": [
    "pio.renderers.default='vscode'\n",
    "\n",
    "def imshow(tensor, renderer=None, **kwargs):\n",
    "    px.imshow(utils.to_numpy(tensor), color_continuous_midpoint=0.0, color_continuous_scale=\"RdBu\", **kwargs).show(renderer)\n",
    "\n",
    "def line(tensor, renderer=None, **kwargs):\n",
    "    px.line(y=utils.to_numpy(tensor), **kwargs).show(renderer)\n",
    "\n",
    "def scatter(x, y, xaxis=\"\", yaxis=\"\", caxis=\"\", renderer=None, **kwargs):\n",
    "    x = utils.to_numpy(x)\n",
    "    y = utils.to_numpy(y)\n",
    "    px.scatter(y=y, x=x, labels={\"x\":xaxis, \"y\":yaxis, \"color\":caxis}, **kwargs).show(renderer)"
   ]
  },
  {
   "cell_type": "code",
   "execution_count": 5,
   "metadata": {},
   "outputs": [
    {
     "name": "stderr",
     "output_type": "stream",
     "text": [
      "Using pad_token, but it is not set yet.\n"
     ]
    },
    {
     "name": "stdout",
     "output_type": "stream",
     "text": [
      "Loaded pretrained model gpt2-large into HookedTransformer\n"
     ]
    }
   ],
   "source": [
    "model = HookedTransformer.from_pretrained(\n",
    "    \"gpt2-large\",\n",
    "    center_unembed=True,\n",
    "    center_writing_weights=True,\n",
    "    fold_ln=True,\n",
    "    refactor_factored_attn_matrices=True,\n",
    "    device=device,\n",
    ")"
   ]
  },
  {
   "attachments": {},
   "cell_type": "markdown",
   "metadata": {},
   "source": [
    "# Finding top token-aligned neurons"
   ]
  },
  {
   "cell_type": "code",
   "execution_count": 6,
   "metadata": {},
   "outputs": [
    {
     "name": "stdout",
     "output_type": "stream",
     "text": [
      "L31N3621:  only (5.47)\n",
      "L31N364:  number (5.32)\n",
      "L31N2918:  go (5.09)\n",
      "L31N4378:  together (5.04)\n",
      "L31N988:  called (5.02)\n",
      "L31N2658:  first (4.90)\n",
      "L31N2692:  used (4.67)\n",
      "L31N4941:  within (4.50)\n",
      "L31N2415:  way (4.37)\n",
      "L31N1407:  out (4.27)\n",
      "L32N4964:  too (5.54)\n",
      "L32N2412:  will (5.11)\n",
      "L32N4282:  right (4.93)\n",
      "L32N3151:  over (4.80)\n",
      "L32N1155:  out (4.68)\n",
      "L32N1386:  once (4.45)\n",
      "L32N3582:  her (4.26)\n",
      "L32N4882:  class (4.21)\n",
      "L32N3477:  use (4.20)\n",
      "L32N406:  much (4.20)\n",
      "L33N1202:  so (6.02)\n",
      "L33N524:  state (5.66)\n",
      "L33N1582:  RandomRedditor (5.30)\n",
      "L33N4446:  about (4.55)\n",
      "L33N204:  following (4.46)\n",
      "L33N4900:  of (4.32)\n",
      "L33N2322:  after (4.12)\n",
      "L33N3278:  around (4.12)\n",
      "L33N1299:  last (4.08)\n",
      "L33N52:  by (3.96)\n",
      "L34N4012:  off (6.54)\n",
      "L34N4262:  down (5.78)\n",
      "L34N320:  back (5.68)\n",
      "L34N5095:  well (5.32)\n",
      "L34N2599:  there (4.88)\n",
      "L34N2442:  up (4.46)\n",
      "L34N4494:  no (4.45)\n",
      "L34N4199:  after (4.34)\n",
      "L34N727:  under (4.14)\n",
      "L34N4410:  as (3.21)\n",
      "L35N4518:  issue (3.79)\n",
      "L35N48:  close (3.53)\n",
      "L35N5014:  won (3.10)\n",
      "L35N3724:  high (3.05)\n",
      "L35N3360:  very (3.00)\n",
      "L35N885:  His (2.84)\n",
      "L35N4924:  of (2.82)\n",
      "L35N274:  サーティ (2.61)\n",
      "L35N2369:  The (2.60)\n",
      "L35N4638:  power (2.41)\n"
     ]
    }
   ],
   "source": [
    "results = {key: {} for key in [31, 32, 33, 34, 35]}\n",
    "\n",
    "\n",
    "for n in results.keys():\n",
    "    n_layer_neurons = model.W_out[n, :, :]\n",
    "    unembedding = model.W_U\n",
    "    dot_product = einsum(\"neuron embed, embed token -> neuron token\", n_layer_neurons, unembedding)\n",
    "    values, indices = torch.max(dot_product, dim=-1)\n",
    "\n",
    "    num = 5000\n",
    "    top_values, top_indices = torch.topk(values, k=num)\n",
    "    neurons_to_find = 10\n",
    "    neurons_found = 0\n",
    "    for i in range(num):\n",
    "\n",
    "        str_token = model.to_string(indices[top_indices[i]])\n",
    "        if len(str_token) <= 2 or str_token[0] != \" \":\n",
    "            continue\n",
    "        print(f\"L{n}N{top_indices[i]}: {str_token} ({top_values[i]:.2f})\")\n",
    "        results[n][top_indices[i].item()] = [str_token, top_values[i].item()]\n",
    "\n",
    "        neurons_found += 1\n",
    "        if neurons_found >= neurons_to_find:\n",
    "            break"
   ]
  },
  {
   "cell_type": "code",
   "execution_count": 8,
   "metadata": {},
   "outputs": [
    {
     "data": {
      "text/plain": [
       "torch.Size([1280, 50257])"
      ]
     },
     "execution_count": 8,
     "metadata": {},
     "output_type": "execute_result"
    }
   ],
   "source": [
    "unembedding.shape"
   ]
  },
  {
   "cell_type": "code",
   "execution_count": 65,
   "metadata": {},
   "outputs": [
    {
     "name": "stdout",
     "output_type": "stream",
     "text": [
      "L31N3621:  only (5.47)\n",
      "L31N364:  number (5.32)\n",
      "L31N2918:  go (5.09)\n",
      "L31N4378:  together (5.04)\n",
      "L31N988:  called (5.02)\n",
      "L31N2658:  first (4.90)\n",
      "L31N2692:  used (4.67)\n",
      "L31N4941:  within (4.50)\n",
      "L31N2415:  way (4.37)\n",
      "L31N1407:  out (4.27)\n",
      "L32N4964:  too (5.54)\n",
      "L32N2412:  will (5.11)\n",
      "L32N4282:  right (4.93)\n",
      "L32N3151:  over (4.80)\n",
      "L32N1155:  out (4.68)\n",
      "L32N1386:  once (4.45)\n",
      "L32N3582:  her (4.26)\n",
      "L32N4882:  class (4.21)\n",
      "L32N3477:  use (4.20)\n",
      "L32N406:  much (4.20)\n",
      "L33N1202:  so (6.02)\n",
      "L33N524:  state (5.66)\n",
      "L33N1582:  RandomRedditor (5.30)\n",
      "L33N4446:  about (4.55)\n",
      "L33N204:  following (4.46)\n",
      "L33N4900:  of (4.32)\n",
      "L33N2322:  after (4.12)\n",
      "L33N3278:  around (4.12)\n",
      "L33N1299:  last (4.08)\n",
      "L33N52:  by (3.96)\n",
      "L34N4012:  off (6.54)\n",
      "L34N4262:  down (5.78)\n",
      "L34N320:  back (5.68)\n",
      "L34N5095:  well (5.32)\n",
      "L34N2599:  there (4.88)\n",
      "L34N2442:  up (4.46)\n",
      "L34N4494:  no (4.45)\n",
      "L34N4199:  after (4.34)\n",
      "L34N727:  under (4.14)\n",
      "L34N4410:  as (3.21)\n",
      "L35N4518:  issue (3.79)\n",
      "L35N48:  close (3.53)\n",
      "L35N5014:  won (3.10)\n",
      "L35N3724:  high (3.05)\n",
      "L35N3360:  very (3.00)\n",
      "L35N885:  His (2.84)\n",
      "L35N4924:  of (2.82)\n",
      "L35N274:  サーティ (2.61)\n",
      "L35N2369:  The (2.60)\n",
      "L35N4638:  power (2.41)\n"
     ]
    }
   ],
   "source": [
    "results = {key: {} for key in [31, 32, 33, 34, 35]}\n",
    "\n",
    "differences = {i: 0 for i in range(unembedding.shape[1])}\n",
    "\n",
    "for n in results.keys():\n",
    "    n_layer_neurons = model.W_out[n, :, :]\n",
    "    unembedding = model.W_U\n",
    "    dot_product = einsum(\"neuron embed, embed token -> neuron token\", n_layer_neurons, unembedding)\n",
    "    values, indices = torch.max(dot_product, dim=-1)\n",
    "\n",
    "    num = 5000\n",
    "    top_values, top_indices = torch.topk(values, k=num)\n",
    "    neurons_to_find = 10\n",
    "    neurons_found = 0\n",
    "    for i in range(num):\n",
    "\n",
    "        str_token = model.to_string(indices[top_indices[i]])\n",
    "        if len(str_token) <= 2 or str_token[0] != \" \":\n",
    "            continue\n",
    "        print(f\"L{n}N{top_indices[i]}: {str_token} ({top_values[i]:.2f})\")\n",
    "        results[n][top_indices[i].item()] = [str_token, top_values[i].item()]\n",
    "\n",
    "        neurons_found += 1\n",
    "        if neurons_found >= neurons_to_find:\n",
    "            break"
   ]
  },
  {
   "cell_type": "code",
   "execution_count": 80,
   "metadata": {},
   "outputs": [
    {
     "data": {
      "text/plain": [
       "{(31, 3621): 5.474467754364014,\n",
       " (31, 364): 5.317534923553467,\n",
       " (31, 2918): 5.0894670486450195,\n",
       " (31, 4378): 5.035623550415039,\n",
       " (31, 988): 5.020147800445557,\n",
       " (31, 2658): 4.902558326721191,\n",
       " (31, 2692): 4.673663139343262,\n",
       " (31, 4941): 4.5040082931518555,\n",
       " (31, 2415): 4.366445064544678,\n",
       " (31, 1407): 4.2694196701049805,\n",
       " (32, 4964): 5.535665988922119,\n",
       " (32, 2412): 5.110599994659424,\n",
       " (32, 4282): 4.9282379150390625,\n",
       " (32, 3151): 4.796514987945557,\n",
       " (32, 1155): 4.676421642303467,\n",
       " (32, 1386): 4.446410655975342,\n",
       " (32, 3582): 4.257995128631592,\n",
       " (32, 4882): 4.207033157348633,\n",
       " (32, 3477): 4.197376728057861,\n",
       " (32, 406): 4.196420669555664,\n",
       " (33, 1202): 6.015801906585693,\n",
       " (33, 524): 5.65930700302124,\n",
       " (33, 1582): 5.304525852203369,\n",
       " (33, 4446): 4.5464091300964355,\n",
       " (33, 204): 4.464980125427246,\n",
       " (33, 4900): 4.317080020904541,\n",
       " (33, 2322): 4.1216840744018555,\n",
       " (33, 3278): 4.117262840270996,\n",
       " (33, 1299): 4.079370498657227,\n",
       " (33, 52): 3.95556640625,\n",
       " (34, 4012): 6.536617279052734,\n",
       " (34, 4262): 5.781667232513428,\n",
       " (34, 320): 5.680936813354492,\n",
       " (34, 5095): 5.315921306610107,\n",
       " (34, 2599): 4.88230037689209,\n",
       " (34, 2442): 4.455778121948242,\n",
       " (34, 4494): 4.446938991546631,\n",
       " (34, 4199): 4.338207244873047,\n",
       " (34, 727): 4.142605304718018,\n",
       " (34, 4410): 3.20912504196167,\n",
       " (35, 4518): 3.7914233207702637,\n",
       " (35, 48): 3.5296950340270996,\n",
       " (35, 5014): 3.1016037464141846,\n",
       " (35, 3724): 3.050731658935547,\n",
       " (35, 3360): 2.9975740909576416,\n",
       " (35, 885): 2.8373475074768066,\n",
       " (35, 4924): 2.8235087394714355,\n",
       " (35, 274): 2.613468885421753,\n",
       " (35, 2369): 2.5950660705566406,\n",
       " (35, 4638): 2.412489414215088}"
      ]
     },
     "execution_count": 80,
     "metadata": {},
     "output_type": "execute_result"
    }
   ],
   "source": [
    "neuron_to_score = {}\n",
    "\n",
    "for layer, item in results.items():\n",
    "    for neuron_index, (token, score) in item.items():\n",
    "        neuron_to_score[(layer, neuron_index)] = score\n",
    "\n",
    "neuron_to_score"
   ]
  },
  {
   "cell_type": "code",
   "execution_count": 73,
   "metadata": {},
   "outputs": [
    {
     "data": {
      "text/plain": [
       "{31: {3621: [' only', 5.474467754364014],\n",
       "  364: [' number', 5.317534923553467],\n",
       "  2918: [' go', 5.0894670486450195],\n",
       "  4378: [' together', 5.035623550415039],\n",
       "  988: [' called', 5.020147800445557],\n",
       "  2658: [' first', 4.902558326721191],\n",
       "  2692: [' used', 4.673663139343262],\n",
       "  4941: [' within', 4.5040082931518555],\n",
       "  2415: [' way', 4.366445064544678],\n",
       "  1407: [' out', 4.2694196701049805]},\n",
       " 32: {4964: [' too', 5.535665988922119],\n",
       "  2412: [' will', 5.110599994659424],\n",
       "  4282: [' right', 4.9282379150390625],\n",
       "  3151: [' over', 4.796514987945557],\n",
       "  1155: [' out', 4.676421642303467],\n",
       "  1386: [' once', 4.446410655975342],\n",
       "  3582: [' her', 4.257995128631592],\n",
       "  4882: [' class', 4.207033157348633],\n",
       "  3477: [' use', 4.197376728057861],\n",
       "  406: [' much', 4.196420669555664]},\n",
       " 33: {1202: [' so', 6.015801906585693],\n",
       "  524: [' state', 5.65930700302124],\n",
       "  1582: [' RandomRedditor', 5.304525852203369],\n",
       "  4446: [' about', 4.5464091300964355],\n",
       "  204: [' following', 4.464980125427246],\n",
       "  4900: [' of', 4.317080020904541],\n",
       "  2322: [' after', 4.1216840744018555],\n",
       "  3278: [' around', 4.117262840270996],\n",
       "  1299: [' last', 4.079370498657227],\n",
       "  52: [' by', 3.95556640625]},\n",
       " 34: {4012: [' off', 6.536617279052734],\n",
       "  4262: [' down', 5.781667232513428],\n",
       "  320: [' back', 5.680936813354492],\n",
       "  5095: [' well', 5.315921306610107],\n",
       "  2599: [' there', 4.88230037689209],\n",
       "  2442: [' up', 4.455778121948242],\n",
       "  4494: [' no', 4.446938991546631],\n",
       "  4199: [' after', 4.338207244873047],\n",
       "  727: [' under', 4.142605304718018],\n",
       "  4410: [' as', 3.20912504196167]},\n",
       " 35: {4518: [' issue', 3.7914233207702637],\n",
       "  48: [' close', 3.5296950340270996],\n",
       "  5014: [' won', 3.1016037464141846],\n",
       "  3724: [' high', 3.050731658935547],\n",
       "  3360: [' very', 2.9975740909576416],\n",
       "  885: [' His', 2.8373475074768066],\n",
       "  4924: [' of', 2.8235087394714355],\n",
       "  274: [' サーティ', 2.613468885421753],\n",
       "  2369: [' The', 2.5950660705566406],\n",
       "  4638: [' power', 2.412489414215088]}}"
      ]
     },
     "execution_count": 73,
     "metadata": {},
     "output_type": "execute_result"
    }
   ],
   "source": [
    "results"
   ]
  },
  {
   "cell_type": "code",
   "execution_count": 67,
   "metadata": {},
   "outputs": [],
   "source": [
    "good_tokens = [results[j][i][0] for j in results.keys() for i in results[j].keys()] # Fix this\n",
    "\n",
    "token_to_embedding_dict = {}\n",
    "# Get the embedding for each token\n",
    "for token in good_tokens:\n",
    "    token_id = model.to_tokens(token)[0,1]\n",
    "    token_to_embedding_dict[token] = model.W_U[:, token_id]"
   ]
  },
  {
   "cell_type": "code",
   "execution_count": 68,
   "metadata": {},
   "outputs": [
    {
     "data": {
      "text/plain": [
       "dict_keys([' only', ' number', ' go', ' together', ' called', ' first', ' used', ' within', ' way', ' out', ' too', ' will', ' right', ' over', ' once', ' her', ' class', ' use', ' much', ' so', ' state', ' RandomRedditor', ' about', ' following', ' of', ' after', ' around', ' last', ' by', ' off', ' down', ' back', ' well', ' there', ' up', ' no', ' under', ' as', ' issue', ' close', ' won', ' high', ' very', ' His', ' サーティ', ' The', ' power'])"
      ]
     },
     "execution_count": 68,
     "metadata": {},
     "output_type": "execute_result"
    }
   ],
   "source": [
    "token_to_embedding_dict.keys()"
   ]
  },
  {
   "cell_type": "code",
   "execution_count": 69,
   "metadata": {},
   "outputs": [],
   "source": [
    "token_to_top_two = {}\n",
    "# scatter ' only' embedding dot product with layer 31-35 neurons\n",
    "for i, (token, embedding) in enumerate(token_to_embedding_dict.items()):\n",
    "    # if i != 11: continue\n",
    "    dot_products = []\n",
    "    for layer in results.keys():\n",
    "        n_layer_neurons = model.W_out[layer, :, :]\n",
    "        dot_product = einsum(\"neuron embed, embed token -> neuron token\", n_layer_neurons, embedding.unsqueeze(1))\n",
    "        dot_products.append(dot_product)\n",
    "    dot_products = torch.concat(dot_products).squeeze()\n",
    "    top_dot_product, indices = torch.topk(dot_products, k=2)\n",
    "    token_to_top_two[token] = [top_dot_product.tolist()]\n",
    "    # scatter(torch.arange(dot_products.shape[0]), dot_products, xaxis=\"Layer\", yaxis=\"Dot Product\", caxis=\"Neuron\", title=token)\n",
    "    # break\n"
   ]
  },
  {
   "cell_type": "code",
   "execution_count": 72,
   "metadata": {},
   "outputs": [
    {
     "data": {
      "text/plain": [
       "{' only': [[5.474465847015381, 2.5265095233917236]],\n",
       " ' number': [[5.317539215087891, 2.001016139984131]],\n",
       " ' go': [[5.089465141296387, 1.4994947910308838]],\n",
       " ' together': [[5.0356245040893555, 1.3148210048675537]],\n",
       " ' called': [[5.020149230957031, 2.2551136016845703]],\n",
       " ' first': [[4.90256404876709, 1.4970424175262451]],\n",
       " ' used': [[4.673662185668945, 2.244145631790161]],\n",
       " ' within': [[4.504007816314697, 1.4171485900878906]],\n",
       " ' way': [[4.366443157196045, 2.463502883911133]],\n",
       " ' out': [[4.676422119140625, 4.269417762756348]],\n",
       " ' too': [[5.535670280456543, 1.2437636852264404]],\n",
       " ' will': [[5.110596656799316, 2.5018484592437744]],\n",
       " ' right': [[4.9282379150390625, 4.060005187988281]],\n",
       " ' over': [[4.796513080596924, 3.6494250297546387]],\n",
       " ' once': [[4.446409225463867, 2.2349820137023926]],\n",
       " ' her': [[4.257996559143066, 3.5485448837280273]],\n",
       " ' class': [[4.207032680511475, 2.3718488216400146]],\n",
       " ' use': [[4.197378158569336, 1.7493646144866943]],\n",
       " ' much': [[4.1964216232299805, 2.472662925720215]],\n",
       " ' so': [[6.015809535980225, 3.8565783500671387]],\n",
       " ' state': [[5.659304618835449, 2.356696605682373]],\n",
       " ' RandomRedditor': [[17.929279327392578, 16.30722427368164]],\n",
       " ' about': [[4.54641056060791, 4.186454772949219]],\n",
       " ' following': [[4.464977264404297, 2.202726125717163]],\n",
       " ' of': [[4.317080020904541, 3.613914728164673]],\n",
       " ' after': [[4.338204383850098, 4.121683597564697]],\n",
       " ' around': [[4.117260456085205, 2.5085363388061523]],\n",
       " ' last': [[4.079371452331543, 1.56065034866333]],\n",
       " ' by': [[3.955566644668579, 2.723670244216919]],\n",
       " ' off': [[6.536615371704102, 1.9651129245758057]],\n",
       " ' down': [[5.781668663024902, 3.2619690895080566]],\n",
       " ' back': [[5.680942535400391, 2.080214023590088]],\n",
       " ' well': [[5.315920829772949, 3.365367889404297]],\n",
       " ' there': [[4.88230037689209, 1.4289945363998413]],\n",
       " ' up': [[4.4557785987854, 1.7078073024749756]],\n",
       " ' no': [[4.446935653686523, 3.012023448944092]],\n",
       " ' under': [[4.142606258392334, 1.8634016513824463]],\n",
       " ' as': [[3.209127902984619, 3.1759371757507324]],\n",
       " ' issue': [[3.7914276123046875, 1.9705393314361572]],\n",
       " ' close': [[3.5296974182128906, 1.218775987625122]],\n",
       " ' won': [[3.539783000946045, 3.1016063690185547]],\n",
       " ' high': [[3.0507352352142334, 2.6536006927490234]],\n",
       " ' very': [[2.997577428817749, 1.4337756633758545]],\n",
       " ' His': [[2.837347984313965, 1.8046900033950806]],\n",
       " ' サーティ': [[17.93334197998047, 16.27036476135254]],\n",
       " ' The': [[2.5950629711151123, 2.1108484268188477]],\n",
       " ' power': [[2.5453386306762695, 2.412492275238037]]}"
      ]
     },
     "execution_count": 72,
     "metadata": {},
     "output_type": "execute_result"
    }
   ],
   "source": [
    "token_to_top_two"
   ]
  },
  {
   "cell_type": "code",
   "execution_count": 70,
   "metadata": {},
   "outputs": [
    {
     "name": "stdout",
     "output_type": "stream",
     "text": [
      " only: [5.474465847015381, 2.5265095233917236], 0.54\n",
      " number: [5.317539215087891, 2.001016139984131], 0.62\n",
      " go: [5.089465141296387, 1.4994947910308838], 0.71\n",
      " together: [5.0356245040893555, 1.3148210048675537], 0.74\n",
      " called: [5.020149230957031, 2.2551136016845703], 0.55\n",
      " first: [4.90256404876709, 1.4970424175262451], 0.69\n",
      " used: [4.673662185668945, 2.244145631790161], 0.52\n",
      " within: [4.504007816314697, 1.4171485900878906], 0.69\n",
      " way: [4.366443157196045, 2.463502883911133], 0.44\n",
      " out: [4.676422119140625, 4.269417762756348], 0.09\n",
      " too: [5.535670280456543, 1.2437636852264404], 0.78\n",
      " will: [5.110596656799316, 2.5018484592437744], 0.51\n",
      " right: [4.9282379150390625, 4.060005187988281], 0.18\n",
      " over: [4.796513080596924, 3.6494250297546387], 0.24\n",
      " once: [4.446409225463867, 2.2349820137023926], 0.50\n",
      " her: [4.257996559143066, 3.5485448837280273], 0.17\n",
      " class: [4.207032680511475, 2.3718488216400146], 0.44\n",
      " use: [4.197378158569336, 1.7493646144866943], 0.58\n",
      " much: [4.1964216232299805, 2.472662925720215], 0.41\n",
      " so: [6.015809535980225, 3.8565783500671387], 0.36\n",
      " state: [5.659304618835449, 2.356696605682373], 0.58\n",
      " RandomRedditor: [17.929279327392578, 16.30722427368164], 0.09\n",
      " about: [4.54641056060791, 4.186454772949219], 0.08\n",
      " following: [4.464977264404297, 2.202726125717163], 0.51\n",
      " of: [4.317080020904541, 3.613914728164673], 0.16\n",
      " after: [4.338204383850098, 4.121683597564697], 0.05\n",
      " around: [4.117260456085205, 2.5085363388061523], 0.39\n",
      " last: [4.079371452331543, 1.56065034866333], 0.62\n",
      " by: [3.955566644668579, 2.723670244216919], 0.31\n",
      " off: [6.536615371704102, 1.9651129245758057], 0.70\n",
      " down: [5.781668663024902, 3.2619690895080566], 0.44\n",
      " back: [5.680942535400391, 2.080214023590088], 0.63\n",
      " well: [5.315920829772949, 3.365367889404297], 0.37\n",
      " there: [4.88230037689209, 1.4289945363998413], 0.71\n",
      " up: [4.4557785987854, 1.7078073024749756], 0.62\n",
      " no: [4.446935653686523, 3.012023448944092], 0.32\n",
      " under: [4.142606258392334, 1.8634016513824463], 0.55\n",
      " as: [3.209127902984619, 3.1759371757507324], 0.01\n",
      " issue: [3.7914276123046875, 1.9705393314361572], 0.48\n",
      " close: [3.5296974182128906, 1.218775987625122], 0.65\n",
      " won: [3.539783000946045, 3.1016063690185547], 0.12\n",
      " high: [3.0507352352142334, 2.6536006927490234], 0.13\n",
      " very: [2.997577428817749, 1.4337756633758545], 0.52\n",
      " His: [2.837347984313965, 1.8046900033950806], 0.36\n",
      " サーティ: [17.93334197998047, 16.27036476135254], 0.09\n",
      " The: [2.5950629711151123, 2.1108484268188477], 0.19\n",
      " power: [2.5453386306762695, 2.412492275238037], 0.05\n"
     ]
    },
    {
     "data": {
      "application/vnd.plotly.v1+json": {
       "config": {
        "plotlyServerURL": "https://plot.ly"
       },
       "data": [
        {
         "hovertemplate": "Token=%{x}<br>Difference=%{y}<extra></extra>",
         "legendgroup": "",
         "marker": {
          "color": "#636efa",
          "symbol": "circle"
         },
         "mode": "markers",
         "name": "",
         "orientation": "v",
         "showlegend": false,
         "type": "scatter",
         "x": [
          0,
          1,
          2,
          3,
          4,
          5,
          6,
          7,
          8,
          9,
          10,
          11,
          12,
          13,
          14,
          15,
          16,
          17,
          18,
          19,
          20,
          21,
          22,
          23,
          24,
          25,
          26,
          27,
          28,
          29,
          30,
          31,
          32,
          33,
          34,
          35,
          36,
          37,
          38,
          39,
          40,
          41,
          42,
          43,
          44,
          45,
          46
         ],
         "xaxis": "x",
         "y": [
          0.5384920476270486,
          0.6236950854435669,
          0.7053728143525642,
          0.7388961381453666,
          0.5507875367970565,
          0.6946409261287009,
          0.5198314421030508,
          0.6853583191053517,
          0.435810155950113,
          0.087033280147745,
          0.7753183224048771,
          0.510458635800337,
          0.1761750836746889,
          0.23915040604862284,
          0.49735125572720307,
          0.16661631017330322,
          0.4362181133920608,
          0.5832244443081201,
          0.41076871017145095,
          0.3589261217461829,
          0.5835713458790056,
          0.09046961810856176,
          0.07917362122495179,
          0.5066657688768671,
          0.1628798376066554,
          0.04991023177502788,
          0.39072682781129375,
          0.6174287223166822,
          0.3114336101787196,
          0.6993684326169096,
          0.4358083661263577,
          0.6338258993771928,
          0.3669266346940617,
          0.7073112209229757,
          0.6167207897312253,
          0.3226743799526051,
          0.550186154523506,
          0.01034260030677431,
          0.4802645512627025,
          0.6547080830962002,
          0.12378629758106156,
          0.1301766662282385,
          0.5216885310144136,
          0.3639518263631551,
          0.09273102695996994,
          0.18659067224414794,
          0.05219201635380694
         ],
         "yaxis": "y"
        }
       ],
       "layout": {
        "legend": {
         "tracegroupgap": 0
        },
        "template": {
         "data": {
          "bar": [
           {
            "error_x": {
             "color": "#2a3f5f"
            },
            "error_y": {
             "color": "#2a3f5f"
            },
            "marker": {
             "line": {
              "color": "#E5ECF6",
              "width": 0.5
             },
             "pattern": {
              "fillmode": "overlay",
              "size": 10,
              "solidity": 0.2
             }
            },
            "type": "bar"
           }
          ],
          "barpolar": [
           {
            "marker": {
             "line": {
              "color": "#E5ECF6",
              "width": 0.5
             },
             "pattern": {
              "fillmode": "overlay",
              "size": 10,
              "solidity": 0.2
             }
            },
            "type": "barpolar"
           }
          ],
          "carpet": [
           {
            "aaxis": {
             "endlinecolor": "#2a3f5f",
             "gridcolor": "white",
             "linecolor": "white",
             "minorgridcolor": "white",
             "startlinecolor": "#2a3f5f"
            },
            "baxis": {
             "endlinecolor": "#2a3f5f",
             "gridcolor": "white",
             "linecolor": "white",
             "minorgridcolor": "white",
             "startlinecolor": "#2a3f5f"
            },
            "type": "carpet"
           }
          ],
          "choropleth": [
           {
            "colorbar": {
             "outlinewidth": 0,
             "ticks": ""
            },
            "type": "choropleth"
           }
          ],
          "contour": [
           {
            "colorbar": {
             "outlinewidth": 0,
             "ticks": ""
            },
            "colorscale": [
             [
              0,
              "#0d0887"
             ],
             [
              0.1111111111111111,
              "#46039f"
             ],
             [
              0.2222222222222222,
              "#7201a8"
             ],
             [
              0.3333333333333333,
              "#9c179e"
             ],
             [
              0.4444444444444444,
              "#bd3786"
             ],
             [
              0.5555555555555556,
              "#d8576b"
             ],
             [
              0.6666666666666666,
              "#ed7953"
             ],
             [
              0.7777777777777778,
              "#fb9f3a"
             ],
             [
              0.8888888888888888,
              "#fdca26"
             ],
             [
              1,
              "#f0f921"
             ]
            ],
            "type": "contour"
           }
          ],
          "contourcarpet": [
           {
            "colorbar": {
             "outlinewidth": 0,
             "ticks": ""
            },
            "type": "contourcarpet"
           }
          ],
          "heatmap": [
           {
            "colorbar": {
             "outlinewidth": 0,
             "ticks": ""
            },
            "colorscale": [
             [
              0,
              "#0d0887"
             ],
             [
              0.1111111111111111,
              "#46039f"
             ],
             [
              0.2222222222222222,
              "#7201a8"
             ],
             [
              0.3333333333333333,
              "#9c179e"
             ],
             [
              0.4444444444444444,
              "#bd3786"
             ],
             [
              0.5555555555555556,
              "#d8576b"
             ],
             [
              0.6666666666666666,
              "#ed7953"
             ],
             [
              0.7777777777777778,
              "#fb9f3a"
             ],
             [
              0.8888888888888888,
              "#fdca26"
             ],
             [
              1,
              "#f0f921"
             ]
            ],
            "type": "heatmap"
           }
          ],
          "heatmapgl": [
           {
            "colorbar": {
             "outlinewidth": 0,
             "ticks": ""
            },
            "colorscale": [
             [
              0,
              "#0d0887"
             ],
             [
              0.1111111111111111,
              "#46039f"
             ],
             [
              0.2222222222222222,
              "#7201a8"
             ],
             [
              0.3333333333333333,
              "#9c179e"
             ],
             [
              0.4444444444444444,
              "#bd3786"
             ],
             [
              0.5555555555555556,
              "#d8576b"
             ],
             [
              0.6666666666666666,
              "#ed7953"
             ],
             [
              0.7777777777777778,
              "#fb9f3a"
             ],
             [
              0.8888888888888888,
              "#fdca26"
             ],
             [
              1,
              "#f0f921"
             ]
            ],
            "type": "heatmapgl"
           }
          ],
          "histogram": [
           {
            "marker": {
             "pattern": {
              "fillmode": "overlay",
              "size": 10,
              "solidity": 0.2
             }
            },
            "type": "histogram"
           }
          ],
          "histogram2d": [
           {
            "colorbar": {
             "outlinewidth": 0,
             "ticks": ""
            },
            "colorscale": [
             [
              0,
              "#0d0887"
             ],
             [
              0.1111111111111111,
              "#46039f"
             ],
             [
              0.2222222222222222,
              "#7201a8"
             ],
             [
              0.3333333333333333,
              "#9c179e"
             ],
             [
              0.4444444444444444,
              "#bd3786"
             ],
             [
              0.5555555555555556,
              "#d8576b"
             ],
             [
              0.6666666666666666,
              "#ed7953"
             ],
             [
              0.7777777777777778,
              "#fb9f3a"
             ],
             [
              0.8888888888888888,
              "#fdca26"
             ],
             [
              1,
              "#f0f921"
             ]
            ],
            "type": "histogram2d"
           }
          ],
          "histogram2dcontour": [
           {
            "colorbar": {
             "outlinewidth": 0,
             "ticks": ""
            },
            "colorscale": [
             [
              0,
              "#0d0887"
             ],
             [
              0.1111111111111111,
              "#46039f"
             ],
             [
              0.2222222222222222,
              "#7201a8"
             ],
             [
              0.3333333333333333,
              "#9c179e"
             ],
             [
              0.4444444444444444,
              "#bd3786"
             ],
             [
              0.5555555555555556,
              "#d8576b"
             ],
             [
              0.6666666666666666,
              "#ed7953"
             ],
             [
              0.7777777777777778,
              "#fb9f3a"
             ],
             [
              0.8888888888888888,
              "#fdca26"
             ],
             [
              1,
              "#f0f921"
             ]
            ],
            "type": "histogram2dcontour"
           }
          ],
          "mesh3d": [
           {
            "colorbar": {
             "outlinewidth": 0,
             "ticks": ""
            },
            "type": "mesh3d"
           }
          ],
          "parcoords": [
           {
            "line": {
             "colorbar": {
              "outlinewidth": 0,
              "ticks": ""
             }
            },
            "type": "parcoords"
           }
          ],
          "pie": [
           {
            "automargin": true,
            "type": "pie"
           }
          ],
          "scatter": [
           {
            "fillpattern": {
             "fillmode": "overlay",
             "size": 10,
             "solidity": 0.2
            },
            "type": "scatter"
           }
          ],
          "scatter3d": [
           {
            "line": {
             "colorbar": {
              "outlinewidth": 0,
              "ticks": ""
             }
            },
            "marker": {
             "colorbar": {
              "outlinewidth": 0,
              "ticks": ""
             }
            },
            "type": "scatter3d"
           }
          ],
          "scattercarpet": [
           {
            "marker": {
             "colorbar": {
              "outlinewidth": 0,
              "ticks": ""
             }
            },
            "type": "scattercarpet"
           }
          ],
          "scattergeo": [
           {
            "marker": {
             "colorbar": {
              "outlinewidth": 0,
              "ticks": ""
             }
            },
            "type": "scattergeo"
           }
          ],
          "scattergl": [
           {
            "marker": {
             "colorbar": {
              "outlinewidth": 0,
              "ticks": ""
             }
            },
            "type": "scattergl"
           }
          ],
          "scattermapbox": [
           {
            "marker": {
             "colorbar": {
              "outlinewidth": 0,
              "ticks": ""
             }
            },
            "type": "scattermapbox"
           }
          ],
          "scatterpolar": [
           {
            "marker": {
             "colorbar": {
              "outlinewidth": 0,
              "ticks": ""
             }
            },
            "type": "scatterpolar"
           }
          ],
          "scatterpolargl": [
           {
            "marker": {
             "colorbar": {
              "outlinewidth": 0,
              "ticks": ""
             }
            },
            "type": "scatterpolargl"
           }
          ],
          "scatterternary": [
           {
            "marker": {
             "colorbar": {
              "outlinewidth": 0,
              "ticks": ""
             }
            },
            "type": "scatterternary"
           }
          ],
          "surface": [
           {
            "colorbar": {
             "outlinewidth": 0,
             "ticks": ""
            },
            "colorscale": [
             [
              0,
              "#0d0887"
             ],
             [
              0.1111111111111111,
              "#46039f"
             ],
             [
              0.2222222222222222,
              "#7201a8"
             ],
             [
              0.3333333333333333,
              "#9c179e"
             ],
             [
              0.4444444444444444,
              "#bd3786"
             ],
             [
              0.5555555555555556,
              "#d8576b"
             ],
             [
              0.6666666666666666,
              "#ed7953"
             ],
             [
              0.7777777777777778,
              "#fb9f3a"
             ],
             [
              0.8888888888888888,
              "#fdca26"
             ],
             [
              1,
              "#f0f921"
             ]
            ],
            "type": "surface"
           }
          ],
          "table": [
           {
            "cells": {
             "fill": {
              "color": "#EBF0F8"
             },
             "line": {
              "color": "white"
             }
            },
            "header": {
             "fill": {
              "color": "#C8D4E3"
             },
             "line": {
              "color": "white"
             }
            },
            "type": "table"
           }
          ]
         },
         "layout": {
          "annotationdefaults": {
           "arrowcolor": "#2a3f5f",
           "arrowhead": 0,
           "arrowwidth": 1
          },
          "autotypenumbers": "strict",
          "coloraxis": {
           "colorbar": {
            "outlinewidth": 0,
            "ticks": ""
           }
          },
          "colorscale": {
           "diverging": [
            [
             0,
             "#8e0152"
            ],
            [
             0.1,
             "#c51b7d"
            ],
            [
             0.2,
             "#de77ae"
            ],
            [
             0.3,
             "#f1b6da"
            ],
            [
             0.4,
             "#fde0ef"
            ],
            [
             0.5,
             "#f7f7f7"
            ],
            [
             0.6,
             "#e6f5d0"
            ],
            [
             0.7,
             "#b8e186"
            ],
            [
             0.8,
             "#7fbc41"
            ],
            [
             0.9,
             "#4d9221"
            ],
            [
             1,
             "#276419"
            ]
           ],
           "sequential": [
            [
             0,
             "#0d0887"
            ],
            [
             0.1111111111111111,
             "#46039f"
            ],
            [
             0.2222222222222222,
             "#7201a8"
            ],
            [
             0.3333333333333333,
             "#9c179e"
            ],
            [
             0.4444444444444444,
             "#bd3786"
            ],
            [
             0.5555555555555556,
             "#d8576b"
            ],
            [
             0.6666666666666666,
             "#ed7953"
            ],
            [
             0.7777777777777778,
             "#fb9f3a"
            ],
            [
             0.8888888888888888,
             "#fdca26"
            ],
            [
             1,
             "#f0f921"
            ]
           ],
           "sequentialminus": [
            [
             0,
             "#0d0887"
            ],
            [
             0.1111111111111111,
             "#46039f"
            ],
            [
             0.2222222222222222,
             "#7201a8"
            ],
            [
             0.3333333333333333,
             "#9c179e"
            ],
            [
             0.4444444444444444,
             "#bd3786"
            ],
            [
             0.5555555555555556,
             "#d8576b"
            ],
            [
             0.6666666666666666,
             "#ed7953"
            ],
            [
             0.7777777777777778,
             "#fb9f3a"
            ],
            [
             0.8888888888888888,
             "#fdca26"
            ],
            [
             1,
             "#f0f921"
            ]
           ]
          },
          "colorway": [
           "#636efa",
           "#EF553B",
           "#00cc96",
           "#ab63fa",
           "#FFA15A",
           "#19d3f3",
           "#FF6692",
           "#B6E880",
           "#FF97FF",
           "#FECB52"
          ],
          "font": {
           "color": "#2a3f5f"
          },
          "geo": {
           "bgcolor": "white",
           "lakecolor": "white",
           "landcolor": "#E5ECF6",
           "showlakes": true,
           "showland": true,
           "subunitcolor": "white"
          },
          "hoverlabel": {
           "align": "left"
          },
          "hovermode": "closest",
          "mapbox": {
           "style": "light"
          },
          "paper_bgcolor": "white",
          "plot_bgcolor": "#E5ECF6",
          "polar": {
           "angularaxis": {
            "gridcolor": "white",
            "linecolor": "white",
            "ticks": ""
           },
           "bgcolor": "#E5ECF6",
           "radialaxis": {
            "gridcolor": "white",
            "linecolor": "white",
            "ticks": ""
           }
          },
          "scene": {
           "xaxis": {
            "backgroundcolor": "#E5ECF6",
            "gridcolor": "white",
            "gridwidth": 2,
            "linecolor": "white",
            "showbackground": true,
            "ticks": "",
            "zerolinecolor": "white"
           },
           "yaxis": {
            "backgroundcolor": "#E5ECF6",
            "gridcolor": "white",
            "gridwidth": 2,
            "linecolor": "white",
            "showbackground": true,
            "ticks": "",
            "zerolinecolor": "white"
           },
           "zaxis": {
            "backgroundcolor": "#E5ECF6",
            "gridcolor": "white",
            "gridwidth": 2,
            "linecolor": "white",
            "showbackground": true,
            "ticks": "",
            "zerolinecolor": "white"
           }
          },
          "shapedefaults": {
           "line": {
            "color": "#2a3f5f"
           }
          },
          "ternary": {
           "aaxis": {
            "gridcolor": "white",
            "linecolor": "white",
            "ticks": ""
           },
           "baxis": {
            "gridcolor": "white",
            "linecolor": "white",
            "ticks": ""
           },
           "bgcolor": "#E5ECF6",
           "caxis": {
            "gridcolor": "white",
            "linecolor": "white",
            "ticks": ""
           }
          },
          "title": {
           "x": 0.05
          },
          "xaxis": {
           "automargin": true,
           "gridcolor": "white",
           "linecolor": "white",
           "ticks": "",
           "title": {
            "standoff": 15
           },
           "zerolinecolor": "white",
           "zerolinewidth": 2
          },
          "yaxis": {
           "automargin": true,
           "gridcolor": "white",
           "linecolor": "white",
           "ticks": "",
           "title": {
            "standoff": 15
           },
           "zerolinecolor": "white",
           "zerolinewidth": 2
          }
         }
        },
        "title": {
         "text": "Difference in Dot Product between Top Two Neurons"
        },
        "xaxis": {
         "anchor": "y",
         "domain": [
          0,
          1
         ],
         "title": {
          "text": "Token"
         }
        },
        "yaxis": {
         "anchor": "x",
         "domain": [
          0,
          1
         ],
         "title": {
          "text": "Difference"
         }
        }
       }
      }
     },
     "metadata": {},
     "output_type": "display_data"
    }
   ],
   "source": [
    "diff_percentages = []\n",
    "token_to_diff_percentage = {}\n",
    "for token, (top_dot_product,) in token_to_top_two.items():\n",
    "    print(f\"{token}: {top_dot_product}, {(top_dot_product[0]-top_dot_product[1])/top_dot_product[0]:.2f}\")\n",
    "    diff_percentages.append((top_dot_product[0]-top_dot_product[1])/top_dot_product[0])\n",
    "\n",
    "scatter(torch.arange(len(diff_percentages)), diff_percentages, xaxis=\"Token\", yaxis=\"Difference\", title=\"Difference in Dot Product between Top Two Neurons\")"
   ]
  },
  {
   "cell_type": "code",
   "execution_count": 7,
   "metadata": {},
   "outputs": [
    {
     "ename": "NameError",
     "evalue": "name 'embedding_diffs' is not defined",
     "output_type": "error",
     "traceback": [
      "\u001b[0;31m---------------------------------------------------------------------------\u001b[0m",
      "\u001b[0;31mNameError\u001b[0m                                 Traceback (most recent call last)",
      "Cell \u001b[0;32mIn[7], line 6\u001b[0m\n\u001b[1;32m      3\u001b[0m \u001b[39m# Embedding diffs\u001b[39;00m\n\u001b[1;32m      4\u001b[0m \u001b[39m# embedding_diffs = {}\u001b[39;00m\n\u001b[1;32m      5\u001b[0m \u001b[39mfor\u001b[39;00m token_id \u001b[39min\u001b[39;00m \u001b[39mrange\u001b[39m(embeddings\u001b[39m.\u001b[39mshape[\u001b[39m1\u001b[39m]):\n\u001b[0;32m----> 6\u001b[0m     \u001b[39mif\u001b[39;00m token_id \u001b[39min\u001b[39;00m embedding_diffs\u001b[39m.\u001b[39mkeys(): \u001b[39mcontinue\u001b[39;00m\n\u001b[1;32m      7\u001b[0m     token_embedding \u001b[39m=\u001b[39m embeddings[:, token_id]\n\u001b[1;32m      9\u001b[0m     n_layer_neurons \u001b[39m=\u001b[39m model\u001b[39m.\u001b[39mW_out[\u001b[39m31\u001b[39m:, :, :]\n",
      "\u001b[0;31mNameError\u001b[0m: name 'embedding_diffs' is not defined"
     ]
    }
   ],
   "source": [
    "embeddings = model.W_U\n",
    "\n",
    "# Embedding diffs\n",
    "embedding_diffs = {}\n",
    "for token_id in range(embeddings.shape[1]):\n",
    "    if token_id in embedding_diffs.keys(): continue\n",
    "    token_embedding = embeddings[:, token_id]\n",
    "\n",
    "    n_layer_neurons = model.W_out[31:, :, :]\n",
    "    # Stack the first dimension\n",
    "    n_layer_neurons = einops.rearrange(n_layer_neurons, \"layer neuron embed -> (layer neuron) embed\")\n",
    "    dot_products = einsum(\"neuron embed, embed token -> neuron token\", n_layer_neurons, token_embedding.unsqueeze(1)).squeeze()\n",
    "\n",
    "    top_dot_product, indices = torch.topk(dot_products, k=2)\n",
    "    embedding_diffs[token_id] = (top_dot_product[0]-top_dot_product[1])/top_dot_product[0]"
   ]
  },
  {
   "cell_type": "code",
   "execution_count": 133,
   "metadata": {},
   "outputs": [
    {
     "name": "stdout",
     "output_type": "stream",
     "text": [
      "{'s': tensor(0.7794), ' too': tensor(0.7753), 'ing': tensor(0.7422), ' together': tensor(0.7389), '/?': tensor(0.7375), 'i': tensor(0.7341), 'anical': tensor(0.7298), '/#': tensor(0.7208), ' there': tensor(0.7073), ' go': tensor(0.7054), './': tensor(0.7003), ' off': tensor(0.6994), ' Off': tensor(0.6974), ' first': tensor(0.6946), 'anism': tensor(0.6939), '/': tensor(0.6937), '/\"': tensor(0.6906), ' into': tensor(0.6898), ' Goes': tensor(0.6885), ' within': tensor(0.6854), '!': tensor(0.6851), 'y': tensor(0.6849), 'is': tensor(0.6845), ' Number': tensor(0.6815), 'OFF': tensor(0.6812), 'BACK': tensor(0.6812), ' Too': tensor(0.6811), ' experience': tensor(0.6807), 'es': tensor(0.6803), 'while': tensor(0.6791), 'Off': tensor(0.6786), 'offs': tensor(0.6768), 'et': tensor(0.6713), '!]': tensor(0.6685), ' A': tensor(0.6673), 'together': tensor(0.6670), '/,': tensor(0.6660), '!!!!!!!!': tensor(0.6646), ' whats': tensor(0.6637), '/_': tensor(0.6637), ' k': tensor(0.6632), '!!': tensor(0.6617), ' correctly': tensor(0.6601), ' properly': tensor(0.6599), ' Go': tensor(0.6593), ' OFF': tensor(0.6591), 'o': tensor(0.6587), '!!!!!': tensor(0.6576), ' bill': tensor(0.6573), '\"!': tensor(0.6567)}\n"
     ]
    }
   ],
   "source": [
    "token_to_diff = {}\n",
    "# Get the top ten keys with the highest embedding diff\n",
    "top_ten_keys = sorted(embedding_diffs, key=embedding_diffs.get, reverse=True)[:50]\n",
    "# Get the top ten tokens with the highest embedding diff\n",
    "\n",
    "for key in top_ten_keys:\n",
    "    diff = embedding_diffs[key]\n",
    "    token_to_diff[model.to_string(key)] = diff\n",
    "\n",
    "print(token_to_diff)"
   ]
  },
  {
   "cell_type": "code",
   "execution_count": null,
   "metadata": {},
   "outputs": [],
   "source": [
    "new_tokens_dict = {new_token: False for new_token in token_to_diff.keys()}"
   ]
  },
  {
   "cell_type": "code",
   "execution_count": null,
   "metadata": {},
   "outputs": [],
   "source": []
  },
  {
   "cell_type": "code",
   "execution_count": 176,
   "metadata": {},
   "outputs": [
    {
     "data": {
      "text/plain": [
       "{'s': False,\n",
       " ' too': True,\n",
       " 'ing': False,\n",
       " ' together': True,\n",
       " '/?': False,\n",
       " 'i': False,\n",
       " 'anical': False,\n",
       " '/#': False,\n",
       " ' there': True,\n",
       " ' go': True,\n",
       " './': False,\n",
       " ' off': True,\n",
       " ' Off': True,\n",
       " ' first': True,\n",
       " 'anism': False,\n",
       " '/': False,\n",
       " '/\"': False,\n",
       " ' into': True,\n",
       " ' Goes': True,\n",
       " ' within': True,\n",
       " '!': False,\n",
       " 'y': False,\n",
       " 'is': False,\n",
       " ' Number': True,\n",
       " 'OFF': False,\n",
       " 'BACK': False,\n",
       " ' Too': True,\n",
       " ' experience': True,\n",
       " 'es': False,\n",
       " 'while': False,\n",
       " 'Off': False,\n",
       " 'offs': False,\n",
       " 'et': False,\n",
       " '!]': False,\n",
       " ' A': False,\n",
       " 'together': False,\n",
       " '/,': False,\n",
       " '!!!!!!!!': False,\n",
       " ' whats': True,\n",
       " '/_': False,\n",
       " ' k': False,\n",
       " '!!': False,\n",
       " ' correctly': True,\n",
       " ' properly': True,\n",
       " ' Go': True,\n",
       " ' OFF': False,\n",
       " 'o': False,\n",
       " '!!!!!': False,\n",
       " ' bill': True,\n",
       " '\"!': False}"
      ]
     },
     "execution_count": 176,
     "metadata": {},
     "output_type": "execute_result"
    }
   ],
   "source": [
    "# new_tokens_dict = {new_token: False for new_token in token_to_diff.keys()}\n",
    "new_tokens_dict[' whats'] = True\n",
    "new_tokens_dict"
   ]
  },
  {
   "cell_type": "code",
   "execution_count": 177,
   "metadata": {},
   "outputs": [],
   "source": [
    "# Get all of the True tokens\n",
    "true_tokens = [token for token, is_true in new_tokens_dict.items() if is_true]\n"
   ]
  },
  {
   "cell_type": "code",
   "execution_count": null,
   "metadata": {},
   "outputs": [],
   "source": []
  },
  {
   "cell_type": "code",
   "execution_count": 153,
   "metadata": {},
   "outputs": [
    {
     "name": "stdout",
     "output_type": "stream",
     "text": [
      "s not included\n",
      " too is included\n",
      "ing not included\n",
      " together is included\n",
      "/? not included\n",
      "i not included\n",
      "anical not included\n",
      "/# not included\n",
      " there is included\n",
      " go is included\n",
      "./ not included\n",
      " off is included\n",
      " Off not included\n",
      " first is included\n",
      "anism not included\n",
      "/ not included\n",
      "/\" not included\n",
      " into not included\n",
      " Goes not included\n",
      " within is included\n",
      "! not included\n",
      "y not included\n",
      "is not included\n",
      " Number not included\n",
      "OFF not included\n",
      "BACK not included\n",
      " Too not included\n",
      " experience not included\n",
      "es not included\n",
      "while not included\n",
      "Off not included\n",
      "offs not included\n",
      "et not included\n",
      "!] not included\n",
      " A not included\n",
      "together not included\n",
      "/, not included\n",
      "!!!!!!!! not included\n",
      " whats not included\n",
      "/_ not included\n",
      " k not included\n",
      "!! not included\n",
      " correctly not included\n",
      " properly not included\n",
      " Go not included\n",
      " OFF not included\n",
      "o not included\n",
      "!!!!! not included\n",
      " bill not included\n",
      "\"! not included\n"
     ]
    }
   ],
   "source": [
    "og_tokens = list(token_to_embedding_dict.keys())\n",
    "new_tokens = list(token_to_diff.keys())\n",
    "\n",
    "for token in new_tokens:\n",
    "    if token in og_tokens:\n",
    "        print(token, \"is included\")\n",
    "    else:\n",
    "        print(token, \"not included\")"
   ]
  },
  {
   "cell_type": "code",
   "execution_count": 178,
   "metadata": {},
   "outputs": [
    {
     "data": {
      "text/plain": [
       "7"
      ]
     },
     "execution_count": 178,
     "metadata": {},
     "output_type": "execute_result"
    }
   ],
   "source": [
    "# Check how many tokens are in both\n",
    "len(set(og_tokens).intersection(set(true_tokens)))"
   ]
  },
  {
   "cell_type": "code",
   "execution_count": 180,
   "metadata": {},
   "outputs": [
    {
     "data": {
      "text/plain": [
       "[' only',\n",
       " ' number',\n",
       " ' go',\n",
       " ' together',\n",
       " ' called',\n",
       " ' first',\n",
       " ' used',\n",
       " ' within',\n",
       " ' way',\n",
       " ' out',\n",
       " ' too',\n",
       " ' will',\n",
       " ' right',\n",
       " ' over',\n",
       " ' once',\n",
       " ' her',\n",
       " ' class',\n",
       " ' use',\n",
       " ' much',\n",
       " ' so',\n",
       " ' state',\n",
       " ' RandomRedditor',\n",
       " ' about',\n",
       " ' following',\n",
       " ' of',\n",
       " ' after',\n",
       " ' around',\n",
       " ' last',\n",
       " ' by',\n",
       " ' off',\n",
       " ' down',\n",
       " ' back',\n",
       " ' well',\n",
       " ' there',\n",
       " ' up',\n",
       " ' no',\n",
       " ' under',\n",
       " ' as',\n",
       " ' issue',\n",
       " ' close',\n",
       " ' won',\n",
       " ' high',\n",
       " ' very',\n",
       " ' His',\n",
       " ' サーティ',\n",
       " ' The',\n",
       " ' power']"
      ]
     },
     "execution_count": 180,
     "metadata": {},
     "output_type": "execute_result"
    }
   ],
   "source": [
    "og_tokens"
   ]
  },
  {
   "cell_type": "code",
   "execution_count": 6,
   "metadata": {},
   "outputs": [],
   "source": [
    "embeddings = model.W_U\n",
    "embeddings.shape # hidden_dim, vocab_size\n",
    "# n_layer_neurons.shape # neurons_per_layer * 5, hidden_dim\n",
    "all_neurons = model.W_out\n",
    "tokens_mps = embeddings.detach().to(\"mps\")\n",
    "\n",
    "dot_products = []\n",
    "tokens_dict = {i: (0,0) for i in range(embeddings.shape[1])}\n",
    "\n",
    "for i, layer in enumerate(range(all_neurons.shape[0])): # for each layer\n",
    "    layer_neurons = all_neurons[layer].detach().to(\"mps\") # Get the neurons of the layer\n",
    "    dot_product = layer_neurons @ tokens_mps # Do the dot product\n",
    "    for j in range(dot_product.shape[1]):  # for each token\n",
    "        token_dot_product = dot_product[:, j] # Get the dot product for each token\n",
    "        mag, index = torch.topk(token_dot_product, k=1) # Get the max dot product\n",
    "        if tokens_dict[j][1] < mag: # If the current max dot product is less than the new one\n",
    "            tokens_dict[j] = (layer, mag.item()) # Update the dict\n",
    "\n",
    "\n",
    "\n",
    "# Get the dot product between each neuron and each embedding\n",
    "# dot_products = einsum(\"neuron embed, embed token -> token neuron\", all_neurons_flat, embeddings)\n",
    "# Argmax by the neuron dimension\n",
    "# top_dot_products, top_indices = torch.topk(dot_products, k=1, dim=-1)\n",
    "\n",
    "# Plot top indices by \n"
   ]
  },
  {
   "cell_type": "code",
   "execution_count": 7,
   "metadata": {},
   "outputs": [],
   "source": [
    "layers = [v[0] for k,v in tokens_dict.items()]"
   ]
  },
  {
   "cell_type": "code",
   "execution_count": 9,
   "metadata": {},
   "outputs": [
    {
     "data": {
      "image/png": "[encoded data removed]",
      "text/plain": [
       "<Figure size 640x480 with 1 Axes>"
      ]
     },
     "metadata": {},
     "output_type": "display_data"
    }
   ],
   "source": [
    "from collections import Counter\n",
    "count = Counter(layers)\n",
    "from matplotlib import pyplot as plt\n",
    "\n",
    "plt.bar(count.keys(), count.values())\n",
    "plt.title(\"No. of tokens with its highest S_i neuron in a given layer\")\n",
    "plt.xlabel(\"Layer No.\")\n",
    "plt.ylabel(\"Number of Tokens\")\n",
    "\n",
    "# Save the plot\n",
    "plt.savefig(\"next_token_neurons_over_layers.png\")\n",
    "# Save as pdf\n",
    "plt.savefig(\"next_token_neurons_over_layers.pdf\")"
   ]
  },
  {
   "cell_type": "code",
   "execution_count": null,
   "metadata": {},
   "outputs": [],
   "source": []
  },
  {
   "cell_type": "code",
   "execution_count": 56,
   "metadata": {},
   "outputs": [
    {
     "name": "stdout",
     "output_type": "stream",
     "text": [
      "0.4770081779652586\n"
     ]
    }
   ],
   "source": [
    "print((count[31]+count[32]+count[33]+count[34]+count[35])/sum(count.values()))"
   ]
  },
  {
   "cell_type": "code",
   "execution_count": 57,
   "metadata": {},
   "outputs": [
    {
     "data": {
      "text/plain": [
       "Counter({33: 2638,\n",
       "         28: 3669,\n",
       "         25: 2699,\n",
       "         29: 3356,\n",
       "         22: 1369,\n",
       "         30: 4121,\n",
       "         31: 3305,\n",
       "         26: 3507,\n",
       "         35: 8872,\n",
       "         34: 5996,\n",
       "         32: 3162,\n",
       "         27: 2591,\n",
       "         20: 303,\n",
       "         19: 411,\n",
       "         23: 1289,\n",
       "         7: 1,\n",
       "         24: 2066,\n",
       "         2: 49,\n",
       "         21: 661,\n",
       "         10: 11,\n",
       "         17: 51,\n",
       "         13: 6,\n",
       "         8: 3,\n",
       "         18: 85,\n",
       "         16: 26,\n",
       "         9: 1,\n",
       "         5: 3,\n",
       "         15: 4,\n",
       "         4: 2})"
      ]
     },
     "execution_count": 57,
     "metadata": {},
     "output_type": "execute_result"
    }
   ],
   "source": [
    "count"
   ]
  },
  {
   "cell_type": "code",
   "execution_count": 135,
   "metadata": {},
   "outputs": [],
   "source": [
    "with open(\"./data/neuron_finder_results.json\", \"r\") as f:\n",
    "    neurons_json = json.load(f)"
   ]
  },
  {
   "cell_type": "code",
   "execution_count": 14,
   "metadata": {},
   "outputs": [],
   "source": [
    "with open(\"neuron_finder_results.json\", \"w\") as f:\n",
    "    json.dump(results, f)"
   ]
  }
 ],
 "metadata": {
  "kernelspec": {
   "display_name": "aan",
   "language": "python",
   "name": "python3"
  },
  "language_info": {
   "codemirror_mode": {
    "name": "ipython",
    "version": 3
   },
   "file_extension": ".py",
   "mimetype": "text/x-python",
   "name": "python",
   "nbconvert_exporter": "python",
   "pygments_lexer": "ipython3",
   "version": "3.10.9"
  },
  "orig_nbformat": 4
 },
 "nbformat": 4,
 "nbformat_minor": 2
}
