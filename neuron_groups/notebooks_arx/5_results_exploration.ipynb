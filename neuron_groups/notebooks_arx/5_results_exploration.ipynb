{
 "cells": [
  {
   "attachments": {},
   "cell_type": "markdown",
   "metadata": {},
   "source": [
    "Deprecated, will cleanup later"
   ]
  },
  {
   "attachments": {},
   "cell_type": "markdown",
   "metadata": {},
   "source": [
    "# Setup"
   ]
  },
  {
   "cell_type": "code",
   "execution_count": 2,
   "metadata": {},
   "outputs": [
    {
     "name": "stdout",
     "output_type": "stream",
     "text": [
      "Running as a Jupyter notebook\n"
     ]
    }
   ],
   "source": [
    "import plotly.io as pio\n",
    "try:\n",
    "    import google.colab\n",
    "    print(\"Running as a Colab notebook\")\n",
    "    pio.renderers.default = \"colab\"\n",
    "    %pip install transformer-lens fancy-einsum\n",
    "    %pip install -U kaleido # kaleido only works if you restart the runtime. Required to write figures to disk (final cell)\n",
    "except:\n",
    "    print(\"Running as a Jupyter notebook\")\n",
    "    pio.renderers.default = \"vscode\"\n",
    "    from IPython import get_ipython\n",
    "    ipython = get_ipython()"
   ]
  },
  {
   "cell_type": "code",
   "execution_count": 3,
   "metadata": {},
   "outputs": [
    {
     "data": {
      "text/plain": [
       "device(type='cpu')"
      ]
     },
     "execution_count": 3,
     "metadata": {},
     "output_type": "execute_result"
    }
   ],
   "source": [
    "import torch\n",
    "from fancy_einsum import einsum\n",
    "from transformer_lens import HookedTransformer, HookedTransformerConfig, utils, ActivationCache\n",
    "from torchtyping import TensorType as TT\n",
    "import plotly.express as px\n",
    "import plotly.graph_objects as go\n",
    "import numpy as np\n",
    "import einops\n",
    "from typing import List, Union, Optional\n",
    "from functools import partial\n",
    "import pandas as pd\n",
    "from pathlib import Path\n",
    "import urllib.request\n",
    "from bs4 import BeautifulSoup\n",
    "from tqdm import tqdm\n",
    "from datasets import load_dataset\n",
    "import os\n",
    "import json\n",
    "\n",
    "os.environ[\"TOKENIZERS_PARALLELISM\"] = \"false\" # https://stackoverflow.com/q/62691279\n",
    "torch.set_grad_enabled(False)\n",
    "device = torch.device(\"cuda\" if torch.cuda.is_available() else \"cpu\")\n",
    "device"
   ]
  },
  {
   "cell_type": "code",
   "execution_count": 4,
   "metadata": {},
   "outputs": [
    {
     "name": "stdout",
     "output_type": "stream",
     "text": [
      "Requirement already satisfied: circuitsvis in /Users/clementneo/projects/aan/aan/lib/python3.10/site-packages (1.39.1)\n",
      "Requirement already satisfied: torch<2.0,>=1.10 in /Users/clementneo/projects/aan/aan/lib/python3.10/site-packages (from circuitsvis) (1.13.1)\n",
      "Requirement already satisfied: importlib-metadata<6.0.0,>=5.1.0 in /Users/clementneo/projects/aan/aan/lib/python3.10/site-packages (from circuitsvis) (5.2.0)\n",
      "Requirement already satisfied: numpy<2.0,>=1.23 in /Users/clementneo/projects/aan/aan/lib/python3.10/site-packages (from circuitsvis) (1.24.1)\n",
      "Requirement already satisfied: zipp>=0.5 in /Users/clementneo/projects/aan/aan/lib/python3.10/site-packages (from importlib-metadata<6.0.0,>=5.1.0->circuitsvis) (3.14.0)\n",
      "Requirement already satisfied: typing-extensions in /Users/clementneo/projects/aan/aan/lib/python3.10/site-packages (from torch<2.0,>=1.10->circuitsvis) (4.4.0)\n",
      "\n",
      "\u001b[1m[\u001b[0m\u001b[34;49mnotice\u001b[0m\u001b[1;39;49m]\u001b[0m\u001b[39;49m A new release of pip is available: \u001b[0m\u001b[31;49m23.0.1\u001b[0m\u001b[39;49m -> \u001b[0m\u001b[32;49m23.1.2\u001b[0m\n",
      "\u001b[1m[\u001b[0m\u001b[34;49mnotice\u001b[0m\u001b[1;39;49m]\u001b[0m\u001b[39;49m To update, run: \u001b[0m\u001b[32;49mpip install --upgrade pip\u001b[0m\n"
     ]
    }
   ],
   "source": [
    "!pip install circuitsvis\n",
    "import circuitsvis as cv"
   ]
  },
  {
   "cell_type": "code",
   "execution_count": 5,
   "metadata": {},
   "outputs": [],
   "source": [
    "pio.renderers.default='vscode'\n",
    "\n",
    "def imshow(tensor, renderer=None, **kwargs):\n",
    "    px.imshow(utils.to_numpy(tensor), color_continuous_midpoint=0.0, color_continuous_scale=\"RdBu\", **kwargs).show(renderer)\n",
    "\n",
    "def line(tensor, renderer=None, **kwargs):\n",
    "    px.line(y=utils.to_numpy(tensor), **kwargs).show(renderer)\n",
    "\n",
    "def scatter(x, y, xaxis=\"\", yaxis=\"\", caxis=\"\", renderer=None, **kwargs):\n",
    "    x = utils.to_numpy(x)\n",
    "    y = utils.to_numpy(y)\n",
    "    px.scatter(y=y, x=x, labels={\"x\":xaxis, \"y\":yaxis, \"color\":caxis}, **kwargs).show(renderer)"
   ]
  },
  {
   "cell_type": "code",
   "execution_count": 81,
   "metadata": {},
   "outputs": [
    {
     "name": "stderr",
     "output_type": "stream",
     "text": [
      "Using pad_token, but it is not set yet.\n"
     ]
    },
    {
     "name": "stdout",
     "output_type": "stream",
     "text": [
      "Loaded pretrained model gpt2-large into HookedTransformer\n"
     ]
    }
   ],
   "source": [
    "model = HookedTransformer.from_pretrained(\n",
    "    \"gpt2-large\",\n",
    "    center_unembed=True,\n",
    "    center_writing_weights=True,\n",
    "    fold_ln=True,\n",
    "    refactor_factored_attn_matrices=True,\n",
    "    device=device,\n",
    ")"
   ]
  },
  {
   "attachments": {},
   "cell_type": "markdown",
   "metadata": {},
   "source": [
    "## Generate Prompts For GPT-4 Example Generation"
   ]
  },
  {
   "cell_type": "code",
   "execution_count": 82,
   "metadata": {},
   "outputs": [],
   "source": [
    "# Relevant Files\n",
    "# iteration_prompts_ref_1.pkl is the result, with {head: [positive gen, negative gen, positive evaled, negative evaled]}\n",
    "# head_explanation_1_nh_to_exp. json is the generated explanation, with {head: \"explanation\"}"
   ]
  },
  {
   "cell_type": "code",
   "execution_count": 6,
   "metadata": {},
   "outputs": [],
   "source": [
    "import pickle\n",
    "with open(\"data/iteration_prompts_ref_1.pkl\", \"rb\") as f:\n",
    "    generation_eval = pickle.load(f)\n",
    "\n",
    "with open(\"data/head_explanation_1_nh_to_exp.json\", \"rb\") as f:\n",
    "    nh_to_explanation = json.load(f)\n",
    "\n",
    "nh_to_explanation = {tuple(int(value.strip()) for value in k.strip('()').split(',')): v for k,v in nh_to_explanation.items()}\n",
    "\n",
    "with open(\"data/neuron_finder_results.json\", \"r\") as f:\n",
    "    neuron_finder_results = json.load(f)\n",
    "\n",
    "with open(\"data/head_explanation_1_prompts.json\", \"r\") as f:\n",
    "    given_categories = json.load(f)\n",
    "\n",
    "given_categories = {tuple(int(value.strip()) for value in k.strip('()').split(',')): v for k,v in given_categories.items()}\n",
    "\n",
    "with open(\"data/categorised_prompts_1.pkl\", \"rb\") as f:\n",
    "    categorised_prompts = pickle.load(f)\n",
    "\n",
    "\n",
    "neuron_to_token = {}\n",
    "\n",
    "for layer in neuron_finder_results.keys():\n",
    "    for neuron_ind in neuron_finder_results[layer].keys():\n",
    "        neuron_to_token[(int(layer), int(neuron_ind))] = neuron_finder_results[layer][neuron_ind][0]\n",
    "\n",
    "with open(\"data/head_explanation_1_prompts.json\", \"r\") as f:\n",
    "    max_activating_categorised = json.load(f)\n",
    "\n",
    "max_activating_categorised = {tuple(int(value.strip()) for value in k.strip('()').split(',')): v for k,v in max_activating_categorised.items()}"
   ]
  },
  {
   "cell_type": "code",
   "execution_count": null,
   "metadata": {},
   "outputs": [],
   "source": []
  },
  {
   "cell_type": "code",
   "execution_count": 7,
   "metadata": {},
   "outputs": [
    {
     "name": "stdout",
     "output_type": "stream",
     "text": [
      "0.5884469696969696\n",
      "0.405965909090909\n",
      "0.7704545454545454\n",
      "0.411324878114303\n",
      "0.5882102272727273\n"
     ]
    }
   ],
   "source": [
    "accuracies = {}\n",
    "accuracy_balanced = {}\n",
    "accuracies_positive = {}\n",
    "accuracies_negative = {}\n",
    "f1s = {}\n",
    "for head, (pred_pos, pred_neg, correct_pos, correct_neg) in generation_eval.items():\n",
    "    cat_prompts_positive, cat_prompts_negative = categorised_prompts[head]\n",
    "    # if len(cat_prompts_positive)/(len(cat_prompts_positive)+len(cat_prompts_negative)) > 0.75:\n",
    "    #     print(\"SKIP\")\n",
    "    #     continue\n",
    "\n",
    "    true_pos = 0\n",
    "    true_neg = 0\n",
    "    false_pos = 0\n",
    "    false_neg = 0\n",
    "    for eg in pred_pos:\n",
    "        if eg in correct_pos:\n",
    "            true_pos += 1\n",
    "        else:\n",
    "            false_pos += 1\n",
    "    for eg in pred_neg:\n",
    "        if eg in correct_neg:\n",
    "            true_neg += 1\n",
    "        else:\n",
    "            false_neg += 1\n",
    "\n",
    "    accuracy = (true_pos + true_neg) / (true_pos + true_neg + false_pos + false_neg)\n",
    "    accuracy_positive = true_pos / (true_pos + false_pos)\n",
    "    accuracy_negative = true_neg / (true_neg + false_neg)\n",
    "    precision = true_pos / (true_pos + false_pos)\n",
    "\n",
    "    # accuracies_positive.append(accuracy_positive)\n",
    "    accuracies_positive[head] = accuracy_positive\n",
    "    accuracies_negative[head] = accuracy_negative\n",
    "    accuracy_balanced[head] = (accuracy_positive+accuracy_negative)/2\n",
    "    accuracies[head] = (accuracy)\n",
    "    f1 = 2 * true_pos / (2 * true_pos + false_pos + false_neg)\n",
    "    f1s[head] = (f1)\n",
    "\n",
    "\n",
    "\n",
    "print(np.mean(list(accuracies.values())))\n",
    "print(np.mean(list(accuracies_positive.values())))\n",
    "print(np.mean(list(accuracies_negative.values())))\n",
    "print(np.mean(list(f1s.values())))\n",
    "print(np.mean(list(accuracy_balanced.values())))"
   ]
  },
  {
   "cell_type": "code",
   "execution_count": 8,
   "metadata": {},
   "outputs": [
    {
     "data": {
      "application/vnd.plotly.v1+json": {
       "config": {
        "plotlyServerURL": "https://plot.ly"
       },
       "data": [
        {
         "hovertemplate": "=%{y}<extra></extra>",
         "legendgroup": "",
         "marker": {
          "color": "#636efa",
          "symbol": "circle"
         },
         "mode": "markers",
         "name": "",
         "orientation": "v",
         "showlegend": false,
         "type": "scatter",
         "x": [
          0,
          1,
          2,
          3,
          4,
          5,
          6,
          7,
          8,
          9,
          10,
          11,
          12,
          13,
          14,
          15,
          16,
          17,
          18,
          19,
          20,
          21,
          22,
          23,
          24,
          25,
          26,
          27,
          28,
          29,
          30,
          31,
          32,
          33,
          34,
          35,
          36,
          37,
          38,
          39,
          40,
          41,
          42,
          43,
          44,
          45,
          46,
          47,
          48,
          49,
          50,
          51,
          52,
          53,
          54,
          55,
          56,
          57,
          58,
          59,
          60,
          61,
          62,
          63,
          64,
          65,
          66,
          67,
          68,
          69,
          70,
          71,
          72,
          73,
          74,
          75,
          76,
          77,
          78,
          79,
          80,
          81,
          82,
          83,
          84,
          85,
          86,
          87,
          88,
          89,
          90,
          91,
          92,
          93,
          94,
          95,
          96,
          97,
          98,
          99,
          100,
          101,
          102,
          103,
          104,
          105,
          106,
          107,
          108,
          109,
          110,
          111,
          112,
          113,
          114,
          115,
          116,
          117,
          118,
          119,
          120,
          121,
          122,
          123,
          124,
          125,
          126,
          127,
          128,
          129,
          130,
          131,
          132,
          133,
          134,
          135,
          136,
          137,
          138,
          139,
          140,
          141,
          142,
          143,
          144,
          145,
          146,
          147,
          148,
          149,
          150,
          151,
          152,
          153,
          154,
          155,
          156,
          157,
          158,
          159,
          160,
          161,
          162,
          163,
          164,
          165,
          166,
          167,
          168,
          169,
          170,
          171,
          172,
          173,
          174,
          175
         ],
         "xaxis": "x",
         "y": [
          0,
          0,
          1,
          0.5,
          0.34782608695652173,
          0.18181818181818182,
          0.9473684210526315,
          0.2222222222222222,
          0,
          0,
          0,
          0,
          0,
          0.8421052631578947,
          0.5882352941176471,
          0.15384615384615385,
          0.9473684210526315,
          0.75,
          0.75,
          0.46153846153846156,
          0,
          0.75,
          0.3333333333333333,
          0,
          0,
          0.23529411764705882,
          0.4,
          0.3333333333333333,
          0.3157894736842105,
          0.18181818181818182,
          0.75,
          0.18181818181818182,
          0.9473684210526315,
          0.7777777777777778,
          0.75,
          0.7,
          0.15384615384615385,
          0.5882352941176471,
          0.631578947368421,
          0.18181818181818182,
          0.7368421052631579,
          0.6896551724137931,
          0.6086956521739131,
          0.6666666666666666,
          0.8235294117647058,
          0.6666666666666666,
          0.6666666666666666,
          0.7407407407407407,
          0.42857142857142855,
          0,
          0,
          1,
          1,
          0,
          0.6896551724137931,
          0.64,
          0.6153846153846154,
          0.5714285714285714,
          0.47058823529411764,
          0.375,
          0.7777777777777778,
          0.6923076923076923,
          0.5263157894736842,
          0.7619047619047619,
          0.6923076923076923,
          0,
          0.5,
          0,
          0.6666666666666666,
          0.72,
          0.5714285714285714,
          0.3333333333333333,
          0.5882352941176471,
          0.75,
          0.4,
          0,
          0.6666666666666666,
          0,
          0.18181818181818182,
          0.36363636363636365,
          0.46153846153846156,
          0,
          0.4,
          0,
          0.6666666666666666,
          0,
          0,
          0.3076923076923077,
          0.5,
          0.5882352941176471,
          0.6666666666666666,
          0.6666666666666666,
          0.46153846153846156,
          0.6666666666666666,
          0.6666666666666666,
          0.75,
          0.46153846153846156,
          0,
          0.18181818181818182,
          0.18181818181818182,
          0.47058823529411764,
          0.3,
          0,
          0.5333333333333333,
          0,
          0.6086956521739131,
          0,
          0.2222222222222222,
          0,
          0.4166666666666667,
          0.5833333333333334,
          0,
          0,
          0,
          0.46153846153846156,
          0.6896551724137931,
          0,
          0,
          0.75,
          0.8181818181818182,
          0.7777777777777778,
          0,
          0,
          0.9,
          0,
          0,
          0,
          0.75,
          0.18181818181818182,
          0,
          0.9090909090909091,
          0.8571428571428571,
          0.8888888888888888,
          0,
          0.7142857142857143,
          0.47619047619047616,
          0,
          0,
          0.7777777777777778,
          0.25,
          0.6666666666666666,
          0,
          0,
          0,
          1,
          0.3076923076923077,
          0.5714285714285714,
          0.18181818181818182,
          0.3,
          0.8,
          0,
          0.3333333333333333,
          0.75,
          0.3333333333333333,
          0.8235294117647058,
          0,
          0.75,
          0,
          0.6666666666666666,
          1,
          0.6896551724137931,
          0.4,
          1,
          0.5185185185185185,
          0.5,
          0,
          0.18181818181818182,
          0.6666666666666666,
          0.6666666666666666,
          0.5263157894736842,
          0.4864864864864865,
          0,
          0,
          0,
          0.4,
          0.42105263157894735
         ],
         "yaxis": "y"
        }
       ],
       "layout": {
        "legend": {
         "tracegroupgap": 0
        },
        "margin": {
         "t": 60
        },
        "template": {
         "data": {
          "bar": [
           {
            "error_x": {
             "color": "#2a3f5f"
            },
            "error_y": {
             "color": "#2a3f5f"
            },
            "marker": {
             "line": {
              "color": "#E5ECF6",
              "width": 0.5
             },
             "pattern": {
              "fillmode": "overlay",
              "size": 10,
              "solidity": 0.2
             }
            },
            "type": "bar"
           }
          ],
          "barpolar": [
           {
            "marker": {
             "line": {
              "color": "#E5ECF6",
              "width": 0.5
             },
             "pattern": {
              "fillmode": "overlay",
              "size": 10,
              "solidity": 0.2
             }
            },
            "type": "barpolar"
           }
          ],
          "carpet": [
           {
            "aaxis": {
             "endlinecolor": "#2a3f5f",
             "gridcolor": "white",
             "linecolor": "white",
             "minorgridcolor": "white",
             "startlinecolor": "#2a3f5f"
            },
            "baxis": {
             "endlinecolor": "#2a3f5f",
             "gridcolor": "white",
             "linecolor": "white",
             "minorgridcolor": "white",
             "startlinecolor": "#2a3f5f"
            },
            "type": "carpet"
           }
          ],
          "choropleth": [
           {
            "colorbar": {
             "outlinewidth": 0,
             "ticks": ""
            },
            "type": "choropleth"
           }
          ],
          "contour": [
           {
            "colorbar": {
             "outlinewidth": 0,
             "ticks": ""
            },
            "colorscale": [
             [
              0,
              "#0d0887"
             ],
             [
              0.1111111111111111,
              "#46039f"
             ],
             [
              0.2222222222222222,
              "#7201a8"
             ],
             [
              0.3333333333333333,
              "#9c179e"
             ],
             [
              0.4444444444444444,
              "#bd3786"
             ],
             [
              0.5555555555555556,
              "#d8576b"
             ],
             [
              0.6666666666666666,
              "#ed7953"
             ],
             [
              0.7777777777777778,
              "#fb9f3a"
             ],
             [
              0.8888888888888888,
              "#fdca26"
             ],
             [
              1,
              "#f0f921"
             ]
            ],
            "type": "contour"
           }
          ],
          "contourcarpet": [
           {
            "colorbar": {
             "outlinewidth": 0,
             "ticks": ""
            },
            "type": "contourcarpet"
           }
          ],
          "heatmap": [
           {
            "colorbar": {
             "outlinewidth": 0,
             "ticks": ""
            },
            "colorscale": [
             [
              0,
              "#0d0887"
             ],
             [
              0.1111111111111111,
              "#46039f"
             ],
             [
              0.2222222222222222,
              "#7201a8"
             ],
             [
              0.3333333333333333,
              "#9c179e"
             ],
             [
              0.4444444444444444,
              "#bd3786"
             ],
             [
              0.5555555555555556,
              "#d8576b"
             ],
             [
              0.6666666666666666,
              "#ed7953"
             ],
             [
              0.7777777777777778,
              "#fb9f3a"
             ],
             [
              0.8888888888888888,
              "#fdca26"
             ],
             [
              1,
              "#f0f921"
             ]
            ],
            "type": "heatmap"
           }
          ],
          "heatmapgl": [
           {
            "colorbar": {
             "outlinewidth": 0,
             "ticks": ""
            },
            "colorscale": [
             [
              0,
              "#0d0887"
             ],
             [
              0.1111111111111111,
              "#46039f"
             ],
             [
              0.2222222222222222,
              "#7201a8"
             ],
             [
              0.3333333333333333,
              "#9c179e"
             ],
             [
              0.4444444444444444,
              "#bd3786"
             ],
             [
              0.5555555555555556,
              "#d8576b"
             ],
             [
              0.6666666666666666,
              "#ed7953"
             ],
             [
              0.7777777777777778,
              "#fb9f3a"
             ],
             [
              0.8888888888888888,
              "#fdca26"
             ],
             [
              1,
              "#f0f921"
             ]
            ],
            "type": "heatmapgl"
           }
          ],
          "histogram": [
           {
            "marker": {
             "pattern": {
              "fillmode": "overlay",
              "size": 10,
              "solidity": 0.2
             }
            },
            "type": "histogram"
           }
          ],
          "histogram2d": [
           {
            "colorbar": {
             "outlinewidth": 0,
             "ticks": ""
            },
            "colorscale": [
             [
              0,
              "#0d0887"
             ],
             [
              0.1111111111111111,
              "#46039f"
             ],
             [
              0.2222222222222222,
              "#7201a8"
             ],
             [
              0.3333333333333333,
              "#9c179e"
             ],
             [
              0.4444444444444444,
              "#bd3786"
             ],
             [
              0.5555555555555556,
              "#d8576b"
             ],
             [
              0.6666666666666666,
              "#ed7953"
             ],
             [
              0.7777777777777778,
              "#fb9f3a"
             ],
             [
              0.8888888888888888,
              "#fdca26"
             ],
             [
              1,
              "#f0f921"
             ]
            ],
            "type": "histogram2d"
           }
          ],
          "histogram2dcontour": [
           {
            "colorbar": {
             "outlinewidth": 0,
             "ticks": ""
            },
            "colorscale": [
             [
              0,
              "#0d0887"
             ],
             [
              0.1111111111111111,
              "#46039f"
             ],
             [
              0.2222222222222222,
              "#7201a8"
             ],
             [
              0.3333333333333333,
              "#9c179e"
             ],
             [
              0.4444444444444444,
              "#bd3786"
             ],
             [
              0.5555555555555556,
              "#d8576b"
             ],
             [
              0.6666666666666666,
              "#ed7953"
             ],
             [
              0.7777777777777778,
              "#fb9f3a"
             ],
             [
              0.8888888888888888,
              "#fdca26"
             ],
             [
              1,
              "#f0f921"
             ]
            ],
            "type": "histogram2dcontour"
           }
          ],
          "mesh3d": [
           {
            "colorbar": {
             "outlinewidth": 0,
             "ticks": ""
            },
            "type": "mesh3d"
           }
          ],
          "parcoords": [
           {
            "line": {
             "colorbar": {
              "outlinewidth": 0,
              "ticks": ""
             }
            },
            "type": "parcoords"
           }
          ],
          "pie": [
           {
            "automargin": true,
            "type": "pie"
           }
          ],
          "scatter": [
           {
            "fillpattern": {
             "fillmode": "overlay",
             "size": 10,
             "solidity": 0.2
            },
            "type": "scatter"
           }
          ],
          "scatter3d": [
           {
            "line": {
             "colorbar": {
              "outlinewidth": 0,
              "ticks": ""
             }
            },
            "marker": {
             "colorbar": {
              "outlinewidth": 0,
              "ticks": ""
             }
            },
            "type": "scatter3d"
           }
          ],
          "scattercarpet": [
           {
            "marker": {
             "colorbar": {
              "outlinewidth": 0,
              "ticks": ""
             }
            },
            "type": "scattercarpet"
           }
          ],
          "scattergeo": [
           {
            "marker": {
             "colorbar": {
              "outlinewidth": 0,
              "ticks": ""
             }
            },
            "type": "scattergeo"
           }
          ],
          "scattergl": [
           {
            "marker": {
             "colorbar": {
              "outlinewidth": 0,
              "ticks": ""
             }
            },
            "type": "scattergl"
           }
          ],
          "scattermapbox": [
           {
            "marker": {
             "colorbar": {
              "outlinewidth": 0,
              "ticks": ""
             }
            },
            "type": "scattermapbox"
           }
          ],
          "scatterpolar": [
           {
            "marker": {
             "colorbar": {
              "outlinewidth": 0,
              "ticks": ""
             }
            },
            "type": "scatterpolar"
           }
          ],
          "scatterpolargl": [
           {
            "marker": {
             "colorbar": {
              "outlinewidth": 0,
              "ticks": ""
             }
            },
            "type": "scatterpolargl"
           }
          ],
          "scatterternary": [
           {
            "marker": {
             "colorbar": {
              "outlinewidth": 0,
              "ticks": ""
             }
            },
            "type": "scatterternary"
           }
          ],
          "surface": [
           {
            "colorbar": {
             "outlinewidth": 0,
             "ticks": ""
            },
            "colorscale": [
             [
              0,
              "#0d0887"
             ],
             [
              0.1111111111111111,
              "#46039f"
             ],
             [
              0.2222222222222222,
              "#7201a8"
             ],
             [
              0.3333333333333333,
              "#9c179e"
             ],
             [
              0.4444444444444444,
              "#bd3786"
             ],
             [
              0.5555555555555556,
              "#d8576b"
             ],
             [
              0.6666666666666666,
              "#ed7953"
             ],
             [
              0.7777777777777778,
              "#fb9f3a"
             ],
             [
              0.8888888888888888,
              "#fdca26"
             ],
             [
              1,
              "#f0f921"
             ]
            ],
            "type": "surface"
           }
          ],
          "table": [
           {
            "cells": {
             "fill": {
              "color": "#EBF0F8"
             },
             "line": {
              "color": "white"
             }
            },
            "header": {
             "fill": {
              "color": "#C8D4E3"
             },
             "line": {
              "color": "white"
             }
            },
            "type": "table"
           }
          ]
         },
         "layout": {
          "annotationdefaults": {
           "arrowcolor": "#2a3f5f",
           "arrowhead": 0,
           "arrowwidth": 1
          },
          "autotypenumbers": "strict",
          "coloraxis": {
           "colorbar": {
            "outlinewidth": 0,
            "ticks": ""
           }
          },
          "colorscale": {
           "diverging": [
            [
             0,
             "#8e0152"
            ],
            [
             0.1,
             "#c51b7d"
            ],
            [
             0.2,
             "#de77ae"
            ],
            [
             0.3,
             "#f1b6da"
            ],
            [
             0.4,
             "#fde0ef"
            ],
            [
             0.5,
             "#f7f7f7"
            ],
            [
             0.6,
             "#e6f5d0"
            ],
            [
             0.7,
             "#b8e186"
            ],
            [
             0.8,
             "#7fbc41"
            ],
            [
             0.9,
             "#4d9221"
            ],
            [
             1,
             "#276419"
            ]
           ],
           "sequential": [
            [
             0,
             "#0d0887"
            ],
            [
             0.1111111111111111,
             "#46039f"
            ],
            [
             0.2222222222222222,
             "#7201a8"
            ],
            [
             0.3333333333333333,
             "#9c179e"
            ],
            [
             0.4444444444444444,
             "#bd3786"
            ],
            [
             0.5555555555555556,
             "#d8576b"
            ],
            [
             0.6666666666666666,
             "#ed7953"
            ],
            [
             0.7777777777777778,
             "#fb9f3a"
            ],
            [
             0.8888888888888888,
             "#fdca26"
            ],
            [
             1,
             "#f0f921"
            ]
           ],
           "sequentialminus": [
            [
             0,
             "#0d0887"
            ],
            [
             0.1111111111111111,
             "#46039f"
            ],
            [
             0.2222222222222222,
             "#7201a8"
            ],
            [
             0.3333333333333333,
             "#9c179e"
            ],
            [
             0.4444444444444444,
             "#bd3786"
            ],
            [
             0.5555555555555556,
             "#d8576b"
            ],
            [
             0.6666666666666666,
             "#ed7953"
            ],
            [
             0.7777777777777778,
             "#fb9f3a"
            ],
            [
             0.8888888888888888,
             "#fdca26"
            ],
            [
             1,
             "#f0f921"
            ]
           ]
          },
          "colorway": [
           "#636efa",
           "#EF553B",
           "#00cc96",
           "#ab63fa",
           "#FFA15A",
           "#19d3f3",
           "#FF6692",
           "#B6E880",
           "#FF97FF",
           "#FECB52"
          ],
          "font": {
           "color": "#2a3f5f"
          },
          "geo": {
           "bgcolor": "white",
           "lakecolor": "white",
           "landcolor": "#E5ECF6",
           "showlakes": true,
           "showland": true,
           "subunitcolor": "white"
          },
          "hoverlabel": {
           "align": "left"
          },
          "hovermode": "closest",
          "mapbox": {
           "style": "light"
          },
          "paper_bgcolor": "white",
          "plot_bgcolor": "#E5ECF6",
          "polar": {
           "angularaxis": {
            "gridcolor": "white",
            "linecolor": "white",
            "ticks": ""
           },
           "bgcolor": "#E5ECF6",
           "radialaxis": {
            "gridcolor": "white",
            "linecolor": "white",
            "ticks": ""
           }
          },
          "scene": {
           "xaxis": {
            "backgroundcolor": "#E5ECF6",
            "gridcolor": "white",
            "gridwidth": 2,
            "linecolor": "white",
            "showbackground": true,
            "ticks": "",
            "zerolinecolor": "white"
           },
           "yaxis": {
            "backgroundcolor": "#E5ECF6",
            "gridcolor": "white",
            "gridwidth": 2,
            "linecolor": "white",
            "showbackground": true,
            "ticks": "",
            "zerolinecolor": "white"
           },
           "zaxis": {
            "backgroundcolor": "#E5ECF6",
            "gridcolor": "white",
            "gridwidth": 2,
            "linecolor": "white",
            "showbackground": true,
            "ticks": "",
            "zerolinecolor": "white"
           }
          },
          "shapedefaults": {
           "line": {
            "color": "#2a3f5f"
           }
          },
          "ternary": {
           "aaxis": {
            "gridcolor": "white",
            "linecolor": "white",
            "ticks": ""
           },
           "baxis": {
            "gridcolor": "white",
            "linecolor": "white",
            "ticks": ""
           },
           "bgcolor": "#E5ECF6",
           "caxis": {
            "gridcolor": "white",
            "linecolor": "white",
            "ticks": ""
           }
          },
          "title": {
           "x": 0.05
          },
          "xaxis": {
           "automargin": true,
           "gridcolor": "white",
           "linecolor": "white",
           "ticks": "",
           "title": {
            "standoff": 15
           },
           "zerolinecolor": "white",
           "zerolinewidth": 2
          },
          "yaxis": {
           "automargin": true,
           "gridcolor": "white",
           "linecolor": "white",
           "ticks": "",
           "title": {
            "standoff": 15
           },
           "zerolinecolor": "white",
           "zerolinewidth": 2
          }
         }
        },
        "xaxis": {
         "anchor": "y",
         "domain": [
          0,
          1
         ],
         "title": {
          "text": ""
         }
        },
        "yaxis": {
         "anchor": "x",
         "domain": [
          0,
          1
         ],
         "title": {
          "text": ""
         }
        }
       }
      }
     },
     "metadata": {},
     "output_type": "display_data"
    }
   ],
   "source": [
    "scatter(np.arange(len(f1s.values())), list(f1s.values()))"
   ]
  },
  {
   "cell_type": "code",
   "execution_count": 9,
   "metadata": {},
   "outputs": [
    {
     "data": {
      "image/png": "[encoded data removed]",
      "text/plain": [
       "<Figure size 640x480 with 1 Axes>"
      ]
     },
     "metadata": {},
     "output_type": "display_data"
    }
   ],
   "source": [
    "bins = np.linspace(0, 1, 20)\n",
    "import matplotlib.pyplot as plt\n",
    "plt.hist(accuracy_balanced.values(), bins, label='Overall Accuracy', linewidth=0.5, edgecolor=\"black\")\n",
    "plt.title(\"Distribution of Head Explanation Scores\")\n",
    "plt.savefig(\"hist.pdf\")"
   ]
  },
  {
   "cell_type": "code",
   "execution_count": null,
   "metadata": {},
   "outputs": [
    {
     "name": "stdout",
     "output_type": "stream",
     "text": [
      "[(0.0, 1.0), (0.0, 1.0), (1.0, 1.0), (0.4, 0.8), (0.4, 0.1), (0.1, 1.0), (0.9, 1.0), (0.2, 0.4), (0.0, 1.0), (0.0, 1.0), (0.0, 1.0), (0.0, 1.0), (0.0, 1.0), (0.8, 0.9), (0.5, 0.8), (0.1, 0.8), (0.9, 1.0), (0.6, 1.0), (0.6, 1.0), (0.6, 0.0), (0.0, 0.9), (0.6, 1.0), (0.2, 1.0), (0.0, 1.0), (0.0, 0.8), (0.2, 0.5), (0.3, 0.8), (0.2, 1.0), (0.3, 0.4), (0.1, 1.0), (0.6, 1.0), (0.1, 1.0), (0.7, 0.9), (0.6, 1.0), (0.7, 0.7), (0.1, 0.8), (0.5, 0.8), (0.6, 0.7), (0.1, 1.0), (0.7, 0.8), (0.7, 0.4), (0.6, 0.8), (0.7, 1.0), (0.8, 0.4), (1.0, 0.3), (0.0, 1.0), (0.0, 1.0), (0.0, 1.0), (0.8, 0.2), (0.3, 0.7), (0.7, 0.9), (0.9, 0.3), (0.5, 0.6), (0.8, 0.7), (0.0, 0.9), (0.4, 0.8), (0.0, 1.0), (0.6, 0.8), (0.9, 0.4), (0.4, 1.0), (0.2, 1.0), (0.5, 0.8), (0.6, 1.0), (0.3, 0.8), (0.0, 1.0), (0.5, 1.0), (0.0, 1.0), (0.1, 1.0), (0.4, 0.2), (0.3, 1.0), (0.0, 1.0), (0.3, 0.8), (0.0, 1.0), (1.0, 0.0), (0.0, 1.0), (0.0, 1.0), (0.2, 0.9), (0.4, 0.8), (0.5, 0.8), (0.6, 0.8), (0.5, 1.0), (0.3, 1.0), (1.0, 0.0), (0.9, 0.2), (0.6, 1.0), (0.3, 1.0), (0.0, 1.0), (0.1, 1.0), (0.1, 1.0), (0.4, 0.7), (0.3, 0.3), (0.0, 0.9), (0.4, 0.9), (0.0, 1.0), (0.0, 1.0), (0.2, 0.4), (0.0, 1.0), (0.5, 0.1), (0.7, 0.3), (0.0, 1.0), (0.0, 1.0), (0.0, 1.0), (0.3, 1.0), (1.0, 0.1), (0.0, 1.0), (0.0, 1.0), (0.6, 1.0), (0.9, 0.7), (0.7, 0.9), (0.0, 0.8), (0.0, 1.0), (0.9, 0.9), (0.0, 1.0), (0.0, 1.0), (0.0, 1.0), (0.9, 0.5), (0.1, 1.0), (0.0, 1.0), (1.0, 0.8), (0.9, 0.8), (0.8, 1.0), (0.0, 1.0), (1.0, 0.2), (0.5, 0.4), (0.0, 1.0), (0.0, 1.0), (0.7, 0.9), (1.0, 0.0), (0.0, 1.0), (0.0, 1.0), (0.0, 1.0), (1.0, 1.0), (0.2, 0.9), (0.4, 1.0), (0.2, 0.0), (0.3, 0.3), (1.0, 0.5), (0.0, 1.0), (0.2, 1.0), (0.6, 1.0), (0.2, 1.0), (0.7, 1.0), (0.0, 1.0), (0.6, 1.0), (0.0, 1.0), (1.0, 0.1), (0.3, 0.8), (1.0, 1.0), (0.7, 0.0), (0.4, 0.8), (0.0, 1.0), (0.1, 1.0), (0.5, 0.6), (0.45, 0.2), (0.0, 1.0), (0.0, 1.0), (0.0, 0.9), (0.3, 0.8), (0.4, 0.5)]\n",
      "[0.0, 0.0, 1.0, 0.5, 0.34782608695652173, 0.18181818181818182, 0.9473684210526315, 0.2222222222222222, 0.0, 0.0, 0.0, 0.0, 0.0, 0.8421052631578947, 0.5882352941176471, 0.15384615384615385, 0.9473684210526315, 0.75, 0.75, 0.46153846153846156, 0.0, 0.75, 0.3333333333333333, 0.0, 0.0, 0.23529411764705882, 0.4, 0.3333333333333333, 0.3157894736842105, 0.18181818181818182, 0.75, 0.18181818181818182, 0.7777777777777778, 0.75, 0.7, 0.15384615384615385, 0.5882352941176471, 0.631578947368421, 0.18181818181818182, 0.7368421052631579, 0.6086956521739131, 0.6666666666666666, 0.8235294117647058, 0.6666666666666666, 0.7407407407407407, 0.0, 0.0, 0.0, 0.6153846153846154, 0.375, 0.7777777777777778, 0.6923076923076923, 0.5263157894736842, 0.7619047619047619, 0.0, 0.5, 0.0, 0.6666666666666666, 0.72, 0.5714285714285714, 0.3333333333333333, 0.5882352941176471, 0.75, 0.4, 0.0, 0.6666666666666666, 0.0, 0.18181818181818182, 0.36363636363636365, 0.46153846153846156, 0.0, 0.4, 0.0, 0.6666666666666666, 0.0, 0.0, 0.3076923076923077, 0.5, 0.5882352941176471, 0.6666666666666666, 0.6666666666666666, 0.46153846153846156, 0.6666666666666666, 0.6666666666666666, 0.75, 0.46153846153846156, 0.0, 0.18181818181818182, 0.18181818181818182, 0.47058823529411764, 0.3, 0.0, 0.5333333333333333, 0.0, 0.0, 0.2222222222222222, 0.0, 0.4166666666666667, 0.5833333333333334, 0.0, 0.0, 0.0, 0.46153846153846156, 0.6896551724137931, 0.0, 0.0, 0.75, 0.8181818181818182, 0.7777777777777778, 0.0, 0.0, 0.9, 0.0, 0.0, 0.0, 0.75, 0.18181818181818182, 0.0, 0.9090909090909091, 0.8571428571428571, 0.8888888888888888, 0.0, 0.7142857142857143, 0.47619047619047616, 0.0, 0.0, 0.7777777777777778, 0.6666666666666666, 0.0, 0.0, 0.0, 1.0, 0.3076923076923077, 0.5714285714285714, 0.18181818181818182, 0.3, 0.8, 0.0, 0.3333333333333333, 0.75, 0.3333333333333333, 0.8235294117647058, 0.0, 0.75, 0.0, 0.6896551724137931, 0.4, 1.0, 0.5185185185185185, 0.5, 0.0, 0.18181818181818182, 0.5263157894736842, 0.4864864864864865, 0.0, 0.0, 0.0, 0.4, 0.42105263157894735]\n"
     ]
    }
   ],
   "source": [
    "x = list(accuracies_positive.values())\n",
    "y = list(accuracies_negative.values())\n",
    "print(list(zip(x, y)))\n",
    "print(list(f1s.values()))"
   ]
  },
  {
   "cell_type": "code",
   "execution_count": 260,
   "metadata": {},
   "outputs": [
    {
     "data": {
      "text/plain": [
       "21.59090909090909"
      ]
     },
     "execution_count": 260,
     "metadata": {},
     "output_type": "execute_result"
    }
   ],
   "source": [
    "(grid[6:, 6:].sum() / grid.sum()) * 100"
   ]
  },
  {
   "cell_type": "code",
   "execution_count": 261,
   "metadata": {},
   "outputs": [
    {
     "name": "stdout",
     "output_type": "stream",
     "text": [
      "[0.0, 0.0, 1.0, 0.4, 0.4, 0.1, 0.9, 0.2, 0.0, 0.0, 0.0, 0.0, 0.0, 0.8, 0.5, 0.1, 0.9, 0.6, 0.6, 0.6, 0.0, 0.6, 0.2, 0.0, 0.0, 0.2, 0.3, 0.2, 0.3, 0.1, 0.6, 0.1, 0.7, 0.6, 0.7, 0.1, 0.5, 0.6, 0.1, 0.7, 0.7, 0.6, 0.7, 0.8, 1.0, 0.0, 0.0, 0.0, 0.8, 0.3, 0.7, 0.9, 0.5, 0.8, 0.0, 0.4, 0.0, 0.6, 0.9, 0.4, 0.2, 0.5, 0.6, 0.3, 0.0, 0.5, 0.0, 0.1, 0.4, 0.3, 0.0, 0.3, 0.0, 1.0, 0.0, 0.0, 0.2, 0.4, 0.5, 0.6, 0.5, 0.3, 1.0, 0.9, 0.6, 0.3, 0.0, 0.1, 0.1, 0.4, 0.3, 0.0, 0.4, 0.0, 0.0, 0.2, 0.0, 0.5, 0.7, 0.0, 0.0, 0.0, 0.3, 1.0, 0.0, 0.0, 0.6, 0.9, 0.7, 0.0, 0.0, 0.9, 0.0, 0.0, 0.0, 0.9, 0.1, 0.0, 1.0, 0.9, 0.8, 0.0, 1.0, 0.5, 0.0, 0.0, 0.7, 1.0, 0.0, 0.0, 0.0, 1.0, 0.2, 0.4, 0.2, 0.3, 1.0, 0.0, 0.2, 0.6, 0.2, 0.7, 0.0, 0.6, 0.0, 1.0, 0.3, 1.0, 0.7, 0.4, 0.0, 0.1, 0.5, 0.45, 0.0, 0.0, 0.0, 0.3, 0.4]\n",
      "[(0.0, 1.0), (0.0, 1.0), (1.0, 1.0), (0.4, 0.8), (0.4, 0.1), (0.1, 1.0), (0.9, 1.0), (0.2, 0.4), (0.0, 1.0), (0.0, 1.0), (0.0, 1.0), (0.0, 1.0), (0.0, 1.0), (0.8, 0.9), (0.5, 0.8), (0.1, 0.8), (0.9, 1.0), (0.6, 1.0), (0.6, 1.0), (0.6, 0.0), (0.0, 0.9), (0.6, 1.0), (0.2, 1.0), (0.0, 1.0), (0.0, 0.8), (0.2, 0.5), (0.3, 0.8), (0.2, 1.0), (0.3, 0.4), (0.1, 1.0), (0.6, 1.0), (0.1, 1.0), (0.7, 0.9), (0.6, 1.0), (0.7, 0.7), (0.1, 0.8), (0.5, 0.8), (0.6, 0.7), (0.1, 1.0), (0.7, 0.8), (0.7, 0.4), (0.6, 0.8), (0.7, 1.0), (0.8, 0.4), (1.0, 0.3), (0.0, 1.0), (0.0, 1.0), (0.0, 1.0), (0.8, 0.2), (0.3, 0.7), (0.7, 0.9), (0.9, 0.3), (0.5, 0.6), (0.8, 0.7), (0.0, 0.9), (0.4, 0.8), (0.0, 1.0), (0.6, 0.8), (0.9, 0.4), (0.4, 1.0), (0.2, 1.0), (0.5, 0.8), (0.6, 1.0), (0.3, 0.8), (0.0, 1.0), (0.5, 1.0), (0.0, 1.0), (0.1, 1.0), (0.4, 0.2), (0.3, 1.0), (0.0, 1.0), (0.3, 0.8), (0.0, 1.0), (1.0, 0.0), (0.0, 1.0), (0.0, 1.0), (0.2, 0.9), (0.4, 0.8), (0.5, 0.8), (0.6, 0.8), (0.5, 1.0), (0.3, 1.0), (1.0, 0.0), (0.9, 0.2), (0.6, 1.0), (0.3, 1.0), (0.0, 1.0), (0.1, 1.0), (0.1, 1.0), (0.4, 0.7), (0.3, 0.3), (0.0, 0.9), (0.4, 0.9), (0.0, 1.0), (0.0, 1.0), (0.2, 0.4), (0.0, 1.0), (0.5, 0.1), (0.7, 0.3), (0.0, 1.0), (0.0, 1.0), (0.0, 1.0), (0.3, 1.0), (1.0, 0.1), (0.0, 1.0), (0.0, 1.0), (0.6, 1.0), (0.9, 0.7), (0.7, 0.9), (0.0, 0.8), (0.0, 1.0), (0.9, 0.9), (0.0, 1.0), (0.0, 1.0), (0.0, 1.0), (0.9, 0.5), (0.1, 1.0), (0.0, 1.0), (1.0, 0.8), (0.9, 0.8), (0.8, 1.0), (0.0, 1.0), (1.0, 0.2), (0.5, 0.4), (0.0, 1.0), (0.0, 1.0), (0.7, 0.9), (1.0, 0.0), (0.0, 1.0), (0.0, 1.0), (0.0, 1.0), (1.0, 1.0), (0.2, 0.9), (0.4, 1.0), (0.2, 0.0), (0.3, 0.3), (1.0, 0.5), (0.0, 1.0), (0.2, 1.0), (0.6, 1.0), (0.2, 1.0), (0.7, 1.0), (0.0, 1.0), (0.6, 1.0), (0.0, 1.0), (1.0, 0.1), (0.3, 0.8), (1.0, 1.0), (0.7, 0.0), (0.4, 0.8), (0.0, 1.0), (0.1, 1.0), (0.5, 0.6), (0.45, 0.2), (0.0, 1.0), (0.0, 1.0), (0.0, 0.9), (0.3, 0.8), (0.4, 0.5)]\n"
     ]
    },
    {
     "data": {
      "text/plain": [
       "[Text(0.5, 1.0, 'Distribution of True Positive and True Negative Rates over all heads\\n')]"
      ]
     },
     "execution_count": 261,
     "metadata": {},
     "output_type": "execute_result"
    },
    {
     "data": {
      "image/png": "[encoded data removed]",
      "text/plain": [
       "<Figure size 640x480 with 2 Axes>"
      ]
     },
     "metadata": {},
     "output_type": "display_data"
    }
   ],
   "source": [
    "\n",
    "import seaborn as sb\n",
    "\n",
    "# Create a 2D array filled with zeros\n",
    "grid = np.zeros((11, 11), dtype=int)\n",
    "print(x)\n",
    "\n",
    "# Iterate through the values in x and y\n",
    "zipped_list = list(zip(x, y))\n",
    "print(zipped_list)\n",
    "for x_item, y_item in zipped_list:\n",
    "    # Iterate through the values in x and y\n",
    "    # Increment the count in the grid at the corresponding position\n",
    "    grid[int(x_item*10), int(y_item*10)] +=  1\n",
    "\n",
    "\n",
    "ax = sb.heatmap(grid, annot=True, robust=True, xticklabels=[i*10 for i in range(11)], yticklabels=[i*10 for i in range(11)])\n",
    "ax.invert_yaxis()\n",
    "ax.set(xlabel=\"\\nTrue Negative Rate (%)\", ylabel=\"True Positive Rate (%)\\n\")\n",
    "ax.set(title=\"Distribution of True Positive and True Negative Rates over all heads\\n\")"
   ]
  },
  {
   "cell_type": "code",
   "execution_count": 11,
   "metadata": {},
   "outputs": [
    {
     "name": "stdout",
     "output_type": "stream",
     "text": [
      "[(31, 3621, 538), (32, 3151, 546), (32, 3151, 496), (34, 4410, 604), (35, 3360, 691), (35, 885, 549)]\n",
      "6\n"
     ]
    }
   ],
   "source": [
    "tnr = 10\n",
    "tpr = 10\n",
    "\n",
    "head_list = []\n",
    "for head, accuracy_positive in accuracies_positive.items():\n",
    "    accuracy_negative = accuracies_negative[head]\n",
    "    if int(accuracy_positive * 10) == tpr and int(accuracy_negative * 10) == tnr:\n",
    "        head_list.append(head)\n",
    "\n",
    "print(head_list)\n",
    "print(len(head_list))\n"
   ]
  },
  {
   "cell_type": "code",
   "execution_count": null,
   "metadata": {},
   "outputs": [
    {
     "name": "stdout",
     "output_type": "stream",
     "text": [
      "2\n"
     ]
    }
   ],
   "source": [
    "print(len(categorised_prompts[(31, 3621, 468)]))"
   ]
  },
  {
   "cell_type": "code",
   "execution_count": 15,
   "metadata": {},
   "outputs": [
    {
     "name": "stdout",
     "output_type": "stream",
     "text": [
      "## (34, 4410, 604) — 1.00 Accuracy \n",
      "Neuron helps to predict the token \" as\".\n",
      "\n",
      "### Max-Activating Data from The Pile\n",
      "Examples where the attention head is active:\n",
      "0.  could begin as early as\n",
      "1.  kindergarteners that will be available in schools as early as\n",
      "2.  The lead would reach as high as\n",
      "3.  by the permanently dependent. Until they finish burying the Constitution, which Obama will do as fast as\n",
      "4.  expand its conference championship sports to 23 -- seven more than when the league began in 2013 -- as early as\n",
      "\n",
      "Examples where the attention head is inactive:\n",
      "0.  soon as it's published, (typically within 48 hours). We really value your contributions, and so does our community of business professionals. They count on honest reviews like yours.  Thanks for submitting your review of Triton Benefits & HR Solutions.  We'll email you as soon as\n",
      "1.  greed, as well as fashion. I'm not condeming what you said either, I'm just pointing out different sides.  nyan nyan percent  But do you wear leather? Eat meat? Use chemicals to clean? Animals were all involved in those things. Actually, the growth of man is the worse thing that ever happened to animals, becuase we are the only species that kills for revenge, sport and greed, as well as\n",
      "2.  tipped with black. Cubs have camouflage spots that fade as they mature.  Generally tan, but can range from gray to brown, with a whitish underside. The ears and tail are tipped with black. Cubs have camouflage spots that fade as\n",
      "3.  drugs (such as\n",
      "4.  – A girl chosen as the “Bride of Time.” She is kind and doesn’t discriminate against anyone she meets, but is also strong at her core.  – A girl chosen as\n",
      "5. . West produced some of the greatest hits on that album, such as\n",
      "6.  about themselves and their interests as well as a pre-screen for companies seeking to hire.  I need you to write some content for a website. Design a non-traditional pre-hire assessment for online use to determine candidates traits and match them to careers. It should combine personality, cognitive and aptitude measures. It will be used to help candidates learn more about themselves and their interests as well as\n",
      "7.  a video game console such as\n",
      "8.  whatever he wants so long as\n",
      "9.     The purpose of this time limit is to ensure that registration is available to as\n",
      "10.  are committed to ensuring our user's privacy in accordance with the 1998 Data Protection Act, as well as\n",
      "11. \" also means copyright-like laws that apply to other kinds of works, such as\n",
      "\n",
      "GPT-4's Explanation: \n",
      "   The head is active when the document contains phrases indicating an approximate point in time, a potential range, or a comparison with a certain speed or level. These phrases are typically followed by \"as\" and can include terminology like \"as early as,\" \"as high as,\" or \"as fast as.\" In the inactive examples, the term \"as\" is being used in different contexts. For instance, it may be used to mean \"such as\", \"as well as,\" or \"so long as\" where it does not indicate an approximation, range, or comparison related to time, speed, or level.\n",
      "\n",
      "### Synthetic Data from GPT-4\n",
      "Examples where the attention head is active:\n",
      "0. ✅ The athlete is improving his performance every day. His speed could be as fast\n",
      "1. ✅ The price of the antique vase varies depending on the market demand. The cost can go as high\n",
      "2. ✅ The company is constantly expanding its global presence. Profits are projected to be as high\n",
      "3. ✅ The bakery sells many delicious treats throughout the day. The best time to purchase them is as early\n",
      "4. ✅ The software release date remained uncertain. The developers claim the product is likely to be available as early\n",
      "5. ✅ The temperature fluctuates greatly during winter months. It can drop as low\n",
      "6. ✅ The musician is constantly honing her skills. She aims to play piano as flawlessly\n",
      "7. ✅ The student works diligently to improve his mathematics abilities. He hopes to solve problems as quickly\n",
      "8. ✅ The construction project is nearing completion. The new shopping center is expected to open its doors as soon\n",
      "9. ✅ The traveler's flight got delayed due to bad weather. They rescheduled his flight as early\n",
      "\n",
      "Examples where the attention head is inactive:\n",
      "0. ✅ Many different types of animals can be found in the rainforest. Creatures such\n",
      "1. ✅ The recipe requires various types of spices to achieve the desired flavor. You must add cinnamon, cloves, ginger, and nutmeg as well\n",
      "2. ✅ There are various ways to improve your mental health. Practicing mindfulness techniques, such\n",
      "3. ✅ Samantha enjoys playing various sports. She participates in basketball, swimming, and tennis as well\n",
      "4. ✅ There are many must-see sights in Rome. Visit tourist attractions such\n",
      "5. ✅ It is important to learn about different cultural customs when traveling. Understanding basic etiquette, such\n",
      "6. ✅ The company offers multiple incentives to its employees. Benefits such\n",
      "7. ✅ Jamie studied several different subjects in college. He took courses in physics, chemistry, and biology as well\n",
      "8. ✅ There are numerous methods to conserve energy at home. Simple actions such\n",
      "9. ✅ Many people experience financial struggles at some point in their lives. Solutions such as creating a budget, reducing expenses, and seeking professional advice can\n",
      "\n"
     ]
    }
   ],
   "source": [
    "def get_head_results(nh, gen_results, nh_to_exp, neuron_to_token, categorised_prompts):\n",
    "    gen_positive, gen_negative, eval_positive, eval_negative = gen_results[nh]\n",
    "    balanced_accuracy = accuracy_balanced[nh]\n",
    "\n",
    "    return_str = f\"## {nh} — {balanced_accuracy:.2f} Accuracy \\n\"\n",
    "    return_str += f'Neuron helps to predict the token \"{neuron_to_token[(nh[0],nh[1])]}\".\\n'\n",
    "    positive_egs, negative_egs = categorised_prompts[nh]\n",
    "\n",
    "    return_str += f\"\\n### Max-Activating Data from The Pile\\n\"\n",
    "\n",
    "    return_str += \"Examples where the attention head is active:\\n\"\n",
    "    for i, positive_eg in enumerate(positive_egs):\n",
    "        return_str += f\"{i}. {positive_eg}\\n\"\n",
    "\n",
    "    return_str += \"\\nExamples where the attention head is inactive:\\n\"\n",
    "    for i, negative_eg in enumerate(negative_egs):\n",
    "        return_str += f\"{i}. {negative_eg}\\n\"\n",
    "\n",
    "    return_str += f\"\\nGPT-4's Explanation: \\n   The head is active when the document {nh_to_exp[nh]}\\n\"\n",
    "\n",
    "    return_str += f\"\\n### Synthetic Data from GPT-4\\n\"\n",
    "\n",
    "    return_str += \"Examples where the attention head is active:\\n\"\n",
    "    for i, eg in enumerate(gen_positive):\n",
    "        return_str += f\"{i}. \"\n",
    "        if eg in eval_positive:\n",
    "            return_str += \"✅ \"\n",
    "        else:\n",
    "            return_str += \"❌ \"\n",
    "        return_str += f\"{eg}\\n\"\n",
    "    return_str += \"\\nExamples where the attention head is inactive:\\n\"\n",
    "    for i, eg in enumerate(gen_negative):\n",
    "        return_str += f\"{i}. \"\n",
    "        if eg in eval_negative:\n",
    "            return_str += \"✅ \"\n",
    "        else:\n",
    "            return_str += \"❌ \"\n",
    "        return_str += f\"{eg}\\n\"\n",
    "    \n",
    "    return balanced_accuracy, return_str\n",
    "\n",
    "accuracy, result = get_head_results(head_list[3], generation_eval, nh_to_explanation, neuron_to_token, categorised_prompts)\n",
    "\n",
    "print(result)"
   ]
  },
  {
   "cell_type": "code",
   "execution_count": 19,
   "metadata": {},
   "outputs": [],
   "source": [
    "overview_list = []\n",
    "\n",
    "for head, accuracy_positive in accuracies_positive.items():\n",
    "    accuracy, result = get_head_results(head, generation_eval, nh_to_explanation, neuron_to_token, categorised_prompts)\n",
    "    overview_list.append((accuracy, head, result))\n",
    "\n",
    "# Sort overview list by first element\n",
    "overview_list.sort(key=lambda x: x[0], reverse=True)\n",
    "\n",
    "# Save overview list strings to text file\n",
    "with open(\"overview.txt\", \"w\") as f:\n",
    "    for accuracy, head, result in overview_list:\n",
    "        f.write(result)\n",
    "        f.write(\"\\n\\n\")"
   ]
  },
  {
   "cell_type": "code",
   "execution_count": 41,
   "metadata": {},
   "outputs": [],
   "source": [
    "ind = 0"
   ]
  },
  {
   "cell_type": "code",
   "execution_count": null,
   "metadata": {},
   "outputs": [],
   "source": [
    "## (31, 3621, 538) — 1.00 Accuracy — for x purposes \"only\"\n",
    "## (32, 3151, 546) — 1.00 Accuracy — over and \"over\"\n",
    "## (32, 3151, 496) — 1.00 Accuracy — over and \"over\"\n",
    "## (34, 4410, 604) — 1.00 Accuracy – as fast/early/high \"as\"\n",
    "## (35, 3360, 691) — 1.00 Accuracy — by the \"very\"... over -> it was very, \"very\"\n",
    "## (35, 885, 549) — 1.00 Accuracy — Sentence... \"His\"\n",
    "## (31, 364, 548) — 0.95 Accuracy — The number of a document e.g. IMEI \"number\" passport \"number\", mobile \"number\", etc.\n",
    "## (31, 4378, 123) — 0.95 Accuracy — ... Taken \"together\"\n",
    "## (31, 4941, 538) — 0.95 Accuracy — \"within\" x amount of time\n",
    "## (34, 5095, 538) — 0.90 Accuracy — working \"well\", responding \"well\" — specifically for positive contexts\n",
    "## (34, 4494, 658) — 0.90 Accuracy — U. S. Pat \"no\" — specifically for US Patents only\n",
    "## (34, 4494, 160) — 0.90 Accuracy — U. S. Pat \"no\" — specifically for US Patents only\n",
    "## (31, 4378, 538) — 0.85 Accuracy — Bring \"together\", put two and two \"together\" — for contexts about merging or joining\n",
    "## (34, 4494, 641) — 0.90 Accuracy — U. S. Pat \"no\" — specifically for US Patents only\n",
    "## (32, 4964, 492) — 0.85 Accuracy — \"too\" — excessive contexts?\n",
    "## (35, 5014, 504) — 0.85 Accuracy — \" won\" — the examples are <won>'t, but GPT-4 doesn't understand that\n",
    "## (31, 4378, 106) — 0.80 Accuracy — taken \"together\"\n",
    "## (31, 4378, 88) — 0.80 Accuracy — taken \"together\"\n",
    "## (31, 988, 371) — 0.80 Accuracy — also \"called\"\n",
    "## (31, 2692, 559) — 0.80 Accuracy — past vs present e.g. what it \"used\" to be\n",
    "## (31, 4941, 466) — 0.80 Accuracy — deadline or timeframe\n",
    "## (32, 406, 538) — 0.80 Accuracy — ...as \"much\"\n",
    "## (33, 4900, 492) — 0.80 Accuracy — a measurement \"of\"\n",
    "## (34, 4262, 538) — 0.80 Accuracy — verb \"down\" e.g. watered down, gunned down\n",
    "## (34, 4199, 538) — 0.80 Accuracy — sought-\" after\""
   ]
  },
  {
   "cell_type": "code",
   "execution_count": 74,
   "metadata": {},
   "outputs": [
    {
     "name": "stdout",
     "output_type": "stream",
     "text": [
      "## (32, 4882, 489) — 0.75 Accuracy \n",
      "Neuron helps to predict the token \" class\".\n",
      "\n",
      "### Max-Activating Data from The Pile\n",
      "Examples where the attention head is active:\n",
      "0.  went to teach a yoga class\n",
      "1.  evening classes in May 2012, followed by morning class\n",
      "2.  kind of thing you learn about in introductory general physics class\n",
      "3.  Science course apart. The once-a-week class\n",
      "4.  teaching a music-appreciation class\n",
      "5.  include syllabi and promotional flyers for the first women's studies class\n",
      "6.  attend gender studies class\n",
      "7.  general education classroom to do a co-teaching lesson in my classroom. This way I get the opportunity to collaborate with my general education class\n",
      "8.  am planning on teaching an intro to “Programming for Informaticists” class\n",
      "9.  not teach headstand in my class\n",
      "\n",
      "Examples where the attention head is inactive:\n",
      "0.  teacher who noticed that I was fooling around at the back of the class\n",
      "1.  an aerobics class\n",
      "2.  always dabbled. I took a couple soapmaking class\n",
      "3.  copies of many books to professors who are adopting or have adopted one of our texts for their class\n",
      "4.  College in 1977. He frequently skipped class\n",
      "5.  regularly attended yoga class\n",
      "6.  aimless. They don’t care about their classes and sometimes they don’t want to go to class\n",
      "7. Text for undergraduate and high school dance courses. Supplemental text for dance composition class\n",
      "8.  decided to take him to music and theater acting class\n",
      "9.  kindergarten to Grade 12 to help them reflect on their interests, strengths, learning and later career possibilities; career and life-planning committees in every school; and professional development for teachers to help them integrate career and life planning into class\n",
      "\n",
      "GPT-4's Explanation: \n",
      "   The head is active when the document mentions a specific type of class or provides context or details about the class, such as an adjective describing the class (e.g., \"yoga,\" \"music appreciation,\" or \"gender studies\") or information about the class's schedule, frequency, or level (e.g., \"evening classes,\" \"once-a-week,\" or \"introductory general physics\"). In the inactive examples, the class is often referred to more generally or lacks specific context or details (e.g., \"an aerobics class,\" \"regularly attended yoga class,\" or \"skipped class\").\n",
      "\n",
      "### Synthetic Data from GPT-4\n",
      "Examples where the attention head is active:\n",
      "0. ✅ I just signed up for a new course at the community center. It's an advanced pottery\n",
      "1. ✅ My sister is taking a unique course next semester. In this art history\n",
      "2. ❌ This summer, I'm hoping to improve my fitness by taking a\n",
      "3. ✅ Mary decided it was time to learn a new language. She enrolled in a beginner's French\n",
      "4. ❌ The local animal shelter offers a socialization program. You can volunteer to attend a weekly puppy training\n",
      "5. ✅ My friend is passionate about learning Latin dances. He just enrolled in a weekly salsa\n",
      "6. ✅ The university is offering a fascinating class about artificial intelligence. It's an interdisciplinary\n",
      "7. ✅ John wanted to improve his public speaking skills. He signed up for a four-week Toastmasters\n",
      "8. ✅ Linda is trying to expand her mindfulness practice. She recently started attending an advanced meditation\n",
      "9. ✅ I've always wanted to learn how to cook gourmet meals. I registered for a hands-on cooking\n",
      "\n",
      "Examples where the attention head is inactive:\n",
      "0. ✅ I haven't seen Sarah at the gym lately. She must be busy with her new\n",
      "1. ✅ Tom mentioned he was struggling with his schedule. Balancing work and\n",
      "2. ✅ Lisa made a mistake in her report. She decided to blame it on missing\n",
      "3. ✅ Mike got a poor grade on his exam. Apparently, sleeping through\n",
      "4. ✅ Sally set a reminder on her phone. She didn't want to forget to attend her\n",
      "5. ❌ Kate couldn't decide which elective to take. The variety of\n",
      "6. ❌ The professor handed out the syllabus on the first day. There were clear expectations for the\n",
      "7. ✅ It started raining as they were walking to\n",
      "8. ✅ Paul asked his classmates for notes from the previous\n",
      "9. ❌ Rebecca made a study group with her classmates. They found studying together for the\n",
      "\n"
     ]
    }
   ],
   "source": [
    "for i, (accuracy, head, result) in enumerate(overview_list):\n",
    "    if ind != i: \n",
    "        continue\n",
    "    else:\n",
    "        print(result)\n",
    "        ind += 1\n",
    "        break"
   ]
  },
  {
   "cell_type": "code",
   "execution_count": 84,
   "metadata": {},
   "outputs": [
    {
     "data": {
      "text/plain": [
       "Text(0.5, 1.0, 'Positive Accuracy (Pre_Iteration)')"
      ]
     },
     "execution_count": 84,
     "metadata": {},
     "output_type": "execute_result"
    },
    {
     "data": {
      "image/png": "[encoded data removed]",
      "text/plain": [
       "<Figure size 640x480 with 1 Axes>"
      ]
     },
     "metadata": {},
     "output_type": "display_data"
    }
   ],
   "source": [
    "plt.hist(accuracies_positive.values(), bins, label='Positive Accuracy')\n",
    "plt.title(\"Positive Accuracy (Pre_Iteration)\")"
   ]
  },
  {
   "cell_type": "code",
   "execution_count": null,
   "metadata": {},
   "outputs": [],
   "source": []
  },
  {
   "cell_type": "code",
   "execution_count": 63,
   "metadata": {},
   "outputs": [
    {
     "data": {
      "application/vnd.plotly.v1+json": {
       "config": {
        "plotlyServerURL": "https://plot.ly"
       },
       "data": [
        {
         "hovertemplate": "<b>%{hovertext}</b><br><br>=%{y}<extra></extra>",
         "hovertext": [
          " only",
          " only",
          " only",
          " only",
          " only",
          " number",
          " number",
          " number",
          " go",
          " go",
          " go",
          " go",
          " go",
          " together",
          " together",
          " together",
          " together",
          " together",
          " together",
          " called",
          " called",
          " called",
          " called",
          " called",
          " called",
          " first",
          " first",
          " first",
          " used",
          " used",
          " used",
          " used",
          " within",
          " within",
          " within",
          " way",
          " way",
          " way",
          " way",
          " way",
          " out",
          " out",
          " out",
          " too",
          " too",
          " too",
          " will",
          " will",
          " right",
          " right",
          " right",
          " over",
          " over",
          " over",
          " out",
          " out",
          " out",
          " once",
          " once",
          " her",
          " her",
          " her",
          " her",
          " class",
          " class",
          " class",
          " class",
          " use",
          " use",
          " use",
          " use",
          " much",
          " much",
          " much",
          " much",
          " so",
          " so",
          " so",
          " so",
          " state",
          " state",
          " state",
          " state",
          " RandomRedditor",
          " RandomRedditor",
          " about",
          " about",
          " about",
          " about",
          " about",
          " following",
          " following",
          " following",
          " following",
          " following",
          " of",
          " of",
          " after",
          " after",
          " after",
          " after",
          " after",
          " around",
          " around",
          " around",
          " last",
          " last",
          " last",
          " last",
          " by",
          " by",
          " by",
          " off",
          " off",
          " off",
          " off",
          " down",
          " down",
          " down",
          " down",
          " down",
          " back",
          " back",
          " well",
          " there",
          " there",
          " there",
          " up",
          " up",
          " up",
          " no",
          " no",
          " no",
          " no",
          " after",
          " after",
          " after",
          " after",
          " after",
          " under",
          " under",
          " under",
          " as",
          " as",
          " as",
          " as",
          " issue",
          " issue",
          " issue",
          " issue",
          " close",
          " close",
          " close",
          " won",
          " won",
          " won",
          " high",
          " high",
          " very",
          " very",
          " very",
          " His",
          " His",
          " His",
          " His",
          " of",
          " of",
          " サーティ",
          " サーティ",
          " サーティ",
          " The",
          " The",
          " The",
          " The",
          " power",
          " power"
         ],
         "legendgroup": "",
         "marker": {
          "color": "#636efa",
          "symbol": "circle"
         },
         "mode": "markers",
         "name": "",
         "orientation": "v",
         "showlegend": false,
         "type": "scatter",
         "x": [
          0,
          1,
          2,
          3,
          4,
          5,
          6,
          7,
          8,
          9,
          10,
          11,
          12,
          13,
          14,
          15,
          16,
          17,
          18,
          19,
          20,
          21,
          22,
          23,
          24,
          25,
          26,
          27,
          28,
          29,
          30,
          31,
          32,
          33,
          34,
          35,
          36,
          37,
          38,
          39,
          40,
          41,
          42,
          43,
          44,
          45,
          46,
          47,
          48,
          49,
          50,
          51,
          52,
          53,
          54,
          55,
          56,
          57,
          58,
          59,
          60,
          61,
          62,
          63,
          64,
          65,
          66,
          67,
          68,
          69,
          70,
          71,
          72,
          73,
          74,
          75,
          76,
          77,
          78,
          79,
          80,
          81,
          82,
          83,
          84,
          85,
          86,
          87,
          88,
          89,
          90,
          91,
          92,
          93,
          94,
          95,
          96,
          97,
          98,
          99,
          100,
          101,
          102,
          103,
          104,
          105,
          106,
          107,
          108,
          109,
          110,
          111,
          112,
          113,
          114,
          115,
          116,
          117,
          118,
          119,
          120,
          121,
          122,
          123,
          124,
          125,
          126,
          127,
          128,
          129,
          130,
          131,
          132,
          133,
          134,
          135,
          136,
          137,
          138,
          139,
          140,
          141,
          142,
          143,
          144,
          145,
          146,
          147,
          148,
          149,
          150,
          151,
          152,
          153,
          154,
          155,
          156,
          157,
          158,
          159,
          160,
          161,
          162,
          163,
          164,
          165,
          166,
          167,
          168,
          169,
          170,
          171,
          172,
          173,
          174,
          175
         ],
         "xaxis": "x",
         "y": [
          0,
          0,
          1,
          0.4,
          0.4,
          0.1,
          0.9,
          0.2,
          0,
          0,
          0,
          0,
          0,
          0.8,
          0.5,
          0.1,
          0.9,
          0.6,
          0.6,
          0.6,
          0,
          0.6,
          0.2,
          0,
          0,
          0.2,
          0.3,
          0.2,
          0.3,
          0.1,
          0.6,
          0.1,
          0.9,
          0.7,
          0.6,
          0.7,
          0.1,
          0.5,
          0.6,
          0.1,
          0.7,
          1,
          0.7,
          0.6,
          0.7,
          0.8,
          1,
          1,
          0.3,
          0,
          0,
          1,
          1,
          0,
          1,
          0.8,
          0.8,
          0.4,
          0.4,
          0.3,
          0.7,
          0.9,
          0.5,
          0.8,
          0.9,
          0,
          0.4,
          0,
          0.6,
          0.9,
          0.4,
          0.2,
          0.5,
          0.6,
          0.3,
          0,
          0.5,
          0,
          0.1,
          0.4,
          0.3,
          0,
          0.3,
          0,
          1,
          0,
          0,
          0.2,
          0.4,
          0.5,
          0.6,
          0.5,
          0.3,
          1,
          0.9,
          0.6,
          0.3,
          0,
          0.1,
          0.1,
          0.4,
          0.3,
          0,
          0.4,
          0,
          0.7,
          0,
          0.2,
          0,
          0.5,
          0.7,
          0,
          0,
          0,
          0.3,
          1,
          0,
          0,
          0.6,
          0.9,
          0.7,
          0,
          0,
          0.9,
          0,
          0,
          0,
          0.9,
          0.1,
          0,
          1,
          0.9,
          0.8,
          0,
          1,
          0.5,
          0,
          0,
          0.7,
          0.2,
          1,
          0,
          0,
          0,
          1,
          0.2,
          0.4,
          0.2,
          0.3,
          1,
          0,
          0.2,
          0.6,
          0.2,
          0.7,
          0,
          0.6,
          0,
          1,
          1,
          1,
          0.3,
          1,
          0.7,
          0.4,
          0,
          0.1,
          1,
          1,
          0.5,
          0.45,
          0,
          0,
          0,
          0.3,
          0.4
         ],
         "yaxis": "y"
        }
       ],
       "layout": {
        "legend": {
         "tracegroupgap": 0
        },
        "template": {
         "data": {
          "bar": [
           {
            "error_x": {
             "color": "#2a3f5f"
            },
            "error_y": {
             "color": "#2a3f5f"
            },
            "marker": {
             "line": {
              "color": "#E5ECF6",
              "width": 0.5
             },
             "pattern": {
              "fillmode": "overlay",
              "size": 10,
              "solidity": 0.2
             }
            },
            "type": "bar"
           }
          ],
          "barpolar": [
           {
            "marker": {
             "line": {
              "color": "#E5ECF6",
              "width": 0.5
             },
             "pattern": {
              "fillmode": "overlay",
              "size": 10,
              "solidity": 0.2
             }
            },
            "type": "barpolar"
           }
          ],
          "carpet": [
           {
            "aaxis": {
             "endlinecolor": "#2a3f5f",
             "gridcolor": "white",
             "linecolor": "white",
             "minorgridcolor": "white",
             "startlinecolor": "#2a3f5f"
            },
            "baxis": {
             "endlinecolor": "#2a3f5f",
             "gridcolor": "white",
             "linecolor": "white",
             "minorgridcolor": "white",
             "startlinecolor": "#2a3f5f"
            },
            "type": "carpet"
           }
          ],
          "choropleth": [
           {
            "colorbar": {
             "outlinewidth": 0,
             "ticks": ""
            },
            "type": "choropleth"
           }
          ],
          "contour": [
           {
            "colorbar": {
             "outlinewidth": 0,
             "ticks": ""
            },
            "colorscale": [
             [
              0,
              "#0d0887"
             ],
             [
              0.1111111111111111,
              "#46039f"
             ],
             [
              0.2222222222222222,
              "#7201a8"
             ],
             [
              0.3333333333333333,
              "#9c179e"
             ],
             [
              0.4444444444444444,
              "#bd3786"
             ],
             [
              0.5555555555555556,
              "#d8576b"
             ],
             [
              0.6666666666666666,
              "#ed7953"
             ],
             [
              0.7777777777777778,
              "#fb9f3a"
             ],
             [
              0.8888888888888888,
              "#fdca26"
             ],
             [
              1,
              "#f0f921"
             ]
            ],
            "type": "contour"
           }
          ],
          "contourcarpet": [
           {
            "colorbar": {
             "outlinewidth": 0,
             "ticks": ""
            },
            "type": "contourcarpet"
           }
          ],
          "heatmap": [
           {
            "colorbar": {
             "outlinewidth": 0,
             "ticks": ""
            },
            "colorscale": [
             [
              0,
              "#0d0887"
             ],
             [
              0.1111111111111111,
              "#46039f"
             ],
             [
              0.2222222222222222,
              "#7201a8"
             ],
             [
              0.3333333333333333,
              "#9c179e"
             ],
             [
              0.4444444444444444,
              "#bd3786"
             ],
             [
              0.5555555555555556,
              "#d8576b"
             ],
             [
              0.6666666666666666,
              "#ed7953"
             ],
             [
              0.7777777777777778,
              "#fb9f3a"
             ],
             [
              0.8888888888888888,
              "#fdca26"
             ],
             [
              1,
              "#f0f921"
             ]
            ],
            "type": "heatmap"
           }
          ],
          "heatmapgl": [
           {
            "colorbar": {
             "outlinewidth": 0,
             "ticks": ""
            },
            "colorscale": [
             [
              0,
              "#0d0887"
             ],
             [
              0.1111111111111111,
              "#46039f"
             ],
             [
              0.2222222222222222,
              "#7201a8"
             ],
             [
              0.3333333333333333,
              "#9c179e"
             ],
             [
              0.4444444444444444,
              "#bd3786"
             ],
             [
              0.5555555555555556,
              "#d8576b"
             ],
             [
              0.6666666666666666,
              "#ed7953"
             ],
             [
              0.7777777777777778,
              "#fb9f3a"
             ],
             [
              0.8888888888888888,
              "#fdca26"
             ],
             [
              1,
              "#f0f921"
             ]
            ],
            "type": "heatmapgl"
           }
          ],
          "histogram": [
           {
            "marker": {
             "pattern": {
              "fillmode": "overlay",
              "size": 10,
              "solidity": 0.2
             }
            },
            "type": "histogram"
           }
          ],
          "histogram2d": [
           {
            "colorbar": {
             "outlinewidth": 0,
             "ticks": ""
            },
            "colorscale": [
             [
              0,
              "#0d0887"
             ],
             [
              0.1111111111111111,
              "#46039f"
             ],
             [
              0.2222222222222222,
              "#7201a8"
             ],
             [
              0.3333333333333333,
              "#9c179e"
             ],
             [
              0.4444444444444444,
              "#bd3786"
             ],
             [
              0.5555555555555556,
              "#d8576b"
             ],
             [
              0.6666666666666666,
              "#ed7953"
             ],
             [
              0.7777777777777778,
              "#fb9f3a"
             ],
             [
              0.8888888888888888,
              "#fdca26"
             ],
             [
              1,
              "#f0f921"
             ]
            ],
            "type": "histogram2d"
           }
          ],
          "histogram2dcontour": [
           {
            "colorbar": {
             "outlinewidth": 0,
             "ticks": ""
            },
            "colorscale": [
             [
              0,
              "#0d0887"
             ],
             [
              0.1111111111111111,
              "#46039f"
             ],
             [
              0.2222222222222222,
              "#7201a8"
             ],
             [
              0.3333333333333333,
              "#9c179e"
             ],
             [
              0.4444444444444444,
              "#bd3786"
             ],
             [
              0.5555555555555556,
              "#d8576b"
             ],
             [
              0.6666666666666666,
              "#ed7953"
             ],
             [
              0.7777777777777778,
              "#fb9f3a"
             ],
             [
              0.8888888888888888,
              "#fdca26"
             ],
             [
              1,
              "#f0f921"
             ]
            ],
            "type": "histogram2dcontour"
           }
          ],
          "mesh3d": [
           {
            "colorbar": {
             "outlinewidth": 0,
             "ticks": ""
            },
            "type": "mesh3d"
           }
          ],
          "parcoords": [
           {
            "line": {
             "colorbar": {
              "outlinewidth": 0,
              "ticks": ""
             }
            },
            "type": "parcoords"
           }
          ],
          "pie": [
           {
            "automargin": true,
            "type": "pie"
           }
          ],
          "scatter": [
           {
            "fillpattern": {
             "fillmode": "overlay",
             "size": 10,
             "solidity": 0.2
            },
            "type": "scatter"
           }
          ],
          "scatter3d": [
           {
            "line": {
             "colorbar": {
              "outlinewidth": 0,
              "ticks": ""
             }
            },
            "marker": {
             "colorbar": {
              "outlinewidth": 0,
              "ticks": ""
             }
            },
            "type": "scatter3d"
           }
          ],
          "scattercarpet": [
           {
            "marker": {
             "colorbar": {
              "outlinewidth": 0,
              "ticks": ""
             }
            },
            "type": "scattercarpet"
           }
          ],
          "scattergeo": [
           {
            "marker": {
             "colorbar": {
              "outlinewidth": 0,
              "ticks": ""
             }
            },
            "type": "scattergeo"
           }
          ],
          "scattergl": [
           {
            "marker": {
             "colorbar": {
              "outlinewidth": 0,
              "ticks": ""
             }
            },
            "type": "scattergl"
           }
          ],
          "scattermapbox": [
           {
            "marker": {
             "colorbar": {
              "outlinewidth": 0,
              "ticks": ""
             }
            },
            "type": "scattermapbox"
           }
          ],
          "scatterpolar": [
           {
            "marker": {
             "colorbar": {
              "outlinewidth": 0,
              "ticks": ""
             }
            },
            "type": "scatterpolar"
           }
          ],
          "scatterpolargl": [
           {
            "marker": {
             "colorbar": {
              "outlinewidth": 0,
              "ticks": ""
             }
            },
            "type": "scatterpolargl"
           }
          ],
          "scatterternary": [
           {
            "marker": {
             "colorbar": {
              "outlinewidth": 0,
              "ticks": ""
             }
            },
            "type": "scatterternary"
           }
          ],
          "surface": [
           {
            "colorbar": {
             "outlinewidth": 0,
             "ticks": ""
            },
            "colorscale": [
             [
              0,
              "#0d0887"
             ],
             [
              0.1111111111111111,
              "#46039f"
             ],
             [
              0.2222222222222222,
              "#7201a8"
             ],
             [
              0.3333333333333333,
              "#9c179e"
             ],
             [
              0.4444444444444444,
              "#bd3786"
             ],
             [
              0.5555555555555556,
              "#d8576b"
             ],
             [
              0.6666666666666666,
              "#ed7953"
             ],
             [
              0.7777777777777778,
              "#fb9f3a"
             ],
             [
              0.8888888888888888,
              "#fdca26"
             ],
             [
              1,
              "#f0f921"
             ]
            ],
            "type": "surface"
           }
          ],
          "table": [
           {
            "cells": {
             "fill": {
              "color": "#EBF0F8"
             },
             "line": {
              "color": "white"
             }
            },
            "header": {
             "fill": {
              "color": "#C8D4E3"
             },
             "line": {
              "color": "white"
             }
            },
            "type": "table"
           }
          ]
         },
         "layout": {
          "annotationdefaults": {
           "arrowcolor": "#2a3f5f",
           "arrowhead": 0,
           "arrowwidth": 1
          },
          "autotypenumbers": "strict",
          "coloraxis": {
           "colorbar": {
            "outlinewidth": 0,
            "ticks": ""
           }
          },
          "colorscale": {
           "diverging": [
            [
             0,
             "#8e0152"
            ],
            [
             0.1,
             "#c51b7d"
            ],
            [
             0.2,
             "#de77ae"
            ],
            [
             0.3,
             "#f1b6da"
            ],
            [
             0.4,
             "#fde0ef"
            ],
            [
             0.5,
             "#f7f7f7"
            ],
            [
             0.6,
             "#e6f5d0"
            ],
            [
             0.7,
             "#b8e186"
            ],
            [
             0.8,
             "#7fbc41"
            ],
            [
             0.9,
             "#4d9221"
            ],
            [
             1,
             "#276419"
            ]
           ],
           "sequential": [
            [
             0,
             "#0d0887"
            ],
            [
             0.1111111111111111,
             "#46039f"
            ],
            [
             0.2222222222222222,
             "#7201a8"
            ],
            [
             0.3333333333333333,
             "#9c179e"
            ],
            [
             0.4444444444444444,
             "#bd3786"
            ],
            [
             0.5555555555555556,
             "#d8576b"
            ],
            [
             0.6666666666666666,
             "#ed7953"
            ],
            [
             0.7777777777777778,
             "#fb9f3a"
            ],
            [
             0.8888888888888888,
             "#fdca26"
            ],
            [
             1,
             "#f0f921"
            ]
           ],
           "sequentialminus": [
            [
             0,
             "#0d0887"
            ],
            [
             0.1111111111111111,
             "#46039f"
            ],
            [
             0.2222222222222222,
             "#7201a8"
            ],
            [
             0.3333333333333333,
             "#9c179e"
            ],
            [
             0.4444444444444444,
             "#bd3786"
            ],
            [
             0.5555555555555556,
             "#d8576b"
            ],
            [
             0.6666666666666666,
             "#ed7953"
            ],
            [
             0.7777777777777778,
             "#fb9f3a"
            ],
            [
             0.8888888888888888,
             "#fdca26"
            ],
            [
             1,
             "#f0f921"
            ]
           ]
          },
          "colorway": [
           "#636efa",
           "#EF553B",
           "#00cc96",
           "#ab63fa",
           "#FFA15A",
           "#19d3f3",
           "#FF6692",
           "#B6E880",
           "#FF97FF",
           "#FECB52"
          ],
          "font": {
           "color": "#2a3f5f"
          },
          "geo": {
           "bgcolor": "white",
           "lakecolor": "white",
           "landcolor": "#E5ECF6",
           "showlakes": true,
           "showland": true,
           "subunitcolor": "white"
          },
          "hoverlabel": {
           "align": "left"
          },
          "hovermode": "closest",
          "mapbox": {
           "style": "light"
          },
          "paper_bgcolor": "white",
          "plot_bgcolor": "#E5ECF6",
          "polar": {
           "angularaxis": {
            "gridcolor": "white",
            "linecolor": "white",
            "ticks": ""
           },
           "bgcolor": "#E5ECF6",
           "radialaxis": {
            "gridcolor": "white",
            "linecolor": "white",
            "ticks": ""
           }
          },
          "scene": {
           "xaxis": {
            "backgroundcolor": "#E5ECF6",
            "gridcolor": "white",
            "gridwidth": 2,
            "linecolor": "white",
            "showbackground": true,
            "ticks": "",
            "zerolinecolor": "white"
           },
           "yaxis": {
            "backgroundcolor": "#E5ECF6",
            "gridcolor": "white",
            "gridwidth": 2,
            "linecolor": "white",
            "showbackground": true,
            "ticks": "",
            "zerolinecolor": "white"
           },
           "zaxis": {
            "backgroundcolor": "#E5ECF6",
            "gridcolor": "white",
            "gridwidth": 2,
            "linecolor": "white",
            "showbackground": true,
            "ticks": "",
            "zerolinecolor": "white"
           }
          },
          "shapedefaults": {
           "line": {
            "color": "#2a3f5f"
           }
          },
          "ternary": {
           "aaxis": {
            "gridcolor": "white",
            "linecolor": "white",
            "ticks": ""
           },
           "baxis": {
            "gridcolor": "white",
            "linecolor": "white",
            "ticks": ""
           },
           "bgcolor": "#E5ECF6",
           "caxis": {
            "gridcolor": "white",
            "linecolor": "white",
            "ticks": ""
           }
          },
          "title": {
           "x": 0.05
          },
          "xaxis": {
           "automargin": true,
           "gridcolor": "white",
           "linecolor": "white",
           "ticks": "",
           "title": {
            "standoff": 15
           },
           "zerolinecolor": "white",
           "zerolinewidth": 2
          },
          "yaxis": {
           "automargin": true,
           "gridcolor": "white",
           "linecolor": "white",
           "ticks": "",
           "title": {
            "standoff": 15
           },
           "zerolinecolor": "white",
           "zerolinewidth": 2
          }
         }
        },
        "title": {
         "text": "Accuracy of Positive Generation (Pre-Iteration)"
        },
        "xaxis": {
         "anchor": "y",
         "domain": [
          0,
          1
         ],
         "title": {
          "text": ""
         }
        },
        "yaxis": {
         "anchor": "x",
         "domain": [
          0,
          1
         ],
         "range": [
          -0.1,
          1.1
         ],
         "title": {
          "text": ""
         }
        }
       }
      }
     },
     "metadata": {},
     "output_type": "display_data"
    }
   ],
   "source": [
    "scatter(np.arange(len(accuracies_positive)), list(accuracies_positive.values()), hover_name=labels, title=\"Accuracy of Positive Generation (Pre-Iteration)\",range_y=[-0.1,1.1])"
   ]
  },
  {
   "cell_type": "code",
   "execution_count": 64,
   "metadata": {},
   "outputs": [
    {
     "name": "stdout",
     "output_type": "stream",
     "text": [
      "0.5954229797979799\n",
      "0.4034090909090909\n",
      "0.7856534090909091\n",
      "0.40573377829807455\n",
      "0.4034090909090909\n",
      "0.6660497535647056\n"
     ]
    }
   ],
   "source": [
    "accuracies = []\n",
    "accuracies_positive = {}\n",
    "accuracies_negative = []\n",
    "f1s = []\n",
    "precisions = []\n",
    "recalls = []\n",
    "for head, (pred_pos, pred_neg, correct_pos, correct_neg) in v2.items():\n",
    "    true_pos = 0\n",
    "    true_neg = 0\n",
    "    false_pos = 0\n",
    "    false_neg = 0\n",
    "    for eg in pred_pos:\n",
    "        if eg in correct_pos:\n",
    "            true_pos += 1\n",
    "        else:\n",
    "            false_pos += 1\n",
    "    for eg in pred_neg:\n",
    "        if eg in correct_neg:\n",
    "            true_neg += 1\n",
    "        else:\n",
    "            false_neg += 1\n",
    "    accuracy = (true_pos + true_neg) / (true_pos + true_neg + false_pos + false_neg)\n",
    "    accuracy_positive = true_pos / (true_pos + false_pos)\n",
    "    accuracy_negative = true_neg / (true_neg + false_neg)\n",
    "    precision = true_pos / (true_pos + false_pos)\n",
    "    try:\n",
    "        recall = true_pos / (true_pos + false_neg)\n",
    "        recalls.append(recall)\n",
    "    except ZeroDivisionError:\n",
    "        pass\n",
    "    precisions.append(precision)\n",
    "\n",
    "    # accuracies_positive.append(accuracy_positive)\n",
    "    accuracies_positive[head] = accuracy_positive\n",
    "    accuracies_negative.append(accuracy_negative)\n",
    "    accuracies.append(accuracy)\n",
    "    f1 = 2 * true_pos / (2 * true_pos + false_pos + false_neg)\n",
    "    f1s.append(f1)\n",
    "\n",
    "\n",
    "\n",
    "print(np.mean(accuracies))\n",
    "print(np.mean(list(accuracies_positive.values())))\n",
    "print(np.mean(accuracies_negative))\n",
    "print(np.mean(f1s))\n",
    "print(np.mean(precisions))\n",
    "print(np.mean(recalls))"
   ]
  },
  {
   "cell_type": "code",
   "execution_count": 65,
   "metadata": {},
   "outputs": [
    {
     "data": {
      "application/vnd.plotly.v1+json": {
       "config": {
        "plotlyServerURL": "https://plot.ly"
       },
       "data": [
        {
         "hovertemplate": "=%{y}<extra></extra>",
         "legendgroup": "",
         "marker": {
          "color": "#636efa",
          "symbol": "circle"
         },
         "mode": "markers",
         "name": "",
         "orientation": "v",
         "showlegend": false,
         "type": "scatter",
         "x": [
          0,
          1,
          2,
          3,
          4,
          5,
          6,
          7,
          8,
          9,
          10,
          11,
          12,
          13,
          14,
          15,
          16,
          17,
          18,
          19,
          20,
          21,
          22,
          23,
          24,
          25,
          26,
          27,
          28,
          29,
          30,
          31,
          32,
          33,
          34,
          35,
          36,
          37,
          38,
          39,
          40,
          41,
          42,
          43,
          44,
          45,
          46,
          47,
          48,
          49,
          50,
          51,
          52,
          53,
          54,
          55,
          56,
          57,
          58,
          59,
          60,
          61,
          62,
          63,
          64,
          65,
          66,
          67,
          68,
          69,
          70,
          71,
          72,
          73,
          74,
          75,
          76,
          77,
          78,
          79,
          80,
          81,
          82,
          83,
          84,
          85,
          86,
          87,
          88,
          89,
          90,
          91,
          92,
          93,
          94,
          95,
          96,
          97,
          98,
          99,
          100,
          101,
          102,
          103,
          104,
          105,
          106,
          107,
          108,
          109,
          110,
          111,
          112,
          113,
          114,
          115,
          116,
          117,
          118,
          119,
          120,
          121,
          122,
          123,
          124,
          125,
          126,
          127,
          128,
          129,
          130,
          131,
          132,
          133,
          134,
          135,
          136,
          137,
          138,
          139,
          140,
          141,
          142,
          143,
          144,
          145,
          146,
          147,
          148,
          149,
          150,
          151,
          152,
          153,
          154,
          155,
          156,
          157,
          158,
          159,
          160,
          161,
          162,
          163,
          164,
          165,
          166,
          167,
          168,
          169,
          170,
          171,
          172,
          173,
          174,
          175
         ],
         "xaxis": "x",
         "y": [
          0.5,
          0.5,
          0.95,
          0.8,
          0.35,
          0.55,
          0.8,
          0.55,
          0.5,
          0.45,
          0.5,
          0.5,
          0.5,
          0.75,
          0.6,
          0.45,
          0.85,
          0.95,
          0.7,
          0.8,
          0.45,
          0.6,
          0.7,
          0.55,
          0.5,
          0.5,
          0.6,
          0.65,
          0.5,
          0.5,
          0.9,
          0.6,
          0.95,
          0.8,
          0.65,
          0.65,
          0.5,
          0.75,
          0.5,
          0.6,
          0.5,
          0.5,
          0.55,
          0.65,
          0.5,
          1,
          0.5,
          0.5,
          0.55,
          0.5,
          0.5,
          1,
          1,
          0.85,
          0.5,
          0.4,
          0.45,
          0.5,
          0.5,
          0.35,
          0.7,
          0.85,
          0.55,
          0.85,
          0.45,
          0.6,
          0.7,
          0.45,
          0.75,
          0.75,
          0.65,
          0.5,
          0.55,
          0.55,
          0.5,
          0.5,
          1,
          0.5,
          0.5,
          0.7,
          0.45,
          0.5,
          0.7,
          0.5,
          0.5,
          0.4,
          0.45,
          0.5,
          0.8,
          0.65,
          0.75,
          0.5,
          0.7,
          0.5,
          0.45,
          0.7,
          0.55,
          0.5,
          0.5,
          0.5,
          0.5,
          0.35,
          0.55,
          0.7,
          0.55,
          0.6,
          0.3,
          0.6,
          0.5,
          0.25,
          0.55,
          0.5,
          0.5,
          0.5,
          0.45,
          0.6,
          0.5,
          0.5,
          0.5,
          0.7,
          0.95,
          0.7,
          0.5,
          0.6,
          0.5,
          0.5,
          0.5,
          0.6,
          0.5,
          0.5,
          1,
          0.5,
          0.9,
          0.5,
          0.55,
          0.45,
          0.5,
          0.45,
          0.6,
          0.55,
          0.55,
          0.5,
          0.5,
          0.5,
          1,
          0.7,
          0.85,
          0.9,
          0.3,
          0.65,
          0.55,
          0.6,
          0.75,
          0.8,
          0.5,
          0.6,
          0.75,
          0.25,
          0.55,
          0.55,
          0.55,
          0.6,
          1,
          0.85,
          0.6,
          0.5,
          0.6,
          0.6111111111111112,
          0.6666666666666666,
          0.6666666666666666,
          0.7,
          0.45,
          0.5,
          0.5,
          0.55,
          0.55
         ],
         "yaxis": "y"
        }
       ],
       "layout": {
        "legend": {
         "tracegroupgap": 0
        },
        "template": {
         "data": {
          "bar": [
           {
            "error_x": {
             "color": "#2a3f5f"
            },
            "error_y": {
             "color": "#2a3f5f"
            },
            "marker": {
             "line": {
              "color": "#E5ECF6",
              "width": 0.5
             },
             "pattern": {
              "fillmode": "overlay",
              "size": 10,
              "solidity": 0.2
             }
            },
            "type": "bar"
           }
          ],
          "barpolar": [
           {
            "marker": {
             "line": {
              "color": "#E5ECF6",
              "width": 0.5
             },
             "pattern": {
              "fillmode": "overlay",
              "size": 10,
              "solidity": 0.2
             }
            },
            "type": "barpolar"
           }
          ],
          "carpet": [
           {
            "aaxis": {
             "endlinecolor": "#2a3f5f",
             "gridcolor": "white",
             "linecolor": "white",
             "minorgridcolor": "white",
             "startlinecolor": "#2a3f5f"
            },
            "baxis": {
             "endlinecolor": "#2a3f5f",
             "gridcolor": "white",
             "linecolor": "white",
             "minorgridcolor": "white",
             "startlinecolor": "#2a3f5f"
            },
            "type": "carpet"
           }
          ],
          "choropleth": [
           {
            "colorbar": {
             "outlinewidth": 0,
             "ticks": ""
            },
            "type": "choropleth"
           }
          ],
          "contour": [
           {
            "colorbar": {
             "outlinewidth": 0,
             "ticks": ""
            },
            "colorscale": [
             [
              0,
              "#0d0887"
             ],
             [
              0.1111111111111111,
              "#46039f"
             ],
             [
              0.2222222222222222,
              "#7201a8"
             ],
             [
              0.3333333333333333,
              "#9c179e"
             ],
             [
              0.4444444444444444,
              "#bd3786"
             ],
             [
              0.5555555555555556,
              "#d8576b"
             ],
             [
              0.6666666666666666,
              "#ed7953"
             ],
             [
              0.7777777777777778,
              "#fb9f3a"
             ],
             [
              0.8888888888888888,
              "#fdca26"
             ],
             [
              1,
              "#f0f921"
             ]
            ],
            "type": "contour"
           }
          ],
          "contourcarpet": [
           {
            "colorbar": {
             "outlinewidth": 0,
             "ticks": ""
            },
            "type": "contourcarpet"
           }
          ],
          "heatmap": [
           {
            "colorbar": {
             "outlinewidth": 0,
             "ticks": ""
            },
            "colorscale": [
             [
              0,
              "#0d0887"
             ],
             [
              0.1111111111111111,
              "#46039f"
             ],
             [
              0.2222222222222222,
              "#7201a8"
             ],
             [
              0.3333333333333333,
              "#9c179e"
             ],
             [
              0.4444444444444444,
              "#bd3786"
             ],
             [
              0.5555555555555556,
              "#d8576b"
             ],
             [
              0.6666666666666666,
              "#ed7953"
             ],
             [
              0.7777777777777778,
              "#fb9f3a"
             ],
             [
              0.8888888888888888,
              "#fdca26"
             ],
             [
              1,
              "#f0f921"
             ]
            ],
            "type": "heatmap"
           }
          ],
          "heatmapgl": [
           {
            "colorbar": {
             "outlinewidth": 0,
             "ticks": ""
            },
            "colorscale": [
             [
              0,
              "#0d0887"
             ],
             [
              0.1111111111111111,
              "#46039f"
             ],
             [
              0.2222222222222222,
              "#7201a8"
             ],
             [
              0.3333333333333333,
              "#9c179e"
             ],
             [
              0.4444444444444444,
              "#bd3786"
             ],
             [
              0.5555555555555556,
              "#d8576b"
             ],
             [
              0.6666666666666666,
              "#ed7953"
             ],
             [
              0.7777777777777778,
              "#fb9f3a"
             ],
             [
              0.8888888888888888,
              "#fdca26"
             ],
             [
              1,
              "#f0f921"
             ]
            ],
            "type": "heatmapgl"
           }
          ],
          "histogram": [
           {
            "marker": {
             "pattern": {
              "fillmode": "overlay",
              "size": 10,
              "solidity": 0.2
             }
            },
            "type": "histogram"
           }
          ],
          "histogram2d": [
           {
            "colorbar": {
             "outlinewidth": 0,
             "ticks": ""
            },
            "colorscale": [
             [
              0,
              "#0d0887"
             ],
             [
              0.1111111111111111,
              "#46039f"
             ],
             [
              0.2222222222222222,
              "#7201a8"
             ],
             [
              0.3333333333333333,
              "#9c179e"
             ],
             [
              0.4444444444444444,
              "#bd3786"
             ],
             [
              0.5555555555555556,
              "#d8576b"
             ],
             [
              0.6666666666666666,
              "#ed7953"
             ],
             [
              0.7777777777777778,
              "#fb9f3a"
             ],
             [
              0.8888888888888888,
              "#fdca26"
             ],
             [
              1,
              "#f0f921"
             ]
            ],
            "type": "histogram2d"
           }
          ],
          "histogram2dcontour": [
           {
            "colorbar": {
             "outlinewidth": 0,
             "ticks": ""
            },
            "colorscale": [
             [
              0,
              "#0d0887"
             ],
             [
              0.1111111111111111,
              "#46039f"
             ],
             [
              0.2222222222222222,
              "#7201a8"
             ],
             [
              0.3333333333333333,
              "#9c179e"
             ],
             [
              0.4444444444444444,
              "#bd3786"
             ],
             [
              0.5555555555555556,
              "#d8576b"
             ],
             [
              0.6666666666666666,
              "#ed7953"
             ],
             [
              0.7777777777777778,
              "#fb9f3a"
             ],
             [
              0.8888888888888888,
              "#fdca26"
             ],
             [
              1,
              "#f0f921"
             ]
            ],
            "type": "histogram2dcontour"
           }
          ],
          "mesh3d": [
           {
            "colorbar": {
             "outlinewidth": 0,
             "ticks": ""
            },
            "type": "mesh3d"
           }
          ],
          "parcoords": [
           {
            "line": {
             "colorbar": {
              "outlinewidth": 0,
              "ticks": ""
             }
            },
            "type": "parcoords"
           }
          ],
          "pie": [
           {
            "automargin": true,
            "type": "pie"
           }
          ],
          "scatter": [
           {
            "fillpattern": {
             "fillmode": "overlay",
             "size": 10,
             "solidity": 0.2
            },
            "type": "scatter"
           }
          ],
          "scatter3d": [
           {
            "line": {
             "colorbar": {
              "outlinewidth": 0,
              "ticks": ""
             }
            },
            "marker": {
             "colorbar": {
              "outlinewidth": 0,
              "ticks": ""
             }
            },
            "type": "scatter3d"
           }
          ],
          "scattercarpet": [
           {
            "marker": {
             "colorbar": {
              "outlinewidth": 0,
              "ticks": ""
             }
            },
            "type": "scattercarpet"
           }
          ],
          "scattergeo": [
           {
            "marker": {
             "colorbar": {
              "outlinewidth": 0,
              "ticks": ""
             }
            },
            "type": "scattergeo"
           }
          ],
          "scattergl": [
           {
            "marker": {
             "colorbar": {
              "outlinewidth": 0,
              "ticks": ""
             }
            },
            "type": "scattergl"
           }
          ],
          "scattermapbox": [
           {
            "marker": {
             "colorbar": {
              "outlinewidth": 0,
              "ticks": ""
             }
            },
            "type": "scattermapbox"
           }
          ],
          "scatterpolar": [
           {
            "marker": {
             "colorbar": {
              "outlinewidth": 0,
              "ticks": ""
             }
            },
            "type": "scatterpolar"
           }
          ],
          "scatterpolargl": [
           {
            "marker": {
             "colorbar": {
              "outlinewidth": 0,
              "ticks": ""
             }
            },
            "type": "scatterpolargl"
           }
          ],
          "scatterternary": [
           {
            "marker": {
             "colorbar": {
              "outlinewidth": 0,
              "ticks": ""
             }
            },
            "type": "scatterternary"
           }
          ],
          "surface": [
           {
            "colorbar": {
             "outlinewidth": 0,
             "ticks": ""
            },
            "colorscale": [
             [
              0,
              "#0d0887"
             ],
             [
              0.1111111111111111,
              "#46039f"
             ],
             [
              0.2222222222222222,
              "#7201a8"
             ],
             [
              0.3333333333333333,
              "#9c179e"
             ],
             [
              0.4444444444444444,
              "#bd3786"
             ],
             [
              0.5555555555555556,
              "#d8576b"
             ],
             [
              0.6666666666666666,
              "#ed7953"
             ],
             [
              0.7777777777777778,
              "#fb9f3a"
             ],
             [
              0.8888888888888888,
              "#fdca26"
             ],
             [
              1,
              "#f0f921"
             ]
            ],
            "type": "surface"
           }
          ],
          "table": [
           {
            "cells": {
             "fill": {
              "color": "#EBF0F8"
             },
             "line": {
              "color": "white"
             }
            },
            "header": {
             "fill": {
              "color": "#C8D4E3"
             },
             "line": {
              "color": "white"
             }
            },
            "type": "table"
           }
          ]
         },
         "layout": {
          "annotationdefaults": {
           "arrowcolor": "#2a3f5f",
           "arrowhead": 0,
           "arrowwidth": 1
          },
          "autotypenumbers": "strict",
          "coloraxis": {
           "colorbar": {
            "outlinewidth": 0,
            "ticks": ""
           }
          },
          "colorscale": {
           "diverging": [
            [
             0,
             "#8e0152"
            ],
            [
             0.1,
             "#c51b7d"
            ],
            [
             0.2,
             "#de77ae"
            ],
            [
             0.3,
             "#f1b6da"
            ],
            [
             0.4,
             "#fde0ef"
            ],
            [
             0.5,
             "#f7f7f7"
            ],
            [
             0.6,
             "#e6f5d0"
            ],
            [
             0.7,
             "#b8e186"
            ],
            [
             0.8,
             "#7fbc41"
            ],
            [
             0.9,
             "#4d9221"
            ],
            [
             1,
             "#276419"
            ]
           ],
           "sequential": [
            [
             0,
             "#0d0887"
            ],
            [
             0.1111111111111111,
             "#46039f"
            ],
            [
             0.2222222222222222,
             "#7201a8"
            ],
            [
             0.3333333333333333,
             "#9c179e"
            ],
            [
             0.4444444444444444,
             "#bd3786"
            ],
            [
             0.5555555555555556,
             "#d8576b"
            ],
            [
             0.6666666666666666,
             "#ed7953"
            ],
            [
             0.7777777777777778,
             "#fb9f3a"
            ],
            [
             0.8888888888888888,
             "#fdca26"
            ],
            [
             1,
             "#f0f921"
            ]
           ],
           "sequentialminus": [
            [
             0,
             "#0d0887"
            ],
            [
             0.1111111111111111,
             "#46039f"
            ],
            [
             0.2222222222222222,
             "#7201a8"
            ],
            [
             0.3333333333333333,
             "#9c179e"
            ],
            [
             0.4444444444444444,
             "#bd3786"
            ],
            [
             0.5555555555555556,
             "#d8576b"
            ],
            [
             0.6666666666666666,
             "#ed7953"
            ],
            [
             0.7777777777777778,
             "#fb9f3a"
            ],
            [
             0.8888888888888888,
             "#fdca26"
            ],
            [
             1,
             "#f0f921"
            ]
           ]
          },
          "colorway": [
           "#636efa",
           "#EF553B",
           "#00cc96",
           "#ab63fa",
           "#FFA15A",
           "#19d3f3",
           "#FF6692",
           "#B6E880",
           "#FF97FF",
           "#FECB52"
          ],
          "font": {
           "color": "#2a3f5f"
          },
          "geo": {
           "bgcolor": "white",
           "lakecolor": "white",
           "landcolor": "#E5ECF6",
           "showlakes": true,
           "showland": true,
           "subunitcolor": "white"
          },
          "hoverlabel": {
           "align": "left"
          },
          "hovermode": "closest",
          "mapbox": {
           "style": "light"
          },
          "paper_bgcolor": "white",
          "plot_bgcolor": "#E5ECF6",
          "polar": {
           "angularaxis": {
            "gridcolor": "white",
            "linecolor": "white",
            "ticks": ""
           },
           "bgcolor": "#E5ECF6",
           "radialaxis": {
            "gridcolor": "white",
            "linecolor": "white",
            "ticks": ""
           }
          },
          "scene": {
           "xaxis": {
            "backgroundcolor": "#E5ECF6",
            "gridcolor": "white",
            "gridwidth": 2,
            "linecolor": "white",
            "showbackground": true,
            "ticks": "",
            "zerolinecolor": "white"
           },
           "yaxis": {
            "backgroundcolor": "#E5ECF6",
            "gridcolor": "white",
            "gridwidth": 2,
            "linecolor": "white",
            "showbackground": true,
            "ticks": "",
            "zerolinecolor": "white"
           },
           "zaxis": {
            "backgroundcolor": "#E5ECF6",
            "gridcolor": "white",
            "gridwidth": 2,
            "linecolor": "white",
            "showbackground": true,
            "ticks": "",
            "zerolinecolor": "white"
           }
          },
          "shapedefaults": {
           "line": {
            "color": "#2a3f5f"
           }
          },
          "ternary": {
           "aaxis": {
            "gridcolor": "white",
            "linecolor": "white",
            "ticks": ""
           },
           "baxis": {
            "gridcolor": "white",
            "linecolor": "white",
            "ticks": ""
           },
           "bgcolor": "#E5ECF6",
           "caxis": {
            "gridcolor": "white",
            "linecolor": "white",
            "ticks": ""
           }
          },
          "title": {
           "x": 0.05
          },
          "xaxis": {
           "automargin": true,
           "gridcolor": "white",
           "linecolor": "white",
           "ticks": "",
           "title": {
            "standoff": 15
           },
           "zerolinecolor": "white",
           "zerolinewidth": 2
          },
          "yaxis": {
           "automargin": true,
           "gridcolor": "white",
           "linecolor": "white",
           "ticks": "",
           "title": {
            "standoff": 15
           },
           "zerolinecolor": "white",
           "zerolinewidth": 2
          }
         }
        },
        "title": {
         "text": "Overall Accuracy (Post_Iteration)"
        },
        "xaxis": {
         "anchor": "y",
         "domain": [
          0,
          1
         ],
         "title": {
          "text": ""
         }
        },
        "yaxis": {
         "anchor": "x",
         "domain": [
          0,
          1
         ],
         "range": [
          -0.1,
          1.1
         ],
         "title": {
          "text": ""
         }
        }
       }
      }
     },
     "metadata": {},
     "output_type": "display_data"
    }
   ],
   "source": [
    "scatter(np.arange(len(accuracies)), accuracies, title=\"Overall Accuracy (Post_Iteration)\",range_y=[-0.1,1.1])"
   ]
  },
  {
   "cell_type": "code",
   "execution_count": 66,
   "metadata": {},
   "outputs": [
    {
     "data": {
      "application/vnd.plotly.v1+json": {
       "config": {
        "plotlyServerURL": "https://plot.ly"
       },
       "data": [
        {
         "hovertemplate": "<b>%{hovertext}</b><br><br>=%{y}<extra></extra>",
         "hovertext": [
          " only",
          " only",
          " only",
          " only",
          " only",
          " number",
          " number",
          " number",
          " go",
          " go",
          " go",
          " go",
          " go",
          " together",
          " together",
          " together",
          " together",
          " together",
          " together",
          " called",
          " called",
          " called",
          " called",
          " called",
          " called",
          " first",
          " first",
          " first",
          " used",
          " used",
          " used",
          " used",
          " within",
          " within",
          " within",
          " way",
          " way",
          " way",
          " way",
          " way",
          " out",
          " out",
          " out",
          " too",
          " too",
          " too",
          " will",
          " will",
          " right",
          " right",
          " right",
          " over",
          " over",
          " over",
          " out",
          " out",
          " out",
          " once",
          " once",
          " her",
          " her",
          " her",
          " her",
          " class",
          " class",
          " class",
          " class",
          " use",
          " use",
          " use",
          " use",
          " much",
          " much",
          " much",
          " much",
          " so",
          " so",
          " so",
          " so",
          " state",
          " state",
          " state",
          " state",
          " RandomRedditor",
          " RandomRedditor",
          " about",
          " about",
          " about",
          " about",
          " about",
          " following",
          " following",
          " following",
          " following",
          " following",
          " of",
          " of",
          " after",
          " after",
          " after",
          " after",
          " after",
          " around",
          " around",
          " around",
          " last",
          " last",
          " last",
          " last",
          " by",
          " by",
          " by",
          " off",
          " off",
          " off",
          " off",
          " down",
          " down",
          " down",
          " down",
          " down",
          " back",
          " back",
          " well",
          " there",
          " there",
          " there",
          " up",
          " up",
          " up",
          " no",
          " no",
          " no",
          " no",
          " after",
          " after",
          " after",
          " after",
          " after",
          " under",
          " under",
          " under",
          " as",
          " as",
          " as",
          " as",
          " issue",
          " issue",
          " issue",
          " issue",
          " close",
          " close",
          " close",
          " won",
          " won",
          " won",
          " high",
          " high",
          " very",
          " very",
          " very",
          " His",
          " His",
          " His",
          " His",
          " of",
          " of",
          " サーティ",
          " サーティ",
          " サーティ",
          " The",
          " The",
          " The",
          " The",
          " power",
          " power"
         ],
         "legendgroup": "",
         "marker": {
          "color": "#636efa",
          "symbol": "circle"
         },
         "mode": "markers",
         "name": "",
         "orientation": "v",
         "showlegend": false,
         "type": "scatter",
         "x": [
          0,
          1,
          2,
          3,
          4,
          5,
          6,
          7,
          8,
          9,
          10,
          11,
          12,
          13,
          14,
          15,
          16,
          17,
          18,
          19,
          20,
          21,
          22,
          23,
          24,
          25,
          26,
          27,
          28,
          29,
          30,
          31,
          32,
          33,
          34,
          35,
          36,
          37,
          38,
          39,
          40,
          41,
          42,
          43,
          44,
          45,
          46,
          47,
          48,
          49,
          50,
          51,
          52,
          53,
          54,
          55,
          56,
          57,
          58,
          59,
          60,
          61,
          62,
          63,
          64,
          65,
          66,
          67,
          68,
          69,
          70,
          71,
          72,
          73,
          74,
          75,
          76,
          77,
          78,
          79,
          80,
          81,
          82,
          83,
          84,
          85,
          86,
          87,
          88,
          89,
          90,
          91,
          92,
          93,
          94,
          95,
          96,
          97,
          98,
          99,
          100,
          101,
          102,
          103,
          104,
          105,
          106,
          107,
          108,
          109,
          110,
          111,
          112,
          113,
          114,
          115,
          116,
          117,
          118,
          119,
          120,
          121,
          122,
          123,
          124,
          125,
          126,
          127,
          128,
          129,
          130,
          131,
          132,
          133,
          134,
          135,
          136,
          137,
          138,
          139,
          140,
          141,
          142,
          143,
          144,
          145,
          146,
          147,
          148,
          149,
          150,
          151,
          152,
          153,
          154,
          155,
          156,
          157,
          158,
          159,
          160,
          161,
          162,
          163,
          164,
          165,
          166,
          167,
          168,
          169,
          170,
          171,
          172,
          173,
          174,
          175
         ],
         "xaxis": "x",
         "y": [
          0,
          0,
          1,
          0.6,
          0.6,
          0.2,
          0.9,
          0.3,
          0,
          0,
          0,
          0,
          0,
          0.9,
          0.3,
          0.1,
          0.7,
          0.9,
          0.5,
          0.6,
          0,
          0.2,
          0.5,
          0.1,
          0.2,
          0.2,
          0.8,
          0.3,
          0,
          0,
          0.9,
          0.3,
          1,
          0.8,
          0.3,
          0.3,
          0,
          0.8,
          0.5,
          0.3,
          0.4,
          1,
          0.6,
          0.4,
          0.2,
          1,
          1,
          1,
          0.1,
          0,
          0,
          1,
          1,
          0.7,
          1,
          0.6,
          0.8,
          0,
          0,
          0.4,
          0.7,
          0.9,
          0.4,
          0.9,
          0.7,
          0.4,
          0.6,
          0,
          0.6,
          0.5,
          0.4,
          0.1,
          0.1,
          0.3,
          0,
          0,
          1,
          0,
          0,
          0.9,
          0.1,
          0,
          0.8,
          0,
          0.9,
          0,
          0,
          0,
          0.6,
          0.3,
          0.5,
          0,
          0.8,
          1,
          0.9,
          0.4,
          0.1,
          0,
          0,
          0.1,
          0.5,
          0.3,
          0.2,
          0.5,
          0.1,
          0.7,
          0,
          0.6,
          0,
          0.2,
          0.5,
          0,
          0,
          0,
          0,
          0.9,
          0,
          0,
          0.1,
          0.7,
          1,
          0.6,
          0,
          0.4,
          0,
          0,
          0,
          0.8,
          0,
          0,
          1,
          0.2,
          0.9,
          0,
          0.9,
          0.4,
          0,
          0,
          0.4,
          0.3,
          1,
          0,
          0,
          0,
          1,
          0.5,
          0.8,
          1,
          0.5,
          0.9,
          0.1,
          0.2,
          0.5,
          0.6,
          0,
          0.2,
          0.8,
          0,
          1,
          1,
          1,
          0.4,
          1,
          0.7,
          0.6,
          0,
          0.2,
          0.9,
          0.7,
          0.2,
          1,
          0,
          0,
          0,
          0.4,
          0.3
         ],
         "yaxis": "y"
        }
       ],
       "layout": {
        "legend": {
         "tracegroupgap": 0
        },
        "template": {
         "data": {
          "bar": [
           {
            "error_x": {
             "color": "#2a3f5f"
            },
            "error_y": {
             "color": "#2a3f5f"
            },
            "marker": {
             "line": {
              "color": "#E5ECF6",
              "width": 0.5
             },
             "pattern": {
              "fillmode": "overlay",
              "size": 10,
              "solidity": 0.2
             }
            },
            "type": "bar"
           }
          ],
          "barpolar": [
           {
            "marker": {
             "line": {
              "color": "#E5ECF6",
              "width": 0.5
             },
             "pattern": {
              "fillmode": "overlay",
              "size": 10,
              "solidity": 0.2
             }
            },
            "type": "barpolar"
           }
          ],
          "carpet": [
           {
            "aaxis": {
             "endlinecolor": "#2a3f5f",
             "gridcolor": "white",
             "linecolor": "white",
             "minorgridcolor": "white",
             "startlinecolor": "#2a3f5f"
            },
            "baxis": {
             "endlinecolor": "#2a3f5f",
             "gridcolor": "white",
             "linecolor": "white",
             "minorgridcolor": "white",
             "startlinecolor": "#2a3f5f"
            },
            "type": "carpet"
           }
          ],
          "choropleth": [
           {
            "colorbar": {
             "outlinewidth": 0,
             "ticks": ""
            },
            "type": "choropleth"
           }
          ],
          "contour": [
           {
            "colorbar": {
             "outlinewidth": 0,
             "ticks": ""
            },
            "colorscale": [
             [
              0,
              "#0d0887"
             ],
             [
              0.1111111111111111,
              "#46039f"
             ],
             [
              0.2222222222222222,
              "#7201a8"
             ],
             [
              0.3333333333333333,
              "#9c179e"
             ],
             [
              0.4444444444444444,
              "#bd3786"
             ],
             [
              0.5555555555555556,
              "#d8576b"
             ],
             [
              0.6666666666666666,
              "#ed7953"
             ],
             [
              0.7777777777777778,
              "#fb9f3a"
             ],
             [
              0.8888888888888888,
              "#fdca26"
             ],
             [
              1,
              "#f0f921"
             ]
            ],
            "type": "contour"
           }
          ],
          "contourcarpet": [
           {
            "colorbar": {
             "outlinewidth": 0,
             "ticks": ""
            },
            "type": "contourcarpet"
           }
          ],
          "heatmap": [
           {
            "colorbar": {
             "outlinewidth": 0,
             "ticks": ""
            },
            "colorscale": [
             [
              0,
              "#0d0887"
             ],
             [
              0.1111111111111111,
              "#46039f"
             ],
             [
              0.2222222222222222,
              "#7201a8"
             ],
             [
              0.3333333333333333,
              "#9c179e"
             ],
             [
              0.4444444444444444,
              "#bd3786"
             ],
             [
              0.5555555555555556,
              "#d8576b"
             ],
             [
              0.6666666666666666,
              "#ed7953"
             ],
             [
              0.7777777777777778,
              "#fb9f3a"
             ],
             [
              0.8888888888888888,
              "#fdca26"
             ],
             [
              1,
              "#f0f921"
             ]
            ],
            "type": "heatmap"
           }
          ],
          "heatmapgl": [
           {
            "colorbar": {
             "outlinewidth": 0,
             "ticks": ""
            },
            "colorscale": [
             [
              0,
              "#0d0887"
             ],
             [
              0.1111111111111111,
              "#46039f"
             ],
             [
              0.2222222222222222,
              "#7201a8"
             ],
             [
              0.3333333333333333,
              "#9c179e"
             ],
             [
              0.4444444444444444,
              "#bd3786"
             ],
             [
              0.5555555555555556,
              "#d8576b"
             ],
             [
              0.6666666666666666,
              "#ed7953"
             ],
             [
              0.7777777777777778,
              "#fb9f3a"
             ],
             [
              0.8888888888888888,
              "#fdca26"
             ],
             [
              1,
              "#f0f921"
             ]
            ],
            "type": "heatmapgl"
           }
          ],
          "histogram": [
           {
            "marker": {
             "pattern": {
              "fillmode": "overlay",
              "size": 10,
              "solidity": 0.2
             }
            },
            "type": "histogram"
           }
          ],
          "histogram2d": [
           {
            "colorbar": {
             "outlinewidth": 0,
             "ticks": ""
            },
            "colorscale": [
             [
              0,
              "#0d0887"
             ],
             [
              0.1111111111111111,
              "#46039f"
             ],
             [
              0.2222222222222222,
              "#7201a8"
             ],
             [
              0.3333333333333333,
              "#9c179e"
             ],
             [
              0.4444444444444444,
              "#bd3786"
             ],
             [
              0.5555555555555556,
              "#d8576b"
             ],
             [
              0.6666666666666666,
              "#ed7953"
             ],
             [
              0.7777777777777778,
              "#fb9f3a"
             ],
             [
              0.8888888888888888,
              "#fdca26"
             ],
             [
              1,
              "#f0f921"
             ]
            ],
            "type": "histogram2d"
           }
          ],
          "histogram2dcontour": [
           {
            "colorbar": {
             "outlinewidth": 0,
             "ticks": ""
            },
            "colorscale": [
             [
              0,
              "#0d0887"
             ],
             [
              0.1111111111111111,
              "#46039f"
             ],
             [
              0.2222222222222222,
              "#7201a8"
             ],
             [
              0.3333333333333333,
              "#9c179e"
             ],
             [
              0.4444444444444444,
              "#bd3786"
             ],
             [
              0.5555555555555556,
              "#d8576b"
             ],
             [
              0.6666666666666666,
              "#ed7953"
             ],
             [
              0.7777777777777778,
              "#fb9f3a"
             ],
             [
              0.8888888888888888,
              "#fdca26"
             ],
             [
              1,
              "#f0f921"
             ]
            ],
            "type": "histogram2dcontour"
           }
          ],
          "mesh3d": [
           {
            "colorbar": {
             "outlinewidth": 0,
             "ticks": ""
            },
            "type": "mesh3d"
           }
          ],
          "parcoords": [
           {
            "line": {
             "colorbar": {
              "outlinewidth": 0,
              "ticks": ""
             }
            },
            "type": "parcoords"
           }
          ],
          "pie": [
           {
            "automargin": true,
            "type": "pie"
           }
          ],
          "scatter": [
           {
            "fillpattern": {
             "fillmode": "overlay",
             "size": 10,
             "solidity": 0.2
            },
            "type": "scatter"
           }
          ],
          "scatter3d": [
           {
            "line": {
             "colorbar": {
              "outlinewidth": 0,
              "ticks": ""
             }
            },
            "marker": {
             "colorbar": {
              "outlinewidth": 0,
              "ticks": ""
             }
            },
            "type": "scatter3d"
           }
          ],
          "scattercarpet": [
           {
            "marker": {
             "colorbar": {
              "outlinewidth": 0,
              "ticks": ""
             }
            },
            "type": "scattercarpet"
           }
          ],
          "scattergeo": [
           {
            "marker": {
             "colorbar": {
              "outlinewidth": 0,
              "ticks": ""
             }
            },
            "type": "scattergeo"
           }
          ],
          "scattergl": [
           {
            "marker": {
             "colorbar": {
              "outlinewidth": 0,
              "ticks": ""
             }
            },
            "type": "scattergl"
           }
          ],
          "scattermapbox": [
           {
            "marker": {
             "colorbar": {
              "outlinewidth": 0,
              "ticks": ""
             }
            },
            "type": "scattermapbox"
           }
          ],
          "scatterpolar": [
           {
            "marker": {
             "colorbar": {
              "outlinewidth": 0,
              "ticks": ""
             }
            },
            "type": "scatterpolar"
           }
          ],
          "scatterpolargl": [
           {
            "marker": {
             "colorbar": {
              "outlinewidth": 0,
              "ticks": ""
             }
            },
            "type": "scatterpolargl"
           }
          ],
          "scatterternary": [
           {
            "marker": {
             "colorbar": {
              "outlinewidth": 0,
              "ticks": ""
             }
            },
            "type": "scatterternary"
           }
          ],
          "surface": [
           {
            "colorbar": {
             "outlinewidth": 0,
             "ticks": ""
            },
            "colorscale": [
             [
              0,
              "#0d0887"
             ],
             [
              0.1111111111111111,
              "#46039f"
             ],
             [
              0.2222222222222222,
              "#7201a8"
             ],
             [
              0.3333333333333333,
              "#9c179e"
             ],
             [
              0.4444444444444444,
              "#bd3786"
             ],
             [
              0.5555555555555556,
              "#d8576b"
             ],
             [
              0.6666666666666666,
              "#ed7953"
             ],
             [
              0.7777777777777778,
              "#fb9f3a"
             ],
             [
              0.8888888888888888,
              "#fdca26"
             ],
             [
              1,
              "#f0f921"
             ]
            ],
            "type": "surface"
           }
          ],
          "table": [
           {
            "cells": {
             "fill": {
              "color": "#EBF0F8"
             },
             "line": {
              "color": "white"
             }
            },
            "header": {
             "fill": {
              "color": "#C8D4E3"
             },
             "line": {
              "color": "white"
             }
            },
            "type": "table"
           }
          ]
         },
         "layout": {
          "annotationdefaults": {
           "arrowcolor": "#2a3f5f",
           "arrowhead": 0,
           "arrowwidth": 1
          },
          "autotypenumbers": "strict",
          "coloraxis": {
           "colorbar": {
            "outlinewidth": 0,
            "ticks": ""
           }
          },
          "colorscale": {
           "diverging": [
            [
             0,
             "#8e0152"
            ],
            [
             0.1,
             "#c51b7d"
            ],
            [
             0.2,
             "#de77ae"
            ],
            [
             0.3,
             "#f1b6da"
            ],
            [
             0.4,
             "#fde0ef"
            ],
            [
             0.5,
             "#f7f7f7"
            ],
            [
             0.6,
             "#e6f5d0"
            ],
            [
             0.7,
             "#b8e186"
            ],
            [
             0.8,
             "#7fbc41"
            ],
            [
             0.9,
             "#4d9221"
            ],
            [
             1,
             "#276419"
            ]
           ],
           "sequential": [
            [
             0,
             "#0d0887"
            ],
            [
             0.1111111111111111,
             "#46039f"
            ],
            [
             0.2222222222222222,
             "#7201a8"
            ],
            [
             0.3333333333333333,
             "#9c179e"
            ],
            [
             0.4444444444444444,
             "#bd3786"
            ],
            [
             0.5555555555555556,
             "#d8576b"
            ],
            [
             0.6666666666666666,
             "#ed7953"
            ],
            [
             0.7777777777777778,
             "#fb9f3a"
            ],
            [
             0.8888888888888888,
             "#fdca26"
            ],
            [
             1,
             "#f0f921"
            ]
           ],
           "sequentialminus": [
            [
             0,
             "#0d0887"
            ],
            [
             0.1111111111111111,
             "#46039f"
            ],
            [
             0.2222222222222222,
             "#7201a8"
            ],
            [
             0.3333333333333333,
             "#9c179e"
            ],
            [
             0.4444444444444444,
             "#bd3786"
            ],
            [
             0.5555555555555556,
             "#d8576b"
            ],
            [
             0.6666666666666666,
             "#ed7953"
            ],
            [
             0.7777777777777778,
             "#fb9f3a"
            ],
            [
             0.8888888888888888,
             "#fdca26"
            ],
            [
             1,
             "#f0f921"
            ]
           ]
          },
          "colorway": [
           "#636efa",
           "#EF553B",
           "#00cc96",
           "#ab63fa",
           "#FFA15A",
           "#19d3f3",
           "#FF6692",
           "#B6E880",
           "#FF97FF",
           "#FECB52"
          ],
          "font": {
           "color": "#2a3f5f"
          },
          "geo": {
           "bgcolor": "white",
           "lakecolor": "white",
           "landcolor": "#E5ECF6",
           "showlakes": true,
           "showland": true,
           "subunitcolor": "white"
          },
          "hoverlabel": {
           "align": "left"
          },
          "hovermode": "closest",
          "mapbox": {
           "style": "light"
          },
          "paper_bgcolor": "white",
          "plot_bgcolor": "#E5ECF6",
          "polar": {
           "angularaxis": {
            "gridcolor": "white",
            "linecolor": "white",
            "ticks": ""
           },
           "bgcolor": "#E5ECF6",
           "radialaxis": {
            "gridcolor": "white",
            "linecolor": "white",
            "ticks": ""
           }
          },
          "scene": {
           "xaxis": {
            "backgroundcolor": "#E5ECF6",
            "gridcolor": "white",
            "gridwidth": 2,
            "linecolor": "white",
            "showbackground": true,
            "ticks": "",
            "zerolinecolor": "white"
           },
           "yaxis": {
            "backgroundcolor": "#E5ECF6",
            "gridcolor": "white",
            "gridwidth": 2,
            "linecolor": "white",
            "showbackground": true,
            "ticks": "",
            "zerolinecolor": "white"
           },
           "zaxis": {
            "backgroundcolor": "#E5ECF6",
            "gridcolor": "white",
            "gridwidth": 2,
            "linecolor": "white",
            "showbackground": true,
            "ticks": "",
            "zerolinecolor": "white"
           }
          },
          "shapedefaults": {
           "line": {
            "color": "#2a3f5f"
           }
          },
          "ternary": {
           "aaxis": {
            "gridcolor": "white",
            "linecolor": "white",
            "ticks": ""
           },
           "baxis": {
            "gridcolor": "white",
            "linecolor": "white",
            "ticks": ""
           },
           "bgcolor": "#E5ECF6",
           "caxis": {
            "gridcolor": "white",
            "linecolor": "white",
            "ticks": ""
           }
          },
          "title": {
           "x": 0.05
          },
          "xaxis": {
           "automargin": true,
           "gridcolor": "white",
           "linecolor": "white",
           "ticks": "",
           "title": {
            "standoff": 15
           },
           "zerolinecolor": "white",
           "zerolinewidth": 2
          },
          "yaxis": {
           "automargin": true,
           "gridcolor": "white",
           "linecolor": "white",
           "ticks": "",
           "title": {
            "standoff": 15
           },
           "zerolinecolor": "white",
           "zerolinewidth": 2
          }
         }
        },
        "title": {
         "text": "Accuracy of Positive Generation (Post-Iteration)"
        },
        "xaxis": {
         "anchor": "y",
         "domain": [
          0,
          1
         ],
         "title": {
          "text": ""
         }
        },
        "yaxis": {
         "anchor": "x",
         "domain": [
          0,
          1
         ],
         "range": [
          -0.1,
          1.1
         ],
         "title": {
          "text": ""
         }
        }
       }
      }
     },
     "metadata": {},
     "output_type": "display_data"
    }
   ],
   "source": [
    "scatter(np.arange(len(accuracies_positive)), list(accuracies_positive.values()), hover_name=labels, title=\"Accuracy of Positive Generation (Post-Iteration)\", range_y=[-0.1,1.1]) # add hover"
   ]
  },
  {
   "cell_type": "code",
   "execution_count": null,
   "metadata": {},
   "outputs": [],
   "source": []
  }
 ],
 "metadata": {
  "kernelspec": {
   "display_name": "aan",
   "language": "python",
   "name": "python3"
  },
  "language_info": {
   "codemirror_mode": {
    "name": "ipython",
    "version": 3
   },
   "file_extension": ".py",
   "mimetype": "text/x-python",
   "name": "python",
   "nbconvert_exporter": "python",
   "pygments_lexer": "ipython3",
   "version": "3.10.9"
  },
  "orig_nbformat": 4
 },
 "nbformat": 4,
 "nbformat_minor": 2
}
